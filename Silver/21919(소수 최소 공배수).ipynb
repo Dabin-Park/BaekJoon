{
  "nbformat": 4,
  "nbformat_minor": 0,
  "metadata": {
    "colab": {
      "provenance": [],
      "authorship_tag": "ABX9TyOuM1dRrEZokV9UDhu4c+9z",
      "include_colab_link": true
    },
    "kernelspec": {
      "name": "python3",
      "display_name": "Python 3"
    },
    "language_info": {
      "name": "python"
    }
  },
  "cells": [
    {
      "cell_type": "markdown",
      "metadata": {
        "id": "view-in-github",
        "colab_type": "text"
      },
      "source": [
        "<a href=\"https://colab.research.google.com/github/Dabin-Park/BaekJoon/blob/main/Silver/21919(%EC%86%8C%EC%88%98%20%EC%B5%9C%EC%86%8C%20%EA%B3%B5%EB%B0%B0%EC%88%98).ipynb\" target=\"_parent\"><img src=\"https://colab.research.google.com/assets/colab-badge.svg\" alt=\"Open In Colab\"/></a>"
      ]
    },
    {
      "cell_type": "code",
      "execution_count": 1,
      "metadata": {
        "colab": {
          "base_uri": "https://localhost:8080/"
        },
        "id": "YHFUYXj24MLS",
        "outputId": "5d07cd03-c8fd-460e-d69f-118cff59976e"
      },
      "outputs": [
        {
          "output_type": "stream",
          "name": "stdout",
          "text": [
            "5\n",
            "2 3 5 6 8\n",
            "30\n"
          ]
        }
      ],
      "source": [
        "def sol(N):\n",
        "    Numbers = set(map(int,input().split()))\n",
        "    max_ = max(Numbers)\n",
        "    primes = [1]*(max_+1)\n",
        "    primes[0] = primes[1] = 0\n",
        "    for i in range(4,max_ + 1,2):\n",
        "        primes[i] = 0\n",
        "    for i in range(3,int(max_**0.5)+1,2):\n",
        "        if primes[i]:\n",
        "            for j in range(3*i,max_+1,i):\n",
        "                primes[j] = 0\n",
        "    num = 1\n",
        "    for n in Numbers:\n",
        "        if primes[n]:\n",
        "            num *= n\n",
        "    print(num if num > 1 else -1)\n",
        "    \n",
        "sol(int(input()))  "
      ]
    },
    {
      "cell_type": "code",
      "source": [
        "def sol(N):\n",
        "    num = 1\n",
        "    for n in set(map(int,input().split())):\n",
        "        if n == 2:\n",
        "            num *= 2\n",
        "        elif n%2:\n",
        "            t = 1\n",
        "            for i in range(3,int(n**0.5)+1,2):\n",
        "                if n%i == 0:\n",
        "                    t = 0\n",
        "                    break\n",
        "            if t:\n",
        "                num *= n\n",
        "    print(num if num > 1 else -1)\n",
        "    \n",
        "sol(int(input()))"
      ],
      "metadata": {
        "colab": {
          "base_uri": "https://localhost:8080/"
        },
        "id": "myHqCuZhEU36",
        "outputId": "ca7a712f-1abc-4d82-f414-c985d8cdca0c"
      },
      "execution_count": 2,
      "outputs": [
        {
          "output_type": "stream",
          "name": "stdout",
          "text": [
            "5\n",
            "2 3 5 6 8\n",
            "30\n"
          ]
        }
      ]
    }
  ]
}