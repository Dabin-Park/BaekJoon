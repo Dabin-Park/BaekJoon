{
  "nbformat": 4,
  "nbformat_minor": 0,
  "metadata": {
    "colab": {
      "name": "4470(줄번호).ipynb",
      "provenance": [],
      "collapsed_sections": [],
      "authorship_tag": "ABX9TyPpaAYBYr3/kbsukX0rXRww",
      "include_colab_link": true
    },
    "kernelspec": {
      "name": "python3",
      "display_name": "Python 3"
    },
    "language_info": {
      "name": "python"
    }
  },
  "cells": [
    {
      "cell_type": "markdown",
      "metadata": {
        "id": "view-in-github",
        "colab_type": "text"
      },
      "source": [
        "<a href=\"https://colab.research.google.com/github/Dabin-Park/BaekJoon/blob/main/Bronze/4470(%EC%A4%84%EB%B2%88%ED%98%B8).ipynb\" target=\"_parent\"><img src=\"https://colab.research.google.com/assets/colab-badge.svg\" alt=\"Open In Colab\"/></a>"
      ]
    },
    {
      "cell_type": "code",
      "execution_count": null,
      "metadata": {
        "colab": {
          "base_uri": "https://localhost:8080/"
        },
        "id": "V2C1sM_6QvYk",
        "outputId": "7b80eaa3-a14a-4060-9c01-e5713e783f09"
      },
      "outputs": [
        {
          "output_type": "stream",
          "name": "stdout",
          "text": [
            "5\n",
            "Lionel Cosgrove\n",
            "1. Lionel Cosgrove\n",
            "Alice\n",
            "2. Alice\n",
            "Columbus and Tallahassee\n",
            "3. Columbus and Tallahassee\n",
            "Shaun and Ed\n",
            "4. Shaun and Ed\n",
            "Fido\n",
            "5. Fido\n"
          ]
        }
      ],
      "source": [
        "N = int(input())\n",
        "for i in range(N):\n",
        "    print(f'{i+1}. {input()}')"
      ]
    }
  ]
}