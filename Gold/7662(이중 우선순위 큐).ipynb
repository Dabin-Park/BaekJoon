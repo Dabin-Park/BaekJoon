{
  "nbformat": 4,
  "nbformat_minor": 0,
  "metadata": {
    "colab": {
      "name": "7662(이중 우선순위 큐).ipynb",
      "provenance": [],
      "authorship_tag": "ABX9TyMtUW/Aa4Ah34BWWxCpbZO6",
      "include_colab_link": true
    },
    "kernelspec": {
      "name": "python3",
      "display_name": "Python 3"
    },
    "language_info": {
      "name": "python"
    }
  },
  "cells": [
    {
      "cell_type": "markdown",
      "metadata": {
        "id": "view-in-github",
        "colab_type": "text"
      },
      "source": [
        "<a href=\"https://colab.research.google.com/github/Dabin-Park/BaekJoon/blob/main/Gold/7662(%EC%9D%B4%EC%A4%91%20%EC%9A%B0%EC%84%A0%EC%88%9C%EC%9C%84%20%ED%81%90).ipynb\" target=\"_parent\"><img src=\"https://colab.research.google.com/assets/colab-badge.svg\" alt=\"Open In Colab\"/></a>"
      ]
    },
    {
      "cell_type": "code",
      "source": [
        "import heapq\n",
        "\n",
        "for _ in range(int(input())):\n",
        "    minheap = []\n",
        "    maxheap = []\n",
        "    Dict = {}\n",
        "    num = 0\n",
        "    for _ in range(int(input())):\n",
        "        A = input().split()\n",
        "        if A[0] == 'I':\n",
        "            heapq.heappush(minheap,int(A[1]))\n",
        "            heapq.heappush(maxheap,-int(A[1]))\n",
        "            num += 1\n",
        "            if A[1] in Dict:\n",
        "                Dict[A[1]] += 1\n",
        "            else:\n",
        "                Dict[A[1]] = 1\n",
        "        else:\n",
        "            if num:\n",
        "                if A[1] == '1':\n",
        "                    while True:\n",
        "                        a = str(-heapq.heappop(maxheap))\n",
        "                        if Dict[a]:\n",
        "                            Dict[a] -= 1\n",
        "                            break      \n",
        "                else:\n",
        "                    while True:\n",
        "                        a = str(heapq.heappop(minheap))\n",
        "                        if Dict[a]:\n",
        "                            Dict[a] -= 1\n",
        "                            break \n",
        "                num -= 1\n",
        "    if num:\n",
        "        while True:\n",
        "            a = str(-heapq.heappop(maxheap))\n",
        "            if Dict[a]:\n",
        "                print(a, end = \" \")\n",
        "                break\n",
        "            \n",
        "        while True:\n",
        "            a = str(heapq.heappop(minheap))\n",
        "            if Dict[a]:\n",
        "                print(a)\n",
        "                break\n",
        "    else:\n",
        "        print('EMPTY')"
      ],
      "metadata": {
        "colab": {
          "base_uri": "https://localhost:8080/"
        },
        "id": "4NDvOBDhbpRD",
        "outputId": "bc42b53d-620f-4ec5-89dc-08d2c96e600d"
      },
      "execution_count": 1,
      "outputs": [
        {
          "output_type": "stream",
          "name": "stdout",
          "text": [
            "2\n",
            "7\n",
            "I 16\n",
            "I -5643\n",
            "D -1\n",
            "D 1\n",
            "D 1\n",
            "I 123\n",
            "D -1\n",
            "EMPTY\n",
            "9\n",
            "I -45\n",
            "I 653\n",
            "D 1\n",
            "I -642\n",
            "I 45\n",
            "I 97\n",
            "D 1\n",
            "D -1\n",
            "I 333\n",
            "333 -45\n"
          ]
        }
      ]
    },
    {
      "cell_type": "code",
      "source": [
        "import heapq\n",
        "\n",
        "def find(heap, Dict, a, b):\n",
        "    while True:\n",
        "        x = str(b*heapq.heappop(heap))\n",
        "        if Dict[x]:\n",
        "            if a:\n",
        "                Dict[x] -= 1\n",
        "                return Dict\n",
        "            else:\n",
        "                return print(x,end = \" \")\n",
        "\n",
        "for _ in range(int(input())):\n",
        "    minheap = []\n",
        "    maxheap = []\n",
        "    Dict = {}\n",
        "    num = 0\n",
        "    for _ in range(int(input())):\n",
        "        A = input().split()\n",
        "        if A[0] == 'I':\n",
        "            heapq.heappush(minheap,int(A[1]))\n",
        "            heapq.heappush(maxheap,-int(A[1]))\n",
        "            num += 1\n",
        "            if A[1] in Dict:\n",
        "                Dict[A[1]] += 1\n",
        "            else:\n",
        "                Dict[A[1]] = 1\n",
        "        else:\n",
        "            if num:\n",
        "                if A[1] == '1':\n",
        "                    Dict = find(maxheap,Dict,1,-1)     \n",
        "                else:\n",
        "                    Dict = find(minheap,Dict,1,1)\n",
        "                num -= 1\n",
        "    if num:\n",
        "        find(maxheap,Dict,0,-1)\n",
        "        find(minheap,Dict,0,1)\n",
        "    else:\n",
        "        print('EMPTY')"
      ],
      "metadata": {
        "colab": {
          "base_uri": "https://localhost:8080/"
        },
        "id": "ZDgLbU8x4-ky",
        "outputId": "c5f07d4f-e4c3-44dd-8b1a-87bc21ec0ecc"
      },
      "execution_count": 2,
      "outputs": [
        {
          "output_type": "stream",
          "name": "stdout",
          "text": [
            "2\n",
            "7\n",
            "I 16\n",
            "I -5643\n",
            "D -1\n",
            "D 1\n",
            "D 1\n",
            "I 123\n",
            "D -1\n",
            "EMPTY\n",
            "9\n",
            "I -45\n",
            "I 653\n",
            "D 1\n",
            "I -642\n",
            "I 45\n",
            "I 97\n",
            "D 1\n",
            "D -1\n",
            "I 333\n",
            "333 -45 "
          ]
        }
      ]
    }
  ]
}