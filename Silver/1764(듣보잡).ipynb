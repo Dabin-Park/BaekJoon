{
  "nbformat": 4,
  "nbformat_minor": 0,
  "metadata": {
    "colab": {
      "name": "1764(듣보잡).ipynb",
      "provenance": [],
      "authorship_tag": "ABX9TyNT92EwLOviG9GrnqhdzWQa",
      "include_colab_link": true
    },
    "kernelspec": {
      "name": "python3",
      "display_name": "Python 3"
    },
    "language_info": {
      "name": "python"
    }
  },
  "cells": [
    {
      "cell_type": "markdown",
      "metadata": {
        "id": "view-in-github",
        "colab_type": "text"
      },
      "source": [
        "<a href=\"https://colab.research.google.com/github/Dabin-Park/BaekJoon/blob/main/Silver/1764(%EB%93%A3%EB%B3%B4%EC%9E%A1).ipynb\" target=\"_parent\"><img src=\"https://colab.research.google.com/assets/colab-badge.svg\" alt=\"Open In Colab\"/></a>"
      ]
    },
    {
      "cell_type": "code",
      "source": [
        "N,M = map(int,input().split())\n",
        "Not_Hear = {input(): True for _ in range(N)}\n",
        "Not_Hear_See = []\n",
        "for _ in range(M):\n",
        "    name = input()\n",
        "    if name in Not_Hear:\n",
        "        Not_Hear_See.append(name)\n",
        "        \n",
        "Not_Hear_See.sort(key = str)\n",
        "\n",
        "print(len(Not_Hear_See))\n",
        "print(\"\\n\".join(Not_Hear_See))"
      ],
      "metadata": {
        "id": "CGdbDyPnpFQk",
        "outputId": "67e5bb04-3612-4755-b8c6-7d8c922d5fd0",
        "colab": {
          "base_uri": "https://localhost:8080/"
        }
      },
      "execution_count": 4,
      "outputs": [
        {
          "output_type": "stream",
          "name": "stdout",
          "text": [
            "3 4\n",
            "ohhenrie\n",
            "charlie\n",
            "baesangwook\n",
            "obama\n",
            "baesangwook\n",
            "ohhenrie\n",
            "clinton\n",
            "2\n",
            "baesangwook\n",
            "ohhenrie\n"
          ]
        }
      ]
    },
    {
      "cell_type": "code",
      "source": [
        "N,M = map(int, input().split())\n",
        "Name_List = [input() for _ in range(N+M)]\n",
        "\n",
        "Not_Hear_set = set(Name_List[:N])\n",
        "Not_See_set = set(Name_List[N:])\n",
        "\n",
        "Not_Hear_See = list(Not_Hear_set & Not_See_set)\n",
        "Not_Hear_See.sort(key = str)\n",
        "\n",
        "print(len(Not_Hear_See))\n",
        "print(\"\\n\".join(Not_Hear_See))"
      ],
      "metadata": {
        "colab": {
          "base_uri": "https://localhost:8080/"
        },
        "id": "lteAG2TVcSLZ",
        "outputId": "6da8d4c5-962a-4441-c2a0-8627f717e91b"
      },
      "execution_count": 5,
      "outputs": [
        {
          "output_type": "stream",
          "name": "stdout",
          "text": [
            "3 4\n",
            "ohhenrie\n",
            "charlie\n",
            "baesangwook\n",
            "obama\n",
            "baesangwook\n",
            "ohhenrie\n",
            "clinton\n",
            "2\n",
            "baesangwook\n",
            "ohhenrie\n"
          ]
        }
      ]
    }
  ]
}