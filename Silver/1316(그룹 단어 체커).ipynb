{
  "nbformat": 4,
  "nbformat_minor": 0,
  "metadata": {
    "colab": {
      "name": "백준1316번 .ipynb",
      "provenance": [],
      "authorship_tag": "ABX9TyM3nlS/iAPDe71ZWYKLxVw4"
    },
    "kernelspec": {
      "name": "python3",
      "display_name": "Python 3"
    },
    "language_info": {
      "name": "python"
    }
  },
  "cells": [
    {
      "cell_type": "code",
      "execution_count": 6,
      "metadata": {
        "colab": {
          "base_uri": "https://localhost:8080/"
        },
        "id": "FD09tf9S-ot0",
        "outputId": "e68223b4-1fd7-40b7-8103-a40c6bc4e278"
      },
      "outputs": [
        {
          "output_type": "stream",
          "name": "stdout",
          "text": [
            "4\n",
            "aba\n",
            "abab\n",
            "abcabc\n",
            "a\n",
            "1\n"
          ]
        }
      ],
      "source": [
        "# 함수 사용 & 처음짠 코드\n",
        "def T(a,i):\n",
        "    if a[i] == a[i+1]:\n",
        "        s = 1\n",
        "    else :\n",
        "        s = 0\n",
        "    return s\n",
        "\n",
        "a = int(input())\n",
        "num = 0\n",
        "\n",
        "for _ in range(a):\n",
        "    A = input()\n",
        "    for i in range(len(A)):\n",
        "        if A[i] in A[i+1:]:\n",
        "            s = T(A,i)\n",
        "            if s ==0:\n",
        "                break;\n",
        "                \n",
        "        else :\n",
        "            s = 1\n",
        "          \n",
        "\n",
        "    num += s    \n",
        "print(num)\n",
        "\n"
      ]
    },
    {
      "cell_type": "code",
      "source": [
        "# 함수 사용 & 두번째 짠 코드\n",
        "def T(a,i):\n",
        "    if a[i] == a[i+1]:\n",
        "        s = 1\n",
        "    else :\n",
        "        s = 0\n",
        "    return s\n",
        "\n",
        "a = int(input())\n",
        "num = 0\n",
        "\n",
        "for _ in range(a):\n",
        "    A = input()\n",
        "    s = 1\n",
        "    for i in range(len(A)):\n",
        "        if s == 0:\n",
        "            break;\n",
        "        elif A[i] in A[i+1:]:\n",
        "            s = T(A,i)\n",
        "            \n",
        "    num += s    \n",
        "print(num)\n",
        "\n"
      ],
      "metadata": {
        "colab": {
          "base_uri": "https://localhost:8080/"
        },
        "id": "0kb6TOnaLZH8",
        "outputId": "ac82c4ac-25c1-423b-bd8d-01b689a2d805"
      },
      "execution_count": 8,
      "outputs": [
        {
          "output_type": "stream",
          "name": "stdout",
          "text": [
            "4\n",
            "aba\n",
            "abab\n",
            "abcabc\n",
            "a\n",
            "1\n"
          ]
        }
      ]
    },
    {
      "cell_type": "code",
      "source": [
        "#두번째로 짠거 함수 제거 \n",
        "a = int(input())\n",
        "num = 0\n",
        "\n",
        "for _ in range(a):\n",
        "    A = input()\n",
        "    s = 1\n",
        "    for i in range(len(A)):\n",
        "        if s == 0:\n",
        "            break;\n",
        "        elif A[i] in A[i+1:]:\n",
        "            if A[i] == A[i+1]:\n",
        "                s = 1\n",
        "            else :\n",
        "                s = 0    \n",
        "    num += s    \n",
        "print(num)\n"
      ],
      "metadata": {
        "colab": {
          "base_uri": "https://localhost:8080/"
        },
        "id": "t91CxGpxL0hE",
        "outputId": "70f22e8b-2f27-49c4-a734-6967e5d837da"
      },
      "execution_count": 10,
      "outputs": [
        {
          "output_type": "stream",
          "name": "stdout",
          "text": [
            "4\n",
            "aba\n",
            "abab\n",
            "abcabc\n",
            "a\n",
            "1\n"
          ]
        }
      ]
    }
  ]
}
