{
  "nbformat": 4,
  "nbformat_minor": 0,
  "metadata": {
    "colab": {
      "provenance": [],
      "collapsed_sections": [],
      "authorship_tag": "ABX9TyMCVlLzo0ZiFaDdnPKBq5pe",
      "include_colab_link": true
    },
    "kernelspec": {
      "name": "python3",
      "display_name": "Python 3"
    },
    "language_info": {
      "name": "python"
    }
  },
  "cells": [
    {
      "cell_type": "markdown",
      "metadata": {
        "id": "view-in-github",
        "colab_type": "text"
      },
      "source": [
        "<a href=\"https://colab.research.google.com/github/Dabin-Park/BaekJoon/blob/main/Bronze/1032(%EB%AA%85%EB%A0%B9%ED%94%84%EB%A1%AC%ED%94%84%ED%8A%B8).ipynb\" target=\"_parent\"><img src=\"https://colab.research.google.com/assets/colab-badge.svg\" alt=\"Open In Colab\"/></a>"
      ]
    },
    {
      "cell_type": "code",
      "source": [
        "N = int(input())\n",
        "Dir = [input().strip() for _ in range(N)]\n",
        "\n",
        "for i in range(len(Dir[0])):\n",
        "    a,t = Dir[0][i],1\n",
        "    for j in range(1,N):\n",
        "        if a != Dir[j][i]:\n",
        "            t = 0\n",
        "            break\n",
        "    if t:\n",
        "        print(a,end = \"\")\n",
        "    else:\n",
        "        print('?',end = \"\")                        "
      ],
      "metadata": {
        "id": "ZFrLikbd4n2z",
        "outputId": "23a3b934-e510-434f-f700-f3ff91d45a76",
        "colab": {
          "base_uri": "https://localhost:8080/"
        }
      },
      "execution_count": 1,
      "outputs": [
        {
          "output_type": "stream",
          "name": "stdout",
          "text": [
            "3\n",
            "config.sys\n",
            "config.inf\n",
            "configures\n",
            "config????"
          ]
        }
      ]
    }
  ]
}