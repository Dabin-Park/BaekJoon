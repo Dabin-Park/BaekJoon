{
  "nbformat": 4,
  "nbformat_minor": 0,
  "metadata": {
    "colab": {
      "name": "1065(한수).ipynb",
      "provenance": [],
      "authorship_tag": "ABX9TyMe4Ul2RWZOw5Glq5KvuraS",
      "include_colab_link": true
    },
    "kernelspec": {
      "name": "python3",
      "display_name": "Python 3"
    },
    "language_info": {
      "name": "python"
    }
  },
  "cells": [
    {
      "cell_type": "markdown",
      "metadata": {
        "id": "view-in-github",
        "colab_type": "text"
      },
      "source": [
        "<a href=\"https://colab.research.google.com/github/Dabin-Park/BaekJoon/blob/main/Silver/1065(%ED%95%9C%EC%88%98).ipynb\" target=\"_parent\"><img src=\"https://colab.research.google.com/assets/colab-badge.svg\" alt=\"Open In Colab\"/></a>"
      ]
    },
    {
      "cell_type": "code",
      "execution_count": 1,
      "metadata": {
        "colab": {
          "base_uri": "https://localhost:8080/"
        },
        "id": "EnkvcfZwuQ9T",
        "outputId": "345ade1b-0b68-45ef-bfa7-c2b31cbcd4de"
      },
      "outputs": [
        {
          "output_type": "stream",
          "name": "stdout",
          "text": [
            "110\n",
            "99\n"
          ]
        }
      ],
      "source": [
        "N = int(input())\n",
        "\n",
        "n = 99\n",
        "\n",
        "if N < 100:\n",
        "    n = N\n",
        "else :\n",
        "    for i in range(100,N+1):\n",
        "        a = i //100\n",
        "        a1 = 100*a\n",
        "        b = (i-a1)//10\n",
        "        b1 = 10*b\n",
        "        c = (i-a1-b1)\n",
        "        if a-b == b-c:\n",
        "            n += 1\n",
        "        \n",
        "print(n)"
      ]
    },
    {
      "cell_type": "code",
      "source": [
        "def num(A):\n",
        "    n = 99\n",
        "    if A < 100:\n",
        "        n = A\n",
        "    else:\n",
        "        for i in range(100,A+1):\n",
        "            b = list(map(int,str(i)))\n",
        "            if b[0]-b[1] == b[1]-b[2]:\n",
        "                n += 1\n",
        "    print(n)\n",
        "num(int(input()))"
      ],
      "metadata": {
        "colab": {
          "base_uri": "https://localhost:8080/"
        },
        "id": "hf34-BbZuZoV",
        "outputId": "996a4050-d232-43e6-9e59-01120e4a5a0e"
      },
      "execution_count": 2,
      "outputs": [
        {
          "output_type": "stream",
          "name": "stdout",
          "text": [
            "110\n",
            "99\n"
          ]
        }
      ]
    }
  ]
}