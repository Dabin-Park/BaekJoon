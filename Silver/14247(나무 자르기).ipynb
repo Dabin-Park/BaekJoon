{
  "nbformat": 4,
  "nbformat_minor": 0,
  "metadata": {
    "colab": {
      "provenance": [],
      "authorship_tag": "ABX9TyPvCX+N02cMo5nbEmAbAcFc",
      "include_colab_link": true
    },
    "kernelspec": {
      "name": "python3",
      "display_name": "Python 3"
    },
    "language_info": {
      "name": "python"
    }
  },
  "cells": [
    {
      "cell_type": "markdown",
      "metadata": {
        "id": "view-in-github",
        "colab_type": "text"
      },
      "source": [
        "<a href=\"https://colab.research.google.com/github/Dabin-Park/BaekJoon/blob/main/Silver/14247(%EB%82%98%EB%AC%B4%20%EC%9E%90%EB%A5%B4%EA%B8%B0).ipynb\" target=\"_parent\"><img src=\"https://colab.research.google.com/assets/colab-badge.svg\" alt=\"Open In Colab\"/></a>"
      ]
    },
    {
      "cell_type": "code",
      "source": [
        "def sol():\n",
        "    n = int(input())\n",
        "    ans = sum(map(int,input().split()))\n",
        "    UP = list(map(int, input().split()))\n",
        "    \n",
        "    UP.sort()\n",
        "    for i in range(1,n):\n",
        "        ans += UP[i]*i\n",
        "    print(ans)\n",
        "sol()"
      ],
      "metadata": {
        "colab": {
          "base_uri": "https://localhost:8080/"
        },
        "id": "Wf1zqg3P9ONw",
        "outputId": "808e9eae-b80b-4f12-94a1-2b435b3b59fa"
      },
      "execution_count": 1,
      "outputs": [
        {
          "output_type": "stream",
          "name": "stdout",
          "text": [
            "5\n",
            "1 3 2 4 6\n",
            "2 7 3 4 1\n",
            "64\n"
          ]
        }
      ]
    }
  ]
}