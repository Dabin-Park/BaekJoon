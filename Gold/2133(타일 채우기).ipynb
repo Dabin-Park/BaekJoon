{
  "nbformat": 4,
  "nbformat_minor": 0,
  "metadata": {
    "colab": {
      "name": "2133(타일 채우기).ipynb",
      "provenance": [],
      "authorship_tag": "ABX9TyNmSVXHi8tHwqTrXKlTqTsG",
      "include_colab_link": true
    },
    "kernelspec": {
      "name": "python3",
      "display_name": "Python 3"
    },
    "language_info": {
      "name": "python"
    }
  },
  "cells": [
    {
      "cell_type": "markdown",
      "metadata": {
        "id": "view-in-github",
        "colab_type": "text"
      },
      "source": [
        "<a href=\"https://colab.research.google.com/github/Dabin-Park/BaekJoon/blob/main/Gold/2133(%ED%83%80%EC%9D%BC%20%EC%B1%84%EC%9A%B0%EA%B8%B0).ipynb\" target=\"_parent\"><img src=\"https://colab.research.google.com/assets/colab-badge.svg\" alt=\"Open In Colab\"/></a>"
      ]
    },
    {
      "cell_type": "code",
      "source": [
        "N = int(input())\n",
        "if N%2 == 0:\n",
        "    dp = [0,0,3] + [0 for _ in range(N+1)]\n",
        "    num = 1\n",
        "    for i in range(4,N+1,2):\n",
        "        dp[i] = dp[i-2]*3 + num *2\n",
        "        num += dp[i-2]\n",
        "    \n",
        "    print(dp[N])\n",
        "else:\n",
        "    print(0)"
      ],
      "metadata": {
        "id": "CGdbDyPnpFQk",
        "outputId": "de682acf-e015-451a-cf38-3f0689ae5456",
        "colab": {
          "base_uri": "https://localhost:8080/"
        }
      },
      "execution_count": 1,
      "outputs": [
        {
          "output_type": "stream",
          "name": "stdout",
          "text": [
            "2\n",
            "3\n"
          ]
        }
      ]
    }
  ]
}