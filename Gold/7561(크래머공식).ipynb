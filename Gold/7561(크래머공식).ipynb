{
  "nbformat": 4,
  "nbformat_minor": 0,
  "metadata": {
    "colab": {
      "name": "7561(크래머공식).ipynb",
      "provenance": [],
      "authorship_tag": "ABX9TyOZXShKgnsOaXP3Vcc7V7cr",
      "include_colab_link": true
    },
    "kernelspec": {
      "name": "python3",
      "display_name": "Python 3"
    },
    "language_info": {
      "name": "python"
    }
  },
  "cells": [
    {
      "cell_type": "markdown",
      "metadata": {
        "id": "view-in-github",
        "colab_type": "text"
      },
      "source": [
        "<a href=\"https://colab.research.google.com/github/Dabin-Park/BaekJoon/blob/main/Gold/7561(%ED%81%AC%EB%9E%98%EB%A8%B8%EA%B3%B5%EC%8B%9D).ipynb\" target=\"_parent\"><img src=\"https://colab.research.google.com/assets/colab-badge.svg\" alt=\"Open In Colab\"/></a>"
      ]
    },
    {
      "cell_type": "code",
      "execution_count": 2,
      "metadata": {
        "colab": {
          "base_uri": "https://localhost:8080/"
        },
        "id": "Fn-wCxzEiYTN",
        "outputId": "3138758a-0a5c-4477-ddd6-9f690c5c9783"
      },
      "outputs": [
        {
          "output_type": "stream",
          "name": "stdout",
          "text": [
            "1\n",
            "4 0 0 1\n",
            "0 2 0 2\n",
            "0 0 1 4\n",
            "2 8 32 8\n",
            "Unique solution: 0.250 1.000 4.000\n",
            "\n"
          ]
        }
      ],
      "source": [
        "# 7561\n",
        "\n",
        "a = int(input())\n",
        "b = []\n",
        "e = []\n",
        "f = []\n",
        "def det(A):\n",
        "    return A[0][0]*(A[1][1]*A[2][2]-A[1][2]*A[2][1])- A[0][1]*(A[1][0]*A[2][2]-A[1][2]*A[2][0]) + A[0][2]*(A[1][0]*A[2][1]-A[1][1]*A[2][0])\n",
        "        \n",
        "   \n",
        "\n",
        "for _ in range(a):\n",
        "    for _ in range(3):\n",
        "        x = tuple(map(int,input().split()))\n",
        "        b.append(x)\n",
        "    for i in range(3):\n",
        "        c = list(map(list,b))\n",
        "        for j in range(3):\n",
        "            c[j][i] = b[j][3]\n",
        "        e.append(det(c))\n",
        "        print(det(c),end =\" \")\n",
        "    print(det(b))\n",
        "    if det(b) == 0:\n",
        "            print(\"No unique solution\")\n",
        "    else : \n",
        "        for i in range(3):\n",
        "            x = e[i]/det(b)\n",
        "            f.append(x)\n",
        "            if f[i] >-0.0005 and f[i] < 0.0005:\n",
        "                f[i] = 0.000    \n",
        "        print(f\"Unique solution: {f[0]:.3f} {f[1]:.3f} {f[2]:.3f}\" )\n",
        "    b = []\n",
        "    e = []\n",
        "    f = []\n",
        "    print() "
      ]
    }
  ]
}