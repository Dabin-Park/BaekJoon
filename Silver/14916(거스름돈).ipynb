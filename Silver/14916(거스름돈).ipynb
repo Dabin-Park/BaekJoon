{
  "nbformat": 4,
  "nbformat_minor": 0,
  "metadata": {
    "colab": {
      "provenance": [],
      "collapsed_sections": [],
      "authorship_tag": "ABX9TyMnRQnua3EVdj2yWxlHwEst",
      "include_colab_link": true
    },
    "kernelspec": {
      "name": "python3",
      "display_name": "Python 3"
    },
    "language_info": {
      "name": "python"
    }
  },
  "cells": [
    {
      "cell_type": "markdown",
      "metadata": {
        "id": "view-in-github",
        "colab_type": "text"
      },
      "source": [
        "<a href=\"https://colab.research.google.com/github/Dabin-Park/BaekJoon/blob/main/Silver/14916(%EA%B1%B0%EC%8A%A4%EB%A6%84%EB%8F%88).ipynb\" target=\"_parent\"><img src=\"https://colab.research.google.com/assets/colab-badge.svg\" alt=\"Open In Colab\"/></a>"
      ]
    },
    {
      "cell_type": "code",
      "source": [
        "n = int(input())\n",
        "\n",
        "dp = [0 for _ in range(n+5)]\n",
        "dp[2],dp[4],dp[5] = 1,2,1\n",
        "\n",
        "for i in range(6,n+1):\n",
        "    if dp[i-2] and dp[i-5]:\n",
        "        dp[i] = min(dp[i-2], dp[i-5]) + 1\n",
        "    elif dp[i-2]:\n",
        "        dp[i] = dp[i-2] + 1\n",
        "    elif dp[i-5]:\n",
        "        dp[i] = dp[i-5] + 1\n",
        "\n",
        "print(dp[n] if dp[n] else -1)"
      ],
      "metadata": {
        "colab": {
          "base_uri": "https://localhost:8080/"
        },
        "id": "FkOjEsTjVrUB",
        "outputId": "199bf069-d722-438b-b671-34b5d1671026"
      },
      "execution_count": 1,
      "outputs": [
        {
          "output_type": "stream",
          "name": "stdout",
          "text": [
            "13\n",
            "5\n"
          ]
        }
      ]
    }
  ]
}