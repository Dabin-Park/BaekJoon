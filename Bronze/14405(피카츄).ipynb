{
  "nbformat": 4,
  "nbformat_minor": 0,
  "metadata": {
    "colab": {
      "provenance": [],
      "authorship_tag": "ABX9TyPbVkDlCcaibF/kU0Ux1zd1",
      "include_colab_link": true
    },
    "kernelspec": {
      "name": "python3",
      "display_name": "Python 3"
    },
    "language_info": {
      "name": "python"
    }
  },
  "cells": [
    {
      "cell_type": "markdown",
      "metadata": {
        "id": "view-in-github",
        "colab_type": "text"
      },
      "source": [
        "<a href=\"https://colab.research.google.com/github/Dabin-Park/BaekJoon/blob/main/Bronze/14405(%ED%94%BC%EC%B9%B4%EC%B8%84).ipynb\" target=\"_parent\"><img src=\"https://colab.research.google.com/assets/colab-badge.svg\" alt=\"Open In Colab\"/></a>"
      ]
    },
    {
      "cell_type": "code",
      "source": [
        "def sol(w):\n",
        "    i,len_ = 0,len(w)\n",
        "    while i < len_:\n",
        "        if w[i] == \"p\":\n",
        "            if i+1 < len_ and w[i+1] == \"i\":\n",
        "                i += 2\n",
        "            else:\n",
        "                return \"NO\"\n",
        "        elif w[i] == 'k':\n",
        "            if i+1 < len_ and w[i+1] == 'a':\n",
        "                i += 2\n",
        "            else:\n",
        "                return \"NO\"\n",
        "        elif w[i] == 'c':\n",
        "            if i+2 <  len_ and w[i+1:i+3] == \"hu\":\n",
        "                i += 3\n",
        "            else:\n",
        "                return \"NO\"\n",
        "        else:\n",
        "            return \"NO\"\n",
        "    return \"YES\"  \n",
        "\n",
        "print(sol(input()))"
      ],
      "metadata": {
        "colab": {
          "base_uri": "https://localhost:8080/"
        },
        "id": "8BV4BOoMl-cj",
        "outputId": "503c3739-c2ad-4481-ebea-730f2d372d43"
      },
      "execution_count": 6,
      "outputs": [
        {
          "output_type": "stream",
          "name": "stdout",
          "text": [
            "pikapi\n",
            "YES\n"
          ]
        }
      ]
    }
  ]
}