{
  "nbformat": 4,
  "nbformat_minor": 0,
  "metadata": {
    "colab": {
      "provenance": [],
      "authorship_tag": "ABX9TyOI0O6D1ZrEQhv+QajjtBzL",
      "include_colab_link": true
    },
    "kernelspec": {
      "name": "python3",
      "display_name": "Python 3"
    },
    "language_info": {
      "name": "python"
    }
  },
  "cells": [
    {
      "cell_type": "markdown",
      "metadata": {
        "id": "view-in-github",
        "colab_type": "text"
      },
      "source": [
        "<a href=\"https://colab.research.google.com/github/Dabin-Park/BaekJoon/blob/main/Silver/2615(%EC%98%A4%EB%AA%A9).ipynb\" target=\"_parent\"><img src=\"https://colab.research.google.com/assets/colab-badge.svg\" alt=\"Open In Colab\"/></a>"
      ]
    },
    {
      "cell_type": "code",
      "source": [
        "def sol():\n",
        "    Board = [[0]*21]+[[0]+list(map(int,input().split()))+[0] for _ in range(19)]\n",
        "    Black_White = [[[[0]*4 for _ in range(21)] for _ in range(2)] for _ in range(21)]\n",
        "    for i in range(1,20):\n",
        "        for j in range(1,20):\n",
        "            if Board[i][j]:\n",
        "                Black_White[i][Board[i][j]-1][j][0] = Black_White[i][Board[i][j]-1][j-1][0] + 1\n",
        "                Black_White[i][Board[i][j]-1][j][1] = Black_White[i-1][Board[i][j]-1][j-1][1] + 1\n",
        "                Black_White[i][Board[i][j]-1][j][2] = Black_White[i-1][Board[i][j]-1][j][2] + 1\n",
        "                Black_White[i][Board[i][j]-1][j][3] = Black_White[i-1][Board[i][j]-1][j+1][3] + 1\n",
        "    for i in range(1,20):\n",
        "        for j in range(2):\n",
        "            for k in range(1,20):\n",
        "                if Black_White[i][j][k][0] == 5 and Black_White[i][j][k+1][0] != 6:\n",
        "                    print(j+1)\n",
        "                    print(i,k-4)\n",
        "                    return\n",
        "                elif Black_White[i][j][k][1] == 5 and Black_White[i+1][j][k+1][1] != 6:\n",
        "                    print(j+1)\n",
        "                    print(i-4,k-4)\n",
        "                    return\n",
        "                elif Black_White[i][j][k][2] == 5 and Black_White[i+1][j][k][2] != 6:\n",
        "                    print(j+1)\n",
        "                    print(i-4,k)\n",
        "                    return\n",
        "                elif Black_White[i][j][k][3] == 5 and Black_White[i+1][j][k-1][3] != 6:\n",
        "                    print(j+1)\n",
        "                    print(i,k)\n",
        "                    return                                                \n",
        "    print(0)\n",
        "    \n",
        "sol() "
      ],
      "metadata": {
        "colab": {
          "base_uri": "https://localhost:8080/"
        },
        "id": "yddJQ_ep_kej",
        "outputId": "908f8df7-6747-41fc-a613-ef4ba2f7dce7"
      },
      "execution_count": 1,
      "outputs": [
        {
          "output_type": "stream",
          "name": "stdout",
          "text": [
            "0 0 0 0 0 0 0 0 0 0 0 0 0 0 0 0 0 0 0\n",
            "0 0 0 0 0 0 0 0 0 0 0 0 0 0 0 0 0 0 0\n",
            "0 1 2 0 0 2 2 2 1 0 0 0 0 0 0 0 0 0 0\n",
            "0 0 1 2 0 0 0 0 1 0 0 0 0 0 0 0 0 0 0\n",
            "0 0 0 1 2 0 0 0 0 0 0 0 0 0 0 0 0 0 0\n",
            "0 0 0 0 1 2 2 0 0 0 0 0 0 0 0 0 0 0 0\n",
            "0 0 1 1 0 1 0 0 0 0 0 0 0 0 0 0 0 0 0\n",
            "0 0 0 0 0 0 2 1 0 0 0 0 0 0 0 0 0 0 0\n",
            "0 0 0 0 0 0 0 0 0 0 0 0 0 0 0 0 0 0 0\n",
            "0 0 0 0 0 0 0 0 0 0 0 0 0 0 0 0 0 0 0\n",
            "0 0 0 0 0 0 0 0 0 0 0 0 0 0 0 0 0 0 0\n",
            "0 0 0 0 0 0 0 0 0 0 0 0 0 0 0 0 0 0 0\n",
            "0 0 0 0 0 0 0 0 0 0 0 0 0 0 0 0 0 0 0\n",
            "0 0 0 0 0 0 0 0 0 0 0 0 0 0 0 0 0 0 0\n",
            "0 0 0 0 0 0 0 0 0 0 0 0 0 0 0 0 0 0 0\n",
            "0 0 0 0 0 0 0 0 0 0 0 0 0 0 0 0 0 0 0\n",
            "0 0 0 0 0 0 0 0 0 0 0 0 0 0 0 0 0 0 0\n",
            "0 0 0 0 0 0 0 0 0 0 0 0 0 0 0 0 0 0 0\n",
            "0 0 0 0 0 0 0 0 0 0 0 0 0 0 0 0 0 0 0\n",
            "1\n",
            "3 2\n"
          ]
        }
      ]
    }
  ]
}