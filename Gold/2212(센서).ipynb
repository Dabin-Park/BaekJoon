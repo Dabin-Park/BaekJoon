{
  "nbformat": 4,
  "nbformat_minor": 0,
  "metadata": {
    "colab": {
      "provenance": [],
      "authorship_tag": "ABX9TyO1FDG7pTRXey5Ljq4wqtA4",
      "include_colab_link": true
    },
    "kernelspec": {
      "name": "python3",
      "display_name": "Python 3"
    },
    "language_info": {
      "name": "python"
    }
  },
  "cells": [
    {
      "cell_type": "markdown",
      "metadata": {
        "id": "view-in-github",
        "colab_type": "text"
      },
      "source": [
        "<a href=\"https://colab.research.google.com/github/Dabin-Park/BaekJoon/blob/main/Gold/2212(%EC%84%BC%EC%84%9C).ipynb\" target=\"_parent\"><img src=\"https://colab.research.google.com/assets/colab-badge.svg\" alt=\"Open In Colab\"/></a>"
      ]
    },
    {
      "cell_type": "code",
      "execution_count": 1,
      "metadata": {
        "colab": {
          "base_uri": "https://localhost:8080/"
        },
        "id": "V2C1sM_6QvYk",
        "outputId": "e45e9ea3-ebef-4d35-c0fa-acef4306c1db"
      },
      "outputs": [
        {
          "output_type": "stream",
          "name": "stdout",
          "text": [
            "6\n",
            "2\n",
            "1 6 9 3 6 7\n",
            "5\n"
          ]
        }
      ],
      "source": [
        "def sol(N,K):\n",
        "    Sensor = sorted(list(map(int,input().split())))\n",
        "    distence = [Sensor[i+1]-Sensor[i] for i in range(N-1)]\n",
        "    return sum(sorted(distence)[:N-K])\n",
        "\n",
        "print(sol(int(input()),int(input())))"
      ]
    }
  ]
}