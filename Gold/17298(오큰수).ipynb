{
  "nbformat": 4,
  "nbformat_minor": 0,
  "metadata": {
    "colab": {
      "name": "17298(오큰수).ipynb",
      "provenance": [],
      "authorship_tag": "ABX9TyPnQqaMLnnzpjPlcxTeyV6e",
      "include_colab_link": true
    },
    "kernelspec": {
      "name": "python3",
      "display_name": "Python 3"
    },
    "language_info": {
      "name": "python"
    }
  },
  "cells": [
    {
      "cell_type": "markdown",
      "metadata": {
        "id": "view-in-github",
        "colab_type": "text"
      },
      "source": [
        "<a href=\"https://colab.research.google.com/github/Dabin-Park/BaekJoon/blob/main/Gold/17298(%EC%98%A4%ED%81%B0%EC%88%98).ipynb\" target=\"_parent\"><img src=\"https://colab.research.google.com/assets/colab-badge.svg\" alt=\"Open In Colab\"/></a>"
      ]
    },
    {
      "cell_type": "code",
      "source": [
        "N = int(input())\n",
        "Numbers = list(map(int,input().split()))\n",
        "stack = []\n",
        "sol = [-1 for _ in range(N)]\n",
        "for i,n in enumerate(Numbers):\n",
        "    if stack:\n",
        "        if stack[-1][0] < n:\n",
        "            while stack:\n",
        "                a,j = stack[-1]\n",
        "                if a < n:\n",
        "                    stack.pop()\n",
        "                    sol[j] = n\n",
        "                else:\n",
        "                    break\n",
        "    stack.append([n,i])\n",
        "        \n",
        "for s in sol:\n",
        "    print(s, end = \" \")"
      ],
      "metadata": {
        "id": "CGdbDyPnpFQk",
        "outputId": "4f4ea4e2-16a6-4675-9cc7-a004cd63d5ed",
        "colab": {
          "base_uri": "https://localhost:8080/"
        }
      },
      "execution_count": 3,
      "outputs": [
        {
          "output_type": "stream",
          "name": "stdout",
          "text": [
            "4\n",
            "3 5 2 7\n",
            "5 7 7 -1 "
          ]
        }
      ]
    },
    {
      "cell_type": "code",
      "source": [
        "sol = ['-1']*int(input())\n",
        "Numbers = list(map(int,input().split()))\n",
        "stack = []\n",
        "\n",
        "for i,n in enumerate(Numbers):\n",
        "    while stack and stack[-1][0] < n:\n",
        "        sol[stack.pop()[1]] = str(n)\n",
        "    stack.append([n,i])\n",
        "        \n",
        "print(' '.join(sol))"
      ],
      "metadata": {
        "colab": {
          "base_uri": "https://localhost:8080/"
        },
        "id": "0d7anDJw4IKo",
        "outputId": "6f0d979a-5f3c-4e5a-fe2c-badb9a5c7431"
      },
      "execution_count": 1,
      "outputs": [
        {
          "output_type": "stream",
          "name": "stdout",
          "text": [
            "4\n",
            "3 5 2 7\n",
            "5 7 7 -1\n"
          ]
        }
      ]
    }
  ]
}