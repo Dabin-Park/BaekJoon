{
  "nbformat": 4,
  "nbformat_minor": 0,
  "metadata": {
    "colab": {
      "provenance": [],
      "authorship_tag": "ABX9TyPb35AKW09L//XNaSvc1RZM",
      "include_colab_link": true
    },
    "kernelspec": {
      "name": "python3",
      "display_name": "Python 3"
    },
    "language_info": {
      "name": "python"
    }
  },
  "cells": [
    {
      "cell_type": "markdown",
      "metadata": {
        "id": "view-in-github",
        "colab_type": "text"
      },
      "source": [
        "<a href=\"https://colab.research.google.com/github/Dabin-Park/BaekJoon/blob/main/Gold/15711(%ED%99%98%EC%83%81%EC%9D%98%20%EC%A7%9D%EA%BF%8D).ipynb\" target=\"_parent\"><img src=\"https://colab.research.google.com/assets/colab-badge.svg\" alt=\"Open In Colab\"/></a>"
      ]
    },
    {
      "cell_type": "markdown",
      "source": [
        "* 참고 블로그\n",
        "    * https://haerang94.tistory.com/138"
      ],
      "metadata": {
        "id": "YFSXc9JWKzv4"
      }
    },
    {
      "cell_type": "code",
      "execution_count": 1,
      "metadata": {
        "colab": {
          "base_uri": "https://localhost:8080/"
        },
        "id": "V2C1sM_6QvYk",
        "outputId": "fc46bc86-9572-48eb-c427-569bcef391d4"
      },
      "outputs": [
        {
          "output_type": "stream",
          "name": "stdout",
          "text": [
            "2\n",
            "3 4\n",
            "YES\n",
            "3 5\n",
            "YES\n"
          ]
        }
      ],
      "source": [
        "def sol(max_):\n",
        "    prime = [0,0,1]+[1 if i%2 else 0 for i in range(3,max_)]\n",
        "    for i in range(3,int(max_**0.5),2):\n",
        "        if prime[i]:\n",
        "            for j in range(3*i,max_,i):\n",
        "                prime[j] = 0\n",
        "    real_prime = [2]\n",
        "    for i in range(3,max_,2):\n",
        "        if prime[i]:\n",
        "            real_prime.append(i)\n",
        "    for _ in range(int(input())):\n",
        "        a,b = map(int,input().split())\n",
        "        n, answer = a+b-2, \"YES\"\n",
        "        if n < 2:\n",
        "            answer = \"NO\"\n",
        "        if n%2:\n",
        "            for p in real_prime:\n",
        "                if n < p**2:\n",
        "                    break\n",
        "                elif n%p == 0:\n",
        "                    answer = \"NO\"\n",
        "                    break    \n",
        "        print(answer)\n",
        "\n",
        "sol(2000001)"
      ]
    }
  ]
}