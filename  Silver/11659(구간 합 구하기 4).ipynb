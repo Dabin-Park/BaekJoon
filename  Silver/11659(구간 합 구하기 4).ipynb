{
  "cells": [
    {
      "cell_type": "markdown",
      "metadata": {
        "id": "view-in-github",
        "colab_type": "text"
      },
      "source": [
        "<a href=\"https://colab.research.google.com/github/Dabin-Park/BaekJoon/blob/main/%20Silver/11659(%EA%B5%AC%EA%B0%84%20%ED%95%A9%20%EA%B5%AC%ED%95%98%EA%B8%B0%204).ipynb\" target=\"_parent\"><img src=\"https://colab.research.google.com/assets/colab-badge.svg\" alt=\"Open In Colab\"/></a>"
      ]
    },
    {
      "cell_type": "markdown",
      "source": [
        "sys해야 풀린다."
      ],
      "metadata": {
        "id": "w5w2rQTOI_8t"
      }
    },
    {
      "cell_type": "code",
      "source": [
        "# import sys\n",
        "# input = sys.stdin.readline  \n",
        "def sum1(a,n,N):\n",
        "    if n > len(N)-1:\n",
        "        for i in range(len(N),n+1):\n",
        "            N.append(N[i-1]+a[i-1])\n",
        "    return N[n]\n",
        "        \n",
        "N,M = map(int,input().split())\n",
        "\n",
        "a = list(map(int,input().split()))\n",
        "t = [0]\n",
        "\n",
        "for _ in range(M):\n",
        "    i,j = map(int,input().split())\n",
        "    print(sum1(a,j,t)-t[i-1])"
      ],
      "metadata": {
        "id": "WPo0VnuEHjys",
        "colab": {
          "base_uri": "https://localhost:8080/"
        },
        "outputId": "a0c6bd4d-3446-4ea7-e32b-1ecf2fdfaa1c"
      },
      "execution_count": null,
      "outputs": [
        {
          "output_type": "stream",
          "name": "stdout",
          "text": [
            "5 3\n",
            "5 4 3 2 1\n",
            "1 3\n",
            "12\n",
            "2 4\n",
            "9\n",
            "5 5\n",
            "1\n"
          ]
        }
      ]
    }
  ],
  "metadata": {
    "colab": {
      "name": "11659(구간 합 구하기 4).ipynb",
      "provenance": [],
      "authorship_tag": "ABX9TyMBDAamskadrKGYQCUI+n+P",
      "include_colab_link": true
    },
    "kernelspec": {
      "display_name": "Python 3",
      "name": "python3"
    },
    "language_info": {
      "name": "python"
    }
  },
  "nbformat": 4,
  "nbformat_minor": 0
}