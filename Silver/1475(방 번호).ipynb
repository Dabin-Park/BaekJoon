{
  "nbformat": 4,
  "nbformat_minor": 0,
  "metadata": {
    "colab": {
      "name": "1475(방 번호).ipynb",
      "provenance": [],
      "authorship_tag": "ABX9TyNR8s0HGd/vAaSOJYqZYUUu",
      "include_colab_link": true
    },
    "kernelspec": {
      "name": "python3",
      "display_name": "Python 3"
    },
    "language_info": {
      "name": "python"
    }
  },
  "cells": [
    {
      "cell_type": "markdown",
      "metadata": {
        "id": "view-in-github",
        "colab_type": "text"
      },
      "source": [
        "<a href=\"https://colab.research.google.com/github/Dabin-Park/BaekJoon/blob/main/Silver/1475(%EB%B0%A9%20%EB%B2%88%ED%98%B8).ipynb\" target=\"_parent\"><img src=\"https://colab.research.google.com/assets/colab-badge.svg\" alt=\"Open In Colab\"/></a>"
      ]
    },
    {
      "cell_type": "code",
      "source": [
        "N = input()\n",
        "Numbers = [0 for _ in range(10)]\n",
        "for n in N:\n",
        "    Numbers[int(n)] += 1\n",
        "\n",
        "num,t = 0,0\n",
        "while True:\n",
        "    num += 1\n",
        "    for i in range(10):\n",
        "        if Numbers[i]:\n",
        "            Numbers[i] -= 1\n",
        "        elif str(i) in '69':\n",
        "            if Numbers[9]:\n",
        "                Numbers[9] -= 1\n",
        "            elif Numbers[6]:\n",
        "                Numbers[6] -= 1\n",
        "        if Numbers == [0]*10:\n",
        "            t = 1\n",
        "            break\n",
        "    if t:\n",
        "        break\n",
        "print(num)"
      ],
      "metadata": {
        "colab": {
          "base_uri": "https://localhost:8080/"
        },
        "id": "4NDvOBDhbpRD",
        "outputId": "791c29fc-f7a4-44d7-e9a5-30c9243fc264"
      },
      "execution_count": 1,
      "outputs": [
        {
          "output_type": "stream",
          "name": "stdout",
          "text": [
            "9999\n",
            "2\n"
          ]
        }
      ]
    }
  ]
}