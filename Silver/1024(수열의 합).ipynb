{
  "cells": [
    {
      "cell_type": "markdown",
      "metadata": {
        "id": "view-in-github",
        "colab_type": "text"
      },
      "source": [
        "<a href=\"https://colab.research.google.com/github/Dabin-Park/BaekJoon/blob/main/Silver/1024(%EC%88%98%EC%97%B4%EC%9D%98%20%ED%95%A9).ipynb\" target=\"_parent\"><img src=\"https://colab.research.google.com/assets/colab-badge.svg\" alt=\"Open In Colab\"/></a>"
      ]
    },
    {
      "cell_type": "code",
      "source": [
        "def sum_all(n):\n",
        "    return n*(n+1)//2\n",
        "\n",
        "N,L = map(int,input().split()) \n",
        "n = 0\n",
        "\n",
        "if L <= 100:\n",
        "    for i in range(L,101):\n",
        "        a = N//i\n",
        "        b = i//2\n",
        "        if sum_all(i-1) > N:    # 이것이 밑에 있으면 음수인 경우에도 출력 돼서 틀림\n",
        "            break\n",
        "        if i % 2: \n",
        "            if N == sum_all(a+b)-sum_all(a-b-1):\n",
        "                n = 1\n",
        "                s = a-b\n",
        "                e = a+b+1\n",
        "                break\n",
        "        else :\n",
        "            if N/i >= a + 0.5:\n",
        "                if N == sum_all(a+b)-sum_all(a-b):\n",
        "                    n = 1\n",
        "                    s = a-b+1\n",
        "                    e = a+b+1\n",
        "                    break \n",
        "            else: \n",
        "                if N == sum_all(a+b-1)-sum_all(a-b-1):\n",
        "                    n = 1\n",
        "                    s = a-b\n",
        "                    e = a+b\n",
        "                    break\n",
        "        \n",
        "if n:     \n",
        "    for k in range(s,e):\n",
        "        if k < e-1:\n",
        "            print(k,end = \" \")\n",
        "        else:\n",
        "            print(k)\n",
        "else: \n",
        "    print(-1)"
      ],
      "metadata": {
        "colab": {
          "base_uri": "https://localhost:8080/"
        },
        "id": "nSrvviDnu1sa",
        "outputId": "6b736b27-4619-445a-d479-263ec5704032"
      },
      "execution_count": 2,
      "outputs": [
        {
          "output_type": "stream",
          "name": "stdout",
          "text": [
            "45 10\n",
            "0 1 2 3 4 5 6 7 8 9\n"
          ]
        }
      ]
    },
    {
      "cell_type": "code",
      "source": [
        "def sum_all(n):\n",
        "    return n*(n+1)//2\n",
        "\n",
        "N,L = map(int,input().split()) \n",
        "n = 0\n",
        "\n",
        "if L <= 100:\n",
        "    for i in range(L,101):\n",
        "        a = N//i\n",
        "        b = i//2\n",
        "        if a-b <-1: # 이게 없으면 음수인 경우에도 출력이 돼서 틀림\n",
        "            break\n",
        "        if i % 2: \n",
        "            if N == sum_all(a+b)-sum_all(a-b-1):\n",
        "                n = 1\n",
        "                s = a-b\n",
        "                e = a+b+1\n",
        "                break\n",
        "        else :\n",
        "            if N/i >= a + 0.5:\n",
        "                if N == sum_all(a+b)-sum_all(a-b):\n",
        "                    n = 1\n",
        "                    s = a-b+1\n",
        "                    e = a+b+1\n",
        "                    break \n",
        "            else: \n",
        "                if N == sum_all(a+b-1)-sum_all(a-b-1):\n",
        "                    n = 1\n",
        "                    s = a-b\n",
        "                    e = a+b\n",
        "                    break\n",
        "        if sum_all(i) > N:\n",
        "            break\n",
        "            \n",
        "if n:     \n",
        "    for k in range(s,e):\n",
        "        if k < e-1:\n",
        "            print(k,end = \" \")\n",
        "        else:\n",
        "            print(k)\n",
        "else: \n",
        "    print(-1)"
      ],
      "metadata": {
        "colab": {
          "base_uri": "https://localhost:8080/"
        },
        "id": "GPCM0zdfye9T",
        "outputId": "e8d6b11f-2a8b-444f-83c6-137aa6fdbc70"
      },
      "execution_count": 3,
      "outputs": [
        {
          "output_type": "stream",
          "name": "stdout",
          "text": [
            "45 10\n",
            "0 1 2 3 4 5 6 7 8 9\n"
          ]
        }
      ]
    }
  ],
  "metadata": {
    "colab": {
      "name": "1024(수열의 합).ipynb",
      "provenance": [],
      "collapsed_sections": [],
      "authorship_tag": "ABX9TyNaf9Ss2wReY8IIGr5JhoAB",
      "include_colab_link": true
    },
    "kernelspec": {
      "display_name": "Python 3",
      "name": "python3"
    },
    "language_info": {
      "name": "python"
    }
  },
  "nbformat": 4,
  "nbformat_minor": 0
}