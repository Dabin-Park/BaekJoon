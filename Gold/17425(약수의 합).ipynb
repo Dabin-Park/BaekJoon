{
  "nbformat": 4,
  "nbformat_minor": 0,
  "metadata": {
    "colab": {
      "name": "17425(약수의 합).ipynb",
      "provenance": [],
      "authorship_tag": "ABX9TyNZaAkwqAJOPJw3l6TByuGG",
      "include_colab_link": true
    },
    "kernelspec": {
      "name": "python3",
      "display_name": "Python 3"
    },
    "language_info": {
      "name": "python"
    }
  },
  "cells": [
    {
      "cell_type": "markdown",
      "metadata": {
        "id": "view-in-github",
        "colab_type": "text"
      },
      "source": [
        "<a href=\"https://colab.research.google.com/github/Dabin-Park/BaekJoon/blob/main/Gold/17425(%EC%95%BD%EC%88%98%EC%9D%98%20%ED%95%A9).ipynb\" target=\"_parent\"><img src=\"https://colab.research.google.com/assets/colab-badge.svg\" alt=\"Open In Colab\"/></a>"
      ]
    },
    {
      "cell_type": "markdown",
      "source": [
        "# python말고 pypy로 제출해야지만 맞음\n",
        "> * python으로 맞은사람은 2022년 7월 11일 오후 6시 37분 기준으로  없음"
      ],
      "metadata": {
        "id": "tLn6BXHfniHZ"
      }
    },
    {
      "cell_type": "code",
      "execution_count": 3,
      "metadata": {
        "colab": {
          "base_uri": "https://localhost:8080/"
        },
        "id": "dT6CvtQPNnKQ",
        "outputId": "8ebe37e5-8e44-4b6a-c179-34c9105f6bbd"
      },
      "outputs": [
        {
          "output_type": "stream",
          "name": "stdout",
          "text": [
            "5\n",
            "1\n",
            "2\n",
            "10\n",
            "70\n",
            "10000\n",
            "1\n",
            "4\n",
            "87\n",
            "4065\n",
            "82256014\n"
          ]
        }
      ],
      "source": [
        "T = int(input())\n",
        "Numbers = [int(input()) for _ in range(T)]\n",
        "M = max(Numbers)\n",
        "            \n",
        "dp = [1+i for i in range(M+1)]\n",
        "sum1 = [0 for _ in range(M+1)]\n",
        "dp[1],sum1[1] = 1, 1\n",
        "sum1[1] = 1\n",
        "for i in range(2,M+1):\n",
        "    for j in range(i,M//i+1):\n",
        "        if i == j:\n",
        "            dp[i*j] += i\n",
        "        else:\n",
        "            dp[i*j] += i+j\n",
        "    sum1[i] = sum1[i-1] + dp[i]\n",
        "\n",
        "for number in Numbers:\n",
        "    print(sum1[number])"
      ]
    }
  ]
}