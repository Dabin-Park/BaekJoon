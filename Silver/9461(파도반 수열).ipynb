{
  "cells": [
    {
      "cell_type": "markdown",
      "metadata": {
        "id": "view-in-github",
        "colab_type": "text"
      },
      "source": [
        "<a href=\"https://colab.research.google.com/github/Dabin-Park/BaekJoon/blob/main/Silver/9461(%ED%8C%8C%EB%8F%84%EB%B0%98%20%EC%88%98%EC%97%B4).ipynb\" target=\"_parent\"><img src=\"https://colab.research.google.com/assets/colab-badge.svg\" alt=\"Open In Colab\"/></a>"
      ]
    },
    {
      "cell_type": "code",
      "source": [
        "T = int(input())\n",
        "A = [int(input()) for _ in range(T)]\n",
        "N = max(A)\n",
        "dp = [0]*(N+1)\n",
        "dp[1:6] = [1,1,1,2,2]\n",
        "\n",
        "for i in range(6,N+1):\n",
        "    dp[i] = dp[i-1] + dp[i-5]\n",
        "    \n",
        "for i in range(T):\n",
        "    print(dp[A[i]])"
      ],
      "metadata": {
        "id": "HBwwya3y6Eyo",
        "outputId": "acd2ad99-600e-4158-bd6a-e65fe2004d48",
        "colab": {
          "base_uri": "https://localhost:8080/"
        }
      },
      "execution_count": 1,
      "outputs": [
        {
          "output_type": "stream",
          "name": "stdout",
          "text": [
            "2\n",
            "6\n",
            "12\n",
            "3\n",
            "16\n"
          ]
        }
      ]
    },
    {
      "cell_type": "code",
      "source": [
        "T = int(input())\n",
        "A = [int(input()) for _ in range(T)]\n",
        "N = max(A)\n",
        "dp = [0]*(N+1)\n",
        "dp[1],dp[2] = 1,1\n",
        "\n",
        "for i in range(3,N+1):\n",
        "    dp[i] = dp[i-2] + dp[i-3]\n",
        "    \n",
        "for i in range(T):\n",
        "    print(dp[A[i]])"
      ],
      "metadata": {
        "colab": {
          "base_uri": "https://localhost:8080/"
        },
        "id": "6wcmBnzfouUB",
        "outputId": "2070720c-1b45-4a96-e70b-c4803a4188d0"
      },
      "execution_count": 2,
      "outputs": [
        {
          "output_type": "stream",
          "name": "stdout",
          "text": [
            "2\n",
            "6\n",
            "12\n",
            "3\n",
            "16\n"
          ]
        }
      ]
    }
  ],
  "metadata": {
    "colab": {
      "name": "9461(파도반 수열).ipynb",
      "provenance": [],
      "collapsed_sections": [],
      "authorship_tag": "ABX9TyOSnUc4MhuRLHsC+swSfL2W",
      "include_colab_link": true
    },
    "kernelspec": {
      "display_name": "Python 3",
      "name": "python3"
    },
    "language_info": {
      "name": "python"
    }
  },
  "nbformat": 4,
  "nbformat_minor": 0
}