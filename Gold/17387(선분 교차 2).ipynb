{
  "nbformat": 4,
  "nbformat_minor": 0,
  "metadata": {
    "colab": {
      "name": "17387(선분 교차 2).ipynb",
      "provenance": [],
      "authorship_tag": "ABX9TyPB/+fMGmF+HJEaKptgeqgF",
      "include_colab_link": true
    },
    "kernelspec": {
      "name": "python3",
      "display_name": "Python 3"
    },
    "language_info": {
      "name": "python"
    }
  },
  "cells": [
    {
      "cell_type": "markdown",
      "metadata": {
        "id": "view-in-github",
        "colab_type": "text"
      },
      "source": [
        "<a href=\"https://colab.research.google.com/github/Dabin-Park/BaekJoon/blob/main/Gold/17387(%EC%84%A0%EB%B6%84%20%EA%B5%90%EC%B0%A8%202).ipynb\" target=\"_parent\"><img src=\"https://colab.research.google.com/assets/colab-badge.svg\" alt=\"Open In Colab\"/></a>"
      ]
    },
    {
      "cell_type": "code",
      "source": [
        "x1,y1,x2,y2 = map(int,input().split())\n",
        "x3,y3,x4,y4 = map(int,input().split())\n",
        "\n",
        "def line(x,y,X1,Y1,X2,Y2):\n",
        "    if X1 == X2:\n",
        "        if x > X1:\n",
        "            return 1\n",
        "        elif x == X1:\n",
        "            if y >= min(Y1,Y2) and y <= max(Y1,Y2):\n",
        "                return 0\n",
        "            elif y < min(Y1,Y2):\n",
        "                return 1\n",
        "    elif Y1 == Y2:\n",
        "        if y > Y1:\n",
        "            return 1\n",
        "        elif y == Y1:\n",
        "            if x >= min(X1,X2) and x <= max(X1,X2):\n",
        "                return 0\n",
        "            elif x < min(X1,X2):\n",
        "                return 1\n",
        "    else:\n",
        "        if y > ((Y1-Y2)/(X1-X2)) * (x-X1) + Y1 + 0.00000001:\n",
        "            return 1\n",
        "        elif y >= ((Y1-Y2)/(X1-X2)) * (x-X1) + Y1 - 0.00000001 and y <= ((Y1-Y2)/(X1-X2)) * (x-X1) + Y1 + 0.00000001:\n",
        "            if y >= min(Y1,Y2) and y <= max(Y1,Y2):\n",
        "                return 0\n",
        "            elif y < min(Y1,Y2):\n",
        "                return 1\n",
        "    return -1\n",
        "\n",
        "if line(x3,y3,x1,y1,x2,y2) *  line(x4,y4,x1,y1,x2,y2) == 1 or line(x1,y1,x3,y3,x4,y4) *  line(x2,y2,x3,y3,x4,y4) == 1:\n",
        "    print(0)\n",
        "else:\n",
        "    print(1)"
      ],
      "metadata": {
        "colab": {
          "base_uri": "https://localhost:8080/"
        },
        "id": "4NDvOBDhbpRD",
        "outputId": "233d8f81-0f6f-43e7-ef5b-34d22f3b1722"
      },
      "execution_count": 1,
      "outputs": [
        {
          "output_type": "stream",
          "name": "stdout",
          "text": [
            "1 1 5 5 \n",
            "1 5 5 1\n",
            "1\n"
          ]
        }
      ]
    }
  ]
}