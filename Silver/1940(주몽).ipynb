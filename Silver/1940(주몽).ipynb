{
  "cells": [
    {
      "cell_type": "markdown",
      "metadata": {
        "id": "view-in-github",
        "colab_type": "text"
      },
      "source": [
        "<a href=\"https://colab.research.google.com/github/Dabin-Park/BaekJoon/blob/main/Silver/1940(%EC%A3%BC%EB%AA%BD).ipynb\" target=\"_parent\"><img src=\"https://colab.research.google.com/assets/colab-badge.svg\" alt=\"Open In Colab\"/></a>"
      ]
    },
    {
      "cell_type": "code",
      "source": [
        "N = int(input())\n",
        "M = int(input())\n",
        "A = sorted(map(int,input().split()))\n",
        "\n",
        "num,start,end = 0,0,N-1\n",
        "\n",
        "while start < end:\n",
        "    s,e = A[start],A[end]\n",
        "    if s+e == M:\n",
        "        num += 1\n",
        "        start += 1\n",
        "        end -= 1\n",
        "    elif s+e > M:\n",
        "        end -= 1\n",
        "    else:\n",
        "        start +=1\n",
        "\n",
        "print(num)"
      ],
      "metadata": {
        "id": "HBwwya3y6Eyo",
        "outputId": "bd49eb37-a123-4e92-9e56-141384b25c38",
        "colab": {
          "base_uri": "https://localhost:8080/"
        }
      },
      "execution_count": 2,
      "outputs": [
        {
          "output_type": "stream",
          "name": "stdout",
          "text": [
            "6\n",
            "9\n",
            "2 7 4 1 5 3\n",
            "2\n"
          ]
        }
      ]
    }
  ],
  "metadata": {
    "colab": {
      "name": "1940(주몽).ipynb",
      "provenance": [],
      "collapsed_sections": [],
      "authorship_tag": "ABX9TyM99K3b6Beol5oJUgo+ifQB",
      "include_colab_link": true
    },
    "kernelspec": {
      "display_name": "Python 3",
      "name": "python3"
    },
    "language_info": {
      "name": "python"
    }
  },
  "nbformat": 4,
  "nbformat_minor": 0
}