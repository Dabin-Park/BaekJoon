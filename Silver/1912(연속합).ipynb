{
  "cells": [
    {
      "cell_type": "markdown",
      "metadata": {
        "id": "view-in-github",
        "colab_type": "text"
      },
      "source": [
        "<a href=\"https://colab.research.google.com/github/Dabin-Park/BaekJoon/blob/main/Silver/1912(%EC%97%B0%EC%86%8D%ED%95%A9).ipynb\" target=\"_parent\"><img src=\"https://colab.research.google.com/assets/colab-badge.svg\" alt=\"Open In Colab\"/></a>"
      ]
    },
    {
      "cell_type": "code",
      "source": [
        "N = int(input())\n",
        "\n",
        "A = list(map(int,input().split()))\n",
        "dp = [0]*N\n",
        "dp[0] = A[0]\n",
        "\n",
        "for i in range(1,N):\n",
        "    dp[i] = max(dp[i-1]+A[i],A[i])\n",
        "\n",
        "m = max(dp)\n",
        "\n",
        "print(m)"
      ],
      "metadata": {
        "id": "HBwwya3y6Eyo",
        "outputId": "37ce8285-4be5-421c-c764-9bc1504c10e4",
        "colab": {
          "base_uri": "https://localhost:8080/"
        }
      },
      "execution_count": 1,
      "outputs": [
        {
          "output_type": "stream",
          "name": "stdout",
          "text": [
            "10\n",
            "10 -4 3 1 5 6 -35 12 21 -1\n",
            "33\n"
          ]
        }
      ]
    }
  ],
  "metadata": {
    "colab": {
      "name": "1912(연속합).ipynb",
      "provenance": [],
      "collapsed_sections": [],
      "authorship_tag": "ABX9TyMdrPQXS2BPjPK/+Z3hRE24",
      "include_colab_link": true
    },
    "kernelspec": {
      "display_name": "Python 3",
      "name": "python3"
    },
    "language_info": {
      "name": "python"
    }
  },
  "nbformat": 4,
  "nbformat_minor": 0
}