{
  "nbformat": 4,
  "nbformat_minor": 0,
  "metadata": {
    "colab": {
      "provenance": [],
      "collapsed_sections": [],
      "authorship_tag": "ABX9TyODa1YnnUjFwaaZZ51thY/x",
      "include_colab_link": true
    },
    "kernelspec": {
      "name": "python3",
      "display_name": "Python 3"
    },
    "language_info": {
      "name": "python"
    }
  },
  "cells": [
    {
      "cell_type": "markdown",
      "metadata": {
        "id": "view-in-github",
        "colab_type": "text"
      },
      "source": [
        "<a href=\"https://colab.research.google.com/github/Dabin-Park/BaekJoon/blob/main/Bronze/2744(%EB%8C%80%EC%86%8C%EB%AC%B8%EC%9E%90%20%EB%B0%94%EA%BE%B8%EA%B8%B0).ipynb\" target=\"_parent\"><img src=\"https://colab.research.google.com/assets/colab-badge.svg\" alt=\"Open In Colab\"/></a>"
      ]
    },
    {
      "cell_type": "code",
      "execution_count": 1,
      "metadata": {
        "colab": {
          "base_uri": "https://localhost:8080/"
        },
        "id": "V2C1sM_6QvYk",
        "outputId": "62cfe8b7-8e12-4006-db7d-97104244c626"
      },
      "outputs": [
        {
          "output_type": "stream",
          "name": "stdout",
          "text": [
            "WrongAnswer\n",
            "wRONGaNSWER"
          ]
        }
      ],
      "source": [
        "for w in input():\n",
        "    if w.isupper():\n",
        "        print(w.lower(), end = \"\")\n",
        "    else:\n",
        "        print(w.upper(), end = \"\")"
      ]
    },
    {
      "cell_type": "code",
      "source": [
        "print(input().swapcase())"
      ],
      "metadata": {
        "colab": {
          "base_uri": "https://localhost:8080/"
        },
        "id": "jeYXxG796L9a",
        "outputId": "bcb15a92-4b8a-4ea9-f08a-b3692b07f98f"
      },
      "execution_count": 2,
      "outputs": [
        {
          "output_type": "stream",
          "name": "stdout",
          "text": [
            "WrongAnswer\n",
            "wRONGaNSWER\n"
          ]
        }
      ]
    }
  ]
}