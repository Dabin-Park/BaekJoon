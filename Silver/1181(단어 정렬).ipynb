{
  "cells": [
    {
      "cell_type": "markdown",
      "metadata": {
        "id": "view-in-github",
        "colab_type": "text"
      },
      "source": [
        "<a href=\"https://colab.research.google.com/github/Dabin-Park/BaekJoon/blob/main/Silver/1181(%EB%8B%A8%EC%96%B4%20%EC%A0%95%EB%A0%AC).ipynb\" target=\"_parent\"><img src=\"https://colab.research.google.com/assets/colab-badge.svg\" alt=\"Open In Colab\"/></a>"
      ]
    },
    {
      "cell_type": "code",
      "source": [
        "N = int(input())\n",
        "A = [input() for _ in range(N)]\n",
        "A = list(set(A))\n",
        "n = len(A)\n",
        "A.sort(key = lambda x : len(x))\n",
        "\n",
        "l = [0]*n\n",
        "\n",
        "for i in range(n):\n",
        "    l[i] = len(A[i])\n",
        "    \n",
        "sol = []\n",
        "j = 0\n",
        "while j < n-1:\n",
        "    t = [A[j]]\n",
        "    if l[j] == l[j+1]:\n",
        "        t.append(A[j+1])\n",
        "        k = 2\n",
        "        while j+k < n:\n",
        "            if l[j] != l[j+k]:\n",
        "                break\n",
        "            t.append(A[j+k])\n",
        "            k += 1\n",
        "        t.sort(key = str)\n",
        "        j += k\n",
        "        sol += t         \n",
        "    else:\n",
        "        sol.append(A[j])\n",
        "        j += 1\n",
        "if len(sol) != n:\n",
        "    sol.append(A[n-1])\n",
        "    \n",
        "for a in sol:\n",
        "    print(a)"
      ],
      "metadata": {
        "id": "HBwwya3y6Eyo",
        "outputId": "3f6455eb-777d-4521-b85f-9341e7a877ad",
        "colab": {
          "base_uri": "https://localhost:8080/"
        }
      },
      "execution_count": 1,
      "outputs": [
        {
          "output_type": "stream",
          "name": "stdout",
          "text": [
            "13\n",
            "but\n",
            "i\n",
            "wont\n",
            "hesitate\n",
            "no\n",
            "more\n",
            "no\n",
            "more\n",
            "it\n",
            "cannot\n",
            "wait\n",
            "im\n",
            "yours\n",
            "i\n",
            "im\n",
            "it\n",
            "no\n",
            "but\n",
            "more\n",
            "wait\n",
            "wont\n",
            "yours\n",
            "cannot\n",
            "hesitate\n"
          ]
        }
      ]
    }
  ],
  "metadata": {
    "colab": {
      "name": "1181(단어 정렬).ipynb",
      "provenance": [],
      "collapsed_sections": [],
      "authorship_tag": "ABX9TyMT0I2HOabUo4931JYQNXdv",
      "include_colab_link": true
    },
    "kernelspec": {
      "display_name": "Python 3",
      "name": "python3"
    },
    "language_info": {
      "name": "python"
    }
  },
  "nbformat": 4,
  "nbformat_minor": 0
}