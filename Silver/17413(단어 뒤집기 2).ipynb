{
  "nbformat": 4,
  "nbformat_minor": 0,
  "metadata": {
    "colab": {
      "provenance": [],
      "collapsed_sections": [],
      "authorship_tag": "ABX9TyOUWOgp+RdQV6nQdSY4cZVq",
      "include_colab_link": true
    },
    "kernelspec": {
      "name": "python3",
      "display_name": "Python 3"
    },
    "language_info": {
      "name": "python"
    }
  },
  "cells": [
    {
      "cell_type": "markdown",
      "metadata": {
        "id": "view-in-github",
        "colab_type": "text"
      },
      "source": [
        "<a href=\"https://colab.research.google.com/github/Dabin-Park/BaekJoon/blob/main/Silver/17413(%EB%8B%A8%EC%96%B4%20%EB%92%A4%EC%A7%91%EA%B8%B0%202).ipynb\" target=\"_parent\"><img src=\"https://colab.research.google.com/assets/colab-badge.svg\" alt=\"Open In Colab\"/></a>"
      ]
    },
    {
      "cell_type": "code",
      "source": [
        "Stack,t = [],0\n",
        "for s in input():\n",
        "    if s == \" \":\n",
        "        if t == 0:\n",
        "            print(\"\".join(Stack[::-1]+[s]), end = \"\")\n",
        "            Stack = []\n",
        "        else:\n",
        "            Stack.append(s)\n",
        "    else:\n",
        "        if s == '<':\n",
        "            print(\"\".join(Stack[::-1]), end = \"\")\n",
        "            Stack = [s]\n",
        "            t = 1\n",
        "        elif s == '>':\n",
        "            print(\"\".join(Stack+[s]), end = \"\")\n",
        "            Stack,t = [],0\n",
        "        else:\n",
        "            Stack.append(s)\n",
        "print(\"\".join(Stack[::-1]))"
      ],
      "metadata": {
        "colab": {
          "base_uri": "https://localhost:8080/"
        },
        "id": "FkOjEsTjVrUB",
        "outputId": "115007de-6384-435b-975a-238486886dfb"
      },
      "execution_count": 1,
      "outputs": [
        {
          "output_type": "stream",
          "name": "stdout",
          "text": [
            "<open>tag<close>\n",
            "<open>gat<close>\n"
          ]
        }
      ]
    }
  ]
}