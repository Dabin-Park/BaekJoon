{
  "nbformat": 4,
  "nbformat_minor": 0,
  "metadata": {
    "colab": {
      "name": "4539(반올림).ipynb",
      "provenance": [],
      "collapsed_sections": [],
      "authorship_tag": "ABX9TyOpbz9nLvo0xGq5EKqd5GMq",
      "include_colab_link": true
    },
    "kernelspec": {
      "name": "python3",
      "display_name": "Python 3"
    },
    "language_info": {
      "name": "python"
    }
  },
  "cells": [
    {
      "cell_type": "markdown",
      "metadata": {
        "id": "view-in-github",
        "colab_type": "text"
      },
      "source": [
        "<a href=\"https://colab.research.google.com/github/Dabin-Park/BaekJoon/blob/main/Silver/4539(%EB%B0%98%EC%98%AC%EB%A6%BC).ipynb\" target=\"_parent\"><img src=\"https://colab.research.google.com/assets/colab-badge.svg\" alt=\"Open In Colab\"/></a>"
      ]
    },
    {
      "cell_type": "code",
      "source": [
        "for _ in range(int(input())):\n",
        "    num = list(map(int,input().strip()))\n",
        "    for i in range(len(num)-1,0,-1):\n",
        "        if num[i] >= 5:\n",
        "            num[i-1] += 1\n",
        "            \n",
        "    print(str(num[0]) + \"0\"*(len(num)-1))"
      ],
      "metadata": {
        "id": "ZFrLikbd4n2z",
        "outputId": "98a93998-e59f-4127-d276-afb0e6bbb536",
        "colab": {
          "base_uri": "https://localhost:8080/"
        }
      },
      "execution_count": 3,
      "outputs": [
        {
          "output_type": "stream",
          "name": "stdout",
          "text": [
            "9\n",
            "15\n",
            "20\n",
            "14 \n",
            "10\n",
            "4\n",
            "4\n",
            "5\n",
            "5\n",
            "99\n",
            "100\n",
            "12345678\n",
            "10000000\n",
            "44444445\n",
            "50000000\n",
            "1445\n",
            "2000\n",
            "446\n",
            "500\n"
          ]
        }
      ]
    },
    {
      "cell_type": "code",
      "source": [
        "for _ in range(int(input())):\n",
        "    num = list(map(int,input().strip()))\n",
        "    for i in range(1,len(num)):\n",
        "        if num[i] >= 5:\n",
        "            num[0] += 1\n",
        "            break\n",
        "        elif num[i] < 4:\n",
        "            break\n",
        "            \n",
        "    print(str(num[0]) + \"0\"*(len(num)-1))"
      ],
      "metadata": {
        "colab": {
          "base_uri": "https://localhost:8080/"
        },
        "id": "quJUdtFWNC4D",
        "outputId": "20e5d5e6-d61a-444d-fa06-e11cbeeeb680"
      },
      "execution_count": 4,
      "outputs": [
        {
          "output_type": "stream",
          "name": "stdout",
          "text": [
            "9\n",
            "15\n",
            "20\n",
            "14\n",
            "10\n",
            "4\n",
            "4\n",
            "5\n",
            "5\n",
            "99\n",
            "100\n",
            "12345678\n",
            "10000000\n",
            "44444445\n",
            "50000000\n",
            "1445\n",
            "2000\n",
            "446\n",
            "500\n"
          ]
        }
      ]
    }
  ]
}