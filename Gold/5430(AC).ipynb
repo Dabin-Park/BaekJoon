{
  "cells": [
    {
      "cell_type": "markdown",
      "metadata": {
        "id": "view-in-github",
        "colab_type": "text"
      },
      "source": [
        "<a href=\"https://colab.research.google.com/github/Dabin-Park/BaekJoon/blob/main/Gold/5430(AC).ipynb\" target=\"_parent\"><img src=\"https://colab.research.google.com/assets/colab-badge.svg\" alt=\"Open In Colab\"/></a>"
      ]
    },
    {
      "cell_type": "code",
      "source": [
        "T = int(input())\n",
        "\n",
        "for _ in range(T):\n",
        "    A = input()\n",
        "    n = int(input())\n",
        "    C = input()\n",
        "    B = []\n",
        "    if n != 0:        \n",
        "        i = 1\n",
        "        c = len(C)\n",
        "        while True:\n",
        "            if C[i] not in ',[]':\n",
        "                if C[i+1] not in ',[]':\n",
        "                    if C[i+2] not in ',[]':\n",
        "                        B.append(int(C[i]+C[i+1]+C[i+2]))\n",
        "                        i += 4\n",
        "                    else:\n",
        "                        B.append(int(C[i]+C[i+1]))\n",
        "                        i += 3\n",
        "                else:\n",
        "                    B.append(int(C[i]))\n",
        "                    i += 2\n",
        "            if i >= c:\n",
        "                break\n",
        "        i,t,b,r,s,e = 0,0,len(B),0,0,len(B)\n",
        "        while i < len(A):\n",
        "            if b == 0:\n",
        "                if \"D\" in A[i:]:\n",
        "                    t = 1\n",
        "                    break\n",
        "                else:\n",
        "                    break      \n",
        "            elif A[i] == 'R':\n",
        "                r += 1\n",
        "                i += 1\n",
        "            else:\n",
        "                if r % 2 != 0: \n",
        "                    e -= 1\n",
        "                else:\n",
        "                    s += 1\n",
        "                i += 1\n",
        "                b -= 1\n",
        "    else:\n",
        "        if \"D\" in A:\n",
        "            t = 1\n",
        "        else:\n",
        "            t = 0\n",
        "            s = 0\n",
        "            e = 0\n",
        "            r = 0\n",
        "        \n",
        "    if t:\n",
        "        print('error')\n",
        "    else:\n",
        "        B = B[s:e]\n",
        "        if r % 2 != 0:\n",
        "            B.reverse()\n",
        "        \n",
        "        print(str(B).replace(\" \",\"\"))"
      ],
      "metadata": {
        "id": "HBwwya3y6Eyo",
        "outputId": "ab102d61-ff3a-4419-ad24-ca8d713c0e46",
        "colab": {
          "base_uri": "https://localhost:8080/"
        }
      },
      "execution_count": 1,
      "outputs": [
        {
          "output_type": "stream",
          "name": "stdout",
          "text": [
            "4\n",
            "RDD\n",
            "4\n",
            "[1,2,3,4]\n",
            "[2,1]\n",
            "DD\n",
            "1\n",
            "[42]\n",
            "error\n",
            "RRD\n",
            "6\n",
            "[1,1,2,3,5,8]\n",
            "[1,2,3,5,8]\n",
            "D\n",
            "0\n",
            "[]\n",
            "error\n"
          ]
        }
      ]
    },
    {
      "cell_type": "code",
      "source": [
        "#import sys\n",
        "#input = sys.stdin.readline\n",
        "\n",
        "T = int(input())\n",
        "\n",
        "for _ in range(T):\n",
        "    A = input()\n",
        "    n = int(input())\n",
        "    t = 0\n",
        "    if n != 0:   \n",
        "        B = list(map(int,input()[1:-1].split(',')))     \n",
        "        b,r,s,e = len(B),0,0,len(B)\n",
        "        for a in A:     \n",
        "            if a == 'R':\n",
        "                r += 1\n",
        "            else:\n",
        "                if b == 0:\n",
        "                    t = 1\n",
        "                    break\n",
        "                elif r % 2 != 0: \n",
        "                    e -= 1\n",
        "                else:\n",
        "                    s += 1\n",
        "                b -= 1\n",
        "    else:\n",
        "        B = input().rstrip()\n",
        "        for a in A:\n",
        "            if a == 'D':\n",
        "                t = 1\n",
        "                break\n",
        "        s,e,r = 0,0,0 \n",
        "               \n",
        "    if t:\n",
        "        print('error')\n",
        "    else:\n",
        "        B = B[s:e]\n",
        "        if r % 2 != 0:\n",
        "            B.reverse()\n",
        "        if len(B) == 0:\n",
        "            B = []\n",
        "        \n",
        "        print(str(B).replace(\" \",\"\"))"
      ],
      "metadata": {
        "colab": {
          "base_uri": "https://localhost:8080/"
        },
        "id": "9s5aryffj8p6",
        "outputId": "e3fb8e0f-a3ea-4855-bce4-9f586d149ea2"
      },
      "execution_count": 2,
      "outputs": [
        {
          "output_type": "stream",
          "name": "stdout",
          "text": [
            "4\n",
            "RDD\n",
            "4\n",
            "[1,2,3,4]\n",
            "[2,1]\n",
            "DD\n",
            "1\n",
            "[42]\n",
            "error\n",
            "RRD\n",
            "6\n",
            "[1,1,2,3,5,8]\n",
            "[1,2,3,5,8]\n",
            "D\n",
            "0\n",
            "[]\n",
            "error\n"
          ]
        }
      ]
    }
  ],
  "metadata": {
    "colab": {
      "name": "AC(5430).ipynb",
      "provenance": [],
      "collapsed_sections": [],
      "authorship_tag": "ABX9TyPL3/bHrkORfVESYr6i/XIw",
      "include_colab_link": true
    },
    "kernelspec": {
      "display_name": "Python 3",
      "name": "python3"
    },
    "language_info": {
      "name": "python"
    }
  },
  "nbformat": 4,
  "nbformat_minor": 0
}