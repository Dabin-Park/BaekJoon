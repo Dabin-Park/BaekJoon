{
  "nbformat": 4,
  "nbformat_minor": 0,
  "metadata": {
    "colab": {
      "provenance": [],
      "authorship_tag": "ABX9TyPijnq9fIR+wJM3M2o1fusD",
      "include_colab_link": true
    },
    "kernelspec": {
      "name": "python3",
      "display_name": "Python 3"
    },
    "language_info": {
      "name": "python"
    }
  },
  "cells": [
    {
      "cell_type": "markdown",
      "metadata": {
        "id": "view-in-github",
        "colab_type": "text"
      },
      "source": [
        "<a href=\"https://colab.research.google.com/github/Dabin-Park/BaekJoon/blob/main/Gold/8980(%ED%83%9D%EB%B0%B0).ipynb\" target=\"_parent\"><img src=\"https://colab.research.google.com/assets/colab-badge.svg\" alt=\"Open In Colab\"/></a>"
      ]
    },
    {
      "cell_type": "markdown",
      "source": [
        "* 참고 블로그\n",
        "    * https://ddiyeon.tistory.com/36\n",
        "    "
      ],
      "metadata": {
        "id": "uiKyvDSlyR7p"
      }
    },
    {
      "cell_type": "code",
      "source": [
        "def sol():\n",
        "    N,C = map(int,input().split())\n",
        "    M = int(input())\n",
        "    Box = sorted([list(map(int,input().split())) for _ in range(M)], key = lambda x : x[1])\n",
        "    num, Town = 0, [C]*(N+1)\n",
        "    for s,e,value in Box:\n",
        "        min_ = min(min(Town[s:e]),value)\n",
        "        for i in range(s,e):\n",
        "            Town[i] -= min_\n",
        "        num += min_\n",
        "        \n",
        "    return num\n",
        "            \n",
        "print(sol())"
      ],
      "metadata": {
        "colab": {
          "base_uri": "https://localhost:8080/"
        },
        "id": "-n7Jl3MFSbU9",
        "outputId": "3e5a8d01-b272-486d-a1df-b130690b0dab"
      },
      "execution_count": 1,
      "outputs": [
        {
          "output_type": "stream",
          "name": "stdout",
          "text": [
            "4 40\n",
            "6\n",
            "3 4 20\n",
            "1 2 10\n",
            "1 3 20\n",
            "1 4 30\n",
            "2 3 10\n",
            "2 4 20\n",
            "70\n"
          ]
        }
      ]
    }
  ]
}