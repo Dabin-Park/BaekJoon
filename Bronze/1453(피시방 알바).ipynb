{
  "cells": [
    {
      "cell_type": "markdown",
      "metadata": {
        "id": "view-in-github",
        "colab_type": "text"
      },
      "source": [
        "<a href=\"https://colab.research.google.com/github/Dabin-Park/BaekJoon/blob/main/Bronze/1453(%ED%94%BC%EC%8B%9C%EB%B0%A9%20%EC%95%8C%EB%B0%94).ipynb\" target=\"_parent\"><img src=\"https://colab.research.google.com/assets/colab-badge.svg\" alt=\"Open In Colab\"/></a>"
      ]
    },
    {
      "cell_type": "code",
      "source": [
        "N = int(input())\n",
        "\n",
        "n = list(map(int,input().split()))\n",
        "   \n",
        "print(N-len(set(n)))"
      ],
      "metadata": {
        "colab": {
          "base_uri": "https://localhost:8080/"
        },
        "id": "Y06dd9MLXMjm",
        "outputId": "079bb616-bd03-4541-bea2-a2bcca1e25fc"
      },
      "execution_count": 3,
      "outputs": [
        {
          "output_type": "stream",
          "name": "stdout",
          "text": [
            "3\n",
            "1 2 3\n",
            "0\n"
          ]
        }
      ]
    }
  ],
  "metadata": {
    "colab": {
      "name": "1453(피시방 알바).ipynb",
      "provenance": [],
      "authorship_tag": "ABX9TyPcsRM7xKI59ckfQKb4XHLi",
      "include_colab_link": true
    },
    "kernelspec": {
      "display_name": "Python 3",
      "name": "python3"
    },
    "language_info": {
      "name": "python"
    }
  },
  "nbformat": 4,
  "nbformat_minor": 0
}