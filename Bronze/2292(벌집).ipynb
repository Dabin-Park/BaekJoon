{
  "nbformat": 4,
  "nbformat_minor": 0,
  "metadata": {
    "colab": {
      "name": "2292(벌집).ipynb",
      "provenance": [],
      "authorship_tag": "ABX9TyNtBsZ/ZFsgDFFFi7267T+t",
      "include_colab_link": true
    },
    "kernelspec": {
      "name": "python3",
      "display_name": "Python 3"
    },
    "language_info": {
      "name": "python"
    }
  },
  "cells": [
    {
      "cell_type": "markdown",
      "metadata": {
        "id": "view-in-github",
        "colab_type": "text"
      },
      "source": [
        "<a href=\"https://colab.research.google.com/github/Dabin-Park/BaekJoon/blob/main/Bronze/2292(%EB%B2%8C%EC%A7%91).ipynb\" target=\"_parent\"><img src=\"https://colab.research.google.com/assets/colab-badge.svg\" alt=\"Open In Colab\"/></a>"
      ]
    },
    {
      "cell_type": "code",
      "execution_count": 1,
      "metadata": {
        "colab": {
          "base_uri": "https://localhost:8080/"
        },
        "id": "dT6CvtQPNnKQ",
        "outputId": "9a722ca8-9bb6-40c6-e3b5-57dda713c003"
      },
      "outputs": [
        {
          "output_type": "stream",
          "name": "stdout",
          "text": [
            "58\n",
            "5\n"
          ]
        }
      ],
      "source": [
        "N = int(input())\n",
        "\n",
        "n = 1 \n",
        "\n",
        "while N >= 0 :\n",
        "    if N == 1: \n",
        "        break;\n",
        "    elif N-6*n > 1 :\n",
        "        N -= 6*n\n",
        "        n += 1\n",
        "    else :\n",
        "        n += 1\n",
        "        break; \n",
        "    \n",
        "print(n)"
      ]
    }
  ]
}