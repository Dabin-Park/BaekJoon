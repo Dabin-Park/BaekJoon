{
  "cells": [
    {
      "cell_type": "markdown",
      "metadata": {
        "id": "view-in-github",
        "colab_type": "text"
      },
      "source": [
        "<a href=\"https://colab.research.google.com/github/Dabin-Park/BaekJoon/blob/main/Bronze/1259(%ED%8C%AC%EB%A6%B0%EB%93%9C%EB%A1%AC%EC%88%98).ipynb\" target=\"_parent\"><img src=\"https://colab.research.google.com/assets/colab-badge.svg\" alt=\"Open In Colab\"/></a>"
      ]
    },
    {
      "cell_type": "code",
      "source": [
        "while True:\n",
        "    num = input()\n",
        "    if num == '0':\n",
        "        break\n",
        "    \n",
        "    n ,t = len(num), 1\n",
        "    a = n-1\n",
        "    for i in range(n//2):\n",
        "        if num[i] != num[a-i]:\n",
        "            print('no')\n",
        "            t = 0 \n",
        "            break\n",
        "    if t:\n",
        "        print('yes')\n",
        "        "
      ],
      "metadata": {
        "id": "HBwwya3y6Eyo",
        "outputId": "83b87330-b376-4886-927a-9a266bb3a2e8",
        "colab": {
          "base_uri": "https://localhost:8080/"
        }
      },
      "execution_count": 2,
      "outputs": [
        {
          "name": "stdout",
          "output_type": "stream",
          "text": [
            "121\n",
            "yes\n",
            "1231\n",
            "no\n",
            "12421\n",
            "yes\n",
            "0\n"
          ]
        }
      ]
    }
  ],
  "metadata": {
    "colab": {
      "name": "1259(팬린드롬수).ipynb",
      "provenance": [],
      "collapsed_sections": [],
      "authorship_tag": "ABX9TyNtZXkxKxdgWNMIhT47FhkK",
      "include_colab_link": true
    },
    "kernelspec": {
      "display_name": "Python 3",
      "name": "python3"
    },
    "language_info": {
      "name": "python"
    }
  },
  "nbformat": 4,
  "nbformat_minor": 0
}