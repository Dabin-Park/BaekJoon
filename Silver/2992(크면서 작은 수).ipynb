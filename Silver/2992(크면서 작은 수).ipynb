{
  "cells": [
    {
      "cell_type": "markdown",
      "metadata": {
        "id": "view-in-github",
        "colab_type": "text"
      },
      "source": [
        "<a href=\"https://colab.research.google.com/github/Dabin-Park/BaekJoon/blob/main/Silver/2992(%ED%81%AC%EB%A9%B4%EC%84%9C%20%EC%9E%91%EC%9D%80%20%EC%88%98).ipynb\" target=\"_parent\"><img src=\"https://colab.research.google.com/assets/colab-badge.svg\" alt=\"Open In Colab\"/></a>"
      ]
    },
    {
      "cell_type": "code",
      "execution_count": 1,
      "metadata": {
        "colab": {
          "base_uri": "https://localhost:8080/"
        },
        "id": "k7eFI1eAZZ1Z",
        "outputId": "f54eee8a-7655-430f-c2e5-be303dd39c22"
      },
      "outputs": [
        {
          "output_type": "stream",
          "name": "stdout",
          "text": [
            "156\n",
            "165\n"
          ]
        }
      ],
      "source": [
        "from itertools import permutations\n",
        "\n",
        "def sol(num):\n",
        "    per = sorted([int(\"\".join(i)) for i in set(permutations(num, len(num)))])\n",
        "\n",
        "    for i in range(len(per)):\n",
        "        if per[i] == int(num):\n",
        "            if i < len(per)-1:\n",
        "                return per[i+1]\n",
        "            return 0\n",
        "\n",
        "print(sol(input()))"
      ]
    },
    {
      "cell_type": "code",
      "source": [
        "from itertools import permutations\n",
        "\n",
        "def sol(num):\n",
        "    per = sorted([int(\"\".join(i)) for i in set(permutations(num, len(num)))])\n",
        "    idx = per.index(int(num))\n",
        "    if idx < len(per) - 1:\n",
        "        return per[idx+1]\n",
        "    return 0\n",
        "\n",
        "print(sol(input()))"
      ],
      "metadata": {
        "colab": {
          "base_uri": "https://localhost:8080/"
        },
        "id": "0t4--Lmz62P4",
        "outputId": "39693a16-678e-4fab-8161-aecae934a249"
      },
      "execution_count": 2,
      "outputs": [
        {
          "output_type": "stream",
          "name": "stdout",
          "text": [
            "156\n",
            "165\n"
          ]
        }
      ]
    }
  ],
  "metadata": {
    "colab": {
      "collapsed_sections": [],
      "provenance": [],
      "authorship_tag": "ABX9TyOwENPTNeYuf897FR57MUMn",
      "include_colab_link": true
    },
    "kernelspec": {
      "display_name": "Python 3",
      "name": "python3"
    },
    "language_info": {
      "name": "python"
    }
  },
  "nbformat": 4,
  "nbformat_minor": 0
}