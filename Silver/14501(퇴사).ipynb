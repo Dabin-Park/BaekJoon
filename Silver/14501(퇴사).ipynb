{
  "nbformat": 4,
  "nbformat_minor": 0,
  "metadata": {
    "colab": {
      "name": "14501(퇴사).ipynb",
      "provenance": [],
      "authorship_tag": "ABX9TyMh+WYm2KHwnYz2FX4CtY+w",
      "include_colab_link": true
    },
    "kernelspec": {
      "name": "python3",
      "display_name": "Python 3"
    },
    "language_info": {
      "name": "python"
    }
  },
  "cells": [
    {
      "cell_type": "markdown",
      "metadata": {
        "id": "view-in-github",
        "colab_type": "text"
      },
      "source": [
        "<a href=\"https://colab.research.google.com/github/Dabin-Park/BaekJoon/blob/main/Silver/14501(%ED%87%B4%EC%82%AC).ipynb\" target=\"_parent\"><img src=\"https://colab.research.google.com/assets/colab-badge.svg\" alt=\"Open In Colab\"/></a>"
      ]
    },
    {
      "cell_type": "code",
      "execution_count": 2,
      "metadata": {
        "colab": {
          "base_uri": "https://localhost:8080/"
        },
        "id": "dT6CvtQPNnKQ",
        "outputId": "0acd676e-877f-436a-b4b4-804f771fa025"
      },
      "outputs": [
        {
          "output_type": "stream",
          "name": "stdout",
          "text": [
            "7\n",
            "3 10\n",
            "5 20\n",
            "1 10\n",
            "1 20\n",
            "2 15\n",
            "4 40\n",
            "2 200\n",
            "45\n"
          ]
        }
      ],
      "source": [
        "N = int(input())\n",
        "TP = [list(map(int,input().split())) for _ in range(N)]\n",
        "dp = [0 for _ in range(N)]\n",
        "if TP[0][0] <= N:\n",
        "    dp[0] = TP[0][1]\n",
        "\n",
        "for i in range(1,N):\n",
        "    if i + TP[i][0] <= N:\n",
        "        j,n = i,0\n",
        "        while j > 0:\n",
        "            j -= 1\n",
        "            n += 1\n",
        "            if TP[j][0] <= n:\n",
        "                dp[i] = max(dp[i],dp[j])\n",
        "        dp[i] += TP[i][1] \n",
        "             \n",
        "print(max(dp))"
      ]
    }
  ]
}