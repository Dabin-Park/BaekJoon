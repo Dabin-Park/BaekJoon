{
  "nbformat": 4,
  "nbformat_minor": 0,
  "metadata": {
    "colab": {
      "name": "1041(주사위).ipynb",
      "provenance": [],
      "authorship_tag": "ABX9TyPd3NlgQ9p0Ulq3FiR8AS8Y",
      "include_colab_link": true
    },
    "kernelspec": {
      "name": "python3",
      "display_name": "Python 3"
    },
    "language_info": {
      "name": "python"
    }
  },
  "cells": [
    {
      "cell_type": "markdown",
      "metadata": {
        "id": "view-in-github",
        "colab_type": "text"
      },
      "source": [
        "<a href=\"https://colab.research.google.com/github/Dabin-Park/BaekJoon/blob/main/Gold/1041(%EC%A3%BC%EC%82%AC%EC%9C%84).ipynb\" target=\"_parent\"><img src=\"https://colab.research.google.com/assets/colab-badge.svg\" alt=\"Open In Colab\"/></a>"
      ]
    },
    {
      "cell_type": "code",
      "source": [
        "def new_del(A,a,b):\n",
        "    if a <= 2-b:\n",
        "        del A[a]\n",
        "        del A[4-b*2-a]\n",
        "    else:\n",
        "        del A[a]\n",
        "        del A[5-b*2-a]\n",
        "    return A\n",
        "\n",
        "N = int(input())\n",
        "Dice = list(map(int,input().split()))\n",
        "if N >= 2:\n",
        "    m = min(Dice)\n",
        "    Dice = new_del(Dice,Dice.index(m),0)\n",
        "    m1 = min(Dice)\n",
        "    Dice = new_del(Dice,Dice.index(m1),1)\n",
        "    m2 = min(Dice) \n",
        "\n",
        "    num = (5*N**2 - 8*N + 4)*m + (8*N - 8)*m1 + 4*m2 \n",
        "    #   = m*(5*(N-2)**2 + 4*(N-2)) + two*(8*N-12) + three*4\n",
        "    # where two = m + m1, three = m + m1 + m2  \n",
        "else:\n",
        "    num = sum(Dice) - max(Dice)\n",
        "print(num)"
      ],
      "metadata": {
        "id": "xk6usRE-86iG",
        "colab": {
          "base_uri": "https://localhost:8080/"
        },
        "outputId": "855a4f0b-af30-4a7c-c1a4-3ef03e2e96bd"
      },
      "execution_count": 2,
      "outputs": [
        {
          "output_type": "stream",
          "name": "stdout",
          "text": [
            "2\n",
            "1 2 3 4 5 6\n",
            "36\n"
          ]
        }
      ]
    }
  ]
}