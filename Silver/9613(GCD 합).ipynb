{
  "cells": [
    {
      "cell_type": "markdown",
      "metadata": {
        "id": "view-in-github",
        "colab_type": "text"
      },
      "source": [
        "<a href=\"https://colab.research.google.com/github/Dabin-Park/BaekJoon/blob/main/Silver/9613(GCD%20%ED%95%A9).ipynb\" target=\"_parent\"><img src=\"https://colab.research.google.com/assets/colab-badge.svg\" alt=\"Open In Colab\"/></a>"
      ]
    },
    {
      "cell_type": "markdown",
      "source": [
        "* 재귀함수 사용한것"
      ],
      "metadata": {
        "id": "ObdBmj51f4fc"
      }
    },
    {
      "cell_type": "code",
      "source": [
        "def gcd(a,b):\n",
        "    if b % a == 0:\n",
        "        return a \n",
        "    else :\n",
        "        if a > b :\n",
        "            a %= b\n",
        "            return gcd(a,b)\n",
        "        else :\n",
        "            b %= a\n",
        "            return gcd(b,a)\n",
        "              \n",
        "t = int(input())\n",
        "A = [list(map(int,input().split())) for _ in range(t)]\n",
        "\n",
        "for a in A:\n",
        "    sum = 0\n",
        "    a[1:] = sorted(a[1:])\n",
        "    for i in range(1,a[0]):\n",
        "        for j in range(i+1,a[0]+1):\n",
        "            sum += gcd(a[i],a[j])\n",
        "            \n",
        "    print(sum)             "
      ],
      "metadata": {
        "colab": {
          "base_uri": "https://localhost:8080/"
        },
        "id": "nSrvviDnu1sa",
        "outputId": "aa11268c-3f25-4d6b-a003-dcd1535363b5"
      },
      "execution_count": 1,
      "outputs": [
        {
          "output_type": "stream",
          "name": "stdout",
          "text": [
            "3\n",
            "4 10 20 30 40\n",
            "3 7 5 12\n",
            "3 125 15 25\n",
            "70\n",
            "3\n",
            "35\n"
          ]
        }
      ]
    },
    {
      "cell_type": "markdown",
      "source": [
        "* 재귀함수 사용안한것"
      ],
      "metadata": {
        "id": "cELAxRT3gBJO"
      }
    },
    {
      "cell_type": "code",
      "source": [
        "def gcd(a,b):\n",
        "    while True :\n",
        "        if b == 0 :\n",
        "            return a\n",
        "        elif a % b == 0 :\n",
        "            return b\n",
        "        elif a > b : \n",
        "            a %= b\n",
        "        else :\n",
        "            b %= a \n",
        "    \n",
        "t = int(input())\n",
        "A = [list(map(int,input().split())) for _ in range(t)]\n",
        "\n",
        "for a in A:\n",
        "    sum = 0\n",
        "    a[1:] = sorted(a[1:])\n",
        "    for i in range(1,a[0]):\n",
        "        for j in range(i+1,a[0]+1):\n",
        "            sum += gcd(a[i],a[j])\n",
        "            \n",
        "    print(sum)             "
      ],
      "metadata": {
        "colab": {
          "base_uri": "https://localhost:8080/"
        },
        "id": "5NXWJxUZgG48",
        "outputId": "27ca7a2a-baae-4b1d-a89e-7558b71af2f5"
      },
      "execution_count": 2,
      "outputs": [
        {
          "output_type": "stream",
          "name": "stdout",
          "text": [
            "3\n",
            "4 10 20 30 40\n",
            "3 7 5 12\n",
            "3 125 15 25\n",
            "70\n",
            "3\n",
            "35\n"
          ]
        }
      ]
    }
  ],
  "metadata": {
    "colab": {
      "name": "9613(GCD 합).ipynb",
      "provenance": [],
      "collapsed_sections": [],
      "authorship_tag": "ABX9TyN4iCpUUIA/dWNayb9blIjc",
      "include_colab_link": true
    },
    "kernelspec": {
      "display_name": "Python 3",
      "name": "python3"
    },
    "language_info": {
      "name": "python"
    }
  },
  "nbformat": 4,
  "nbformat_minor": 0
}