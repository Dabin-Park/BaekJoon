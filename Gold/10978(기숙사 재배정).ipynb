{
  "nbformat": 4,
  "nbformat_minor": 0,
  "metadata": {
    "colab": {
      "name": "10978(기숙사 재배정).ipynb",
      "provenance": [],
      "authorship_tag": "ABX9TyPuiGEZQvbenurbC7Lde+OC",
      "include_colab_link": true
    },
    "kernelspec": {
      "name": "python3",
      "display_name": "Python 3"
    },
    "language_info": {
      "name": "python"
    }
  },
  "cells": [
    {
      "cell_type": "markdown",
      "metadata": {
        "id": "view-in-github",
        "colab_type": "text"
      },
      "source": [
        "<a href=\"https://colab.research.google.com/github/Dabin-Park/BaekJoon/blob/main/Gold/10978(%EA%B8%B0%EC%88%99%EC%82%AC%20%EC%9E%AC%EB%B0%B0%EC%A0%95).ipynb\" target=\"_parent\"><img src=\"https://colab.research.google.com/assets/colab-badge.svg\" alt=\"Open In Colab\"/></a>"
      ]
    },
    {
      "cell_type": "code",
      "source": [
        "def factorial(n):\n",
        "    num = 1 \n",
        "    while n > 1:\n",
        "        num *= n\n",
        "        n -=1\n",
        "    return num\n",
        "\n",
        "def combination(n,r):\n",
        "    return factorial(n)//(factorial(r)*factorial(n-r))\n",
        "\n",
        "T = int(input())\n",
        "Numbers = [int(input()) for _ in range(T)]\n",
        "m = max(Numbers)\n",
        "\n",
        "dp =  [factorial(i)-1 for i in range(m+1)]\n",
        "if m < 2:\n",
        "    for _ in range(T):\n",
        "        print(0)\n",
        "else:\n",
        "    for i in range(3,m+1):\n",
        "        for j in range(2,i):\n",
        "            dp[i] -= dp[j]*combination(i,j)\n",
        "            \n",
        "    for number in Numbers:\n",
        "        print(dp[number])"
      ],
      "metadata": {
        "colab": {
          "base_uri": "https://localhost:8080/"
        },
        "id": "4NDvOBDhbpRD",
        "outputId": "073f7929-f08c-4372-8bec-ef07b70f46bd"
      },
      "execution_count": 1,
      "outputs": [
        {
          "output_type": "stream",
          "name": "stdout",
          "text": [
            "2\n",
            "3\n",
            "4\n",
            "2\n",
            "9\n"
          ]
        }
      ]
    },
    {
      "cell_type": "code",
      "source": [
        "def factorial(n):\n",
        "    num = 1 \n",
        "    while n > 1:\n",
        "        num *= n\n",
        "        n -=1\n",
        "    return num\n",
        "\n",
        "def combination(n,r):\n",
        "    return factorial(n)//(factorial(r)*factorial(n-r))\n",
        "\n",
        "dp =  [factorial(i)-1 for i in range(21)]\n",
        "for i in range(3,21):\n",
        "    for j in range(2,i):\n",
        "        dp[i] -= dp[j]*combination(i,j)\n",
        "        \n",
        "T = int(input())\n",
        "for _ in range(T):\n",
        "    print(dp[int(input())])"
      ],
      "metadata": {
        "id": "xk6usRE-86iG",
        "colab": {
          "base_uri": "https://localhost:8080/"
        },
        "outputId": "dfa52cee-8fda-4248-cbe3-98004a04322f"
      },
      "execution_count": 2,
      "outputs": [
        {
          "output_type": "stream",
          "name": "stdout",
          "text": [
            "2\n",
            "3\n",
            "2\n",
            "4\n",
            "9\n"
          ]
        }
      ]
    }
  ]
}