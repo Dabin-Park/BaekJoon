{
  "nbformat": 4,
  "nbformat_minor": 0,
  "metadata": {
    "colab": {
      "provenance": [],
      "collapsed_sections": [],
      "authorship_tag": "ABX9TyNhObfrrBQC64ZREqKV1ksP",
      "include_colab_link": true
    },
    "kernelspec": {
      "name": "python3",
      "display_name": "Python 3"
    },
    "language_info": {
      "name": "python"
    }
  },
  "cells": [
    {
      "cell_type": "markdown",
      "metadata": {
        "id": "view-in-github",
        "colab_type": "text"
      },
      "source": [
        "<a href=\"https://colab.research.google.com/github/Dabin-Park/BaekJoon/blob/main/Silver/11727(2%C3%97n%20%ED%83%80%EC%9D%BC%EB%A7%81%202).ipynb\" target=\"_parent\"><img src=\"https://colab.research.google.com/assets/colab-badge.svg\" alt=\"Open In Colab\"/></a>"
      ]
    },
    {
      "cell_type": "code",
      "source": [
        "n = int(input())\n",
        "\n",
        "dp = [0]*(n+2)\n",
        "dp[1],dp[2] = 1,3\n",
        "for i in range(3,n+1):\n",
        "    dp[i] = (dp[i-2]*2+dp[i-1])%10007\n",
        "        \n",
        "print(dp[n])"
      ],
      "metadata": {
        "colab": {
          "base_uri": "https://localhost:8080/"
        },
        "id": "FkOjEsTjVrUB",
        "outputId": "901002da-551d-4d49-d4fa-d28a3c886288"
      },
      "execution_count": 1,
      "outputs": [
        {
          "output_type": "stream",
          "name": "stdout",
          "text": [
            "8\n",
            "171\n"
          ]
        }
      ]
    },
    {
      "cell_type": "code",
      "source": [
        "def sol(n):\n",
        "    dp = [0]*(n+2)\n",
        "    dp[1],dp[2] = 1,3\n",
        "    for i in range(3,n+1):\n",
        "        dp[i] = (dp[i-2]*2+dp[i-1])%10007\n",
        "    return dp[n]\n",
        "        \n",
        "print(sol(int(input())))"
      ],
      "metadata": {
        "colab": {
          "base_uri": "https://localhost:8080/"
        },
        "id": "plThILBtknr9",
        "outputId": "a262fbdd-0bc5-4fdc-f7b7-0f1abda4b04f"
      },
      "execution_count": 2,
      "outputs": [
        {
          "output_type": "stream",
          "name": "stdout",
          "text": [
            "8\n",
            "171\n"
          ]
        }
      ]
    }
  ]
}