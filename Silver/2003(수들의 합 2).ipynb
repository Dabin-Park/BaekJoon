{
  "nbformat": 4,
  "nbformat_minor": 0,
  "metadata": {
    "colab": {
      "name": "2003(수들의 합 2).ipynb",
      "provenance": [],
      "authorship_tag": "ABX9TyMJ0w2SVZoI/VgfRB2oBizJ",
      "include_colab_link": true
    },
    "kernelspec": {
      "name": "python3",
      "display_name": "Python 3"
    },
    "language_info": {
      "name": "python"
    }
  },
  "cells": [
    {
      "cell_type": "markdown",
      "metadata": {
        "id": "view-in-github",
        "colab_type": "text"
      },
      "source": [
        "<a href=\"https://colab.research.google.com/github/Dabin-Park/BaekJoon/blob/main/Silver/2003(%EC%88%98%EB%93%A4%EC%9D%98%20%ED%95%A9%202).ipynb\" target=\"_parent\"><img src=\"https://colab.research.google.com/assets/colab-badge.svg\" alt=\"Open In Colab\"/></a>"
      ]
    },
    {
      "cell_type": "code",
      "source": [
        "N,M = map(int,input().split())\n",
        "Sequnce = list(map(int,input().split()))\n",
        "\n",
        "s,e = 0,0\n",
        "value = Sequnce[s]\n",
        "num = 0\n",
        "while s <= e and e <= N-1 :\n",
        "    if value < M:\n",
        "        if e == N-1:\n",
        "            break\n",
        "        e += 1\n",
        "        value += Sequnce[e]\n",
        "    else :\n",
        "        if value == M:\n",
        "            num += 1\n",
        "        value -= Sequnce[s]\n",
        "        s += 1\n",
        "        if s > e and e < N-1:\n",
        "            e += 1\n",
        "            value += Sequnce[e]\n",
        "\n",
        "print(num)"
      ],
      "metadata": {
        "colab": {
          "base_uri": "https://localhost:8080/"
        },
        "id": "4NDvOBDhbpRD",
        "outputId": "13afff2f-9eb1-41a2-a509-d1a66ce65181"
      },
      "execution_count": 6,
      "outputs": [
        {
          "output_type": "stream",
          "name": "stdout",
          "text": [
            "4 2\n",
            "1 1 1 1\n",
            "3\n"
          ]
        }
      ]
    }
  ]
}