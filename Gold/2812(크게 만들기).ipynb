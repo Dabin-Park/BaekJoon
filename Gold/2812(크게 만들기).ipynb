{
  "nbformat": 4,
  "nbformat_minor": 0,
  "metadata": {
    "colab": {
      "name": "2812(크게 만들기).ipynb",
      "provenance": [],
      "authorship_tag": "ABX9TyNWKIyGNECFhSCZ0hd+FG5m",
      "include_colab_link": true
    },
    "kernelspec": {
      "name": "python3",
      "display_name": "Python 3"
    },
    "language_info": {
      "name": "python"
    }
  },
  "cells": [
    {
      "cell_type": "markdown",
      "metadata": {
        "id": "view-in-github",
        "colab_type": "text"
      },
      "source": [
        "<a href=\"https://colab.research.google.com/github/Dabin-Park/BaekJoon/blob/main/Gold/2812(%ED%81%AC%EA%B2%8C%20%EB%A7%8C%EB%93%A4%EA%B8%B0).ipynb\" target=\"_parent\"><img src=\"https://colab.research.google.com/assets/colab-badge.svg\" alt=\"Open In Colab\"/></a>"
      ]
    },
    {
      "cell_type": "code",
      "source": [
        "from collections import deque\n",
        "\n",
        "N,K = map(int,input().split())\n",
        "num = deque(list(map(int,input().strip())))\n",
        "i,sol = 0, []\n",
        "\n",
        "while i < K:\n",
        "    if sol and num:\n",
        "        n = num.popleft()\n",
        "        while sol and i < K:\n",
        "            if sol[-1] < n:\n",
        "                sol.pop()\n",
        "                i += 1\n",
        "            else:\n",
        "                break\n",
        "        sol.append(n)\n",
        "    elif not num:\n",
        "        while i < K:\n",
        "            sol.pop()\n",
        "            i += 1\n",
        "    else:\n",
        "        sol.append(num.popleft())\n",
        "    \n",
        "print(*sol, *num, sep = \"\")"
      ],
      "metadata": {
        "id": "CGdbDyPnpFQk",
        "outputId": "df1276ed-57a1-4641-8a8b-81aa64a00235",
        "colab": {
          "base_uri": "https://localhost:8080/"
        }
      },
      "execution_count": 1,
      "outputs": [
        {
          "output_type": "stream",
          "name": "stdout",
          "text": [
            "4 2\n",
            "1924\n",
            "94\n"
          ]
        }
      ]
    },
    {
      "cell_type": "code",
      "source": [
        "N,K = map(int,input().split())\n",
        "num = input()\n",
        "sol = []\n",
        "\n",
        "for n in num:\n",
        "    while sol and sol[-1] < n and K:\n",
        "        sol.pop()\n",
        "        K -= 1\n",
        "    sol.append(n)\n",
        "    \n",
        "print(\"\".join(sol[:len(sol)-K]))"
      ],
      "metadata": {
        "colab": {
          "base_uri": "https://localhost:8080/"
        },
        "id": "whXH70HTj9iH",
        "outputId": "8e2b44b0-511e-40c2-9f2c-4f4b96dd0362"
      },
      "execution_count": 2,
      "outputs": [
        {
          "output_type": "stream",
          "name": "stdout",
          "text": [
            "4 2\n",
            "1924\n",
            "94\n"
          ]
        }
      ]
    }
  ]
}