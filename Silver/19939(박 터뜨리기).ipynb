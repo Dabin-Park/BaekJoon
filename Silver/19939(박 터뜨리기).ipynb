{
  "nbformat": 4,
  "nbformat_minor": 0,
  "metadata": {
    "colab": {
      "provenance": [],
      "authorship_tag": "ABX9TyMTnl/WuiTvSHFSjWltyzzT",
      "include_colab_link": true
    },
    "kernelspec": {
      "name": "python3",
      "display_name": "Python 3"
    },
    "language_info": {
      "name": "python"
    }
  },
  "cells": [
    {
      "cell_type": "markdown",
      "metadata": {
        "id": "view-in-github",
        "colab_type": "text"
      },
      "source": [
        "<a href=\"https://colab.research.google.com/github/Dabin-Park/BaekJoon/blob/main/Silver/19939(%EB%B0%95%20%ED%84%B0%EB%9C%A8%EB%A6%AC%EA%B8%B0).ipynb\" target=\"_parent\"><img src=\"https://colab.research.google.com/assets/colab-badge.svg\" alt=\"Open In Colab\"/></a>"
      ]
    },
    {
      "cell_type": "code",
      "source": [
        "N,K = map(int,input().split())\n",
        "N -= (K*(K+1))//2\n",
        "if N < 0:\n",
        "    print(-1)\n",
        "else:\n",
        "    print(K if N%K else K-1)"
      ],
      "metadata": {
        "colab": {
          "base_uri": "https://localhost:8080/"
        },
        "id": "WgAVHO6Man3x",
        "outputId": "975f215d-8e2e-430c-d659-4436d1cfeb3c"
      },
      "execution_count": 1,
      "outputs": [
        {
          "output_type": "stream",
          "name": "stdout",
          "text": [
            "5 3\n",
            "-1\n"
          ]
        }
      ]
    }
  ]
}