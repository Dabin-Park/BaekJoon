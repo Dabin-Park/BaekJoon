{
  "nbformat": 4,
  "nbformat_minor": 0,
  "metadata": {
    "colab": {
      "provenance": [],
      "authorship_tag": "ABX9TyPoymVxCqBlsIqPIUlAhKYk",
      "include_colab_link": true
    },
    "kernelspec": {
      "name": "python3",
      "display_name": "Python 3"
    },
    "language_info": {
      "name": "python"
    }
  },
  "cells": [
    {
      "cell_type": "markdown",
      "metadata": {
        "id": "view-in-github",
        "colab_type": "text"
      },
      "source": [
        "<a href=\"https://colab.research.google.com/github/Dabin-Park/BaekJoon/blob/main/Gold/16563(%EC%96%B4%EB%A0%A4%EC%9A%B4%20%EC%86%8C%EC%9D%B8%EC%88%98%EB%B6%84%ED%95%B4).ipynb\" target=\"_parent\"><img src=\"https://colab.research.google.com/assets/colab-badge.svg\" alt=\"Open In Colab\"/></a>"
      ]
    },
    {
      "cell_type": "code",
      "source": [
        "def sol(_):\n",
        "    Num = list(map(int,input().split()))\n",
        "    max_ = max(Num)+1\n",
        "    prime = [1]*max_\n",
        "    min_Factorization = [i for i in range(max_)]\n",
        "    for i in range(2,int(max_**0.5)+1):\n",
        "        if prime[i]:\n",
        "            for j in range(2*i,max_,i):\n",
        "                prime[j] = 0\n",
        "                if min_Factorization[j] == j:\n",
        "                    min_Factorization[j] = i\n",
        "    for n in Num:\n",
        "        while n > 1:\n",
        "            print(min_Factorization[n],end = \" \")\n",
        "            n //= min_Factorization[n]\n",
        "        print()\n",
        "        \n",
        "sol(input())"
      ],
      "metadata": {
        "colab": {
          "base_uri": "https://localhost:8080/"
        },
        "id": "e30J77TxSoAj",
        "outputId": "e81e61aa-e06b-4abd-c599-c15af8a1228f"
      },
      "execution_count": 1,
      "outputs": [
        {
          "output_type": "stream",
          "name": "stdout",
          "text": [
            "5\n",
            "5 4 45 64 54\n",
            "5 \n",
            "2 2 \n",
            "3 3 5 \n",
            "2 2 2 2 2 2 \n",
            "2 3 3 3 \n"
          ]
        }
      ]
    }
  ]
}