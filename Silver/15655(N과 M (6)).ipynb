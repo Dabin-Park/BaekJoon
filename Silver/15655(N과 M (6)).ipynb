{
  "nbformat": 4,
  "nbformat_minor": 0,
  "metadata": {
    "colab": {
      "provenance": [],
      "authorship_tag": "ABX9TyMi7mROl99416FrpfI0UDMX",
      "include_colab_link": true
    },
    "kernelspec": {
      "name": "python3",
      "display_name": "Python 3"
    },
    "language_info": {
      "name": "python"
    }
  },
  "cells": [
    {
      "cell_type": "markdown",
      "metadata": {
        "id": "view-in-github",
        "colab_type": "text"
      },
      "source": [
        "<a href=\"https://colab.research.google.com/github/Dabin-Park/BaekJoon/blob/main/Silver/15655(N%EA%B3%BC%20M%20(6)).ipynb\" target=\"_parent\"><img src=\"https://colab.research.google.com/assets/colab-badge.svg\" alt=\"Open In Colab\"/></a>"
      ]
    },
    {
      "cell_type": "code",
      "source": [
        "def sol(i, N, List,k):\n",
        "    for j in range(k,N):\n",
        "        List.append(Sequnce[j])\n",
        "        if i == 1:\n",
        "            print(*List)\n",
        "        else:\n",
        "            k += 1\n",
        "            sol(i-1, N, List,k)   \n",
        "        List.pop()        \n",
        "        \n",
        "N, M = map(int, input().split())\n",
        "Sequnce = sorted(list(map(int,input().split())))\n",
        "sol(M, N, [], 0)"
      ],
      "metadata": {
        "colab": {
          "base_uri": "https://localhost:8080/"
        },
        "id": "Wf1zqg3P9ONw",
        "outputId": "10039e90-9d40-4916-fcf4-cf62b902578f"
      },
      "execution_count": 1,
      "outputs": [
        {
          "output_type": "stream",
          "name": "stdout",
          "text": [
            "3 1\n",
            "4 5 2\n",
            "2\n",
            "4\n",
            "5\n"
          ]
        }
      ]
    }
  ]
}