{
  "cells": [
    {
      "cell_type": "markdown",
      "metadata": {
        "id": "view-in-github",
        "colab_type": "text"
      },
      "source": [
        "<a href=\"https://colab.research.google.com/github/Dabin-Park/BaekJoon/blob/main/Silver/6588(%EA%B3%A8%EB%93%9C%EB%B0%94%ED%9D%90%EC%9D%98%20%EC%B6%94%EC%B8%A1).ipynb\" target=\"_parent\"><img src=\"https://colab.research.google.com/assets/colab-badge.svg\" alt=\"Open In Colab\"/></a>"
      ]
    },
    {
      "cell_type": "code",
      "source": [
        "# import sys\n",
        "# input = sys.stdin.readline \n",
        "def prime(a): \n",
        "    for i in range(2,int(a**0.5)+1):\n",
        "        if a%i == 0:\n",
        "            return 0 \n",
        "    return 1\n",
        "\n",
        "while True:\n",
        "    n = int(input())\n",
        "    t = 1\n",
        "    if n != 0:\n",
        "        for i in range(3,n//2+1,2):\n",
        "            k = n-i\n",
        "            if prime(i) == 1 and prime(k) == 1:\n",
        "                print(f\"{n} = {i} + {k}\")\n",
        "                t = 0\n",
        "                break    \n",
        "        if t:\n",
        "            print(\"Goldbach's conjecture is wrong.\")            \n",
        "    else:\n",
        "        break"
      ],
      "metadata": {
        "colab": {
          "base_uri": "https://localhost:8080/"
        },
        "id": "nSrvviDnu1sa",
        "outputId": "b4e0e342-1b07-4a66-b55c-6845bd1820d3"
      },
      "execution_count": 1,
      "outputs": [
        {
          "name": "stdout",
          "output_type": "stream",
          "text": [
            "8\n",
            "8 = 3 + 5\n",
            "20\n",
            "20 = 3 + 17\n",
            "42\n",
            "42 = 5 + 37\n",
            "0\n"
          ]
        }
      ]
    },
    {
      "cell_type": "markdown",
      "source": [
        "sys 모듈 안써도 시간 초과하지 않는 코드 (sys쓰면 더 빨라짐)"
      ],
      "metadata": {
        "id": "Getmiux9yi16"
      }
    },
    {
      "cell_type": "code",
      "source": [
        "def prime(n):\n",
        "    nums = [1 for _ in range(n+1)]\n",
        "    nums[0] = 0\n",
        "    nums[1] = 0\n",
        "    for i in range(2,n+1):\n",
        "        if nums[i]:\n",
        "            for j in range(i**2,n+1,i):\n",
        "                nums[j] = 0\n",
        "    return nums\n",
        "\n",
        "N = []\n",
        "\n",
        "while True :\n",
        "    n = int(input())\n",
        "    if n != 0:\n",
        "        N.append(n)\n",
        "    else :\n",
        "        break\n",
        "\n",
        "prime_nums = prime(max(N))\n",
        "\n",
        "for n in N:\n",
        "    t = 1\n",
        "    for i in range(3,n//2+1,2):\n",
        "        if prime_nums[i] == 1 and prime_nums[n-i] == 1:\n",
        "            print(f\"{n} = {i} + {n-i}\")\n",
        "            t = 0\n",
        "            break\n",
        "    if t:\n",
        "        print(\"Goldbach's conjecture is wrong.\")            "
      ],
      "metadata": {
        "colab": {
          "base_uri": "https://localhost:8080/"
        },
        "id": "kw_3SbOHu63y",
        "outputId": "763e5c58-ac88-484c-b91a-ef956628abeb"
      },
      "execution_count": 8,
      "outputs": [
        {
          "output_type": "stream",
          "name": "stdout",
          "text": [
            "8\n",
            "20\n",
            "42\n",
            "0\n",
            "8 = 3 + 5\n",
            "20 = 3 + 17\n",
            "42 = 5 + 37\n"
          ]
        }
      ]
    }
  ],
  "metadata": {
    "colab": {
      "name": "6588(골드바흐의 추측).ipynb",
      "provenance": [],
      "collapsed_sections": [],
      "authorship_tag": "ABX9TyO9ZTkaVtmwKAjCilpJ9jX9",
      "include_colab_link": true
    },
    "kernelspec": {
      "display_name": "Python 3",
      "name": "python3"
    },
    "language_info": {
      "name": "python"
    }
  },
  "nbformat": 4,
  "nbformat_minor": 0
}