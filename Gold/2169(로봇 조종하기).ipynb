{
  "nbformat": 4,
  "nbformat_minor": 0,
  "metadata": {
    "colab": {
      "name": "2169(로봇 조종하기).ipynb",
      "provenance": [],
      "authorship_tag": "ABX9TyN/EUHcsDe69jwTTyI3rfEi",
      "include_colab_link": true
    },
    "kernelspec": {
      "name": "python3",
      "display_name": "Python 3"
    },
    "language_info": {
      "name": "python"
    }
  },
  "cells": [
    {
      "cell_type": "markdown",
      "metadata": {
        "id": "view-in-github",
        "colab_type": "text"
      },
      "source": [
        "<a href=\"https://colab.research.google.com/github/Dabin-Park/BaekJoon/blob/main/Gold/2169(%EB%A1%9C%EB%B4%87%20%EC%A1%B0%EC%A2%85%ED%95%98%EA%B8%B0).ipynb\" target=\"_parent\"><img src=\"https://colab.research.google.com/assets/colab-badge.svg\" alt=\"Open In Colab\"/></a>"
      ]
    },
    {
      "cell_type": "code",
      "source": [
        "N,M = map(int,input().split())\n",
        "Mars = [list(map(int,input().split())) for _ in range(N)]\n",
        "dp = [[0 for _ in range(M)] for _ in range(N)]\n",
        "dpleft = [[0 for _ in range(M)] for _ in range(N)]\n",
        "dpright = [[0 for _ in range(M)] for _ in range(N)]\n",
        "dp[0][0], dpleft[0][0], dpright[0][0] = Mars[0][0], Mars[0][0], Mars[0][0]\n",
        "\n",
        "for i in range(1,M):\n",
        "    dp[0][i] = dp[0][i-1] + Mars[0][i]\n",
        "    dpleft[0][i], dpright[0][i] = dp[0][i], dp[0][i]\n",
        "\n",
        "for i in range(1,N-1):\n",
        "    dpleft[i][0] = dp[i-1][0] + Mars[i][0]\n",
        "    dpright[i][-1] = dp[i-1][-1] + Mars[i][-1]\n",
        "    for j in range(1,M):\n",
        "        dpleft[i][j] = max(dpleft[i][j-1],dp[i-1][j]) + Mars[i][j]\n",
        "        dpright[i][M-j-1] = max(dpright[i][M-j],dp[i-1][M-j-1]) + Mars[i][M-j-1]\n",
        "    \n",
        "    for j in range(M):\n",
        "        dp[i][j] = max(dpleft[i][j],dpright[i][j])\n",
        "\n",
        "\n",
        "if N >= 2:\n",
        "    dp[-1][0] = dp[-2][0] + Mars[-1][0]\n",
        "    for i in range(1,M):\n",
        "        dp[-1][i] = max(dp[-1][i-1], dp[-2][i]) + Mars[-1][i]\n",
        "else:\n",
        "    for i in range(1,M):\n",
        "        dp[-1][i] = dp[-1][i-1] + Mars[-1][i]\n",
        "        \n",
        "print(dp[-1][-1])"
      ],
      "metadata": {
        "id": "xk6usRE-86iG",
        "colab": {
          "base_uri": "https://localhost:8080/"
        },
        "outputId": "9bad4831-a41b-4c27-f28f-1520b83bba32"
      },
      "execution_count": 1,
      "outputs": [
        {
          "output_type": "stream",
          "name": "stdout",
          "text": [
            "5 5\n",
            "10 25 7 8 13\n",
            "68 24 -78 63 32\n",
            "12 -69 100 -29 -25\n",
            "-16 -22 -57 -33 99\n",
            "7 -76 -11 77 15\n",
            "319\n"
          ]
        }
      ]
    }
  ]
}