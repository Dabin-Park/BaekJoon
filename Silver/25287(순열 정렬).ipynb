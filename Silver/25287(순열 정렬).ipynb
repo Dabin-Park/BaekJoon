{
  "cells": [
    {
      "cell_type": "markdown",
      "metadata": {
        "id": "view-in-github",
        "colab_type": "text"
      },
      "source": [
        "<a href=\"https://colab.research.google.com/github/Dabin-Park/BaekJoon/blob/main/Silver/25287(%EC%88%9C%EC%97%B4%20%EC%A0%95%EB%A0%AC).ipynb\" target=\"_parent\"><img src=\"https://colab.research.google.com/assets/colab-badge.svg\" alt=\"Open In Colab\"/></a>"
      ]
    },
    {
      "cell_type": "code",
      "source": [
        "T = int(input())\n",
        "for _ in range(T):\n",
        "    N = int(input())\n",
        "    A = list(map(int,input().split()))\n",
        "    for i in range(N-1):\n",
        "        if A[i] > A[i+1]:\n",
        "            A[i+1] = N - A[i+1] + 1\n",
        "    for i in range(N-1,0,-1):\n",
        "        if A[i] < A[i-1]:\n",
        "            A[i-1] = N - A[i-1] + 1\n",
        "    t = 1\n",
        "    for i in range(N-1):\n",
        "        if A[i] > A[i+1]:\n",
        "            t = 0\n",
        "            break\n",
        "    if t :\n",
        "        print(\"YES\")\n",
        "    else:\n",
        "        print(\"NO\")"
      ],
      "metadata": {
        "id": "HBwwya3y6Eyo",
        "outputId": "9bebea02-a2d6-4104-e647-115d1866898d",
        "colab": {
          "base_uri": "https://localhost:8080/"
        }
      },
      "execution_count": 1,
      "outputs": [
        {
          "output_type": "stream",
          "name": "stdout",
          "text": [
            "5\n",
            "1\n",
            "1\n",
            "YES\n",
            "2\n",
            "2 1\n",
            "YES\n",
            "3\n",
            "2 3 1\n",
            "YES\n",
            "5\n",
            "5 2 3 4 1\n",
            "YES\n",
            "5\n",
            "2 5 3 1 4\n",
            "NO\n"
          ]
        }
      ]
    }
  ],
  "metadata": {
    "colab": {
      "name": "25287(순열 정렬).ipynb",
      "provenance": [],
      "collapsed_sections": [],
      "authorship_tag": "ABX9TyPcFgmbLmxj1rADeOEc88jQ",
      "include_colab_link": true
    },
    "kernelspec": {
      "display_name": "Python 3",
      "name": "python3"
    },
    "language_info": {
      "name": "python"
    }
  },
  "nbformat": 4,
  "nbformat_minor": 0
}