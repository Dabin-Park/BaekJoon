{
  "nbformat": 4,
  "nbformat_minor": 0,
  "metadata": {
    "colab": {
      "provenance": [],
      "authorship_tag": "ABX9TyMSZGNCw/XlkFcd0vO5nMhO",
      "include_colab_link": true
    },
    "kernelspec": {
      "name": "python3",
      "display_name": "Python 3"
    },
    "language_info": {
      "name": "python"
    }
  },
  "cells": [
    {
      "cell_type": "markdown",
      "metadata": {
        "id": "view-in-github",
        "colab_type": "text"
      },
      "source": [
        "<a href=\"https://colab.research.google.com/github/Dabin-Park/BaekJoon/blob/main/Silver/9711(%ED%94%BC%EB%B3%B4%EB%82%98%EC%B9%98).ipynb\" target=\"_parent\"><img src=\"https://colab.research.google.com/assets/colab-badge.svg\" alt=\"Open In Colab\"/></a>"
      ]
    },
    {
      "cell_type": "code",
      "source": [
        "def sol():\n",
        "    dp = [1,1]+[0]*9998\n",
        "    for i in range(2,10000):\n",
        "        dp[i] = dp[i-1] + dp[i-2]\n",
        "    for i in range(int(input())):\n",
        "        P,Q = map(int,input().split())\n",
        "        print(f\"Case #{i+1}:\",dp[P-1]%Q)\n",
        "    \n",
        "sol()"
      ],
      "metadata": {
        "colab": {
          "base_uri": "https://localhost:8080/"
        },
        "id": "XS0VHQmBaQda",
        "outputId": "4e4837b9-e692-4566-aa77-58004a29078c"
      },
      "execution_count": 1,
      "outputs": [
        {
          "output_type": "stream",
          "name": "stdout",
          "text": [
            "10\n",
            "5 10\n",
            "Case #1: 5\n",
            "6 25\n",
            "Case #2: 8\n",
            "10 21\n",
            "Case #3: 13\n",
            "32 43\n",
            "Case #4: 15\n",
            "100 100\n",
            "Case #5: 75\n",
            "50 50\n",
            "Case #6: 25\n",
            "25 25\n",
            "Case #7: 0\n",
            "45 67\n",
            "Case #8: 19\n",
            "109 32\n",
            "Case #9: 9\n",
            "128 128\n",
            "Case #10: 69\n"
          ]
        }
      ]
    }
  ]
}