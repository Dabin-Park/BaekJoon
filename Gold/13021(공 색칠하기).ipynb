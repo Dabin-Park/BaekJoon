{
  "nbformat": 4,
  "nbformat_minor": 0,
  "metadata": {
    "colab": {
      "name": "13021(공 색칠하기).ipynb",
      "provenance": [],
      "authorship_tag": "ABX9TyPl92ELmQUW/QJdQTsm3def",
      "include_colab_link": true
    },
    "kernelspec": {
      "name": "python3",
      "display_name": "Python 3"
    },
    "language_info": {
      "name": "python"
    }
  },
  "cells": [
    {
      "cell_type": "markdown",
      "metadata": {
        "id": "view-in-github",
        "colab_type": "text"
      },
      "source": [
        "<a href=\"https://colab.research.google.com/github/Dabin-Park/BaekJoon/blob/main/Gold/13021(%EA%B3%B5%20%EC%83%89%EC%B9%A0%ED%95%98%EA%B8%B0).ipynb\" target=\"_parent\"><img src=\"https://colab.research.google.com/assets/colab-badge.svg\" alt=\"Open In Colab\"/></a>"
      ]
    },
    {
      "cell_type": "code",
      "source": [
        "N,M = map(int,input().split())\n",
        "Line = [0 for _ in range(N)]\n",
        "\n",
        "for i in range(M):\n",
        "    s,e = map(int,input().split())\n",
        "    Line[s-1:e] = [i+1]*(e+1-s)\n",
        "\n",
        "set_num,num = set([]),1\n",
        "for line in Line:\n",
        "    if line and line not in set_num:\n",
        "        set_num.add(line)\n",
        "        num *= 2\n",
        "        \n",
        "print(num)"
      ],
      "metadata": {
        "colab": {
          "base_uri": "https://localhost:8080/"
        },
        "id": "whXH70HTj9iH",
        "outputId": "ea1a0def-9ff4-41fa-d697-23e9b3932657"
      },
      "execution_count": 2,
      "outputs": [
        {
          "output_type": "stream",
          "name": "stdout",
          "text": [
            "4 3\n",
            "1 1\n",
            "2 2\n",
            "3 3\n",
            "8\n"
          ]
        }
      ]
    },
    {
      "cell_type": "code",
      "source": [
        "N,M = map(int,input().split())\n",
        "Line = [1]*N\n",
        "\n",
        "for i in range(M,0,-1):\n",
        "    s,e = map(int,input().split())\n",
        "    Line[s-1:e] = [i]*(e+1-s)\n",
        "        \n",
        "print(2**len(set(Line)))"
      ],
      "metadata": {
        "colab": {
          "base_uri": "https://localhost:8080/"
        },
        "id": "hfY0SGOjovSF",
        "outputId": "f81a8a23-7965-4637-aafd-30497bf392fb"
      },
      "execution_count": 3,
      "outputs": [
        {
          "output_type": "stream",
          "name": "stdout",
          "text": [
            "4 3\n",
            "1 1\n",
            "2 2\n",
            "3 3\n",
            "8\n"
          ]
        }
      ]
    }
  ]
}