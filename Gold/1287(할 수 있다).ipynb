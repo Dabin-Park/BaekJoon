{
  "nbformat": 4,
  "nbformat_minor": 0,
  "metadata": {
    "colab": {
      "provenance": [],
      "authorship_tag": "ABX9TyPEeijO5w9FJvwjmOPC07IG",
      "include_colab_link": true
    },
    "kernelspec": {
      "name": "python3",
      "display_name": "Python 3"
    },
    "language_info": {
      "name": "python"
    }
  },
  "cells": [
    {
      "cell_type": "markdown",
      "metadata": {
        "id": "view-in-github",
        "colab_type": "text"
      },
      "source": [
        "<a href=\"https://colab.research.google.com/github/Dabin-Park/BaekJoon/blob/main/Gold/1287(%ED%95%A0%20%EC%88%98%20%EC%9E%88%EB%8B%A4).ipynb\" target=\"_parent\"><img src=\"https://colab.research.google.com/assets/colab-badge.svg\" alt=\"Open In Colab\"/></a>"
      ]
    },
    {
      "cell_type": "code",
      "source": [
        "import re\n",
        "\n",
        "def is_possible(Equation):\n",
        "    op_cnt = galho_cnt = 0\n",
        "    for equa in Equation:\n",
        "        if equa in \"+-/*\":\n",
        "            op_cnt += 1\n",
        "        elif equa == \"(\":\n",
        "            galho_cnt += 1\n",
        "        elif equa == \")\":\n",
        "            galho_cnt -= 1\n",
        "        \n",
        "    num_cnt = len(re.findall('\\d+', Equation))\n",
        "    if num_cnt - op_cnt == 1 and galho_cnt == 0:\n",
        "        return True \n",
        "    return False\n",
        "    \n",
        "def sol(Equation):\n",
        "    if is_possible(Equation):\n",
        "        try:\n",
        "            return eval(Equation.replace(\"/\",\"//\") )\n",
        "        except:\n",
        "            return \"ROCK\"\n",
        "    return \"ROCK\"\n",
        "            \n",
        "print(sol(input()))"
      ],
      "metadata": {
        "colab": {
          "base_uri": "https://localhost:8080/"
        },
        "id": "-n7Jl3MFSbU9",
        "outputId": "9a70ae26-1057-4a71-9137-92e905dc02a6"
      },
      "execution_count": 1,
      "outputs": [
        {
          "output_type": "stream",
          "name": "stdout",
          "text": [
            "5+(1+2)*3\n",
            "14\n"
          ]
        }
      ]
    }
  ]
}