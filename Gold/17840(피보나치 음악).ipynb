{
  "nbformat": 4,
  "nbformat_minor": 0,
  "metadata": {
    "colab": {
      "name": "17840(피보나치 음악).ipynb",
      "provenance": [],
      "authorship_tag": "ABX9TyPE1h2oAt3pB07OC9eyRoGJ",
      "include_colab_link": true
    },
    "kernelspec": {
      "name": "python3",
      "display_name": "Python 3"
    },
    "language_info": {
      "name": "python"
    }
  },
  "cells": [
    {
      "cell_type": "markdown",
      "metadata": {
        "id": "view-in-github",
        "colab_type": "text"
      },
      "source": [
        "<a href=\"https://colab.research.google.com/github/Dabin-Park/BaekJoon/blob/main/Gold/17840(%ED%94%BC%EB%B3%B4%EB%82%98%EC%B9%98%20%EC%9D%8C%EC%95%85).ipynb\" target=\"_parent\"><img src=\"https://colab.research.google.com/assets/colab-badge.svg\" alt=\"Open In Colab\"/></a>"
      ]
    },
    {
      "cell_type": "code",
      "source": [
        "Q,M = map(int,input().split())\n",
        "Numbers = [int(input()) for _ in range(Q)]\n",
        "a,b = 1,1\n",
        "dp = [1,1]\n",
        "while 1:\n",
        "    a = (a+b) % M\n",
        "    if a == 1 and b == 1:\n",
        "        dp.pop()\n",
        "        break\n",
        "    x = str(a)\n",
        "    dp += list(map(int,x))\n",
        "    b = (a+b) % M\n",
        "    if a == 1 and b == 1:\n",
        "        dp.pop()\n",
        "        break\n",
        "    y = str(b)\n",
        "    dp += list(map(int,y))\n",
        "\n",
        "len_dp = len(dp)\n",
        "\n",
        "for n in Numbers:\n",
        "    print(dp[n%len_dp-1])"
      ],
      "metadata": {
        "id": "CGdbDyPnpFQk",
        "outputId": "fcf26c4a-e56b-4a22-d8ef-138c1ea62f88",
        "colab": {
          "base_uri": "https://localhost:8080/"
        }
      },
      "execution_count": 1,
      "outputs": [
        {
          "output_type": "stream",
          "name": "stdout",
          "text": [
            "2 10\n",
            "5 \n",
            "8\n",
            "5\n",
            "1\n"
          ]
        }
      ]
    },
    {
      "cell_type": "code",
      "source": [
        "Q,M = map(int,input().split())\n",
        "Numbers = [int(input()) for _ in range(Q)]\n",
        "a,b = 1,1\n",
        "dp = [1,1]\n",
        "while 1:\n",
        "    a = (a+b) % M\n",
        "    b = (a+b) % M\n",
        "    if a == 1 and b == 1:\n",
        "        break\n",
        "    x,y = str(a), str(b)\n",
        "    dp += list(map(int,x+y))\n",
        "\n",
        "len_dp = len(dp)\n",
        "\n",
        "for n in Numbers:\n",
        "    print(dp[n%len_dp-1])"
      ],
      "metadata": {
        "colab": {
          "base_uri": "https://localhost:8080/"
        },
        "id": "QVuGCJ5dxe73",
        "outputId": "e49f14d2-3134-4c24-837c-0de64dbececa"
      },
      "execution_count": 2,
      "outputs": [
        {
          "output_type": "stream",
          "name": "stdout",
          "text": [
            "2 10\n",
            "5\n",
            "8\n",
            "5\n",
            "1\n"
          ]
        }
      ]
    }
  ]
}