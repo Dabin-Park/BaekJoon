{
  "nbformat": 4,
  "nbformat_minor": 0,
  "metadata": {
    "colab": {
      "provenance": [],
      "collapsed_sections": [],
      "authorship_tag": "ABX9TyMnwjg+mJmmxNkJMRU5FNY7",
      "include_colab_link": true
    },
    "kernelspec": {
      "name": "python3",
      "display_name": "Python 3"
    },
    "language_info": {
      "name": "python"
    }
  },
  "cells": [
    {
      "cell_type": "markdown",
      "metadata": {
        "id": "view-in-github",
        "colab_type": "text"
      },
      "source": [
        "<a href=\"https://colab.research.google.com/github/Dabin-Park/BaekJoon/blob/main/Silver/1822(%EC%B0%A8%EC%A7%91%ED%95%A9).ipynb\" target=\"_parent\"><img src=\"https://colab.research.google.com/assets/colab-badge.svg\" alt=\"Open In Colab\"/></a>"
      ]
    },
    {
      "cell_type": "code",
      "source": [
        "num_A,num_B = map(int,input().split())\n",
        "A = {value:1 for value in map(int,input().split())}\n",
        "\n",
        "for b in map(int,input().split()):\n",
        "    if b in A:\n",
        "        A[b] = 0\n",
        "\n",
        "num = 0\n",
        "Sol = []\n",
        "for a in A:\n",
        "    if A[a]:\n",
        "        num += 1\n",
        "        Sol.append(a)\n",
        "\n",
        "print(num)\n",
        "if num:\n",
        "    print(*sorted(Sol))"
      ],
      "metadata": {
        "id": "k7eFI1eAZZ1Z",
        "outputId": "e563f45a-7663-4189-c6a4-c07f2a0334e1",
        "colab": {
          "base_uri": "https://localhost:8080/"
        }
      },
      "execution_count": 1,
      "outputs": [
        {
          "output_type": "stream",
          "name": "stdout",
          "text": [
            "4 3\n",
            "2 5 11 7\n",
            "9 7 4\n",
            "3\n",
            "2 5 11\n"
          ]
        }
      ]
    }
  ]
}