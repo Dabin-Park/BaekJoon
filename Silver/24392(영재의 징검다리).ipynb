{
  "cells": [
    {
      "cell_type": "markdown",
      "metadata": {
        "id": "view-in-github",
        "colab_type": "text"
      },
      "source": [
        "<a href=\"https://colab.research.google.com/github/Dabin-Park/BaekJoon/blob/main/Silver/24392(%EC%98%81%EC%9E%AC%EC%9D%98%20%EC%A7%95%EA%B2%80%EB%8B%A4%EB%A6%AC).ipynb\" target=\"_parent\"><img src=\"https://colab.research.google.com/assets/colab-badge.svg\" alt=\"Open In Colab\"/></a>"
      ]
    },
    {
      "cell_type": "code",
      "source": [
        "N,M = map(int,input().split())\n",
        "Bridge = [list(map(int,input().split())) for _ in range(N)]\n",
        "dp = [[0 for _ in range(M)] for _ in range(N)]\n",
        "\n",
        "dp[0] = Bridge[0]\n",
        "for i in range(1,N):\n",
        "    for j in range(M):\n",
        "        if Bridge[i][j]:\n",
        "            if j > 0 and j < M-1: \n",
        "                dp[i][j] = sum(dp[i-1][j-1:j+2])%1000000007\n",
        "            elif j == 0:\n",
        "                dp[i][j] = sum(dp[i-1][:j+2])%1000000007\n",
        "            else:\n",
        "                dp[i][j] = sum(dp[i-1][j-1:])%1000000007\n",
        "print(sum(dp[-1])%1000000007)"
      ],
      "metadata": {
        "id": "HBwwya3y6Eyo",
        "outputId": "588105b4-8213-46c2-e0a9-c9a4c25f89fc",
        "colab": {
          "base_uri": "https://localhost:8080/"
        }
      },
      "execution_count": 2,
      "outputs": [
        {
          "output_type": "stream",
          "name": "stdout",
          "text": [
            "3 2\n",
            "0 1\n",
            "1 0\n",
            "0 1\n",
            "1\n"
          ]
        }
      ]
    },
    {
      "cell_type": "code",
      "source": [
        "N,M = map(int,input().split())\n",
        "Bridge = [[0]+list(map(int,input().split()))+[0] for _ in range(N)]\n",
        "dp = [[0 for _ in range(M+2)] for _ in range(N)]\n",
        "\n",
        "dp[0] = Bridge[0]\n",
        "for i in range(1,N):\n",
        "    for j in range(M+2):\n",
        "        if Bridge[i][j]:\n",
        "            dp[i][j] = sum(dp[i-1][j-1:j+2])%1000000007\n",
        "\n",
        "print(sum(dp[-1])%1000000007)"
      ],
      "metadata": {
        "colab": {
          "base_uri": "https://localhost:8080/"
        },
        "id": "ei5-BZnMGGZ5",
        "outputId": "bea6165a-786e-4549-96c3-b1e7e42887df"
      },
      "execution_count": 3,
      "outputs": [
        {
          "output_type": "stream",
          "name": "stdout",
          "text": [
            "3 2\n",
            "0 1\n",
            "1 0\n",
            "0 1\n",
            "1\n"
          ]
        }
      ]
    }
  ],
  "metadata": {
    "colab": {
      "name": "24392(영재의 징검다리)",
      "provenance": [],
      "collapsed_sections": [],
      "authorship_tag": "ABX9TyO2Je2606/U6KSNm/WYII2O",
      "include_colab_link": true
    },
    "kernelspec": {
      "display_name": "Python 3",
      "name": "python3"
    },
    "language_info": {
      "name": "python"
    }
  },
  "nbformat": 4,
  "nbformat_minor": 0
}