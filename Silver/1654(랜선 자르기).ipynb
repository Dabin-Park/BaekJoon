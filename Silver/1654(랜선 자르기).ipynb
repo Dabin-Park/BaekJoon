{
  "nbformat": 4,
  "nbformat_minor": 0,
  "metadata": {
    "colab": {
      "provenance": [],
      "collapsed_sections": [],
      "authorship_tag": "ABX9TyPZ7d5CwAr4vH8YIYe4bFMt",
      "include_colab_link": true
    },
    "kernelspec": {
      "name": "python3",
      "display_name": "Python 3"
    },
    "language_info": {
      "name": "python"
    }
  },
  "cells": [
    {
      "cell_type": "markdown",
      "metadata": {
        "id": "view-in-github",
        "colab_type": "text"
      },
      "source": [
        "<a href=\"https://colab.research.google.com/github/Dabin-Park/BaekJoon/blob/main/Silver/1654(%EB%9E%9C%EC%84%A0%20%EC%9E%90%EB%A5%B4%EA%B8%B0).ipynb\" target=\"_parent\"><img src=\"https://colab.research.google.com/assets/colab-badge.svg\" alt=\"Open In Colab\"/></a>"
      ]
    },
    {
      "cell_type": "code",
      "source": [
        "def sol():\n",
        "    K,N = map(int,input().split())\n",
        "    Lines = sorted([int(input()) for _ in range(K)])\n",
        "    left, right = 1, Lines[-1]\n",
        "    while left <= right:\n",
        "        m = (left + right)//2\n",
        "        num = 0\n",
        "        for i in range(K-1,-1,-1):\n",
        "            if Lines[i] < m:\n",
        "                break\n",
        "            num += Lines[i]//m\n",
        "        if num >= N:\n",
        "            left = m + 1\n",
        "        else:\n",
        "            right = m - 1\n",
        "    return right\n",
        "\n",
        "print(sol())"
      ],
      "metadata": {
        "id": "k7eFI1eAZZ1Z",
        "outputId": "3f78861b-25cd-4150-90fe-46484e975f04",
        "colab": {
          "base_uri": "https://localhost:8080/"
        }
      },
      "execution_count": 3,
      "outputs": [
        {
          "output_type": "stream",
          "name": "stdout",
          "text": [
            "4 11\n",
            "802\n",
            "743\n",
            "457\n",
            "539\n",
            "200\n"
          ]
        }
      ]
    }
  ]
}