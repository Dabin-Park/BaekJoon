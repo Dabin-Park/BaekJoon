{
  "nbformat": 4,
  "nbformat_minor": 0,
  "metadata": {
    "colab": {
      "provenance": [],
      "authorship_tag": "ABX9TyNuhn0dTjATTAzNtpbpEWg6",
      "include_colab_link": true
    },
    "kernelspec": {
      "name": "python3",
      "display_name": "Python 3"
    },
    "language_info": {
      "name": "python"
    }
  },
  "cells": [
    {
      "cell_type": "markdown",
      "metadata": {
        "id": "view-in-github",
        "colab_type": "text"
      },
      "source": [
        "<a href=\"https://colab.research.google.com/github/Dabin-Park/BaekJoon/blob/main/Silver/3758(KCPC).ipynb\" target=\"_parent\"><img src=\"https://colab.research.google.com/assets/colab-badge.svg\" alt=\"Open In Colab\"/></a>"
      ]
    },
    {
      "cell_type": "code",
      "source": [
        "def sol():\n",
        "    n,k,t,m = map(int,input().split())\n",
        "    Team = [[0]*(n+1)]+[[0]*(k+1) for _ in range(n)] + [[0]*(n+1)]\n",
        "    for l in range(m):\n",
        "        i,j,s = map(int,input().split())\n",
        "        Team[i][j] = max(Team[i][j],s)\n",
        "        Team[0][i] += 1\n",
        "        Team[-1][i] = l\n",
        "    Score = [[i,sum(Team[i]),Team[0][i],Team[-1][i]] for i in range(1,n+1)]\n",
        "    Score.sort(key = lambda x : (-x[1],x[2],x[3]))\n",
        "    for i in range(n):\n",
        "        if Score[i][0] == t:\n",
        "            return i+1\n",
        "       \n",
        "for _ in range(int(input())):\n",
        "    print(sol())\n"
      ],
      "metadata": {
        "id": "Eum8oDR9H9Ie",
        "colab": {
          "base_uri": "https://localhost:8080/"
        },
        "outputId": "af849203-3150-4480-b4e1-5d1063243a2d"
      },
      "execution_count": 1,
      "outputs": [
        {
          "output_type": "stream",
          "name": "stdout",
          "text": [
            "2 \n",
            "3 4 3 5 \n",
            "1 1 30 \n",
            "2 3 30 \n",
            "1 2 40 \n",
            "1 2 20 \n",
            "3 1 70 \n",
            "1\n",
            "4 4 1 10 \n",
            "1 1 50 \n",
            "2 1 20 \n",
            "1 1 80 \n",
            "3 1 0 \n",
            "1 2 20 \n",
            "2 2 10 \n",
            "4 3 0\n",
            " 2 1 0 \n",
            "2 2 100 \n",
            "1 4 20\n",
            "2\n"
          ]
        }
      ]
    }
  ]
}