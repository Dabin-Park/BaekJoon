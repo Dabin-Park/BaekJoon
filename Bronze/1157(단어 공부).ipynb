{
  "nbformat": 4,
  "nbformat_minor": 0,
  "metadata": {
    "colab": {
      "name": "1157(단어 공부).ipynb",
      "provenance": [],
      "authorship_tag": "ABX9TyMdSqhIJ8MmNqvEhwPbTSPq",
      "include_colab_link": true
    },
    "kernelspec": {
      "name": "python3",
      "display_name": "Python 3"
    },
    "language_info": {
      "name": "python"
    }
  },
  "cells": [
    {
      "cell_type": "markdown",
      "metadata": {
        "id": "view-in-github",
        "colab_type": "text"
      },
      "source": [
        "<a href=\"https://colab.research.google.com/github/Dabin-Park/BaekJoon/blob/main/Bronze/1157(%EB%8B%A8%EC%96%B4%20%EA%B3%B5%EB%B6%80).ipynb\" target=\"_parent\"><img src=\"https://colab.research.google.com/assets/colab-badge.svg\" alt=\"Open In Colab\"/></a>"
      ]
    },
    {
      "cell_type": "code",
      "source": [
        "N = sorted(input().upper())\n",
        "alpha = N[0]\n",
        "num,max_num = 1,0\n",
        "sol = ''\n",
        "for n in N[1:]:\n",
        "    if n == alpha:\n",
        "       num += 1\n",
        "    else:\n",
        "        if num > max_num:\n",
        "            max_num = num\n",
        "            sol = alpha\n",
        "        elif num == max_num:\n",
        "            sol = \"?\"\n",
        "        alpha = n\n",
        "        num = 1\n",
        "        \n",
        "if num > max_num:\n",
        "    sol = alpha\n",
        "elif num == max_num:\n",
        "    sol = \"?\"\n",
        "\n",
        "print(sol)"
      ],
      "metadata": {
        "id": "xk6usRE-86iG",
        "colab": {
          "base_uri": "https://localhost:8080/"
        },
        "outputId": "76189df6-d83c-4248-b8e9-821df6733e21"
      },
      "execution_count": 6,
      "outputs": [
        {
          "output_type": "stream",
          "name": "stdout",
          "text": [
            "Mississipi\n",
            "?\n"
          ]
        }
      ]
    },
    {
      "cell_type": "code",
      "source": [
        "N = input().upper()\n",
        "Words = list(set(N))\n",
        "cnt = [N.count(i) for i in Words]\n",
        "\n",
        "if cnt.count(max(cnt)) > 1:\n",
        "    print(\"?\")\n",
        "else:\n",
        "    print(Words[cnt.index(max(cnt))])  "
      ],
      "metadata": {
        "colab": {
          "base_uri": "https://localhost:8080/"
        },
        "id": "rQeyRZlzugZS",
        "outputId": "c760478d-10e0-4955-8323-5ca4dd7d7313"
      },
      "execution_count": 7,
      "outputs": [
        {
          "output_type": "stream",
          "name": "stdout",
          "text": [
            "Mississipi\n",
            "?\n"
          ]
        }
      ]
    }
  ]
}