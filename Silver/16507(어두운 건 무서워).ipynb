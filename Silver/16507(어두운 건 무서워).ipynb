{
  "nbformat": 4,
  "nbformat_minor": 0,
  "metadata": {
    "colab": {
      "provenance": [],
      "authorship_tag": "ABX9TyNopLapJaj/U+HuY3qFxh1h",
      "include_colab_link": true
    },
    "kernelspec": {
      "name": "python3",
      "display_name": "Python 3"
    },
    "language_info": {
      "name": "python"
    }
  },
  "cells": [
    {
      "cell_type": "markdown",
      "metadata": {
        "id": "view-in-github",
        "colab_type": "text"
      },
      "source": [
        "<a href=\"https://colab.research.google.com/github/Dabin-Park/BaekJoon/blob/main/Silver/16507(%EC%96%B4%EB%91%90%EC%9A%B4%20%EA%B1%B4%20%EB%AC%B4%EC%84%9C%EC%9B%8C).ipynb\" target=\"_parent\"><img src=\"https://colab.research.google.com/assets/colab-badge.svg\" alt=\"Open In Colab\"/></a>"
      ]
    },
    {
      "cell_type": "code",
      "source": [
        "def sol():\n",
        "    R,C,Q = map(int,input().split())\n",
        "    Picture = [[0]*(C+1)] + [[0] + list(map(int,input().split())) for _ in range(R)]\n",
        "    for i in range(1,R+1):\n",
        "        for j in range(1,C+1):\n",
        "            Picture[i][j] += Picture[i][j-1] + Picture[i-1][j] - Picture[i-1][j-1]    \n",
        "    for _ in range(Q):\n",
        "        r1,c1,r2,c2 = map(int,input().split())\n",
        "        print((Picture[r2][c2] - Picture[r2][c1-1] - Picture[r1-1][c2]  + Picture[r1-1][c1-1])//((r2-r1+1)*(c2-c1+1)))   \n",
        "\n",
        "sol()"
      ],
      "metadata": {
        "colab": {
          "base_uri": "https://localhost:8080/"
        },
        "id": "BYNtq_Ywoefu",
        "outputId": "9ac3c9e2-13a1-4ed6-993b-24f99b728b3f"
      },
      "execution_count": 1,
      "outputs": [
        {
          "output_type": "stream",
          "name": "stdout",
          "text": [
            "5 6 1\n",
            "4 1 3 4 9 5\n",
            "1 2 8 7 5 5\n",
            "8 1 2 5 3 2\n",
            "1 5 3 4 2 5\n",
            "5 2 1 2 3 5\n",
            "2 2 4 5\n",
            "3\n"
          ]
        }
      ]
    }
  ]
}