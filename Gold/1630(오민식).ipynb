{
  "nbformat": 4,
  "nbformat_minor": 0,
  "metadata": {
    "colab": {
      "name": "1630(오민식).ipynb",
      "provenance": [],
      "authorship_tag": "ABX9TyPTX91ebqtPxSKNOGOEJoP5",
      "include_colab_link": true
    },
    "kernelspec": {
      "name": "python3",
      "display_name": "Python 3"
    },
    "language_info": {
      "name": "python"
    }
  },
  "cells": [
    {
      "cell_type": "markdown",
      "metadata": {
        "id": "view-in-github",
        "colab_type": "text"
      },
      "source": [
        "<a href=\"https://colab.research.google.com/github/Dabin-Park/BaekJoon/blob/main/Gold/1630(%EC%98%A4%EB%AF%BC%EC%8B%9D).ipynb\" target=\"_parent\"><img src=\"https://colab.research.google.com/assets/colab-badge.svg\" alt=\"Open In Colab\"/></a>"
      ]
    },
    {
      "cell_type": "code",
      "source": [
        "N = int(input())\n",
        "if N > 1 and N < 379721:\n",
        "    primes = [1 for _ in range(N+1)]\n",
        "    primes[0], primes[1] = 0, 0\n",
        "    for i in range(4,N+1,2):\n",
        "        primes[i] = 0\n",
        "\n",
        "    realprimes = [2]\n",
        "    for i in range(3,N+1,2):\n",
        "        if primes[i]:\n",
        "            realprimes.append(i)\n",
        "            for j in range(3*i,N+1,i):\n",
        "                primes[j] = 0\n",
        "    num = 1           \n",
        "    for prime in realprimes:\n",
        "        n = prime\n",
        "        while n <= N:\n",
        "            n *= prime \n",
        "        n //= prime\n",
        "        num *= n\n",
        "        num %= 987654321\n",
        "    print(num)\n",
        "elif N >= 379721:   # 2601 * 379721 = 987654321 이기 때문에  \n",
        "    print(0)\n",
        "else:\n",
        "    print(1)"
      ],
      "metadata": {
        "id": "xk6usRE-86iG",
        "colab": {
          "base_uri": "https://localhost:8080/"
        },
        "outputId": "c443c04a-51a6-4699-8338-fd2e223ba4c0"
      },
      "execution_count": 1,
      "outputs": [
        {
          "output_type": "stream",
          "name": "stdout",
          "text": [
            "1234\n",
            "411860547\n"
          ]
        }
      ]
    }
  ]
}