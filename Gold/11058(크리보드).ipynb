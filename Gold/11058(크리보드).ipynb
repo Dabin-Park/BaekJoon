{
  "nbformat": 4,
  "nbformat_minor": 0,
  "metadata": {
    "colab": {
      "provenance": [],
      "authorship_tag": "ABX9TyM/4XY5BivIHl4XM9Ck3hwR",
      "include_colab_link": true
    },
    "kernelspec": {
      "name": "python3",
      "display_name": "Python 3"
    },
    "language_info": {
      "name": "python"
    }
  },
  "cells": [
    {
      "cell_type": "markdown",
      "metadata": {
        "id": "view-in-github",
        "colab_type": "text"
      },
      "source": [
        "<a href=\"https://colab.research.google.com/github/Dabin-Park/BaekJoon/blob/main/Gold/11058(%ED%81%AC%EB%A6%AC%EB%B3%B4%EB%93%9C).ipynb\" target=\"_parent\"><img src=\"https://colab.research.google.com/assets/colab-badge.svg\" alt=\"Open In Colab\"/></a>"
      ]
    },
    {
      "cell_type": "code",
      "execution_count": 1,
      "metadata": {
        "colab": {
          "base_uri": "https://localhost:8080/"
        },
        "id": "V2C1sM_6QvYk",
        "outputId": "d6e3fe6b-5aeb-4f4b-f51f-4ed99765825c"
      },
      "outputs": [
        {
          "output_type": "stream",
          "name": "stdout",
          "text": [
            "3\n",
            "3\n"
          ]
        }
      ],
      "source": [
        "def sol(N):\n",
        "    dp = [1]+[0]*(N-1)\n",
        "    for i in range(1,N):\n",
        "        dp[i] = dp[i-1]+1\n",
        "        for j in range(i-2):\n",
        "            dp[i] = max(dp[j]*(i-j-1),dp[i])\n",
        "    return dp[-1]\n",
        "\n",
        "print(sol(int(input())))"
      ]
    }
  ]
}