{
  "cells": [
    {
      "cell_type": "markdown",
      "metadata": {
        "id": "view-in-github",
        "colab_type": "text"
      },
      "source": [
        "<a href=\"https://colab.research.google.com/github/Dabin-Park/BaekJoon/blob/main/SIlver/2579(%EA%B3%84%EB%8B%A8%20%EC%98%A4%EB%A5%B4%EA%B8%B0).ipynb\" target=\"_parent\"><img src=\"https://colab.research.google.com/assets/colab-badge.svg\" alt=\"Open In Colab\"/></a>"
      ]
    },
    {
      "cell_type": "code",
      "source": [
        "n = int(input())\n",
        "\n",
        "A = []\n",
        "for _ in range(n):\n",
        "    A.append(int(input()))\n",
        "    \n",
        "B = [0 for _ in range(n)]\n",
        "B[0] = A[0]\n",
        "if n > 1:\n",
        "    B[1] = A[0] + A[1]\n",
        "if n > 2:\n",
        "    B[2] = max(A[0],A[1]) + A[2]\n",
        "\n",
        "for i in range(3,n):\n",
        "    B[i] = max(B[i-2],B[i-3]+A[i-1]) + A[i]\n",
        "    \n",
        "print(B[n-1])"
      ],
      "metadata": {
        "id": "HBwwya3y6Eyo",
        "outputId": "1f92efed-25e8-470f-e7b5-f8e4ce3b4e1e",
        "colab": {
          "base_uri": "https://localhost:8080/"
        }
      },
      "execution_count": 1,
      "outputs": [
        {
          "output_type": "stream",
          "name": "stdout",
          "text": [
            "6\n",
            "10\n",
            "20\n",
            "15\n",
            "25\n",
            "10\n",
            "20\n",
            "75\n"
          ]
        }
      ]
    }
  ],
  "metadata": {
    "colab": {
      "name": "2579(계단 오르기).ipynb",
      "provenance": [],
      "collapsed_sections": [],
      "authorship_tag": "ABX9TyN4Gzhlob1p1XekDTBHBbcU",
      "include_colab_link": true
    },
    "kernelspec": {
      "display_name": "Python 3",
      "name": "python3"
    },
    "language_info": {
      "name": "python"
    }
  },
  "nbformat": 4,
  "nbformat_minor": 0
}
