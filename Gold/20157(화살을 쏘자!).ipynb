{
  "nbformat": 4,
  "nbformat_minor": 0,
  "metadata": {
    "colab": {
      "provenance": [],
      "authorship_tag": "ABX9TyOr05W12XqI3RpdYH+PxbyJ",
      "include_colab_link": true
    },
    "kernelspec": {
      "name": "python3",
      "display_name": "Python 3"
    },
    "language_info": {
      "name": "python"
    }
  },
  "cells": [
    {
      "cell_type": "markdown",
      "metadata": {
        "id": "view-in-github",
        "colab_type": "text"
      },
      "source": [
        "<a href=\"https://colab.research.google.com/github/Dabin-Park/BaekJoon/blob/main/Gold/20157(%ED%99%94%EC%82%B4%EC%9D%84%20%EC%8F%98%EC%9E%90!).ipynb\" target=\"_parent\"><img src=\"https://colab.research.google.com/assets/colab-badge.svg\" alt=\"Open In Colab\"/></a>"
      ]
    },
    {
      "cell_type": "markdown",
      "source": [
        "* 참고 블로그\n",
        "    * https://dlwnsdud205.tistory.com/88"
      ],
      "metadata": {
        "id": "pY9uM_CcnKqy"
      }
    },
    {
      "cell_type": "code",
      "source": [
        "def gcd(x,y):\n",
        "    x,y = max(x,y), min(x,y)\n",
        "    if y:\n",
        "        if x%y:\n",
        "            return gcd(y,x%y)\n",
        "        return y\n",
        "    return x\n",
        "    \n",
        "def sol(N):\n",
        "    Dict = {}\n",
        "    for _ in range(N):\n",
        "        x,y = map(int,input().split())\n",
        "        gcd_ = gcd(abs(x),abs(y))\n",
        "        a = (x//gcd_,y//gcd_)\n",
        "        if a in Dict:\n",
        "            Dict[a] += 1\n",
        "        else:\n",
        "            Dict[a] = 1\n",
        "    return max(Dict.values())\n",
        "         \n",
        "print(sol(int(input())))"
      ],
      "metadata": {
        "colab": {
          "base_uri": "https://localhost:8080/"
        },
        "id": "tMhh6AscRdfh",
        "outputId": "5bc3c16b-6d4a-459f-d68d-a383ebe41031"
      },
      "execution_count": 2,
      "outputs": [
        {
          "output_type": "stream",
          "name": "stdout",
          "text": [
            "5\n",
            "8 16\n",
            "10 -3\n",
            "2 4\n",
            "7 10\n",
            "1 2\n",
            "3\n"
          ]
        }
      ]
    },
    {
      "cell_type": "code",
      "source": [
        "import math \n",
        "\n",
        "def sol(N):\n",
        "    Dict = {}\n",
        "    for _ in range(N):\n",
        "        x,y = map(int,input().split())\n",
        "        gcd_ = math.gcd(x,y)\n",
        "        a = (x//gcd_,y//gcd_)\n",
        "        if a in Dict:\n",
        "            Dict[a] += 1\n",
        "        else:\n",
        "            Dict[a] = 1\n",
        "    return max(Dict.values())\n",
        "         \n",
        "print(sol(int(input())))"
      ],
      "metadata": {
        "colab": {
          "base_uri": "https://localhost:8080/"
        },
        "id": "BYNtq_Ywoefu",
        "outputId": "51d91289-8c31-45b5-dd29-f33f941d3649"
      },
      "execution_count": 1,
      "outputs": [
        {
          "output_type": "stream",
          "name": "stdout",
          "text": [
            "5\n",
            "8 16\n",
            "10 -3\n",
            "2 4\n",
            "7 10\n",
            "1 2\n",
            "3\n"
          ]
        }
      ]
    }
  ]
}