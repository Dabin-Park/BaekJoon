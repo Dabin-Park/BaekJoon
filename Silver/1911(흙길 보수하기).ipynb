{
  "nbformat": 4,
  "nbformat_minor": 0,
  "metadata": {
    "colab": {
      "name": "1911(흙길 보수하기).ipynb",
      "provenance": [],
      "authorship_tag": "ABX9TyMAqZcwNOUnhqlB2fprSU4P",
      "include_colab_link": true
    },
    "kernelspec": {
      "name": "python3",
      "display_name": "Python 3"
    },
    "language_info": {
      "name": "python"
    }
  },
  "cells": [
    {
      "cell_type": "markdown",
      "metadata": {
        "id": "view-in-github",
        "colab_type": "text"
      },
      "source": [
        "<a href=\"https://colab.research.google.com/github/Dabin-Park/BaekJoon/blob/main/Silver/1911(%ED%9D%99%EA%B8%B8%20%EB%B3%B4%EC%88%98%ED%95%98%EA%B8%B0).ipynb\" target=\"_parent\"><img src=\"https://colab.research.google.com/assets/colab-badge.svg\" alt=\"Open In Colab\"/></a>"
      ]
    },
    {
      "cell_type": "code",
      "execution_count": 1,
      "metadata": {
        "colab": {
          "base_uri": "https://localhost:8080/"
        },
        "id": "dT6CvtQPNnKQ",
        "outputId": "89609e77-da71-45f7-f315-af874e4e8931"
      },
      "outputs": [
        {
          "output_type": "stream",
          "name": "stdout",
          "text": [
            "3 3\n",
            "1 6\n",
            "13 17\n",
            "8 12\n",
            "5\n"
          ]
        }
      ],
      "source": [
        "def find(start,end,L,num):\n",
        "    length = end - start\n",
        "    if length%L :\n",
        "        n = length//L+1\n",
        "        num += n\n",
        "        end = start + L*n \n",
        "    else:\n",
        "        n = length//L\n",
        "        num += n\n",
        "    return num, end\n",
        "    \n",
        "N,L = map(int,input().split())\n",
        "\n",
        "Water = [list(map(int,input().split())) for _ in range(N)]\n",
        "Water.sort(key = lambda x : x[0])\n",
        "\n",
        "num = 0\n",
        "end = Water[0][0]\n",
        "\n",
        "for water in Water:\n",
        "    if end <= water[0]:\n",
        "        num,end = find(water[0],water[1],L,num)\n",
        "    else:\n",
        "        num,end = find(end,water[1],L,num)\n",
        "\n",
        "print(num)"
      ]
    },
    {
      "cell_type": "code",
      "source": [
        "def find(start,end,L,num):\n",
        "    length = end - start\n",
        "    n = (length+L-1)//L\n",
        "    num += n\n",
        "    end = start + n*L\n",
        "    return num, end\n",
        "    \n",
        "N,L = map(int,input().split())\n",
        "\n",
        "Water = [list(map(int,input().split())) for _ in range(N)]\n",
        "Water.sort(key = lambda x : x[0])\n",
        "\n",
        "num = 0\n",
        "end = Water[0][0]\n",
        "\n",
        "for water in Water:\n",
        "    num,end = find(max(water[0],end),water[1],L,num)\n",
        "\n",
        "print(num)"
      ],
      "metadata": {
        "colab": {
          "base_uri": "https://localhost:8080/"
        },
        "id": "jn3dQ2sAPa9b",
        "outputId": "ed7a2494-55af-4cf3-90bd-050afa9b04ed"
      },
      "execution_count": 2,
      "outputs": [
        {
          "output_type": "stream",
          "name": "stdout",
          "text": [
            "3 3\n",
            "1 6\n",
            "13 17\n",
            "8 12\n",
            "5\n"
          ]
        }
      ]
    }
  ]
}