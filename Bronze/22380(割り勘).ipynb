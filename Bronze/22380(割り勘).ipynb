{
  "nbformat": 4,
  "nbformat_minor": 0,
  "metadata": {
    "colab": {
      "provenance": [],
      "authorship_tag": "ABX9TyMbKCOqMbbuZrJTVHxcX5yd",
      "include_colab_link": true
    },
    "kernelspec": {
      "name": "python3",
      "display_name": "Python 3"
    },
    "language_info": {
      "name": "python"
    }
  },
  "cells": [
    {
      "cell_type": "markdown",
      "metadata": {
        "id": "view-in-github",
        "colab_type": "text"
      },
      "source": [
        "<a href=\"https://colab.research.google.com/github/Dabin-Park/BaekJoon/blob/main/Bronze/22380(%E5%89%B2%E3%82%8A%E5%8B%98).ipynb\" target=\"_parent\"><img src=\"https://colab.research.google.com/assets/colab-badge.svg\" alt=\"Open In Colab\"/></a>"
      ]
    },
    {
      "cell_type": "code",
      "source": [
        "def sol():\n",
        "    while 1: \n",
        "        N,M = map(int,input().split())\n",
        "        if N and M:\n",
        "            money , total_money = M//N, 0\n",
        "            for value in map(int,input().split()):\n",
        "                if value >= money:\n",
        "                    total_money += money\n",
        "                else:\n",
        "                    total_money += value\n",
        "            print(total_money)\n",
        "        else:\n",
        "            break\n",
        "sol()"
      ],
      "metadata": {
        "colab": {
          "base_uri": "https://localhost:8080/"
        },
        "id": "-n7Jl3MFSbU9",
        "outputId": "2c1a8838-71a4-4c42-c39b-6bcc3e3cbbcb"
      },
      "execution_count": 1,
      "outputs": [
        {
          "name": "stdout",
          "output_type": "stream",
          "text": [
            "3 300\n",
            "120 100 80\n",
            "280\n",
            "3 30\n",
            "10 20 5\n",
            "25\n",
            "4 1000\n",
            "100 200 300 400\n",
            "800\n",
            "5 5\n",
            "2523 8430 3 4199 632\n",
            "5\n",
            "0 0\n"
          ]
        }
      ]
    }
  ]
}