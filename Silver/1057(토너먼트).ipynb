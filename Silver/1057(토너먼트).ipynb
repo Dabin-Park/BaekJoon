{
  "nbformat": 4,
  "nbformat_minor": 0,
  "metadata": {
    "colab": {
      "provenance": [],
      "collapsed_sections": [],
      "authorship_tag": "ABX9TyPRwwyTguBHb7V9IL376tg0",
      "include_colab_link": true
    },
    "kernelspec": {
      "name": "python3",
      "display_name": "Python 3"
    },
    "language_info": {
      "name": "python"
    }
  },
  "cells": [
    {
      "cell_type": "markdown",
      "metadata": {
        "id": "view-in-github",
        "colab_type": "text"
      },
      "source": [
        "<a href=\"https://colab.research.google.com/github/Dabin-Park/BaekJoon/blob/main/Silver/1057(%ED%86%A0%EB%84%88%EB%A8%BC%ED%8A%B8).ipynb\" target=\"_parent\"><img src=\"https://colab.research.google.com/assets/colab-badge.svg\" alt=\"Open In Colab\"/></a>"
      ]
    },
    {
      "cell_type": "code",
      "source": [
        "N,Kim,Im = map(int,input().split())\n",
        "\n",
        "Players = [i for i in range(1,N+1)]\n",
        "Kim_and_Im = [Kim, Im]\n",
        "num,t = 0,0\n",
        "while True:\n",
        "    num += 1\n",
        "    n = len(Players)\n",
        "    Play = []\n",
        "    for i in range(0,n-1,2):\n",
        "        if Players[i] in Kim_and_Im:\n",
        "            if Players[i+1] in Kim_and_Im:\n",
        "                print(num)\n",
        "                t = 1\n",
        "                break\n",
        "            else:\n",
        "                Play.append(Players[i])\n",
        "        else:\n",
        "            Play.append(Players[i+1])\n",
        "    if t:\n",
        "        break\n",
        "    if n%2:\n",
        "        Play.append(Players[-1])\n",
        "    Players = Play"
      ],
      "metadata": {
        "id": "ZFrLikbd4n2z",
        "outputId": "2af2d205-e86b-458c-8d26-3834d5c8512e",
        "colab": {
          "base_uri": "https://localhost:8080/"
        }
      },
      "execution_count": 4,
      "outputs": [
        {
          "output_type": "stream",
          "name": "stdout",
          "text": [
            "65536 1000 35000\n",
            "16\n"
          ]
        }
      ]
    },
    {
      "cell_type": "code",
      "source": [
        "def fight(num):\n",
        "    Players = [0]*N\n",
        "    Players[Kim-1],Players[Im-1] = 1,1\n",
        "    while 1:\n",
        "        num += 1\n",
        "        n = len(Players)\n",
        "        Play = []\n",
        "        for i in range(0,n-1,2):\n",
        "            if Players[i] and Players[i+1]:\n",
        "                return print(num)\n",
        "            elif Players[i] == 0 and Players[i+1] == 0:\n",
        "                Play.append(0)\n",
        "            else:\n",
        "                Play.append(1)\n",
        "        if n%2:\n",
        "            Play.append(Players[-1])\n",
        "\n",
        "        Players = Play\n",
        "\n",
        "N,Kim,Im = map(int,input().split())\n",
        "\n",
        "fight(0)"
      ],
      "metadata": {
        "colab": {
          "base_uri": "https://localhost:8080/"
        },
        "id": "cPdXk6F8JMNx",
        "outputId": "d7b3b729-c6a8-460f-e283-81048ed4f912"
      },
      "execution_count": 3,
      "outputs": [
        {
          "output_type": "stream",
          "name": "stdout",
          "text": [
            "65536 1000 35000\n",
            "16\n"
          ]
        }
      ]
    }
  ]
}