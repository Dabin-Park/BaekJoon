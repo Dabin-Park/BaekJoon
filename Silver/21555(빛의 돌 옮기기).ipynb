{
  "nbformat": 4,
  "nbformat_minor": 0,
  "metadata": {
    "colab": {
      "provenance": [],
      "authorship_tag": "ABX9TyPR97+fcXvtJmTxq71ocXI+",
      "include_colab_link": true
    },
    "kernelspec": {
      "name": "python3",
      "display_name": "Python 3"
    },
    "language_info": {
      "name": "python"
    }
  },
  "cells": [
    {
      "cell_type": "markdown",
      "metadata": {
        "id": "view-in-github",
        "colab_type": "text"
      },
      "source": [
        "<a href=\"https://colab.research.google.com/github/Dabin-Park/BaekJoon/blob/main/Silver/21555(%EB%B9%9B%EC%9D%98%20%EB%8F%8C%20%EC%98%AE%EA%B8%B0%EA%B8%B0).ipynb\" target=\"_parent\"><img src=\"https://colab.research.google.com/assets/colab-badge.svg\" alt=\"Open In Colab\"/></a>"
      ]
    },
    {
      "cell_type": "code",
      "source": [
        "def sol():\n",
        "    N,K = map(int,input().split())\n",
        "    Move = [list(map(int,input().split())) for _ in range(2)]\n",
        "    for i in range(1,N):\n",
        "        Move[0][i] += min(Move[0][i-1],Move[1][i-1]+K) \n",
        "        Move[1][i] += min(Move[0][i-1]+K,Move[1][i-1]) \n",
        "    return min(Move[0][-1],Move[1][-1])\n",
        "\n",
        "print(sol())"
      ],
      "metadata": {
        "id": "Eum8oDR9H9Ie",
        "colab": {
          "base_uri": "https://localhost:8080/"
        },
        "outputId": "2e3c930d-02d1-46ea-c357-a5408e6eba67"
      },
      "execution_count": 1,
      "outputs": [
        {
          "output_type": "stream",
          "name": "stdout",
          "text": [
            "3 2\n",
            "1 7 3\n",
            "9 3 4\n",
            "10\n"
          ]
        }
      ]
    }
  ]
}