{
  "nbformat": 4,
  "nbformat_minor": 0,
  "metadata": {
    "colab": {
      "provenance": [],
      "authorship_tag": "ABX9TyMZ/KSHDNhfxBS0+FN7q3h+",
      "include_colab_link": true
    },
    "kernelspec": {
      "name": "python3",
      "display_name": "Python 3"
    },
    "language_info": {
      "name": "python"
    }
  },
  "cells": [
    {
      "cell_type": "markdown",
      "metadata": {
        "id": "view-in-github",
        "colab_type": "text"
      },
      "source": [
        "<a href=\"https://colab.research.google.com/github/Dabin-Park/BaekJoon/blob/main/Bronze/13458(%EC%8B%9C%ED%97%98%20%EA%B0%90%EB%8F%85).ipynb\" target=\"_parent\"><img src=\"https://colab.research.google.com/assets/colab-badge.svg\" alt=\"Open In Colab\"/></a>"
      ]
    },
    {
      "cell_type": "code",
      "execution_count": 1,
      "metadata": {
        "colab": {
          "base_uri": "https://localhost:8080/"
        },
        "id": "YHFUYXj24MLS",
        "outputId": "e7b183e0-3363-4e32-d80e-3bf108d9c771"
      },
      "outputs": [
        {
          "output_type": "stream",
          "name": "stdout",
          "text": [
            "1\n",
            "1\n",
            "1 1\n",
            "1\n"
          ]
        }
      ],
      "source": [
        "def sol(N):\n",
        "    Class = list(map(int,input().split()))\n",
        "    B,C = map(int,input().split())\n",
        "    num = N\n",
        "    for student in Class:\n",
        "        student -= B\n",
        "        if student > 0:\n",
        "            num += student//C\n",
        "            if student%C:\n",
        "                num += 1\n",
        "    return num\n",
        "                   \n",
        "print(sol(int(input())))  "
      ]
    }
  ]
}