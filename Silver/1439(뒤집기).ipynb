{
  "nbformat": 4,
  "nbformat_minor": 0,
  "metadata": {
    "colab": {
      "name": "1439(뒤집기).ipynb",
      "provenance": [],
      "authorship_tag": "ABX9TyN11D4gVUhSuVQklj39kkrc",
      "include_colab_link": true
    },
    "kernelspec": {
      "name": "python3",
      "display_name": "Python 3"
    },
    "language_info": {
      "name": "python"
    }
  },
  "cells": [
    {
      "cell_type": "markdown",
      "metadata": {
        "id": "view-in-github",
        "colab_type": "text"
      },
      "source": [
        "<a href=\"https://colab.research.google.com/github/Dabin-Park/BaekJoon/blob/main/Silver/1439(%EB%92%A4%EC%A7%91%EA%B8%B0).ipynb\" target=\"_parent\"><img src=\"https://colab.research.google.com/assets/colab-badge.svg\" alt=\"Open In Colab\"/></a>"
      ]
    },
    {
      "cell_type": "code",
      "execution_count": 1,
      "metadata": {
        "colab": {
          "base_uri": "https://localhost:8080/"
        },
        "id": "dT6CvtQPNnKQ",
        "outputId": "b1f101cd-3801-49f1-a17f-9cc71c3b7a49"
      },
      "outputs": [
        {
          "output_type": "stream",
          "name": "stdout",
          "text": [
            "11001100110011000001\n",
            "4\n"
          ]
        }
      ],
      "source": [
        "S = input()\n",
        "t = 0\n",
        "for i in range(len(S)-1):\n",
        "    if S[i] != S[i+1]:\n",
        "        t += 1\n",
        "\n",
        "if t%2:\n",
        "    print(t//2+1)\n",
        "else:\n",
        "    print(t//2)"
      ]
    }
  ]
}