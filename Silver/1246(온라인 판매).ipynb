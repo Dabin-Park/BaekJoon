{
  "nbformat": 4,
  "nbformat_minor": 0,
  "metadata": {
    "colab": {
      "provenance": [],
      "authorship_tag": "ABX9TyPabM6Gwa8muUATM2CEgDdq",
      "include_colab_link": true
    },
    "kernelspec": {
      "name": "python3",
      "display_name": "Python 3"
    },
    "language_info": {
      "name": "python"
    }
  },
  "cells": [
    {
      "cell_type": "markdown",
      "metadata": {
        "id": "view-in-github",
        "colab_type": "text"
      },
      "source": [
        "<a href=\"https://colab.research.google.com/github/Dabin-Park/BaekJoon/blob/main/Silver/1246(%EC%98%A8%EB%9D%BC%EC%9D%B8%20%ED%8C%90%EB%A7%A4).ipynb\" target=\"_parent\"><img src=\"https://colab.research.google.com/assets/colab-badge.svg\" alt=\"Open In Colab\"/></a>"
      ]
    },
    {
      "cell_type": "code",
      "source": [
        "def sol(Max):\n",
        "    N,M = map(int,input().split())\n",
        "    Customer = sorted([int(input()) for _ in range(M)])\n",
        "    for i in range(1,min(N,M)+1):\n",
        "        if Customer[-i]*i > Max[1]:\n",
        "            Max = [Customer[-i],Customer[-i]*i]\n",
        "    return print(*Max)\n",
        "    \n",
        "sol([0,0])"
      ],
      "metadata": {
        "colab": {
          "base_uri": "https://localhost:8080/"
        },
        "id": "Wf1zqg3P9ONw",
        "outputId": "9d525fb1-23e6-4019-92fc-c0c0cd1498d5"
      },
      "execution_count": 1,
      "outputs": [
        {
          "output_type": "stream",
          "name": "stdout",
          "text": [
            "5 4\n",
            "2\n",
            "8\n",
            "10\n",
            "7\n",
            "7 21\n"
          ]
        }
      ]
    }
  ]
}