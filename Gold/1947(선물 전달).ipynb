{
  "nbformat": 4,
  "nbformat_minor": 0,
  "metadata": {
    "colab": {
      "name": "10978(기숙사 재배정).ipynb",
      "provenance": [],
      "authorship_tag": "ABX9TyOyKy7RwRsCI0xq5rFMGtIt",
      "include_colab_link": true
    },
    "kernelspec": {
      "name": "python3",
      "display_name": "Python 3"
    },
    "language_info": {
      "name": "python"
    }
  },
  "cells": [
    {
      "cell_type": "markdown",
      "metadata": {
        "id": "view-in-github",
        "colab_type": "text"
      },
      "source": [
        "<a href=\"https://colab.research.google.com/github/Dabin-Park/BaekJoon/blob/main/Gold/1947(%EC%84%A0%EB%AC%BC%20%EC%A0%84%EB%8B%AC).ipynb\" target=\"_parent\"><img src=\"https://colab.research.google.com/assets/colab-badge.svg\" alt=\"Open In Colab\"/></a>"
      ]
    },
    {
      "cell_type": "code",
      "source": [
        "N = int(input())\n",
        "if N > 1:\n",
        "    dp =  [0,0,1] + [0 for i in range(N-2)]\n",
        "    for i in range(3,N+1):\n",
        "        dp[i] = ((i-1)* (dp[i-1] + dp[i-2])) % 1000000000\n",
        "    print(dp[N])\n",
        "else:\n",
        "    print(0)"
      ],
      "metadata": {
        "colab": {
          "base_uri": "https://localhost:8080/"
        },
        "id": "4NDvOBDhbpRD",
        "outputId": "563b2879-69a9-463c-ba50-0573edb08660"
      },
      "execution_count": 2,
      "outputs": [
        {
          "output_type": "stream",
          "name": "stdout",
          "text": [
            "21\n",
            "50944540\n"
          ]
        }
      ]
    }
  ]
}