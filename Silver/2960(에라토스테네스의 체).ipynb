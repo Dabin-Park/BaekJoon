{
  "cells": [
    {
      "cell_type": "markdown",
      "metadata": {
        "id": "view-in-github",
        "colab_type": "text"
      },
      "source": [
        "<a href=\"https://colab.research.google.com/github/Dabin-Park/BaekJoon/blob/main/Silver/2960(%EC%97%90%EB%9D%BC%ED%86%A0%EC%8A%A4%ED%85%8C%EB%84%A4%EC%8A%A4%EC%9D%98%20%EC%B2%B4).ipynb\" target=\"_parent\"><img src=\"https://colab.research.google.com/assets/colab-badge.svg\" alt=\"Open In Colab\"/></a>"
      ]
    },
    {
      "cell_type": "code",
      "source": [
        "N ,K = list(map(int,input().split()))\n",
        "\n",
        "n = 0\n",
        "a = [i for i in range(2,N+1)]\n",
        "\n",
        "while n < K :\n",
        "    m = min(a)\n",
        "    a.remove(m)\n",
        "    n += 1\n",
        "    if n == K:\n",
        "        print(m) \n",
        "        break;\n",
        "    for k in a:\n",
        "        if k%m == 0:\n",
        "            a.remove(k)\n",
        "            n += 1\n",
        "            if n == K:\n",
        "                print(k)\n",
        "                break; "
      ],
      "metadata": {
        "colab": {
          "base_uri": "https://localhost:8080/"
        },
        "id": "Y06dd9MLXMjm",
        "outputId": "42b9919c-808b-4e05-fda2-bf8ad236ce6f"
      },
      "execution_count": 3,
      "outputs": [
        {
          "output_type": "stream",
          "name": "stdout",
          "text": [
            "15 12\n",
            "7\n"
          ]
        }
      ]
    },
    {
      "cell_type": "code",
      "source": [
        "# 재귀함수 사용 \n",
        "def num(a,n,k):\n",
        "    m = min(a)\n",
        "    for i in a:\n",
        "        if i % m == 0 :\n",
        "            a.remove(i)\n",
        "            n += 1\n",
        "            if n == k:\n",
        "                return i \n",
        "    return num(a,n,k)            \n",
        "           \n",
        "N ,K = list(map(int,input().split()))\n",
        "\n",
        "n = 0\n",
        "a = [i for i in range(2,N+1)]\n",
        "\n",
        "print(num(a,n,K))"
      ],
      "metadata": {
        "colab": {
          "base_uri": "https://localhost:8080/"
        },
        "id": "LXhrlzlrusix",
        "outputId": "81105a3e-f992-4b8e-a515-c02686eede5d"
      },
      "execution_count": 4,
      "outputs": [
        {
          "output_type": "stream",
          "name": "stdout",
          "text": [
            "10 7\n",
            "9\n"
          ]
        }
      ]
    }
  ],
  "metadata": {
    "colab": {
      "name": "2960(에라토스테네스의 체).ipynb",
      "provenance": [],
      "authorship_tag": "ABX9TyNn6rURVnbuSQLSuT7HKhLP",
      "include_colab_link": true
    },
    "kernelspec": {
      "display_name": "Python 3",
      "name": "python3"
    },
    "language_info": {
      "name": "python"
    }
  },
  "nbformat": 4,
  "nbformat_minor": 0
}