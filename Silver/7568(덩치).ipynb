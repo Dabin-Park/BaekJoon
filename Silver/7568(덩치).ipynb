{
  "nbformat": 4,
  "nbformat_minor": 0,
  "metadata": {
    "colab": {
      "name": "7568(덩치).ipynb",
      "provenance": [],
      "authorship_tag": "ABX9TyOTEZVL/EVeIzklpq9cVG11",
      "include_colab_link": true
    },
    "kernelspec": {
      "name": "python3",
      "display_name": "Python 3"
    },
    "language_info": {
      "name": "python"
    }
  },
  "cells": [
    {
      "cell_type": "markdown",
      "metadata": {
        "id": "view-in-github",
        "colab_type": "text"
      },
      "source": [
        "<a href=\"https://colab.research.google.com/github/Dabin-Park/BaekJoon/blob/main/Silver/7568(%EB%8D%A9%EC%B9%98).ipynb\" target=\"_parent\"><img src=\"https://colab.research.google.com/assets/colab-badge.svg\" alt=\"Open In Colab\"/></a>"
      ]
    },
    {
      "cell_type": "code",
      "execution_count": 1,
      "metadata": {
        "colab": {
          "base_uri": "https://localhost:8080/"
        },
        "id": "dT6CvtQPNnKQ",
        "outputId": "50993ffa-39c4-4053-f67a-a0ebde2d1b5c"
      },
      "outputs": [
        {
          "output_type": "stream",
          "name": "stdout",
          "text": [
            "5\n",
            "55 185\n",
            "58 183\n",
            "88 186\n",
            "60 175\n",
            "46 155\n",
            "2 2 1 2 5 "
          ]
        }
      ],
      "source": [
        "N = int(input())\n",
        "A = [list(map(int,input().split())) for _ in range(N)]\n",
        "B = []\n",
        "for i in range(N):\n",
        "    rank = 1\n",
        "    for j in range(N):\n",
        "        if A[i][0] < A[j][0] and A[i][1] < A[j][1]:\n",
        "            rank += 1\n",
        "    B.append(rank)\n",
        "\n",
        "for b in B:\n",
        "    print(b,end = \" \")"
      ]
    }
  ]
}