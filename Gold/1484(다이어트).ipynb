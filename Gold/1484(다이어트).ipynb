{
  "nbformat": 4,
  "nbformat_minor": 0,
  "metadata": {
    "colab": {
      "name": "Gold/1484(다이어트).ipynb",
      "provenance": [],
      "authorship_tag": "ABX9TyPtezxk/ZoLUGZcEebtUmaa",
      "include_colab_link": true
    },
    "kernelspec": {
      "name": "python3",
      "display_name": "Python 3"
    },
    "language_info": {
      "name": "python"
    }
  },
  "cells": [
    {
      "cell_type": "markdown",
      "metadata": {
        "id": "view-in-github",
        "colab_type": "text"
      },
      "source": [
        "<a href=\"https://colab.research.google.com/github/Dabin-Park/BaekJoon/blob/main/Gold/1484(%EB%8B%A4%EC%9D%B4%EC%96%B4%ED%8A%B8).ipynb\" target=\"_parent\"><img src=\"https://colab.research.google.com/assets/colab-badge.svg\" alt=\"Open In Colab\"/></a>"
      ]
    },
    {
      "cell_type": "code",
      "source": [
        "G = int(input())\n",
        "Numbers = [i**2 for i in range(100001)]\n",
        "t = 1\n",
        "s,e = 1,1\n",
        "while s <= e:\n",
        "    if Numbers[e] - Numbers[e-1] > G:\n",
        "        break\n",
        "    if Numbers[e] - Numbers[s] > G:\n",
        "        s += 1\n",
        "    elif Numbers[e] - Numbers[s] < G:\n",
        "        e += 1\n",
        "    else:\n",
        "        print(e)\n",
        "        e += 1\n",
        "        s += 1\n",
        "        t = 0\n",
        "\n",
        "if t:\n",
        "    print(-1)"
      ],
      "metadata": {
        "colab": {
          "base_uri": "https://localhost:8080/"
        },
        "id": "CGdbDyPnpFQk",
        "outputId": "0570943a-fd97-4eb4-b6ba-3b4b81525bb6"
      },
      "execution_count": 8,
      "outputs": [
        {
          "output_type": "stream",
          "name": "stdout",
          "text": [
            "15\n",
            "4\n",
            "8\n"
          ]
        }
      ]
    },
    {
      "cell_type": "code",
      "source": [
        "G = int(input())\n",
        "Numbers = [i**2 for i in range(100001)]\n",
        "Set_of_Numbers = set(Numbers)\n",
        "t = 1\n",
        "s,e = 1,1\n",
        "for i,n in enumerate(Numbers):\n",
        "    if i > 0:\n",
        "        if Numbers[i] - Numbers[i-1] > G:\n",
        "            break\n",
        "        else:\n",
        "            if G + n in Set_of_Numbers:\n",
        "                print(int((G+n)**0.5))\n",
        "                t = 0\n",
        "if t:\n",
        "    print(-1)"
      ],
      "metadata": {
        "colab": {
          "base_uri": "https://localhost:8080/"
        },
        "id": "4NDvOBDhbpRD",
        "outputId": "61c008f3-1554-4110-e5eb-e614f8332912"
      },
      "execution_count": 9,
      "outputs": [
        {
          "output_type": "stream",
          "name": "stdout",
          "text": [
            "15\n",
            "4\n",
            "8\n"
          ]
        }
      ]
    }
  ]
}