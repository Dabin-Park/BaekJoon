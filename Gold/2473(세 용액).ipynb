{
  "nbformat": 4,
  "nbformat_minor": 0,
  "metadata": {
    "colab": {
      "provenance": [],
      "authorship_tag": "ABX9TyPiLSXO8RjVYMSpSP765mYS",
      "include_colab_link": true
    },
    "kernelspec": {
      "name": "python3",
      "display_name": "Python 3"
    },
    "language_info": {
      "name": "python"
    }
  },
  "cells": [
    {
      "cell_type": "markdown",
      "metadata": {
        "id": "view-in-github",
        "colab_type": "text"
      },
      "source": [
        "<a href=\"https://colab.research.google.com/github/Dabin-Park/BaekJoon/blob/main/Gold/2473(%EC%84%B8%20%EC%9A%A9%EC%95%A1).ipynb\" target=\"_parent\"><img src=\"https://colab.research.google.com/assets/colab-badge.svg\" alt=\"Open In Colab\"/></a>"
      ]
    },
    {
      "cell_type": "code",
      "execution_count": 2,
      "metadata": {
        "colab": {
          "base_uri": "https://localhost:8080/"
        },
        "id": "wTAxSOsmnSfu",
        "outputId": "d056a59a-3d05-4be8-f889-f197e8cca106"
      },
      "outputs": [
        {
          "output_type": "stream",
          "name": "stdout",
          "text": [
            "7\n",
            "-2 -3 -24 -6 98 100 61\n",
            "-6 -3 -2\n"
          ]
        }
      ],
      "source": [
        "def find():\n",
        "    min_ = float(\"inf\")\n",
        "    for l in range(0,N-2):\n",
        "        m,r = l+1, N-1\n",
        "        while m < r:\n",
        "            sum = Waters[l] + Waters[m] + Waters[r]\n",
        "            if abs(sum) < abs(min_):\n",
        "                min_ = sum \n",
        "                sol = [Waters[l], Waters[m], Waters[r]]\n",
        "            if sum == 0:\n",
        "                return sol\n",
        "            elif sum > 0:\n",
        "                r -= 1\n",
        "            else:\n",
        "                m += 1\n",
        "    return sol\n",
        "\n",
        "N = int(input())\n",
        "Waters = sorted(list(map(int,input().split())))\n",
        "sol = find()\n",
        "      \n",
        "print(*sol)"
      ]
    }
  ]
}