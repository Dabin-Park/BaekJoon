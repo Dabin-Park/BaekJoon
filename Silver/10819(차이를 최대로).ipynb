{
  "nbformat": 4,
  "nbformat_minor": 0,
  "metadata": {
    "colab": {
      "name": "10819(차이를 최대로).ipynb",
      "provenance": [],
      "collapsed_sections": [],
      "authorship_tag": "ABX9TyNl0XPYtE4fTl8fazULxtq6",
      "include_colab_link": true
    },
    "kernelspec": {
      "name": "python3",
      "display_name": "Python 3"
    },
    "language_info": {
      "name": "python"
    }
  },
  "cells": [
    {
      "cell_type": "markdown",
      "metadata": {
        "id": "view-in-github",
        "colab_type": "text"
      },
      "source": [
        "<a href=\"https://colab.research.google.com/github/Dabin-Park/BaekJoon/blob/main/Silver/10819(%EC%B0%A8%EC%9D%B4%EB%A5%BC%20%EC%B5%9C%EB%8C%80%EB%A1%9C).ipynb\" target=\"_parent\"><img src=\"https://colab.research.google.com/assets/colab-badge.svg\" alt=\"Open In Colab\"/></a>"
      ]
    },
    {
      "cell_type": "code",
      "source": [
        "from itertools import permutations\n",
        "\n",
        "N = int(input())\n",
        "Array = list(map(int,input().split()))\n",
        "max_num = 0\n",
        "\n",
        "for array in permutations(Array,N):\n",
        "    num = 0\n",
        "    for i in range(N-1):\n",
        "        num += abs(array[i]-array[i+1])\n",
        "    max_num = max(max_num,num)\n",
        "\n",
        "print(max_num)"
      ],
      "metadata": {
        "id": "ZFrLikbd4n2z",
        "outputId": "842346c9-5b1d-4263-9fb9-d5033cff32a4",
        "colab": {
          "base_uri": "https://localhost:8080/"
        }
      },
      "execution_count": 1,
      "outputs": [
        {
          "output_type": "stream",
          "name": "stdout",
          "text": [
            "6\n",
            "20 1 15 8 4 10\n",
            "62\n"
          ]
        }
      ]
    }
  ]
}