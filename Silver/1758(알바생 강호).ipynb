{
  "nbformat": 4,
  "nbformat_minor": 0,
  "metadata": {
    "colab": {
      "name": "1758(알바생 강호).ipynb",
      "provenance": [],
      "authorship_tag": "ABX9TyM5Nz+P1A1sD4UNeih2EPsr",
      "include_colab_link": true
    },
    "kernelspec": {
      "name": "python3",
      "display_name": "Python 3"
    },
    "language_info": {
      "name": "python"
    }
  },
  "cells": [
    {
      "cell_type": "markdown",
      "metadata": {
        "id": "view-in-github",
        "colab_type": "text"
      },
      "source": [
        "<a href=\"https://colab.research.google.com/github/Dabin-Park/BaekJoon/blob/main/Silver/1758(%EC%95%8C%EB%B0%94%EC%83%9D%20%EA%B0%95%ED%98%B8).ipynb\" target=\"_parent\"><img src=\"https://colab.research.google.com/assets/colab-badge.svg\" alt=\"Open In Colab\"/></a>"
      ]
    },
    {
      "cell_type": "code",
      "source": [
        "N = int(input())\n",
        "Tips = sorted([int(input()) for _ in range(N)],reverse=True)\n",
        "\n",
        "money = 0\n",
        "for i,tip in enumerate(Tips):\n",
        "    real_tip = tip - i\n",
        "    if real_tip > 0:\n",
        "        money += real_tip\n",
        "    else:\n",
        "        break\n",
        "\n",
        "print(money)"
      ],
      "metadata": {
        "colab": {
          "base_uri": "https://localhost:8080/"
        },
        "id": "whXH70HTj9iH",
        "outputId": "e7f90829-21c1-4e43-cb4f-dcd4987b1754"
      },
      "execution_count": 4,
      "outputs": [
        {
          "output_type": "stream",
          "name": "stdout",
          "text": [
            "4\n",
            "3\n",
            "3\n",
            "3\n",
            "3\n",
            "6\n"
          ]
        }
      ]
    }
  ]
}