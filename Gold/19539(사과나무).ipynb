{
  "nbformat": 4,
  "nbformat_minor": 0,
  "metadata": {
    "colab": {
      "provenance": [],
      "authorship_tag": "ABX9TyMPpsnFpVPgVmAfMV0xybwe",
      "include_colab_link": true
    },
    "kernelspec": {
      "name": "python3",
      "display_name": "Python 3"
    },
    "language_info": {
      "name": "python"
    }
  },
  "cells": [
    {
      "cell_type": "markdown",
      "metadata": {
        "id": "view-in-github",
        "colab_type": "text"
      },
      "source": [
        "<a href=\"https://colab.research.google.com/github/Dabin-Park/BaekJoon/blob/main/Gold/19539(%EC%82%AC%EA%B3%BC%EB%82%98%EB%AC%B4).ipynb\" target=\"_parent\"><img src=\"https://colab.research.google.com/assets/colab-badge.svg\" alt=\"Open In Colab\"/></a>"
      ]
    },
    {
      "cell_type": "markdown",
      "source": [
        "* 참고 블로그\n",
        "    * https://velog.io/@axiom0510/b19539"
      ],
      "metadata": {
        "id": "gwD-mQeXEXla"
      }
    },
    {
      "cell_type": "code",
      "source": [
        "def sol(sum_, num):\n",
        "    input()\n",
        "    for s in map(int,input().split()):\n",
        "        sum_ += s\n",
        "        num += s//2\n",
        "    print(\"YES\" if sum_%3 == 0 and num >= sum_//3 else \"NO\")\n",
        "\n",
        "sol(0,0)"
      ],
      "metadata": {
        "colab": {
          "base_uri": "https://localhost:8080/"
        },
        "id": "Wf1zqg3P9ONw",
        "outputId": "f6979847-4147-4b01-d4a5-d0875ed12ab1"
      },
      "execution_count": 1,
      "outputs": [
        {
          "output_type": "stream",
          "name": "stdout",
          "text": [
            "1\n",
            "0\n",
            "YES\n"
          ]
        }
      ]
    }
  ]
}