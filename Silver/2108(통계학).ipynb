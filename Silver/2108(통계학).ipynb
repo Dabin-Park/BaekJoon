{
  "nbformat": 4,
  "nbformat_minor": 0,
  "metadata": {
    "colab": {
      "name": "2108(통계학).ipynb",
      "provenance": [],
      "authorship_tag": "ABX9TyM0n9sElbgb6c9SFZ4iUi6c",
      "include_colab_link": true
    },
    "kernelspec": {
      "name": "python3",
      "display_name": "Python 3"
    },
    "language_info": {
      "name": "python"
    }
  },
  "cells": [
    {
      "cell_type": "markdown",
      "metadata": {
        "id": "view-in-github",
        "colab_type": "text"
      },
      "source": [
        "<a href=\"https://colab.research.google.com/github/Dabin-Park/BaekJoon/blob/main/Silver/2108(%ED%86%B5%EA%B3%84%ED%95%99).ipynb\" target=\"_parent\"><img src=\"https://colab.research.google.com/assets/colab-badge.svg\" alt=\"Open In Colab\"/></a>"
      ]
    },
    {
      "cell_type": "code",
      "execution_count": 1,
      "metadata": {
        "colab": {
          "base_uri": "https://localhost:8080/"
        },
        "id": "dT6CvtQPNnKQ",
        "outputId": "4318fd63-662b-4e77-f25d-1f6f8e54027e"
      },
      "outputs": [
        {
          "output_type": "stream",
          "name": "stdout",
          "text": [
            "5\n",
            "1\n",
            "3\n",
            "8\n",
            "-2\n",
            "2\n",
            "2\n",
            "2\n",
            "1\n",
            "10\n"
          ]
        }
      ],
      "source": [
        "N = int(input())\n",
        "Count = [0]*8002\n",
        "Num = []\n",
        "for _ in range(N):\n",
        "    a = int(input())\n",
        "    Num.append(a)\n",
        "    Count[a] += 1\n",
        "Num.sort()\n",
        "Count = Count[4001:] + Count[:4001]\n",
        "max = max(Count)\n",
        "t = Count.index(max)\n",
        "for i in range(t+1,8002):\n",
        "    if Count[i] == max:\n",
        "        max = i\n",
        "        t = -1\n",
        "        break\n",
        "if t == -1:\n",
        "    x = i\n",
        "else:\n",
        "    x = t\n",
        "sum = sum(Num)/N\n",
        "if sum < 0.5 and sum > -0.5:\n",
        "    sum = 0\n",
        "print(f\"{sum:.0f}\")\n",
        "print(Num[N//2])\n",
        "print(x-4001)\n",
        "print(Num[-1]-Num[0])"
      ]
    }
  ]
}