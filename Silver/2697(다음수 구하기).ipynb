{
  "nbformat": 4,
  "nbformat_minor": 0,
  "metadata": {
    "colab": {
      "provenance": [],
      "authorship_tag": "ABX9TyNx2U1nhe8IVhgAzIpbvcLp",
      "include_colab_link": true
    },
    "kernelspec": {
      "name": "python3",
      "display_name": "Python 3"
    },
    "language_info": {
      "name": "python"
    }
  },
  "cells": [
    {
      "cell_type": "markdown",
      "metadata": {
        "id": "view-in-github",
        "colab_type": "text"
      },
      "source": [
        "<a href=\"https://colab.research.google.com/github/Dabin-Park/BaekJoon/blob/main/Silver/2697(%EB%8B%A4%EC%9D%8C%EC%88%98%20%EA%B5%AC%ED%95%98%EA%B8%B0).ipynb\" target=\"_parent\"><img src=\"https://colab.research.google.com/assets/colab-badge.svg\" alt=\"Open In Colab\"/></a>"
      ]
    },
    {
      "cell_type": "code",
      "source": [
        "def sol(T):\n",
        "    for _ in range(T):\n",
        "        D = list(map(int, input().strip()))\n",
        "        L, idx = len(D), 0\n",
        "        for i in range(L-1, 0, -1):\n",
        "            if D[i] > D[i-1]:\n",
        "                if i == L-1:\n",
        "                    idx = L-2\n",
        "                else:\n",
        "                    idx = i-1\n",
        "                break\n",
        "        a = D[:idx]\n",
        "        b = D[idx:]\n",
        "        if not a or not b:\n",
        "            print('BIGGEST')\n",
        "        else:\n",
        "            b.sort()\n",
        "            for i in range(len(b)):\n",
        "                if b[i] > D[idx]:\n",
        "                    a.append(b.pop(i))\n",
        "                    a.extend(b)\n",
        "                    break\n",
        "            print(''.join(map(str, a)))\n",
        "sol(int(input()))"
      ],
      "metadata": {
        "colab": {
          "base_uri": "https://localhost:8080/"
        },
        "id": "Wf1zqg3P9ONw",
        "outputId": "414df091-22eb-4b22-f9b1-9b087e127fe1"
      },
      "execution_count": 1,
      "outputs": [
        {
          "output_type": "stream",
          "name": "stdout",
          "text": [
            "3\n",
            "123\n",
            "132\n",
            "279134399742\n",
            "279134423799\n",
            "987\n",
            "BIGGEST\n"
          ]
        }
      ]
    }
  ]
}