{
  "nbformat": 4,
  "nbformat_minor": 0,
  "metadata": {
    "colab": {
      "provenance": [],
      "authorship_tag": "ABX9TyMiTYCO1Xyz5hsHx0YMw0zF",
      "include_colab_link": true
    },
    "kernelspec": {
      "name": "python3",
      "display_name": "Python 3"
    },
    "language_info": {
      "name": "python"
    }
  },
  "cells": [
    {
      "cell_type": "markdown",
      "metadata": {
        "id": "view-in-github",
        "colab_type": "text"
      },
      "source": [
        "<a href=\"https://colab.research.google.com/github/Dabin-Park/BaekJoon/blob/main/Silver/13900(%EC%88%9C%EC%84%9C%EC%8C%8D%EC%9D%98%20%EA%B3%B1%EC%9D%98%20%ED%95%A9).ipynb\" target=\"_parent\"><img src=\"https://colab.research.google.com/assets/colab-badge.svg\" alt=\"Open In Colab\"/></a>"
      ]
    },
    {
      "cell_type": "code",
      "source": [
        "def sol(N,num):\n",
        "    Sequnce = list(map(int,input().split()))\n",
        "    sum_ = sum(Sequnce[1:])\n",
        "    for i in range(N-1):\n",
        "        num += Sequnce[i]*sum_\n",
        "        sum_ -= Sequnce[i+1]\n",
        "    return num\n",
        " \n",
        "print(sol(int(input()),0))\\"
      ],
      "metadata": {
        "colab": {
          "base_uri": "https://localhost:8080/"
        },
        "id": "Wf1zqg3P9ONw",
        "outputId": "f3bab86b-576c-497e-b4ea-d2229e9a1f32"
      },
      "execution_count": 1,
      "outputs": [
        {
          "output_type": "stream",
          "name": "stdout",
          "text": [
            "3\n",
            "2 3 4\n",
            "26\n"
          ]
        }
      ]
    }
  ]
}