{
  "nbformat": 4,
  "nbformat_minor": 0,
  "metadata": {
    "colab": {
      "name": "1059(좋은 구간).ipynb",
      "provenance": [],
      "authorship_tag": "ABX9TyP73RHkfjrUXyxU6qON/UnD",
      "include_colab_link": true
    },
    "kernelspec": {
      "name": "python3",
      "display_name": "Python 3"
    },
    "language_info": {
      "name": "python"
    }
  },
  "cells": [
    {
      "cell_type": "markdown",
      "metadata": {
        "id": "view-in-github",
        "colab_type": "text"
      },
      "source": [
        "<a href=\"https://colab.research.google.com/github/Dabin-Park/BaekJoon/blob/main/Silver/1059(%EC%A2%8B%EC%9D%80%20%EA%B5%AC%EA%B0%84).ipynb\" target=\"_parent\"><img src=\"https://colab.research.google.com/assets/colab-badge.svg\" alt=\"Open In Colab\"/></a>"
      ]
    },
    {
      "cell_type": "code",
      "source": [
        "L = int(input())\n",
        "S = list(map(int,input().split()))\n",
        "S.sort()\n",
        "n = int(input())\n",
        "if n >= S[0]:\n",
        "    for i,s in enumerate(S):\n",
        "        if n < s:\n",
        "            break\n",
        "    A,B = S[i-1],S[i]\n",
        "\n",
        "    if n != A:\n",
        "        print((B - n)*(n-A)- 1)\n",
        "    else:\n",
        "        print(0)\n",
        "else:\n",
        "    print((S[0]-n)*n-1)"
      ],
      "metadata": {
        "colab": {
          "base_uri": "https://localhost:8080/"
        },
        "id": "4NDvOBDhbpRD",
        "outputId": "191b5cba-a1d6-455b-de5f-0ffb39b3d5c0"
      },
      "execution_count": 4,
      "outputs": [
        {
          "output_type": "stream",
          "name": "stdout",
          "text": [
            "4\n",
            "1 7 14 10\n",
            "2\n",
            "4\n"
          ]
        }
      ]
    }
  ]
}