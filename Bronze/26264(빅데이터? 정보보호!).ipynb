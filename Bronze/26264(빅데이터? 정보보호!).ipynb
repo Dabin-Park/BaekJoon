{
  "nbformat": 4,
  "nbformat_minor": 0,
  "metadata": {
    "colab": {
      "provenance": [],
      "authorship_tag": "ABX9TyOLvujuTnTVft5gxD5qGGCf",
      "include_colab_link": true
    },
    "kernelspec": {
      "name": "python3",
      "display_name": "Python 3"
    },
    "language_info": {
      "name": "python"
    }
  },
  "cells": [
    {
      "cell_type": "markdown",
      "metadata": {
        "id": "view-in-github",
        "colab_type": "text"
      },
      "source": [
        "<a href=\"https://colab.research.google.com/github/Dabin-Park/BaekJoon/blob/main/Bronze/26264(%EB%B9%85%EB%8D%B0%EC%9D%B4%ED%84%B0%3F%20%EC%A0%95%EB%B3%B4%EB%B3%B4%ED%98%B8!).ipynb\" target=\"_parent\"><img src=\"https://colab.research.google.com/assets/colab-badge.svg\" alt=\"Open In Colab\"/></a>"
      ]
    },
    {
      "cell_type": "code",
      "source": [
        "def sol(N):\n",
        "    student = input().rstrip().replace(\"security\",'1').replace(\"bigdata\",\"\")\n",
        "    n = len(student)\n",
        "    if n > N-n:\n",
        "        return \"security!\"\n",
        "    elif n < N-n:\n",
        "        return \"bigdata?\"\n",
        "    return \"bigdata? security!\"\n",
        "\n",
        "print(sol(int(input())))"
      ],
      "metadata": {
        "colab": {
          "base_uri": "https://localhost:8080/"
        },
        "id": "BYNtq_Ywoefu",
        "outputId": "7044b706-3f01-4c0f-94e5-a9fdd443aed7"
      },
      "execution_count": 1,
      "outputs": [
        {
          "output_type": "stream",
          "name": "stdout",
          "text": [
            "5\n",
            "securitybigdatasecuritybigdatasecurity\n",
            "security!\n"
          ]
        }
      ]
    }
  ]
}