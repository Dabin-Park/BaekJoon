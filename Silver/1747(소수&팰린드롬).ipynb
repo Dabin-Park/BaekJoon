{
  "nbformat": 4,
  "nbformat_minor": 0,
  "metadata": {
    "colab": {
      "name": "1747(소수&팰린드롬).ipynb",
      "provenance": [],
      "authorship_tag": "ABX9TyN96KIc8uim8RWJJGzFtVYG",
      "include_colab_link": true
    },
    "kernelspec": {
      "name": "python3",
      "display_name": "Python 3"
    },
    "language_info": {
      "name": "python"
    }
  },
  "cells": [
    {
      "cell_type": "markdown",
      "metadata": {
        "id": "view-in-github",
        "colab_type": "text"
      },
      "source": [
        "<a href=\"https://colab.research.google.com/github/Dabin-Park/BaekJoon/blob/main/Silver/1747(%EC%86%8C%EC%88%98%26%ED%8C%B0%EB%A6%B0%EB%93%9C%EB%A1%AC).ipynb\" target=\"_parent\"><img src=\"https://colab.research.google.com/assets/colab-badge.svg\" alt=\"Open In Colab\"/></a>"
      ]
    },
    {
      "cell_type": "code",
      "source": [
        "primes = [1 for _ in range(1003002)]    # 1000000을 넘는 소수이면서 팬린드롬수인것이 1003001이다.\n",
        "primes[:2] = [0,0]\n",
        "\n",
        "for i in range(4,1003002,2):\n",
        "    primes[i] = 0\n",
        "\n",
        "for i in range(3,1001,2):\n",
        "    if primes[i]:\n",
        "        for j in range(3*i,1003002,i):\n",
        "            primes[j] = 0\n",
        "            \n",
        "for i in range(int(input()),1003002):\n",
        "    if primes[i]:\n",
        "        str_i = str(i)\n",
        "        if str_i == str_i[::-1]:\n",
        "            print(i)\n",
        "            break"
      ],
      "metadata": {
        "colab": {
          "base_uri": "https://localhost:8080/"
        },
        "id": "4NDvOBDhbpRD",
        "outputId": "3adc2810-390f-4c68-8a2f-8c77185589ed"
      },
      "execution_count": null,
      "outputs": [
        {
          "output_type": "stream",
          "name": "stdout",
          "text": [
            "500\n",
            "166699\n"
          ]
        }
      ]
    }
  ]
}