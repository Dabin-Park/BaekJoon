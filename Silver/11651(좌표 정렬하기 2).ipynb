{
  "nbformat": 4,
  "nbformat_minor": 0,
  "metadata": {
    "colab": {
      "name": "11651(좌표 정렬하기 2).ipynb",
      "provenance": [],
      "authorship_tag": "ABX9TyMFjE7jmf4m607XkMPB6M1R",
      "include_colab_link": true
    },
    "kernelspec": {
      "name": "python3",
      "display_name": "Python 3"
    },
    "language_info": {
      "name": "python"
    }
  },
  "cells": [
    {
      "cell_type": "markdown",
      "metadata": {
        "id": "view-in-github",
        "colab_type": "text"
      },
      "source": [
        "<a href=\"https://colab.research.google.com/github/Dabin-Park/BaekJoon/blob/main/Silver/11651(%EC%A2%8C%ED%91%9C%20%EC%A0%95%EB%A0%AC%ED%95%98%EA%B8%B0%202).ipynb\" target=\"_parent\"><img src=\"https://colab.research.google.com/assets/colab-badge.svg\" alt=\"Open In Colab\"/></a>"
      ]
    },
    {
      "cell_type": "code",
      "execution_count": 1,
      "metadata": {
        "colab": {
          "base_uri": "https://localhost:8080/"
        },
        "id": "dT6CvtQPNnKQ",
        "outputId": "f4850e9f-1488-4af3-9962-dcae8cfaac09"
      },
      "outputs": [
        {
          "output_type": "stream",
          "name": "stdout",
          "text": [
            "5\n",
            "0 4\n",
            "1 2\n",
            "1 -1\n",
            "2 2\n",
            "3 3\n",
            "1 -1\n",
            "1 2\n",
            "2 2\n",
            "3 3\n",
            "0 4\n"
          ]
        }
      ],
      "source": [
        "N = int(input())\n",
        "A = [list(map(int,input().split())) for _ in range(N)]\n",
        "A.sort(key = lambda x : (x[1],x[0]))\n",
        "for a in A:\n",
        "    print(f\"{a[0]} {a[1]}\")"
      ]
    }
  ]
}