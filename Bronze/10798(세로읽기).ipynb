{
  "nbformat": 4,
  "nbformat_minor": 0,
  "metadata": {
    "colab": {
      "provenance": [],
      "authorship_tag": "ABX9TyMNHCB2jPOtGs0Q2bvqBCbe",
      "include_colab_link": true
    },
    "kernelspec": {
      "name": "python3",
      "display_name": "Python 3"
    },
    "language_info": {
      "name": "python"
    }
  },
  "cells": [
    {
      "cell_type": "markdown",
      "metadata": {
        "id": "view-in-github",
        "colab_type": "text"
      },
      "source": [
        "<a href=\"https://colab.research.google.com/github/Dabin-Park/BaekJoon/blob/main/Bronze/10798(%EC%84%B8%EB%A1%9C%EC%9D%BD%EA%B8%B0).ipynb\" target=\"_parent\"><img src=\"https://colab.research.google.com/assets/colab-badge.svg\" alt=\"Open In Colab\"/></a>"
      ]
    },
    {
      "cell_type": "code",
      "source": [
        "def sol(max_):\n",
        "    Word = {}\n",
        "    for _ in range(5):\n",
        "        word = input().rstrip()\n",
        "        Word[word] = len(word)\n",
        "        max_ = max(max_,Word[word])\n",
        "    for i in range(max_):\n",
        "        for w in Word:\n",
        "            if Word[w] > i:\n",
        "                print(w[i],end= \"\")\n",
        "        \n",
        "sol(0)"
      ],
      "metadata": {
        "colab": {
          "base_uri": "https://localhost:8080/"
        },
        "id": "8BV4BOoMl-cj",
        "outputId": "9db9c4c8-0cc3-4d06-e8e2-ff752fb3d6b3"
      },
      "execution_count": 1,
      "outputs": [
        {
          "output_type": "stream",
          "name": "stdout",
          "text": [
            "ABCDE\n",
            "abcde\n",
            "01234\n",
            "FGHIJ\n",
            "fghij\n",
            "Aa0FfBb1GgCc2HhDd3IiEe4Jj"
          ]
        }
      ]
    }
  ]
}