{
  "cells": [
    {
      "cell_type": "markdown",
      "metadata": {
        "id": "view-in-github",
        "colab_type": "text"
      },
      "source": [
        "<a href=\"https://colab.research.google.com/github/Dabin-Park/BaekJoon/blob/main/1120(%EB%AC%B8%EC%9E%90%EC%97%B4).ipynb\" target=\"_parent\"><img src=\"https://colab.research.google.com/assets/colab-badge.svg\" alt=\"Open In Colab\"/></a>"
      ]
    },
    {
      "cell_type": "code",
      "source": [
        "def dis(a,b,n):\n",
        "    for i in range(len(a)):\n",
        "        if a[i] != b[i]:\n",
        "            n += 1\n",
        "    return n \n",
        "\n",
        "A,B = input().split()\n",
        "\n",
        "N = len(B) - len(A)\n",
        "\n",
        "n = 50 \n",
        "\n",
        "for i in range(N+1):\n",
        "    n = min(n,dis(B,B[:i]+A+B[len(A)+i:],0))\n",
        "    \n",
        "print(n)"
      ],
      "metadata": {
        "colab": {
          "base_uri": "https://localhost:8080/"
        },
        "id": "nSrvviDnu1sa",
        "outputId": "f39fa827-c96b-4009-c010-404ccff01875"
      },
      "execution_count": 1,
      "outputs": [
        {
          "output_type": "stream",
          "name": "stdout",
          "text": [
            "koder topcoder\n",
            "1\n"
          ]
        }
      ]
    }
  ],
  "metadata": {
    "colab": {
      "name": "20546(기적의 매매법).ipynb",
      "provenance": [],
      "collapsed_sections": [],
      "authorship_tag": "ABX9TyPLW4/+/xRN8+NL78WMbc4S",
      "include_colab_link": true
    },
    "kernelspec": {
      "display_name": "Python 3",
      "name": "python3"
    },
    "language_info": {
      "name": "python"
    }
  },
  "nbformat": 4,
  "nbformat_minor": 0
}
