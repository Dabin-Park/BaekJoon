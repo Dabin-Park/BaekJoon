{
  "nbformat": 4,
  "nbformat_minor": 0,
  "metadata": {
    "colab": {
      "provenance": [],
      "authorship_tag": "ABX9TyN4emYuOl4MgKVaYvt7qjWp",
      "include_colab_link": true
    },
    "kernelspec": {
      "name": "python3",
      "display_name": "Python 3"
    },
    "language_info": {
      "name": "python"
    }
  },
  "cells": [
    {
      "cell_type": "markdown",
      "metadata": {
        "id": "view-in-github",
        "colab_type": "text"
      },
      "source": [
        "<a href=\"https://colab.research.google.com/github/Dabin-Park/BaekJoon/blob/main/Bronze/22864(%ED%94%BC%EB%A1%9C%EB%8F%84).ipynb\" target=\"_parent\"><img src=\"https://colab.research.google.com/assets/colab-badge.svg\" alt=\"Open In Colab\"/></a>"
      ]
    },
    {
      "cell_type": "code",
      "execution_count": 1,
      "metadata": {
        "colab": {
          "base_uri": "https://localhost:8080/"
        },
        "id": "V2C1sM_6QvYk",
        "outputId": "cc01b83c-d3ff-4235-a119-95f4dc03df74"
      },
      "outputs": [
        {
          "output_type": "stream",
          "name": "stdout",
          "text": [
            "5 3 2 10\n",
            "24\n"
          ]
        }
      ],
      "source": [
        "def sol():\n",
        "    Fatigue = work = 0\n",
        "    A,B,C,M = map(int,input().split()) \n",
        "    for _ in range(24):\n",
        "        if Fatigue + A <= M:     \n",
        "            work += B\n",
        "            Fatigue += A\n",
        "        else:\n",
        "            Fatigue = max(Fatigue-C,0)\n",
        "    return work \n",
        "\n",
        "print(sol())"
      ]
    }
  ]
}