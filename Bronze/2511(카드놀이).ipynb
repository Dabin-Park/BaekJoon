{
  "nbformat": 4,
  "nbformat_minor": 0,
  "metadata": {
    "colab": {
      "provenance": [],
      "authorship_tag": "ABX9TyNhHJKf2AfyL7aR/pXq4Gyo",
      "include_colab_link": true
    },
    "kernelspec": {
      "name": "python3",
      "display_name": "Python 3"
    },
    "language_info": {
      "name": "python"
    }
  },
  "cells": [
    {
      "cell_type": "markdown",
      "metadata": {
        "id": "view-in-github",
        "colab_type": "text"
      },
      "source": [
        "<a href=\"https://colab.research.google.com/github/Dabin-Park/BaekJoon/blob/main/Bronze/2511(%EC%B9%B4%EB%93%9C%EB%86%80%EC%9D%B4).ipynb\" target=\"_parent\"><img src=\"https://colab.research.google.com/assets/colab-badge.svg\" alt=\"Open In Colab\"/></a>"
      ]
    },
    {
      "cell_type": "code",
      "source": [
        "def sol(A):\n",
        "    score_A = score_B = 0\n",
        "    winner = \"D\"\n",
        "    for idx, card in enumerate(map(int,input().split())):\n",
        "        if A[idx] > card:\n",
        "            score_A += 3\n",
        "            winner = \"A\"\n",
        "        elif A[idx] < card:\n",
        "            score_B += 3\n",
        "            winner = \"B\"\n",
        "        else:\n",
        "            score_A += 1\n",
        "            score_B += 1\n",
        "    print(score_A, score_B)\n",
        "    if score_A == score_B:\n",
        "        print(winner)\n",
        "    else:\n",
        "        print(\"A\" if score_A > score_B else \"B\")\n",
        "        \n",
        "sol(list(map(int,input().split())))"
      ],
      "metadata": {
        "colab": {
          "base_uri": "https://localhost:8080/"
        },
        "id": "-n7Jl3MFSbU9",
        "outputId": "e3b8c1bc-b18c-4da5-abe8-3909792fe35e"
      },
      "execution_count": 1,
      "outputs": [
        {
          "output_type": "stream",
          "name": "stdout",
          "text": [
            "4 5 6 7 0 1 2 3 9 8\n",
            "1 2 3 4 5 6 7 8 9 0\n",
            "16 13\n",
            "A\n"
          ]
        }
      ]
    }
  ]
}