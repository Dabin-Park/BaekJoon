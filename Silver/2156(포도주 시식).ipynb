{
  "nbformat": 4,
  "nbformat_minor": 0,
  "metadata": {
    "colab": {
      "name": "2156(포도주 시식).ipynb",
      "provenance": [],
      "authorship_tag": "ABX9TyMCubv9icIUqlPaMH+Q2Bxe",
      "include_colab_link": true
    },
    "kernelspec": {
      "name": "python3",
      "display_name": "Python 3"
    },
    "language_info": {
      "name": "python"
    }
  },
  "cells": [
    {
      "cell_type": "markdown",
      "metadata": {
        "id": "view-in-github",
        "colab_type": "text"
      },
      "source": [
        "<a href=\"https://colab.research.google.com/github/Dabin-Park/BaekJoon/blob/main/Silver/2156(%ED%8F%AC%EB%8F%84%EC%A3%BC%20%EC%8B%9C%EC%8B%9D).ipynb\" target=\"_parent\"><img src=\"https://colab.research.google.com/assets/colab-badge.svg\" alt=\"Open In Colab\"/></a>"
      ]
    },
    {
      "cell_type": "code",
      "source": [
        "n = int(input())\n",
        "Drinks = [int(input()) for _ in range(n)]\n",
        "dp = [Drinks[0]] + [0 for _ in range(n-1)]\n",
        "\n",
        "if n > 1:\n",
        "    dp[1] = dp[0] + Drinks[1]\n",
        "    if n > 2:\n",
        "        dp[2] = max(max(dp[0],Drinks[1]) + Drinks[2], dp[1])\n",
        "        for i in range(3,n):\n",
        "            dp[i] = max(max(dp[i-2],dp[i-3]+Drinks[i-1]) + Drinks[i],dp[i-1])\n",
        "\n",
        "print(dp[-1])"
      ],
      "metadata": {
        "colab": {
          "base_uri": "https://localhost:8080/"
        },
        "id": "4NDvOBDhbpRD",
        "outputId": "04de3d17-01e3-4498-e2e9-84664e305b83"
      },
      "execution_count": 4,
      "outputs": [
        {
          "output_type": "stream",
          "name": "stdout",
          "text": [
            "6\n",
            "6\n",
            "10\n",
            "13\n",
            "9\n",
            "8\n",
            "1\n",
            "33\n"
          ]
        }
      ]
    }
  ]
}