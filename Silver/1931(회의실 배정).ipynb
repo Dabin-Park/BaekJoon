{
  "cells": [
    {
      "cell_type": "markdown",
      "metadata": {
        "id": "view-in-github",
        "colab_type": "text"
      },
      "source": [
        "<a href=\"https://colab.research.google.com/github/Dabin-Park/BaekJoon/blob/main/Silver/1931(%ED%9A%8C%EC%9D%98%EC%8B%A4%20%EB%B0%B0%EC%A0%95).ipynb\" target=\"_parent\"><img src=\"https://colab.research.google.com/assets/colab-badge.svg\" alt=\"Open In Colab\"/></a>"
      ]
    },
    {
      "cell_type": "code",
      "source": [
        "N = int(input())\n",
        "A = sorted([list(map(int,input().split())) for _ in range(N)])\n",
        "A.sort(key = lambda x: x[1])\n",
        "\n",
        "num = 1\n",
        "i,j = 0,1\n",
        "t = A[i][1]\n",
        "while i+j <= N-1:\n",
        "    if t <= A[i+j][0]:\n",
        "        num += 1\n",
        "        i += j\n",
        "        j = 1\n",
        "        t = A[i][1] \n",
        "    else:\n",
        "        j += 1\n",
        "\n",
        "print(num)    "
      ],
      "metadata": {
        "id": "HBwwya3y6Eyo",
        "outputId": "dd2f2e0c-4738-4eeb-fe01-16ee1181806b",
        "colab": {
          "base_uri": "https://localhost:8080/"
        }
      },
      "execution_count": 2,
      "outputs": [
        {
          "output_type": "stream",
          "name": "stdout",
          "text": [
            "11\n",
            "1 4\n",
            "3 5\n",
            "0 6\n",
            "5 7\n",
            "3 8\n",
            "5 9\n",
            "6 10\n",
            "8 11\n",
            "8 12\n",
            "2 13\n",
            "12 14\n",
            "4\n"
          ]
        }
      ]
    }
  ],
  "metadata": {
    "colab": {
      "name": "1931(회의실 배정).ipynb",
      "provenance": [],
      "collapsed_sections": [],
      "authorship_tag": "ABX9TyMqIzGZsb+drb7qTONjODTD",
      "include_colab_link": true
    },
    "kernelspec": {
      "display_name": "Python 3",
      "name": "python3"
    },
    "language_info": {
      "name": "python"
    }
  },
  "nbformat": 4,
  "nbformat_minor": 0
}