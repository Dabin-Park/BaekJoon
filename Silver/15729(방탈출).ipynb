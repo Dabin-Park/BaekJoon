{
  "nbformat": 4,
  "nbformat_minor": 0,
  "metadata": {
    "colab": {
      "provenance": [],
      "authorship_tag": "ABX9TyORTNwhA8Ol/xs6sn1OVpE1",
      "include_colab_link": true
    },
    "kernelspec": {
      "name": "python3",
      "display_name": "Python 3"
    },
    "language_info": {
      "name": "python"
    }
  },
  "cells": [
    {
      "cell_type": "markdown",
      "metadata": {
        "id": "view-in-github",
        "colab_type": "text"
      },
      "source": [
        "<a href=\"https://colab.research.google.com/github/Dabin-Park/BaekJoon/blob/main/Silver/15729(%EB%B0%A9%ED%83%88%EC%B6%9C).ipynb\" target=\"_parent\"><img src=\"https://colab.research.google.com/assets/colab-badge.svg\" alt=\"Open In Colab\"/></a>"
      ]
    },
    {
      "cell_type": "code",
      "source": [
        "def sol(N,num):\n",
        "    Button = list(map(int,input().split()))+[0,0]\n",
        "    for i in range(N):\n",
        "        if Button[i]:\n",
        "            for j in range(3):\n",
        "                Button[i+j] = 1-Button[i+j]\n",
        "            num += 1\n",
        "    return num\n",
        "        \n",
        "print(sol(int(input()),0)) "
      ],
      "metadata": {
        "colab": {
          "base_uri": "https://localhost:8080/"
        },
        "id": "Wf1zqg3P9ONw",
        "outputId": "03e76c3f-f36e-4f58-f6c0-68790714a074"
      },
      "execution_count": 1,
      "outputs": [
        {
          "output_type": "stream",
          "name": "stdout",
          "text": [
            "7\n",
            "0 0 1 0 0 1 0\n",
            "2\n"
          ]
        }
      ]
    }
  ]
}