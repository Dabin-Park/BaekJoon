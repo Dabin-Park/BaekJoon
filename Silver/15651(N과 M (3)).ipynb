{
  "nbformat": 4,
  "nbformat_minor": 0,
  "metadata": {
    "colab": {
      "provenance": [],
      "authorship_tag": "ABX9TyNBfqWQsKwh6kd4jKHpIz8H",
      "include_colab_link": true
    },
    "kernelspec": {
      "name": "python3",
      "display_name": "Python 3"
    },
    "language_info": {
      "name": "python"
    }
  },
  "cells": [
    {
      "cell_type": "markdown",
      "metadata": {
        "id": "view-in-github",
        "colab_type": "text"
      },
      "source": [
        "<a href=\"https://colab.research.google.com/github/Dabin-Park/BaekJoon/blob/main/Silver/15651(N%EA%B3%BC%20M%20(3)).ipynb\" target=\"_parent\"><img src=\"https://colab.research.google.com/assets/colab-badge.svg\" alt=\"Open In Colab\"/></a>"
      ]
    },
    {
      "cell_type": "code",
      "source": [
        "def sol(Num):\n",
        "    if len(Num) == M:\n",
        "        print(\" \".join(Num))\n",
        "    else:\n",
        "        for i in range(1,N+1):\n",
        "            sol(Num+[str(i)])\n",
        "\n",
        "N,M = map(int,input().split())    \n",
        "sol([])"
      ],
      "metadata": {
        "colab": {
          "base_uri": "https://localhost:8080/"
        },
        "id": "Wf1zqg3P9ONw",
        "outputId": "f32a3eee-1758-4215-a72c-c3ff691150b6"
      },
      "execution_count": 3,
      "outputs": [
        {
          "output_type": "stream",
          "name": "stdout",
          "text": [
            "4 2\n",
            "1 1\n",
            "1 2\n",
            "1 3\n",
            "1 4\n",
            "2 1\n",
            "2 2\n",
            "2 3\n",
            "2 4\n",
            "3 1\n",
            "3 2\n",
            "3 3\n",
            "3 4\n",
            "4 1\n",
            "4 2\n",
            "4 3\n",
            "4 4\n"
          ]
        }
      ]
    },
    {
      "cell_type": "code",
      "source": [
        "def sol(i, N, Num):\n",
        "    for j in range(1, N+1):\n",
        "        Num.append(str(j))\n",
        "        if i == 1:\n",
        "            print(' '.join(Num))\n",
        "        else:\n",
        "            sol(i-1, N, Num)\n",
        "        Num.pop()        \n",
        "        \n",
        "N, M = map(int, input().split())\n",
        "sol(M, N, [])\n"
      ],
      "metadata": {
        "colab": {
          "base_uri": "https://localhost:8080/"
        },
        "id": "ErxOFDWZ79dS",
        "outputId": "23f1dfd0-9738-4754-9d08-ebba279ddedb"
      },
      "execution_count": 2,
      "outputs": [
        {
          "output_type": "stream",
          "name": "stdout",
          "text": [
            "4 2\n",
            "1 1\n",
            "1 2\n",
            "1 3\n",
            "1 4\n",
            "2 1\n",
            "2 2\n",
            "2 3\n",
            "2 4\n",
            "3 1\n",
            "3 2\n",
            "3 3\n",
            "3 4\n",
            "4 1\n",
            "4 2\n",
            "4 3\n",
            "4 4\n"
          ]
        }
      ]
    }
  ]
}