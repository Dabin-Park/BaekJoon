{
  "nbformat": 4,
  "nbformat_minor": 0,
  "metadata": {
    "colab": {
      "name": "10845(큐).ipynb",
      "provenance": [],
      "authorship_tag": "ABX9TyPism0BOd1lppyyIDPlGs1r",
      "include_colab_link": true
    },
    "kernelspec": {
      "name": "python3",
      "display_name": "Python 3"
    },
    "language_info": {
      "name": "python"
    }
  },
  "cells": [
    {
      "cell_type": "markdown",
      "metadata": {
        "id": "view-in-github",
        "colab_type": "text"
      },
      "source": [
        "<a href=\"https://colab.research.google.com/github/Dabin-Park/BaekJoon/blob/main/Silver/10845(%ED%81%90).ipynb\" target=\"_parent\"><img src=\"https://colab.research.google.com/assets/colab-badge.svg\" alt=\"Open In Colab\"/></a>"
      ]
    },
    {
      "cell_type": "code",
      "source": [
        "from collections import deque\n",
        "queue = deque([])\n",
        "\n",
        "for _ in range(int(input())):\n",
        "    X = input().split()\n",
        "    if X[0] == 'push':\n",
        "        queue.append(X[1])\n",
        "    elif X[0] == 'pop':\n",
        "        if queue:\n",
        "            print(queue.popleft())\n",
        "        else:\n",
        "            print(-1)\n",
        "    elif X[0] == 'size':\n",
        "        print(len(queue))\n",
        "    elif X[0] == 'empty':\n",
        "        if queue:\n",
        "            print(0)\n",
        "        else:\n",
        "            print(1)\n",
        "    elif X[0] == 'front':\n",
        "        if queue:\n",
        "            print(queue[0])\n",
        "        else:\n",
        "            print(-1)\n",
        "    else:\n",
        "        if queue:\n",
        "            print(queue[-1])\n",
        "        else:\n",
        "            print(-1)"
      ],
      "metadata": {
        "colab": {
          "base_uri": "https://localhost:8080/"
        },
        "id": "4NDvOBDhbpRD",
        "outputId": "e0c543b4-0ce6-4cda-fef5-e0d188e0eeda"
      },
      "execution_count": 3,
      "outputs": [
        {
          "output_type": "stream",
          "name": "stdout",
          "text": [
            "15\n",
            "push 1\n",
            "push 2\n",
            "front\n",
            "1\n",
            "back\n",
            "2\n",
            "size\n",
            "2\n",
            "empty\n",
            "0\n",
            "pop\n",
            "1\n",
            "pop\n",
            "2\n",
            "pop\n",
            "-1\n",
            "size\n",
            "0\n",
            "empty\n",
            "1\n",
            "pop\n",
            "-1\n",
            "push 3\n",
            "empty\n",
            "0\n",
            "front\n",
            "3\n"
          ]
        }
      ]
    }
  ]
}