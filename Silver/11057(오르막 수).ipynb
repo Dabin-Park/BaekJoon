{
  "cells": [
    {
      "cell_type": "markdown",
      "metadata": {
        "id": "view-in-github",
        "colab_type": "text"
      },
      "source": [
        "<a href=\"https://colab.research.google.com/github/Dabin-Park/BaekJoon/blob/main/Silver/11057(%EC%98%A4%EB%A5%B4%EB%A7%89%20%EC%88%98).ipynb\" target=\"_parent\"><img src=\"https://colab.research.google.com/assets/colab-badge.svg\" alt=\"Open In Colab\"/></a>"
      ]
    },
    {
      "cell_type": "code",
      "source": [
        "N = int(input())\n",
        "dp = [[0 for _ in range(10)] for _ in range(N)]\n",
        "dp[0] = [1]*10\n",
        "\n",
        "for i in range(1,N):\n",
        "    for j in range(10):\n",
        "        dp[i][j] = sum(dp[i-1][j:])\n",
        "\n",
        "print(sum(dp[N-1])%10007)"
      ],
      "metadata": {
        "id": "HBwwya3y6Eyo",
        "outputId": "52c724e5-e1bb-4e67-9000-f80821365909",
        "colab": {
          "base_uri": "https://localhost:8080/"
        }
      },
      "execution_count": 1,
      "outputs": [
        {
          "output_type": "stream",
          "name": "stdout",
          "text": [
            "3\n",
            "220\n"
          ]
        }
      ]
    }
  ],
  "metadata": {
    "colab": {
      "name": "11057(오르막 수).ipynb",
      "provenance": [],
      "collapsed_sections": [],
      "authorship_tag": "ABX9TyNUkZR471/9mTmTbVZ32if2",
      "include_colab_link": true
    },
    "kernelspec": {
      "display_name": "Python 3",
      "name": "python3"
    },
    "language_info": {
      "name": "python"
    }
  },
  "nbformat": 4,
  "nbformat_minor": 0
}