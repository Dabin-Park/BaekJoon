{
  "nbformat": 4,
  "nbformat_minor": 0,
  "metadata": {
    "colab": {
      "provenance": [],
      "authorship_tag": "ABX9TyOWwuealQXfixymTIBHft5D",
      "include_colab_link": true
    },
    "kernelspec": {
      "name": "python3",
      "display_name": "Python 3"
    },
    "language_info": {
      "name": "python"
    }
  },
  "cells": [
    {
      "cell_type": "markdown",
      "metadata": {
        "id": "view-in-github",
        "colab_type": "text"
      },
      "source": [
        "<a href=\"https://colab.research.google.com/github/Dabin-Park/BaekJoon/blob/main/Gold/27896(%ED%8A%B9%EB%B3%84%ED%95%9C%20%EC%84%9C%EB%B9%99).ipynb\" target=\"_parent\"><img src=\"https://colab.research.google.com/assets/colab-badge.svg\" alt=\"Open In Colab\"/></a>"
      ]
    },
    {
      "cell_type": "code",
      "source": [
        "import heapq\n",
        "\n",
        "def sol(sum_, result, heap):\n",
        "    _,M = map(int,input().split())\n",
        "    for x in map(int,input().split()):\n",
        "        heapq.heappush(heap,-x)\n",
        "        sum_ += x\n",
        "        if sum_ >= M:\n",
        "            result += 1\n",
        "            sum_ += 2*heapq.heappop(heap)    \n",
        "    return result     \n",
        "\n",
        "print(sol(0,0,[]))"
      ],
      "metadata": {
        "id": "Eum8oDR9H9Ie",
        "colab": {
          "base_uri": "https://localhost:8080/"
        },
        "outputId": "25a233e9-d59e-4f63-b5f3-d2e69aeba5b3"
      },
      "execution_count": 1,
      "outputs": [
        {
          "output_type": "stream",
          "name": "stdout",
          "text": [
            "5 3\n",
            "0 0 2 0 2\n",
            "1\n"
          ]
        }
      ]
    }
  ]
}