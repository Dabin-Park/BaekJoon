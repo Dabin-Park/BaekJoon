{
  "nbformat": 4,
  "nbformat_minor": 0,
  "metadata": {
    "colab": {
      "name": "13305(주유소).ipynb",
      "provenance": [],
      "authorship_tag": "ABX9TyNv2k5GV5ccloRxVcpIYIo+",
      "include_colab_link": true
    },
    "kernelspec": {
      "name": "python3",
      "display_name": "Python 3"
    },
    "language_info": {
      "name": "python"
    }
  },
  "cells": [
    {
      "cell_type": "markdown",
      "metadata": {
        "id": "view-in-github",
        "colab_type": "text"
      },
      "source": [
        "<a href=\"https://colab.research.google.com/github/Dabin-Park/BaekJoon/blob/main/Silver/13305(%EC%A3%BC%EC%9C%A0%EC%86%8C).ipynb\" target=\"_parent\"><img src=\"https://colab.research.google.com/assets/colab-badge.svg\" alt=\"Open In Colab\"/></a>"
      ]
    },
    {
      "cell_type": "code",
      "source": [
        "N = int(input())\n",
        "Distance = list(map(int,input().split()))\n",
        "Money = list(map(int,input().split()))\n",
        "\n",
        "sum_all,m = sum(Distance),Money[0]\n",
        "total = m*sum_all\n",
        "sum_all -= Distance[0]\n",
        "\n",
        "for i,money in enumerate(Money[1:N-1]):\n",
        "    if m > money:\n",
        "        total -= (m-money)*sum_all\n",
        "        m = money\n",
        "    sum_all -= Distance[i+1]\n",
        "\n",
        "print(total)"
      ],
      "metadata": {
        "colab": {
          "base_uri": "https://localhost:8080/"
        },
        "id": "4NDvOBDhbpRD",
        "outputId": "16c50dd3-07ad-4371-d255-8082e10de307"
      },
      "execution_count": 3,
      "outputs": [
        {
          "output_type": "stream",
          "name": "stdout",
          "text": [
            "4\n",
            "2 3 1\n",
            "5 2 4 1\n",
            "18\n"
          ]
        }
      ]
    },
    {
      "cell_type": "code",
      "source": [
        "N = int(input())\n",
        "Distance = list(map(int,input().split()))\n",
        "Money = list(map(int,input().split()))\n",
        "\n",
        "total, m = 0, 1000000001\n",
        "\n",
        "for d,money in zip(Distance, Money):\n",
        "    if m > money:\n",
        "        m = money\n",
        "    total += m*d\n",
        "\n",
        "print(total)"
      ],
      "metadata": {
        "colab": {
          "base_uri": "https://localhost:8080/"
        },
        "id": "JU5zv1QpG4GE",
        "outputId": "1549b098-b1ad-4157-a13b-a5c7d73d441e"
      },
      "execution_count": 4,
      "outputs": [
        {
          "output_type": "stream",
          "name": "stdout",
          "text": [
            "4\n",
            "2 3 1\n",
            "5 2 4 1\n",
            "18\n"
          ]
        }
      ]
    }
  ]
}