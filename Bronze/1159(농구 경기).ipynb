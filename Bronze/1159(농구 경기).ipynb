{
  "nbformat": 4,
  "nbformat_minor": 0,
  "metadata": {
    "colab": {
      "provenance": [],
      "authorship_tag": "ABX9TyPg9uL/UU8PzJ+zvwniEI9W",
      "include_colab_link": true
    },
    "kernelspec": {
      "name": "python3",
      "display_name": "Python 3"
    },
    "language_info": {
      "name": "python"
    }
  },
  "cells": [
    {
      "cell_type": "markdown",
      "metadata": {
        "id": "view-in-github",
        "colab_type": "text"
      },
      "source": [
        "<a href=\"https://colab.research.google.com/github/Dabin-Park/BaekJoon/blob/main/Bronze/1159(%EB%86%8D%EA%B5%AC%20%EA%B2%BD%EA%B8%B0).ipynb\" target=\"_parent\"><img src=\"https://colab.research.google.com/assets/colab-badge.svg\" alt=\"Open In Colab\"/></a>"
      ]
    },
    {
      "cell_type": "code",
      "source": [
        "def sol(N):\n",
        "    Name = {}\n",
        "    for _ in range(N):\n",
        "        name = input()[0]\n",
        "        if name in Name:\n",
        "            Name[name] += 1\n",
        "        else:\n",
        "            Name[name] = 1\n",
        "    Sol = [name for name in Name  if Name[name] >= 5] \n",
        "    print(\"\".join(sorted(Sol)) if Sol else \"PREDAJA\")\n",
        "        \n",
        "\n",
        "sol(int(input()))"
      ],
      "metadata": {
        "colab": {
          "base_uri": "https://localhost:8080/"
        },
        "id": "tVe3A1mE7-1_",
        "outputId": "9fc6314d-9692-42bc-9d12-5399e5fcb1bd"
      },
      "execution_count": 1,
      "outputs": [
        {
          "output_type": "stream",
          "name": "stdout",
          "text": [
            "18\n",
            "babic\n",
            "keksic\n",
            "boric\n",
            "bukic\n",
            "sarmic\n",
            "balic\n",
            "kruzic\n",
            "hrenovkic\n",
            "beslic\n",
            "boksic\n",
            "krafnic\n",
            "pecivic\n",
            "klavirkovic\n",
            "kukumaric\n",
            "sunkic\n",
            "kolacic\n",
            "kovacic\n",
            "prijestolonasljednikovi\n",
            "bk\n"
          ]
        }
      ]
    }
  ]
}