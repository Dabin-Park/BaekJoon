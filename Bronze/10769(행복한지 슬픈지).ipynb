{
  "nbformat": 4,
  "nbformat_minor": 0,
  "metadata": {
    "colab": {
      "provenance": [],
      "authorship_tag": "ABX9TyN6SZVBezYmhApx1q0L3gmn",
      "include_colab_link": true
    },
    "kernelspec": {
      "name": "python3",
      "display_name": "Python 3"
    },
    "language_info": {
      "name": "python"
    }
  },
  "cells": [
    {
      "cell_type": "markdown",
      "metadata": {
        "id": "view-in-github",
        "colab_type": "text"
      },
      "source": [
        "<a href=\"https://colab.research.google.com/github/Dabin-Park/BaekJoon/blob/main/Bronze/10769(%ED%96%89%EB%B3%B5%ED%95%9C%EC%A7%80%20%EC%8A%AC%ED%94%88%EC%A7%80).ipynb\" target=\"_parent\"><img src=\"https://colab.research.google.com/assets/colab-badge.svg\" alt=\"Open In Colab\"/></a>"
      ]
    },
    {
      "cell_type": "code",
      "execution_count": 1,
      "metadata": {
        "colab": {
          "base_uri": "https://localhost:8080/"
        },
        "id": "V2C1sM_6QvYk",
        "outputId": "f88164b2-018e-4657-c84f-6643cd6b75b5"
      },
      "outputs": [
        {
          "output_type": "stream",
          "name": "stdout",
          "text": [
            "How are you :-) doing :-( today :-)?\n",
            "happy\n"
          ]
        }
      ],
      "source": [
        "def sol(INPUT):\n",
        "    happy = sad = i = 0\n",
        "    len_ = len(INPUT)\n",
        "    while i < len_:\n",
        "        if INPUT[i] == \":\":\n",
        "            if INPUT[i+1:i+3] == \"-)\":\n",
        "                happy += 1\n",
        "                i += 2\n",
        "            elif INPUT[i+1:i+3] == \"-(\":\n",
        "                sad += 1\n",
        "                i += 2\n",
        "        i += 1\n",
        "    if happy or sad:\n",
        "        if happy > sad:\n",
        "            return \"happy\"\n",
        "        elif happy < sad:\n",
        "            return \"sad\"\n",
        "        return \"unsure\"\n",
        "    return \"none\"\n",
        "\n",
        "print(sol(input()))"
      ]
    },
    {
      "cell_type": "code",
      "source": [
        "def sol(Input):\n",
        "    happy,sad = Input.count(':-)'), Input.count(':-(')\n",
        "    if happy or sad: \n",
        "        if happy > sad:\n",
        "            return \"happy\"\n",
        "        if happy < sad:\n",
        "            return \"sad\"\n",
        "        return \"unsure\"\n",
        "    return \"none\"\n",
        "\n",
        "print(sol(input()))"
      ],
      "metadata": {
        "colab": {
          "base_uri": "https://localhost:8080/"
        },
        "id": "Yk_LJnfSiDFC",
        "outputId": "303fce0e-26aa-491c-f1de-aadfa340f5eb"
      },
      "execution_count": 2,
      "outputs": [
        {
          "output_type": "stream",
          "name": "stdout",
          "text": [
            "How are you :-) doing :-( today :-)?\n",
            "happy\n"
          ]
        }
      ]
    }
  ]
}