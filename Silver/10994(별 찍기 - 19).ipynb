{
  "nbformat": 4,
  "nbformat_minor": 0,
  "metadata": {
    "colab": {
      "name": "Silver/10994(별 찍기 - 19).ipynb",
      "provenance": [],
      "authorship_tag": "ABX9TyMmmHxqT92iz0nTYVyUgmWE",
      "include_colab_link": true
    },
    "kernelspec": {
      "name": "python3",
      "display_name": "Python 3"
    },
    "language_info": {
      "name": "python"
    }
  },
  "cells": [
    {
      "cell_type": "markdown",
      "metadata": {
        "id": "view-in-github",
        "colab_type": "text"
      },
      "source": [
        "<a href=\"https://colab.research.google.com/github/Dabin-Park/BaekJoon/blob/main/Silver/10994(%EB%B3%84%20%EC%B0%8D%EA%B8%B0%20-%2019).ipynb\" target=\"_parent\"><img src=\"https://colab.research.google.com/assets/colab-badge.svg\" alt=\"Open In Colab\"/></a>"
      ]
    },
    {
      "cell_type": "code",
      "source": [
        "def star(N,x,y):\n",
        "    if N == 1:\n",
        "        Star[x][y] = \"*\"\n",
        "        return\n",
        "    Star[x][y:y+N] = ['*']*N\n",
        "    for i in range(x+1,a-x-1):\n",
        "        Star[i][y] = \"*\"\n",
        "        Star[i][a-y-1] = \"*\"\n",
        "    Star[a-x-1][y:y+N] = ['*']*N\n",
        "    star(N-4,x+2,y+2)\n",
        "\n",
        "N = int(input())\n",
        "a = 4*(N-1)+1\n",
        "Star = [[\" \"]*a for _ in range(a)]\n",
        "star(a,0,0)\n",
        "\n",
        "for s in Star:\n",
        "    print(\"\".join(s))"
      ],
      "metadata": {
        "id": "CGdbDyPnpFQk",
        "outputId": "c5d42b1c-5a5f-4e9e-fa32-b35f248e8555",
        "colab": {
          "base_uri": "https://localhost:8080/"
        }
      },
      "execution_count": 1,
      "outputs": [
        {
          "output_type": "stream",
          "name": "stdout",
          "text": [
            "4\n",
            "*************\n",
            "*           *\n",
            "* ********* *\n",
            "* *       * *\n",
            "* * ***** * *\n",
            "* * *   * * *\n",
            "* * * * * * *\n",
            "* * *   * * *\n",
            "* * ***** * *\n",
            "* *       * *\n",
            "* ********* *\n",
            "*           *\n",
            "*************\n"
          ]
        }
      ]
    }
  ]
}