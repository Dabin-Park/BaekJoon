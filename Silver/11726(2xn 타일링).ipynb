{
  "nbformat": 4,
  "nbformat_minor": 0,
  "metadata": {
    "colab": {
      "name": "11726(2xn 타일링).ipynb",
      "provenance": [],
      "authorship_tag": "ABX9TyOgRFXrEM9n7Q51NQbBBHWM",
      "include_colab_link": true
    },
    "kernelspec": {
      "name": "python3",
      "display_name": "Python 3"
    },
    "language_info": {
      "name": "python"
    }
  },
  "cells": [
    {
      "cell_type": "markdown",
      "metadata": {
        "id": "view-in-github",
        "colab_type": "text"
      },
      "source": [
        "<a href=\"https://colab.research.google.com/github/Dabin-Park/BaekJoon/blob/main/Silver/11726(2xn%20%ED%83%80%EC%9D%BC%EB%A7%81).ipynb\" target=\"_parent\"><img src=\"https://colab.research.google.com/assets/colab-badge.svg\" alt=\"Open In Colab\"/></a>"
      ]
    },
    {
      "cell_type": "code",
      "source": [
        "n = int(input())\n",
        "dp = [1,1] + [0 for _ in range(n-1)]\n",
        "\n",
        "for i in range(2,n+1):\n",
        "    dp[i] = dp[i-1] + dp[i-2]\n",
        "\n",
        "print(dp[n]%10007)"
      ],
      "metadata": {
        "colab": {
          "base_uri": "https://localhost:8080/"
        },
        "id": "4NDvOBDhbpRD",
        "outputId": "06f5cc82-e9c2-4ede-90a8-abdf6a1c0548"
      },
      "execution_count": 2,
      "outputs": [
        {
          "output_type": "stream",
          "name": "stdout",
          "text": [
            "9\n",
            "55\n"
          ]
        }
      ]
    }
  ]
}