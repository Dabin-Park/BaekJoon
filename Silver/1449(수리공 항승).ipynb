{
  "nbformat": 4,
  "nbformat_minor": 0,
  "metadata": {
    "colab": {
      "name": "1449(수리공 항승).ipynb",
      "provenance": [],
      "authorship_tag": "ABX9TyNQdi0mrDm6gK1lG6eC45Ul",
      "include_colab_link": true
    },
    "kernelspec": {
      "name": "python3",
      "display_name": "Python 3"
    },
    "language_info": {
      "name": "python"
    }
  },
  "cells": [
    {
      "cell_type": "markdown",
      "metadata": {
        "id": "view-in-github",
        "colab_type": "text"
      },
      "source": [
        "<a href=\"https://colab.research.google.com/github/Dabin-Park/BaekJoon/blob/main/Silver/1449(%EC%88%98%EB%A6%AC%EA%B3%B5%20%ED%95%AD%EC%8A%B9).ipynb\" target=\"_parent\"><img src=\"https://colab.research.google.com/assets/colab-badge.svg\" alt=\"Open In Colab\"/></a>"
      ]
    },
    {
      "cell_type": "code",
      "source": [
        "_,L = map(int,input().split())\n",
        "Pipe = sorted(list(map(int,input().split())))\n",
        "\n",
        "end_of_tape,num,a = 0,0,L-0.5\n",
        "for n in Pipe:\n",
        "    if n > end_of_tape:\n",
        "        num += 1\n",
        "        end_of_tape = n + a\n",
        "\n",
        "print(num)"
      ],
      "metadata": {
        "id": "CGdbDyPnpFQk",
        "outputId": "bebc5f5e-9d2a-4f0a-9018-86547c248b38",
        "colab": {
          "base_uri": "https://localhost:8080/"
        }
      },
      "execution_count": 2,
      "outputs": [
        {
          "output_type": "stream",
          "name": "stdout",
          "text": [
            "4 2\n",
            "1 2 100 101\n",
            "2\n"
          ]
        }
      ]
    }
  ]
}