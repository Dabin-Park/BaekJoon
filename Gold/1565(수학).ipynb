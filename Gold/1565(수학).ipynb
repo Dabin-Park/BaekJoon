{
  "nbformat": 4,
  "nbformat_minor": 0,
  "metadata": {
    "colab": {
      "name": "1565(수학).ipynb",
      "provenance": [],
      "authorship_tag": "ABX9TyOKJyr0SG+RtI3ST3SVcXsV",
      "include_colab_link": true
    },
    "kernelspec": {
      "name": "python3",
      "display_name": "Python 3"
    },
    "language_info": {
      "name": "python"
    }
  },
  "cells": [
    {
      "cell_type": "markdown",
      "metadata": {
        "id": "view-in-github",
        "colab_type": "text"
      },
      "source": [
        "<a href=\"https://colab.research.google.com/github/Dabin-Park/BaekJoon/blob/main/Gold/1565(%EC%88%98%ED%95%99).ipynb\" target=\"_parent\"><img src=\"https://colab.research.google.com/assets/colab-badge.svg\" alt=\"Open In Colab\"/></a>"
      ]
    },
    {
      "cell_type": "code",
      "source": [
        "def gcd(a,b):\n",
        "    a,b = min(a,b),max(a,b)\n",
        "    if b%a:\n",
        "        return gcd(b%a,a)\n",
        "    else:\n",
        "        return a\n",
        "\n",
        "def lcm(a,b):\n",
        "    return (a*b)//gcd(a,b)\n",
        "\n",
        "def divisor(a,b,M,num):\n",
        "    if b%a == 0:\n",
        "        for m in M:\n",
        "            if m % b:\n",
        "                return num\n",
        "        return num + 1\n",
        "    return num\n",
        "\n",
        "D,M = map(int,input().split())\n",
        "Dnumbers = list(map(int,input().split()))\n",
        "Mnumbers = list(map(int,input().split()))\n",
        "if 0 in Dnumbers:\n",
        "    print(0)\n",
        "else:\n",
        "    lcmnum = 1\n",
        "    for d in Dnumbers:\n",
        "        lcmnum = lcm(lcmnum,d)\n",
        "\n",
        "    minM = min(Mnumbers)\n",
        "    num = 0\n",
        "    for i in range(1,int(minM**0.5)):\n",
        "        if minM%i == 0:\n",
        "            num = divisor(lcmnum,i,Mnumbers,num)\n",
        "            num = divisor(lcmnum,minM//i,Mnumbers,num)\n",
        "    num = divisor(lcmnum,int(minM**0.5),Mnumbers,num)\n",
        "    print(num)"
      ],
      "metadata": {
        "id": "xk6usRE-86iG",
        "colab": {
          "base_uri": "https://localhost:8080/"
        },
        "outputId": "19020ded-b2c4-482a-83a1-7d3270c30a66"
      },
      "execution_count": 1,
      "outputs": [
        {
          "output_type": "stream",
          "name": "stdout",
          "text": [
            "3 1\n",
            "1000 10000 100000\n",
            "1000000000\n",
            "25\n"
          ]
        }
      ]
    }
  ]
}