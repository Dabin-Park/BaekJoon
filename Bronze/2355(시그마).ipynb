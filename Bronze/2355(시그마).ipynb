{
  "nbformat": 4,
  "nbformat_minor": 0,
  "metadata": {
    "colab": {
      "name": "2355(시그마).ipynb",
      "provenance": [],
      "authorship_tag": "ABX9TyMR2+I+1pzs9pVquGvviYkp",
      "include_colab_link": true
    },
    "kernelspec": {
      "name": "python3",
      "display_name": "Python 3"
    },
    "language_info": {
      "name": "python"
    }
  },
  "cells": [
    {
      "cell_type": "markdown",
      "metadata": {
        "id": "view-in-github",
        "colab_type": "text"
      },
      "source": [
        "<a href=\"https://colab.research.google.com/github/Dabin-Park/BaekJoon/blob/main/Bronze/2355(%EC%8B%9C%EA%B7%B8%EB%A7%88).ipynb\" target=\"_parent\"><img src=\"https://colab.research.google.com/assets/colab-badge.svg\" alt=\"Open In Colab\"/></a>"
      ]
    },
    {
      "cell_type": "code",
      "source": [
        "a,b = map(int,input().split())\n",
        "A = min(a,b)\n",
        "B = max(a,b)\n",
        "c = B-A\n",
        "d = c+1\n",
        "print(int(A*d+(c*d)/2))"
      ],
      "metadata": {
        "colab": {
          "base_uri": "https://localhost:8080/"
        },
        "id": "xk6usRE-86iG",
        "outputId": "68b5b4b1-0c13-4a3b-bf47-b4971ddf51b6"
      },
      "execution_count": 3,
      "outputs": [
        {
          "output_type": "stream",
          "name": "stdout",
          "text": [
            "1 2\n",
            "3\n"
          ]
        }
      ]
    }
  ]
}