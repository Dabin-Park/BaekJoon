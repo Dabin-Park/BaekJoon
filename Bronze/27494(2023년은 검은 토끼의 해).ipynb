{
  "nbformat": 4,
  "nbformat_minor": 0,
  "metadata": {
    "colab": {
      "provenance": [],
      "authorship_tag": "ABX9TyPYvr55OSsPDjh7lQ8WNft2",
      "include_colab_link": true
    },
    "kernelspec": {
      "name": "python3",
      "display_name": "Python 3"
    },
    "language_info": {
      "name": "python"
    }
  },
  "cells": [
    {
      "cell_type": "markdown",
      "metadata": {
        "id": "view-in-github",
        "colab_type": "text"
      },
      "source": [
        "<a href=\"https://colab.research.google.com/github/Dabin-Park/BaekJoon/blob/main/Bronze/27494(2023%EB%85%84%EC%9D%80%20%EA%B2%80%EC%9D%80%20%ED%86%A0%EB%81%BC%EC%9D%98%20%ED%95%B4).ipynb\" target=\"_parent\"><img src=\"https://colab.research.google.com/assets/colab-badge.svg\" alt=\"Open In Colab\"/></a>"
      ]
    },
    {
      "cell_type": "code",
      "source": [
        "def sol(N):\n",
        "    ans = 0\n",
        "    Year = \"2023\"\n",
        "    for num in range(2023, N+1):\n",
        "        idx = 0\n",
        "        for j in str(num):\n",
        "            if j == Year[idx]:\n",
        "                idx += 1\n",
        "                if idx == 4:\n",
        "                    ans += 1\n",
        "                    break\n",
        "    return ans\n",
        "\n",
        "print(sol(int(input())))"
      ],
      "metadata": {
        "colab": {
          "base_uri": "https://localhost:8080/"
        },
        "id": "Wf1zqg3P9ONw",
        "outputId": "424d3826-b7cf-40e4-e73e-50fd8d7007ec"
      },
      "execution_count": 3,
      "outputs": [
        {
          "output_type": "stream",
          "name": "stdout",
          "text": [
            "20000104\n",
            "54561\n"
          ]
        }
      ]
    }
  ]
}