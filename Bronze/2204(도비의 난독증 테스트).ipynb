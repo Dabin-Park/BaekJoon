{
  "nbformat": 4,
  "nbformat_minor": 0,
  "metadata": {
    "colab": {
      "provenance": [],
      "authorship_tag": "ABX9TyMUNxOvEbUoZfP4vu54iPYR",
      "include_colab_link": true
    },
    "kernelspec": {
      "name": "python3",
      "display_name": "Python 3"
    },
    "language_info": {
      "name": "python"
    }
  },
  "cells": [
    {
      "cell_type": "markdown",
      "metadata": {
        "id": "view-in-github",
        "colab_type": "text"
      },
      "source": [
        "<a href=\"https://colab.research.google.com/github/Dabin-Park/BaekJoon/blob/main/Bronze/2204(%EB%8F%84%EB%B9%84%EC%9D%98%20%EB%82%9C%EB%8F%85%EC%A6%9D%20%ED%85%8C%EC%8A%A4%ED%8A%B8).ipynb\" target=\"_parent\"><img src=\"https://colab.research.google.com/assets/colab-badge.svg\" alt=\"Open In Colab\"/></a>"
      ]
    },
    {
      "cell_type": "code",
      "source": [
        "def sol():\n",
        "    while 1:\n",
        "        N = int(input())\n",
        "        if N == 0:\n",
        "            break\n",
        "        print(sorted([input().rstrip() for _ in range(N)], key = lambda x : x.lower())[0])\n",
        "        \n",
        "sol()"
      ],
      "metadata": {
        "colab": {
          "base_uri": "https://localhost:8080/"
        },
        "id": "GksKdUFn3Mzd",
        "outputId": "79733f7e-b158-4b94-9f5d-a63041f2d689"
      },
      "execution_count": 1,
      "outputs": [
        {
          "name": "stdout",
          "output_type": "stream",
          "text": [
            "3\n",
            "Cat\n",
            "fat\n",
            "bAt\n",
            "bAt\n",
            "4\n",
            "call\n",
            "ball\n",
            "All\n",
            "Hall\n",
            "All\n",
            "0\n"
          ]
        }
      ]
    }
  ]
}