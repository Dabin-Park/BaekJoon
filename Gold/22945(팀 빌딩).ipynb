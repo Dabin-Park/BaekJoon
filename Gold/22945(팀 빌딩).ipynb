{
  "nbformat": 4,
  "nbformat_minor": 0,
  "metadata": {
    "colab": {
      "name": "22945(팀 빌딩).ipynb",
      "provenance": [],
      "authorship_tag": "ABX9TyPaa6lzTvYlLJi9GHwpjFfA",
      "include_colab_link": true
    },
    "kernelspec": {
      "name": "python3",
      "display_name": "Python 3"
    },
    "language_info": {
      "name": "python"
    }
  },
  "cells": [
    {
      "cell_type": "markdown",
      "metadata": {
        "id": "view-in-github",
        "colab_type": "text"
      },
      "source": [
        "<a href=\"https://colab.research.google.com/github/Dabin-Park/BaekJoon/blob/main/Gold/22945(%ED%8C%80%20%EB%B9%8C%EB%94%A9).ipynb\" target=\"_parent\"><img src=\"https://colab.research.google.com/assets/colab-badge.svg\" alt=\"Open In Colab\"/></a>"
      ]
    },
    {
      "cell_type": "code",
      "source": [
        "N = int(input())\n",
        "Humans = list(map(int,input().split()))\n",
        "s,e = 0,N-1\n",
        "Max = 0 \n",
        "while s < e:\n",
        "    a = Humans[s]\n",
        "    b = Humans[e]\n",
        "    if a < b:\n",
        "        Max = max(Max,a*(e-s-1))\n",
        "        s += 1\n",
        "    else:\n",
        "        Max = max(Max,b*(e-s-1))\n",
        "        e -= 1\n",
        "\n",
        "print(Max)        "
      ],
      "metadata": {
        "id": "xk6usRE-86iG",
        "colab": {
          "base_uri": "https://localhost:8080/"
        },
        "outputId": "bc679f1b-edd4-42aa-a226-0e79525ce9c8"
      },
      "execution_count": null,
      "outputs": [
        {
          "output_type": "stream",
          "name": "stdout",
          "text": [
            "4\n",
            "1 4 2 5\n",
            "4\n"
          ]
        }
      ]
    },
    {
      "cell_type": "code",
      "source": [
        "N = int(input())\n",
        "Humans = {idx: ability for idx, ability in enumerate(map(int,input().split()))}\n",
        "s,e = 0,N-1\n",
        "Max = 0 \n",
        "while s < e:\n",
        "    a = Humans[s]\n",
        "    b = Humans[e]\n",
        "    if a < b:\n",
        "        Max = max(Max,a*(e-s-1))\n",
        "        s += 1\n",
        "    else:\n",
        "        Max = max(Max,b*(e-s-1))\n",
        "        e -= 1\n",
        "\n",
        "print(Max)"
      ],
      "metadata": {
        "id": "cgPYt4h-VE3c",
        "outputId": "f2d85129-85ac-4dd4-aec7-f81501b41885",
        "colab": {
          "base_uri": "https://localhost:8080/"
        }
      },
      "execution_count": 1,
      "outputs": [
        {
          "output_type": "stream",
          "name": "stdout",
          "text": [
            "4\n",
            "1 4 2 5\n",
            "4\n"
          ]
        }
      ]
    }
  ]
}