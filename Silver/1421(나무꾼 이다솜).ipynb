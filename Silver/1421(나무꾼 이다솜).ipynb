{
  "nbformat": 4,
  "nbformat_minor": 0,
  "metadata": {
    "colab": {
      "provenance": [],
      "authorship_tag": "ABX9TyOvoNR3WjLeU+/XG9PTGvUU",
      "include_colab_link": true
    },
    "kernelspec": {
      "name": "python3",
      "display_name": "Python 3"
    },
    "language_info": {
      "name": "python"
    }
  },
  "cells": [
    {
      "cell_type": "markdown",
      "metadata": {
        "id": "view-in-github",
        "colab_type": "text"
      },
      "source": [
        "<a href=\"https://colab.research.google.com/github/Dabin-Park/BaekJoon/blob/main/Silver/1421(%EB%82%98%EB%AC%B4%EA%BE%BC%20%EC%9D%B4%EB%8B%A4%EC%86%9C).ipynb\" target=\"_parent\"><img src=\"https://colab.research.google.com/assets/colab-badge.svg\" alt=\"Open In Colab\"/></a>"
      ]
    },
    {
      "cell_type": "code",
      "source": [
        "def sol():\n",
        "    N,C,W = map(int,input().split())\n",
        "    Tree = [int(input()) for _ in range(N)]\n",
        "    Money = []\n",
        "    for i in range(1,max(Tree)+1):\n",
        "        money = 0\n",
        "        for tree in Tree:\n",
        "            if tree == i:\n",
        "                money += W*tree\n",
        "            elif tree > i:\n",
        "                m = (W*i-C)*(tree//i)\n",
        "                if tree%i == 0:\n",
        "                    m += C\n",
        "                money += max(m,0)\n",
        "        Money.append(money)\n",
        "    return max(Money)\n",
        "\n",
        "print(sol())"
      ],
      "metadata": {
        "colab": {
          "base_uri": "https://localhost:8080/"
        },
        "id": "e30J77TxSoAj",
        "outputId": "3be5fe05-0e52-4799-a55d-6631b8bf6b33"
      },
      "execution_count": 1,
      "outputs": [
        {
          "output_type": "stream",
          "name": "stdout",
          "text": [
            "3 1 10\n",
            "26\n",
            "103\n",
            "59\n",
            "1770\n"
          ]
        }
      ]
    }
  ]
}