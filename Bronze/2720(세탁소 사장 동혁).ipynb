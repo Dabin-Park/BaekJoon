{
  "nbformat": 4,
  "nbformat_minor": 0,
  "metadata": {
    "colab": {
      "provenance": [],
      "authorship_tag": "ABX9TyOnqnkWdZDiIqUAEJCWDoWh",
      "include_colab_link": true
    },
    "kernelspec": {
      "name": "python3",
      "display_name": "Python 3"
    },
    "language_info": {
      "name": "python"
    }
  },
  "cells": [
    {
      "cell_type": "markdown",
      "metadata": {
        "id": "view-in-github",
        "colab_type": "text"
      },
      "source": [
        "<a href=\"https://colab.research.google.com/github/Dabin-Park/BaekJoon/blob/main/Bronze/2720(%EC%84%B8%ED%83%81%EC%86%8C%20%EC%82%AC%EC%9E%A5%20%EB%8F%99%ED%98%81).ipynb\" target=\"_parent\"><img src=\"https://colab.research.google.com/assets/colab-badge.svg\" alt=\"Open In Colab\"/></a>"
      ]
    },
    {
      "cell_type": "code",
      "execution_count": 2,
      "metadata": {
        "colab": {
          "base_uri": "https://localhost:8080/"
        },
        "id": "YHFUYXj24MLS",
        "outputId": "1c0e1756-6b9e-48b0-f1b1-8f1e0264e77d"
      },
      "outputs": [
        {
          "output_type": "stream",
          "name": "stdout",
          "text": [
            "3\n",
            "124\n",
            "4 2 0 4\n",
            "25\n",
            "1 0 0 0\n",
            "194\n",
            "7 1 1 4\n"
          ]
        }
      ],
      "source": [
        "def sol(T):\n",
        "    for _ in range(T):\n",
        "        C = int(input())\n",
        "        for i in [25, 10, 5]:\n",
        "            print(C//i, end = \" \")\n",
        "            C %= i\n",
        "        print(C)\n",
        "\n",
        "sol(int(input()))  "
      ]
    }
  ]
}