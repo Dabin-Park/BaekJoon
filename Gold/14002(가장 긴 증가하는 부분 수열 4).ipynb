{
  "nbformat": 4,
  "nbformat_minor": 0,
  "metadata": {
    "colab": {
      "provenance": [],
      "authorship_tag": "ABX9TyMHwC8k6b+Nxgcvs2mK+aQ8",
      "include_colab_link": true
    },
    "kernelspec": {
      "name": "python3",
      "display_name": "Python 3"
    },
    "language_info": {
      "name": "python"
    }
  },
  "cells": [
    {
      "cell_type": "markdown",
      "metadata": {
        "id": "view-in-github",
        "colab_type": "text"
      },
      "source": [
        "<a href=\"https://colab.research.google.com/github/Dabin-Park/BaekJoon/blob/main/Gold/14002(%EA%B0%80%EC%9E%A5%20%EA%B8%B4%20%EC%A6%9D%EA%B0%80%ED%95%98%EB%8A%94%20%EB%B6%80%EB%B6%84%20%EC%88%98%EC%97%B4%204).ipynb\" target=\"_parent\"><img src=\"https://colab.research.google.com/assets/colab-badge.svg\" alt=\"Open In Colab\"/></a>"
      ]
    },
    {
      "cell_type": "markdown",
      "source": [
        "* 참고블로그 \n",
        "    * https://velog.io/@wlrhkd49/%EB%B0%B1%EC%A4%80-14002-%EA%B0%80%EC%9E%A5-%EA%B8%B4-%EC%A6%9D%EA%B0%80%ED%95%98%EB%8A%94-%EB%B6%80%EB%B6%84-%EC%88%98%EC%97%B4-4-Python"
      ],
      "metadata": {
        "id": "KApPW51P_m7t"
      }
    },
    {
      "cell_type": "code",
      "source": [
        "def sol(N):\n",
        "    Sequnce = list(map(int,input().split()))\n",
        "    dp = [1]*N\n",
        "    for i in range(N):\n",
        "        for j in range(i):\n",
        "            if Sequnce[i] > Sequnce[j]:\n",
        "                dp[i] = max(dp[i],dp[j]+1)\n",
        "    max_ = max(dp)\n",
        "    print(max_)\n",
        "    result = []\n",
        "    for i in range(N-1,-1,-1):\n",
        "        if dp[i] == max_:\n",
        "            result.append(Sequnce[i])\n",
        "            max_ -= 1\n",
        "    print(*result[::-1])\n",
        "           \n",
        "sol(int(input()))"
      ],
      "metadata": {
        "colab": {
          "base_uri": "https://localhost:8080/"
        },
        "id": "XS0VHQmBaQda",
        "outputId": "b0aeeb08-7cc3-42c5-e359-644aa69bfb80"
      },
      "execution_count": 1,
      "outputs": [
        {
          "output_type": "stream",
          "name": "stdout",
          "text": [
            "6\n",
            "10 20 10 30 20 50\n",
            "4\n",
            "10 20 30 50\n"
          ]
        }
      ]
    },
    {
      "cell_type": "markdown",
      "source": [
        "* 참고블로그\n",
        "    * https://velog.io/@veonico/%EB%B0%B1%EC%A4%80-14003.-%EA%B0%80%EC%9E%A5-%EA%B8%B4-%EC%A6%9D%EA%B0%80%ED%95%98%EB%8A%94-%EB%B6%80%EB%B6%84%EC%88%98%EC%97%B4-5-python%ED%8C%8C%EC%9D%B4%EC%8D%AC"
      ],
      "metadata": {
        "id": "ISXEybh9FGOx"
      }
    },
    {
      "cell_type": "code",
      "source": [
        "def bi(L,s):\n",
        "    l,r = -1,len(L)\n",
        "    while l+1 < r:\n",
        "        m = (l+r)//2\n",
        "        if L[m] >= s:\n",
        "            r = m\n",
        "        else:\n",
        "            l = m\n",
        "    return r\n",
        "\n",
        "def sol():\n",
        "    input()\n",
        "    List = [-float(\"inf\")]\n",
        "    List_total = [(-float(\"inf\"),0)]\n",
        "    Sequnce = list(map(int,input().split()))\n",
        "    for s in Sequnce:\n",
        "        if s > List[-1]:\n",
        "            List_total.append((s,len(List)))\n",
        "            List.append(s)\n",
        "        else:\n",
        "            idx = bi(List,s)\n",
        "            List[idx] = s\n",
        "            List_total.append((s,idx))\n",
        "    List_len,result = len(List)-1,[]\n",
        "    while List_total and List_len:\n",
        "        s,idx = List_total.pop()\n",
        "        if idx == List_len:\n",
        "            result.append(s)\n",
        "            List_len -= 1\n",
        "    print(len(result))\n",
        "    print(*result[::-1])\n",
        "    \n",
        "sol()"
      ],
      "metadata": {
        "colab": {
          "base_uri": "https://localhost:8080/"
        },
        "id": "HynuMw4lFNhG",
        "outputId": "532d057c-3ce3-4dec-b65b-61e17d5650a8"
      },
      "execution_count": 2,
      "outputs": [
        {
          "output_type": "stream",
          "name": "stdout",
          "text": [
            "6\n",
            "10 20 10 30 20 50\n",
            "4\n",
            "10 20 30 50\n"
          ]
        }
      ]
    }
  ]
}