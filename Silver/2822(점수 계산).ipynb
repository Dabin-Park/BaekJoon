{
  "nbformat": 4,
  "nbformat_minor": 0,
  "metadata": {
    "colab": {
      "name": "2822(점수 계산).ipynb",
      "provenance": [],
      "authorship_tag": "ABX9TyMiOz13KDdO1a6eObljRL7f",
      "include_colab_link": true
    },
    "kernelspec": {
      "name": "python3",
      "display_name": "Python 3"
    },
    "language_info": {
      "name": "python"
    }
  },
  "cells": [
    {
      "cell_type": "markdown",
      "metadata": {
        "id": "view-in-github",
        "colab_type": "text"
      },
      "source": [
        "<a href=\"https://colab.research.google.com/github/Dabin-Park/BaekJoon/blob/main/Silver/2822(%EC%A0%90%EC%88%98%20%EA%B3%84%EC%82%B0).ipynb\" target=\"_parent\"><img src=\"https://colab.research.google.com/assets/colab-badge.svg\" alt=\"Open In Colab\"/></a>"
      ]
    },
    {
      "cell_type": "code",
      "source": [
        "Score = sorted([[int(input()),str(i+1)] for i in range(8)])\n",
        "\n",
        "num, problem = 0, []\n",
        "for i in range(3,8):\n",
        "    num += Score[i][0]\n",
        "    problem.append(Score[i][1])\n",
        "\n",
        "problem.sort()\n",
        "\n",
        "print(num)\n",
        "print(\" \".join(problem))"
      ],
      "metadata": {
        "colab": {
          "base_uri": "https://localhost:8080/"
        },
        "id": "whXH70HTj9iH",
        "outputId": "c518c583-bec1-49a9-8b83-bde31227f2d9"
      },
      "execution_count": 3,
      "outputs": [
        {
          "output_type": "stream",
          "name": "stdout",
          "text": [
            "20\n",
            "30\n",
            "50\n",
            "48\n",
            "33\n",
            "66\n",
            "0\n",
            "64\n",
            "261\n",
            "3 4 5 6 8\n"
          ]
        }
      ]
    }
  ]
}