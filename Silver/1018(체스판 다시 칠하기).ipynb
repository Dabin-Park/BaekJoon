{
  "nbformat": 4,
  "nbformat_minor": 0,
  "metadata": {
    "colab": {
      "name": "1018(체스판 다시 칠하기).ipynb",
      "provenance": [],
      "authorship_tag": "ABX9TyMoUxo3+EuPFmmNrpQUaYJT",
      "include_colab_link": true
    },
    "kernelspec": {
      "name": "python3",
      "display_name": "Python 3"
    },
    "language_info": {
      "name": "python"
    }
  },
  "cells": [
    {
      "cell_type": "markdown",
      "metadata": {
        "id": "view-in-github",
        "colab_type": "text"
      },
      "source": [
        "<a href=\"https://colab.research.google.com/github/Dabin-Park/BaekJoon/blob/main/Silver/1018(%EC%B2%B4%EC%8A%A4%ED%8C%90%20%EB%8B%A4%EC%8B%9C%20%EC%B9%A0%ED%95%98%EA%B8%B0).ipynb\" target=\"_parent\"><img src=\"https://colab.research.google.com/assets/colab-badge.svg\" alt=\"Open In Colab\"/></a>"
      ]
    },
    {
      "cell_type": "code",
      "source": [
        "N,M = map(int,input().split())\n",
        "Chessboard = [list(input()) for _ in range(N)]\n",
        "\n",
        "total = []\n",
        "for i in range(N-7):\n",
        "    for j in range(M-7):\n",
        "        num = 0\n",
        "        for k in range(i,i+8):\n",
        "            for l in range(j,j+8):\n",
        "                if (k-i)%2 == (l-j)%2:\n",
        "                    if Chessboard[k][l] == \"B\":\n",
        "                        num += 1\n",
        "                else:\n",
        "                    if Chessboard[k][l] == 'W':\n",
        "                        num += 1\n",
        "        total += [num,64-num]\n",
        "\n",
        "print(min(total))"
      ],
      "metadata": {
        "id": "CGdbDyPnpFQk",
        "outputId": "1fa026ab-5294-4f56-c1b4-cb8ede91189e",
        "colab": {
          "base_uri": "https://localhost:8080/"
        }
      },
      "execution_count": 1,
      "outputs": [
        {
          "output_type": "stream",
          "name": "stdout",
          "text": [
            "11 12\n",
            "BWWBWWBWWBWW\n",
            "BWWBWBBWWBWW\n",
            "WBWWBWBBWWBW\n",
            "BWWBWBBWWBWW\n",
            "WBWWBWBBWWBW\n",
            "BWWBWBBWWBWW\n",
            "WBWWBWBBWWBW\n",
            "BWWBWBWWWBWW\n",
            "WBWWBWBBWWBW\n",
            "BWWBWBBWWBWW\n",
            "WBWWBWBBWWBW\n",
            "15\n"
          ]
        }
      ]
    }
  ]
}