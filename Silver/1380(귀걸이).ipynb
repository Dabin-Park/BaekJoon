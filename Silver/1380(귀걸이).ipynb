{
  "nbformat": 4,
  "nbformat_minor": 0,
  "metadata": {
    "colab": {
      "provenance": [],
      "authorship_tag": "ABX9TyPRJsuibuSbdIJtfXDqr/gd",
      "include_colab_link": true
    },
    "kernelspec": {
      "name": "python3",
      "display_name": "Python 3"
    },
    "language_info": {
      "name": "python"
    }
  },
  "cells": [
    {
      "cell_type": "markdown",
      "metadata": {
        "id": "view-in-github",
        "colab_type": "text"
      },
      "source": [
        "<a href=\"https://colab.research.google.com/github/Dabin-Park/BaekJoon/blob/main/Silver/1380(%EA%B7%80%EA%B1%B8%EC%9D%B4).ipynb\" target=\"_parent\"><img src=\"https://colab.research.google.com/assets/colab-badge.svg\" alt=\"Open In Colab\"/></a>"
      ]
    },
    {
      "cell_type": "code",
      "execution_count": 1,
      "metadata": {
        "colab": {
          "base_uri": "https://localhost:8080/"
        },
        "id": "V2C1sM_6QvYk",
        "outputId": "e67b254b-b1d6-4f00-8fc3-785388f4d5f5"
      },
      "outputs": [
        {
          "name": "stdout",
          "output_type": "stream",
          "text": [
            "3\n",
            "Betty Boolean\n",
            "Alison Addaway\n",
            "Carrie Carryon\n",
            "1 B\n",
            "2 A\n",
            "3 B\n",
            "3 A\n",
            "1 A\n",
            "1 Alison Addaway\n",
            "2\n",
            "Helen Clark\n",
            "Margaret Thatcher\n",
            "1 B\n",
            "2 B\n",
            "2 A\n",
            "2 Helen Clark\n",
            "0\n"
          ]
        }
      ],
      "source": [
        "def sol(i):\n",
        "    while 1:\n",
        "        n = int(input())\n",
        "        if n:\n",
        "            Student = [input() for _ in range(n)]\n",
        "            num = [0]*n\n",
        "            for _ in range(2*n-1):\n",
        "                num[int(input().split()[0])-1] += 1\n",
        "            print(i,Student[num.index(1)])\n",
        "            i += 1\n",
        "        else:\n",
        "            return\n",
        "sol(1)"
      ]
    }
  ]
}