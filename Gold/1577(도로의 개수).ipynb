{
  "nbformat": 4,
  "nbformat_minor": 0,
  "metadata": {
    "colab": {
      "provenance": [],
      "authorship_tag": "ABX9TyOIw86vaMQdHj+yYqUEZvRB",
      "include_colab_link": true
    },
    "kernelspec": {
      "name": "python3",
      "display_name": "Python 3"
    },
    "language_info": {
      "name": "python"
    }
  },
  "cells": [
    {
      "cell_type": "markdown",
      "metadata": {
        "id": "view-in-github",
        "colab_type": "text"
      },
      "source": [
        "<a href=\"https://colab.research.google.com/github/Dabin-Park/BaekJoon/blob/main/Gold/1577(%EB%8F%84%EB%A1%9C%EC%9D%98%20%EA%B0%9C%EC%88%98).ipynb\" target=\"_parent\"><img src=\"https://colab.research.google.com/assets/colab-badge.svg\" alt=\"Open In Colab\"/></a>"
      ]
    },
    {
      "cell_type": "code",
      "source": [
        "def sol():\n",
        "    N,M = map(int,input().split())\n",
        "    dp = [[[-1,-1] for _ in range(M+2)]]+[[[-1,-1]]+[[0,0] for _ in range(M+1)] for _ in range(N+1)]\n",
        "    for _ in range(int(input())):\n",
        "        a,b,c,d = map(int,input().split())\n",
        "        if a != c:\n",
        "            dp[max(a,c)+1][b+1][1] -= 1\n",
        "        else:\n",
        "            dp[a+1][max(b,d)+1][0] -= 1\n",
        "    dp[1][1][0] = 1\n",
        "    for i in range(1,N+2):\n",
        "        for j in range(1,M+2):\n",
        "            if dp[i][j][0] >= 0:\n",
        "                dp[i][j][0] += max(0,dp[i][j-1][0])+max(0,dp[i][j-1][1])    \n",
        "            if dp[i][j][1] >= 0:\n",
        "                dp[i][j][1] += max(0,dp[i-1][j][0])+max(0,dp[i-1][j][1])\n",
        "    return max(0,dp[-1][-1][0])+max(0,dp[-1][-1][1])               \n",
        "                \n",
        "print(sol())"
      ],
      "metadata": {
        "colab": {
          "base_uri": "https://localhost:8080/"
        },
        "id": "hP4gfGRVQYlr",
        "outputId": "0102b12a-6bb4-4f57-ebc9-44d8b048cd98"
      },
      "execution_count": 1,
      "outputs": [
        {
          "output_type": "stream",
          "name": "stdout",
          "text": [
            "6 6 \n",
            "2\n",
            "0 0 0 1\n",
            "6 6 5 6 \n",
            "252\n"
          ]
        }
      ]
    }
  ]
}