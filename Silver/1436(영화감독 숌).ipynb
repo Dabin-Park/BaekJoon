{
  "nbformat": 4,
  "nbformat_minor": 0,
  "metadata": {
    "colab": {
      "name": "1436(영화감독 숌).ipynb",
      "provenance": [],
      "authorship_tag": "ABX9TyMjQzB0FktIu0n0XfmAUPKP",
      "include_colab_link": true
    },
    "kernelspec": {
      "name": "python3",
      "display_name": "Python 3"
    },
    "language_info": {
      "name": "python"
    }
  },
  "cells": [
    {
      "cell_type": "markdown",
      "metadata": {
        "id": "view-in-github",
        "colab_type": "text"
      },
      "source": [
        "<a href=\"https://colab.research.google.com/github/Dabin-Park/BaekJoon/blob/main/Silver/1436(%EC%98%81%ED%99%94%EA%B0%90%EB%8F%85%20%EC%88%8C).ipynb\" target=\"_parent\"><img src=\"https://colab.research.google.com/assets/colab-badge.svg\" alt=\"Open In Colab\"/></a>"
      ]
    },
    {
      "cell_type": "code",
      "source": [
        "N = int(input())\n",
        "i = 666\n",
        "\n",
        "if N > 1:\n",
        "    num,i = 1,1666\n",
        "    while True:\n",
        "        if '666' in str(i):\n",
        "            if num == N-1:\n",
        "                break\n",
        "            num += 1\n",
        "        i += 1\n",
        "print(i)"
      ],
      "metadata": {
        "colab": {
          "base_uri": "https://localhost:8080/"
        },
        "id": "4NDvOBDhbpRD",
        "outputId": "3adc2810-390f-4c68-8a2f-8c77185589ed"
      },
      "execution_count": 1,
      "outputs": [
        {
          "output_type": "stream",
          "name": "stdout",
          "text": [
            "500\n",
            "166699\n"
          ]
        }
      ]
    }
  ]
}