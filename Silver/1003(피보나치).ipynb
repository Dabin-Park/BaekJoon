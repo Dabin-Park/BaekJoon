{
  "nbformat": 4,
  "nbformat_minor": 0,
  "metadata": {
    "colab": {
      "name": "1003(피보나치).ipynb",
      "provenance": [],
      "authorship_tag": "ABX9TyOOC9++BvP9h+DFhCgYgXTz",
      "include_colab_link": true
    },
    "kernelspec": {
      "name": "python3",
      "display_name": "Python 3"
    },
    "language_info": {
      "name": "python"
    }
  },
  "cells": [
    {
      "cell_type": "markdown",
      "metadata": {
        "id": "view-in-github",
        "colab_type": "text"
      },
      "source": [
        "<a href=\"https://colab.research.google.com/github/Dabin-Park/BaekJoon/blob/main/Silver/1003(%ED%94%BC%EB%B3%B4%EB%82%98%EC%B9%98).ipynb\" target=\"_parent\"><img src=\"https://colab.research.google.com/assets/colab-badge.svg\" alt=\"Open In Colab\"/></a>"
      ]
    },
    {
      "cell_type": "markdown",
      "source": [
        "피보나치 수열 40개 다 저장 해서 뽑기\n"
      ],
      "metadata": {
        "id": "quX5cfo8rXpb"
      }
    },
    {
      "cell_type": "code",
      "execution_count": 1,
      "metadata": {
        "colab": {
          "base_uri": "https://localhost:8080/"
        },
        "id": "dT6CvtQPNnKQ",
        "outputId": "c8dc328e-e894-44e7-f324-62ccf812dfc2"
      },
      "outputs": [
        {
          "output_type": "stream",
          "name": "stdout",
          "text": [
            "2\n",
            "6\n",
            "5 8\n",
            "22\n",
            "10946 17711\n"
          ]
        }
      ],
      "source": [
        "T = int(input())\n",
        "\n",
        "x = [1,0,1]\n",
        "a = 0\n",
        "b = 1\n",
        "for _ in range(40):\n",
        "    a += b\n",
        "    b += a\n",
        "    x.extend([a,b])\n",
        "    \n",
        "    \n",
        "for _ in range(T):\n",
        "    N = int(input())\n",
        "    \n",
        "    print(f\"{x[N]} {x[N+1]}\")"
      ]
    },
    {
      "cell_type": "markdown",
      "source": [
        "피보나치 수열을 input한 값(N) 중에 가장 큰수+1개 만큼 피보나치 수열 저장 해서 뽑기"
      ],
      "metadata": {
        "id": "x4Rv8s--rXdv"
      }
    },
    {
      "cell_type": "code",
      "source": [
        "T = int(input())\n",
        "x = [1]\n",
        "y = []\n",
        "\n",
        "for _ in range(T):\n",
        "    N = int(input())\n",
        "    y.append(N)\n",
        "    \n",
        "a = 0\n",
        "b = 1 \n",
        "\n",
        "if max(y) <= 2:\n",
        "    x.extend([0,1,1])\n",
        "else :\n",
        "    for _ in range(int(max(y)/2)+1):\n",
        "        x.extend([a,b])\n",
        "        a += b\n",
        "        b += a\n",
        "\n",
        "for i in y:\n",
        "    print(f\"{x[i]} {x[i+1]}\")\n",
        "    "
      ],
      "metadata": {
        "colab": {
          "base_uri": "https://localhost:8080/"
        },
        "id": "z0893mCJrNf9",
        "outputId": "1a54d410-87b3-494b-e49f-8bcd0c2d8e49"
      },
      "execution_count": 3,
      "outputs": [
        {
          "output_type": "stream",
          "name": "stdout",
          "text": [
            "2\n",
            "6\n",
            "22\n",
            "5 8\n",
            "10946 17711\n"
          ]
        }
      ]
    }
  ]
}