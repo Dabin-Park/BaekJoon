{
  "nbformat": 4,
  "nbformat_minor": 0,
  "metadata": {
    "colab": {
      "name": "Silver/10994(별 찍기 - 19).ipynb",
      "provenance": [],
      "authorship_tag": "ABX9TyOV9pvi/4klp1D3CTd91TIa",
      "include_colab_link": true
    },
    "kernelspec": {
      "name": "python3",
      "display_name": "Python 3"
    },
    "language_info": {
      "name": "python"
    }
  },
  "cells": [
    {
      "cell_type": "markdown",
      "metadata": {
        "id": "view-in-github",
        "colab_type": "text"
      },
      "source": [
        "<a href=\"https://colab.research.google.com/github/Dabin-Park/BaekJoon/blob/main/Gold/2447(%EB%B3%84%20%EC%B0%8D%EA%B8%B0%20-%2010).ipynb\" target=\"_parent\"><img src=\"https://colab.research.google.com/assets/colab-badge.svg\" alt=\"Open In Colab\"/></a>"
      ]
    },
    {
      "cell_type": "code",
      "source": [
        "def star(N):\n",
        "    if N == 1:\n",
        "        return\n",
        "    else:\n",
        "        x = N//3\n",
        "        for i in range(x,a-1,N):\n",
        "            for j in range(a//N):\n",
        "                for k in range(x):\n",
        "                    Star[i+k][N*j + x: N*j + (x)*2] = [\" \"]*(x)\n",
        "    star(x)\n",
        "    \n",
        "N = int(input())\n",
        "Star = [[\"*\"]*N for _ in range(N)]\n",
        "a = N\n",
        "star(N)\n",
        "\n",
        "for s in Star:\n",
        "    print(\"\".join(s))"
      ],
      "metadata": {
        "id": "CGdbDyPnpFQk",
        "outputId": "5c8d3688-01a5-439e-e595-b540bdc19bde",
        "colab": {
          "base_uri": "https://localhost:8080/"
        }
      },
      "execution_count": 1,
      "outputs": [
        {
          "output_type": "stream",
          "name": "stdout",
          "text": [
            "27\n",
            "***************************\n",
            "* ** ** ** ** ** ** ** ** *\n",
            "***************************\n",
            "***   ******   ******   ***\n",
            "* *   * ** *   * ** *   * *\n",
            "***   ******   ******   ***\n",
            "***************************\n",
            "* ** ** ** ** ** ** ** ** *\n",
            "***************************\n",
            "*********         *********\n",
            "* ** ** *         * ** ** *\n",
            "*********         *********\n",
            "***   ***         ***   ***\n",
            "* *   * *         * *   * *\n",
            "***   ***         ***   ***\n",
            "*********         *********\n",
            "* ** ** *         * ** ** *\n",
            "*********         *********\n",
            "***************************\n",
            "* ** ** ** ** ** ** ** ** *\n",
            "***************************\n",
            "***   ******   ******   ***\n",
            "* *   * ** *   * ** *   * *\n",
            "***   ******   ******   ***\n",
            "***************************\n",
            "* ** ** ** ** ** ** ** ** *\n",
            "***************************\n"
          ]
        }
      ]
    }
  ]
}