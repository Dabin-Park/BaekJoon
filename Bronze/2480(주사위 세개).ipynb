{
  "nbformat": 4,
  "nbformat_minor": 0,
  "metadata": {
    "colab": {
      "name": "2480(주사위 세개).ipynb",
      "provenance": [],
      "authorship_tag": "ABX9TyNvPZ4PgDmHe9ytoN+DsMFG",
      "include_colab_link": true
    },
    "kernelspec": {
      "name": "python3",
      "display_name": "Python 3"
    },
    "language_info": {
      "name": "python"
    }
  },
  "cells": [
    {
      "cell_type": "markdown",
      "metadata": {
        "id": "view-in-github",
        "colab_type": "text"
      },
      "source": [
        "<a href=\"https://colab.research.google.com/github/Dabin-Park/BaekJoon/blob/main/Bronze/2480(%EC%A3%BC%EC%82%AC%EC%9C%84%20%EC%84%B8%EA%B0%9C).ipynb\" target=\"_parent\"><img src=\"https://colab.research.google.com/assets/colab-badge.svg\" alt=\"Open In Colab\"/></a>"
      ]
    },
    {
      "cell_type": "code",
      "source": [
        "Dices = list(map(int,input().split()))\n",
        "Set_of_Dices = set(Dices)\n",
        "\n",
        "n = len(Set_of_Dices)\n",
        "\n",
        "if n == 1:\n",
        "    print(Dices[0]*1000 + 10000)\n",
        "elif n == 2:\n",
        "    a = Dices[0]\n",
        "    if a in Dices[1:]:\n",
        "        print(1000 + a*100)\n",
        "    else:\n",
        "        print(1000+ 100*Dices[1])\n",
        "else:\n",
        "    print(max(Dices)*100)"
      ],
      "metadata": {
        "id": "xk6usRE-86iG",
        "colab": {
          "base_uri": "https://localhost:8080/"
        },
        "outputId": "49ce834f-9d22-48e8-f123-6fce152657cc"
      },
      "execution_count": 1,
      "outputs": [
        {
          "output_type": "stream",
          "name": "stdout",
          "text": [
            "2 2 2\n",
            "12000\n"
          ]
        }
      ]
    }
  ]
}