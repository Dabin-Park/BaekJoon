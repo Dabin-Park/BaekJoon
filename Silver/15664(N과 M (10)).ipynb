{
  "nbformat": 4,
  "nbformat_minor": 0,
  "metadata": {
    "colab": {
      "name": "15664(N과 M (10)).ipynb",
      "provenance": [],
      "collapsed_sections": [],
      "authorship_tag": "ABX9TyNhOjNienbPP8V5HibjvMnU",
      "include_colab_link": true
    },
    "kernelspec": {
      "name": "python3",
      "display_name": "Python 3"
    },
    "language_info": {
      "name": "python"
    }
  },
  "cells": [
    {
      "cell_type": "markdown",
      "metadata": {
        "id": "view-in-github",
        "colab_type": "text"
      },
      "source": [
        "<a href=\"https://colab.research.google.com/github/Dabin-Park/BaekJoon/blob/main/Silver/15664(N%EA%B3%BC%20M%20(10)).ipynb\" target=\"_parent\"><img src=\"https://colab.research.google.com/assets/colab-badge.svg\" alt=\"Open In Colab\"/></a>"
      ]
    },
    {
      "cell_type": "code",
      "source": [
        "from itertools import combinations\n",
        "\n",
        "_,M = map(int,input().split())\n",
        "Sequnce = sorted(list(map(int,input().split())))\n",
        "\n",
        "Sequnce_M = list(set(combinations(Sequnce,M)))\n",
        "\n",
        "for i in range(M-1,-1,-1):\n",
        "    Sequnce_M.sort(key = lambda x : x[i])\n",
        "\n",
        "for sequnce in Sequnce_M:\n",
        "    for s in sequnce:\n",
        "        print(s,end = \" \") \n",
        "    print()"
      ],
      "metadata": {
        "id": "ZFrLikbd4n2z",
        "outputId": "d896c4f1-d258-4110-c2a7-05d2c376e2dd",
        "colab": {
          "base_uri": "https://localhost:8080/"
        }
      },
      "execution_count": 5,
      "outputs": [
        {
          "output_type": "stream",
          "name": "stdout",
          "text": [
            "4 2\n",
            "9 7 9 1\n",
            "1 7 \n",
            "1 9 \n",
            "7 9 \n",
            "9 9 \n"
          ]
        }
      ]
    }
  ]
}