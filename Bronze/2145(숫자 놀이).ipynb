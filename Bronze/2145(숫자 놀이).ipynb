{
  "nbformat": 4,
  "nbformat_minor": 0,
  "metadata": {
    "colab": {
      "provenance": [],
      "authorship_tag": "ABX9TyO5tuBgU8LVFvOuLGvLLXZZ",
      "include_colab_link": true
    },
    "kernelspec": {
      "name": "python3",
      "display_name": "Python 3"
    },
    "language_info": {
      "name": "python"
    }
  },
  "cells": [
    {
      "cell_type": "markdown",
      "metadata": {
        "id": "view-in-github",
        "colab_type": "text"
      },
      "source": [
        "<a href=\"https://colab.research.google.com/github/Dabin-Park/BaekJoon/blob/main/Bronze/2145(%EC%88%AB%EC%9E%90%20%EB%86%80%EC%9D%B4).ipynb\" target=\"_parent\"><img src=\"https://colab.research.google.com/assets/colab-badge.svg\" alt=\"Open In Colab\"/></a>"
      ]
    },
    {
      "cell_type": "code",
      "source": [
        "def sol():\n",
        "    while 1:\n",
        "        N = list(map(int,input()))\n",
        "        if N != [0]:\n",
        "            while len(N) > 1:\n",
        "                N = list(map(int,str(sum(N))))\n",
        "            print(N[0])\n",
        "        else:\n",
        "            return\n",
        "\n",
        "sol()"
      ],
      "metadata": {
        "colab": {
          "base_uri": "https://localhost:8080/"
        },
        "id": "hP4gfGRVQYlr",
        "outputId": "2ebf0c51-3c4f-48fd-af94-700d8bf028d6"
      },
      "execution_count": 1,
      "outputs": [
        {
          "name": "stdout",
          "output_type": "stream",
          "text": [
            "673\n",
            "7\n",
            "51\n",
            "6\n",
            "1000\n",
            "1\n",
            "99\n",
            "9\n",
            "0\n"
          ]
        }
      ]
    }
  ]
}