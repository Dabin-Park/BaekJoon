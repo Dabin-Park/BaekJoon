{
  "cells": [
    {
      "cell_type": "markdown",
      "metadata": {
        "id": "view-in-github",
        "colab_type": "text"
      },
      "source": [
        "<a href=\"https://colab.research.google.com/github/Dabin-Park/BaekJoon/blob/main/Silver/1543(%EB%AC%B8%EC%84%9C%20%EA%B2%80%EC%83%89).ipynb\" target=\"_parent\"><img src=\"https://colab.research.google.com/assets/colab-badge.svg\" alt=\"Open In Colab\"/></a>"
      ]
    },
    {
      "cell_type": "code",
      "source": [
        "W = input()\n",
        "S = input()        \n",
        "N,M = len(W),len(S)\n",
        "start = 0 \n",
        "end = M-1\n",
        "num = 0\n",
        "while end <= N-1:\n",
        "    t = 1\n",
        "    if W[start] == S[0] and W[end] == S[-1]:\n",
        "        for i in range(start+1,end):\n",
        "            if W[i] != S[i-start]:\n",
        "                t = 0\n",
        "                start += 1\n",
        "                end += 1\n",
        "                break \n",
        "        if t:\n",
        "            num += 1\n",
        "            start = end+1\n",
        "            end += M\n",
        "            t = 0\n",
        "    if t:\n",
        "        start += 1\n",
        "        end += 1\n",
        "        \n",
        "print(num)"
      ],
      "metadata": {
        "id": "HBwwya3y6Eyo",
        "outputId": "5f46c84c-1497-41fc-d0b5-a8a83fbc0411",
        "colab": {
          "base_uri": "https://localhost:8080/"
        }
      },
      "execution_count": 1,
      "outputs": [
        {
          "output_type": "stream",
          "name": "stdout",
          "text": [
            "ababababa\n",
            "ababa\n",
            "1\n"
          ]
        }
      ]
    }
  ],
  "metadata": {
    "colab": {
      "name": "1543(문서 검색).ipynb",
      "provenance": [],
      "collapsed_sections": [],
      "authorship_tag": "ABX9TyOyHKVcAkaAL/hKmN43DN6e",
      "include_colab_link": true
    },
    "kernelspec": {
      "display_name": "Python 3",
      "name": "python3"
    },
    "language_info": {
      "name": "python"
    }
  },
  "nbformat": 4,
  "nbformat_minor": 0
}