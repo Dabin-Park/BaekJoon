{
  "cells": [
    {
      "cell_type": "markdown",
      "metadata": {
        "id": "view-in-github",
        "colab_type": "text"
      },
      "source": [
        "<a href=\"https://colab.research.google.com/github/Dabin-Park/BaekJoon/blob/main/Silver/25178(%EB%91%90%EB%A3%A8%EB%AC%B4%EB%A6%AC%20%ED%9C%B4%EC%A7%80).ipynb\" target=\"_parent\"><img src=\"https://colab.research.google.com/assets/colab-badge.svg\" alt=\"Open In Colab\"/></a>"
      ]
    },
    {
      "cell_type": "code",
      "source": [
        "N = int(input())\n",
        "A = input()\n",
        "B = input()\n",
        "moem = 'aeiou'\n",
        "n = 1\n",
        "\n",
        "if A[0] == B[0] and A[N-1] == B[N-1]:\n",
        "    if A.count('a') != B.count('a') or A.count('e') != B.count('e') or A.count('i') != B.count('i') or A.count('o') != B.count('o') or A.count('u') != B.count('u'):\n",
        "        n = 0\n",
        "    if n:\n",
        "        a,b = '', ''   \n",
        "        for i in range(1,N-1):\n",
        "            if B[i] not in moem:\n",
        "                b += B[i]\n",
        "            if A[i] not in moem:\n",
        "                a += A[i]\n",
        "        if a != b:\n",
        "            n = 0\n",
        "else:\n",
        "    n = 0\n",
        "\n",
        "if n:\n",
        "    print(\"YES\")\n",
        "else:\n",
        "    print('NO') "
      ],
      "metadata": {
        "id": "HBwwya3y6Eyo",
        "outputId": "2b326374-9f29-42f3-fa31-af13eea1f299",
        "colab": {
          "base_uri": "https://localhost:8080/"
        }
      },
      "execution_count": 1,
      "outputs": [
        {
          "output_type": "stream",
          "name": "stdout",
          "text": [
            "8\n",
            "durumari\n",
            "dumurari\n",
            "NO\n"
          ]
        }
      ]
    },
    {
      "cell_type": "code",
      "source": [
        "def cnt_moem(a,A):\n",
        "    if a == 'a':\n",
        "        A[0] += 1\n",
        "    if a == 'e':\n",
        "        A[1] += 1\n",
        "    if a == 'i':\n",
        "        A[2] += 1\n",
        "    if a == 'o':\n",
        "        A[3] += 1\n",
        "    else:\n",
        "        A[4] += 1\n",
        "    return A\n",
        "        \n",
        "       \n",
        "N = int(input())\n",
        "A = input()\n",
        "B = input()\n",
        "moem = 'aeiou'\n",
        "n = 1\n",
        "cnt1 = [0 for _ in range(5)]\n",
        "cnt2 = [0 for _ in range(5)]\n",
        "\n",
        "if A[0] == B[0] and A[N-1] == B[N-1]:\n",
        "    a,b = '', ''   \n",
        "    for i in range(1,N-1):\n",
        "        if B[i] not in moem:\n",
        "            b += B[i]\n",
        "        else:\n",
        "            cnt2 = cnt_moem(B[i],cnt2)\n",
        "        if A[i] not in moem:\n",
        "            a += A[i]\n",
        "        else :\n",
        "            cnt1 = cnt_moem(A[i],cnt1)\n",
        "    if a != b:\n",
        "        n = 0 \n",
        "    for i in range(5):\n",
        "        if cnt1[i] != cnt2[i]:\n",
        "            n = 0\n",
        "            break\n",
        "else:\n",
        "    n = 0\n",
        "        \n",
        "if n:\n",
        "    print(\"YES\")\n",
        "else:\n",
        "    print('NO') "
      ],
      "metadata": {
        "colab": {
          "base_uri": "https://localhost:8080/"
        },
        "id": "x4t0jhHu0JqX",
        "outputId": "b1bb2538-e974-45cc-8cb2-2758c53cb25a"
      },
      "execution_count": 2,
      "outputs": [
        {
          "output_type": "stream",
          "name": "stdout",
          "text": [
            "8\n",
            "durumari\n",
            "dumurari\n",
            "NO\n"
          ]
        }
      ]
    }
  ],
  "metadata": {
    "colab": {
      "name": "25178(두루무리 휴지).ipynb",
      "provenance": [],
      "collapsed_sections": [],
      "authorship_tag": "ABX9TyPi4+7osSBIfHOCs4IbnMAu",
      "include_colab_link": true
    },
    "kernelspec": {
      "display_name": "Python 3",
      "name": "python3"
    },
    "language_info": {
      "name": "python"
    }
  },
  "nbformat": 4,
  "nbformat_minor": 0
}