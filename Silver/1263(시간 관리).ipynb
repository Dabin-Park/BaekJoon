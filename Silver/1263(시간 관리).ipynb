{
  "nbformat": 4,
  "nbformat_minor": 0,
  "metadata": {
    "colab": {
      "provenance": [],
      "authorship_tag": "ABX9TyN4mQJDfEL67IwdaLbd4iOy",
      "include_colab_link": true
    },
    "kernelspec": {
      "name": "python3",
      "display_name": "Python 3"
    },
    "language_info": {
      "name": "python"
    }
  },
  "cells": [
    {
      "cell_type": "markdown",
      "metadata": {
        "id": "view-in-github",
        "colab_type": "text"
      },
      "source": [
        "<a href=\"https://colab.research.google.com/github/Dabin-Park/BaekJoon/blob/main/Silver/1263(%EC%8B%9C%EA%B0%84%20%EA%B4%80%EB%A6%AC).ipynb\" target=\"_parent\"><img src=\"https://colab.research.google.com/assets/colab-badge.svg\" alt=\"Open In Colab\"/></a>"
      ]
    },
    {
      "cell_type": "code",
      "source": [
        "def sol(time):\n",
        "    Works = sorted([list(map(int,input().split())) for _ in range(int(input()))],key = lambda x: -x[1])\n",
        "    for t,e in Works:\n",
        "        time = min(time,e)-t\n",
        "        if time < 0:\n",
        "            return -1\n",
        "    return time\n",
        "            \n",
        "print(sol(1000000))"
      ],
      "metadata": {
        "colab": {
          "base_uri": "https://localhost:8080/"
        },
        "id": "Wf1zqg3P9ONw",
        "outputId": "aaf92352-e01b-4276-96ff-3e91f4432bb1"
      },
      "execution_count": 1,
      "outputs": [
        {
          "output_type": "stream",
          "name": "stdout",
          "text": [
            "4\n",
            "3 5\n",
            "8 14\n",
            "5 20\n",
            "1 16\n",
            "2\n"
          ]
        }
      ]
    }
  ]
}