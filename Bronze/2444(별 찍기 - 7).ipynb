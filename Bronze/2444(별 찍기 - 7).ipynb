{
  "nbformat": 4,
  "nbformat_minor": 0,
  "metadata": {
    "colab": {
      "provenance": [],
      "authorship_tag": "ABX9TyNKVFcqT7+zGRIzBdFbJVaH",
      "include_colab_link": true
    },
    "kernelspec": {
      "name": "python3",
      "display_name": "Python 3"
    },
    "language_info": {
      "name": "python"
    }
  },
  "cells": [
    {
      "cell_type": "markdown",
      "metadata": {
        "id": "view-in-github",
        "colab_type": "text"
      },
      "source": [
        "<a href=\"https://colab.research.google.com/github/Dabin-Park/BaekJoon/blob/main/Bronze/2444(%EB%B3%84%20%EC%B0%8D%EA%B8%B0%20-%207).ipynb\" target=\"_parent\"><img src=\"https://colab.research.google.com/assets/colab-badge.svg\" alt=\"Open In Colab\"/></a>"
      ]
    },
    {
      "cell_type": "code",
      "source": [
        "def sol(N):\n",
        "    if N > 1:\n",
        "        for i in range(1,N+1):\n",
        "            print(\" \"*(N-i),\"*\"*((2*i-1)%(2*N))+\" \", sep = \"\")\n",
        "        for i in range(N-1,1,-1):\n",
        "            print(\" \"*(N-i),\"*\"*((2*i-1)%(2*N))+\" \", sep = \"\")\n",
        "    print(\" \"*(N-1), \"*\", sep = \"\")\n",
        "\n",
        "sol(int(input()))"
      ],
      "metadata": {
        "colab": {
          "base_uri": "https://localhost:8080/"
        },
        "id": "BYNtq_Ywoefu",
        "outputId": "29d3f90d-5d0d-4e84-dc8b-8868b3cd649b"
      },
      "execution_count": 1,
      "outputs": [
        {
          "output_type": "stream",
          "name": "stdout",
          "text": [
            "5\n",
            "    * \n",
            "   *** \n",
            "  ***** \n",
            " ******* \n",
            "********* \n",
            " ******* \n",
            "  ***** \n",
            "   *** \n",
            "    *\n"
          ]
        }
      ]
    }
  ]
}