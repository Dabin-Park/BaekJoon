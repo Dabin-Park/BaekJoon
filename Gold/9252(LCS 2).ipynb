{
  "nbformat": 4,
  "nbformat_minor": 0,
  "metadata": {
    "colab": {
      "provenance": [],
      "collapsed_sections": [],
      "authorship_tag": "ABX9TyM0CirYrOEOqIcZMMWYPsyC",
      "include_colab_link": true
    },
    "kernelspec": {
      "name": "python3",
      "display_name": "Python 3"
    },
    "language_info": {
      "name": "python"
    }
  },
  "cells": [
    {
      "cell_type": "markdown",
      "metadata": {
        "id": "view-in-github",
        "colab_type": "text"
      },
      "source": [
        "<a href=\"https://colab.research.google.com/github/Dabin-Park/BaekJoon/blob/main/Gold/9252(LCS%202).ipynb\" target=\"_parent\"><img src=\"https://colab.research.google.com/assets/colab-badge.svg\" alt=\"Open In Colab\"/></a>"
      ]
    },
    {
      "cell_type": "code",
      "source": [
        "A,B = \" \"+input(), \" \"+input()\n",
        "\n",
        "len_A, len_B = len(A), len(B)\n",
        "\n",
        "LCS = [[0 for _ in range(len_A)] for _ in range(len_B)]\n",
        "\n",
        "for i in range(len_B):\n",
        "    for j in range(len_A):\n",
        "        if i and j:\n",
        "            if A[j] == B[i]:\n",
        "                LCS[i][j] = LCS[i-1][j-1] + 1\n",
        "            else:\n",
        "                LCS[i][j] = max(LCS[i-1][j],LCS[i][j-1])\n",
        "                \n",
        "print(LCS[-1][-1])\n",
        "\n",
        "if LCS[-1][-1]:               \n",
        "    sol = \"\"\n",
        "    i, j = len_B-1, len_A-1\n",
        "    while 1:\n",
        "        n = LCS[i][j]\n",
        "        if n:\n",
        "            if n == LCS[i-1][j]:\n",
        "                i -= 1\n",
        "            elif n == LCS[i][j-1]:\n",
        "                j -= 1\n",
        "            else:\n",
        "                sol += A[j]\n",
        "                i -= 1\n",
        "                j -= 1\n",
        "        else:\n",
        "            break\n",
        "        \n",
        "    print(sol[::-1])"
      ],
      "metadata": {
        "id": "ZFrLikbd4n2z",
        "outputId": "50fdf0e7-7aa3-4cbc-eb3c-4cf6e6b4caf7",
        "colab": {
          "base_uri": "https://localhost:8080/"
        }
      },
      "execution_count": 1,
      "outputs": [
        {
          "output_type": "stream",
          "name": "stdout",
          "text": [
            "ACAYKP\n",
            "CAPCAK\n",
            "4\n",
            "ACAK\n"
          ]
        }
      ]
    }
  ]
}