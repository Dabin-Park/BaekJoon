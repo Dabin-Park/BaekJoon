{
  "nbformat": 4,
  "nbformat_minor": 0,
  "metadata": {
    "colab": {
      "name": "1946(신입 사원).ipynb",
      "provenance": [],
      "authorship_tag": "ABX9TyNMlwdV1KbI2AblSa+Cej+a",
      "include_colab_link": true
    },
    "kernelspec": {
      "name": "python3",
      "display_name": "Python 3"
    },
    "language_info": {
      "name": "python"
    }
  },
  "cells": [
    {
      "cell_type": "markdown",
      "metadata": {
        "id": "view-in-github",
        "colab_type": "text"
      },
      "source": [
        "<a href=\"https://colab.research.google.com/github/Dabin-Park/BaekJoon/blob/main/Silver/1946(%EC%8B%A0%EC%9E%85%20%EC%82%AC%EC%9B%90).ipynb\" target=\"_parent\"><img src=\"https://colab.research.google.com/assets/colab-badge.svg\" alt=\"Open In Colab\"/></a>"
      ]
    },
    {
      "cell_type": "code",
      "source": [
        "for _ in range(int(input())):\n",
        "    N = int(input())\n",
        "    Interviewers = [list(map(int,input().split())) for _ in range(N)]\n",
        "    Interviewers.sort()\n",
        "    end, num = N+1,0\n",
        "    for interviewer in Interviewers:\n",
        "        if interviewer[1] < end:\n",
        "            num += 1\n",
        "            end = interviewer[1]\n",
        "            \n",
        "    print(num)"
      ],
      "metadata": {
        "colab": {
          "base_uri": "https://localhost:8080/"
        },
        "id": "4NDvOBDhbpRD",
        "outputId": "ebabe59a-0d85-4906-9331-15b9eedcf6f6"
      },
      "execution_count": null,
      "outputs": [
        {
          "output_type": "stream",
          "name": "stdout",
          "text": [
            "2\n",
            "5\n",
            "3 2\n",
            "1 4\n",
            "4 1\n",
            "2 3\n",
            "5 5\n",
            "4\n",
            "7\n",
            "3 6\n",
            "7 3\n",
            "4 2\n",
            "1 4\n",
            "5 7\n",
            "2 5\n",
            "6 1\n",
            "3\n"
          ]
        }
      ]
    }
  ]
}