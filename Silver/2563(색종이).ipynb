{
  "nbformat": 4,
  "nbformat_minor": 0,
  "metadata": {
    "colab": {
      "provenance": [],
      "authorship_tag": "ABX9TyMzRxoEbeCfT6PcKAg884F+",
      "include_colab_link": true
    },
    "kernelspec": {
      "name": "python3",
      "display_name": "Python 3"
    },
    "language_info": {
      "name": "python"
    }
  },
  "cells": [
    {
      "cell_type": "markdown",
      "metadata": {
        "id": "view-in-github",
        "colab_type": "text"
      },
      "source": [
        "<a href=\"https://colab.research.google.com/github/Dabin-Park/BaekJoon/blob/main/Silver/2563(%EC%83%89%EC%A2%85%EC%9D%B4).ipynb\" target=\"_parent\"><img src=\"https://colab.research.google.com/assets/colab-badge.svg\" alt=\"Open In Colab\"/></a>"
      ]
    },
    {
      "cell_type": "code",
      "execution_count": 1,
      "metadata": {
        "colab": {
          "base_uri": "https://localhost:8080/"
        },
        "id": "YHFUYXj24MLS",
        "outputId": "0234ecd9-0d11-450b-f84d-80297960a520"
      },
      "outputs": [
        {
          "output_type": "stream",
          "name": "stdout",
          "text": [
            "3\n",
            "3 7\n",
            "15 7\n",
            "5 2\n",
            "260\n"
          ]
        }
      ],
      "source": [
        "def sol(N):\n",
        "    Paper = [[0]*100 for _ in range(100)]\n",
        "    for _ in range(N):\n",
        "        a,b = map(int,input().split())\n",
        "        for i in range(a-1,a+9):\n",
        "            Paper[i][b-1:b+9] = [1]*10\n",
        "    num = 0\n",
        "    for i in range(100):\n",
        "        num += sum(Paper[i])\n",
        "    return num   \n",
        "            \n",
        "print(sol(int(input())))  "
      ]
    }
  ]
}