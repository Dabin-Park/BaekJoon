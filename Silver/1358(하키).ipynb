{
  "cells": [
    {
      "cell_type": "markdown",
      "metadata": {
        "id": "view-in-github",
        "colab_type": "text"
      },
      "source": [
        "<a href=\"https://colab.research.google.com/github/Dabin-Park/BaekJoon/blob/main/Silver/1358(%ED%95%98%ED%82%A4).ipynb\" target=\"_parent\"><img src=\"https://colab.research.google.com/assets/colab-badge.svg\" alt=\"Open In Colab\"/></a>"
      ]
    },
    {
      "cell_type": "code",
      "source": [
        "W,H,X,Y,P = map(int,input().split())\n",
        "r = H//2\n",
        "num = 0\n",
        "for _ in range(P):\n",
        "    x,y = map(int,input().split())\n",
        "    if x >= X-r and x <= X+W+r and y >= Y and y <= Y+H:\n",
        "        if x >= X and x <= X+W:\n",
        "            num += 1\n",
        "        elif x < X:\n",
        "            if (X-x)**2+(Y+r-y)**2 <= r**2:\n",
        "                num += 1\n",
        "        else:\n",
        "            if (X+W-x)**2+(Y+r-y)**2 <= r**2:\n",
        "                num += 1\n",
        "print(num)"
      ],
      "metadata": {
        "id": "HBwwya3y6Eyo",
        "outputId": "78335b64-743e-4bf1-a12e-e85b61514119",
        "colab": {
          "base_uri": "https://localhost:8080/"
        }
      },
      "execution_count": 1,
      "outputs": [
        {
          "output_type": "stream",
          "name": "stdout",
          "text": [
            "20 10 5 0 3\n",
            "15 5\n",
            "1 5\n",
            "1 1\n",
            "2\n"
          ]
        }
      ]
    }
  ],
  "metadata": {
    "colab": {
      "name": "1358(하키).ipynb",
      "provenance": [],
      "collapsed_sections": [],
      "authorship_tag": "ABX9TyO0frlUJ0q1/fdvAja3VF7F",
      "include_colab_link": true
    },
    "kernelspec": {
      "display_name": "Python 3",
      "name": "python3"
    },
    "language_info": {
      "name": "python"
    }
  },
  "nbformat": 4,
  "nbformat_minor": 0
}