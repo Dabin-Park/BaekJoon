{
  "nbformat": 4,
  "nbformat_minor": 0,
  "metadata": {
    "colab": {
      "provenance": [],
      "collapsed_sections": [],
      "authorship_tag": "ABX9TyOAxRQZGSFqvbWBUPCVN/vJ",
      "include_colab_link": true
    },
    "kernelspec": {
      "name": "python3",
      "display_name": "Python 3"
    },
    "language_info": {
      "name": "python"
    }
  },
  "cells": [
    {
      "cell_type": "markdown",
      "metadata": {
        "id": "view-in-github",
        "colab_type": "text"
      },
      "source": [
        "<a href=\"https://colab.research.google.com/github/Dabin-Park/BaekJoon/blob/main/Gold/19598(%EC%B5%9C%EC%86%8C%20%ED%9A%8C%EC%9D%98%EC%8B%A4%20%EA%B0%9C%EC%88%98).ipynb\" target=\"_parent\"><img src=\"https://colab.research.google.com/assets/colab-badge.svg\" alt=\"Open In Colab\"/></a>"
      ]
    },
    {
      "cell_type": "code",
      "source": [
        "import heapq\n",
        "\n",
        "heap = []\n",
        "Metting = sorted([list(map(int,input().split())) for _ in range(int(input()))], key = lambda x : (x[0],x[1]))\n",
        "\n",
        "for s,e in Metting:\n",
        "    if heap and heap[0] <= s:\n",
        "        heapq.heappop(heap) \n",
        "    heapq.heappush(heap,e)\n",
        "\n",
        "print(len(heap))"
      ],
      "metadata": {
        "id": "ZFrLikbd4n2z",
        "outputId": "03a65179-e950-4762-b271-82d218967d27",
        "colab": {
          "base_uri": "https://localhost:8080/"
        }
      },
      "execution_count": 1,
      "outputs": [
        {
          "output_type": "stream",
          "name": "stdout",
          "text": [
            "3\n",
            "0 40 \n",
            "15 30\n",
            "5 10\n",
            "2\n"
          ]
        }
      ]
    }
  ]
}