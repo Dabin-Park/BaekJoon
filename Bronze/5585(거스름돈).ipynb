{
  "cells": [
    {
      "cell_type": "markdown",
      "metadata": {
        "id": "view-in-github",
        "colab_type": "text"
      },
      "source": [
        "<a href=\"https://colab.research.google.com/github/Dabin-Park/BaekJoon/blob/main/Bronze/5585(%EA%B1%B0%EC%8A%A4%EB%A6%84%EB%8F%88).ipynb\" target=\"_parent\"><img src=\"https://colab.research.google.com/assets/colab-badge.svg\" alt=\"Open In Colab\"/></a>"
      ]
    },
    {
      "cell_type": "code",
      "source": [
        "N = 1000-int(input())\n",
        "money = [500,100,50,10,5,1]\n",
        "num = 0\n",
        "\n",
        "for a in money:\n",
        "    if a <= N:\n",
        "        num1 = N//a\n",
        "        N -= (num1)*a\n",
        "        num += num1\n",
        "\n",
        "print(num)"
      ],
      "metadata": {
        "id": "HBwwya3y6Eyo",
        "outputId": "a804a4fb-17fb-4eef-b3a7-254d9fc9cc3f",
        "colab": {
          "base_uri": "https://localhost:8080/"
        }
      },
      "execution_count": 3,
      "outputs": [
        {
          "output_type": "stream",
          "name": "stdout",
          "text": [
            "380\n",
            "4\n"
          ]
        }
      ]
    }
  ],
  "metadata": {
    "colab": {
      "name": "5585(거스름돈).ipynb",
      "provenance": [],
      "collapsed_sections": [],
      "authorship_tag": "ABX9TyMf2nK0lDivpbV4vo5hhvJX",
      "include_colab_link": true
    },
    "kernelspec": {
      "display_name": "Python 3",
      "name": "python3"
    },
    "language_info": {
      "name": "python"
    }
  },
  "nbformat": 4,
  "nbformat_minor": 0
}