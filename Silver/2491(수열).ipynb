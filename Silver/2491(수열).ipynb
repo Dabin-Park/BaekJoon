{
  "nbformat": 4,
  "nbformat_minor": 0,
  "metadata": {
    "colab": {
      "name": "2491(수열).ipynb",
      "provenance": [],
      "authorship_tag": "ABX9TyPseXRpNNZG4dCvg6aC7Mpg",
      "include_colab_link": true
    },
    "kernelspec": {
      "name": "python3",
      "display_name": "Python 3"
    },
    "language_info": {
      "name": "python"
    }
  },
  "cells": [
    {
      "cell_type": "markdown",
      "metadata": {
        "id": "view-in-github",
        "colab_type": "text"
      },
      "source": [
        "<a href=\"https://colab.research.google.com/github/Dabin-Park/BaekJoon/blob/main/Silver/2491(%EC%88%98%EC%97%B4).ipynb\" target=\"_parent\"><img src=\"https://colab.research.google.com/assets/colab-badge.svg\" alt=\"Open In Colab\"/></a>"
      ]
    },
    {
      "cell_type": "code",
      "execution_count": 1,
      "metadata": {
        "colab": {
          "base_uri": "https://localhost:8080/"
        },
        "id": "dT6CvtQPNnKQ",
        "outputId": "43e80df3-966c-48a6-9ecf-fa5cc79d035d"
      },
      "outputs": [
        {
          "output_type": "stream",
          "name": "stdout",
          "text": [
            "9\n",
            "1 2 2 4 4 5 7 7 2\n",
            "8\n"
          ]
        }
      ],
      "source": [
        "N = int(input())\n",
        "Sequence = list(map(int,input().split()))\n",
        "M,num1,num2 = 1,1,1\n",
        "for i in range(N-1):\n",
        "    if Sequence[i] <= Sequence[i+1]:\n",
        "        num1 += 1\n",
        "        M = max(num1,M)\n",
        "    else:\n",
        "        num1 = 1\n",
        "        \n",
        "    if Sequence[i] >= Sequence[i+1]:\n",
        "        num2 += 1\n",
        "        M = max(num2,M)\n",
        "    else:\n",
        "        num2 = 1\n",
        "\n",
        "print(M)"
      ]
    }
  ]
}