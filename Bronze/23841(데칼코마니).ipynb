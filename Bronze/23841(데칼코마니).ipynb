{
  "nbformat": 4,
  "nbformat_minor": 0,
  "metadata": {
    "colab": {
      "name": "23841(데칼코마니).ipynb",
      "provenance": [],
      "authorship_tag": "ABX9TyNNeBwPZy946WpcCGNMUMFQ",
      "include_colab_link": true
    },
    "kernelspec": {
      "name": "python3",
      "display_name": "Python 3"
    },
    "language_info": {
      "name": "python"
    }
  },
  "cells": [
    {
      "cell_type": "markdown",
      "metadata": {
        "id": "view-in-github",
        "colab_type": "text"
      },
      "source": [
        "<a href=\"https://colab.research.google.com/github/Dabin-Park/BaekJoon/blob/main/Bronze/23841(%EB%8D%B0%EC%B9%BC%EC%BD%94%EB%A7%88%EB%8B%88).ipynb\" target=\"_parent\"><img src=\"https://colab.research.google.com/assets/colab-badge.svg\" alt=\"Open In Colab\"/></a>"
      ]
    },
    {
      "cell_type": "code",
      "source": [
        "N,M = map(int,input().split())\n",
        "Painting = [list(input().rstrip()) for _ in range(N)]\n",
        "\n",
        "for i in range(N):\n",
        "    for j in range(M):\n",
        "        if Painting[i][j] != \".\":\n",
        "            Painting[i][-j-1] = Painting[i][j]\n",
        "\n",
        "for painting in Painting:\n",
        "    print(\"\".join(painting))"
      ],
      "metadata": {
        "colab": {
          "base_uri": "https://localhost:8080/"
        },
        "id": "whXH70HTj9iH",
        "outputId": "e1f9f57c-a7d6-4fc8-afd7-8ec29963fabb"
      },
      "execution_count": 1,
      "outputs": [
        {
          "output_type": "stream",
          "name": "stdout",
          "text": [
            "3 6\n",
            "G..R..\n",
            "..B...\n",
            "Y.....\n",
            "G.RR.G\n",
            "..BB..\n",
            "Y....Y\n"
          ]
        }
      ]
    }
  ]
}