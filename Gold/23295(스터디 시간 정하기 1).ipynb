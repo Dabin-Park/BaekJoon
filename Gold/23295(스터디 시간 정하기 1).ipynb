{
  "nbformat": 4,
  "nbformat_minor": 0,
  "metadata": {
    "colab": {
      "name": "23295(스터디 시간 정하기 1).ipynb",
      "provenance": [],
      "authorship_tag": "ABX9TyPxXM4d+72a7XlBxqYXSrbx",
      "include_colab_link": true
    },
    "kernelspec": {
      "name": "python3",
      "display_name": "Python 3"
    },
    "language_info": {
      "name": "python"
    }
  },
  "cells": [
    {
      "cell_type": "markdown",
      "metadata": {
        "id": "view-in-github",
        "colab_type": "text"
      },
      "source": [
        "<a href=\"https://colab.research.google.com/github/Dabin-Park/BaekJoon/blob/main/Gold/23295(%EC%8A%A4%ED%84%B0%EB%94%94%20%EC%8B%9C%EA%B0%84%20%EC%A0%95%ED%95%98%EA%B8%B0%201).ipynb\" target=\"_parent\"><img src=\"https://colab.research.google.com/assets/colab-badge.svg\" alt=\"Open In Colab\"/></a>"
      ]
    },
    {
      "cell_type": "code",
      "execution_count": 2,
      "metadata": {
        "colab": {
          "base_uri": "https://localhost:8080/"
        },
        "id": "dT6CvtQPNnKQ",
        "outputId": "a6dc3fed-53e5-4af6-f78d-2dcec0e0d61b"
      },
      "outputs": [
        {
          "output_type": "stream",
          "name": "stdout",
          "text": [
            "3 4 \n",
            "2\n",
            "0 6\n",
            "8 12\n",
            "3\n",
            "1 3\n",
            "4 6\n",
            "7 9\n",
            "1\n",
            "4 8\n",
            "2 6\n"
          ]
        }
      ],
      "source": [
        "N,T = map(int,input().split())\n",
        "Times = [0 for _ in range(100001)]\n",
        "maxnum = 0 \n",
        "for _ in range(N):\n",
        "    for _ in range(int(input())):\n",
        "        S,E = map(int,input().split())\n",
        "        Times[S] += 1\n",
        "        Times[E] -= 1\n",
        "\n",
        "for i in range(1,100001):\n",
        "    Times[i] += Times[i-1]\n",
        "\n",
        "M = sum(Times[:T])\n",
        "sum1 = M \n",
        "S = 0\n",
        "for i in range(1,100001-T):\n",
        "    sum1 -= (Times[i-1] - Times[T+i-1])\n",
        "    if sum1 > M:\n",
        "        M = sum1\n",
        "        S = i\n",
        "        \n",
        "print(S,S+T)\n",
        "    "
      ]
    }
  ]
}