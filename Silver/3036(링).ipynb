{
  "nbformat": 4,
  "nbformat_minor": 0,
  "metadata": {
    "colab": {
      "provenance": [],
      "authorship_tag": "ABX9TyOqkKsxlpzNr+bCVfaagyGR",
      "include_colab_link": true
    },
    "kernelspec": {
      "name": "python3",
      "display_name": "Python 3"
    },
    "language_info": {
      "name": "python"
    }
  },
  "cells": [
    {
      "cell_type": "markdown",
      "metadata": {
        "id": "view-in-github",
        "colab_type": "text"
      },
      "source": [
        "<a href=\"https://colab.research.google.com/github/Dabin-Park/BaekJoon/blob/main/Silver/3036(%EB%A7%81).ipynb\" target=\"_parent\"><img src=\"https://colab.research.google.com/assets/colab-badge.svg\" alt=\"Open In Colab\"/></a>"
      ]
    },
    {
      "cell_type": "code",
      "source": [
        "from fractions import Fraction\n",
        "\n",
        "def sol(N):\n",
        "    V = list(map(int, input().split()))\n",
        "    S = V[0]\n",
        "\n",
        "    for i in V[1:]:\n",
        "        ans = Fraction(S,i)\n",
        "        print(ans if ans%1 else str(ans)+\"/1\")\n",
        "        \n",
        "sol(int(input()))"
      ],
      "metadata": {
        "colab": {
          "base_uri": "https://localhost:8080/"
        },
        "id": "WgAVHO6Man3x",
        "outputId": "11b9dc5e-d4be-45a5-9eca-a1ea9636a1f3"
      },
      "execution_count": 1,
      "outputs": [
        {
          "output_type": "stream",
          "name": "stdout",
          "text": [
            "3\n",
            "8 4 2\n",
            "2/1\n",
            "4/1\n"
          ]
        }
      ]
    }
  ]
}