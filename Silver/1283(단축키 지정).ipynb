{
  "nbformat": 4,
  "nbformat_minor": 0,
  "metadata": {
    "colab": {
      "name": "1283(단축키 지정).ipynb",
      "provenance": [],
      "authorship_tag": "ABX9TyOJtr/JAvzdXZSjKqrUuj6h",
      "include_colab_link": true
    },
    "kernelspec": {
      "name": "python3",
      "display_name": "Python 3"
    },
    "language_info": {
      "name": "python"
    }
  },
  "cells": [
    {
      "cell_type": "markdown",
      "metadata": {
        "id": "view-in-github",
        "colab_type": "text"
      },
      "source": [
        "<a href=\"https://colab.research.google.com/github/Dabin-Park/BaekJoon/blob/main/Silver/1283(%EB%8B%A8%EC%B6%95%ED%82%A4%20%EC%A7%80%EC%A0%95).ipynb\" target=\"_parent\"><img src=\"https://colab.research.google.com/assets/colab-badge.svg\" alt=\"Open In Colab\"/></a>"
      ]
    },
    {
      "cell_type": "code",
      "source": [
        "def find(alpha,i,n):\n",
        "    if alpha[n].upper() not in Shortcut_keys:\n",
        "        Shortcut_keys.add(alpha[n].upper())\n",
        "        Alpha[i] = alpha[:n] + \"[\"+ alpha[n] + \"]\" + alpha[n+1:]\n",
        "        return 1\n",
        "    return 0\n",
        "\n",
        "Shortcut_keys = set()\n",
        "for _ in range(int(input())):\n",
        "    Alpha = input().split()\n",
        "    for i,alpha in enumerate(Alpha):\n",
        "        t = find(alpha,i,0)\n",
        "        if t:\n",
        "            break\n",
        "    if t == 0:\n",
        "        for i,alpha in enumerate(Alpha):\n",
        "            for j in range(1,len(alpha)): \n",
        "                t = find(alpha,i,j)\n",
        "                if t:\n",
        "                    break\n",
        "            if t:\n",
        "                break\n",
        "    \n",
        "    print(\" \".join(Alpha))"
      ],
      "metadata": {
        "colab": {
          "base_uri": "https://localhost:8080/"
        },
        "id": "whXH70HTj9iH",
        "outputId": "fe6a247f-51c8-455c-c6d3-ed1b9a4393fb"
      },
      "execution_count": 1,
      "outputs": [
        {
          "output_type": "stream",
          "name": "stdout",
          "text": [
            "5\n",
            "New\n",
            "[N]ew\n",
            "Open\n",
            "[O]pen\n",
            "Save\n",
            "[S]ave\n",
            "Save As\n",
            "Save [A]s\n",
            "Save All\n",
            "Sa[v]e All\n"
          ]
        }
      ]
    }
  ]
}