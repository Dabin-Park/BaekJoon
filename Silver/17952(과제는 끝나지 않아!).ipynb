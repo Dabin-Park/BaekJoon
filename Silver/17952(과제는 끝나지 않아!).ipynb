{
  "nbformat": 4,
  "nbformat_minor": 0,
  "metadata": {
    "colab": {
      "provenance": [],
      "authorship_tag": "ABX9TyMsZBBDIB+LsUdrNvvn2LQp",
      "include_colab_link": true
    },
    "kernelspec": {
      "name": "python3",
      "display_name": "Python 3"
    },
    "language_info": {
      "name": "python"
    }
  },
  "cells": [
    {
      "cell_type": "markdown",
      "metadata": {
        "id": "view-in-github",
        "colab_type": "text"
      },
      "source": [
        "<a href=\"https://colab.research.google.com/github/Dabin-Park/BaekJoon/blob/main/Silver/17952(%EA%B3%BC%EC%A0%9C%EB%8A%94%20%EB%81%9D%EB%82%98%EC%A7%80%20%EC%95%8A%EC%95%84!).ipynb\" target=\"_parent\"><img src=\"https://colab.research.google.com/assets/colab-badge.svg\" alt=\"Open In Colab\"/></a>"
      ]
    },
    {
      "cell_type": "code",
      "source": [
        "def sol(N, score):\n",
        "    Homework = [] \n",
        "    for _ in range(N):\n",
        "        homework = list(map(int,input().split()))\n",
        "        if homework[0]:\n",
        "            Homework.append(homework[1:])\n",
        "        if Homework:\n",
        "            if Homework[-1][1] > 1:\n",
        "                Homework[-1][1] -= 1\n",
        "            else:\n",
        "                score += Homework[-1][0]\n",
        "                del Homework[-1]\n",
        "    return score\n",
        "\n",
        "print(sol(int(input()),0))"
      ],
      "metadata": {
        "colab": {
          "base_uri": "https://localhost:8080/"
        },
        "id": "BYNtq_Ywoefu",
        "outputId": "0e6173fa-8cbd-48f8-e06b-9e57695980f2"
      },
      "execution_count": 1,
      "outputs": [
        {
          "output_type": "stream",
          "name": "stdout",
          "text": [
            "3\n",
            "1 100 3\n",
            "0 \n",
            "0\n",
            "100\n"
          ]
        }
      ]
    }
  ]
}