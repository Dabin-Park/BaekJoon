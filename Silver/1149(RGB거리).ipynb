{
  "cells": [
    {
      "cell_type": "markdown",
      "metadata": {
        "id": "view-in-github",
        "colab_type": "text"
      },
      "source": [
        "<a href=\"https://colab.research.google.com/github/Dabin-Park/BaekJoon/blob/main/Silver/1149(RGB%EA%B1%B0%EB%A6%AC).ipynb\" target=\"_parent\"><img src=\"https://colab.research.google.com/assets/colab-badge.svg\" alt=\"Open In Colab\"/></a>"
      ]
    },
    {
      "cell_type": "code",
      "source": [
        "N = int(input())\n",
        "A = [list(map(int,input().split())) for _ in range(N)]\n",
        "dp = [[0,0,0] for _ in range(N)]\n",
        "dp[0][0],dp[0][1],dp[0][2] = A[0][0],A[0][1],A[0][2] \n",
        "\n",
        "for i in range(1,N):\n",
        "    for j in range(3):\n",
        "        dp[i][j] = A[i][j] + min(dp[i-1][(j+1)%3],dp[i-1][(j+2)%3])\n",
        "    \n",
        "print(min(dp[N-1]))"
      ],
      "metadata": {
        "id": "HBwwya3y6Eyo",
        "outputId": "13a12da2-cf36-4789-baa7-7ead605b6044",
        "colab": {
          "base_uri": "https://localhost:8080/"
        }
      },
      "execution_count": 1,
      "outputs": [
        {
          "output_type": "stream",
          "name": "stdout",
          "text": [
            "3\n",
            "26 40 83\n",
            "49 60 57\n",
            "13 89 99\n",
            "96\n"
          ]
        }
      ]
    }
  ],
  "metadata": {
    "colab": {
      "name": "1149(RGB거리).ipynb",
      "provenance": [],
      "collapsed_sections": [],
      "authorship_tag": "ABX9TyP1KMucyHtZKLFDuPQVdKzX",
      "include_colab_link": true
    },
    "kernelspec": {
      "display_name": "Python 3",
      "name": "python3"
    },
    "language_info": {
      "name": "python"
    }
  },
  "nbformat": 4,
  "nbformat_minor": 0
}