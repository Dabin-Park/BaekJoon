{
  "nbformat": 4,
  "nbformat_minor": 0,
  "metadata": {
    "colab": {
      "name": "10986(나머지 합).ipynb",
      "provenance": [],
      "authorship_tag": "ABX9TyMqmP4dxPWyo2eOqQHKCUWc",
      "include_colab_link": true
    },
    "kernelspec": {
      "name": "python3",
      "display_name": "Python 3"
    },
    "language_info": {
      "name": "python"
    }
  },
  "cells": [
    {
      "cell_type": "markdown",
      "metadata": {
        "id": "view-in-github",
        "colab_type": "text"
      },
      "source": [
        "<a href=\"https://colab.research.google.com/github/Dabin-Park/BaekJoon/blob/main/Gold/10986(%EB%82%98%EB%A8%B8%EC%A7%80%20%ED%95%A9).ipynb\" target=\"_parent\"><img src=\"https://colab.research.google.com/assets/colab-badge.svg\" alt=\"Open In Colab\"/></a>"
      ]
    },
    {
      "cell_type": "code",
      "source": [
        "N,M = map(int,input().split())\n",
        "Sequnce = list(map(int,input().split()))\n",
        "Dict_of_Numbers = {i:0 for i in range(M)}\n",
        "value, num = 0 , 0\n",
        "\n",
        "for i in range(N):\n",
        "    value = (value + Sequnce[i]) % M\n",
        "    Dict_of_Numbers[value] += 1\n",
        "    \n",
        "x = 0\n",
        "for i in range(N):\n",
        "    num += Dict_of_Numbers[x]\n",
        "    Dict_of_Numbers[(Sequnce[i] + x) % M] -= 1\n",
        "    x = (x + Sequnce[i])%M\n",
        "        \n",
        "print(num)"
      ],
      "metadata": {
        "id": "CGdbDyPnpFQk",
        "outputId": "01419383-8e39-4b62-95a4-85b2a84e59b3",
        "colab": {
          "base_uri": "https://localhost:8080/"
        }
      },
      "execution_count": 1,
      "outputs": [
        {
          "output_type": "stream",
          "name": "stdout",
          "text": [
            "5 3\n",
            "1 2 3 1 2\n",
            "7\n"
          ]
        }
      ]
    }
  ]
}