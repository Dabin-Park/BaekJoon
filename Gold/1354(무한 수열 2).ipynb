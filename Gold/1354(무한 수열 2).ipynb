{
  "nbformat": 4,
  "nbformat_minor": 0,
  "metadata": {
    "colab": {
      "name": "1354(무한 수열 2).ipynb",
      "provenance": [],
      "authorship_tag": "ABX9TyM/rVCiXJo+yz4G84Dnccmb",
      "include_colab_link": true
    },
    "kernelspec": {
      "name": "python3",
      "display_name": "Python 3"
    },
    "language_info": {
      "name": "python"
    }
  },
  "cells": [
    {
      "cell_type": "markdown",
      "metadata": {
        "id": "view-in-github",
        "colab_type": "text"
      },
      "source": [
        "<a href=\"https://colab.research.google.com/github/Dabin-Park/BaekJoon/blob/main/Gold/1354(%EB%AC%B4%ED%95%9C%20%EC%88%98%EC%97%B4%202).ipynb\" target=\"_parent\"><img src=\"https://colab.research.google.com/assets/colab-badge.svg\" alt=\"Open In Colab\"/></a>"
      ]
    },
    {
      "cell_type": "code",
      "source": [
        "def Input(x,y,Z,W,):\n",
        "    if x in Z:\n",
        "        Z[x] += W[y]\n",
        "    else:\n",
        "        Z[x] = W[y]\n",
        "    return Z\n",
        "    \n",
        "           \n",
        "N, P, Q, X, Y = map(int,input().split())\n",
        "num,t = 0,1\n",
        "A = {N:1}\n",
        "while t:\n",
        "    t = 0\n",
        "    B = {}\n",
        "    for a in A:\n",
        "        if a:\n",
        "            x,y = a//P-X, a//Q-Y\n",
        "            if x <= 0:\n",
        "                x = 0\n",
        "                num += A[a]\n",
        "            if y <= 0:\n",
        "                y = 0\n",
        "                num += A[a]\n",
        "            if x:\n",
        "                B = Input(x,a,B,A)\n",
        "            if y:\n",
        "                B = Input(y,a,B,A)\n",
        "            t = 1\n",
        "        else:\n",
        "            num += A[a]\n",
        "    A = B\n",
        "    \n",
        "print(num)"
      ],
      "metadata": {
        "colab": {
          "base_uri": "https://localhost:8080/"
        },
        "id": "4NDvOBDhbpRD",
        "outputId": "67db1e78-6366-4247-de28-e7c8325a41e4"
      },
      "execution_count": 3,
      "outputs": [
        {
          "output_type": "stream",
          "name": "stdout",
          "text": [
            "10000000 2 3 10000000 10000000\n",
            "2\n"
          ]
        }
      ]
    },
    {
      "cell_type": "code",
      "source": [
        "N, P, Q, X, Y = map(int,input().split())\n",
        "dict = {}\n",
        "def dp(N):\n",
        "    if not N in dict:\n",
        "        if N <= 0:\n",
        "            dict[N] = 1\n",
        "        else:\n",
        "            dict[N] = dp(N//P - X) + dp(N//Q - Y)\n",
        "    return dict[N]\n",
        "print(dp(N))"
      ],
      "metadata": {
        "colab": {
          "base_uri": "https://localhost:8080/"
        },
        "id": "ZDgLbU8x4-ky",
        "outputId": "79d6cb9d-bc64-4a53-c90c-a1af885a13ef"
      },
      "execution_count": 4,
      "outputs": [
        {
          "output_type": "stream",
          "name": "stdout",
          "text": [
            "10000000 2 3 10000000 10000000\n",
            "2\n"
          ]
        }
      ]
    }
  ]
}