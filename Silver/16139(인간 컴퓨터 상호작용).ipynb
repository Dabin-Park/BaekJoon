{
  "nbformat": 4,
  "nbformat_minor": 0,
  "metadata": {
    "colab": {
      "provenance": [],
      "authorship_tag": "ABX9TyOn5/ZWa3pW8Dp+f71YEfLQ",
      "include_colab_link": true
    },
    "kernelspec": {
      "name": "python3",
      "display_name": "Python 3"
    },
    "language_info": {
      "name": "python"
    }
  },
  "cells": [
    {
      "cell_type": "markdown",
      "metadata": {
        "id": "view-in-github",
        "colab_type": "text"
      },
      "source": [
        "<a href=\"https://colab.research.google.com/github/Dabin-Park/BaekJoon/blob/main/Silver/16139(%EC%9D%B8%EA%B0%84%20%EC%BB%B4%ED%93%A8%ED%84%B0%20%EC%83%81%ED%98%B8%EC%9E%91%EC%9A%A9).ipynb\" target=\"_parent\"><img src=\"https://colab.research.google.com/assets/colab-badge.svg\" alt=\"Open In Colab\"/></a>"
      ]
    },
    {
      "cell_type": "code",
      "source": [
        "def sol(S):\n",
        "    cnt = [[0]*26]\n",
        "    for s in S:\n",
        "        v = cnt[-1].copy()\n",
        "        v[ord(s)%97] += 1\n",
        "        cnt.append(v)\n",
        "    \n",
        "    for _ in range(int(input())):\n",
        "        s, pl, pr = input().split()\n",
        "        ind = ord(s)%97\n",
        "        print(cnt[int(pr)+1][ind] - cnt[int(pl)][ind])\n",
        "\n",
        "sol(input().strip())"
      ],
      "metadata": {
        "colab": {
          "base_uri": "https://localhost:8080/"
        },
        "id": "WgAVHO6Man3x",
        "outputId": "c3749b1c-a737-4bc5-f706-01cdb4ace463"
      },
      "execution_count": 1,
      "outputs": [
        {
          "output_type": "stream",
          "name": "stdout",
          "text": [
            "seungjaehwang\n",
            "4\n",
            "a 0 5\n",
            "0\n",
            "a 0 6\n",
            "1\n",
            "a 6 10\n",
            "2\n",
            "a 7 10\n",
            "1\n"
          ]
        }
      ]
    }
  ]
}