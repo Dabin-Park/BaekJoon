{
  "nbformat": 4,
  "nbformat_minor": 0,
  "metadata": {
    "colab": {
      "name": "1107(리모컨).ipynb",
      "provenance": [],
      "authorship_tag": "ABX9TyPK3buMWTjKqDIRbpUo2qNK",
      "include_colab_link": true
    },
    "kernelspec": {
      "name": "python3",
      "display_name": "Python 3"
    },
    "language_info": {
      "name": "python"
    }
  },
  "cells": [
    {
      "cell_type": "markdown",
      "metadata": {
        "id": "view-in-github",
        "colab_type": "text"
      },
      "source": [
        "<a href=\"https://colab.research.google.com/github/Dabin-Park/BaekJoon/blob/main/Gold/1107(%EB%A6%AC%EB%AA%A8%EC%BB%A8).ipynb\" target=\"_parent\"><img src=\"https://colab.research.google.com/assets/colab-badge.svg\" alt=\"Open In Colab\"/></a>"
      ]
    },
    {
      "cell_type": "code",
      "execution_count": 1,
      "metadata": {
        "colab": {
          "base_uri": "https://localhost:8080/"
        },
        "id": "dT6CvtQPNnKQ",
        "outputId": "8323db9c-8438-4ed9-edc5-075e6ea4da3c"
      },
      "outputs": [
        {
          "output_type": "stream",
          "name": "stdout",
          "text": [
            "5457\n",
            "3\n",
            "6 7 8\n",
            "6\n"
          ]
        }
      ],
      "source": [
        "N = input()\n",
        "M = int(input())\n",
        "n = len(N)\n",
        "N1 = int(N)\n",
        "\n",
        "if M:\n",
        "    Break = list(map(int,input().split()))\n",
        "    if N == '100':\n",
        "        print(0)\n",
        "    else:\n",
        "        if M == 10:\n",
        "            print(abs(N1-100))\n",
        "        else:\n",
        "            Notbreak = []\n",
        "            for i in range(10):\n",
        "                if i not in Break:\n",
        "                    Notbreak.append(i)\n",
        "            number = \"\"\n",
        "            t = 0\n",
        "            for i in range(n):\n",
        "                if int(N[i]) in Break:\n",
        "                    t = 1\n",
        "                    break\n",
        "                number += N[i]\n",
        "            if t:\n",
        "                if Notbreak == [0]:\n",
        "                    print(min(abs(100-N1),1+N1))\n",
        "                else:\n",
        "                    x,k = int(N[i]),1\n",
        "                    while True:\n",
        "                        if x + k <= 9:\n",
        "                            if x + k not in Break:\n",
        "                                number1 = number + str(x + k) + str(Notbreak[0])*(n-(i+1))\n",
        "                                break\n",
        "                            k += 1\n",
        "                        else:\n",
        "                            j = i\n",
        "                            if j:\n",
        "                                while True:\n",
        "                                    if j >= 1 and int(N[j-1]) >= Notbreak[-1]:\n",
        "                                        j -= 1\n",
        "                                    else:\n",
        "                                        if j:\n",
        "                                            number1 = number[:j-1] + str(Notbreak[Notbreak.index(int(N[j-1]))+1]) + str(Notbreak[0])*(n-j)\n",
        "                                        else:\n",
        "                                            if Notbreak[0]:\n",
        "                                                number1 = str(Notbreak[0])*(n+1)\n",
        "                                            else:\n",
        "                                                number1 = str(Notbreak[1]) + str(Notbreak[0])*n\n",
        "                                        break    \n",
        "                            else:\n",
        "                                s = 1\n",
        "                                for a in Notbreak:\n",
        "                                    if a > x:\n",
        "                                        number1 = str(a) + str(Notbreak[0])*(n-1)\n",
        "                                        s = 0\n",
        "                                        break\n",
        "                                if s:\n",
        "                                    if Notbreak[0]:\n",
        "                                        number1 = str(Notbreak[0])*(n+1)\n",
        "                                    else:\n",
        "                                        number1 = str(Notbreak[1]) + str(Notbreak[0])*n\n",
        "                            break\n",
        "                    k = 1\n",
        "                    while True:\n",
        "                        if x - k >= 0:\n",
        "                            if x - k not in Break:\n",
        "                                number2 = number + str(x - k) + str(Notbreak[-1])*(n-(i+1))    \n",
        "                                break               \n",
        "                            k += 1\n",
        "                        else:\n",
        "                            j = i\n",
        "                            if j:\n",
        "                                while True:\n",
        "                                    if j >= 1 and int(N[j-1]) <= Notbreak[0]:\n",
        "                                        j -= 1\n",
        "                                    else:\n",
        "                                        if j:\n",
        "                                            number2 = number[:j-1] + str(Notbreak[Notbreak.index(int(N[j-1]))-1]) + str(Notbreak[-1])*(n-j)\n",
        "                                        else:\n",
        "                                            number2 = str(Notbreak[-1])*(n-1)\n",
        "                                        break \n",
        "                            else:\n",
        "                                s = 1\n",
        "                                for a in Notbreak[::-1]:\n",
        "                                    if a < x and a > 0 :\n",
        "                                        number2 = str(a) + str(Notbreak[-1])*(n-1)\n",
        "                                        s = 0\n",
        "                                        break\n",
        "                                if s:\n",
        "                                    number2 = str(Notbreak[-1])*(n-1)\n",
        "                            break\n",
        "                    if number2 == \"\":\n",
        "                        number2 = '100'\n",
        "                    elif  number2 != '0':\n",
        "                        if number2[0] == '0':\n",
        "                            number2 = number2[1:]\n",
        "\n",
        "                    print(min(len(number1)+abs(N1-int(number1)),len(number2)+abs(N1-int(number2)),abs(100-N1)))              \n",
        "            else:\n",
        "                print(min(n,abs(100-N1)))\n",
        "else:\n",
        "    print(min(n,abs(100-N1)))"
      ]
    },
    {
      "cell_type": "code",
      "source": [
        "N = int(input())\n",
        "M = int(input())\n",
        "\n",
        "if M:\n",
        "    Break = list(map(str,input().split()))\n",
        "else:\n",
        "    Break = []\n",
        "\n",
        "if Break:\n",
        "    ans = abs(N-100) # 다 고장난거 \n",
        "\n",
        "    for num in range(1000000):\n",
        "        for i in str(num):\n",
        "            if i in  Break:\n",
        "                break\n",
        "        else:   # 안고장난걸로만 입력 \n",
        "            ans = min(ans,abs(num-N)+len(str(num)))\n",
        "else:\n",
        "    ans = len(str(N))\n",
        "        \n",
        "print(ans)"
      ],
      "metadata": {
        "colab": {
          "base_uri": "https://localhost:8080/"
        },
        "id": "ZFrLikbd4n2z",
        "outputId": "4f418653-e010-47af-9b9a-e31082bc3ea7"
      },
      "execution_count": 2,
      "outputs": [
        {
          "output_type": "stream",
          "name": "stdout",
          "text": [
            "5457\n",
            "3\n",
            "6 7 8\n",
            "6\n"
          ]
        }
      ]
    }
  ]
}