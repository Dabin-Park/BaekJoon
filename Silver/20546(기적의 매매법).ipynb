{
  "cells": [
    {
      "cell_type": "markdown",
      "metadata": {
        "id": "view-in-github",
        "colab_type": "text"
      },
      "source": [
        "<a href=\"https://colab.research.google.com/github/Dabin-Park/BaekJoon/blob/main/Silver/20546(%EA%B8%B0%EC%A0%81%EC%9D%98%20%EB%A7%A4%EB%A7%A4%EB%B2%95).ipynb\" target=\"_parent\"><img src=\"https://colab.research.google.com/assets/colab-badge.svg\" alt=\"Open In Colab\"/></a>"
      ]
    },
    {
      "cell_type": "code",
      "source": [
        "m = int(input())\n",
        "A = list(map(int,input().split()))\n",
        "\n",
        "j = m\n",
        "jt = 0\n",
        "s = m\n",
        "st = 0\n",
        "\n",
        "for i in range(14):\n",
        "    if j//A[i] !=0 :\n",
        "        jt += j//A[i]\n",
        "        j -= A[i]*(j//A[i])\n",
        "    if i >= 3 and A[i-3] < A[i-2] < A[i-1] < A[i]:\n",
        "        s += st*A[i]\n",
        "        st = 0\n",
        "    elif i >= 3 and A[i-3] > A[i-2] > A[i-1] > A[i]:\n",
        "        st += s//A[i]\n",
        "        s -= A[i]*(s//A[i])\n",
        "        \n",
        "j += jt*A[13]\n",
        "s += st*A[13]\n",
        "\n",
        "if j > s:\n",
        "    print(\"BNP\")\n",
        "elif j < s:\n",
        "    print(\"TIMING\")\n",
        "else:\n",
        "    print(\"SAMESAME\")       "
      ],
      "metadata": {
        "colab": {
          "base_uri": "https://localhost:8080/"
        },
        "id": "nSrvviDnu1sa",
        "outputId": "ae4ecc90-f7ca-4e08-8f7c-f732264c9594"
      },
      "execution_count": null,
      "outputs": [
        {
          "output_type": "stream",
          "name": "stdout",
          "text": [
            "10\n",
            "55\n"
          ]
        }
      ]
    }
  ],
  "metadata": {
    "colab": {
      "name": "20546(기적의 매매법).ipynb",
      "provenance": [],
      "collapsed_sections": [],
      "authorship_tag": "ABX9TyMmvwUnHwyN4NWx+u7BvHm2",
      "include_colab_link": true
    },
    "kernelspec": {
      "display_name": "Python 3",
      "name": "python3"
    },
    "language_info": {
      "name": "python"
    }
  },
  "nbformat": 4,
  "nbformat_minor": 0
}