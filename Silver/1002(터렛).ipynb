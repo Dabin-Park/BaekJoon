{
  "cells": [
    {
      "cell_type": "markdown",
      "metadata": {
        "id": "view-in-github",
        "colab_type": "text"
      },
      "source": [
        "<a href=\"https://colab.research.google.com/github/Dabin-Park/BaekJoon/blob/main/Silver/1002(%ED%84%B0%EB%A0%9B).ipynb\" target=\"_parent\"><img src=\"https://colab.research.google.com/assets/colab-badge.svg\" alt=\"Open In Colab\"/></a>"
      ]
    },
    {
      "cell_type": "code",
      "source": [
        "T = int(input())\n",
        "\n",
        "for _ in range(T): \n",
        "  x1,y1,r1,x2,y2,r2 = map(int,input().split())\n",
        "  if x1 == x2 and y1 == y2 :\n",
        "    if r1 == r2:\n",
        "      print(-1)\n",
        "    else :\n",
        "      print(0)\n",
        "  else:\n",
        "    a = ((x1-x2)**2 + (y1-y2)**2)**0.5\n",
        "    \n",
        "    b = r1 + r2\n",
        "    if a == b or a + min(r1,r2) == max(r1,r2):\n",
        "       print(1)\n",
        "    elif a > b or a + min(r1,r2) < max(r1,r2):\n",
        "       print(0)\n",
        "    else :\n",
        "       print(2)"
      ],
      "metadata": {
        "colab": {
          "base_uri": "https://localhost:8080/"
        },
        "id": "wl4BkaYPmU4d",
        "outputId": "07ff34f7-095c-4d42-a668-48655c79b22c"
      },
      "execution_count": 1,
      "outputs": [
        {
          "output_type": "stream",
          "name": "stdout",
          "text": [
            "3\n",
            "0 0 13 40 0 37\n",
            "2\n",
            "0 0 3 0 7 4\n",
            "1\n",
            "1 1 1 1 1 5\n",
            "0\n"
          ]
        }
      ]
    }
  ],
  "metadata": {
    "colab": {
      "name": "1002(터렛).ipynb",
      "provenance": [],
      "collapsed_sections": [],
      "authorship_tag": "ABX9TyPSsXy+VitEtQRYAP97O6md",
      "include_colab_link": true
    },
    "kernelspec": {
      "display_name": "Python 3",
      "name": "python3"
    },
    "language_info": {
      "name": "python"
    }
  },
  "nbformat": 4,
  "nbformat_minor": 0
}