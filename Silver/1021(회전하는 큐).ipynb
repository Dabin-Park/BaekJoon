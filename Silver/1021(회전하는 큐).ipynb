{
  "nbformat": 4,
  "nbformat_minor": 0,
  "metadata": {
    "colab": {
      "provenance": [],
      "authorship_tag": "ABX9TyNqWQa/Djk58MEjuW2yd9FE",
      "include_colab_link": true
    },
    "kernelspec": {
      "name": "python3",
      "display_name": "Python 3"
    },
    "language_info": {
      "name": "python"
    }
  },
  "cells": [
    {
      "cell_type": "markdown",
      "metadata": {
        "id": "view-in-github",
        "colab_type": "text"
      },
      "source": [
        "<a href=\"https://colab.research.google.com/github/Dabin-Park/BaekJoon/blob/main/Silver/1021(%ED%9A%8C%EC%A0%84%ED%95%98%EB%8A%94%20%ED%81%90).ipynb\" target=\"_parent\"><img src=\"https://colab.research.google.com/assets/colab-badge.svg\" alt=\"Open In Colab\"/></a>"
      ]
    },
    {
      "cell_type": "code",
      "source": [
        "from collections import deque\n",
        "\n",
        "def sol(ans):\n",
        "    N, M = map(int,input().split())\n",
        "    Nums = list(map(int,input().split()))\n",
        "    Nums_d = deque(range(1,N+1))\n",
        "\n",
        "    for n in Nums:\n",
        "        ind = 0\n",
        "        if n != Nums_d[0]:\n",
        "            ind = Nums_d.index(n)\n",
        "            if N//2 >= ind:\n",
        "                Nums_d.rotate(-ind)\n",
        "            else:\n",
        "                ind = N-ind\n",
        "                Nums_d.rotate(ind)\n",
        "        Nums_d.popleft()\n",
        "        ans += ind\n",
        "        N -= 1\n",
        "    return ans\n",
        "\n",
        "print(sol(0))"
      ],
      "metadata": {
        "colab": {
          "base_uri": "https://localhost:8080/"
        },
        "id": "tVe3A1mE7-1_",
        "outputId": "44505d0c-4d7e-4763-b532-fd878eea022a"
      },
      "execution_count": 1,
      "outputs": [
        {
          "output_type": "stream",
          "name": "stdout",
          "text": [
            "10 3\n",
            "1 2 3\n",
            "0\n"
          ]
        }
      ]
    }
  ]
}