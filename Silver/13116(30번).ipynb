{
  "cells": [
    {
      "cell_type": "markdown",
      "metadata": {
        "id": "view-in-github",
        "colab_type": "text"
      },
      "source": [
        "<a href=\"https://colab.research.google.com/github/Dabin-Park/BaekJoon/blob/main/Silver/13116(30%EB%B2%88).ipynb\" target=\"_parent\"><img src=\"https://colab.research.google.com/assets/colab-badge.svg\" alt=\"Open In Colab\"/></a>"
      ]
    },
    {
      "cell_type": "code",
      "source": [
        "T = int(input())\n",
        "for _ in range(T):\n",
        "    A,B = map(int,input().split())\n",
        "    A,B = min(A,B), max(A,B)\n",
        "    X = []\n",
        "    n = 1\n",
        "    while A > 1:\n",
        "        X.append(A)\n",
        "        A //= 2\n",
        "    while B > 1:\n",
        "        if B in X:\n",
        "            print(B*10)\n",
        "            n = 0\n",
        "            break\n",
        "        B //= 2\n",
        "    if n:\n",
        "        print(10)        "
      ],
      "metadata": {
        "id": "HBwwya3y6Eyo",
        "outputId": "f924fbdd-51a6-488a-a988-6b0bd0e67f0f",
        "colab": {
          "base_uri": "https://localhost:8080/"
        }
      },
      "execution_count": 2,
      "outputs": [
        {
          "output_type": "stream",
          "name": "stdout",
          "text": [
            "3\n",
            "33 79\n",
            "40\n",
            "9 15\n",
            "10\n",
            "1022 1023\n",
            "5110\n"
          ]
        }
      ]
    },
    {
      "cell_type": "code",
      "source": [
        "T = int(input())\n",
        "for _ in range(T):\n",
        "    A,B = map(int,input().split())\n",
        "    \n",
        "    while True:\n",
        "        if A == B:\n",
        "            print(A*10)\n",
        "            break\n",
        "        elif A > B:\n",
        "            A //= 2\n",
        "        else :\n",
        "            B //= 2       "
      ],
      "metadata": {
        "colab": {
          "base_uri": "https://localhost:8080/"
        },
        "id": "JuwK4naC5Jir",
        "outputId": "e2bab094-f1b5-4c42-c9bb-4e1a61450a16"
      },
      "execution_count": 3,
      "outputs": [
        {
          "output_type": "stream",
          "name": "stdout",
          "text": [
            "3\n",
            "33 79\n",
            "40\n",
            "9 15\n",
            "10\n",
            "1022 1023\n",
            "5110\n"
          ]
        }
      ]
    }
  ],
  "metadata": {
    "colab": {
      "name": "2193(이친수).ipynb",
      "provenance": [],
      "collapsed_sections": [],
      "authorship_tag": "ABX9TyNzb+l9faPUCnHIpWgXm12k",
      "include_colab_link": true
    },
    "kernelspec": {
      "display_name": "Python 3",
      "name": "python3"
    },
    "language_info": {
      "name": "python"
    }
  },
  "nbformat": 4,
  "nbformat_minor": 0
}