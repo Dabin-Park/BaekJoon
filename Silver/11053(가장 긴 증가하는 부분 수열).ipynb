{
  "nbformat": 4,
  "nbformat_minor": 0,
  "metadata": {
    "colab": {
      "provenance": [],
      "authorship_tag": "ABX9TyN5gGxhtruEx3l7BF8gbjpn",
      "include_colab_link": true
    },
    "kernelspec": {
      "name": "python3",
      "display_name": "Python 3"
    },
    "language_info": {
      "name": "python"
    }
  },
  "cells": [
    {
      "cell_type": "markdown",
      "metadata": {
        "id": "view-in-github",
        "colab_type": "text"
      },
      "source": [
        "<a href=\"https://colab.research.google.com/github/Dabin-Park/BaekJoon/blob/main/Silver/11053(%EA%B0%80%EC%9E%A5%20%EA%B8%B4%20%EC%A6%9D%EA%B0%80%ED%95%98%EB%8A%94%20%EB%B6%80%EB%B6%84%20%EC%88%98%EC%97%B4).ipynb\" target=\"_parent\"><img src=\"https://colab.research.google.com/assets/colab-badge.svg\" alt=\"Open In Colab\"/></a>"
      ]
    },
    {
      "cell_type": "code",
      "execution_count": 2,
      "metadata": {
        "colab": {
          "base_uri": "https://localhost:8080/"
        },
        "id": "dyLYCu6HzRut",
        "outputId": "e6824d08-7683-4b7a-faed-ea0e0ce67ed1"
      },
      "outputs": [
        {
          "output_type": "stream",
          "name": "stdout",
          "text": [
            "6\n",
            "10 20 10 30 20 50\n",
            "4\n"
          ]
        }
      ],
      "source": [
        "N = int(input())\n",
        "dp = [1]*N\n",
        "Sequnce = list(map(int,input().split()))\n",
        "\n",
        "for i in range(1,N):\n",
        "    max_ = []\n",
        "    for j in range(i):\n",
        "        if Sequnce[j] < Sequnce[i]:\n",
        "            max_.append(dp[j])\n",
        "    if max_:\n",
        "        dp[i] = max(max_)+1\n",
        "        \n",
        "print(max(dp))"
      ]
    }
  ]
}