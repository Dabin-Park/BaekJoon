{
  "cells": [
    {
      "cell_type": "markdown",
      "metadata": {
        "id": "view-in-github",
        "colab_type": "text"
      },
      "source": [
        "<a href=\"https://colab.research.google.com/github/Dabin-Park/BaekJoon/blob/main/1463(1%EB%A1%9C%20%EB%A7%8C%EB%93%A4%EA%B8%B0).ipynb\" target=\"_parent\"><img src=\"https://colab.research.google.com/assets/colab-badge.svg\" alt=\"Open In Colab\"/></a>"
      ]
    },
    {
      "cell_type": "code",
      "source": [
        "X = int(input())\n",
        "A = [0 for _ in range(X+3)]\n",
        "A[2],A[3] = 1,1\n",
        "\n",
        "for i in range(4,X+1):\n",
        "    if i % 3 == 0:\n",
        "        if i % 2 == 0:\n",
        "            A[i] = min(A[i//2],A[i//3],A[i-1])+1\n",
        "        else:\n",
        "            A[i] = min(A[i//3],A[i-1])+1    \n",
        "    elif i%2 == 0:\n",
        "        A[i] = min(A[i//2],A[i-1])+1\n",
        "    else:\n",
        "        A[i] = A[i-1]+1\n",
        "        \n",
        "print(A[X])    "
      ],
      "metadata": {
        "id": "HBwwya3y6Eyo",
        "outputId": "652504b2-b3f0-4689-b2fe-b0e984f441f8",
        "colab": {
          "base_uri": "https://localhost:8080/"
        }
      },
      "execution_count": 1,
      "outputs": [
        {
          "output_type": "stream",
          "name": "stdout",
          "text": [
            "10\n",
            "3\n"
          ]
        }
      ]
    }
  ],
  "metadata": {
    "colab": {
      "name": "1463(1로 만들기)ipynb",
      "provenance": [],
      "collapsed_sections": [],
      "authorship_tag": "ABX9TyNCOZqcOzwrBBw6B3XqPrlr",
      "include_colab_link": true
    },
    "kernelspec": {
      "display_name": "Python 3",
      "name": "python3"
    },
    "language_info": {
      "name": "python"
    }
  },
  "nbformat": 4,
  "nbformat_minor": 0
}
