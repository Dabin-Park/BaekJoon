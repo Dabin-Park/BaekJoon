{
  "cells": [
    {
      "cell_type": "markdown",
      "metadata": {
        "id": "view-in-github",
        "colab_type": "text"
      },
      "source": [
        "<a href=\"https://colab.research.google.com/github/Dabin-Park/BaekJoon/blob/main/Silver/2217(%EB%A1%9C%ED%94%84).ipynb\" target=\"_parent\"><img src=\"https://colab.research.google.com/assets/colab-badge.svg\" alt=\"Open In Colab\"/></a>"
      ]
    },
    {
      "cell_type": "code",
      "source": [
        "N = int(input())\n",
        "A = [int(input()) for _ in range(N)]\n",
        "\n",
        "A.sort()\n",
        "\n",
        "m = -1\n",
        "\n",
        "for i in range(len(A)):\n",
        "    m = max(m,A[i]*(len(A)-i))\n",
        "\n",
        "print(m)"
      ],
      "metadata": {
        "id": "HBwwya3y6Eyo",
        "outputId": "9a570827-78a6-45f8-8d3f-466c78cc531e",
        "colab": {
          "base_uri": "https://localhost:8080/"
        }
      },
      "execution_count": 1,
      "outputs": [
        {
          "output_type": "stream",
          "name": "stdout",
          "text": [
            "2\n",
            "10\n",
            "15\n",
            "20\n"
          ]
        }
      ]
    }
  ],
  "metadata": {
    "colab": {
      "name": "2217(로프).ipynb",
      "provenance": [],
      "collapsed_sections": [],
      "authorship_tag": "ABX9TyPNeLekNKngcPJjpJMcuUKY",
      "include_colab_link": true
    },
    "kernelspec": {
      "display_name": "Python 3",
      "name": "python3"
    },
    "language_info": {
      "name": "python"
    }
  },
  "nbformat": 4,
  "nbformat_minor": 0
}