{
  "cells": [
    {
      "cell_type": "markdown",
      "metadata": {
        "id": "view-in-github",
        "colab_type": "text"
      },
      "source": [
        "<a href=\"https://colab.research.google.com/github/Dabin-Park/BaekJoon/blob/main/Silver/1925(%EC%82%BC%EA%B0%81%ED%98%95).ipynb\" target=\"_parent\"><img src=\"https://colab.research.google.com/assets/colab-badge.svg\" alt=\"Open In Colab\"/></a>"
      ]
    },
    {
      "cell_type": "markdown",
      "source": [
        "부동 소수점 때문에 함수 2개 정의"
      ],
      "metadata": {
        "id": "q7bl-IUbFmey"
      }
    },
    {
      "cell_type": "code",
      "source": [
        "def distance(a,b):\n",
        "    return ((a[0]-b[0])**2 + (a[1]-b[1])**2)**0.5\n",
        "\n",
        "def distance2(a,b):\n",
        "    return ((a[0]-b[0])**2 + (a[1]-b[1])**2)\n",
        "\n",
        "A = [list(map(int,input().split())) for _ in range(3)]\n",
        "\n",
        "a01 = distance(A[0],A[1])\n",
        "a02 = distance(A[0],A[2])\n",
        "a12 = distance(A[1],A[2])\n",
        "\n",
        "b01 = distance2(A[0],A[1])\n",
        "b02 = distance2(A[0],A[2])\n",
        "b12 = distance2(A[1],A[2])\n",
        "\n",
        "B = [a01,a02,a12]\n",
        "C = [b01,b02,b12]\n",
        "B = sorted(B)\n",
        "C = sorted(C)\n",
        "\n",
        "if B[0]+B[1] == B[2]:\n",
        "    print('X')\n",
        "elif a01 == a02 and a02 == a12 :\n",
        "    print('JungTriangle')\n",
        "elif B[0]==B[1] or B[1]== B[2]:\n",
        "    if B[0]==B[1] and C[0] + C[1] == C[2]:\n",
        "        print('Jikkak2Triangle')\n",
        "    elif  B[0]==B[1] :\n",
        "        print(\"Dunkak2Triangle\")\n",
        "    else :\n",
        "        print('Yeahkak2Triangle')\n",
        "else:\n",
        "    if C[0]+C[1] == C[2]:\n",
        "        print('JikkakTriangle')\n",
        "    elif C[0]+C[1] < C[2]: \n",
        "        print('DunkakTriangle')\n",
        "    else:\n",
        "        print('YeahkakTriangle')"
      ],
      "metadata": {
        "colab": {
          "base_uri": "https://localhost:8080/"
        },
        "id": "wl4BkaYPmU4d",
        "outputId": "bc3291ce-3d42-4273-863d-a0848cc78f20"
      },
      "execution_count": 3,
      "outputs": [
        {
          "output_type": "stream",
          "name": "stdout",
          "text": [
            "0 0\n",
            "-3 -3\n",
            "-3 0\n",
            "Jikkak2Triangle\n"
          ]
        }
      ]
    }
  ],
  "metadata": {
    "colab": {
      "name": "1925(삼각형).ipynb",
      "provenance": [],
      "collapsed_sections": [],
      "authorship_tag": "ABX9TyOtAMdqSf8wOC1A1CtDdi1P",
      "include_colab_link": true
    },
    "kernelspec": {
      "display_name": "Python 3",
      "name": "python3"
    },
    "language_info": {
      "name": "python"
    }
  },
  "nbformat": 4,
  "nbformat_minor": 0
}