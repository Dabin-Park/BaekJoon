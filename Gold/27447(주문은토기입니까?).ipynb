{
  "nbformat": 4,
  "nbformat_minor": 0,
  "metadata": {
    "colab": {
      "provenance": [],
      "authorship_tag": "ABX9TyOguQ4nrtZ107k6UdLGeUaR",
      "include_colab_link": true
    },
    "kernelspec": {
      "name": "python3",
      "display_name": "Python 3"
    },
    "language_info": {
      "name": "python"
    }
  },
  "cells": [
    {
      "cell_type": "markdown",
      "metadata": {
        "id": "view-in-github",
        "colab_type": "text"
      },
      "source": [
        "<a href=\"https://colab.research.google.com/github/Dabin-Park/BaekJoon/blob/main/Gold/27447(%EC%A3%BC%EB%AC%B8%EC%9D%80%ED%86%A0%EA%B8%B0%EC%9E%85%EB%8B%88%EA%B9%8C%3F).ipynb\" target=\"_parent\"><img src=\"https://colab.research.google.com/assets/colab-badge.svg\" alt=\"Open In Colab\"/></a>"
      ]
    },
    {
      "cell_type": "code",
      "source": [
        "from collections import deque\n",
        "\n",
        "def sol():\n",
        "    _, M = map(int, input().split())\n",
        "    time = list(map(int, input().split()))\n",
        "    time_set = set(time)\n",
        "    tmp_idx, tmp_idx2 = deque(), deque()\n",
        "    for i in range(time[-1], -1, -1):\n",
        "        if not i in time_set:\n",
        "            if tmp_idx:\n",
        "                tmp_idx2.append(tmp_idx.popleft())\n",
        "            elif tmp_idx2:\n",
        "                tmp_idx2.popleft()\n",
        "        else:\n",
        "            tmp_idx.append(i)\n",
        "        if tmp_idx and tmp_idx[0]-i == M:\n",
        "            break\n",
        "    print(\"fail\" if (tmp_idx or tmp_idx2) else \"success\")\n",
        "    \n",
        "sol()"
      ],
      "metadata": {
        "colab": {
          "base_uri": "https://localhost:8080/"
        },
        "id": "Wf1zqg3P9ONw",
        "outputId": "b5667d8d-158f-4f3f-8110-164cf380b44e"
      },
      "execution_count": 1,
      "outputs": [
        {
          "output_type": "stream",
          "name": "stdout",
          "text": [
            "2 3\n",
            "4 5\n",
            "success\n"
          ]
        }
      ]
    }
  ]
}