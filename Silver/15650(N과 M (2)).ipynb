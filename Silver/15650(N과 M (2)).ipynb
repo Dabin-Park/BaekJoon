{
  "nbformat": 4,
  "nbformat_minor": 0,
  "metadata": {
    "colab": {
      "provenance": [],
      "authorship_tag": "ABX9TyOJ1LwtQh48Ps6gT+2eQ6xf",
      "include_colab_link": true
    },
    "kernelspec": {
      "name": "python3",
      "display_name": "Python 3"
    },
    "language_info": {
      "name": "python"
    }
  },
  "cells": [
    {
      "cell_type": "markdown",
      "metadata": {
        "id": "view-in-github",
        "colab_type": "text"
      },
      "source": [
        "<a href=\"https://colab.research.google.com/github/Dabin-Park/BaekJoon/blob/main/Silver/15650(N%EA%B3%BC%20M%20(2)).ipynb\" target=\"_parent\"><img src=\"https://colab.research.google.com/assets/colab-badge.svg\" alt=\"Open In Colab\"/></a>"
      ]
    },
    {
      "cell_type": "code",
      "source": [
        "from itertools import combinations\n",
        "def sol():\n",
        "    N, M = map(int, input().split())\n",
        "    for i in combinations(list(range(1, N+1)), M):\n",
        "        print(' '.join(map(str, i)))\n",
        "sol()"
      ],
      "metadata": {
        "colab": {
          "base_uri": "https://localhost:8080/"
        },
        "id": "e30J77TxSoAj",
        "outputId": "a34b4dbc-793c-4581-a8c9-9d03a3a7745f"
      },
      "execution_count": 1,
      "outputs": [
        {
          "output_type": "stream",
          "name": "stdout",
          "text": [
            "7 4\n",
            "1 2 3 4\n",
            "1 2 3 5\n",
            "1 2 3 6\n",
            "1 2 3 7\n",
            "1 2 4 5\n",
            "1 2 4 6\n",
            "1 2 4 7\n",
            "1 2 5 6\n",
            "1 2 5 7\n",
            "1 2 6 7\n",
            "1 3 4 5\n",
            "1 3 4 6\n",
            "1 3 4 7\n",
            "1 3 5 6\n",
            "1 3 5 7\n",
            "1 3 6 7\n",
            "1 4 5 6\n",
            "1 4 5 7\n",
            "1 4 6 7\n",
            "1 5 6 7\n",
            "2 3 4 5\n",
            "2 3 4 6\n",
            "2 3 4 7\n",
            "2 3 5 6\n",
            "2 3 5 7\n",
            "2 3 6 7\n",
            "2 4 5 6\n",
            "2 4 5 7\n",
            "2 4 6 7\n",
            "2 5 6 7\n",
            "3 4 5 6\n",
            "3 4 5 7\n",
            "3 4 6 7\n",
            "3 5 6 7\n",
            "4 5 6 7\n"
          ]
        }
      ]
    }
  ]
}