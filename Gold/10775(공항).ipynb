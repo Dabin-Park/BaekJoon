{
  "nbformat": 4,
  "nbformat_minor": 0,
  "metadata": {
    "colab": {
      "name": "10775(공항).ipynb",
      "provenance": [],
      "authorship_tag": "ABX9TyPUrCitSKtKbGG1F7W6z6Xg",
      "include_colab_link": true
    },
    "kernelspec": {
      "name": "python3",
      "display_name": "Python 3"
    },
    "language_info": {
      "name": "python"
    }
  },
  "cells": [
    {
      "cell_type": "markdown",
      "metadata": {
        "id": "view-in-github",
        "colab_type": "text"
      },
      "source": [
        "<a href=\"https://colab.research.google.com/github/Dabin-Park/BaekJoon/blob/main/Gold/10775(%EA%B3%B5%ED%95%AD).ipynb\" target=\"_parent\"><img src=\"https://colab.research.google.com/assets/colab-badge.svg\" alt=\"Open In Colab\"/></a>"
      ]
    },
    {
      "cell_type": "code",
      "source": [
        "# import sys \n",
        "# input = sys.stdin.readline\n",
        "# sys.setrecursionlimit(10**5)  # python은 재귀한도가 있어 설정을 해줘야 풀림\n",
        "\n",
        "def find(n):\n",
        "    if Gate[n] != n:\n",
        "        Gate[n] = find(Gate[n])\n",
        "    return Gate[n]\n",
        "\n",
        "G = int(input())\n",
        "Gate = list(range(G+1))\n",
        "P = int(input())\n",
        "\n",
        "num = 0\n",
        "for _ in range(P):\n",
        "    a = find(int(input()))\n",
        "    if a:\n",
        "        num += 1\n",
        "        Gate[a] = a-1\n",
        "    else:\n",
        "        break\n",
        "    \n",
        "print(num)"
      ],
      "metadata": {
        "colab": {
          "base_uri": "https://localhost:8080/"
        },
        "id": "4NDvOBDhbpRD",
        "outputId": "7206e5fd-bfa9-47a8-d1b3-93bdab044891"
      },
      "execution_count": 2,
      "outputs": [
        {
          "output_type": "stream",
          "name": "stdout",
          "text": [
            "4\n",
            "3\n",
            "4\n",
            "1\n",
            "1\n",
            "2\n"
          ]
        }
      ]
    }
  ]
}