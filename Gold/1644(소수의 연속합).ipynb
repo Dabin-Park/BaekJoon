{
  "cells": [
    {
      "cell_type": "markdown",
      "metadata": {
        "id": "view-in-github",
        "colab_type": "text"
      },
      "source": [
        "<a href=\"https://colab.research.google.com/github/Dabin-Park/BaekJoon/blob/main/Gold/1644(%EC%86%8C%EC%88%98%EC%9D%98%20%EC%97%B0%EC%86%8D%ED%95%A9).ipynb\" target=\"_parent\"><img src=\"https://colab.research.google.com/assets/colab-badge.svg\" alt=\"Open In Colab\"/></a>"
      ]
    },
    {
      "cell_type": "code",
      "source": [
        "N = int(input())\n",
        "\n",
        "if N != 1:\n",
        "    prime = [1]*(N+1)\n",
        "    prime[1] = 0\n",
        "    x = []\n",
        "    for i in range(2,N+1):\n",
        "        if prime[i] == 1:\n",
        "            for j in range(2*i,N+1,i):\n",
        "                prime[j] = 0\n",
        "            x.append(i)\n",
        "\n",
        "    start = 0\n",
        "    end = 0\n",
        "    a = x[0]\n",
        "    num,l = 0, len(x)\n",
        "    while start <= end and end < l:\n",
        "        if a < N:\n",
        "            end += 1\n",
        "            if end < l:\n",
        "                a += x[end]\n",
        "        elif a > N:\n",
        "            a -= x[start]\n",
        "            start += 1      \n",
        "        else:\n",
        "            num += 1\n",
        "            if end < l-1:\n",
        "                end += 1\n",
        "                a += x[end]\n",
        "                a -= x[start]\n",
        "                start += 1          \n",
        "            else:\n",
        "                break\n",
        "                \n",
        "    print(num)\n",
        "else:\n",
        "    print(0)"
      ],
      "metadata": {
        "id": "HBwwya3y6Eyo",
        "outputId": "bc258572-0b3e-44ce-d3bd-716266883ddb",
        "colab": {
          "base_uri": "https://localhost:8080/"
        }
      },
      "execution_count": 1,
      "outputs": [
        {
          "output_type": "stream",
          "name": "stdout",
          "text": [
            "41\n",
            "3\n"
          ]
        }
      ]
    },
    {
      "cell_type": "code",
      "source": [
        "N = int(input())\n",
        "\n",
        "prime = [1]*(N+1)\n",
        "prime[1] = 0\n",
        "    \n",
        "for i in range(2,int(N**0.5)+1):\n",
        "    if prime[i]:\n",
        "        for j in range(2*i,N+1,i):\n",
        "            prime[j] = 0\n",
        "            \n",
        "x = [2]+ [i for i in range(3,N+1,2) if prime[i] == 1]    \n",
        "start = 0\n",
        "end = 0\n",
        "a = x[0]\n",
        "num,l = 0, len(x)\n",
        "\n",
        "while start <= end and end < l:\n",
        "    if a < N:\n",
        "        end += 1\n",
        "        if end < l:\n",
        "            a += x[end]\n",
        "    elif a > N:\n",
        "        a -= x[start]\n",
        "        start += 1      \n",
        "    else:\n",
        "        num += 1\n",
        "        if end < l-1:\n",
        "            end += 1\n",
        "            a += x[end]\n",
        "            a -= x[start]\n",
        "            start += 1          \n",
        "        else:\n",
        "            break\n",
        "                \n",
        "print(num)"
      ],
      "metadata": {
        "colab": {
          "base_uri": "https://localhost:8080/"
        },
        "id": "GrZUSuMW52Vp",
        "outputId": "ccf390e9-d3d7-41cf-e141-522712326675"
      },
      "execution_count": 2,
      "outputs": [
        {
          "output_type": "stream",
          "name": "stdout",
          "text": [
            "41\n",
            "3\n"
          ]
        }
      ]
    }
  ],
  "metadata": {
    "colab": {
      "name": "1644(소수의 연속합).ipynb",
      "provenance": [],
      "collapsed_sections": [],
      "authorship_tag": "ABX9TyNM+wtlYmclLrz8Q6fVXLA/",
      "include_colab_link": true
    },
    "kernelspec": {
      "display_name": "Python 3",
      "name": "python3"
    },
    "language_info": {
      "name": "python"
    }
  },
  "nbformat": 4,
  "nbformat_minor": 0
}