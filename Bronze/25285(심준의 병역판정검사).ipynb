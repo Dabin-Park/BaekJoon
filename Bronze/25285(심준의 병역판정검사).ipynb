{
  "cells": [
    {
      "cell_type": "markdown",
      "metadata": {
        "id": "view-in-github",
        "colab_type": "text"
      },
      "source": [
        "<a href=\"https://colab.research.google.com/github/Dabin-Park/BaekJoon/blob/main/Bronze/25285(%EC%8B%AC%EC%A4%80%EC%9D%98%20%EB%B3%91%EC%97%AD%ED%8C%90%EC%A0%95%EA%B2%80%EC%82%AC).ipynb\" target=\"_parent\"><img src=\"https://colab.research.google.com/assets/colab-badge.svg\" alt=\"Open In Colab\"/></a>"
      ]
    },
    {
      "cell_type": "code",
      "source": [
        "T = int(input())\n",
        "for _ in range(T):\n",
        "    H,W = map(int,input().split())\n",
        "    B = W/((H/100)**2)\n",
        "    if H < 140.1:\n",
        "        print(6)\n",
        "    elif H >= 140.1 and H < 146:\n",
        "        print(5)\n",
        "    elif (H >= 146 and H < 159) or H > 204:\n",
        "        print(4)\n",
        "    elif H >= 159 and H < 161:\n",
        "        if B >= 16 and B < 35:\n",
        "            print(3)\n",
        "        else:\n",
        "            print(4)\n",
        "    else:\n",
        "        if B >= 20 and B < 25:\n",
        "            print(1)\n",
        "        elif (B >= 18.5 and B < 20) or (B >= 25 and B < 30):\n",
        "            print(2)\n",
        "        elif (B >= 16 and B < 18.5) or (B >= 30 and B < 35):\n",
        "            print(3)\n",
        "        else:\n",
        "            print(4)"
      ],
      "metadata": {
        "id": "HBwwya3y6Eyo",
        "outputId": "19a69b34-8e40-47a4-bfac-93a78abe1c11",
        "colab": {
          "base_uri": "https://localhost:8080/"
        }
      },
      "execution_count": 2,
      "outputs": [
        {
          "output_type": "stream",
          "name": "stdout",
          "text": [
            "6\n",
            "175 65\n",
            "1\n",
            "175 60\n",
            "2\n",
            "175 49\n",
            "3\n",
            "175 48\n",
            "4\n",
            "145 50\n",
            "5\n",
            "140 45\n",
            "6\n"
          ]
        }
      ]
    }
  ],
  "metadata": {
    "colab": {
      "name": "25285(심준의 병역판정검사).ipynb",
      "provenance": [],
      "collapsed_sections": [],
      "authorship_tag": "ABX9TyOj8dvBW/dnQkALgj5ci3DH",
      "include_colab_link": true
    },
    "kernelspec": {
      "display_name": "Python 3",
      "name": "python3"
    },
    "language_info": {
      "name": "python"
    }
  },
  "nbformat": 4,
  "nbformat_minor": 0
}