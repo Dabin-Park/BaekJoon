{
  "nbformat": 4,
  "nbformat_minor": 0,
  "metadata": {
    "colab": {
      "name": "2559(수열).ipynb",
      "provenance": [],
      "authorship_tag": "ABX9TyPdlmv/UIGEW9v5PjCWw3Lo",
      "include_colab_link": true
    },
    "kernelspec": {
      "name": "python3",
      "display_name": "Python 3"
    },
    "language_info": {
      "name": "python"
    }
  },
  "cells": [
    {
      "cell_type": "markdown",
      "metadata": {
        "id": "view-in-github",
        "colab_type": "text"
      },
      "source": [
        "<a href=\"https://colab.research.google.com/github/Dabin-Park/BaekJoon/blob/main/Silver/2559(%EC%88%98%EC%97%B4).ipynb\" target=\"_parent\"><img src=\"https://colab.research.google.com/assets/colab-badge.svg\" alt=\"Open In Colab\"/></a>"
      ]
    },
    {
      "cell_type": "code",
      "source": [
        "N,K = map(int,input().split())\n",
        "Sequnce = list(map(int,input().split()))\n",
        "\n",
        "max_ = [sum(Sequnce[:K])]\n",
        "num = max_[0]\n",
        "for i in range(K,N):\n",
        "    num -= Sequnce[i-K]\n",
        "    num += Sequnce[i]\n",
        "    max_.append(num)\n",
        "\n",
        "print(max(max_))"
      ],
      "metadata": {
        "id": "ZFrLikbd4n2z",
        "outputId": "e5986733-cfca-4b67-8a31-6c6875e9fe38",
        "colab": {
          "base_uri": "https://localhost:8080/"
        }
      },
      "execution_count": 1,
      "outputs": [
        {
          "output_type": "stream",
          "name": "stdout",
          "text": [
            "10 2\n",
            "3 -2 -4 -9 0 3 7 13 8 -3\n",
            "21\n"
          ]
        }
      ]
    }
  ]
}