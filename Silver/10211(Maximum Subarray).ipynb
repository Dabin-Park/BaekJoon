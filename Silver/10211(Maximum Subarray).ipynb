{
  "nbformat": 4,
  "nbformat_minor": 0,
  "metadata": {
    "colab": {
      "provenance": [],
      "authorship_tag": "ABX9TyNwR2cSFagNFLtBz1NZZ/S7",
      "include_colab_link": true
    },
    "kernelspec": {
      "name": "python3",
      "display_name": "Python 3"
    },
    "language_info": {
      "name": "python"
    }
  },
  "cells": [
    {
      "cell_type": "markdown",
      "metadata": {
        "id": "view-in-github",
        "colab_type": "text"
      },
      "source": [
        "<a href=\"https://colab.research.google.com/github/Dabin-Park/BaekJoon/blob/main/Silver/10211(Maximum%20Subarray).ipynb\" target=\"_parent\"><img src=\"https://colab.research.google.com/assets/colab-badge.svg\" alt=\"Open In Colab\"/></a>"
      ]
    },
    {
      "cell_type": "code",
      "execution_count": 1,
      "metadata": {
        "colab": {
          "base_uri": "https://localhost:8080/"
        },
        "id": "YHFUYXj24MLS",
        "outputId": "a968126b-9871-4d0c-fb54-bdadac93d03b"
      },
      "outputs": [
        {
          "output_type": "stream",
          "name": "stdout",
          "text": [
            "2\n",
            "5\n",
            "1 2 3 4 5\n",
            "15\n",
            "5\n",
            "2 1 -2 3 -5\n",
            "4\n"
          ]
        }
      ],
      "source": [
        "def sol(T):\n",
        "    for _ in range(T):\n",
        "        N = int(input())\n",
        "        Array = list(map(int,input().split()))\n",
        "        dp = [0]*(N+1)\n",
        "        \n",
        "        for i in range(1,N+1):\n",
        "            dp[i] = max(Array[i-1], dp[i-1] + Array[i-1])\n",
        "        print(max(dp[1:]))\n",
        "\n",
        "sol(int(input()))  "
      ]
    }
  ]
}