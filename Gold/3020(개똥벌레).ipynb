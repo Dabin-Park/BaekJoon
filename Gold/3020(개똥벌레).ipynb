{
  "nbformat": 4,
  "nbformat_minor": 0,
  "metadata": {
    "colab": {
      "provenance": [],
      "authorship_tag": "ABX9TyPhnkPhb9u33WAT37Y1CFZ1",
      "include_colab_link": true
    },
    "kernelspec": {
      "name": "python3",
      "display_name": "Python 3"
    },
    "language_info": {
      "name": "python"
    }
  },
  "cells": [
    {
      "cell_type": "markdown",
      "metadata": {
        "id": "view-in-github",
        "colab_type": "text"
      },
      "source": [
        "<a href=\"https://colab.research.google.com/github/Dabin-Park/BaekJoon/blob/main/Gold/3020(%EA%B0%9C%EB%98%A5%EB%B2%8C%EB%A0%88).ipynb\" target=\"_parent\"><img src=\"https://colab.research.google.com/assets/colab-badge.svg\" alt=\"Open In Colab\"/></a>"
      ]
    },
    {
      "cell_type": "code",
      "execution_count": 1,
      "metadata": {
        "colab": {
          "base_uri": "https://localhost:8080/"
        },
        "id": "YHFUYXj24MLS",
        "outputId": "e817fe68-979f-4553-9940-01dd6174c852"
      },
      "outputs": [
        {
          "output_type": "stream",
          "name": "stdout",
          "text": [
            "6 7\n",
            "1\n",
            "5\n",
            "3\n",
            "3\n",
            "5\n",
            "1\n",
            "2 3\n"
          ]
        }
      ],
      "source": [
        "def sol():\n",
        "    N,H = map(int,input().split())\n",
        "    Up, Down = [0]*(H+1), [0]*(H+1)\n",
        "    for i in range(N):\n",
        "        if i%2:\n",
        "            Up[int(input())] += 1\n",
        "        else:\n",
        "            Down[int(input())] += 1\n",
        "            \n",
        "    for i in range(H-2,0,-1):\n",
        "        Down[i] += Down[i+1]\n",
        "        Up[i] += Up[i+1]\n",
        "        \n",
        "    min_ = num = float(\"inf\")\n",
        "    for i in range(1,H+1):\n",
        "        Down[i] += Up[H + 1-i]\n",
        "        if Down[i] < min_:\n",
        "            min_ = Down[i]\n",
        "            num = 1\n",
        "        elif Down[i] == min_:\n",
        "            num += 1\n",
        "    print(min_, num)\n",
        "    \n",
        "sol()"
      ]
    }
  ]
}