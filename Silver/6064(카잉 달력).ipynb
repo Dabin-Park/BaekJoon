{
  "nbformat": 4,
  "nbformat_minor": 0,
  "metadata": {
    "colab": {
      "provenance": [],
      "authorship_tag": "ABX9TyO9WzzC59HiRm4LNhJKdfp/",
      "include_colab_link": true
    },
    "kernelspec": {
      "name": "python3",
      "display_name": "Python 3"
    },
    "language_info": {
      "name": "python"
    }
  },
  "cells": [
    {
      "cell_type": "markdown",
      "metadata": {
        "id": "view-in-github",
        "colab_type": "text"
      },
      "source": [
        "<a href=\"https://colab.research.google.com/github/Dabin-Park/BaekJoon/blob/main/Silver/6064(%EC%B9%B4%EC%9E%89%20%EB%8B%AC%EB%A0%A5).ipynb\" target=\"_parent\"><img src=\"https://colab.research.google.com/assets/colab-badge.svg\" alt=\"Open In Colab\"/></a>"
      ]
    },
    {
      "cell_type": "code",
      "source": [
        "def China(M,N,x,y):\n",
        "    a = M*N\n",
        "    while x <= a:\n",
        "        if (x-y)%N == 0:\n",
        "            return x\n",
        "        x += M\n",
        "    return -1\n",
        "\n",
        "def sol():\n",
        "    for _ in range(int(input())):\n",
        "        M, N, x, y = map(int, input().split())\n",
        "        print(China(M,N,x,y))\n",
        "\n",
        "sol()"
      ],
      "metadata": {
        "colab": {
          "base_uri": "https://localhost:8080/"
        },
        "id": "hP4gfGRVQYlr",
        "outputId": "654f516d-2718-4497-ec62-9a53c6c5d696"
      },
      "execution_count": 1,
      "outputs": [
        {
          "output_type": "stream",
          "name": "stdout",
          "text": [
            "3\n",
            "10 12 3 9\n",
            "33\n",
            "10 12 7 2\n",
            "-1\n",
            "13 11 5 6\n",
            "83\n"
          ]
        }
      ]
    }
  ]
}