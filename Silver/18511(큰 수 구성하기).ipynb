{
  "nbformat": 4,
  "nbformat_minor": 0,
  "metadata": {
    "colab": {
      "provenance": [],
      "authorship_tag": "ABX9TyMh2piwxJwHI+lr98VqZbXn",
      "include_colab_link": true
    },
    "kernelspec": {
      "name": "python3",
      "display_name": "Python 3"
    },
    "language_info": {
      "name": "python"
    }
  },
  "cells": [
    {
      "cell_type": "markdown",
      "metadata": {
        "id": "view-in-github",
        "colab_type": "text"
      },
      "source": [
        "<a href=\"https://colab.research.google.com/github/Dabin-Park/BaekJoon/blob/main/Silver/18511(%ED%81%B0%20%EC%88%98%20%EA%B5%AC%EC%84%B1%ED%95%98%EA%B8%B0).ipynb\" target=\"_parent\"><img src=\"https://colab.research.google.com/assets/colab-badge.svg\" alt=\"Open In Colab\"/></a>"
      ]
    },
    {
      "cell_type": "code",
      "source": [
        "from itertools import product\n",
        "\n",
        "def sol():\n",
        "    N = int(input().split()[0])\n",
        "    List = sorted(list(input().split()),reverse=True)\n",
        "    len_N = len(str(N))\n",
        "    while 1:\n",
        "        Num = list(product(List, repeat=len_N))\n",
        "        for num in Num:\n",
        "            num = int(\"\".join(num))\n",
        "            if num <= N:\n",
        "                return num\n",
        "        len_N -= 1\n",
        "        \n",
        "print(sol())"
      ],
      "metadata": {
        "id": "Eum8oDR9H9Ie",
        "colab": {
          "base_uri": "https://localhost:8080/"
        },
        "outputId": "669ca7e9-0e72-4a24-cf7f-f8dc5d1c86ce"
      },
      "execution_count": 1,
      "outputs": [
        {
          "output_type": "stream",
          "name": "stdout",
          "text": [
            "657 3\n",
            "1 5 7\n",
            "577\n"
          ]
        }
      ]
    }
  ]
}