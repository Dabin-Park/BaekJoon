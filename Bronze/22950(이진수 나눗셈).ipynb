{
  "nbformat": 4,
  "nbformat_minor": 0,
  "metadata": {
    "colab": {
      "provenance": [],
      "authorship_tag": "ABX9TyPw75AdbEgPelEN8v/uZ7zA",
      "include_colab_link": true
    },
    "kernelspec": {
      "name": "python3",
      "display_name": "Python 3"
    },
    "language_info": {
      "name": "python"
    }
  },
  "cells": [
    {
      "cell_type": "markdown",
      "metadata": {
        "id": "view-in-github",
        "colab_type": "text"
      },
      "source": [
        "<a href=\"https://colab.research.google.com/github/Dabin-Park/BaekJoon/blob/main/Bronze/22950(%EC%9D%B4%EC%A7%84%EC%88%98%20%EB%82%98%EB%88%97%EC%85%88).ipynb\" target=\"_parent\"><img src=\"https://colab.research.google.com/assets/colab-badge.svg\" alt=\"Open In Colab\"/></a>"
      ]
    },
    {
      "cell_type": "code",
      "source": [
        "def sol(_,M,K):\n",
        "    if K and \"1\" in M[-K:]:\n",
        "        return \"NO\"\n",
        "    return \"YES\"\n",
        "\n",
        "print(sol(input(),input().rstrip(),int(input())))"
      ],
      "metadata": {
        "colab": {
          "base_uri": "https://localhost:8080/"
        },
        "id": "e30J77TxSoAj",
        "outputId": "093eaca8-6fc8-4a2a-c58f-2886cbef133e"
      },
      "execution_count": 1,
      "outputs": [
        {
          "output_type": "stream",
          "name": "stdout",
          "text": [
            "8\n",
            "10000000\n",
            "6\n",
            "YES\n"
          ]
        }
      ]
    }
  ]
}