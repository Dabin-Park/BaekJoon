{
  "nbformat": 4,
  "nbformat_minor": 0,
  "metadata": {
    "colab": {
      "name": "Silver/9465(스티커).ipynb",
      "provenance": [],
      "authorship_tag": "ABX9TyNuRhn42gQ6B6Ui92Sc5CMD",
      "include_colab_link": true
    },
    "kernelspec": {
      "name": "python3",
      "display_name": "Python 3"
    },
    "language_info": {
      "name": "python"
    }
  },
  "cells": [
    {
      "cell_type": "markdown",
      "metadata": {
        "id": "view-in-github",
        "colab_type": "text"
      },
      "source": [
        "<a href=\"https://colab.research.google.com/github/Dabin-Park/BaekJoon/blob/main/Silver/9465(%EC%8A%A4%ED%8B%B0%EC%BB%A4).ipynb\" target=\"_parent\"><img src=\"https://colab.research.google.com/assets/colab-badge.svg\" alt=\"Open In Colab\"/></a>"
      ]
    },
    {
      "cell_type": "code",
      "execution_count": 2,
      "metadata": {
        "colab": {
          "base_uri": "https://localhost:8080/"
        },
        "id": "dT6CvtQPNnKQ",
        "outputId": "4808eafe-ad8b-4c22-8651-aec7f985d4f1"
      },
      "outputs": [
        {
          "output_type": "stream",
          "name": "stdout",
          "text": [
            "2\n",
            "5\n",
            "50 10 100 20 40\n",
            "30 50 70 10 60\n",
            "260\n",
            "7\n",
            "10 30 10 50 100 20 40\n",
            "20 40 30 50 60 20 80\n",
            "290\n"
          ]
        }
      ],
      "source": [
        "T = int(input())\n",
        "for _ in range(T):\n",
        "    n = int(input())\n",
        "    A = [list(map(int,input().split())) for _ in range(2)]\n",
        "    dp = [[0 for _ in range(n)] for _ in range(2)]\n",
        "    dp[0][0], dp[1][0] = A[0][0], A[1][0]\n",
        "    if n > 1:\n",
        "        for i in range(2):\n",
        "            dp[i][1] = dp[i-1][0] + A[i][1]\n",
        "            \n",
        "        for i in range(2,n):\n",
        "            for j in range(2):\n",
        "                dp[j][i] = max(dp[j-1][i-1],dp[j-1][i-2]) + A[j][i]\n",
        "                \n",
        "    print(max(dp[0][-1],dp[1][-1]))"
      ]
    },
    {
      "cell_type": "code",
      "source": [
        "T = int(input())\n",
        "for _ in range(T):\n",
        "    n = int(input())\n",
        "    sticker = [list(map(int,input().split())) for _ in range(2)]   \n",
        "    if n >= 2:\n",
        "        for i in range(2):\n",
        "            sticker[i][1] += sticker[i-1][0]\n",
        "        for j in range(2,n):\n",
        "            for i in range(2):\n",
        "                sticker[i][j] +=  max(sticker[i-1][j-1], sticker[i-1][j-2])\n",
        "                \n",
        "    print(max(sticker[0][n-1], sticker[1][n-1]))"
      ],
      "metadata": {
        "colab": {
          "base_uri": "https://localhost:8080/"
        },
        "id": "EJrD2BB4zAle",
        "outputId": "9226cc60-873d-4676-9334-e674e9ef359e"
      },
      "execution_count": 3,
      "outputs": [
        {
          "output_type": "stream",
          "name": "stdout",
          "text": [
            "2\n",
            "5\n",
            "50 10 100 20 40\n",
            "30 50 70 10 60\n",
            "260\n",
            "7\n",
            "10 30 10 50 100 20 40\n",
            "20 40 30 50 60 20 80\n",
            "290\n"
          ]
        }
      ]
    }
  ]
}