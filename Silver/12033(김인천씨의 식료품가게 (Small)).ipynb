{
  "nbformat": 4,
  "nbformat_minor": 0,
  "metadata": {
    "colab": {
      "provenance": [],
      "authorship_tag": "ABX9TyPfehJCLgfRBgj2bJYhPh8n",
      "include_colab_link": true
    },
    "kernelspec": {
      "name": "python3",
      "display_name": "Python 3"
    },
    "language_info": {
      "name": "python"
    }
  },
  "cells": [
    {
      "cell_type": "markdown",
      "metadata": {
        "id": "view-in-github",
        "colab_type": "text"
      },
      "source": [
        "<a href=\"https://colab.research.google.com/github/Dabin-Park/BaekJoon/blob/main/Silver/12033(%EA%B9%80%EC%9D%B8%EC%B2%9C%EC%94%A8%EC%9D%98%20%EC%8B%9D%EB%A3%8C%ED%92%88%EA%B0%80%EA%B2%8C%20(Small)).ipynb\" target=\"_parent\"><img src=\"https://colab.research.google.com/assets/colab-badge.svg\" alt=\"Open In Colab\"/></a>"
      ]
    },
    {
      "cell_type": "code",
      "source": [
        "def sol():\n",
        "    for i in range(1,int(input())+1):\n",
        "        N = int(input())\n",
        "        sale = {}\n",
        "        result = []\n",
        "        for s in map(int,input().split()[::-1]):\n",
        "            sa = (s//4)*3\n",
        "            if s in sale and sale[s]:\n",
        "                sale[s] -= 1        \n",
        "            else:\n",
        "                if sa in sale:\n",
        "                    sale[sa] += 1\n",
        "                else:\n",
        "                    sale[sa] = 1\n",
        "                result.append(sa)\n",
        "        print(f\"Case #{i}:\",*sorted(result))\n",
        "                \n",
        "sol()"
      ],
      "metadata": {
        "colab": {
          "base_uri": "https://localhost:8080/"
        },
        "id": "GksKdUFn3Mzd",
        "outputId": "0726adf4-750c-4240-a084-1a9c6cc912a0"
      },
      "execution_count": null,
      "outputs": [
        {
          "output_type": "stream",
          "name": "stdout",
          "text": [
            "2\n",
            "3\n",
            "15 20 60 75 80 100\n",
            "Case #1: 15 60 75\n",
            "4\n",
            "9 9 12 12 12 15 16 20\n",
            "Case #2: 9 9 12 15\n"
          ]
        }
      ]
    },
    {
      "cell_type": "code",
      "source": [
        "def sol():\n",
        "    for i in range(1,int(input())+1):\n",
        "        input()\n",
        "        List = list(map(int,input().split()))\n",
        "        Result = []\n",
        "        while List:\n",
        "            sale = (List.pop()//4)*3\n",
        "            Result.append(str(sale))\n",
        "            List.remove(sale)\n",
        "        print(f\"Case #{i}:\",\" \".join(Result[::-1]))\n",
        "                \n",
        "sol()"
      ],
      "metadata": {
        "colab": {
          "base_uri": "https://localhost:8080/"
        },
        "id": "nyRzXWDTRdKh",
        "outputId": "f9d107fc-190a-482e-bdda-4ec66b4e33dc"
      },
      "execution_count": null,
      "outputs": [
        {
          "output_type": "stream",
          "name": "stdout",
          "text": [
            "2\n",
            "3\n",
            "15 20 60 75 80 100\n",
            "Case #1: 15 60 75\n",
            "4\n",
            "9 9 12 12 12 15 16 20\n",
            "Case #2: 9 9 12 15\n"
          ]
        }
      ]
    }
  ]
}