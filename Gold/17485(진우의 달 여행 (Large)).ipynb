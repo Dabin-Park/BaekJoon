{
  "nbformat": 4,
  "nbformat_minor": 0,
  "metadata": {
    "colab": {
      "provenance": [],
      "authorship_tag": "ABX9TyOSPBulEAV02PG1j6fKqZGK",
      "include_colab_link": true
    },
    "kernelspec": {
      "name": "python3",
      "display_name": "Python 3"
    },
    "language_info": {
      "name": "python"
    }
  },
  "cells": [
    {
      "cell_type": "markdown",
      "metadata": {
        "id": "view-in-github",
        "colab_type": "text"
      },
      "source": [
        "<a href=\"https://colab.research.google.com/github/Dabin-Park/BaekJoon/blob/main/Gold/17485(%EC%A7%84%EC%9A%B0%EC%9D%98%20%EB%8B%AC%20%EC%97%AC%ED%96%89%20(Large)).ipynb\" target=\"_parent\"><img src=\"https://colab.research.google.com/assets/colab-badge.svg\" alt=\"Open In Colab\"/></a>"
      ]
    },
    {
      "cell_type": "code",
      "source": [
        "def sol():\n",
        "    N,M = map(int,input().split())\n",
        "    Way = [list(map(int,input().split())) for _ in range(N)]\n",
        "    min_ = float(\"inf\")\n",
        "    dp = [[[min_]*3] + [[a]*3 for a in Way[0]] + [[min_]*3]] + [[[min_]*3] +[[0]*3 for _ in range(M)]+[[min_]*3] for _ in range(N-1)]\n",
        "    for i in range(1,N-1):\n",
        "        for j in range(1,M+1):\n",
        "            for k in range(3):\n",
        "                dp[i][j][k] = min(dp[i-1][j-1+k][:k]+dp[i-1][j-1+k][k+1:]) + Way[i][j-1]\n",
        "    for j in range(1,M+1):\n",
        "        for k in range(3):\n",
        "            min_ = min(min_,min(dp[-2][j-1+k][:k]+dp[-2][j-1+k][k+1:]) + Way[-1][j-1])\n",
        "    return min_\n",
        "\n",
        "print(sol())"
      ],
      "metadata": {
        "colab": {
          "base_uri": "https://localhost:8080/"
        },
        "id": "tVe3A1mE7-1_",
        "outputId": "abf6bb7e-b871-475f-dfd7-a42d50bda6b5"
      },
      "execution_count": 3,
      "outputs": [
        {
          "output_type": "stream",
          "name": "stdout",
          "text": [
            "6 4\n",
            "5 8 5 1\n",
            "3 5 8 4\n",
            "9 77 65 5\n",
            "2 1 5 2\n",
            "5 98 1 5\n",
            "4 95 67 58\n",
            "29\n"
          ]
        }
      ]
    },
    {
      "cell_type": "code",
      "source": [
        "def sol():\n",
        "    N,M = map(int,input().split())\n",
        "    min_ = float(\"inf\")\n",
        "    dp = [[min_]*3] + [[a]*3 for a in  list(map(int,input().split()))]+ [[min_]*3]\n",
        "    for _ in range(N-1):\n",
        "        next = [min_]+ list(map(int,input().split()))+ [min_]\n",
        "        next_dp = [[min_]*3] + [[0]*3 for _ in range(M)]+ [[min_]*3]\n",
        "        for i in range(1,M+1):\n",
        "            for j in range(3):\n",
        "                next_dp[i][j] = min(dp[i+j-1][:j]+dp[i+j-1][j+1:]) + next[i]\n",
        "        dp = next_dp\n",
        "\n",
        "    return min([min(dp[i]) for i in range(1, M+1)])\n",
        "\n",
        "print(sol())"
      ],
      "metadata": {
        "colab": {
          "base_uri": "https://localhost:8080/"
        },
        "id": "Yt_2fLlSRGII",
        "outputId": "b5157161-6e3a-4f0d-cc03-8c847fc64e2c"
      },
      "execution_count": 4,
      "outputs": [
        {
          "output_type": "stream",
          "name": "stdout",
          "text": [
            "6 4\n",
            "5 8 5 1\n",
            "3 5 8 4\n",
            "9 77 65 5\n",
            "2 1 5 2\n",
            "5 98 1 5\n",
            "4 95 67 58\n",
            "29\n"
          ]
        }
      ]
    }
  ]
}