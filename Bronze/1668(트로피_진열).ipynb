{
  "nbformat": 4,
  "nbformat_minor": 0,
  "metadata": {
    "colab": {
      "provenance": []
    },
    "kernelspec": {
      "name": "python3",
      "display_name": "Python 3"
    },
    "language_info": {
      "name": "python"
    }
  },
  "cells": [
    {
      "cell_type": "code",
      "source": [
        "def sol(N):\n",
        "    Trophy = [int(input()) for _ in range(N)]\n",
        "    left = right = 1\n",
        "    left_max, right_max  = Trophy[0], Trophy[-1]\n",
        "    for i in range(1,N):\n",
        "        if left_max < Trophy[i]:\n",
        "            left_max = Trophy[i]\n",
        "            left += 1\n",
        "        if right_max < Trophy[-i-1]:\n",
        "            right_max = Trophy[-i-1]\n",
        "            right += 1\n",
        "    print(left,right,sep=\"\\n\")\n",
        "        \n",
        "sol(int(input()))        "
      ],
      "metadata": {
        "colab": {
          "base_uri": "https://localhost:8080/"
        },
        "id": "-n7Jl3MFSbU9",
        "outputId": "edfbc537-a519-4739-92e4-6308de954114"
      },
      "execution_count": 1,
      "outputs": [
        {
          "output_type": "stream",
          "name": "stdout",
          "text": [
            "5\n",
            "1\n",
            "2\n",
            "3\n",
            "4\n",
            "5\n",
            "5\n",
            "1\n"
          ]
        }
      ]
    }
  ]
}