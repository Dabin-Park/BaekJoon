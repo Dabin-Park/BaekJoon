{
  "nbformat": 4,
  "nbformat_minor": 0,
  "metadata": {
    "colab": {
      "name": "14425(문자열 집합).ipynb",
      "provenance": [],
      "authorship_tag": "ABX9TyOtfmoI2jRXD5b7EwyrlG2O",
      "include_colab_link": true
    },
    "kernelspec": {
      "name": "python3",
      "display_name": "Python 3"
    },
    "language_info": {
      "name": "python"
    }
  },
  "cells": [
    {
      "cell_type": "markdown",
      "metadata": {
        "id": "view-in-github",
        "colab_type": "text"
      },
      "source": [
        "<a href=\"https://colab.research.google.com/github/Dabin-Park/BaekJoon/blob/main/Silver/14425(%EB%AC%B8%EC%9E%90%EC%97%B4%20%EC%A7%91%ED%95%A9).ipynb\" target=\"_parent\"><img src=\"https://colab.research.google.com/assets/colab-badge.svg\" alt=\"Open In Colab\"/></a>"
      ]
    },
    {
      "cell_type": "code",
      "source": [
        "N,M = map(int,input().split())\n",
        "S = set(input() for _ in range(N))\n",
        "num = 0\n",
        "for _ in range(M):\n",
        "    N = input()\n",
        "    if N in S:  # set에서 in 은 O(1)\n",
        "        num += 1\n",
        "        \n",
        "print(num)"
      ],
      "metadata": {
        "colab": {
          "base_uri": "https://localhost:8080/"
        },
        "id": "4NDvOBDhbpRD",
        "outputId": "92a0cb4e-a96a-4324-c4cd-4b6e78f8ec7d"
      },
      "execution_count": 1,
      "outputs": [
        {
          "output_type": "stream",
          "name": "stdout",
          "text": [
            "5 11\n",
            "baekjoononlinejudge\n",
            "startlink\n",
            "codeplus\n",
            "sundaycoding\n",
            "codingsh\n",
            "baekjoon\n",
            "codeplus\n",
            "codeminus\n",
            "startlink\n",
            "starlink\n",
            "sundaycoding\n",
            "codingsh\n",
            "codinghs\n",
            "sondaycoding\n",
            "startrink\n",
            "icerink\n",
            "4\n"
          ]
        }
      ]
    },
    {
      "cell_type": "code",
      "source": [
        "N, M = map(int,input().split())\n",
        "strings = {}\n",
        "for i in range(N):\n",
        "    name = input().strip()\n",
        "    strings[name] = 1\n",
        "\n",
        "total = 0\n",
        "for _ in range(M):\n",
        "    name = input().strip()\n",
        "    total += strings.get(name, 0)   # name이 strings에 있으면 name value를 반환 하고 아니면 0을 반환\n",
        "\n",
        "print(total)"
      ],
      "metadata": {
        "colab": {
          "base_uri": "https://localhost:8080/"
        },
        "id": "fsNyeoIhCfUU",
        "outputId": "8ece106e-4656-4587-de45-6adb91404334"
      },
      "execution_count": 2,
      "outputs": [
        {
          "output_type": "stream",
          "name": "stdout",
          "text": [
            "5 11\n",
            "baekjoononlinejudge\n",
            "startlink\n",
            "codeplus\n",
            "sundaycoding\n",
            "codingsh\n",
            "baekjoon\n",
            "codeplus\n",
            "codeminus\n",
            "startlink\n",
            "starlink\n",
            "sundaycoding\n",
            "codingsh\n",
            "codinghs\n",
            "sondaycoding\n",
            "startrink\n",
            "icerink\n",
            "4\n"
          ]
        }
      ]
    }
  ]
}