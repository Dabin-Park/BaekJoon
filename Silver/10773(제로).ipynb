{
  "nbformat": 4,
  "nbformat_minor": 0,
  "metadata": {
    "colab": {
      "name": "10773(제로).ipynb",
      "provenance": [],
      "authorship_tag": "ABX9TyNBBXHbV2uK7PNzM1lX79F1",
      "include_colab_link": true
    },
    "kernelspec": {
      "name": "python3",
      "display_name": "Python 3"
    },
    "language_info": {
      "name": "python"
    }
  },
  "cells": [
    {
      "cell_type": "markdown",
      "metadata": {
        "id": "view-in-github",
        "colab_type": "text"
      },
      "source": [
        "<a href=\"https://colab.research.google.com/github/Dabin-Park/BaekJoon/blob/main/Silver/10773(%EC%A0%9C%EB%A1%9C).ipynb\" target=\"_parent\"><img src=\"https://colab.research.google.com/assets/colab-badge.svg\" alt=\"Open In Colab\"/></a>"
      ]
    },
    {
      "cell_type": "code",
      "source": [
        "K = int(input())\n",
        "Money = []\n",
        "for _ in range(K):\n",
        "    N = int(input())\n",
        "    if N:\n",
        "        Money.append(N)\n",
        "    else:\n",
        "        Money.pop()\n",
        "        \n",
        "print(sum(Money))"
      ],
      "metadata": {
        "colab": {
          "base_uri": "https://localhost:8080/"
        },
        "id": "4NDvOBDhbpRD",
        "outputId": "3b27f596-9fea-49f5-b9e8-d55ecef6e6be"
      },
      "execution_count": 5,
      "outputs": [
        {
          "output_type": "stream",
          "name": "stdout",
          "text": [
            "10\n",
            "1\n",
            "3\n",
            "5\n",
            "4\n",
            "0\n",
            "0\n",
            "7\n",
            "0\n",
            "0\n",
            "6\n",
            "7\n"
          ]
        }
      ]
    }
  ]
}