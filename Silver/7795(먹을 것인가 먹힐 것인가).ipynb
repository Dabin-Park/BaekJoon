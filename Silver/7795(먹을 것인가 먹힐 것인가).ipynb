{
  "nbformat": 4,
  "nbformat_minor": 0,
  "metadata": {
    "colab": {
      "provenance": [],
      "authorship_tag": "ABX9TyPfD6sErNkGFTustkEhLHgU",
      "include_colab_link": true
    },
    "kernelspec": {
      "name": "python3",
      "display_name": "Python 3"
    },
    "language_info": {
      "name": "python"
    }
  },
  "cells": [
    {
      "cell_type": "markdown",
      "metadata": {
        "id": "view-in-github",
        "colab_type": "text"
      },
      "source": [
        "<a href=\"https://colab.research.google.com/github/Dabin-Park/BaekJoon/blob/main/Silver/7795(%EB%A8%B9%EC%9D%84%20%EA%B2%83%EC%9D%B8%EA%B0%80%20%EB%A8%B9%ED%9E%90%20%EA%B2%83%EC%9D%B8%EA%B0%80).ipynb\" target=\"_parent\"><img src=\"https://colab.research.google.com/assets/colab-badge.svg\" alt=\"Open In Colab\"/></a>"
      ]
    },
    {
      "cell_type": "code",
      "source": [
        "def sol():\n",
        "    for _ in range(int(input())):\n",
        "        N,M = map(int,input().split())\n",
        "        A = sorted(list(map(int,input().split())))\n",
        "        B = sorted(list(map(int,input().split())))\n",
        "        num = n = 0\n",
        "        for a in A:\n",
        "            if a > B[0]:\n",
        "                if a > B[-1]:\n",
        "                    num += M\n",
        "                else:\n",
        "                    s,e = n, M-1\n",
        "                    while s <= e:\n",
        "                        m = (s+e)//2\n",
        "                        if B[m] < a:\n",
        "                            s = m+1\n",
        "                        else:\n",
        "                            e = m-1\n",
        "                    n = min(s,e)+1\n",
        "                    num += n\n",
        "        print(num)\n",
        "\n",
        "sol()"
      ],
      "metadata": {
        "colab": {
          "base_uri": "https://localhost:8080/"
        },
        "id": "8BV4BOoMl-cj",
        "outputId": "d04cb8a0-3c73-4217-b5f5-9ae92da13da3"
      },
      "execution_count": 1,
      "outputs": [
        {
          "output_type": "stream",
          "name": "stdout",
          "text": [
            "2\n",
            "5 3\n",
            "8 1 7 3 1\n",
            "3 6 1\n",
            "7\n",
            "3 4\n",
            "2 13 7\n",
            "103 11 290 215\n",
            "1\n"
          ]
        }
      ]
    },
    {
      "cell_type": "code",
      "source": [
        "def sol():\n",
        "    for _ in range(int(input())):\n",
        "        _,M = map(int,input().split())\n",
        "        A = sorted(list(map(int,input().split())))\n",
        "        B = sorted(list(map(int,input().split())))\n",
        "        num = n = 0\n",
        "        for a in A:\n",
        "            while n < M and a > B[n]:\n",
        "                n += 1\n",
        "            num += n\n",
        "        print(num)\n",
        "\n",
        "sol()"
      ],
      "metadata": {
        "colab": {
          "base_uri": "https://localhost:8080/"
        },
        "id": "Wf1zqg3P9ONw",
        "outputId": "c2b9460a-c3cb-43b3-8505-30dbe5ed6119"
      },
      "execution_count": 2,
      "outputs": [
        {
          "output_type": "stream",
          "name": "stdout",
          "text": [
            "2\n",
            "5 3\n",
            "8 1 7 3 1\n",
            "3 6 1\n",
            "7\n",
            "3 4\n",
            "2 13 7\n",
            "103 11 290 215\n",
            "1\n"
          ]
        }
      ]
    }
  ]
}