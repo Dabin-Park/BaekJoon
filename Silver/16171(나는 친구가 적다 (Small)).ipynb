{
  "cells": [
    {
      "cell_type": "markdown",
      "metadata": {
        "id": "view-in-github",
        "colab_type": "text"
      },
      "source": [
        "<a href=\"https://colab.research.google.com/github/Dabin-Park/BaekJoon/blob/main/Silver/16171(%EB%82%98%EB%8A%94%20%EC%B9%9C%EA%B5%AC%EA%B0%80%20%EC%A0%81%EB%8B%A4%20(Small)).ipynb\" target=\"_parent\"><img src=\"https://colab.research.google.com/assets/colab-badge.svg\" alt=\"Open In Colab\"/></a>"
      ]
    },
    {
      "cell_type": "code",
      "source": [
        "S = input()\n",
        "K = input()\n",
        "t = ''\n",
        "\n",
        "for a in S:\n",
        "    n = ord(a)\n",
        "    if n >= 48 and n <= 57:\n",
        "        continue\n",
        "    else :\n",
        "        t += a\n",
        "        \n",
        "if K in t:\n",
        "    print(1)\n",
        "else:\n",
        "    print(0)"
      ],
      "metadata": {
        "id": "HBwwya3y6Eyo",
        "outputId": "b98278b8-07d0-4347-d83d-06c81296e256",
        "colab": {
          "base_uri": "https://localhost:8080/"
        }
      },
      "execution_count": 1,
      "outputs": [
        {
          "output_type": "stream",
          "name": "stdout",
          "text": [
            "1q2w3e4r5t6y\n",
            "qwerty\n",
            "1\n"
          ]
        }
      ]
    },
    {
      "cell_type": "code",
      "source": [
        "S = input()\n",
        "K = input()\n",
        "t = ''\n",
        "num = str('0123456789')\n",
        "\n",
        "for a in S:\n",
        "    if a not in num:\n",
        "        t += a\n",
        "        \n",
        "if K in t:\n",
        "    print(1)\n",
        "else:\n",
        "    print(0)"
      ],
      "metadata": {
        "colab": {
          "base_uri": "https://localhost:8080/"
        },
        "id": "x4t0jhHu0JqX",
        "outputId": "e87cbcff-2cb4-432f-fbb0-3060fc65bb80"
      },
      "execution_count": 2,
      "outputs": [
        {
          "output_type": "stream",
          "name": "stdout",
          "text": [
            "1q2w3e4r5t6y\n",
            "qwerty\n",
            "1\n"
          ]
        }
      ]
    }
  ],
  "metadata": {
    "colab": {
      "name": "16171(나는 친구가 적다 (Small)).ipynb",
      "provenance": [],
      "collapsed_sections": [],
      "authorship_tag": "ABX9TyMFvBfsl5ZwfsOLMCdb3nGF",
      "include_colab_link": true
    },
    "kernelspec": {
      "display_name": "Python 3",
      "name": "python3"
    },
    "language_info": {
      "name": "python"
    }
  },
  "nbformat": 4,
  "nbformat_minor": 0
}