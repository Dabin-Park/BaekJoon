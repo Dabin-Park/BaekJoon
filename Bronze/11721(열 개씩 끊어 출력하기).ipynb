{
  "nbformat": 4,
  "nbformat_minor": 0,
  "metadata": {
    "colab": {
      "provenance": [],
      "collapsed_sections": [],
      "authorship_tag": "ABX9TyORExi+BDglEW2fqcaIN+fO",
      "include_colab_link": true
    },
    "kernelspec": {
      "name": "python3",
      "display_name": "Python 3"
    },
    "language_info": {
      "name": "python"
    }
  },
  "cells": [
    {
      "cell_type": "markdown",
      "metadata": {
        "id": "view-in-github",
        "colab_type": "text"
      },
      "source": [
        "<a href=\"https://colab.research.google.com/github/Dabin-Park/BaekJoon/blob/main/Bronze/11721(%EC%97%B4%20%EA%B0%9C%EC%94%A9%20%EB%81%8A%EC%96%B4%20%EC%B6%9C%EB%A0%A5%ED%95%98%EA%B8%B0).ipynb\" target=\"_parent\"><img src=\"https://colab.research.google.com/assets/colab-badge.svg\" alt=\"Open In Colab\"/></a>"
      ]
    },
    {
      "cell_type": "code",
      "source": [
        "def sol():\n",
        "    for i,word in enumerate(input().rstrip()):\n",
        "        if (i+1)%10 == 0:\n",
        "            print(word)\n",
        "        else:\n",
        "            print(word,end = \"\")\n",
        "\n",
        "sol()"
      ],
      "metadata": {
        "id": "k7eFI1eAZZ1Z",
        "outputId": "05e2909c-b14d-4207-dc8c-a52deaf23e54",
        "colab": {
          "base_uri": "https://localhost:8080/"
        }
      },
      "execution_count": 1,
      "outputs": [
        {
          "output_type": "stream",
          "name": "stdout",
          "text": [
            "BaekjoonOnlineJudge\n",
            "BaekjoonOn\n",
            "lineJudge"
          ]
        }
      ]
    }
  ]
}