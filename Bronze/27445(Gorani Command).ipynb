{
  "nbformat": 4,
  "nbformat_minor": 0,
  "metadata": {
    "colab": {
      "provenance": [],
      "authorship_tag": "ABX9TyNuE4f5BrCNmT4FYDJoT90m",
      "include_colab_link": true
    },
    "kernelspec": {
      "name": "python3",
      "display_name": "Python 3"
    },
    "language_info": {
      "name": "python"
    }
  },
  "cells": [
    {
      "cell_type": "markdown",
      "metadata": {
        "id": "view-in-github",
        "colab_type": "text"
      },
      "source": [
        "<a href=\"https://colab.research.google.com/github/Dabin-Park/BaekJoon/blob/main/Bronze/27445(Gorani%20Command).ipynb\" target=\"_parent\"><img src=\"https://colab.research.google.com/assets/colab-badge.svg\" alt=\"Open In Colab\"/></a>"
      ]
    },
    {
      "cell_type": "code",
      "source": [
        "def sol():\n",
        "    N, M = map(int, input().split())\n",
        "    A = [int(input()) for _ in range(N-1)]\n",
        "    B = list(map(int,input().split()))\n",
        "    A.append(B[0])\n",
        "\n",
        "    r = A.index(min(A))+1\n",
        "    c = B.index(min(B))+1\n",
        "    print(r, c)\n",
        "sol()"
      ],
      "metadata": {
        "colab": {
          "base_uri": "https://localhost:8080/"
        },
        "id": "e30J77TxSoAj",
        "outputId": "5d0562d8-30ca-46a7-c183-d148f193b280"
      },
      "execution_count": 1,
      "outputs": [
        {
          "output_type": "stream",
          "name": "stdout",
          "text": [
            "4 5\n",
            "4\n",
            "3\n",
            "4\n",
            "5 4 3 2 3\n",
            "2 4\n"
          ]
        }
      ]
    }
  ]
}