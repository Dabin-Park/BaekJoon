{
  "nbformat": 4,
  "nbformat_minor": 0,
  "metadata": {
    "colab": {
      "provenance": [],
      "authorship_tag": "ABX9TyMTpXITYUuwRdp/ISTtkvbS",
      "include_colab_link": true
    },
    "kernelspec": {
      "name": "python3",
      "display_name": "Python 3"
    },
    "language_info": {
      "name": "python"
    }
  },
  "cells": [
    {
      "cell_type": "markdown",
      "metadata": {
        "id": "view-in-github",
        "colab_type": "text"
      },
      "source": [
        "<a href=\"https://colab.research.google.com/github/Dabin-Park/BaekJoon/blob/main/Silver/15904(UCPC%EB%8A%94%20%EB%AC%B4%EC%97%87%EC%9D%98%20%EC%95%BD%EC%9E%90%EC%9D%BC%EA%B9%8C%3F).ipynb\" target=\"_parent\"><img src=\"https://colab.research.google.com/assets/colab-badge.svg\" alt=\"Open In Colab\"/></a>"
      ]
    },
    {
      "cell_type": "code",
      "source": [
        "def sol(i):\n",
        "    for S in input().split():\n",
        "        for s in S:\n",
        "            if s.isupper() and s == U[i]:\n",
        "                i += 1\n",
        "                if i == 4:\n",
        "                    return \"love\"\n",
        "    return 'hate'\n",
        "\n",
        "U = \"UCPC\"\n",
        "print(\"I\",sol(0),U)"
      ],
      "metadata": {
        "id": "Eum8oDR9H9Ie",
        "colab": {
          "base_uri": "https://localhost:8080/"
        },
        "outputId": "3388017d-1e61-48a7-8df2-473217862453"
      },
      "execution_count": 1,
      "outputs": [
        {
          "output_type": "stream",
          "name": "stdout",
          "text": [
            "Union of Computer Programming Contest club contest\n",
            "I love UCPC\n"
          ]
        }
      ]
    }
  ]
}