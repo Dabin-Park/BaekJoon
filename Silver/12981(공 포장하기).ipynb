{
  "nbformat": 4,
  "nbformat_minor": 0,
  "metadata": {
    "colab": {
      "name": "12981(공 포장하기).ipynb",
      "provenance": [],
      "authorship_tag": "ABX9TyMW4utREvjAZuDAJAeD0Yj3",
      "include_colab_link": true
    },
    "kernelspec": {
      "name": "python3",
      "display_name": "Python 3"
    },
    "language_info": {
      "name": "python"
    }
  },
  "cells": [
    {
      "cell_type": "markdown",
      "metadata": {
        "id": "view-in-github",
        "colab_type": "text"
      },
      "source": [
        "<a href=\"https://colab.research.google.com/github/Dabin-Park/BaekJoon/blob/main/Silver/12981(%EA%B3%B5%20%ED%8F%AC%EC%9E%A5%ED%95%98%EA%B8%B0).ipynb\" target=\"_parent\"><img src=\"https://colab.research.google.com/assets/colab-badge.svg\" alt=\"Open In Colab\"/></a>"
      ]
    },
    {
      "cell_type": "code",
      "source": [
        "R,G,B = map(int,input().split())\n",
        "num = R//3 + G//3 + B//3\n",
        "A = [R%3,G%3,B%3]\n",
        "\n",
        "while 1:\n",
        "    n = A.count(0)\n",
        "    if n > 1:\n",
        "        if n == 2:\n",
        "            num += 1\n",
        "        break\n",
        "    else:\n",
        "        num += 1\n",
        "        for i in range(3):\n",
        "            if A[i]:\n",
        "                A[i] -= 1\n",
        "    \n",
        "print(num)"
      ],
      "metadata": {
        "colab": {
          "base_uri": "https://localhost:8080/"
        },
        "id": "whXH70HTj9iH",
        "outputId": "818a69cd-a72c-4b84-c788-fc29adf581e9"
      },
      "execution_count": 1,
      "outputs": [
        {
          "output_type": "stream",
          "name": "stdout",
          "text": [
            "4 2 4\n",
            "4\n"
          ]
        }
      ]
    }
  ]
}