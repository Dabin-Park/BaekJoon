{
  "nbformat": 4,
  "nbformat_minor": 0,
  "metadata": {
    "colab": {
      "name": "Silver/2805(나무 자르기).ipynb",
      "provenance": [],
      "authorship_tag": "ABX9TyOYbQOv6jJh3hP1fwCJxs83",
      "include_colab_link": true
    },
    "kernelspec": {
      "name": "python3",
      "display_name": "Python 3"
    },
    "language_info": {
      "name": "python"
    }
  },
  "cells": [
    {
      "cell_type": "markdown",
      "metadata": {
        "id": "view-in-github",
        "colab_type": "text"
      },
      "source": [
        "<a href=\"https://colab.research.google.com/github/Dabin-Park/BaekJoon/blob/main/Silver/2805(%EB%82%98%EB%AC%B4%20%EC%9E%90%EB%A5%B4%EA%B8%B0).ipynb\" target=\"_parent\"><img src=\"https://colab.research.google.com/assets/colab-badge.svg\" alt=\"Open In Colab\"/></a>"
      ]
    },
    {
      "cell_type": "code",
      "execution_count": 1,
      "metadata": {
        "colab": {
          "base_uri": "https://localhost:8080/"
        },
        "id": "dT6CvtQPNnKQ",
        "outputId": "dfa4807c-5e5a-478b-8a85-e64f4bc7d799"
      },
      "outputs": [
        {
          "output_type": "stream",
          "name": "stdout",
          "text": [
            "4 7\n",
            "20 15 10 17\n",
            "15\n"
          ]
        }
      ],
      "source": [
        "N,M = map(int,input().split())\n",
        "Tree = list(map(int,input().split()))\n",
        "Tree.sort(reverse=True)\n",
        "if N > 1:\n",
        "    a = Tree[0]-Tree[1]\n",
        "    num,i = 1,0\n",
        "    while a < M and i < N-2:\n",
        "        i += 1\n",
        "        num += 1\n",
        "        a += (Tree[i]-Tree[i+1])*num\n",
        "\n",
        "    if a == M:\n",
        "        print(Tree[num])\n",
        "    elif a < M:\n",
        "        if (M-a)%N:\n",
        "            print(Tree[-1]-((M-a)//N+1))\n",
        "        else:\n",
        "            print(Tree[-1]-((M-a)//N))   \n",
        "    else:\n",
        "        print(Tree[num]+(a-M)//num)\n",
        "else:\n",
        "    print(Tree[0]-M)"
      ]
    }
  ]
}