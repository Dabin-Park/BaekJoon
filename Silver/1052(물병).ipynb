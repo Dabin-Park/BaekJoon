{
  "nbformat": 4,
  "nbformat_minor": 0,
  "metadata": {
    "colab": {
      "name": "1052(물병).ipynb",
      "provenance": [],
      "authorship_tag": "ABX9TyM9Ji7kBb2gsh1e3sLs1BsG",
      "include_colab_link": true
    },
    "kernelspec": {
      "name": "python3",
      "display_name": "Python 3"
    },
    "language_info": {
      "name": "python"
    }
  },
  "cells": [
    {
      "cell_type": "markdown",
      "metadata": {
        "id": "view-in-github",
        "colab_type": "text"
      },
      "source": [
        "<a href=\"https://colab.research.google.com/github/Dabin-Park/BaekJoon/blob/main/Silver/1052(%EB%AC%BC%EB%B3%91).ipynb\" target=\"_parent\"><img src=\"https://colab.research.google.com/assets/colab-badge.svg\" alt=\"Open In Colab\"/></a>"
      ]
    },
    {
      "cell_type": "code",
      "source": [
        "N, K = map(int,input().split())\n",
        "a = bin(N)[::-1]\n",
        "A = [i  for i in range(len(a)-2) if a[i] == '1'][::-1]\n",
        "\n",
        "num = 0 \n",
        "n = len(A)\n",
        "while n > K:\n",
        "    if A[-1] != A[-2]:\n",
        "        num += 2**A[-1]\n",
        "    else:\n",
        "        A.pop()\n",
        "        n -= 1\n",
        "    A[-1] += 1\n",
        "    \n",
        "print(num)"
      ],
      "metadata": {
        "colab": {
          "base_uri": "https://localhost:8080/"
        },
        "id": "4NDvOBDhbpRD",
        "outputId": "9b25eae1-5069-4277-a623-a6441df037d4"
      },
      "execution_count": 1,
      "outputs": [
        {
          "output_type": "stream",
          "name": "stdout",
          "text": [
            "1000000 5\n",
            "15808\n"
          ]
        }
      ]
    }
  ]
}