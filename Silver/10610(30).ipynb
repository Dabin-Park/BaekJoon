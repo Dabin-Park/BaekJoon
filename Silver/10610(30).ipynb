{
  "nbformat": 4,
  "nbformat_minor": 0,
  "metadata": {
    "colab": {
      "provenance": [],
      "collapsed_sections": [],
      "authorship_tag": "ABX9TyO4zr7ZqnpfJV0otrqnxQci",
      "include_colab_link": true
    },
    "kernelspec": {
      "name": "python3",
      "display_name": "Python 3"
    },
    "language_info": {
      "name": "python"
    }
  },
  "cells": [
    {
      "cell_type": "markdown",
      "metadata": {
        "id": "view-in-github",
        "colab_type": "text"
      },
      "source": [
        "<a href=\"https://colab.research.google.com/github/Dabin-Park/BaekJoon/blob/main/Silver/10610(30).ipynb\" target=\"_parent\"><img src=\"https://colab.research.google.com/assets/colab-badge.svg\" alt=\"Open In Colab\"/></a>"
      ]
    },
    {
      "cell_type": "code",
      "source": [
        "# 3의 배수 : 모든 자리의 합이 3의 배수\n",
        "# 10의 배수 : 마지막 자리가 0\n",
        "\n",
        "N = sorted(list(input()),reverse=True)\n",
        "\n",
        "print(\"\".join(N) if N[-1] == '0' and sum(map(int,N))%3==0 else -1)"
      ],
      "metadata": {
        "colab": {
          "base_uri": "https://localhost:8080/"
        },
        "id": "FkOjEsTjVrUB",
        "outputId": "e6912aa6-7b09-43ed-a204-7d7bfbdfe668"
      },
      "execution_count": 1,
      "outputs": [
        {
          "output_type": "stream",
          "name": "stdout",
          "text": [
            "102\n",
            "210\n"
          ]
        }
      ]
    }
  ]
}