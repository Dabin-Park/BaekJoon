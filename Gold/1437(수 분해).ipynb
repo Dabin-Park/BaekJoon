{
  "nbformat": 4,
  "nbformat_minor": 0,
  "metadata": {
    "colab": {
      "name": "1437(수 분해).ipynb",
      "provenance": [],
      "authorship_tag": "ABX9TyNzeP1vgUGJpowjQgOdx1k4",
      "include_colab_link": true
    },
    "kernelspec": {
      "name": "python3",
      "display_name": "Python 3"
    },
    "language_info": {
      "name": "python"
    }
  },
  "cells": [
    {
      "cell_type": "markdown",
      "metadata": {
        "id": "view-in-github",
        "colab_type": "text"
      },
      "source": [
        "<a href=\"https://colab.research.google.com/github/Dabin-Park/BaekJoon/blob/main/Gold/1437(%EC%88%98%20%EB%B6%84%ED%95%B4).ipynb\" target=\"_parent\"><img src=\"https://colab.research.google.com/assets/colab-badge.svg\" alt=\"Open In Colab\"/></a>"
      ]
    },
    {
      "cell_type": "code",
      "source": [
        "N = int(input())\n",
        "num = 1\n",
        "while N >= 5:\n",
        "    num = (3*num)%10007\n",
        "    N -= 3\n",
        "\n",
        "print((num*N)%10007)"
      ],
      "metadata": {
        "colab": {
          "base_uri": "https://localhost:8080/"
        },
        "id": "4NDvOBDhbpRD",
        "outputId": "1c64dbd1-2068-42fd-bdd1-127f82382e7c"
      },
      "execution_count": 2,
      "outputs": [
        {
          "output_type": "stream",
          "name": "stdout",
          "text": [
            "9931\n",
            "4664\n"
          ]
        }
      ]
    }
  ]
}