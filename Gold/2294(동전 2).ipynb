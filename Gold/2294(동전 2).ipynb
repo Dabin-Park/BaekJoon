{
  "nbformat": 4,
  "nbformat_minor": 0,
  "metadata": {
    "colab": {
      "name": "2294(동전 2).ipynb",
      "provenance": [],
      "authorship_tag": "ABX9TyPi8ksJauNDvp0Yu7rnyhob",
      "include_colab_link": true
    },
    "kernelspec": {
      "name": "python3",
      "display_name": "Python 3"
    },
    "language_info": {
      "name": "python"
    }
  },
  "cells": [
    {
      "cell_type": "markdown",
      "metadata": {
        "id": "view-in-github",
        "colab_type": "text"
      },
      "source": [
        "<a href=\"https://colab.research.google.com/github/Dabin-Park/BaekJoon/blob/main/Gold/2294(%EB%8F%99%EC%A0%84%202).ipynb\" target=\"_parent\"><img src=\"https://colab.research.google.com/assets/colab-badge.svg\" alt=\"Open In Colab\"/></a>"
      ]
    },
    {
      "cell_type": "code",
      "source": [
        "n,k = map(int,input().split())\n",
        "dp = [0 for _ in range(k+1)]\n",
        "Numbers = list(set(int(input()) for _ in range(n)))\n",
        "\n",
        "for N in Numbers:\n",
        "    if N <= k:\n",
        "        dp[N] = 1\n",
        "        for i in range(N+1,k+1):\n",
        "            if dp[i-N]:\n",
        "                if dp[i]:\n",
        "                    dp[i] = min(dp[i],dp[i-N]+1)\n",
        "                else:\n",
        "                    dp[i] = dp[i-N]+1\n",
        "\n",
        "if dp[-1]:\n",
        "    print(dp[-1])\n",
        "else:\n",
        "    print(-1)"
      ],
      "metadata": {
        "colab": {
          "base_uri": "https://localhost:8080/"
        },
        "id": "4NDvOBDhbpRD",
        "outputId": "0816681e-2730-4a1d-9f92-aa02df697496"
      },
      "execution_count": 1,
      "outputs": [
        {
          "output_type": "stream",
          "name": "stdout",
          "text": [
            "3 15\n",
            "1\n",
            "5\n",
            "12\n",
            "3\n"
          ]
        }
      ]
    },
    {
      "cell_type": "code",
      "source": [
        "n,k = map(int,input().split())\n",
        "Numbers = list(set(int(input()) for _ in range(n)))\n",
        "\n",
        "dp = [0] + [10001 for _ in range(k)]\n",
        "\n",
        "for N in Numbers:\n",
        "    for i in range(N,k+1):\n",
        "        dp[i] = min(dp[i],dp[i-N]+1)\n",
        "\n",
        "if dp[-1] < 10001:\n",
        "    print(dp[-1])\n",
        "else:\n",
        "    print(-1)"
      ],
      "metadata": {
        "colab": {
          "base_uri": "https://localhost:8080/"
        },
        "id": "yBRljhUqJRWB",
        "outputId": "24d0b747-7c4c-435a-92ee-5e25b372df3c"
      },
      "execution_count": 2,
      "outputs": [
        {
          "output_type": "stream",
          "name": "stdout",
          "text": [
            "3 15\n",
            "1\n",
            "5\n",
            "12\n",
            "3\n"
          ]
        }
      ]
    }
  ]
}