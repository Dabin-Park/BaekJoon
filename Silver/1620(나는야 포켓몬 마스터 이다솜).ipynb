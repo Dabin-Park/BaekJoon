{
  "nbformat": 4,
  "nbformat_minor": 0,
  "metadata": {
    "colab": {
      "name": "11286(절댓값 힙).ipynb",
      "provenance": [],
      "authorship_tag": "ABX9TyMk9Ns8woblfWR6xS4ogi4E",
      "include_colab_link": true
    },
    "kernelspec": {
      "name": "python3",
      "display_name": "Python 3"
    },
    "language_info": {
      "name": "python"
    }
  },
  "cells": [
    {
      "cell_type": "markdown",
      "metadata": {
        "id": "view-in-github",
        "colab_type": "text"
      },
      "source": [
        "<a href=\"https://colab.research.google.com/github/Dabin-Park/BaekJoon/blob/main/Silver/1620(%EB%82%98%EB%8A%94%EC%95%BC%20%ED%8F%AC%EC%BC%93%EB%AA%AC%20%EB%A7%88%EC%8A%A4%ED%84%B0%20%EC%9D%B4%EB%8B%A4%EC%86%9C).ipynb\" target=\"_parent\"><img src=\"https://colab.research.google.com/assets/colab-badge.svg\" alt=\"Open In Colab\"/></a>"
      ]
    },
    {
      "cell_type": "code",
      "source": [
        "N,M = map(int,input().split())\n",
        "\n",
        "Illustrated_book1 = {}\n",
        "Illustrated_book2 = {}\n",
        "\n",
        "for i in range(N):\n",
        "    name = input()\n",
        "    Illustrated_book1[i+1] = name\n",
        "    Illustrated_book2[name] = i+1\n",
        "    \n",
        "for _ in range(M):\n",
        "    n = input()\n",
        "    if n.isdigit():\n",
        "        n = int(n)\n",
        "        print(Illustrated_book1[n])\n",
        "    else:\n",
        "        print(Illustrated_book2[n])\n",
        "        "
      ],
      "metadata": {
        "colab": {
          "base_uri": "https://localhost:8080/"
        },
        "id": "4NDvOBDhbpRD",
        "outputId": "4cbc47fe-0314-4745-df97-44d4fc4f8ccc"
      },
      "execution_count": 1,
      "outputs": [
        {
          "output_type": "stream",
          "name": "stdout",
          "text": [
            "26 5\n",
            "Bulbasaur\n",
            "Ivysaur\n",
            "Venusaur\n",
            "Charmander\n",
            "Charmeleon\n",
            "Charizard\n",
            "Squirtle\n",
            "Wartortle\n",
            "Blastoise\n",
            "Caterpie\n",
            "Metapod\n",
            "Butterfree\n",
            "Weedle\n",
            "Kakuna\n",
            "Beedrill\n",
            "Pidgey\n",
            "Pidgeotto\n",
            "Pidgeot\n",
            "Rattata\n",
            "Raticate\n",
            "Spearow\n",
            "Fearow\n",
            "Ekans\n",
            "Arbok\n",
            "Pikachu\n",
            "Raichu\n",
            "25\n",
            "Pikachu\n",
            "Raichu\n",
            "26\n",
            "3\n",
            "Venusaur\n",
            "Pidgey\n",
            "16\n",
            "Kakuna\n",
            "14\n"
          ]
        }
      ]
    }
  ]
}