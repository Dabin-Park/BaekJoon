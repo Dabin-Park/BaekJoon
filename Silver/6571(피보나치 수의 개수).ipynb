{
  "nbformat": 4,
  "nbformat_minor": 0,
  "metadata": {
    "colab": {
      "name": "6571(피보나치 수의 개수).ipynb",
      "provenance": [],
      "authorship_tag": "ABX9TyOoJj73+23NfyyWj2woCfjj",
      "include_colab_link": true
    },
    "kernelspec": {
      "name": "python3",
      "display_name": "Python 3"
    },
    "language_info": {
      "name": "python"
    }
  },
  "cells": [
    {
      "cell_type": "markdown",
      "metadata": {
        "id": "view-in-github",
        "colab_type": "text"
      },
      "source": [
        "<a href=\"https://colab.research.google.com/github/Dabin-Park/BaekJoon/blob/main/Silver/6571(%ED%94%BC%EB%B3%B4%EB%82%98%EC%B9%98%20%EC%88%98%EC%9D%98%20%EA%B0%9C%EC%88%98).ipynb\" target=\"_parent\"><img src=\"https://colab.research.google.com/assets/colab-badge.svg\" alt=\"Open In Colab\"/></a>"
      ]
    },
    {
      "cell_type": "code",
      "execution_count": 1,
      "metadata": {
        "colab": {
          "base_uri": "https://localhost:8080/"
        },
        "id": "dT6CvtQPNnKQ",
        "outputId": "25cb7de0-b504-436f-ba01-ac4c440acaf3"
      },
      "outputs": [
        {
          "name": "stdout",
          "output_type": "stream",
          "text": [
            "10 100\n",
            "5\n",
            "1234567890 9876543210\n",
            "4\n",
            "0 0 \n"
          ]
        }
      ],
      "source": [
        "dp = [0 for _ in range(482)]    # 481번째 피보나치 수가 처음 10**100을 넘김 \n",
        "dp[1] = 1\n",
        "for i in range(2,482):\n",
        "    dp[i] = dp[i-1] + dp[i-2]\n",
        "    \n",
        "while True:\n",
        "    a,b = map(int,input().split())\n",
        "    if b:\n",
        "        num = 0\n",
        "        for d in dp[2:]:\n",
        "            if  d >= a and d <= b:\n",
        "                num += 1\n",
        "            elif d > b:\n",
        "                break\n",
        "        print(num)\n",
        "    else:\n",
        "        break"
      ]
    }
  ]
}