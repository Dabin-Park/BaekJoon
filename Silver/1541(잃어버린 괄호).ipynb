{
  "nbformat": 4,
  "nbformat_minor": 0,
  "metadata": {
    "colab": {
      "name": "1541(잃어버린 괄호).ipynb",
      "provenance": [],
      "authorship_tag": "ABX9TyMQKrjHIRux8hIKsGA/4WTn",
      "include_colab_link": true
    },
    "kernelspec": {
      "name": "python3",
      "display_name": "Python 3"
    },
    "language_info": {
      "name": "python"
    }
  },
  "cells": [
    {
      "cell_type": "markdown",
      "metadata": {
        "id": "view-in-github",
        "colab_type": "text"
      },
      "source": [
        "<a href=\"https://colab.research.google.com/github/Dabin-Park/BaekJoon/blob/main/Silver/1541(%EC%9E%83%EC%96%B4%EB%B2%84%EB%A6%B0%20%EA%B4%84%ED%98%B8).ipynb\" target=\"_parent\"><img src=\"https://colab.research.google.com/assets/colab-badge.svg\" alt=\"Open In Colab\"/></a>"
      ]
    },
    {
      "cell_type": "code",
      "execution_count": 1,
      "metadata": {
        "colab": {
          "base_uri": "https://localhost:8080/"
        },
        "id": "dT6CvtQPNnKQ",
        "outputId": "462a134e-7d84-4d72-ac4e-803487178f09"
      },
      "outputs": [
        {
          "output_type": "stream",
          "name": "stdout",
          "text": [
            "55-50+40\n",
            "-35\n"
          ]
        }
      ],
      "source": [
        "A = list(input())\n",
        "num = ''\n",
        "Numbers = []\n",
        "Sign = []\n",
        "for a in A:\n",
        "    if a in \"-+\":\n",
        "        Numbers.append(int(num))\n",
        "        Sign.append(a)\n",
        "        num = \" \"\n",
        "    else:\n",
        "        num += a\n",
        "Numbers.append(int(num))\n",
        "\n",
        "if \"-\" in Sign:\n",
        "    ind = Sign.index('-')\n",
        "    sol = sum(Numbers[:ind+1])- sum(Numbers[ind+1:])\n",
        "else:\n",
        "    sol = sum(Numbers)\n",
        "\n",
        "print(sol)"
      ]
    }
  ]
}