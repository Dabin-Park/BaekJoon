{
  "nbformat": 4,
  "nbformat_minor": 0,
  "metadata": {
    "colab": {
      "name": "1966(프린터 큐).ipynb",
      "provenance": [],
      "authorship_tag": "ABX9TyOACvmnno7i0KthjYkNK66k",
      "include_colab_link": true
    },
    "kernelspec": {
      "name": "python3",
      "display_name": "Python 3"
    },
    "language_info": {
      "name": "python"
    }
  },
  "cells": [
    {
      "cell_type": "markdown",
      "metadata": {
        "id": "view-in-github",
        "colab_type": "text"
      },
      "source": [
        "<a href=\"https://colab.research.google.com/github/Dabin-Park/BaekJoon/blob/main/Silver/1966(%ED%94%84%EB%A6%B0%ED%84%B0%20%ED%81%90).ipynb\" target=\"_parent\"><img src=\"https://colab.research.google.com/assets/colab-badge.svg\" alt=\"Open In Colab\"/></a>"
      ]
    },
    {
      "cell_type": "code",
      "source": [
        "from collections import deque\n",
        "\n",
        "for _ in range(int(input())):\n",
        "    N,M = map(int,input().split())\n",
        "    Numbers = list(map(int,input().split()))\n",
        "    \n",
        "    dq = deque([])\n",
        "    for i,n in enumerate(Numbers):\n",
        "        dq.append([n,i])\n",
        "    \n",
        "    Numbers.sort()\n",
        "    num = 0 \n",
        "    while True:\n",
        "        num += 1\n",
        "        a = dq.popleft()\n",
        "        if a[0] != Numbers[-1]:\n",
        "            dq.append(a)\n",
        "            num -=1\n",
        "        elif a[1] == M:\n",
        "            break\n",
        "        else:\n",
        "            Numbers.pop()\n",
        "            \n",
        "    print(num)"
      ],
      "metadata": {
        "colab": {
          "base_uri": "https://localhost:8080/"
        },
        "id": "4NDvOBDhbpRD",
        "outputId": "88fcae1a-afee-43bb-d80e-cd071f22de05"
      },
      "execution_count": 1,
      "outputs": [
        {
          "output_type": "stream",
          "name": "stdout",
          "text": [
            "3\n",
            "1 0\n",
            "5\n",
            "1\n",
            "4 2\n",
            "1 2 3 4\n",
            "2\n",
            "6 0\n",
            "1 1 9 1 1 1 \n",
            "5\n"
          ]
        }
      ]
    }
  ]
}