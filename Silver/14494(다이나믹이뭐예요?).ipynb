{
  "nbformat": 4,
  "nbformat_minor": 0,
  "metadata": {
    "colab": {
      "provenance": [],
      "authorship_tag": "ABX9TyPrqaVNmAp6eE9OEfazSt29",
      "include_colab_link": true
    },
    "kernelspec": {
      "name": "python3",
      "display_name": "Python 3"
    },
    "language_info": {
      "name": "python"
    }
  },
  "cells": [
    {
      "cell_type": "markdown",
      "metadata": {
        "id": "view-in-github",
        "colab_type": "text"
      },
      "source": [
        "<a href=\"https://colab.research.google.com/github/Dabin-Park/BaekJoon/blob/main/Silver/14494(%EB%8B%A4%EC%9D%B4%EB%82%98%EB%AF%B9%EC%9D%B4%EB%AD%90%EC%98%88%EC%9A%94%3F).ipynb\" target=\"_parent\"><img src=\"https://colab.research.google.com/assets/colab-badge.svg\" alt=\"Open In Colab\"/></a>"
      ]
    },
    {
      "cell_type": "code",
      "source": [
        "def sol():\n",
        "    N,M = map(int,input().split())\n",
        "    dp = [[0]*(M+1) for _ in range(N+1)]\n",
        "    dp[0][0] = 1\n",
        "    for i in range(1,N+1):\n",
        "        for j in range(1,M+1):\n",
        "            dp[i][j] = (dp[i][j-1] + dp[i-1][j-1] + dp[i-1][j])%(10**9+7)\n",
        "    return dp[-1][-1]\n",
        "            \n",
        "print(sol())"
      ],
      "metadata": {
        "id": "Eum8oDR9H9Ie",
        "colab": {
          "base_uri": "https://localhost:8080/"
        },
        "outputId": "bd9d930d-af6a-4176-e4b4-2f0f620c0928"
      },
      "execution_count": 1,
      "outputs": [
        {
          "output_type": "stream",
          "name": "stdout",
          "text": [
            "3 2\n",
            "5\n"
          ]
        }
      ]
    }
  ]
}