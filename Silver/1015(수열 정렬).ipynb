{
  "nbformat": 4,
  "nbformat_minor": 0,
  "metadata": {
    "colab": {
      "name": "1015(수열 정렬).ipynb",
      "provenance": [],
      "authorship_tag": "ABX9TyM84LkCnwTtOx/oNTqIYiRa",
      "include_colab_link": true
    },
    "kernelspec": {
      "name": "python3",
      "display_name": "Python 3"
    },
    "language_info": {
      "name": "python"
    }
  },
  "cells": [
    {
      "cell_type": "markdown",
      "metadata": {
        "id": "view-in-github",
        "colab_type": "text"
      },
      "source": [
        "<a href=\"https://colab.research.google.com/github/Dabin-Park/BaekJoon/blob/main/Silver/1015(%EC%88%98%EC%97%B4%20%EC%A0%95%EB%A0%AC).ipynb\" target=\"_parent\"><img src=\"https://colab.research.google.com/assets/colab-badge.svg\" alt=\"Open In Colab\"/></a>"
      ]
    },
    {
      "cell_type": "code",
      "source": [
        "N = int(input())\n",
        "A = list(map(int,input().split()))\n",
        "B = sorted(A)\n",
        "Sequence = []\n",
        "for a in A:\n",
        "  n = B.index(a)\n",
        "  while n in Sequence:\n",
        "    n += 1\n",
        "  Sequence.append(n)\n",
        "  print(n,end = ' ')"
      ],
      "metadata": {
        "id": "xk6usRE-86iG",
        "colab": {
          "base_uri": "https://localhost:8080/"
        },
        "outputId": "5c51afdc-15e4-47d9-aecf-3b02af14f576"
      },
      "execution_count": 1,
      "outputs": [
        {
          "output_type": "stream",
          "name": "stdout",
          "text": [
            "8\n",
            "4 1 6 1 3 6 1 4\n",
            "4 0 6 1 3 7 2 5 "
          ]
        }
      ]
    }
  ]
}