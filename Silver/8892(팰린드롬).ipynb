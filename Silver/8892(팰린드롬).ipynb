{
  "nbformat": 4,
  "nbformat_minor": 0,
  "metadata": {
    "colab": {
      "provenance": [],
      "authorship_tag": "ABX9TyNxQ2Q2K8eZd55Q2jGEHs99",
      "include_colab_link": true
    },
    "kernelspec": {
      "name": "python3",
      "display_name": "Python 3"
    },
    "language_info": {
      "name": "python"
    }
  },
  "cells": [
    {
      "cell_type": "markdown",
      "metadata": {
        "id": "view-in-github",
        "colab_type": "text"
      },
      "source": [
        "<a href=\"https://colab.research.google.com/github/Dabin-Park/BaekJoon/blob/main/Silver/8892(%ED%8C%B0%EB%A6%B0%EB%93%9C%EB%A1%AC).ipynb\" target=\"_parent\"><img src=\"https://colab.research.google.com/assets/colab-badge.svg\" alt=\"Open In Colab\"/></a>"
      ]
    },
    {
      "cell_type": "code",
      "source": [
        "def sol(k): \n",
        "    words = [input().rstrip() for _ in range(k)]\n",
        "    for i in range(k):\n",
        "        for j in range(i+1,k):\n",
        "            a,b = words[i]+words[j], words[j]+words[i]\n",
        "            if a == a[::-1]:\n",
        "                return a\n",
        "            if b == b[::-1]:\n",
        "                return b\n",
        "    return 0\n",
        "\n",
        "for _ in range(int(input())):                 \n",
        "    print(sol(int(input())))"
      ],
      "metadata": {
        "colab": {
          "base_uri": "https://localhost:8080/"
        },
        "id": "BYNtq_Ywoefu",
        "outputId": "ccc6c56f-1f76-4237-88a6-89bd2f6d6ed5"
      },
      "execution_count": 3,
      "outputs": [
        {
          "output_type": "stream",
          "name": "stdout",
          "text": [
            "2\n",
            "5\n",
            "aaba\n",
            "ba\n",
            "ababa\n",
            "bbaa\n",
            "baaba\n",
            "abababa\n",
            "3\n",
            "abc\n",
            "bcd\n",
            "cde\n",
            "0\n"
          ]
        }
      ]
    }
  ]
}