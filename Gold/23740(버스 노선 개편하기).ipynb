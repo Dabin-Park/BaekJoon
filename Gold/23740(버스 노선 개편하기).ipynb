{
  "nbformat": 4,
  "nbformat_minor": 0,
  "metadata": {
    "colab": {
      "name": "23740(버스 노선 개편하기).ipynb",
      "provenance": [],
      "authorship_tag": "ABX9TyMW1z2WLe1L/JNVK7Mixyk+",
      "include_colab_link": true
    },
    "kernelspec": {
      "name": "python3",
      "display_name": "Python 3"
    },
    "language_info": {
      "name": "python"
    }
  },
  "cells": [
    {
      "cell_type": "markdown",
      "metadata": {
        "id": "view-in-github",
        "colab_type": "text"
      },
      "source": [
        "<a href=\"https://colab.research.google.com/github/Dabin-Park/BaekJoon/blob/main/Gold/23740(%EB%B2%84%EC%8A%A4%20%EB%85%B8%EC%84%A0%20%EA%B0%9C%ED%8E%B8%ED%95%98%EA%B8%B0).ipynb\" target=\"_parent\"><img src=\"https://colab.research.google.com/assets/colab-badge.svg\" alt=\"Open In Colab\"/></a>"
      ]
    },
    {
      "cell_type": "code",
      "source": [
        "Bus = [list(map(int,input().split())) for _ in range(int(input()))]\n",
        "Bus.sort(key = lambda x : x[0])\n",
        "Development,num = [],1\n",
        "s,e,money = Bus[0]\n",
        "for bus in Bus[1:]:\n",
        "    if e >= bus[0]:\n",
        "        e = max(e,bus[1])\n",
        "        money = min(money,bus[2])\n",
        "    else:\n",
        "        Development.append([s,e,money])\n",
        "        s,e,money = bus\n",
        "        num += 1\n",
        "        \n",
        "Development.append([s,e,money])\n",
        "\n",
        "print(num)\n",
        "for development in Development:\n",
        "    print(*development)"
      ],
      "metadata": {
        "id": "CGdbDyPnpFQk",
        "outputId": "908bfef8-57a2-4cea-dee5-8cd4c69793bf",
        "colab": {
          "base_uri": "https://localhost:8080/"
        }
      },
      "execution_count": 1,
      "outputs": [
        {
          "output_type": "stream",
          "name": "stdout",
          "text": [
            "6\n",
            "1 4 4\n",
            "6 9 5\n",
            "7 9 6\n",
            "2 5 7\n",
            "0 2 10\n",
            "9 10 10\n",
            "2\n",
            "0 5 4\n",
            "6 10 5\n"
          ]
        }
      ]
    }
  ]
}