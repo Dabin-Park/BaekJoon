{
  "nbformat": 4,
  "nbformat_minor": 0,
  "metadata": {
    "colab": {
      "provenance": [],
      "collapsed_sections": [],
      "authorship_tag": "ABX9TyML+dfQzDftON52O6vq/pk+",
      "include_colab_link": true
    },
    "kernelspec": {
      "name": "python3",
      "display_name": "Python 3"
    },
    "language_info": {
      "name": "python"
    }
  },
  "cells": [
    {
      "cell_type": "markdown",
      "metadata": {
        "id": "view-in-github",
        "colab_type": "text"
      },
      "source": [
        "<a href=\"https://colab.research.google.com/github/Dabin-Park/BaekJoon/blob/main/Bronze/11719(%EA%B7%B8%EB%8C%80%EB%A1%9C%20%EC%B6%9C%EB%A0%A5%ED%95%98%EA%B8%B0%202).ipynb\" target=\"_parent\"><img src=\"https://colab.research.google.com/assets/colab-badge.svg\" alt=\"Open In Colab\"/></a>"
      ]
    },
    {
      "cell_type": "code",
      "source": [
        "while 1:\n",
        "    try:\n",
        "        print(input())\n",
        "    except EOFError:\n",
        "        break"
      ],
      "metadata": {
        "id": "k7eFI1eAZZ1Z",
        "outputId": "673bae3b-5ea0-455c-ab35-c205146fda22",
        "colab": {
          "base_uri": "https://localhost:8080/"
        }
      },
      "execution_count": null,
      "outputs": [
        {
          "output_type": "stream",
          "name": "stdout",
          "text": [
            "    Hello\n",
            "    Hello\n",
            "\n",
            "\n",
            "Baekjoon     \n",
            "Baekjoon     \n",
            "   Online Judge    \n",
            "   Online Judge    \n",
            "\n",
            "\n"
          ]
        }
      ]
    }
  ]
}