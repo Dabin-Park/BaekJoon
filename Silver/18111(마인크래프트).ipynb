{
  "nbformat": 4,
  "nbformat_minor": 0,
  "metadata": {
    "colab": {
      "name": "18111(마인크래프트).ipynb",
      "provenance": [],
      "authorship_tag": "ABX9TyOnaOZJPWq4GqDDCidmUDtO",
      "include_colab_link": true
    },
    "kernelspec": {
      "name": "python3",
      "display_name": "Python 3"
    },
    "language_info": {
      "name": "python"
    }
  },
  "cells": [
    {
      "cell_type": "markdown",
      "metadata": {
        "id": "view-in-github",
        "colab_type": "text"
      },
      "source": [
        "<a href=\"https://colab.research.google.com/github/Dabin-Park/BaekJoon/blob/main/Silver/18111(%EB%A7%88%EC%9D%B8%ED%81%AC%EB%9E%98%ED%94%84%ED%8A%B8).ipynb\" target=\"_parent\"><img src=\"https://colab.research.google.com/assets/colab-badge.svg\" alt=\"Open In Colab\"/></a>"
      ]
    },
    {
      "cell_type": "code",
      "source": [
        "N,M,B = map(int,input().split())\n",
        "Earth = [list(map(int,input().split())) for _ in range(N)]\n",
        "Dict = {}\n",
        "for earth in Earth:\n",
        "    for e in earth:\n",
        "        if e in Dict:\n",
        "            Dict[e] += 1\n",
        "        else:\n",
        "            Dict[e] = 1 \n",
        "    \n",
        "Numbers = sorted([d for d in Dict],reverse = True) \n",
        "total_sec = float('inf')\n",
        "\n",
        "for i in range(0,257):\n",
        "    X, sec,t = B, 0, 1\n",
        "    for d in Numbers:\n",
        "        if d > i:\n",
        "            a = (d - i)*Dict[d]\n",
        "            sec += 2*a\n",
        "            X += a\n",
        "        elif d < i:\n",
        "            a = (i - d)*Dict[d]\n",
        "            if a > X:\n",
        "                t = 0\n",
        "                break\n",
        "            X -= a\n",
        "            sec += a\n",
        "    if t :\n",
        "        if total_sec >= sec:\n",
        "            total_sec, floor = sec, i \n",
        "    else:\n",
        "        break\n",
        "\n",
        "print(total_sec, floor)"
      ],
      "metadata": {
        "colab": {
          "base_uri": "https://localhost:8080/"
        },
        "id": "4NDvOBDhbpRD",
        "outputId": "e76b943d-084f-4b71-b53f-226bb45f87b8"
      },
      "execution_count": 5,
      "outputs": [
        {
          "output_type": "stream",
          "name": "stdout",
          "text": [
            "3 4 99\n",
            "0 0 0 0\n",
            "0 0 0 0\n",
            "0 0 0 1\n",
            "2 0\n"
          ]
        }
      ]
    }
  ]
}