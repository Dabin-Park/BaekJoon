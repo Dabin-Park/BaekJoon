{
  "nbformat": 4,
  "nbformat_minor": 0,
  "metadata": {
    "colab": {
      "provenance": [],
      "authorship_tag": "ABX9TyOloa0sp85Vxg34HoMAtG/x",
      "include_colab_link": true
    },
    "kernelspec": {
      "name": "python3",
      "display_name": "Python 3"
    },
    "language_info": {
      "name": "python"
    }
  },
  "cells": [
    {
      "cell_type": "markdown",
      "metadata": {
        "id": "view-in-github",
        "colab_type": "text"
      },
      "source": [
        "<a href=\"https://colab.research.google.com/github/Dabin-Park/BaekJoon/blob/main/Silver/5874(%EC%86%8C%EB%A5%BC%20%EC%B0%BE%EC%95%84%EB%9D%BC).ipynb\" target=\"_parent\"><img src=\"https://colab.research.google.com/assets/colab-badge.svg\" alt=\"Open In Colab\"/></a>"
      ]
    },
    {
      "cell_type": "code",
      "source": [
        "def sol(Grass):\n",
        "    left = total = 0\n",
        "    for idx, grass in enumerate(Grass[:-1]):\n",
        "        if grass == \"(\":\n",
        "            if Grass[idx+1] == \"(\":\n",
        "                left += 1\n",
        "        if grass == \")\":\n",
        "            if Grass[idx+1] == \")\":\n",
        "                total += left\n",
        "    return total\n",
        "            \n",
        "print(sol(input()))"
      ],
      "metadata": {
        "colab": {
          "base_uri": "https://localhost:8080/"
        },
        "id": "BYNtq_Ywoefu",
        "outputId": "06c1470c-2d07-4e62-d7d2-b3bc14f87a41"
      },
      "execution_count": 1,
      "outputs": [
        {
          "output_type": "stream",
          "name": "stdout",
          "text": [
            ")((()())())\n",
            "4\n"
          ]
        }
      ]
    }
  ]
}