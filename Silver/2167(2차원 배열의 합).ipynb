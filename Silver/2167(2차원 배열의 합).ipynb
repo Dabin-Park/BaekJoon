{
  "nbformat": 4,
  "nbformat_minor": 0,
  "metadata": {
    "colab": {
      "provenance": [],
      "authorship_tag": "ABX9TyOAaJe6GiORr7dUYiZFaANE",
      "include_colab_link": true
    },
    "kernelspec": {
      "name": "python3",
      "display_name": "Python 3"
    },
    "language_info": {
      "name": "python"
    }
  },
  "cells": [
    {
      "cell_type": "markdown",
      "metadata": {
        "id": "view-in-github",
        "colab_type": "text"
      },
      "source": [
        "<a href=\"https://colab.research.google.com/github/Dabin-Park/BaekJoon/blob/main/Silver/2167(2%EC%B0%A8%EC%9B%90%20%EB%B0%B0%EC%97%B4%EC%9D%98%20%ED%95%A9).ipynb\" target=\"_parent\"><img src=\"https://colab.research.google.com/assets/colab-badge.svg\" alt=\"Open In Colab\"/></a>"
      ]
    },
    {
      "cell_type": "code",
      "source": [
        "def sol():\n",
        "    N,M = map(int,input().split())\n",
        "    Array = [[0]*(M+1)] +[[0] +list(map(int,input().split())) for _ in range(N)] \n",
        "    for i in range(1,N+1):\n",
        "        for j in range(1,M+1):\n",
        "            Array[i][j] += Array[i][j-1]+Array[i-1][j] -Array[i-1][j-1]\n",
        "    for _ in range(int(input())):\n",
        "        i,j,x,y = map(int,input().split())\n",
        "        print(Array[x][y] - Array[i-1][y] - Array[x][j-1] + Array[i-1][j-1])\n",
        "            \n",
        "sol()"
      ],
      "metadata": {
        "colab": {
          "base_uri": "https://localhost:8080/"
        },
        "id": "Wf1zqg3P9ONw",
        "outputId": "72621b23-2e26-481b-9954-5afbed608d8c"
      },
      "execution_count": 1,
      "outputs": [
        {
          "output_type": "stream",
          "name": "stdout",
          "text": [
            "2 3\n",
            "1 2 4\n",
            "8 16 32\n",
            "3\n",
            "1 1 2 3\n",
            "63\n",
            "1 2 1 2\n",
            "2\n",
            "1 3 2 3\n",
            "36\n"
          ]
        }
      ]
    }
  ]
}