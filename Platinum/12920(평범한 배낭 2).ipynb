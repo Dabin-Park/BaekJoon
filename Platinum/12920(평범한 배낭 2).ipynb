{
  "nbformat": 4,
  "nbformat_minor": 0,
  "metadata": {
    "colab": {
      "provenance": [],
      "collapsed_sections": [],
      "authorship_tag": "ABX9TyN2EEKgs1R7jjTCntjKto9N",
      "include_colab_link": true
    },
    "kernelspec": {
      "name": "python3",
      "display_name": "Python 3"
    },
    "language_info": {
      "name": "python"
    }
  },
  "cells": [
    {
      "cell_type": "markdown",
      "metadata": {
        "id": "view-in-github",
        "colab_type": "text"
      },
      "source": [
        "<a href=\"https://colab.research.google.com/github/Dabin-Park/BaekJoon/blob/main/Platinum/12920(%ED%8F%89%EB%B2%94%ED%95%9C%20%EB%B0%B0%EB%82%AD%202).ipynb\" target=\"_parent\"><img src=\"https://colab.research.google.com/assets/colab-badge.svg\" alt=\"Open In Colab\"/></a>"
      ]
    },
    {
      "cell_type": "markdown",
      "source": [
        "* 참고 블로그    \n",
        "https://velog.io/@hancihu/Python-Algorithm-%EB%B0%B1%EC%A4%80-%ED%8F%89%EB%B2%94%ED%95%9C-%EB%B0%B0%EB%82%AD-2-12920"
      ],
      "metadata": {
        "id": "uMXW6vipdyRA"
      }
    },
    {
      "cell_type": "code",
      "source": [
        "def sol():\n",
        "    N,M = map(int,input().split())\n",
        "    \n",
        "    Bag = []\n",
        "    for _ in range(N):\n",
        "        v,c,k = map(int,input().split())\n",
        "        l = 1\n",
        "        while k:\n",
        "            ix = min(l,k)\n",
        "            Bag.append([v*ix,c*ix])\n",
        "            k -= ix  \n",
        "            l <<= 1  # 비트 연산자  \n",
        "    dp  = [0]*(M+1)\n",
        "    for v,c in Bag[:-1]:\n",
        "        for i in range(M,v-1,-1):\n",
        "            dp[i] = max(dp[i],dp[i-v]+c)\n",
        "    return max(dp[-1],dp[-1-Bag[-1][0]]+Bag[-1][1])\n",
        "\n",
        "print(sol())"
      ],
      "metadata": {
        "id": "ZFrLikbd4n2z",
        "outputId": "13f86d3c-bc51-4eab-a945-bfc386d2255c",
        "colab": {
          "base_uri": "https://localhost:8080/"
        }
      },
      "execution_count": 1,
      "outputs": [
        {
          "output_type": "stream",
          "name": "stdout",
          "text": [
            "2 3\n",
            "2 7 1\n",
            "1 9 3\n",
            "27\n"
          ]
        }
      ]
    }
  ]
}