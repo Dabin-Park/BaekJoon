{
  "nbformat": 4,
  "nbformat_minor": 0,
  "metadata": {
    "colab": {
      "provenance": [],
      "authorship_tag": "ABX9TyNX84IIqQ5i07GgN4aXZYX5",
      "include_colab_link": true
    },
    "kernelspec": {
      "name": "python3",
      "display_name": "Python 3"
    },
    "language_info": {
      "name": "python"
    }
  },
  "cells": [
    {
      "cell_type": "markdown",
      "metadata": {
        "id": "view-in-github",
        "colab_type": "text"
      },
      "source": [
        "<a href=\"https://colab.research.google.com/github/Dabin-Park/BaekJoon/blob/main/Silver/2688(%EC%A4%84%EC%96%B4%EB%93%A4%EC%A7%80%20%EC%95%8A%EC%95%84).ipynb\" target=\"_parent\"><img src=\"https://colab.research.google.com/assets/colab-badge.svg\" alt=\"Open In Colab\"/></a>"
      ]
    },
    {
      "cell_type": "code",
      "source": [
        "def sol():\n",
        "    dp = [[1]*10]+[[0]*10 for _ in range(64)]\n",
        "    for i in range(1,65):\n",
        "        for j in range(10):\n",
        "            dp[i][j] = dp[i][j-1]+dp[i-1][j]\n",
        "    for _ in range(int(input())):\n",
        "        print(dp[int(input())][-1])\n",
        "        \n",
        "sol()"
      ],
      "metadata": {
        "id": "Eum8oDR9H9Ie",
        "colab": {
          "base_uri": "https://localhost:8080/"
        },
        "outputId": "bca0f0e1-d910-4089-8b68-24d31aa10bc6"
      },
      "execution_count": 1,
      "outputs": [
        {
          "output_type": "stream",
          "name": "stdout",
          "text": [
            "3\n",
            "2\n",
            "55\n",
            "3\n",
            "220\n",
            "4\n",
            "715\n"
          ]
        }
      ]
    }
  ]
}