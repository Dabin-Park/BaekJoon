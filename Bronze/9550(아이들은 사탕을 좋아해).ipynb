{
  "cells": [
    {
      "cell_type": "markdown",
      "metadata": {
        "id": "view-in-github",
        "colab_type": "text"
      },
      "source": [
        "<a href=\"https://colab.research.google.com/github/Dabin-Park/BaekJoon/blob/main/Bronze/9550(%EC%95%84%EC%9D%B4%EB%93%A4%EC%9D%80%20%EC%82%AC%ED%83%95%EC%9D%84%20%EC%A2%8B%EC%95%84%ED%95%B4).ipynb\" target=\"_parent\"><img src=\"https://colab.research.google.com/assets/colab-badge.svg\" alt=\"Open In Colab\"/></a>"
      ]
    },
    {
      "cell_type": "code",
      "source": [
        "T = int(input())\n",
        "\n",
        "for _ in range(T):\n",
        "    N,K = map(int,input().split())\n",
        "    a = list(map(int,input().split()))\n",
        "    n = 0\n",
        "    if max(a) <  K :\n",
        "        print(n)\n",
        "    else : \n",
        "        for i in a:\n",
        "            n += i//K\n",
        "        print(n)"
      ],
      "metadata": {
        "id": "WPo0VnuEHjys",
        "colab": {
          "base_uri": "https://localhost:8080/"
        },
        "outputId": "bb916c2f-28c5-4d64-aae6-3999b2c83964"
      },
      "execution_count": 3,
      "outputs": [
        {
          "output_type": "stream",
          "name": "stdout",
          "text": [
            "2\n",
            "3 2\n",
            "4 5 7\n",
            "7\n",
            "3 8\n",
            "4 5 7\n",
            "0\n"
          ]
        }
      ]
    }
  ],
  "metadata": {
    "colab": {
      "name": "9550(아이들은 사탕을 좋아해).ipynb",
      "provenance": [],
      "collapsed_sections": [],
      "authorship_tag": "ABX9TyNTscKN3zkOW6YQJzlRhtEs",
      "include_colab_link": true
    },
    "kernelspec": {
      "display_name": "Python 3",
      "name": "python3"
    },
    "language_info": {
      "name": "python"
    }
  },
  "nbformat": 4,
  "nbformat_minor": 0
}