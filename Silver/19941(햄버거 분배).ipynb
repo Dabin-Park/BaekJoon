{
  "nbformat": 4,
  "nbformat_minor": 0,
  "metadata": {
    "colab": {
      "provenance": [],
      "authorship_tag": "ABX9TyMuAvfobVP+ONgWMnuoYCd2",
      "include_colab_link": true
    },
    "kernelspec": {
      "name": "python3",
      "display_name": "Python 3"
    },
    "language_info": {
      "name": "python"
    }
  },
  "cells": [
    {
      "cell_type": "markdown",
      "metadata": {
        "id": "view-in-github",
        "colab_type": "text"
      },
      "source": [
        "<a href=\"https://colab.research.google.com/github/Dabin-Park/BaekJoon/blob/main/Silver/19941(%ED%96%84%EB%B2%84%EA%B1%B0%20%EB%B6%84%EB%B0%B0).ipynb\" target=\"_parent\"><img src=\"https://colab.research.google.com/assets/colab-badge.svg\" alt=\"Open In Colab\"/></a>"
      ]
    },
    {
      "cell_type": "code",
      "source": [
        "def sol(num):\n",
        "    N,K = map(int,input().split())\n",
        "    List = list(input().rstrip())\n",
        "    for i in range(N):\n",
        "        if List[i] == \"P\":\n",
        "            for j in range(max(0,i-K),min(i+K+1,N)):\n",
        "                if List[j] == \"H\":\n",
        "                    List[j] = \"E\"\n",
        "                    num += 1\n",
        "                    break\n",
        "    return num\n",
        "\n",
        "print(sol(0))"
      ],
      "metadata": {
        "id": "Eum8oDR9H9Ie",
        "colab": {
          "base_uri": "https://localhost:8080/"
        },
        "outputId": "e5743c42-1c43-45f2-d905-5bf977086bf1"
      },
      "execution_count": 2,
      "outputs": [
        {
          "output_type": "stream",
          "name": "stdout",
          "text": [
            "20 1\n",
            "HHPHPPHHPPHPPPHPHPHP\n",
            "8\n"
          ]
        }
      ]
    }
  ]
}