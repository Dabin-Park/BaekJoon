{
  "nbformat": 4,
  "nbformat_minor": 0,
  "metadata": {
    "colab": {
      "provenance": [],
      "authorship_tag": "ABX9TyNSvMMHaLEmsLSBItgDeZ1j",
      "include_colab_link": true
    },
    "kernelspec": {
      "name": "python3",
      "display_name": "Python 3"
    },
    "language_info": {
      "name": "python"
    }
  },
  "cells": [
    {
      "cell_type": "markdown",
      "metadata": {
        "id": "view-in-github",
        "colab_type": "text"
      },
      "source": [
        "<a href=\"https://colab.research.google.com/github/Dabin-Park/BaekJoon/blob/main/Silver/2075(N%EB%B2%88%EC%A7%B8%20%ED%81%B0%20%EC%88%98).ipynb\" target=\"_parent\"><img src=\"https://colab.research.google.com/assets/colab-badge.svg\" alt=\"Open In Colab\"/></a>"
      ]
    },
    {
      "cell_type": "code",
      "source": [
        "import heapq\n",
        "\n",
        "def sol():\n",
        "    N = int(input())\n",
        "    heap = list(map(int,input().split()))\n",
        "    for _ in range(N-1):\n",
        "        for i in map(int,input().split()):\n",
        "            if heap[0] < i:\n",
        "                heapq.heapreplace(heap,i)\n",
        "    return heap[0]\n",
        "        \n",
        "print(sol())"
      ],
      "metadata": {
        "id": "Eum8oDR9H9Ie",
        "colab": {
          "base_uri": "https://localhost:8080/"
        },
        "outputId": "30b33343-b9b6-46e0-cc57-f3433466d309"
      },
      "execution_count": 5,
      "outputs": [
        {
          "output_type": "stream",
          "name": "stdout",
          "text": [
            "5 \n",
            "12 7 9 15 5 \n",
            "13 8 11 19 6 \n",
            "21 10 26 31 16 \n",
            "48 14 28 35 25 \n",
            "52 20 32 41 49\n",
            "35\n"
          ]
        }
      ]
    }
  ]
}