{
  "nbformat": 4,
  "nbformat_minor": 0,
  "metadata": {
    "colab": {
      "provenance": [],
      "collapsed_sections": [],
      "authorship_tag": "ABX9TyMgYRv3ewjGalIgAvGNSdP9",
      "include_colab_link": true
    },
    "kernelspec": {
      "name": "python3",
      "display_name": "Python 3"
    },
    "language_info": {
      "name": "python"
    }
  },
  "cells": [
    {
      "cell_type": "markdown",
      "metadata": {
        "id": "view-in-github",
        "colab_type": "text"
      },
      "source": [
        "<a href=\"https://colab.research.google.com/github/Dabin-Park/BaekJoon/blob/main/Bronze/1934(%EC%B5%9C%EC%86%8C%EA%B3%B5%EB%B0%B0%EC%88%98).ipynb\" target=\"_parent\"><img src=\"https://colab.research.google.com/assets/colab-badge.svg\" alt=\"Open In Colab\"/></a>"
      ]
    },
    {
      "cell_type": "code",
      "source": [
        "def gcd(a,b):\n",
        "    a,b = min(a,b),max(a,b)\n",
        "    if b%a:\n",
        "        return gcd(b%a,a)\n",
        "    else:\n",
        "        return a\n",
        "\n",
        "def lcm(a,b):\n",
        "    return a*b//gcd(a,b)\n",
        "\n",
        "for _ in range(int(input())):\n",
        "    a,b = map(int,input().split())\n",
        "    print(lcm(a,b))"
      ],
      "metadata": {
        "colab": {
          "base_uri": "https://localhost:8080/"
        },
        "id": "FkOjEsTjVrUB",
        "outputId": "5bc0a21a-0048-4a2c-d851-aeed71606eab"
      },
      "execution_count": 1,
      "outputs": [
        {
          "output_type": "stream",
          "name": "stdout",
          "text": [
            "3\n",
            "1 45000\n",
            "45000\n",
            "6 10\n",
            "30\n",
            "13 17\n",
            "221\n"
          ]
        }
      ]
    }
  ]
}