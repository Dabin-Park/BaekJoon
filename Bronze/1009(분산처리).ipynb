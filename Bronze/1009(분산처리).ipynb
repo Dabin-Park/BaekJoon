{
  "cells": [
    {
      "cell_type": "markdown",
      "metadata": {
        "id": "view-in-github",
        "colab_type": "text"
      },
      "source": [
        "<a href=\"https://colab.research.google.com/github/Dabin-Park/BaekJoon/blob/main/Bronze/1009(%EB%B6%84%EC%82%B0%EC%B2%98%EB%A6%AC).ipynb\" target=\"_parent\"><img src=\"https://colab.research.google.com/assets/colab-badge.svg\" alt=\"Open In Colab\"/></a>"
      ]
    },
    {
      "cell_type": "code",
      "source": [
        "T = int(input())\n",
        "for _ in range(T):\n",
        "    a,b = list(map(int,input().split()))\n",
        "    n = 1\n",
        "    k =[]\n",
        "    a %= 10\n",
        "    for i in range(b):\n",
        "        n = (n*a)%10\n",
        "        if n in k:\n",
        "            t = b%i-1\n",
        "            n = k[t]\n",
        "            break;\n",
        "        else :\n",
        "            k.append(n)\n",
        "        \n",
        "    if n == 0:\n",
        "        print(10)\n",
        "    else : \n",
        "        print(n)"
      ],
      "metadata": {
        "colab": {
          "base_uri": "https://localhost:8080/"
        },
        "id": "Y06dd9MLXMjm",
        "outputId": "00499de9-8cb8-4b79-8274-2b1df57baf2c"
      },
      "execution_count": 1,
      "outputs": [
        {
          "output_type": "stream",
          "name": "stdout",
          "text": [
            "1\n",
            "9 635\n",
            "9\n"
          ]
        }
      ]
    }
  ],
  "metadata": {
    "colab": {
      "name": "1009(분산처리).ipynb",
      "provenance": [],
      "authorship_tag": "ABX9TyPVoxn4L/lUOHhrQ7XU1S/A",
      "include_colab_link": true
    },
    "kernelspec": {
      "display_name": "Python 3",
      "name": "python3"
    },
    "language_info": {
      "name": "python"
    }
  },
  "nbformat": 4,
  "nbformat_minor": 0
}