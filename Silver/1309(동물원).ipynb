{
  "nbformat": 4,
  "nbformat_minor": 0,
  "metadata": {
    "colab": {
      "provenance": [],
      "authorship_tag": "ABX9TyMtgNDuyHuzm9UOmtswhjuK",
      "include_colab_link": true
    },
    "kernelspec": {
      "name": "python3",
      "display_name": "Python 3"
    },
    "language_info": {
      "name": "python"
    }
  },
  "cells": [
    {
      "cell_type": "markdown",
      "metadata": {
        "id": "view-in-github",
        "colab_type": "text"
      },
      "source": [
        "<a href=\"https://colab.research.google.com/github/Dabin-Park/BaekJoon/blob/main/Silver/1309(%EB%8F%99%EB%AC%BC%EC%9B%90).ipynb\" target=\"_parent\"><img src=\"https://colab.research.google.com/assets/colab-badge.svg\" alt=\"Open In Colab\"/></a>"
      ]
    },
    {
      "cell_type": "code",
      "execution_count": 1,
      "metadata": {
        "colab": {
          "base_uri": "https://localhost:8080/"
        },
        "id": "YHFUYXj24MLS",
        "outputId": "283173bf-2d8f-48a1-e3fd-d77a07ced19f"
      },
      "outputs": [
        {
          "output_type": "stream",
          "name": "stdout",
          "text": [
            "4\n",
            "41\n"
          ]
        }
      ],
      "source": [
        "def sol(N):\n",
        "    dp = [0]*(N+1)\n",
        "    dp[0], dp[1] = 1,3\n",
        "    for i in range(2,N+1):\n",
        "        dp[i] = (dp[i-2] + 2*dp[i-1])%9901\n",
        "        \n",
        "    return dp[-1]\n",
        "\n",
        "print(sol(int(input())))    "
      ]
    },
    {
      "cell_type": "code",
      "source": [
        "def sol(N):\n",
        "    a,b = 1,3\n",
        "    for i in range(N-1):\n",
        "        a,b = b, (a+2*b)%9901\n",
        "    return b\n",
        "\n",
        "print(sol(int(input())))    "
      ],
      "metadata": {
        "colab": {
          "base_uri": "https://localhost:8080/"
        },
        "id": "vUZBJa3XHKrx",
        "outputId": "b5163fbf-3ee1-4629-c2d2-753a4bae603d"
      },
      "execution_count": 2,
      "outputs": [
        {
          "output_type": "stream",
          "name": "stdout",
          "text": [
            "4\n",
            "41\n"
          ]
        }
      ]
    }
  ]
}