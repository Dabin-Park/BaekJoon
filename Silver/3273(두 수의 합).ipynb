{
  "cells": [
    {
      "cell_type": "markdown",
      "metadata": {
        "id": "view-in-github",
        "colab_type": "text"
      },
      "source": [
        "<a href=\"https://colab.research.google.com/github/Dabin-Park/BaekJoon/blob/main/Silver/3273(%EB%91%90%20%EC%88%98%EC%9D%98%20%ED%95%A9).ipynb\" target=\"_parent\"><img src=\"https://colab.research.google.com/assets/colab-badge.svg\" alt=\"Open In Colab\"/></a>"
      ]
    },
    {
      "cell_type": "code",
      "source": [
        "n = int(input())\n",
        "A = list(map(int,input().split()))\n",
        "X = int(input())\n",
        "A.sort()\n",
        "\n",
        "num = 0\n",
        "start = 0\n",
        "end = n-1\n",
        "\n",
        "while start < end :\n",
        "    t = A[start] + A[end]\n",
        "    if t < X:\n",
        "        start += 1\n",
        "    elif t > X:\n",
        "        end -= 1 \n",
        "    else:\n",
        "        num += 1\n",
        "        end -= 1\n",
        "    \n",
        "    \n",
        "print(num)"
      ],
      "metadata": {
        "id": "HBwwya3y6Eyo",
        "outputId": "721e0906-10af-4064-f1c0-a02de65cc5bd",
        "colab": {
          "base_uri": "https://localhost:8080/"
        }
      },
      "execution_count": 1,
      "outputs": [
        {
          "output_type": "stream",
          "name": "stdout",
          "text": [
            "9\n",
            "5 12 7 10 9 1 2 3 11\n",
            "13\n",
            "3\n"
          ]
        }
      ]
    }
  ],
  "metadata": {
    "colab": {
      "name": "3273(두 수의 합).ipynb",
      "provenance": [],
      "collapsed_sections": [],
      "authorship_tag": "ABX9TyO2SWXwwn9t/AubrNwB+bV3",
      "include_colab_link": true
    },
    "kernelspec": {
      "display_name": "Python 3",
      "name": "python3"
    },
    "language_info": {
      "name": "python"
    }
  },
  "nbformat": 4,
  "nbformat_minor": 0
}