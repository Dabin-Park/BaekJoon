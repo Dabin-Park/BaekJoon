{
  "nbformat": 4,
  "nbformat_minor": 0,
  "metadata": {
    "colab": {
      "name": "20500(Ezreal 여눈부터 가네 ㅈㅈ).ipynb",
      "provenance": [],
      "authorship_tag": "ABX9TyPhgzBNCbpGhfbV06e9eksX",
      "include_colab_link": true
    },
    "kernelspec": {
      "name": "python3",
      "display_name": "Python 3"
    },
    "language_info": {
      "name": "python"
    }
  },
  "cells": [
    {
      "cell_type": "markdown",
      "metadata": {
        "id": "view-in-github",
        "colab_type": "text"
      },
      "source": [
        "<a href=\"https://colab.research.google.com/github/Dabin-Park/BaekJoon/blob/main/Gold/20500(Ezreal%20%EC%97%AC%EB%88%88%EB%B6%80%ED%84%B0%20%EA%B0%80%EB%84%A4%20%E3%85%88%E3%85%88).ipynb\" target=\"_parent\"><img src=\"https://colab.research.google.com/assets/colab-badge.svg\" alt=\"Open In Colab\"/></a>"
      ]
    },
    {
      "cell_type": "code",
      "source": [
        "num,a = 0,1 \n",
        "for _ in range(1,int(input())):\n",
        "    num = (2*num + a)%1000000007\n",
        "    a *= -1\n",
        "\n",
        "print(num)"
      ],
      "metadata": {
        "id": "CGdbDyPnpFQk",
        "outputId": "f61aa8df-6627-480c-fb68-7e261702cfe7",
        "colab": {
          "base_uri": "https://localhost:8080/"
        }
      },
      "execution_count": null,
      "outputs": [
        {
          "output_type": "stream",
          "name": "stdout",
          "text": [
            "1515\n",
            "939178250\n"
          ]
        }
      ]
    },
    {
      "cell_type": "code",
      "source": [
        "N = int(input())\n",
        "dp = [1,0]\n",
        "for n in range(3,N+1):\n",
        "    ind = n%2\n",
        "    dp[ind] = (2*dp[ind] + dp[ind - 1])%(10**9+7)\n",
        "print(dp[N%2])"
      ],
      "metadata": {
        "colab": {
          "base_uri": "https://localhost:8080/"
        },
        "id": "z4i82usMfZDr",
        "outputId": "3bc87029-c8d4-4284-a7d8-f3c5b22817f9"
      },
      "execution_count": 1,
      "outputs": [
        {
          "output_type": "stream",
          "name": "stdout",
          "text": [
            "1515\n",
            "939178250\n"
          ]
        }
      ]
    }
  ]
}