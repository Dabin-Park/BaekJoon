{
  "nbformat": 4,
  "nbformat_minor": 0,
  "metadata": {
    "colab": {
      "name": "15989(1, 2, 3 더하기 4).ipynb",
      "provenance": [],
      "authorship_tag": "ABX9TyOWOkzsTMQ1vmQoDze5Dv90",
      "include_colab_link": true
    },
    "kernelspec": {
      "name": "python3",
      "display_name": "Python 3"
    },
    "language_info": {
      "name": "python"
    }
  },
  "cells": [
    {
      "cell_type": "markdown",
      "metadata": {
        "id": "view-in-github",
        "colab_type": "text"
      },
      "source": [
        "<a href=\"https://colab.research.google.com/github/Dabin-Park/BaekJoon/blob/main/Silver/15989(1%2C%202%2C%203%20%EB%8D%94%ED%95%98%EA%B8%B0%204).ipynb\" target=\"_parent\"><img src=\"https://colab.research.google.com/assets/colab-badge.svg\" alt=\"Open In Colab\"/></a>"
      ]
    },
    {
      "cell_type": "code",
      "source": [
        "T = int(input())\n",
        "Numbers = [int(input()) for _ in range(T)]\n",
        "m = max(Numbers)\n",
        "dp = [0 for _ in range(m+1)]\n",
        "for i in range(1,4):\n",
        "    dp[i] += 1\n",
        "    for j in range(i,m+1):\n",
        "        dp[j] += dp[j-i]\n",
        "\n",
        "for number in Numbers:\n",
        "    print(dp[number])"
      ],
      "metadata": {
        "colab": {
          "base_uri": "https://localhost:8080/"
        },
        "id": "4NDvOBDhbpRD",
        "outputId": "bd350223-84ff-4be3-daeb-56344c4ff4d0"
      },
      "execution_count": 1,
      "outputs": [
        {
          "output_type": "stream",
          "name": "stdout",
          "text": [
            "3\n",
            "4\n",
            "7\n",
            "10\n",
            "4\n",
            "8\n",
            "14\n"
          ]
        }
      ]
    }
  ]
}