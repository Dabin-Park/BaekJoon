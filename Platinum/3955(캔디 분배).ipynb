{
  "nbformat": 4,
  "nbformat_minor": 0,
  "metadata": {
    "colab": {
      "name": "1700(멀티탭 스케줄링).ipynb",
      "provenance": [],
      "authorship_tag": "ABX9TyNZZSvyiB7Bw1ob9MuGYiiF",
      "include_colab_link": true
    },
    "kernelspec": {
      "name": "python3",
      "display_name": "Python 3"
    },
    "language_info": {
      "name": "python"
    }
  },
  "cells": [
    {
      "cell_type": "markdown",
      "metadata": {
        "id": "view-in-github",
        "colab_type": "text"
      },
      "source": [
        "<a href=\"https://colab.research.google.com/github/Dabin-Park/BaekJoon/blob/main/Platinum/3955(%EC%BA%94%EB%94%94%20%EB%B6%84%EB%B0%B0).ipynb\" target=\"_parent\"><img src=\"https://colab.research.google.com/assets/colab-badge.svg\" alt=\"Open In Colab\"/></a>"
      ]
    },
    {
      "cell_type": "code",
      "source": [
        "def extended_gcd(a,b):\n",
        "    if a == 0:\n",
        "        return b, 0, 1\n",
        "    else:\n",
        "        gcd, x, y = extended_gcd(b%a,a)\n",
        "        return gcd, y - (b//a) * x, x\n",
        "    \n",
        "for _ in range(int(input())):\n",
        "    K,C = map(int,input().split())\n",
        "    if K > 1 and C > 1:\n",
        "        gcd, x, y = extended_gcd(K,C)\n",
        "        if gcd == 1:\n",
        "            print(y%K)\n",
        "        else:\n",
        "            print(\"IMPOSSIBLE\")\n",
        "    elif C == 1:\n",
        "        if K < 10**9:\n",
        "            print(K+1)\n",
        "        else:\n",
        "            print(\"IMPOSSIBLE\")\n",
        "    else:\n",
        "        print(1)"
      ],
      "metadata": {
        "colab": {
          "base_uri": "https://localhost:8080/"
        },
        "id": "4NDvOBDhbpRD",
        "outputId": "8a7044c9-2812-499f-b5d2-84612e7f76ba"
      },
      "execution_count": 2,
      "outputs": [
        {
          "output_type": "stream",
          "name": "stdout",
          "text": [
            "5\n",
            "10 5\n",
            "IMPOSSIBLE\n",
            "10 7\n",
            "3\n",
            "1337 23\n",
            "872\n",
            "123454321 42\n",
            "14696943\n",
            "999999937 142857133\n",
            "166666655\n"
          ]
        }
      ]
    }
  ]
}