{
  "nbformat": 4,
  "nbformat_minor": 0,
  "metadata": {
    "colab": {
      "provenance": [],
      "authorship_tag": "ABX9TyMLitXZQNFljLN0Bcb2uePv",
      "include_colab_link": true
    },
    "kernelspec": {
      "name": "python3",
      "display_name": "Python 3"
    },
    "language_info": {
      "name": "python"
    }
  },
  "cells": [
    {
      "cell_type": "markdown",
      "metadata": {
        "id": "view-in-github",
        "colab_type": "text"
      },
      "source": [
        "<a href=\"https://colab.research.google.com/github/Dabin-Park/BaekJoon/blob/main/Gold/17251(%ED%9E%98%20%EA%B2%A8%EB%A3%A8%EA%B8%B0).ipynb\" target=\"_parent\"><img src=\"https://colab.research.google.com/assets/colab-badge.svg\" alt=\"Open In Colab\"/></a>"
      ]
    },
    {
      "cell_type": "code",
      "source": [
        "def sol(N):\n",
        "    People = list(map(int,input().split()))\n",
        "    max_people = max(People)\n",
        "    num_max = People.count(max_people)\n",
        "    if num_max == 1:\n",
        "        idx = People.index(max_people)\n",
        "        if 2*idx+1 == N:\n",
        "            return \"X\"\n",
        "        elif idx < N/2:\n",
        "            return \"R\"\n",
        "        return \"B\"\n",
        "    else:\n",
        "        idx1 = People.index(max_people)\n",
        "        idx2 = People[::-1].index(max_people)\n",
        "        if idx1 == idx2:\n",
        "            return \"X\"\n",
        "        elif idx1 > idx2:\n",
        "            return \"B\"\n",
        "        return \"R\"\n",
        "    \n",
        "print(sol(int(input())))"
      ],
      "metadata": {
        "colab": {
          "base_uri": "https://localhost:8080/"
        },
        "id": "hP4gfGRVQYlr",
        "outputId": "135ffba0-a51f-4828-8b54-9e5ea96ec982"
      },
      "execution_count": 1,
      "outputs": [
        {
          "output_type": "stream",
          "name": "stdout",
          "text": [
            "6\n",
            "9 15 18 7 13 11\n",
            "R\n"
          ]
        }
      ]
    },
    {
      "cell_type": "code",
      "source": [
        "def sol(_):\n",
        "    People = list(map(int,input().split()))\n",
        "    max_people = max(People)\n",
        "    idx1 = People.index(max_people)\n",
        "    idx2 = People[::-1].index(max_people)\n",
        "    if idx1 == idx2:\n",
        "        return \"X\"\n",
        "    elif idx1 > idx2:\n",
        "        return \"B\"\n",
        "    return \"R\"\n",
        "    \n",
        "print(sol(int(input())))"
      ],
      "metadata": {
        "colab": {
          "base_uri": "https://localhost:8080/"
        },
        "id": "BYNtq_Ywoefu",
        "outputId": "ee20a6ee-0827-43a9-ffe1-465d5f0b3278"
      },
      "execution_count": 2,
      "outputs": [
        {
          "output_type": "stream",
          "name": "stdout",
          "text": [
            "6\n",
            "9 15 18 7 13 11\n",
            "R\n"
          ]
        }
      ]
    }
  ]
}