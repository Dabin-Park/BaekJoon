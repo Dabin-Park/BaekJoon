{
  "nbformat": 4,
  "nbformat_minor": 0,
  "metadata": {
    "colab": {
      "provenance": [],
      "collapsed_sections": [],
      "authorship_tag": "ABX9TyPjDN1lCHyz5XMc+F3Q1Tpn",
      "include_colab_link": true
    },
    "kernelspec": {
      "name": "python3",
      "display_name": "Python 3"
    },
    "language_info": {
      "name": "python"
    }
  },
  "cells": [
    {
      "cell_type": "markdown",
      "metadata": {
        "id": "view-in-github",
        "colab_type": "text"
      },
      "source": [
        "<a href=\"https://colab.research.google.com/github/Dabin-Park/BaekJoon/blob/main/Silver/3986(%EC%A2%8B%EC%9D%80%20%EB%8B%A8%EC%96%B4).ipynb\" target=\"_parent\"><img src=\"https://colab.research.google.com/assets/colab-badge.svg\" alt=\"Open In Colab\"/></a>"
      ]
    },
    {
      "cell_type": "code",
      "source": [
        "def sol():\n",
        "    num = 0\n",
        "    for _ in range(int(input())):\n",
        "        Good_word = list(input().rstrip())\n",
        "        if len(Good_word)%2 == 0:\n",
        "            Stack = []\n",
        "            for word in Good_word:\n",
        "                t = 1\n",
        "                if Stack:\n",
        "                    if Stack[-1] == word:\n",
        "                        del Stack[-1]\n",
        "                        t = 0\n",
        "                if t:\n",
        "                    Stack.append(word)\n",
        "            if not Stack :\n",
        "                num += 1\n",
        "    return num\n",
        "                       \n",
        "print(sol())         "
      ],
      "metadata": {
        "id": "k7eFI1eAZZ1Z",
        "outputId": "a3b887af-b2e5-4c35-d1ff-f57733f1984b",
        "colab": {
          "base_uri": "https://localhost:8080/"
        }
      },
      "execution_count": 2,
      "outputs": [
        {
          "output_type": "stream",
          "name": "stdout",
          "text": [
            "3\n",
            "ABAB\n",
            "AABB\n",
            "ABBA\n",
            "2\n"
          ]
        }
      ]
    },
    {
      "cell_type": "code",
      "source": [
        "def sol():\n",
        "    num = 0\n",
        "    for _ in range(int(input())):\n",
        "        Good_word = input().rstrip()\n",
        "        if len(Good_word)%2 == 0:\n",
        "            temp = ''\n",
        "            while Good_word != temp:\n",
        "                temp = Good_word\n",
        "                Good_word = Good_word.replace(\"AA\",\"\").replace(\"BB\",\"\")\n",
        "            if not Good_word:\n",
        "                num += 1\n",
        "    return num\n",
        "                       \n",
        "print(sol())"
      ],
      "metadata": {
        "colab": {
          "base_uri": "https://localhost:8080/"
        },
        "id": "g8rwV6pIx12E",
        "outputId": "0601faac-d379-4a67-f991-71d65b8b9e8f"
      },
      "execution_count": 3,
      "outputs": [
        {
          "output_type": "stream",
          "name": "stdout",
          "text": [
            "3\n",
            "ABAB\n",
            "AABB\n",
            "ABBA\n",
            "2\n"
          ]
        }
      ]
    }
  ]
}