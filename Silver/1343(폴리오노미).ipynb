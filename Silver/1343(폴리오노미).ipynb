{
  "cells": [
    {
      "cell_type": "markdown",
      "metadata": {
        "id": "view-in-github",
        "colab_type": "text"
      },
      "source": [
        "<a href=\"https://colab.research.google.com/github/Dabin-Park/BaekJoon/blob/main/Silver/1343(%ED%8F%B4%EB%A6%AC%EC%98%A4%EB%85%B8%EB%AF%B8)ipynb.ipynb\" target=\"_parent\"><img src=\"https://colab.research.google.com/assets/colab-badge.svg\" alt=\"Open In Colab\"/></a>"
      ]
    },
    {
      "cell_type": "code",
      "source": [
        "A = input()\n",
        "A = A.replace('XXXX','AAAA')\n",
        "A = A.replace(\"XX\",'BB')\n",
        "\n",
        "if 'X' in A:\n",
        "    print(-1)\n",
        "else:\n",
        "    print(A)"
      ],
      "metadata": {
        "id": "HBwwya3y6Eyo",
        "outputId": "674082dc-c967-4d66-b178-18e0730db00f",
        "colab": {
          "base_uri": "https://localhost:8080/"
        }
      },
      "execution_count": 1,
      "outputs": [
        {
          "output_type": "stream",
          "name": "stdout",
          "text": [
            "XX.XXXXXXXXXX..XXXXXXXX...XXXXXX\n",
            "BB.AAAAAAAABB..AAAAAAAA...AAAABB\n"
          ]
        }
      ]
    }
  ],
  "metadata": {
    "colab": {
      "name": "1343(폴리오노미)ipynb",
      "provenance": [],
      "collapsed_sections": [],
      "authorship_tag": "ABX9TyO7dQw1p6NN+IruWjrY+pSm",
      "include_colab_link": true
    },
    "kernelspec": {
      "display_name": "Python 3",
      "name": "python3"
    },
    "language_info": {
      "name": "python"
    }
  },
  "nbformat": 4,
  "nbformat_minor": 0
}
