{
  "nbformat": 4,
  "nbformat_minor": 0,
  "metadata": {
    "colab": {
      "provenance": [],
      "authorship_tag": "ABX9TyNokF7jyVIrd6M5OFCQ6YmT",
      "include_colab_link": true
    },
    "kernelspec": {
      "name": "python3",
      "display_name": "Python 3"
    },
    "language_info": {
      "name": "python"
    }
  },
  "cells": [
    {
      "cell_type": "markdown",
      "metadata": {
        "id": "view-in-github",
        "colab_type": "text"
      },
      "source": [
        "<a href=\"https://colab.research.google.com/github/Dabin-Park/BaekJoon/blob/main/Silver/22403(%E9%98%BF%E5%90%BD%E3%81%AE%E5%91%BC%E5%90%B8).ipynb\" target=\"_parent\"><img src=\"https://colab.research.google.com/assets/colab-badge.svg\" alt=\"Open In Colab\"/></a>"
      ]
    },
    {
      "cell_type": "code",
      "source": [
        "def sol(N):\n",
        "    num = 0\n",
        "    Talk = [input().rstrip() for _ in range(N)]\n",
        "    for i in range(N):\n",
        "        if Talk[i] == \"A\":\n",
        "            num += 1\n",
        "        elif num:\n",
        "            num -= 1\n",
        "        else:\n",
        "            return \"NO\"\n",
        "    if num:\n",
        "        return \"NO\"\n",
        "    return \"YES\"\n",
        "\n",
        "print(sol(int(input())))  "
      ],
      "metadata": {
        "colab": {
          "base_uri": "https://localhost:8080/"
        },
        "id": "-n7Jl3MFSbU9",
        "outputId": "b1b88557-a6a2-4145-9b10-e9f34262ac74"
      },
      "execution_count": 1,
      "outputs": [
        {
          "output_type": "stream",
          "name": "stdout",
          "text": [
            "4\n",
            "A\n",
            "Un\n",
            "A\n",
            "Un\n",
            "YES\n"
          ]
        }
      ]
    }
  ]
}