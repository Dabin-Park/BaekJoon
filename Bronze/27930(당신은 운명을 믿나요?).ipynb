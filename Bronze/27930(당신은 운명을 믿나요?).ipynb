{
  "nbformat": 4,
  "nbformat_minor": 0,
  "metadata": {
    "colab": {
      "provenance": [],
      "authorship_tag": "ABX9TyNBIOEapFTecB1n8ROtzTMA",
      "include_colab_link": true
    },
    "kernelspec": {
      "name": "python3",
      "display_name": "Python 3"
    },
    "language_info": {
      "name": "python"
    }
  },
  "cells": [
    {
      "cell_type": "markdown",
      "metadata": {
        "id": "view-in-github",
        "colab_type": "text"
      },
      "source": [
        "<a href=\"https://colab.research.google.com/github/Dabin-Park/BaekJoon/blob/main/Bronze/27930(%EB%8B%B9%EC%8B%A0%EC%9D%80%20%EC%9A%B4%EB%AA%85%EC%9D%84%20%EB%AF%BF%EB%82%98%EC%9A%94%3F).ipynb\" target=\"_parent\"><img src=\"https://colab.research.google.com/assets/colab-badge.svg\" alt=\"Open In Colab\"/></a>"
      ]
    },
    {
      "cell_type": "code",
      "source": [
        "def sol(K,Y,i,j):\n",
        "    for n in input().rstrip():\n",
        "        if n == K[i]:\n",
        "            if i == -1:\n",
        "                return K\n",
        "            i += 1\n",
        "        if n == Y[j]:\n",
        "            if j == -1:\n",
        "                return Y\n",
        "            j += 1  \n",
        "            \n",
        "print(sol('KOREA','YONSEI',-5,-6))"
      ],
      "metadata": {
        "id": "Eum8oDR9H9Ie",
        "colab": {
          "base_uri": "https://localhost:8080/"
        },
        "outputId": "7ee40d61-02d0-4879-b232-9f6c9f0c07f1"
      },
      "execution_count": 1,
      "outputs": [
        {
          "output_type": "stream",
          "name": "stdout",
          "text": [
            "KOYONSEREAI\n",
            "KOREA\n"
          ]
        }
      ]
    }
  ]
}