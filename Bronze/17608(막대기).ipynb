{
  "nbformat": 4,
  "nbformat_minor": 0,
  "metadata": {
    "colab": {
      "provenance": [],
      "collapsed_sections": [],
      "authorship_tag": "ABX9TyOo9OnprBwU7MNqBv9aVgf7",
      "include_colab_link": true
    },
    "kernelspec": {
      "name": "python3",
      "display_name": "Python 3"
    },
    "language_info": {
      "name": "python"
    }
  },
  "cells": [
    {
      "cell_type": "markdown",
      "metadata": {
        "id": "view-in-github",
        "colab_type": "text"
      },
      "source": [
        "<a href=\"https://colab.research.google.com/github/Dabin-Park/BaekJoon/blob/main/Bronze/17608(%EB%A7%89%EB%8C%80%EA%B8%B0).ipynb\" target=\"_parent\"><img src=\"https://colab.research.google.com/assets/colab-badge.svg\" alt=\"Open In Colab\"/></a>"
      ]
    },
    {
      "cell_type": "code",
      "source": [
        "Stack = []\n",
        "for _ in range(int(input())):\n",
        "    N = int(input())\n",
        "    if Stack:\n",
        "        while Stack and Stack[-1] <= N:\n",
        "            del Stack[-1]\n",
        "    Stack.append(N)\n",
        "\n",
        "print(len(Stack))       "
      ],
      "metadata": {
        "id": "ZFrLikbd4n2z",
        "outputId": "02eb679c-0c4e-46d6-af35-a12fd056f1fb",
        "colab": {
          "base_uri": "https://localhost:8080/"
        }
      },
      "execution_count": 2,
      "outputs": [
        {
          "output_type": "stream",
          "name": "stdout",
          "text": [
            "6\n",
            "6\n",
            "9\n",
            "7\n",
            "6\n",
            "4\n",
            "6\n",
            "3\n"
          ]
        }
      ]
    }
  ]
}