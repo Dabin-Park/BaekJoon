{
  "nbformat": 4,
  "nbformat_minor": 0,
  "metadata": {
    "colab": {
      "provenance": [],
      "collapsed_sections": [],
      "authorship_tag": "ABX9TyN/Dh1tIabHNwgwQxmuOh4G",
      "include_colab_link": true
    },
    "kernelspec": {
      "name": "python3",
      "display_name": "Python 3"
    },
    "language_info": {
      "name": "python"
    }
  },
  "cells": [
    {
      "cell_type": "markdown",
      "metadata": {
        "id": "view-in-github",
        "colab_type": "text"
      },
      "source": [
        "<a href=\"https://colab.research.google.com/github/Dabin-Park/BaekJoon/blob/main/Gold/10942(%ED%8C%B0%EB%A6%B0%EB%93%9C%EB%A1%AC%3F).ipynb\" target=\"_parent\"><img src=\"https://colab.research.google.com/assets/colab-badge.svg\" alt=\"Open In Colab\"/></a>"
      ]
    },
    {
      "cell_type": "code",
      "source": [
        "def sol(N):\n",
        "    Blackboard = tuple(map(int,input().split()))\n",
        "    dp = [[0]*N for _ in range(N)]\n",
        "    for i in range(N):\n",
        "        dp[i][i] = 1\n",
        "    for i in range(N-1,-1,-1):\n",
        "        for j in range(N-1,i,-1):\n",
        "            if Blackboard[i] == Blackboard[j]:\n",
        "                if j == i+1:\n",
        "                    dp[i][j] = 1\n",
        "                else:\n",
        "                    dp[i][j] = dp[i+1][j-1]\n",
        "    \n",
        "    for _ in range(int(input())):\n",
        "        i,j = map(int,input().split())\n",
        "        print(dp[i-1][j-1])\n",
        "\n",
        "sol(int(input()))"
      ],
      "metadata": {
        "id": "k7eFI1eAZZ1Z",
        "outputId": "29a7abe6-0f31-4d94-c865-4899fb4188e4",
        "colab": {
          "base_uri": "https://localhost:8080/"
        }
      },
      "execution_count": 4,
      "outputs": [
        {
          "output_type": "stream",
          "name": "stdout",
          "text": [
            "7\n",
            "1 2 1 3 1 2 1\n",
            "4\n",
            "1 3\n",
            "1\n",
            "2 5\n",
            "0\n",
            "3 3\n",
            "1\n",
            "5 7\n",
            "1\n"
          ]
        }
      ]
    }
  ]
}