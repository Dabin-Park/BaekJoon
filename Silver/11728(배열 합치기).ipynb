{
  "nbformat": 4,
  "nbformat_minor": 0,
  "metadata": {
    "colab": {
      "name": "Silver/11728(배열 합치기).ipynb",
      "provenance": [],
      "authorship_tag": "ABX9TyOx4MkUTsaCNb1TqEeDag1+",
      "include_colab_link": true
    },
    "kernelspec": {
      "name": "python3",
      "display_name": "Python 3"
    },
    "language_info": {
      "name": "python"
    }
  },
  "cells": [
    {
      "cell_type": "markdown",
      "metadata": {
        "id": "view-in-github",
        "colab_type": "text"
      },
      "source": [
        "<a href=\"https://colab.research.google.com/github/Dabin-Park/BaekJoon/blob/main/Silver/11728(%EB%B0%B0%EC%97%B4%20%ED%95%A9%EC%B9%98%EA%B8%B0).ipynb\" target=\"_parent\"><img src=\"https://colab.research.google.com/assets/colab-badge.svg\" alt=\"Open In Colab\"/></a>"
      ]
    },
    {
      "cell_type": "code",
      "source": [
        "N,M = map(int,input().split())\n",
        "Numbers = []\n",
        "for _ in range(2):\n",
        "    Numbers += input().split()\n",
        "\n",
        "Numbers.sort(key = lambda x: int(x))\n",
        "print(\" \".join(Numbers))"
      ],
      "metadata": {
        "id": "CGdbDyPnpFQk",
        "outputId": "f96abd18-3720-49c3-d01f-13c204cbe614",
        "colab": {
          "base_uri": "https://localhost:8080/"
        }
      },
      "execution_count": 3,
      "outputs": [
        {
          "output_type": "stream",
          "name": "stdout",
          "text": [
            "2 2\n",
            "3 5\n",
            "2 9\n",
            "2 3 5 9\n"
          ]
        }
      ]
    },
    {
      "cell_type": "code",
      "source": [
        "_,_ = map(int,input().split())\n",
        "Numbers = []\n",
        "for _ in range(2):\n",
        "    Numbers += map(int,input().split())\n",
        "    \n",
        "Numbers.sort()\n",
        "print(*Numbers)"
      ],
      "metadata": {
        "colab": {
          "base_uri": "https://localhost:8080/"
        },
        "id": "QVuGCJ5dxe73",
        "outputId": "938a93eb-1af5-4246-f7c9-10738247b817"
      },
      "execution_count": 2,
      "outputs": [
        {
          "output_type": "stream",
          "name": "stdout",
          "text": [
            "2 2\n",
            "3 5\n",
            "2 9\n",
            "2 3 5 9\n"
          ]
        }
      ]
    }
  ]
}