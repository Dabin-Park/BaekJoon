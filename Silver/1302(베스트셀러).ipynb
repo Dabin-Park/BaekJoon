{
  "nbformat": 4,
  "nbformat_minor": 0,
  "metadata": {
    "colab": {
      "provenance": [],
      "authorship_tag": "ABX9TyO81X0BvSdee06+nL2ozLNh",
      "include_colab_link": true
    },
    "kernelspec": {
      "name": "python3",
      "display_name": "Python 3"
    },
    "language_info": {
      "name": "python"
    }
  },
  "cells": [
    {
      "cell_type": "markdown",
      "metadata": {
        "id": "view-in-github",
        "colab_type": "text"
      },
      "source": [
        "<a href=\"https://colab.research.google.com/github/Dabin-Park/BaekJoon/blob/main/Silver/1302(%EB%B2%A0%EC%8A%A4%ED%8A%B8%EC%85%80%EB%9F%AC).ipynb\" target=\"_parent\"><img src=\"https://colab.research.google.com/assets/colab-badge.svg\" alt=\"Open In Colab\"/></a>"
      ]
    },
    {
      "cell_type": "code",
      "execution_count": 1,
      "metadata": {
        "colab": {
          "base_uri": "https://localhost:8080/"
        },
        "id": "YHFUYXj24MLS",
        "outputId": "3ca2cc67-022c-4734-b27e-d9c0af719878"
      },
      "outputs": [
        {
          "output_type": "stream",
          "name": "stdout",
          "text": [
            "5\n",
            "top\n",
            "top\n",
            "top\n",
            "top\n",
            "kimtop\n",
            "top\n"
          ]
        }
      ],
      "source": [
        "def sol(N):\n",
        "    Dict = {}\n",
        "    for _ in range(N):\n",
        "        book = input().rstrip()\n",
        "        if book in Dict:\n",
        "            Dict[book] += 1\n",
        "        else:\n",
        "            Dict[book] = 1\n",
        "    min_ = 0\n",
        "    Best = []\n",
        "    for book in Dict:\n",
        "        num = Dict[book]   \n",
        "        if num == min_:\n",
        "            Best.append(book)\n",
        "        elif num > min_:\n",
        "            min_ = num\n",
        "            Best = [book]\n",
        "    return sorted(Best, key = str)[0]\n",
        "            \n",
        "print(sol(int(input())))  "
      ]
    }
  ]
}