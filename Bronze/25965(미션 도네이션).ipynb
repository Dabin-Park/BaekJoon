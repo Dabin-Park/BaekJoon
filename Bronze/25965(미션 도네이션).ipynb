{
  "nbformat": 4,
  "nbformat_minor": 0,
  "metadata": {
    "colab": {
      "provenance": [],
      "authorship_tag": "ABX9TyPr+t3qKPhv3PmM/0bY6gTk",
      "include_colab_link": true
    },
    "kernelspec": {
      "name": "python3",
      "display_name": "Python 3"
    },
    "language_info": {
      "name": "python"
    }
  },
  "cells": [
    {
      "cell_type": "markdown",
      "metadata": {
        "id": "view-in-github",
        "colab_type": "text"
      },
      "source": [
        "<a href=\"https://colab.research.google.com/github/Dabin-Park/BaekJoon/blob/main/Bronze/25965(%EB%AF%B8%EC%85%98%20%EB%8F%84%EB%84%A4%EC%9D%B4%EC%85%98).ipynb\" target=\"_parent\"><img src=\"https://colab.research.google.com/assets/colab-badge.svg\" alt=\"Open In Colab\"/></a>"
      ]
    },
    {
      "cell_type": "code",
      "source": [
        "def sol(N):\n",
        "    for _ in range(N):\n",
        "        M = int(input())\n",
        "        Mission = [[0]*3 for _ in range(M)]\n",
        "        for i in range(M):\n",
        "            for idx, money in enumerate(map(int,input().split())):\n",
        "                Mission[i][idx] = ((-1)**idx)*money\n",
        "        money = 0\n",
        "        KDA = list(map(int,input().split()))\n",
        "        for i in range(M):\n",
        "            mission = 0 \n",
        "            for j in range(3):\n",
        "                mission += KDA[j]*Mission[i][j]\n",
        "            money += max(0,mission)\n",
        "        print(money) \n",
        "\n",
        "sol(int(input()))"
      ],
      "metadata": {
        "colab": {
          "base_uri": "https://localhost:8080/"
        },
        "id": "-n7Jl3MFSbU9",
        "outputId": "01181c16-df0c-45d9-c58f-44f97762e84e"
      },
      "execution_count": 1,
      "outputs": [
        {
          "output_type": "stream",
          "name": "stdout",
          "text": [
            "2\n",
            "2\n",
            "1000 2000 3000\n",
            "1000 4000 1000\n",
            "4 1 2\n",
            "10000\n",
            "1\n",
            "4000 3000 2000\n",
            "2 4 2\n",
            "0\n"
          ]
        }
      ]
    },
    {
      "cell_type": "code",
      "source": [
        "def sol(N):\n",
        "    for _ in range(N):\n",
        "        Mission = [list(map(int,input().split())) for _ in range(int(input()))]\n",
        "        K,D,A = map(int,input().split())\n",
        "        money = 0\n",
        "        for k,d,a in Mission:\n",
        "            money += max(0,K*k-D*d+A*a)\n",
        "        print(money) \n",
        "\n",
        "sol(int(input()))"
      ],
      "metadata": {
        "colab": {
          "base_uri": "https://localhost:8080/"
        },
        "id": "0yKDlnYF00-0",
        "outputId": "bf071fc3-100f-4b99-9ba9-1620c67bf09c"
      },
      "execution_count": 2,
      "outputs": [
        {
          "output_type": "stream",
          "name": "stdout",
          "text": [
            "2\n",
            "2\n",
            "1000 2000 3000\n",
            "1000 4000 1000\n",
            "4 1 2\n",
            "10000\n",
            "1 \n",
            "4000 3000 2000\n",
            "2 4 2\n",
            "0\n"
          ]
        }
      ]
    }
  ]
}