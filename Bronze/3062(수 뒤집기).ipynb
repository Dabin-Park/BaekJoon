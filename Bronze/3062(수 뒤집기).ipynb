{
  "nbformat": 4,
  "nbformat_minor": 0,
  "metadata": {
    "colab": {
      "provenance": [],
      "authorship_tag": "ABX9TyP91Wy5kIgc3ZM60UbJb1Ce",
      "include_colab_link": true
    },
    "kernelspec": {
      "name": "python3",
      "display_name": "Python 3"
    },
    "language_info": {
      "name": "python"
    }
  },
  "cells": [
    {
      "cell_type": "markdown",
      "metadata": {
        "id": "view-in-github",
        "colab_type": "text"
      },
      "source": [
        "<a href=\"https://colab.research.google.com/github/Dabin-Park/BaekJoon/blob/main/Bronze/3062(%EC%88%98%20%EB%92%A4%EC%A7%91%EA%B8%B0).ipynb\" target=\"_parent\"><img src=\"https://colab.research.google.com/assets/colab-badge.svg\" alt=\"Open In Colab\"/></a>"
      ]
    },
    {
      "cell_type": "code",
      "source": [
        "def sol():\n",
        "    for _ in range(int(input())):\n",
        "        N = int(input())\n",
        "        N = str(N + int(str(N)[::-1]))\n",
        "        print(\"YES\" if N == N[::-1] else \"NO\")\n",
        "\n",
        "sol()"
      ],
      "metadata": {
        "colab": {
          "base_uri": "https://localhost:8080/"
        },
        "id": "WgAVHO6Man3x",
        "outputId": "a1080729-ae07-4a41-c8e1-e931bf12ddbe"
      },
      "execution_count": 3,
      "outputs": [
        {
          "output_type": "stream",
          "name": "stdout",
          "text": [
            "4\n",
            "13\n",
            "YES\n",
            "58\n",
            "NO\n",
            "120\n",
            "YES\n",
            "5056\n",
            "NO\n"
          ]
        }
      ]
    }
  ]
}