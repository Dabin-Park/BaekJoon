{
  "nbformat": 4,
  "nbformat_minor": 0,
  "metadata": {
    "colab": {
      "provenance": [],
      "authorship_tag": "ABX9TyMwJ9bVLgN+af0yejIIQSo+",
      "include_colab_link": true
    },
    "kernelspec": {
      "name": "python3",
      "display_name": "Python 3"
    },
    "language_info": {
      "name": "python"
    }
  },
  "cells": [
    {
      "cell_type": "markdown",
      "metadata": {
        "id": "view-in-github",
        "colab_type": "text"
      },
      "source": [
        "<a href=\"https://colab.research.google.com/github/Dabin-Park/BaekJoon/blob/main/Silver/26152(%ED%94%8C%EB%9E%98%ED%94%BC%20%EB%B2%84%EB%93%9C%20%EC%8A%A4%EC%BD%94%EC%96%B4%EB%A7%81).ipynb\" target=\"_parent\"><img src=\"https://colab.research.google.com/assets/colab-badge.svg\" alt=\"Open In Colab\"/></a>"
      ]
    },
    {
      "cell_type": "code",
      "source": [
        "def sol(N):\n",
        "    Up = list(map(int,input().split()))\n",
        "    Down = list(map(int,input().split()))\n",
        "    Q = int(input())\n",
        "    Bird = list(map(int,input().split()))\n",
        "    Dict_of_Bird = {bird : N for bird in Bird}\n",
        "    sort_of_Bird = sorted(Bird,reverse=True)\n",
        "    max_ = sort_of_Bird[0]\n",
        "    num = j = 0\n",
        "    for i in range(N):\n",
        "        high = Up[i] - Down[i]\n",
        "        if max_ > high:\n",
        "            max_ = high\n",
        "            while j < Q and sort_of_Bird[j] > max_:\n",
        "                Dict_of_Bird[sort_of_Bird[j]] = num\n",
        "                j += 1          \n",
        "        num += 1\n",
        "    for bird in Bird:\n",
        "        print(Dict_of_Bird[bird])\n",
        "\n",
        "sol(int(input()))"
      ],
      "metadata": {
        "colab": {
          "base_uri": "https://localhost:8080/"
        },
        "id": "yddJQ_ep_kej",
        "outputId": "021a2967-7314-4f34-fdb7-b48f4b60ae7f"
      },
      "execution_count": 1,
      "outputs": [
        {
          "output_type": "stream",
          "name": "stdout",
          "text": [
            "7\n",
            "10 5 7 7 8 9 10\n",
            "1 -1 2 -1 5 2 9\n",
            "4\n",
            "3 7 5 1\n",
            "6\n",
            "1\n",
            "4\n",
            "7\n"
          ]
        }
      ]
    },
    {
      "cell_type": "code",
      "source": [
        "def sol(N):\n",
        "    Up = list(map(int,input().split()))\n",
        "    Down = list(map(int,input().split()))\n",
        "    Q = int(input())\n",
        "    Bird = list(map(int,input().split()))\n",
        "    Dict_of_Bird = {bird : N for bird in Bird}\n",
        "    sort_of_Bird = sorted(Bird, reverse=True)\n",
        "    max_ = sort_of_Bird[0]\n",
        "    num = j = 0\n",
        "    for i in range(N):\n",
        "        high = Up[i] - Down[i]\n",
        "        if max_ > high:\n",
        "            while j < Q and sort_of_Bird[j] > high:\n",
        "                max_ = sort_of_Bird[j]\n",
        "                Dict_of_Bird[max_] = num\n",
        "                j += 1           \n",
        "        num += 1\n",
        "    for bird in Bird:\n",
        "        print(Dict_of_Bird[bird])\n",
        "\n",
        "sol(int(input()))"
      ],
      "metadata": {
        "colab": {
          "base_uri": "https://localhost:8080/"
        },
        "id": "Y5emMJPHY9Yi",
        "outputId": "9f74ca39-6e2f-49dc-c810-56f5bf6f35e5"
      },
      "execution_count": 2,
      "outputs": [
        {
          "output_type": "stream",
          "name": "stdout",
          "text": [
            "7\n",
            "10 5 7 7 8 9 10\n",
            "1 -1 2 -1 5 2 9\n",
            "4\n",
            "3 7 5 1\n",
            "6\n",
            "1\n",
            "4\n",
            "7\n"
          ]
        }
      ]
    }
  ]
}