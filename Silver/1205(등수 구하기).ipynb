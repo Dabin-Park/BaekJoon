{
  "cells": [
    {
      "cell_type": "markdown",
      "metadata": {
        "id": "view-in-github",
        "colab_type": "text"
      },
      "source": [
        "<a href=\"https://colab.research.google.com/github/Dabin-Park/BaekJoon/blob/main/Silver/1205(%EB%93%B1%EC%88%98%20%EA%B5%AC%ED%95%98%EA%B8%B0).ipynb\" target=\"_parent\"><img src=\"https://colab.research.google.com/assets/colab-badge.svg\" alt=\"Open In Colab\"/></a>"
      ]
    },
    {
      "cell_type": "code",
      "source": [
        "N, score, P = map(int,input().split())\n",
        "\n",
        "if N > 0:\n",
        "    S = list(map(int,input().split()))\n",
        "\n",
        "    rank = 0\n",
        "    if N == P:\n",
        "        if score <= S[N-1]:\n",
        "            rank = -1\n",
        "        else:\n",
        "            for s in S:\n",
        "                if s <= score:\n",
        "                    rank = S.index(s)+1\n",
        "                    break\n",
        "\n",
        "    else:\n",
        "        for s in S:\n",
        "            if s <= score:\n",
        "                rank = S.index(s)+1 \n",
        "                break\n",
        "        if rank == 0:\n",
        "            rank = N+1\n",
        "else:\n",
        "    rank = 1\n",
        "                  \n",
        "print(rank)"
      ],
      "metadata": {
        "id": "HBwwya3y6Eyo",
        "outputId": "c3a8f0a4-a7f5-48b9-f033-b12e4bf8d842",
        "colab": {
          "base_uri": "https://localhost:8080/"
        }
      },
      "execution_count": 1,
      "outputs": [
        {
          "output_type": "stream",
          "name": "stdout",
          "text": [
            "10 1 10\n",
            "10 9 8 7 6 5 4 3 3 0\n",
            "10\n"
          ]
        }
      ]
    }
  ],
  "metadata": {
    "colab": {
      "name": "1205(등수 구하기).ipynb",
      "provenance": [],
      "collapsed_sections": [],
      "authorship_tag": "ABX9TyPR91ujwNCmh7DqOu2VioJM",
      "include_colab_link": true
    },
    "kernelspec": {
      "display_name": "Python 3",
      "name": "python3"
    },
    "language_info": {
      "name": "python"
    }
  },
  "nbformat": 4,
  "nbformat_minor": 0
}