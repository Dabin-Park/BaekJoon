{
  "nbformat": 4,
  "nbformat_minor": 0,
  "metadata": {
    "colab": {
      "name": "Silver/4779(칸토어 집합).ipynb",
      "provenance": [],
      "authorship_tag": "ABX9TyMh9TId41NG2BGx6tZ8V066",
      "include_colab_link": true
    },
    "kernelspec": {
      "name": "python3",
      "display_name": "Python 3"
    },
    "language_info": {
      "name": "python"
    }
  },
  "cells": [
    {
      "cell_type": "markdown",
      "metadata": {
        "id": "view-in-github",
        "colab_type": "text"
      },
      "source": [
        "<a href=\"https://colab.research.google.com/github/Dabin-Park/BaekJoon/blob/main/Silver/4779(%EC%B9%B8%ED%86%A0%EC%96%B4%20%EC%A7%91%ED%95%A9).ipynb\" target=\"_parent\"><img src=\"https://colab.research.google.com/assets/colab-badge.svg\" alt=\"Open In Colab\"/></a>"
      ]
    },
    {
      "cell_type": "code",
      "source": [
        "def f(S):\n",
        "    len_S = len(S)\n",
        "    if len_S == 1 or S[1] == \" \":\n",
        "        print(\"\".join(S))\n",
        "    else:\n",
        "        i,num = 0,0\n",
        "        while i < len(S):\n",
        "            if S[i] == \" \" and S[i-1] == \"-\":\n",
        "                a = num //3\n",
        "                S[i-num + a:i - a] = [\" \"]*a\n",
        "            elif S[i] == \"-\":\n",
        "                num += 1\n",
        "            else:\n",
        "                num = 0\n",
        "            i += 1\n",
        "        a = num //3\n",
        "        S[i-num + a:i - a] = [\" \"]*a\n",
        "        f(S)\n",
        "        \n",
        "while True:\n",
        "    N = list(map(int,input().split()))\n",
        "    if N:\n",
        "        f(['-']*(3**N[0]))\n",
        "    else:\n",
        "        break"
      ],
      "metadata": {
        "id": "CGdbDyPnpFQk",
        "outputId": "9e03471c-ffe1-4a7d-bc59-d3be69628a93",
        "colab": {
          "base_uri": "https://localhost:8080/"
        }
      },
      "execution_count": 2,
      "outputs": [
        {
          "name": "stdout",
          "output_type": "stream",
          "text": [
            "0\n",
            "-\n",
            "1\n",
            "- -\n",
            "2\n",
            "- -   - -\n",
            "3\n",
            "- -   - -         - -   - -\n",
            "\n"
          ]
        }
      ]
    },
    {
      "cell_type": "code",
      "source": [
        "def Cantor(S,start,end):\n",
        "    if start == end:\n",
        "        return\n",
        "    l = (end - start + 1)//3\n",
        "    S[start+l: start +2*l] = [\" \"]*l\n",
        "    Cantor(S,start,start+l-1)\n",
        "    Cantor(S, end-l+1, end)\n",
        "    \n",
        "\n",
        "while True:\n",
        "    N = list(map(int,input().split()))\n",
        "    if N:\n",
        "        S = ['-']*(3**N[0])\n",
        "        Cantor(S,0,3**N[0]-1)\n",
        "        print(\"\".join(S))   \n",
        "    else:\n",
        "        break"
      ],
      "metadata": {
        "colab": {
          "base_uri": "https://localhost:8080/"
        },
        "id": "QVuGCJ5dxe73",
        "outputId": "99c14e45-234f-4977-9a22-aecc3c55d142"
      },
      "execution_count": 3,
      "outputs": [
        {
          "name": "stdout",
          "output_type": "stream",
          "text": [
            "0\n",
            "-\n",
            "1\n",
            "- -\n",
            "2\n",
            "- -   - -\n",
            "3\n",
            "- -   - -         - -   - -\n",
            "\n"
          ]
        }
      ]
    }
  ]
}