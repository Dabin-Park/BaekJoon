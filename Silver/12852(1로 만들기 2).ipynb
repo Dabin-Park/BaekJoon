{
  "nbformat": 4,
  "nbformat_minor": 0,
  "metadata": {
    "colab": {
      "name": "12852(1로 만들기 2).ipynb",
      "provenance": [],
      "authorship_tag": "ABX9TyMBcTIG00cSupep4r6odro1",
      "include_colab_link": true
    },
    "kernelspec": {
      "name": "python3",
      "display_name": "Python 3"
    },
    "language_info": {
      "name": "python"
    }
  },
  "cells": [
    {
      "cell_type": "markdown",
      "metadata": {
        "id": "view-in-github",
        "colab_type": "text"
      },
      "source": [
        "<a href=\"https://colab.research.google.com/github/Dabin-Park/BaekJoon/blob/main/Silver/12852(1%EB%A1%9C%20%EB%A7%8C%EB%93%A4%EA%B8%B0%202).ipynb\" target=\"_parent\"><img src=\"https://colab.research.google.com/assets/colab-badge.svg\" alt=\"Open In Colab\"/></a>"
      ]
    },
    {
      "cell_type": "code",
      "source": [
        "X = int(input())\n",
        "Numbers = [[0,0] for _ in range(X+1)]\n",
        "\n",
        "Numbers[1] = [0,0]\n",
        "if X >= 2:\n",
        "    Numbers[2] = [1,1]\n",
        "    if X >= 4:\n",
        "        Numbers[4] = [2,2]\n",
        "    if X >= 3:\n",
        "        Numbers[3] = [1,1]\n",
        "\n",
        "for i in range(4,X+1):\n",
        "    Numbers[i][0] = Numbers[i-1][0] + 1\n",
        "    Numbers[i][1] = i-1\n",
        "    if i%3 == 0:\n",
        "        if Numbers[i][0] > Numbers[i//3][0] + 1:\n",
        "            Numbers[i][0] = Numbers[i//3][0] + 1\n",
        "            Numbers[i][1] = i//3\n",
        "    if i%2 == 0:\n",
        "        if Numbers[i][0] > Numbers[i//2][0] + 1:\n",
        "            Numbers[i][0] = Numbers[i//2][0] + 1\n",
        "            Numbers[i][1] = i//2    \n",
        "       \n",
        "print(Numbers[X][0])\n",
        "\n",
        "while X >= 1:\n",
        "    print(X,end = \" \")\n",
        "    X = Numbers[X][1]        "
      ],
      "metadata": {
        "id": "xk6usRE-86iG",
        "colab": {
          "base_uri": "https://localhost:8080/"
        },
        "outputId": "c0dae658-949b-40fc-834b-2544d06e25ad"
      },
      "execution_count": 1,
      "outputs": [
        {
          "output_type": "stream",
          "name": "stdout",
          "text": [
            "10\n",
            "3\n",
            "10 9 3 1 "
          ]
        }
      ]
    },
    {
      "cell_type": "code",
      "source": [
        "X = int(input())\n",
        "Numbers = [[0,1000000] for _ in range(X+1)]\n",
        "\n",
        "Numbers[1] = [0,0]\n",
        "if X >= 2:\n",
        "    Numbers[2] = [1,1]\n",
        "    if X >= 4:\n",
        "        Numbers[4] = [2,2]\n",
        "    if X >= 3:\n",
        "        Numbers[3] = [1,1]\n",
        "\n",
        "for i in range(4,X+1):\n",
        "    if i%3 == 0 and i%2 == 0:\n",
        "        Numbers[i][0] = min(Numbers[i-1][0],Numbers[i//3][0],Numbers[i//2][0]) + 1\n",
        "        Numbers[i][1] = min(i-1,i//3,i//2, key = lambda x: Numbers[x][0])\n",
        "    elif i%3 == 0:\n",
        "        Numbers[i][0] = min(Numbers[i-1][0],Numbers[i//3][0]) + 1\n",
        "        Numbers[i][1] = min(i-1,i//3, key = lambda x: Numbers[x][0])\n",
        "    elif i%2 == 0:\n",
        "        Numbers[i][0] = min(Numbers[i-1][0],Numbers[i//2][0]) + 1\n",
        "        Numbers[i][1] = min(i-1,i//2, key = lambda x: Numbers[x][0])\n",
        "    else:\n",
        "        Numbers[i][0] = Numbers[i-1][0] + 1\n",
        "        Numbers[i][1] = i-1\n",
        "        \n",
        "print(Numbers[X][0])\n",
        "\n",
        "while X >= 1:\n",
        "    print(X,end = \" \")\n",
        "    X = Numbers[X][1]"
      ],
      "metadata": {
        "colab": {
          "base_uri": "https://localhost:8080/"
        },
        "id": "bt0x4FPFPjY8",
        "outputId": "e08c0072-af17-4ad3-d006-55bb81b520e5"
      },
      "execution_count": 2,
      "outputs": [
        {
          "output_type": "stream",
          "name": "stdout",
          "text": [
            "10\n",
            "3\n",
            "10 9 3 1 "
          ]
        }
      ]
    }
  ]
}