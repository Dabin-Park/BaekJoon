{
  "nbformat": 4,
  "nbformat_minor": 0,
  "metadata": {
    "colab": {
      "provenance": [],
      "collapsed_sections": [],
      "authorship_tag": "ABX9TyMZwwx6wP3PKXwF2BY/jb6z",
      "include_colab_link": true
    },
    "kernelspec": {
      "name": "python3",
      "display_name": "Python 3"
    },
    "language_info": {
      "name": "python"
    }
  },
  "cells": [
    {
      "cell_type": "markdown",
      "metadata": {
        "id": "view-in-github",
        "colab_type": "text"
      },
      "source": [
        "<a href=\"https://colab.research.google.com/github/Dabin-Park/BaekJoon/blob/main/Silver/10799(%EC%87%A0%EB%A7%89%EB%8C%80%EA%B8%B0).ipynb\" target=\"_parent\"><img src=\"https://colab.research.google.com/assets/colab-badge.svg\" alt=\"Open In Colab\"/></a>"
      ]
    },
    {
      "cell_type": "code",
      "source": [
        "def sol(Galho):\n",
        "    Stack = num =  0\n",
        "    for i in range(len(Galho)):\n",
        "        if Galho[i] == \"(\":\n",
        "            Stack += 1\n",
        "        elif Galho[i-1] == '(':\n",
        "            Stack -= 1\n",
        "            num += Stack\n",
        "        else:\n",
        "            num += 1\n",
        "            Stack -= 1  \n",
        "    return num\n",
        "\n",
        "print(sol(input().rstrip()))"
      ],
      "metadata": {
        "id": "k7eFI1eAZZ1Z",
        "outputId": "d585d982-6616-4b8c-c0c9-82c1a2b8497a",
        "colab": {
          "base_uri": "https://localhost:8080/"
        }
      },
      "execution_count": 1,
      "outputs": [
        {
          "output_type": "stream",
          "name": "stdout",
          "text": [
            "()(((()())(())()))(())\n",
            "17\n"
          ]
        }
      ]
    },
    {
      "cell_type": "code",
      "source": [
        "def sol(Galho):\n",
        "    Stack = num =  0\n",
        "    for i in range(len(Galho)):\n",
        "        galho = Galho[i]\n",
        "        if galho == \"(\":\n",
        "            Stack += 1\n",
        "        elif galho == '0':\n",
        "            num += Stack\n",
        "        else:\n",
        "            num += 1\n",
        "            Stack -= 1  \n",
        "    return num\n",
        "\n",
        "print(sol(input().rstrip().replace(\"()\",\"0\")))"
      ],
      "metadata": {
        "colab": {
          "base_uri": "https://localhost:8080/"
        },
        "id": "WGwrEXQlX1SQ",
        "outputId": "d42aadf2-88e7-43ab-f3ca-c3ccf28e2022"
      },
      "execution_count": 2,
      "outputs": [
        {
          "output_type": "stream",
          "name": "stdout",
          "text": [
            "()(((()())(())()))(())\n",
            "17\n"
          ]
        }
      ]
    }
  ]
}