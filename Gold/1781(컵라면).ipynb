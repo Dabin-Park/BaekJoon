{
  "nbformat": 4,
  "nbformat_minor": 0,
  "metadata": {
    "colab": {
      "name": "2470(두 용액).ipynb",
      "provenance": [],
      "authorship_tag": "ABX9TyP7AkUGWTIee4D6HLs5WRrE",
      "include_colab_link": true
    },
    "kernelspec": {
      "name": "python3",
      "display_name": "Python 3"
    },
    "language_info": {
      "name": "python"
    }
  },
  "cells": [
    {
      "cell_type": "markdown",
      "metadata": {
        "id": "view-in-github",
        "colab_type": "text"
      },
      "source": [
        "<a href=\"https://colab.research.google.com/github/Dabin-Park/BaekJoon/blob/main/Gold/1781(%EC%BB%B5%EB%9D%BC%EB%A9%B4).ipynb\" target=\"_parent\"><img src=\"https://colab.research.google.com/assets/colab-badge.svg\" alt=\"Open In Colab\"/></a>"
      ]
    },
    {
      "cell_type": "code",
      "source": [
        "N = int(input())\n",
        "day = [[] for _ in range(N+1)]\n",
        "for _ in range(N):\n",
        "    d, noddle = map(int,input().split())\n",
        "    day[d].append(noddle)\n",
        "    \n",
        "total = 0\n",
        "bag = []\n",
        "for i in range(N,0,-1):\n",
        "    if day[i]:\n",
        "        bag += day[i]\n",
        "        bag.sort()\n",
        "    if bag:\n",
        "        total += bag.pop()\n",
        "\n",
        "print(total)"
      ],
      "metadata": {
        "colab": {
          "base_uri": "https://localhost:8080/"
        },
        "id": "4NDvOBDhbpRD",
        "outputId": "5fb14597-0b58-45c4-ca0f-0df114c152c8"
      },
      "execution_count": 3,
      "outputs": [
        {
          "output_type": "stream",
          "name": "stdout",
          "text": [
            "7\n",
            "1 6\n",
            "1 7\n",
            "3 2\n",
            "3 1\n",
            "2 4\n",
            "2 5\n",
            "6 1\n",
            "15\n"
          ]
        }
      ]
    }
  ]
}