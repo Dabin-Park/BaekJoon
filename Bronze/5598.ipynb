{
  "cells": [
    {
      "cell_type": "code",
      "execution_count": null,
      "metadata": {
        "colab": {
          "base_uri": "https://localhost:8080/"
        },
        "id": "28Pf3qy8a8XQ",
        "outputId": "c69bbc37-ea6f-4319-8b00-26fc560ac535"
      },
      "outputs": [
        {
          "name": "stdout",
          "output_type": "stream",
          "text": [
            "FURDWLD\n",
            "CROATIA\n"
          ]
        }
      ],
      "source": [
        "# 5598 번 (아스키 코드!!!!!)\n",
        "a = input()\n",
        "c = \"\"\n",
        "\n",
        "for i in range(len(a)):\n",
        "    b = ord(a[i])   # 문자를 아스키코드로\n",
        "    if b >= 65 and b <= 67:\n",
        "        b += 23\n",
        "    else :      \n",
        "        b -= 3\n",
        "    c += chr(b) # 아스키코드를 문자로\n",
        "\n",
        "print(c)\n",
        "\n",
        "\n"
      ]
    }
  ],
  "metadata": {
    "colab": {
      "name": "백준",
      "provenance": [],
      "authorship_tag": "ABX9TyMIHeXZAqHgjozmc3/gw8sN"
    },
    "kernelspec": {
      "display_name": "Python 3",
      "name": "python3"
    },
    "language_info": {
      "name": "python"
    }
  },
  "nbformat": 4,
  "nbformat_minor": 0
}
