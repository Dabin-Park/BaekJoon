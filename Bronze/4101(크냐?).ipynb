{
  "nbformat": 4,
  "nbformat_minor": 0,
  "metadata": {
    "colab": {
      "provenance": [],
      "authorship_tag": "ABX9TyN6hV7BOHo3ZeY7aPmLyu32",
      "include_colab_link": true
    },
    "kernelspec": {
      "name": "python3",
      "display_name": "Python 3"
    },
    "language_info": {
      "name": "python"
    }
  },
  "cells": [
    {
      "cell_type": "markdown",
      "metadata": {
        "id": "view-in-github",
        "colab_type": "text"
      },
      "source": [
        "<a href=\"https://colab.research.google.com/github/Dabin-Park/BaekJoon/blob/main/Bronze/4101(%ED%81%AC%EB%83%90%3F).ipynb\" target=\"_parent\"><img src=\"https://colab.research.google.com/assets/colab-badge.svg\" alt=\"Open In Colab\"/></a>"
      ]
    },
    {
      "cell_type": "code",
      "execution_count": 1,
      "metadata": {
        "colab": {
          "base_uri": "https://localhost:8080/"
        },
        "id": "V2C1sM_6QvYk",
        "outputId": "af347f0a-218c-4342-808b-943c5b9fc2f2"
      },
      "outputs": [
        {
          "name": "stdout",
          "output_type": "stream",
          "text": [
            "1 19\n",
            "No\n",
            "4 4\n",
            "No\n",
            "23 14\n",
            "Yes\n",
            "0 0 \n"
          ]
        }
      ],
      "source": [
        "def sol():\n",
        "    while 1:\n",
        "        a,b = map(int,input().split())\n",
        "        if a and b:\n",
        "            if a > b:\n",
        "                print(\"Yes\")\n",
        "            else:\n",
        "                print(\"No\")\n",
        "        else:\n",
        "            break\n",
        "\n",
        "sol()"
      ]
    }
  ]
}