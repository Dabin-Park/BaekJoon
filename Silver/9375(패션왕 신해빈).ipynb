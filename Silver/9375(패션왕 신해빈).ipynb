{
  "nbformat": 4,
  "nbformat_minor": 0,
  "metadata": {
    "colab": {
      "provenance": [],
      "authorship_tag": "ABX9TyPIDIqRJ0UV6r6w4AJ6YyXU",
      "include_colab_link": true
    },
    "kernelspec": {
      "name": "python3",
      "display_name": "Python 3"
    },
    "language_info": {
      "name": "python"
    }
  },
  "cells": [
    {
      "cell_type": "markdown",
      "metadata": {
        "id": "view-in-github",
        "colab_type": "text"
      },
      "source": [
        "<a href=\"https://colab.research.google.com/github/Dabin-Park/BaekJoon/blob/main/Silver/9375(%ED%8C%A8%EC%85%98%EC%99%95%20%EC%8B%A0%ED%95%B4%EB%B9%88).ipynb\" target=\"_parent\"><img src=\"https://colab.research.google.com/assets/colab-badge.svg\" alt=\"Open In Colab\"/></a>"
      ]
    },
    {
      "cell_type": "code",
      "execution_count": 1,
      "metadata": {
        "colab": {
          "base_uri": "https://localhost:8080/"
        },
        "id": "wTAxSOsmnSfu",
        "outputId": "07c19cc8-01ef-4921-b330-02e4783552f2"
      },
      "outputs": [
        {
          "output_type": "stream",
          "name": "stdout",
          "text": [
            "2\n",
            "3\n",
            "hat headgear\n",
            "sunglasses eyewear\n",
            "turban headgear\n",
            "5\n",
            "3\n",
            "mask face\n",
            "sunglasses face\n",
            "makeup face\n",
            "3\n"
          ]
        }
      ],
      "source": [
        "for _ in range(int(input())):\n",
        "    Dress = {}\n",
        "    for _ in range(int(input())):\n",
        "        a,b = input().split()\n",
        "        if b in Dress:\n",
        "            if a not in Dress[b]:\n",
        "                Dress[b].add(a)\n",
        "        else:\n",
        "            Dress[b] = set([a])\n",
        "            \n",
        "    sol = 1\n",
        "    for key in Dress:\n",
        "        sol *= len(Dress[key])+1\n",
        "    \n",
        "    print(sol-1)"
      ]
    }
  ]
}