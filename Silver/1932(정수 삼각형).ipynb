{
  "cells": [
    {
      "cell_type": "markdown",
      "metadata": {
        "id": "view-in-github",
        "colab_type": "text"
      },
      "source": [
        "<a href=\"https://colab.research.google.com/github/Dabin-Park/BaekJoon/blob/main/Silver/1932(%EC%A0%95%EC%88%98%20%EC%82%BC%EA%B0%81%ED%98%95).ipynb\" target=\"_parent\"><img src=\"https://colab.research.google.com/assets/colab-badge.svg\" alt=\"Open In Colab\"/></a>"
      ]
    },
    {
      "cell_type": "code",
      "source": [
        "n = int(input())\n",
        "A = []\n",
        "for _ in range(n):\n",
        "    A += list(map(int,input().split()))\n",
        "    \n",
        "t = (n*(n+1))//2\n",
        "dp = [0]*t\n",
        "dp[0] = A[0]\n",
        "\n",
        "s,e,k = 1,2,2\n",
        "\n",
        "for i in range(1,t):\n",
        "    if i > s and i < e:\n",
        "        dp[i] = A[i] + max(dp[i-k],dp[i-k+1])\n",
        "    elif i == s:\n",
        "        dp[i] = A[i] + dp[i-k+1]\n",
        "    else:\n",
        "        dp[i] = A[i] + dp[i-k]\n",
        "        s += k\n",
        "        k += 1\n",
        "        e += k\n",
        "\n",
        "m = 0\n",
        "for i in range(-1,-n-1,-1):\n",
        "    m = max(m,dp[i])\n",
        "\n",
        "print(m)"
      ],
      "metadata": {
        "id": "HBwwya3y6Eyo",
        "outputId": "71abd63b-78c9-44cf-875a-bd2b638c9767",
        "colab": {
          "base_uri": "https://localhost:8080/"
        }
      },
      "execution_count": null,
      "outputs": [
        {
          "output_type": "stream",
          "name": "stdout",
          "text": [
            "5\n",
            "7\n",
            "3 8\n",
            "8 1 0\n",
            "2 7 4 4\n",
            "4 5 2 6 5\n",
            "30\n"
          ]
        }
      ]
    },
    {
      "cell_type": "code",
      "source": [
        "n = int(input())\n",
        "Series = list(map(int,input().split()))\n",
        "dp = [Series+[0]*(n-1),[0]*n]\n",
        "for i in range(1,n):\n",
        "    ind = i%2\n",
        "    Series = list(map(int,input().split()))\n",
        "    for j in range(i+1):\n",
        "        if j == 0:\n",
        "            dp[ind][0] = Series[0] + dp[ind-1][0]\n",
        "        elif j == i:\n",
        "            dp[ind][i] = Series[i] + dp[ind-1][i-1]\n",
        "        else:\n",
        "            dp[ind][j] = Series[j] + max(dp[ind-1][j-1],dp[ind-1][j])\n",
        "print(max(dp[(n-1)%2]))"
      ],
      "metadata": {
        "id": "b9yTJ2VbG5O6",
        "outputId": "cfa93d87-86d4-4147-d109-759b973074f1",
        "colab": {
          "base_uri": "https://localhost:8080/"
        }
      },
      "execution_count": 1,
      "outputs": [
        {
          "output_type": "stream",
          "name": "stdout",
          "text": [
            "5\n",
            "7\n",
            "3 8 \n",
            "8 1 0\n",
            "2 7 4 4\n",
            "4 5 2 6 5\n",
            "30\n"
          ]
        }
      ]
    }
  ],
  "metadata": {
    "colab": {
      "name": "1932(정수 삼각형).ipynb",
      "provenance": [],
      "collapsed_sections": [],
      "authorship_tag": "ABX9TyOsZIMCD+Ddi/BM7WHqGJrU",
      "include_colab_link": true
    },
    "kernelspec": {
      "display_name": "Python 3",
      "name": "python3"
    },
    "language_info": {
      "name": "python"
    }
  },
  "nbformat": 4,
  "nbformat_minor": 0
}