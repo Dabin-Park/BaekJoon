{
  "cells": [
    {
      "cell_type": "markdown",
      "metadata": {
        "id": "view-in-github",
        "colab_type": "text"
      },
      "source": [
        "<a href=\"https://colab.research.google.com/github/Dabin-Park/BaekJoon/blob/main/Bronze/16396(%EC%84%A0%20%EA%B7%B8%EB%A6%AC%EA%B8%B0).ipynb\" target=\"_parent\"><img src=\"https://colab.research.google.com/assets/colab-badge.svg\" alt=\"Open In Colab\"/></a>"
      ]
    },
    {
      "cell_type": "code",
      "source": [
        "N = int(input())\n",
        "a = []\n",
        "\n",
        "for _ in range(N):\n",
        "    b = list(map(int,input().split()))\n",
        "    a.append(b)\n",
        "\n",
        "a = sorted(a)\n",
        "l = 0\n",
        "\n",
        "for i in range(N-1):\n",
        "    if a[i][1] >= a[i+1][0]:\n",
        "        if a[i][1] < a[i+1][1]:\n",
        "            a[i+1] = [a[i][0],a[i+1][1]]\n",
        "        else:\n",
        "            a[i+1]= a[i]\n",
        "    else:\n",
        "        l += (a[i][1]-a[i][0])\n",
        "        \n",
        "\n",
        "l += (a[N-1][1]-a[N-1][0]) \n",
        "      \n",
        "print(l)\n"
      ],
      "metadata": {
        "id": "WPo0VnuEHjys",
        "colab": {
          "base_uri": "https://localhost:8080/"
        },
        "outputId": "116ff49a-87dd-41ed-c03c-2abd27564ccb"
      },
      "execution_count": 1,
      "outputs": [
        {
          "output_type": "stream",
          "name": "stdout",
          "text": [
            "4\n",
            "1 3\n",
            "2 5\n",
            "4 9\n",
            "11 13\n",
            "10\n"
          ]
        }
      ]
    }
  ],
  "metadata": {
    "colab": {
      "name": "16396(선 그리기).ipynb",
      "provenance": [],
      "collapsed_sections": [],
      "authorship_tag": "ABX9TyN4/UfOtX3kZz3RDOHrD8DV",
      "include_colab_link": true
    },
    "kernelspec": {
      "display_name": "Python 3",
      "name": "python3"
    },
    "language_info": {
      "name": "python"
    }
  },
  "nbformat": 4,
  "nbformat_minor": 0
}