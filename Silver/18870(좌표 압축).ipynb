{
  "nbformat": 4,
  "nbformat_minor": 0,
  "metadata": {
    "colab": {
      "name": "18870(좌표 압축).ipynb",
      "provenance": [],
      "authorship_tag": "ABX9TyO+CwPORT5PxWnJbhfZbQCg",
      "include_colab_link": true
    },
    "kernelspec": {
      "name": "python3",
      "display_name": "Python 3"
    },
    "language_info": {
      "name": "python"
    }
  },
  "cells": [
    {
      "cell_type": "markdown",
      "metadata": {
        "id": "view-in-github",
        "colab_type": "text"
      },
      "source": [
        "<a href=\"https://colab.research.google.com/github/Dabin-Park/BaekJoon/blob/main/Silver/18870(%EC%A2%8C%ED%91%9C%20%EC%95%95%EC%B6%95).ipynb\" target=\"_parent\"><img src=\"https://colab.research.google.com/assets/colab-badge.svg\" alt=\"Open In Colab\"/></a>"
      ]
    },
    {
      "cell_type": "code",
      "source": [
        "N = int(input())\n",
        "Axis = list(map(int,input().split()))\n",
        "Axis2 = sorted(list(set(Axis)))\n",
        "DictAxis = {}\n",
        "\n",
        "for i,axis in enumerate(Axis2):\n",
        "   DictAxis[axis] = i \n",
        "\n",
        "for axis in Axis:\n",
        "    print(DictAxis[axis], end =\" \")"
      ],
      "metadata": {
        "id": "xk6usRE-86iG",
        "colab": {
          "base_uri": "https://localhost:8080/"
        },
        "outputId": "799ce9fe-85a3-4045-8ef2-24b5de84286e"
      },
      "execution_count": 3,
      "outputs": [
        {
          "output_type": "stream",
          "name": "stdout",
          "text": [
            "5\n",
            "2 4 -10 4 -9\n",
            "2 3 0 3 1 "
          ]
        }
      ]
    },
    {
      "cell_type": "code",
      "source": [
        "N = int(input())\n",
        "Axis = list(map(int,input().split()))\n",
        "Set_of_Axis = sorted(set(Axis))\n",
        "Dict_of_Axis = {axis:idx for idx,axis in enumerate(Set_of_Axis)}\n",
        "\n",
        "for axis in Axis:\n",
        "    print(Dict_of_Axis[axis], end =\" \")"
      ],
      "metadata": {
        "colab": {
          "base_uri": "https://localhost:8080/"
        },
        "id": "SyrvnbQ5Uthm",
        "outputId": "9377bfeb-e3e2-4ba7-a547-aee13f9f9e00"
      },
      "execution_count": 4,
      "outputs": [
        {
          "output_type": "stream",
          "name": "stdout",
          "text": [
            "5\n",
            "2 4 -10 4 -9\n",
            "2 3 0 3 1 "
          ]
        }
      ]
    }
  ]
}