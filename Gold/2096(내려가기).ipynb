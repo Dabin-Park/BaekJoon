{
  "nbformat": 4,
  "nbformat_minor": 0,
  "metadata": {
    "colab": {
      "name": "2096(내려가기).ipynb",
      "provenance": [],
      "authorship_tag": "ABX9TyOgnod85xzNojLLz0rviYbs",
      "include_colab_link": true
    },
    "kernelspec": {
      "name": "python3",
      "display_name": "Python 3"
    },
    "language_info": {
      "name": "python"
    }
  },
  "cells": [
    {
      "cell_type": "markdown",
      "metadata": {
        "id": "view-in-github",
        "colab_type": "text"
      },
      "source": [
        "<a href=\"https://colab.research.google.com/github/Dabin-Park/BaekJoon/blob/main/Gold/2096(%EB%82%B4%EB%A0%A4%EA%B0%80%EA%B8%B0).ipynb\" target=\"_parent\"><img src=\"https://colab.research.google.com/assets/colab-badge.svg\" alt=\"Open In Colab\"/></a>"
      ]
    },
    {
      "cell_type": "code",
      "execution_count": 2,
      "metadata": {
        "colab": {
          "base_uri": "https://localhost:8080/"
        },
        "id": "dT6CvtQPNnKQ",
        "outputId": "b891ca52-f150-4764-db0b-003a8a61a497"
      },
      "outputs": [
        {
          "output_type": "stream",
          "name": "stdout",
          "text": [
            "3\n",
            "1 2 3\n",
            "4 5 6\n",
            "4 9 0\n",
            "18 6\n"
          ]
        }
      ],
      "source": [
        "N = int(input())\n",
        "dp1 = [[0,0,0] for _ in range(2)]\n",
        "dp2 = [[0,0,0] for _ in range(2)]\n",
        "B = list(map(int,input().split()))\n",
        "for i in range(3):\n",
        "    dp1[0][i] = B[i]\n",
        "    dp2[0][i] = B[i]\n",
        "    \n",
        "for i in range(1,N):\n",
        "    A = list(map(int,input().split()))\n",
        "    if i%2 :\n",
        "        dp1[1][0] = max(dp1[0][0],dp1[0][1]) + A[0]\n",
        "        dp1[1][1] = max(dp1[0][0],dp1[0][1],dp1[0][2]) + A[1]\n",
        "        dp1[1][2] = max(dp1[0][1],dp1[0][2]) + A[2]\n",
        "        dp2[1][0] = min(dp2[0][0],dp2[0][1]) + A[0]\n",
        "        dp2[1][1] = min(dp2[0][0],dp2[0][1],dp2[0][2]) + A[1]\n",
        "        dp2[1][2] = min(dp2[0][1],dp2[0][2]) + A[2]\n",
        "    else:\n",
        "        dp1[0][0] = max(dp1[1][0],dp1[1][1]) + A[0]\n",
        "        dp1[0][1] = max(dp1[1][0],dp1[1][1],dp1[1][2]) + A[1]\n",
        "        dp1[0][2] = max(dp1[1][1],dp1[1][2]) + A[2]\n",
        "        dp2[0][0] = min(dp2[1][0],dp2[1][1]) + A[0]\n",
        "        dp2[0][1] = min(dp2[1][0],dp2[1][1],dp2[1][2]) + A[1]\n",
        "        dp2[0][2] = min(dp2[1][1],dp2[1][2]) + A[2]\n",
        "        \n",
        "if N%2:\n",
        "    print(max(dp1[0]),min(dp2[0]))\n",
        "else:\n",
        "    print(max(dp1[1]),min(dp2[1]))"
      ]
    },
    {
      "cell_type": "code",
      "source": [
        "N = int(input())\n",
        "dp1,dp2 = [0,0,0], [0,0,0]\n",
        "A = list(map(int,input().split()))\n",
        "\n",
        "for i in range(3):\n",
        "    dp1[i], dp2[i] = A[i], A[i]\n",
        "    \n",
        "for i in range(1,N):\n",
        "    A = list(map(int,input().split()))\n",
        "    a = max(dp1[0],dp1[1]) + A[0]\n",
        "    b = max(dp1) + A[1]\n",
        "    c = max(dp1[1],dp1[2]) + A[2]\n",
        "    d = min(dp2[0],dp2[1]) + A[0]\n",
        "    e = min(dp2) + A[1]\n",
        "    f = min(dp2[1],dp2[2]) + A[2]\n",
        "    dp1, dp2 = [a,b,c], [d,e,f]\n",
        "print(max(dp1), min(dp2))"
      ],
      "metadata": {
        "colab": {
          "base_uri": "https://localhost:8080/"
        },
        "id": "QUukMrzBK3vc",
        "outputId": "d736e3bd-d3e1-479b-97a9-021856ed74f4"
      },
      "execution_count": 3,
      "outputs": [
        {
          "output_type": "stream",
          "name": "stdout",
          "text": [
            "3\n",
            "1 2 3\n",
            "4 5 6\n",
            "4 9 0\n",
            "18 6\n"
          ]
        }
      ]
    }
  ]
}