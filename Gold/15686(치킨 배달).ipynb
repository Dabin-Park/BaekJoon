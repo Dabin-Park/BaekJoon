{
  "nbformat": 4,
  "nbformat_minor": 0,
  "metadata": {
    "colab": {
      "name": "15686(치킨 배달).ipynb",
      "provenance": [],
      "collapsed_sections": [],
      "authorship_tag": "ABX9TyN0veJPXJL0X2WemTKe69u2",
      "include_colab_link": true
    },
    "kernelspec": {
      "name": "python3",
      "display_name": "Python 3"
    },
    "language_info": {
      "name": "python"
    }
  },
  "cells": [
    {
      "cell_type": "markdown",
      "metadata": {
        "id": "view-in-github",
        "colab_type": "text"
      },
      "source": [
        "<a href=\"https://colab.research.google.com/github/Dabin-Park/BaekJoon/blob/main/Gold/15686(%EC%B9%98%ED%82%A8%20%EB%B0%B0%EB%8B%AC).ipynb\" target=\"_parent\"><img src=\"https://colab.research.google.com/assets/colab-badge.svg\" alt=\"Open In Colab\"/></a>"
      ]
    },
    {
      "cell_type": "code",
      "source": [
        "from itertools import combinations\n",
        "\n",
        "N,M = map(int,input().split())\n",
        "Town = [list(map(int,input().split())) for _ in range(N)]\n",
        "Chicken, House = [], []\n",
        "for i in range(N):\n",
        "    for j in range(N):\n",
        "        if Town[i][j] == 1:\n",
        "            House.append([i,j])\n",
        "        elif Town[i][j] == 2:\n",
        "            Chicken.append([i,j])\n",
        "\n",
        "all_min = []\n",
        "for chicken in combinations(Chicken,M):\n",
        "    total_min = []\n",
        "    for i,j in House:\n",
        "        num_min = []\n",
        "        for x,y in chicken:\n",
        "            num_min.append(abs(i-x) + abs(j-y))\n",
        "        total_min.append(min(num_min))\n",
        "    all_min.append(sum(total_min))\n",
        "    \n",
        "print(min(all_min))"
      ],
      "metadata": {
        "id": "ZFrLikbd4n2z",
        "outputId": "767981e1-7bc9-4d62-a9b0-f3654dd27ee1",
        "colab": {
          "base_uri": "https://localhost:8080/"
        }
      },
      "execution_count": 1,
      "outputs": [
        {
          "output_type": "stream",
          "name": "stdout",
          "text": [
            "5 3\n",
            "0 0 1 0 0\n",
            "0 0 2 0 1\n",
            "0 1 2 0 0 \n",
            "0 0 1 0 0\n",
            "0 0 0 0 2\n",
            "5\n"
          ]
        }
      ]
    }
  ]
}