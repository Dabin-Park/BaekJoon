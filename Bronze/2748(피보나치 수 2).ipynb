{
  "cells": [
    {
      "cell_type": "markdown",
      "metadata": {
        "id": "view-in-github",
        "colab_type": "text"
      },
      "source": [
        "<a href=\"https://colab.research.google.com/github/Dabin-Park/BaekJoon/blob/main/Bronze/2748(%ED%94%BC%EB%B3%B4%EB%82%98%EC%B9%98%20%EC%88%98%202).ipynb\" target=\"_parent\"><img src=\"https://colab.research.google.com/assets/colab-badge.svg\" alt=\"Open In Colab\"/></a>"
      ]
    },
    {
      "cell_type": "code",
      "source": [
        "n = int(input())\n",
        "\n",
        "a0 = 0\n",
        "a1 = 1\n",
        "for _ in range(n//2):\n",
        "    a0 += a1\n",
        "    a1 += a0\n",
        "    \n",
        "if n % 2 :\n",
        "    print(a1)\n",
        "else:\n",
        "    print(a0)"
      ],
      "metadata": {
        "colab": {
          "base_uri": "https://localhost:8080/"
        },
        "id": "nSrvviDnu1sa",
        "outputId": "ae4ecc90-f7ca-4e08-8f7c-f732264c9594"
      },
      "execution_count": 3,
      "outputs": [
        {
          "output_type": "stream",
          "name": "stdout",
          "text": [
            "10\n",
            "55\n"
          ]
        }
      ]
    }
  ],
  "metadata": {
    "colab": {
      "name": "2748(피보나치 수 2).ipynb",
      "provenance": [],
      "collapsed_sections": [],
      "authorship_tag": "ABX9TyPlGPGuzU1nQyA+vhBvr7Lm",
      "include_colab_link": true
    },
    "kernelspec": {
      "display_name": "Python 3",
      "name": "python3"
    },
    "language_info": {
      "name": "python"
    }
  },
  "nbformat": 4,
  "nbformat_minor": 0
}