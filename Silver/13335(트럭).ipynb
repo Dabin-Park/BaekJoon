{
  "nbformat": 4,
  "nbformat_minor": 0,
  "metadata": {
    "colab": {
      "provenance": [],
      "collapsed_sections": [],
      "authorship_tag": "ABX9TyNwYQ9DW0Mrkohoh9SP8YbF",
      "include_colab_link": true
    },
    "kernelspec": {
      "name": "python3",
      "display_name": "Python 3"
    },
    "language_info": {
      "name": "python"
    }
  },
  "cells": [
    {
      "cell_type": "markdown",
      "metadata": {
        "id": "view-in-github",
        "colab_type": "text"
      },
      "source": [
        "<a href=\"https://colab.research.google.com/github/Dabin-Park/BaekJoon/blob/main/Silver/13335(%ED%8A%B8%EB%9F%AD).ipynb\" target=\"_parent\"><img src=\"https://colab.research.google.com/assets/colab-badge.svg\" alt=\"Open In Colab\"/></a>"
      ]
    },
    {
      "cell_type": "code",
      "source": [
        "from collections import deque\n",
        "\n",
        "_,W,L = map(int,input().split())\n",
        "Trucks = list(map(int,input().split()))\n",
        "del_Trucks = deque(Trucks.copy())\n",
        "\n",
        "weight, time, n = 0, W, 0\n",
        "Now = deque([False]*W)\n",
        "for t in Trucks:\n",
        "    s = 1\n",
        "    while t + weight  > L:\n",
        "        idx = list(Now).index(True)\n",
        "        Now.rotate(-idx-1)\n",
        "        weight -= del_Trucks.popleft()\n",
        "        Now[-1] = False\n",
        "        n -= 1\n",
        "        time += idx+1\n",
        "        s = 0\n",
        "    if s:\n",
        "        if Now[0]:\n",
        "            weight -= del_Trucks.popleft()\n",
        "            n -= 1\n",
        "        Now.rotate(-1) \n",
        "        time += 1\n",
        "    if n == W:\n",
        "        weight -= del_Trucks.popleft()   \n",
        "        n -= 1\n",
        "    Now[-1] = True\n",
        "    n += 1  \n",
        "    weight += t\n",
        "\n",
        "print(time)"
      ],
      "metadata": {
        "colab": {
          "base_uri": "https://localhost:8080/"
        },
        "id": "FkOjEsTjVrUB",
        "outputId": "fc46db1b-b27b-4b91-cdf9-0e7df194494e"
      },
      "execution_count": 1,
      "outputs": [
        {
          "output_type": "stream",
          "name": "stdout",
          "text": [
            "4 2 10\n",
            "7 4 5 6\n",
            "8\n"
          ]
        }
      ]
    },
    {
      "cell_type": "code",
      "source": [
        "from collections import deque\n",
        "\n",
        "_,W,L = map(int,input().split())\n",
        "Trucks = deque(map(int,input().split()))\n",
        "\n",
        "weight, time = 0, W\n",
        "Now = deque([0]*W)\n",
        "\n",
        "while Trucks:\n",
        "    if Now[0]:\n",
        "        weight -= Now[0]\n",
        "    Now.rotate(-1)\n",
        "    Now[-1] = 0\n",
        "    if weight + Trucks[0] <= L:\n",
        "        v = Trucks.popleft()\n",
        "        weight += v\n",
        "        Now[-1] = v\n",
        "    time += 1\n",
        "\n",
        "print(time)"
      ],
      "metadata": {
        "colab": {
          "base_uri": "https://localhost:8080/"
        },
        "id": "k7eFI1eAZZ1Z",
        "outputId": "c9f026fb-4c4c-49ab-dcc2-2f6e4b33e9e2"
      },
      "execution_count": 2,
      "outputs": [
        {
          "output_type": "stream",
          "name": "stdout",
          "text": [
            "4 2 10\n",
            "7 4 5 6\n",
            "8\n"
          ]
        }
      ]
    }
  ]
}