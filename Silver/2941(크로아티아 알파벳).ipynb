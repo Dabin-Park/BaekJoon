{
  "cells": [
    {
      "cell_type": "markdown",
      "metadata": {
        "id": "view-in-github",
        "colab_type": "text"
      },
      "source": [
        "<a href=\"https://colab.research.google.com/github/Dabin-Park/BaekJoon/blob/main/Silver/2941(%ED%81%AC%EB%A1%9C%EC%95%84%ED%8B%B0%EC%95%84%20%EC%95%8C%ED%8C%8C%EB%B2%B3).ipynb\" target=\"_parent\"><img src=\"https://colab.research.google.com/assets/colab-badge.svg\" alt=\"Open In Colab\"/></a>"
      ]
    },
    {
      "cell_type": "code",
      "source": [
        "def find(i,S,a,b,num):\n",
        "    if i < a-1:\n",
        "        if S[i+1] in b:\n",
        "            num += 1\n",
        "            i += 1\n",
        "        else:\n",
        "            num += 1\n",
        "    else:\n",
        "        num += 1\n",
        "    return i,num\n",
        "\n",
        "\n",
        "S = input()\n",
        "num = 0\n",
        "a = len(S)\n",
        "i = 0\n",
        "\n",
        "while i < a:\n",
        "    if S[i] not in 'cdszln':\n",
        "        num += 1\n",
        "    elif S[i] in 'ln':\n",
        "        i, num = find(i,S,a,'j',num)\n",
        "    elif S[i] == 'd':\n",
        "        if i < a-1:\n",
        "            if S[i+1] == 'z':\n",
        "                if i < a-2:\n",
        "                    if S[i+2] == '=':\n",
        "                        num += 1\n",
        "                        i += 2\n",
        "                    else:\n",
        "                        num += 2\n",
        "                        i += 1\n",
        "                else:\n",
        "                    num += 1\n",
        "            else:\n",
        "                i,num = find(i,S,a,'-',num)  \n",
        "        else:\n",
        "            num += 1 \n",
        "    elif S[i] in 'sz':\n",
        "        i, num = find(i,S,a,'=',num)\n",
        "    else:\n",
        "        i, num = find(i,S,a,'=-',num)\n",
        "    i += 1\n",
        "                \n",
        "print(num)         "
      ],
      "metadata": {
        "id": "HBwwya3y6Eyo",
        "outputId": "4fd72a92-1508-440b-8a7b-bea9e22f89ea",
        "colab": {
          "base_uri": "https://localhost:8080/"
        }
      },
      "execution_count": 1,
      "outputs": [
        {
          "output_type": "stream",
          "name": "stdout",
          "text": [
            "ljes=njak\n",
            "6\n"
          ]
        }
      ]
    },
    {
      "cell_type": "code",
      "source": [
        "S = input()\n",
        "\n",
        "croat = ['c=', 'c-', 'dz=', 'd-', 'lj', 'nj', 's=', 'z=']\n",
        "\n",
        "for i in croat:\n",
        "    S = S.replace(i,'*')\n",
        "    \n",
        "print(len(S))"
      ],
      "metadata": {
        "colab": {
          "base_uri": "https://localhost:8080/"
        },
        "id": "x4t0jhHu0JqX",
        "outputId": "6a27e004-e8ff-446c-c485-6cce6ae5341b"
      },
      "execution_count": 2,
      "outputs": [
        {
          "output_type": "stream",
          "name": "stdout",
          "text": [
            "ljes=njak\n",
            "6\n"
          ]
        }
      ]
    }
  ],
  "metadata": {
    "colab": {
      "name": "2941(크로아티아 알파벳).ipynb",
      "provenance": [],
      "collapsed_sections": [],
      "authorship_tag": "ABX9TyNVNaYn7//c70Tu/8NpmctN",
      "include_colab_link": true
    },
    "kernelspec": {
      "display_name": "Python 3",
      "name": "python3"
    },
    "language_info": {
      "name": "python"
    }
  },
  "nbformat": 4,
  "nbformat_minor": 0
}