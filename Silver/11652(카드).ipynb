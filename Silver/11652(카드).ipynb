{
  "nbformat": 4,
  "nbformat_minor": 0,
  "metadata": {
    "colab": {
      "provenance": [],
      "authorship_tag": "ABX9TyNwMGQMriMah/UBcCNTZqKH",
      "include_colab_link": true
    },
    "kernelspec": {
      "name": "python3",
      "display_name": "Python 3"
    },
    "language_info": {
      "name": "python"
    }
  },
  "cells": [
    {
      "cell_type": "markdown",
      "metadata": {
        "id": "view-in-github",
        "colab_type": "text"
      },
      "source": [
        "<a href=\"https://colab.research.google.com/github/Dabin-Park/BaekJoon/blob/main/Silver/11652(%EC%B9%B4%EB%93%9C).ipynb\" target=\"_parent\"><img src=\"https://colab.research.google.com/assets/colab-badge.svg\" alt=\"Open In Colab\"/></a>"
      ]
    },
    {
      "cell_type": "code",
      "source": [
        "def sol(N):\n",
        "    Number = sorted([int(input()) for _ in range(N)])\n",
        "    max_ = num = 1\n",
        "    value = sol_ = Number[0]\n",
        "    for number in Number[1:]:\n",
        "        if number == value:\n",
        "            num += 1\n",
        "        else:\n",
        "            if num > max_:\n",
        "                max_ = num\n",
        "                sol_ = value\n",
        "            value = number\n",
        "            num = 1\n",
        "    if num <= max_:\n",
        "        return sol_\n",
        "    return number\n",
        "        \n",
        "print(sol(int(input())))"
      ],
      "metadata": {
        "colab": {
          "base_uri": "https://localhost:8080/"
        },
        "id": "yddJQ_ep_kej",
        "outputId": "9099e1aa-b338-473c-9336-b611c9a603ff"
      },
      "execution_count": 1,
      "outputs": [
        {
          "output_type": "stream",
          "name": "stdout",
          "text": [
            "5\n",
            "1\n",
            "2\n",
            "1\n",
            "2\n",
            "1\n",
            "1\n"
          ]
        }
      ]
    }
  ]
}