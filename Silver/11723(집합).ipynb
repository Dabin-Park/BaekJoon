{
  "nbformat": 4,
  "nbformat_minor": 0,
  "metadata": {
    "colab": {
      "provenance": [],
      "collapsed_sections": [],
      "authorship_tag": "ABX9TyOPrH3giIhswhQVXxC5QR9h",
      "include_colab_link": true
    },
    "kernelspec": {
      "name": "python3",
      "display_name": "Python 3"
    },
    "language_info": {
      "name": "python"
    }
  },
  "cells": [
    {
      "cell_type": "markdown",
      "metadata": {
        "id": "view-in-github",
        "colab_type": "text"
      },
      "source": [
        "<a href=\"https://colab.research.google.com/github/Dabin-Park/BaekJoon/blob/main/Silver/11723(%EC%A7%91%ED%95%A9).ipynb\" target=\"_parent\"><img src=\"https://colab.research.google.com/assets/colab-badge.svg\" alt=\"Open In Colab\"/></a>"
      ]
    },
    {
      "cell_type": "code",
      "source": [
        "S = [0]*20\n",
        "for _ in range(int(input())):\n",
        "    A = list(input().split())\n",
        "    if A[0][0] == 'a':\n",
        "        if A[0][1] == 'd':\n",
        "            S[int(A[1])-1] = 1\n",
        "        else:\n",
        "            S = [1]*20\n",
        "    elif A[0][0] == 'r':\n",
        "        S[int(A[1])-1] = 0\n",
        "    elif A[0][0] == 'c':\n",
        "        print(S[int(A[1])-1])\n",
        "    elif A[0][0] == 't':\n",
        "        S[int(A[1])-1] = abs(S[int(A[1])-1]-1)\n",
        "    else:\n",
        "        S = [0]*20"
      ],
      "metadata": {
        "colab": {
          "base_uri": "https://localhost:8080/"
        },
        "id": "FkOjEsTjVrUB",
        "outputId": "b825952a-d273-4e85-b23e-8d830144b5d1"
      },
      "execution_count": 1,
      "outputs": [
        {
          "output_type": "stream",
          "name": "stdout",
          "text": [
            "26\n",
            "add 1\n",
            "add 2\n",
            "check 1\n",
            "1\n",
            "check 2\n",
            "1\n",
            "check 3\n",
            "0\n",
            "remove 2\n",
            "check 1\n",
            "1\n",
            "check 2\n",
            "0\n",
            "toggle 3\n",
            "check 1\n",
            "1\n",
            "check 2\n",
            "0\n",
            "check 3\n",
            "1\n",
            "check 4\n",
            "0\n",
            "all\n",
            "check 10\n",
            "1\n",
            "check 20\n",
            "1\n",
            "toggle 10\n",
            "remove 20\n",
            "check 10\n",
            "0\n",
            "check 20\n",
            "0\n",
            "empty\n",
            "check 1\n",
            "0\n",
            "toggle 1\n",
            "check 1\n",
            "1\n",
            "toggle 1\n",
            "check 1\n",
            "0\n"
          ]
        }
      ]
    },
    {
      "cell_type": "code",
      "source": [
        "S = set()\n",
        "for _ in range(int(input())):\n",
        "    A = list(input().split())\n",
        "    if A[0][0] == 'a':\n",
        "        if A[0][1] == 'd':\n",
        "            S.add(int(A[1]))\n",
        "        else:\n",
        "            S = set(i for i in range(1,21))\n",
        "    elif A[0][0] == 'r':\n",
        "        if int(A[1]) in S:\n",
        "            S.remove(int(A[1]))\n",
        "    elif A[0][0] == 'c':\n",
        "        if int(A[1]) in S:\n",
        "            print(1)\n",
        "        else:\n",
        "            print(0)\n",
        "    elif A[0][0] == 't':\n",
        "        if int(A[1]) in S:\n",
        "            S.remove(int(A[1]))\n",
        "        else:\n",
        "            S.add(int(A[1]))\n",
        "    else:\n",
        "        S = set()"
      ],
      "metadata": {
        "id": "plThILBtknr9",
        "outputId": "1d307cba-d56a-4fd5-9fc9-5d39a160284e",
        "colab": {
          "base_uri": "https://localhost:8080/"
        }
      },
      "execution_count": 2,
      "outputs": [
        {
          "output_type": "stream",
          "name": "stdout",
          "text": [
            "26\n",
            "add 1\n",
            "add 2\n",
            "check 1\n",
            "1\n",
            "check 2\n",
            "1\n",
            "check 3\n",
            "0\n",
            "remove 2\n",
            "check 1\n",
            "1\n",
            "check 2\n",
            "0\n",
            "toggle 3\n",
            "check 1\n",
            "1\n",
            "check 2\n",
            "0\n",
            "check 3\n",
            "1\n",
            "check 4\n",
            "0\n",
            "all\n",
            "check 10\n",
            "1\n",
            "check 20\n",
            "1\n",
            "toggle 10\n",
            "remove 20\n",
            "check 10\n",
            "0\n",
            "check 20\n",
            "0\n",
            "empty\n",
            "check 1\n",
            "0\n",
            "toggle 1\n",
            "check 1\n",
            "1\n",
            "toggle 1\n",
            "check 1\n",
            "0\n"
          ]
        }
      ]
    }
  ]
}