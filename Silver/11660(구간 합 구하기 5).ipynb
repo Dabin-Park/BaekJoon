{
  "nbformat": 4,
  "nbformat_minor": 0,
  "metadata": {
    "colab": {
      "name": "11660(구간 합 구하기 5).ipynb",
      "provenance": [],
      "authorship_tag": "ABX9TyMAAp8JcVZubNFakZzvRcNA",
      "include_colab_link": true
    },
    "kernelspec": {
      "name": "python3",
      "display_name": "Python 3"
    },
    "language_info": {
      "name": "python"
    }
  },
  "cells": [
    {
      "cell_type": "markdown",
      "metadata": {
        "id": "view-in-github",
        "colab_type": "text"
      },
      "source": [
        "<a href=\"https://colab.research.google.com/github/Dabin-Park/BaekJoon/blob/main/Silver/11660(%EA%B5%AC%EA%B0%84%20%ED%95%A9%20%EA%B5%AC%ED%95%98%EA%B8%B0%205).ipynb\" target=\"_parent\"><img src=\"https://colab.research.google.com/assets/colab-badge.svg\" alt=\"Open In Colab\"/></a>"
      ]
    },
    {
      "cell_type": "code",
      "source": [
        "N,M = map(int, input().split())\n",
        "Numbers = [[0]*(N+1)] + [[0] + list(map(int,input().split())) for _ in range(N)]\n",
        "for i in range(1,N+1):\n",
        "    for j in range(1,N+1):\n",
        "        Numbers[i][j] += Numbers[i-1][j]\n",
        "        \n",
        "for i in range(1,N+1):\n",
        "    for j in range(2,N+1):\n",
        "        Numbers[i][j] += Numbers[i][j-1]\n",
        "        \n",
        "for _ in range(M):\n",
        "    x1, y1, x2, y2 = map(int,input().split())\n",
        "    print(Numbers[x2][y2] - Numbers[x1-1][y2] - Numbers[x2][y1-1] + Numbers[x1-1][y1-1])"
      ],
      "metadata": {
        "id": "CGdbDyPnpFQk",
        "outputId": "190fb70e-a8ef-4548-ba8b-97feffebe6ab",
        "colab": {
          "base_uri": "https://localhost:8080/"
        }
      },
      "execution_count": 6,
      "outputs": [
        {
          "output_type": "stream",
          "name": "stdout",
          "text": [
            "4 3\n",
            "1 2 3 4\n",
            "2 3 4 5\n",
            "3 4 5 6\n",
            "4 5 6 7\n",
            "2 2 3 4\n",
            "27\n",
            "3 4 3 4\n",
            "6\n",
            "1 1 4 4\n",
            "64\n"
          ]
        }
      ]
    }
  ]
}