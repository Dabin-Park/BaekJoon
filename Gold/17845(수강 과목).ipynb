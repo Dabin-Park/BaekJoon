{
  "nbformat": 4,
  "nbformat_minor": 0,
  "metadata": {
    "colab": {
      "provenance": [],
      "collapsed_sections": [],
      "authorship_tag": "ABX9TyOCj8HqFXOQ3YC+hI+J+X62",
      "include_colab_link": true
    },
    "kernelspec": {
      "name": "python3",
      "display_name": "Python 3"
    },
    "language_info": {
      "name": "python"
    }
  },
  "cells": [
    {
      "cell_type": "markdown",
      "metadata": {
        "id": "view-in-github",
        "colab_type": "text"
      },
      "source": [
        "<a href=\"https://colab.research.google.com/github/Dabin-Park/BaekJoon/blob/main/Gold/17845(%EC%88%98%EA%B0%95%20%EA%B3%BC%EB%AA%A9).ipynb\" target=\"_parent\"><img src=\"https://colab.research.google.com/assets/colab-badge.svg\" alt=\"Open In Colab\"/></a>"
      ]
    },
    {
      "cell_type": "code",
      "source": [
        "def sol():\n",
        "    N,K = map(int,input().split())\n",
        "    Time = [0]*(N+1)\n",
        "    for _ in range(K):\n",
        "        I,T = map(int,input().split())\n",
        "        for i in range(N,T-1,-1):\n",
        "            Time[i] = max(Time[i], Time[i-T]+I)      \n",
        "    return Time[-1]\n",
        "\n",
        "print(sol())"
      ],
      "metadata": {
        "colab": {
          "base_uri": "https://localhost:8080/"
        },
        "id": "FkOjEsTjVrUB",
        "outputId": "a265c94b-aa85-4032-f2db-1b2aaa0c6f45"
      },
      "execution_count": 1,
      "outputs": [
        {
          "output_type": "stream",
          "name": "stdout",
          "text": [
            "80 3\n",
            "650 40\n",
            "700 60\n",
            "60 40\n",
            "710\n"
          ]
        }
      ]
    },
    {
      "cell_type": "code",
      "source": [
        "def sol():\n",
        "    N,K = map(int,input().split())\n",
        "    Time = [0]*(N+1)\n",
        "    for _ in range(K-1):\n",
        "        I,T = map(int,input().split())\n",
        "        for i in range(N,T-1,-1):\n",
        "            Time[i] = max(Time[i], Time[i-T]+I)\n",
        "\n",
        "    I,T = map(int,input().split())\n",
        "    if T <= N:\n",
        "        Time[N] = max(Time[N],Time[N-T] + I)\n",
        "        \n",
        "    return Time[-1]\n",
        "\n",
        "print(sol())"
      ],
      "metadata": {
        "id": "k7eFI1eAZZ1Z",
        "outputId": "a0d1a0f0-4073-4ff9-ab06-2032d6339111",
        "colab": {
          "base_uri": "https://localhost:8080/"
        }
      },
      "execution_count": 2,
      "outputs": [
        {
          "output_type": "stream",
          "name": "stdout",
          "text": [
            "80 3\n",
            "650 40\n",
            "700 60\n",
            "60 40\n",
            "710\n"
          ]
        }
      ]
    }
  ]
}