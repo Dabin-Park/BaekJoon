{
  "nbformat": 4,
  "nbformat_minor": 0,
  "metadata": {
    "colab": {
      "provenance": [],
      "authorship_tag": "ABX9TyN0PaY7Ww3fTOGjzDzu8Zpm",
      "include_colab_link": true
    },
    "kernelspec": {
      "name": "python3",
      "display_name": "Python 3"
    },
    "language_info": {
      "name": "python"
    }
  },
  "cells": [
    {
      "cell_type": "markdown",
      "metadata": {
        "id": "view-in-github",
        "colab_type": "text"
      },
      "source": [
        "<a href=\"https://colab.research.google.com/github/Dabin-Park/BaekJoon/blob/main/Silver/1965(%EC%83%81%EC%9E%90%EB%84%A3%EA%B8%B0).ipynb\" target=\"_parent\"><img src=\"https://colab.research.google.com/assets/colab-badge.svg\" alt=\"Open In Colab\"/></a>"
      ]
    },
    {
      "cell_type": "code",
      "source": [
        "def sol(N):\n",
        "    dp = [0]*N\n",
        "    Box = list(map(int,input().split()))\n",
        "    for i in range(1,N):\n",
        "        now = Box[i]\n",
        "        max_ = 0\n",
        "        for j in range(i):\n",
        "            if  now > Box[j]:\n",
        "                if max_ <= dp[j]:\n",
        "                    max_ = dp[j] + 1\n",
        "        dp[i] = max_\n",
        "    return max(dp)+1\n",
        "            \n",
        "print(sol(int(input())))"
      ],
      "metadata": {
        "colab": {
          "base_uri": "https://localhost:8080/"
        },
        "id": "tVe3A1mE7-1_",
        "outputId": "77f5a238-ec92-4ed9-9900-48a750b6b2aa"
      },
      "execution_count": 1,
      "outputs": [
        {
          "output_type": "stream",
          "name": "stdout",
          "text": [
            "8\n",
            "1 6 2 5 7 3 5 6\n",
            "5\n"
          ]
        }
      ]
    }
  ]
}