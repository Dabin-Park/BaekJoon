{
  "nbformat": 4,
  "nbformat_minor": 0,
  "metadata": {
    "colab": {
      "provenance": [],
      "collapsed_sections": [],
      "authorship_tag": "ABX9TyOKUEbLBLBCyWIWbYJ1DPGF",
      "include_colab_link": true
    },
    "kernelspec": {
      "name": "python3",
      "display_name": "Python 3"
    },
    "language_info": {
      "name": "python"
    }
  },
  "cells": [
    {
      "cell_type": "markdown",
      "metadata": {
        "id": "view-in-github",
        "colab_type": "text"
      },
      "source": [
        "<a href=\"https://colab.research.google.com/github/Dabin-Park/BaekJoon/blob/main/Gold/1253(%EC%A2%8B%EB%8B%A4).ipynb\" target=\"_parent\"><img src=\"https://colab.research.google.com/assets/colab-badge.svg\" alt=\"Open In Colab\"/></a>"
      ]
    },
    {
      "cell_type": "code",
      "source": [
        "def sol(N):\n",
        "    Numbers = sorted(list(map(int,input().split())))\n",
        "    num = 0\n",
        "    for i in range(N):\n",
        "        number,start,end = Numbers[i],0,N-1\n",
        "        while start < end:\n",
        "            if end == i:\n",
        "                end -= 1\n",
        "                continue\n",
        "            if start == i:\n",
        "                start += 1\n",
        "                continue\n",
        "            n = Numbers[start] + Numbers[end]\n",
        "            if n == number:\n",
        "                num += 1\n",
        "                break\n",
        "            elif n > number:\n",
        "                end -=1\n",
        "            else:     \n",
        "                start += 1\n",
        "    return num\n",
        "\n",
        "print(sol(int(input())))"
      ],
      "metadata": {
        "id": "k7eFI1eAZZ1Z",
        "outputId": "55c12248-68ef-4938-f5e4-023dfacba963",
        "colab": {
          "base_uri": "https://localhost:8080/"
        }
      },
      "execution_count": 1,
      "outputs": [
        {
          "output_type": "stream",
          "name": "stdout",
          "text": [
            "10\n",
            "1 2 3 4 5 6 7 8 9 10\n",
            "8\n"
          ]
        }
      ]
    },
    {
      "cell_type": "code",
      "source": [
        "def search(A, pl, pr, obj):\n",
        "    while pl < pr:\n",
        "        v = A[pl] + A[pr]\n",
        "        if v > obj:\n",
        "            pr -= 1\n",
        "        elif v < obj:\n",
        "            pl += 1\n",
        "        else:\n",
        "            return 1\n",
        "    return 0\n",
        "\n",
        "def sol(N):\n",
        "    Numbers = list(map(int,input().split()))\n",
        "    Numbers.sort()\n",
        "    num = 0\n",
        "    for i in range(N):\n",
        "        num += search(Numbers[:i]+Numbers[i+1:], 0, N-2, Numbers[i])\n",
        "    return num\n",
        "\n",
        "print(sol(int(input())))"
      ],
      "metadata": {
        "colab": {
          "base_uri": "https://localhost:8080/"
        },
        "id": "W7q8z7CDgE7C",
        "outputId": "9b421b7f-5f38-4084-bf6b-509827370ce4"
      },
      "execution_count": 2,
      "outputs": [
        {
          "output_type": "stream",
          "name": "stdout",
          "text": [
            "10\n",
            "1 2 3 4 5 6 7 8 9 10\n",
            "8\n"
          ]
        }
      ]
    }
  ]
}