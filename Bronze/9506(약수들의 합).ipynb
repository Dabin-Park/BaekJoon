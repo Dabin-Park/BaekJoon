{
  "nbformat": 4,
  "nbformat_minor": 0,
  "metadata": {
    "colab": {
      "provenance": [],
      "authorship_tag": "ABX9TyPycZBThP6QjbFJfEORYU6E",
      "include_colab_link": true
    },
    "kernelspec": {
      "name": "python3",
      "display_name": "Python 3"
    },
    "language_info": {
      "name": "python"
    }
  },
  "cells": [
    {
      "cell_type": "markdown",
      "metadata": {
        "id": "view-in-github",
        "colab_type": "text"
      },
      "source": [
        "<a href=\"https://colab.research.google.com/github/Dabin-Park/BaekJoon/blob/main/Bronze/9506(%EC%95%BD%EC%88%98%EB%93%A4%EC%9D%98%20%ED%95%A9).ipynb\" target=\"_parent\"><img src=\"https://colab.research.google.com/assets/colab-badge.svg\" alt=\"Open In Colab\"/></a>"
      ]
    },
    {
      "cell_type": "code",
      "source": [
        "def sol():\n",
        "    while 1:\n",
        "        n = int(input())\n",
        "        if n > 1:\n",
        "            num = 1\n",
        "            Num = ['1']\n",
        "            for i in range(2,int(n**0.5)+1):\n",
        "                if n%i == 0:\n",
        "                    num += i + n//i\n",
        "                    Num +=[str(i),str(n//i)]\n",
        "            if num == n:\n",
        "                print(n, \"=\",\" + \".join(sorted(Num,key = lambda x :int(x))))\n",
        "            else:\n",
        "                print(n,\"is NOT perfect.\")\n",
        "        else:\n",
        "            break\n",
        "\n",
        "sol()"
      ],
      "metadata": {
        "colab": {
          "base_uri": "https://localhost:8080/"
        },
        "id": "8BV4BOoMl-cj",
        "outputId": "7a246589-1be6-443f-e731-2e86874c3573"
      },
      "execution_count": 2,
      "outputs": [
        {
          "name": "stdout",
          "output_type": "stream",
          "text": [
            "6\n",
            "6 = 1 + 2 + 3\n",
            "12\n",
            "12 is NOT perfect.\n",
            "28\n",
            "28 = 1 + 2 + 4 + 7 + 14\n",
            "-1\n"
          ]
        }
      ]
    }
  ]
}