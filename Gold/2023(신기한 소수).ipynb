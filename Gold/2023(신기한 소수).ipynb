{
  "nbformat": 4,
  "nbformat_minor": 0,
  "metadata": {
    "colab": {
      "provenance": [],
      "authorship_tag": "ABX9TyMlGFapMLVgpItsSiAbX1tL",
      "include_colab_link": true
    },
    "kernelspec": {
      "name": "python3",
      "display_name": "Python 3"
    },
    "language_info": {
      "name": "python"
    }
  },
  "cells": [
    {
      "cell_type": "markdown",
      "metadata": {
        "id": "view-in-github",
        "colab_type": "text"
      },
      "source": [
        "<a href=\"https://colab.research.google.com/github/Dabin-Park/BaekJoon/blob/main/Gold/2023(%EC%8B%A0%EA%B8%B0%ED%95%9C%20%EC%86%8C%EC%88%98).ipynb\" target=\"_parent\"><img src=\"https://colab.research.google.com/assets/colab-badge.svg\" alt=\"Open In Colab\"/></a>"
      ]
    },
    {
      "cell_type": "code",
      "source": [
        "N = int(input())\n",
        "\n",
        "def find(x):\n",
        "    for i in range(3, int(x**0.5) + 1, 2):\n",
        "        if int(x) % i == 0:\n",
        "            return 0\n",
        "    return 1\n",
        "\n",
        "def dfs(num):\n",
        "    if len(num) == N:\n",
        "        print(num)\n",
        "    else:\n",
        "        for i in [1,3,7,9]:\n",
        "            temp = num + str(i)\n",
        "            if find(int(temp)):\n",
        "                dfs(temp)\n",
        "\n",
        "for n in [2,3,5,7]:\n",
        "    dfs(str(n))"
      ],
      "metadata": {
        "colab": {
          "base_uri": "https://localhost:8080/"
        },
        "id": "Q2oXPCAbQArg",
        "outputId": "0bd386d1-221b-4d81-9141-88b80fba66fb"
      },
      "execution_count": 4,
      "outputs": [
        {
          "output_type": "stream",
          "name": "stdout",
          "text": [
            "4\n",
            "2333\n",
            "2339\n",
            "2393\n",
            "2399\n",
            "2939\n",
            "3119\n",
            "3137\n",
            "3733\n",
            "3739\n",
            "3793\n",
            "3797\n",
            "5939\n",
            "7193\n",
            "7331\n",
            "7333\n",
            "7393\n"
          ]
        }
      ]
    }
  ]
}