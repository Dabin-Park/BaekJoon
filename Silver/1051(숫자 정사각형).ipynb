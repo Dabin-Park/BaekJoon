{
  "nbformat": 4,
  "nbformat_minor": 0,
  "metadata": {
    "colab": {
      "name": "1051(숫자 정사각형).ipynb",
      "provenance": [],
      "authorship_tag": "ABX9TyOg64FTTnnm24JRV1DD3Rsu",
      "include_colab_link": true
    },
    "kernelspec": {
      "name": "python3",
      "display_name": "Python 3"
    },
    "language_info": {
      "name": "python"
    }
  },
  "cells": [
    {
      "cell_type": "markdown",
      "metadata": {
        "id": "view-in-github",
        "colab_type": "text"
      },
      "source": [
        "<a href=\"https://colab.research.google.com/github/Dabin-Park/BaekJoon/blob/main/Silver/1051(%EC%88%AB%EC%9E%90%20%EC%A0%95%EC%82%AC%EA%B0%81%ED%98%95).ipynb\" target=\"_parent\"><img src=\"https://colab.research.google.com/assets/colab-badge.svg\" alt=\"Open In Colab\"/></a>"
      ]
    },
    {
      "cell_type": "code",
      "source": [
        "N,M = map(int,input().split())\n",
        "Rectangle = [list(map(int,input())) for _ in range(N)]\n",
        "\n",
        "t = 0\n",
        "for i in range(min(N,M),0,-1):\n",
        "    for j in range(N-i+1):\n",
        "        for k in range(M-i+1):\n",
        "            if Rectangle[j][k] == Rectangle[j][k+i-1] == Rectangle[j+i-1][k] == Rectangle[j+i-1][k+i-1]:\n",
        "                t = 1\n",
        "                break\n",
        "        if t:\n",
        "            break\n",
        "    if t:\n",
        "        break\n",
        "\n",
        "print(i**2)     "
      ],
      "metadata": {
        "colab": {
          "base_uri": "https://localhost:8080/"
        },
        "id": "4NDvOBDhbpRD",
        "outputId": "6530359d-bbe0-4919-a0c7-b38472bdaa8c"
      },
      "execution_count": 1,
      "outputs": [
        {
          "output_type": "stream",
          "name": "stdout",
          "text": [
            "3 5\n",
            "42101\n",
            "22100\n",
            "22101\n",
            "9\n"
          ]
        }
      ]
    },
    {
      "cell_type": "code",
      "source": [
        "def square(N,M,Rectangle):\n",
        "    for i in range(min(N,M),0,-1):\n",
        "        for j in range(N-i+1):\n",
        "            for k in range(M-i+1):\n",
        "                if Rectangle[j][k] == Rectangle[j][k+i-1] == Rectangle[j+i-1][k] == Rectangle[j+i-1][k+i-1]:\n",
        "                    return print(i**2)\n",
        "\n",
        "N,M = map(int,input().split())\n",
        "Rectangle = [list(map(int,input().rstrip())) for _ in range(N)]\n",
        "\n",
        "square(N,M,Rectangle)"
      ],
      "metadata": {
        "colab": {
          "base_uri": "https://localhost:8080/"
        },
        "id": "fiATosqaZKh_",
        "outputId": "e2e7aaa5-398e-45c7-c9cc-179d63c69b74"
      },
      "execution_count": 1,
      "outputs": [
        {
          "output_type": "stream",
          "name": "stdout",
          "text": [
            "3 5\n",
            "42101\n",
            "22100\n",
            "22101\n",
            "9\n"
          ]
        }
      ]
    }
  ]
}