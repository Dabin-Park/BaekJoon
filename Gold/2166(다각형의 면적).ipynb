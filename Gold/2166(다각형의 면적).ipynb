{
  "nbformat": 4,
  "nbformat_minor": 0,
  "metadata": {
    "colab": {
      "provenance": [],
      "collapsed_sections": [],
      "authorship_tag": "ABX9TyON9Cz3baaTFQTTPrtQf4UY",
      "include_colab_link": true
    },
    "kernelspec": {
      "name": "python3",
      "display_name": "Python 3"
    },
    "language_info": {
      "name": "python"
    }
  },
  "cells": [
    {
      "cell_type": "markdown",
      "metadata": {
        "id": "view-in-github",
        "colab_type": "text"
      },
      "source": [
        "<a href=\"https://colab.research.google.com/github/Dabin-Park/BaekJoon/blob/main/Gold/2166(%EB%8B%A4%EA%B0%81%ED%98%95%EC%9D%98%20%EB%A9%B4%EC%A0%81).ipynb\" target=\"_parent\"><img src=\"https://colab.research.google.com/assets/colab-badge.svg\" alt=\"Open In Colab\"/></a>"
      ]
    },
    {
      "cell_type": "markdown",
      "source": [
        "* 신발끈 공식\n",
        "https://ko.wikipedia.org/wiki/%EC%8B%A0%EB%B0%9C%EB%81%88_%EA%B3%B5%EC%8B%9D"
      ],
      "metadata": {
        "id": "e_rTXTbYce8C"
      }
    },
    {
      "cell_type": "code",
      "source": [
        "N = int(input())\n",
        "Vertex = [list(map(int,input().split())) for _ in range(N)]\n",
        "\n",
        "num = 0\n",
        "for i in range(N):\n",
        "    num += Vertex[i-1][0]* Vertex[i][1] - Vertex[i][0]*Vertex[i-1][1] \n",
        "\n",
        "print(f\"{abs(num)/2:.1f}\")"
      ],
      "metadata": {
        "id": "ZFrLikbd4n2z",
        "outputId": "65ab28a4-ce28-4c66-e77d-c5943384e71e",
        "colab": {
          "base_uri": "https://localhost:8080/"
        }
      },
      "execution_count": 1,
      "outputs": [
        {
          "output_type": "stream",
          "name": "stdout",
          "text": [
            "4\n",
            "0 0 \n",
            "0 10\n",
            "10 10\n",
            "10 0\n",
            "100.0\n"
          ]
        }
      ]
    },
    {
      "cell_type": "code",
      "source": [
        "def Shoelace(num):\n",
        "    for i in range(N):\n",
        "        num += Vertex[i-1][0]* Vertex[i][1] - Vertex[i][0]*Vertex[i-1][1] \n",
        "    return print(f\"{abs(num)/2:.1f}\")\n",
        "\n",
        "N = int(input())\n",
        "Vertex = [list(map(int,input().split())) for _ in range(N)]\n",
        "\n",
        "Shoelace(0)"
      ],
      "metadata": {
        "colab": {
          "base_uri": "https://localhost:8080/"
        },
        "id": "Apc1o1RBdgGT",
        "outputId": "644043fb-271b-47c4-daa5-419423cd3a08"
      },
      "execution_count": 2,
      "outputs": [
        {
          "output_type": "stream",
          "name": "stdout",
          "text": [
            "4\n",
            "0 0\n",
            "0 10\n",
            "10 10\n",
            "10 0\n",
            "100.0\n"
          ]
        }
      ]
    }
  ]
}