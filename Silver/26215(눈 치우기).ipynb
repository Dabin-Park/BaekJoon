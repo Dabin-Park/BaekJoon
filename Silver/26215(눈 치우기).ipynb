{
  "nbformat": 4,
  "nbformat_minor": 0,
  "metadata": {
    "colab": {
      "provenance": [],
      "authorship_tag": "ABX9TyM7GpCMekEnjbWRh12yRzdz",
      "include_colab_link": true
    },
    "kernelspec": {
      "name": "python3",
      "display_name": "Python 3"
    },
    "language_info": {
      "name": "python"
    }
  },
  "cells": [
    {
      "cell_type": "markdown",
      "metadata": {
        "id": "view-in-github",
        "colab_type": "text"
      },
      "source": [
        "<a href=\"https://colab.research.google.com/github/Dabin-Park/BaekJoon/blob/main/Silver/26215(%EB%88%88%20%EC%B9%98%EC%9A%B0%EA%B8%B0).ipynb\" target=\"_parent\"><img src=\"https://colab.research.google.com/assets/colab-badge.svg\" alt=\"Open In Colab\"/></a>"
      ]
    },
    {
      "cell_type": "code",
      "source": [
        "def sol(N, time):\n",
        "    Snow = sorted(list(map(int,input().split())))\n",
        "    if max(Snow) > 1440 or sum(Snow) > 2880:\n",
        "        return -1\n",
        "    elif N < 3:\n",
        "        return Snow[-1]\n",
        "    while Snow[-2]:\n",
        "        time += 1\n",
        "        for i in [-1,-2]:\n",
        "            Snow[i] -= 1\n",
        "        Snow.sort()\n",
        "    return time + Snow[-1]\n",
        "\n",
        "print(sol(int(input()),0))"
      ],
      "metadata": {
        "colab": {
          "base_uri": "https://localhost:8080/"
        },
        "id": "tMhh6AscRdfh",
        "outputId": "8f2e2082-aaf5-40fb-bd51-7dc0366ab47e"
      },
      "execution_count": 1,
      "outputs": [
        {
          "output_type": "stream",
          "name": "stdout",
          "text": [
            "3\n",
            "1 2 3\n",
            "3\n"
          ]
        }
      ]
    }
  ]
}