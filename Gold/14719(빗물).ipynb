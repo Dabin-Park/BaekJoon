{
  "nbformat": 4,
  "nbformat_minor": 0,
  "metadata": {
    "colab": {
      "provenance": [],
      "collapsed_sections": [],
      "authorship_tag": "ABX9TyMXRBw51Ai+WDSgsbvwgN44",
      "include_colab_link": true
    },
    "kernelspec": {
      "name": "python3",
      "display_name": "Python 3"
    },
    "language_info": {
      "name": "python"
    }
  },
  "cells": [
    {
      "cell_type": "markdown",
      "metadata": {
        "id": "view-in-github",
        "colab_type": "text"
      },
      "source": [
        "<a href=\"https://colab.research.google.com/github/Dabin-Park/BaekJoon/blob/main/Gold/14719(%EB%B9%97%EB%AC%BC).ipynb\" target=\"_parent\"><img src=\"https://colab.research.google.com/assets/colab-badge.svg\" alt=\"Open In Colab\"/></a>"
      ]
    },
    {
      "cell_type": "code",
      "source": [
        "import heapq\n",
        "\n",
        "def sol(num):\n",
        "    _,W = map(int,input().split())\n",
        "    Walls = tuple(map(int,input().split()))\n",
        "\n",
        "    heap = []\n",
        "    for i in range(1,W):\n",
        "        heapq.heappush(heap,[-Walls[i],i])\n",
        "\n",
        "    left = Walls[0]\n",
        "    for i in range(1,W):\n",
        "        wall = Walls[i]\n",
        "\n",
        "        while heap[0][1] < i:\n",
        "            heapq.heappop(heap)\n",
        "        if wall == -heap[0][0]:\n",
        "            left = wall\n",
        "            heapq.heappop(heap)\n",
        "        else:\n",
        "            if wall >= left:\n",
        "                left = wall\n",
        "            else:\n",
        "                num += min(left,-heap[0][0]) - wall\n",
        "    return num\n",
        "\n",
        "print(sol(0))"
      ],
      "metadata": {
        "id": "k7eFI1eAZZ1Z",
        "outputId": "eb42248a-0bb9-481d-d102-c72724ec3ed0",
        "colab": {
          "base_uri": "https://localhost:8080/"
        }
      },
      "execution_count": 1,
      "outputs": [
        {
          "output_type": "stream",
          "name": "stdout",
          "text": [
            "4 4 \n",
            "3 0 1 4\n",
            "5\n"
          ]
        }
      ]
    }
  ]
}