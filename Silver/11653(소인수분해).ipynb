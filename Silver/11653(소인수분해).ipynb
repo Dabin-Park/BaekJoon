{
  "cells": [
    {
      "cell_type": "markdown",
      "metadata": {
        "id": "view-in-github",
        "colab_type": "text"
      },
      "source": [
        "<a href=\"https://colab.research.google.com/github/Dabin-Park/BaekJoon/blob/main/Silver/11653(%EC%86%8C%EC%9D%B8%EC%88%98%EB%B6%84%ED%95%B4).ipynb\" target=\"_parent\"><img src=\"https://colab.research.google.com/assets/colab-badge.svg\" alt=\"Open In Colab\"/></a>"
      ]
    },
    {
      "cell_type": "code",
      "source": [
        "def divided(a,i):\n",
        "    if a%i == 0 :\n",
        "        a /= i\n",
        "        print(i)\n",
        "        return divided(a,i)\n",
        "    else :\n",
        "        return a\n",
        "\n",
        "N = int(input())\n",
        "\n",
        "if N != 1:\n",
        "    for i in range(2,N+1):\n",
        "        if N%i == 0 :\n",
        "            N = divided(N,i)\n",
        "            if N == 1:\n",
        "                break"
      ],
      "metadata": {
        "id": "WPo0VnuEHjys",
        "colab": {
          "base_uri": "https://localhost:8080/"
        },
        "outputId": "5347bf12-b99a-4d27-a27e-a5c193fe6061"
      },
      "execution_count": 1,
      "outputs": [
        {
          "output_type": "stream",
          "name": "stdout",
          "text": [
            "9991\n",
            "97\n",
            "103\n"
          ]
        }
      ]
    },
    {
      "cell_type": "code",
      "source": [
        "N = int(input())\n",
        "div = 2\n",
        "\n",
        "while N != 1:\n",
        "    if div > N**0.5 :   # 만약 N**0.5 보다 작은 인수가 없다면 N은 소수다.\n",
        "        print(int(N))\n",
        "        break\n",
        "    if N % div == 0:\n",
        "        print(div)\n",
        "        N /= div\n",
        "    else : \n",
        "        div += 1"
      ],
      "metadata": {
        "colab": {
          "base_uri": "https://localhost:8080/"
        },
        "id": "AWKrHj91X9Uk",
        "outputId": "b72a61e4-1e54-46ad-b38f-e4c9fa4edd33"
      },
      "execution_count": 2,
      "outputs": [
        {
          "output_type": "stream",
          "name": "stdout",
          "text": [
            "9991\n",
            "97\n",
            "103\n"
          ]
        }
      ]
    }
  ],
  "metadata": {
    "colab": {
      "name": "11653(소인수분해).ipynb",
      "provenance": [],
      "collapsed_sections": [],
      "authorship_tag": "ABX9TyPnz7k2seJzWutk0p4SM466",
      "include_colab_link": true
    },
    "kernelspec": {
      "display_name": "Python 3",
      "name": "python3"
    },
    "language_info": {
      "name": "python"
    }
  },
  "nbformat": 4,
  "nbformat_minor": 0
}