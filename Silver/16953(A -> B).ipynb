{
  "cells": [
    {
      "cell_type": "markdown",
      "metadata": {
        "id": "view-in-github",
        "colab_type": "text"
      },
      "source": [
        "<a href=\"https://colab.research.google.com/github/Dabin-Park/BaekJoon/blob/main/Silver/16953(A%20-%3E%20B).ipynb\" target=\"_parent\"><img src=\"https://colab.research.google.com/assets/colab-badge.svg\" alt=\"Open In Colab\"/></a>"
      ]
    },
    {
      "cell_type": "code",
      "source": [
        "A,B = map(int,input().split())\n",
        "\n",
        "n = 0\n",
        "B = str(B)\n",
        "while True:\n",
        "    if B[-1] == \"1\":\n",
        "        B = B[:-1]\n",
        "        n += 1\n",
        "    elif int(B[-1])%2 == 1:\n",
        "        n = -2\n",
        "        break\n",
        "    else:\n",
        "        B = str(int(B)//2)\n",
        "        n += 1\n",
        "    if int(B) == A:\n",
        "        break\n",
        "    if int(B) < A:\n",
        "        n = -2\n",
        "        break\n",
        "\n",
        "print(n+1)"
      ],
      "metadata": {
        "id": "HBwwya3y6Eyo",
        "outputId": "3612ce4a-92db-4c0f-98c3-ff3d7e3aef8e",
        "colab": {
          "base_uri": "https://localhost:8080/"
        }
      },
      "execution_count": 1,
      "outputs": [
        {
          "output_type": "stream",
          "name": "stdout",
          "text": [
            "100 40021\n",
            "5\n"
          ]
        }
      ]
    }
  ],
  "metadata": {
    "colab": {
      "name": "16953(A -> B).ipynb",
      "provenance": [],
      "collapsed_sections": [],
      "authorship_tag": "ABX9TyOKbp1iRInFdM3/ecI/HKej",
      "include_colab_link": true
    },
    "kernelspec": {
      "display_name": "Python 3",
      "name": "python3"
    },
    "language_info": {
      "name": "python"
    }
  },
  "nbformat": 4,
  "nbformat_minor": 0
}