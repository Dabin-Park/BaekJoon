{
  "nbformat": 4,
  "nbformat_minor": 0,
  "metadata": {
    "colab": {
      "name": "1676(팩토리얼 0의 개수).ipynb",
      "provenance": [],
      "authorship_tag": "ABX9TyNPbig1aOHXhYEvh343Hs3c",
      "include_colab_link": true
    },
    "kernelspec": {
      "name": "python3",
      "display_name": "Python 3"
    },
    "language_info": {
      "name": "python"
    }
  },
  "cells": [
    {
      "cell_type": "markdown",
      "metadata": {
        "id": "view-in-github",
        "colab_type": "text"
      },
      "source": [
        "<a href=\"https://colab.research.google.com/github/Dabin-Park/BaekJoon/blob/main/Silver/1676(%ED%8C%A9%ED%86%A0%EB%A6%AC%EC%96%BC%200%EC%9D%98%20%EA%B0%9C%EC%88%98).ipynb\" target=\"_parent\"><img src=\"https://colab.research.google.com/assets/colab-badge.svg\" alt=\"Open In Colab\"/></a>"
      ]
    },
    {
      "cell_type": "code",
      "execution_count": 1,
      "metadata": {
        "colab": {
          "base_uri": "https://localhost:8080/"
        },
        "id": "dT6CvtQPNnKQ",
        "outputId": "93e42247-2fa6-42e4-ba4a-b3e555236bd6"
      },
      "outputs": [
        {
          "output_type": "stream",
          "name": "stdout",
          "text": [
            "10\n",
            "2\n"
          ]
        }
      ],
      "source": [
        "def factorial(n):\n",
        "    num = 1\n",
        "    while n > 1:\n",
        "        num *= n\n",
        "        n -= 1\n",
        "    return num\n",
        "\n",
        "N = int(input())\n",
        "\n",
        "num = str(factorial(N))\n",
        "j = -1\n",
        "num1 = 0\n",
        "while True:\n",
        "    if num[j] == '0':\n",
        "        num1 += 1\n",
        "        j -= 1\n",
        "    else:\n",
        "        break\n",
        "print(num1)"
      ]
    },
    {
      "cell_type": "code",
      "source": [
        "N = int(input())\n",
        "print(N//5 + N//25 + N//125)"
      ],
      "metadata": {
        "colab": {
          "base_uri": "https://localhost:8080/"
        },
        "id": "veq_f8Cz4efh",
        "outputId": "27767b78-35c4-4421-8319-32f649eae93e"
      },
      "execution_count": 2,
      "outputs": [
        {
          "output_type": "stream",
          "name": "stdout",
          "text": [
            "10\n",
            "2\n"
          ]
        }
      ]
    }
  ]
}