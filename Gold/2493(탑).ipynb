{
  "nbformat": 4,
  "nbformat_minor": 0,
  "metadata": {
    "colab": {
      "provenance": [],
      "collapsed_sections": [],
      "authorship_tag": "ABX9TyNPeVqjOQjNzrhTUTnMMIfk",
      "include_colab_link": true
    },
    "kernelspec": {
      "name": "python3",
      "display_name": "Python 3"
    },
    "language_info": {
      "name": "python"
    }
  },
  "cells": [
    {
      "cell_type": "markdown",
      "metadata": {
        "id": "view-in-github",
        "colab_type": "text"
      },
      "source": [
        "<a href=\"https://colab.research.google.com/github/Dabin-Park/BaekJoon/blob/main/Gold/2493(%ED%83%91).ipynb\" target=\"_parent\"><img src=\"https://colab.research.google.com/assets/colab-badge.svg\" alt=\"Open In Colab\"/></a>"
      ]
    },
    {
      "cell_type": "code",
      "source": [
        "N = int(input())\n",
        "Towers = list(map(int,input().split())) \n",
        "Num = [0]*N\n",
        "Stack = []\n",
        "\n",
        "for idx,t in enumerate(Towers):\n",
        "    if Stack:\n",
        "        while Stack:\n",
        "            if Stack[-1][0] >= t:\n",
        "                Num[idx] = Stack[-1][1]+1\n",
        "                break\n",
        "            else:\n",
        "                Stack.pop()\n",
        "    Stack.append([t,idx])\n",
        "\n",
        "print(*Num)"
      ],
      "metadata": {
        "id": "ZFrLikbd4n2z",
        "outputId": "42c34568-e636-411b-f24b-1b6d3ab11237",
        "colab": {
          "base_uri": "https://localhost:8080/"
        }
      },
      "execution_count": 1,
      "outputs": [
        {
          "output_type": "stream",
          "name": "stdout",
          "text": [
            "5\n",
            "6 9 5 7 4\n",
            "0 0 2 2 4\n"
          ]
        }
      ]
    }
  ]
}