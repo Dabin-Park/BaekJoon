{
  "nbformat": 4,
  "nbformat_minor": 0,
  "metadata": {
    "colab": {
      "provenance": [],
      "authorship_tag": "ABX9TyPzB0tK9b5rM8uj+KSumjOV",
      "include_colab_link": true
    },
    "kernelspec": {
      "name": "python3",
      "display_name": "Python 3"
    },
    "language_info": {
      "name": "python"
    }
  },
  "cells": [
    {
      "cell_type": "markdown",
      "metadata": {
        "id": "view-in-github",
        "colab_type": "text"
      },
      "source": [
        "<a href=\"https://colab.research.google.com/github/Dabin-Park/BaekJoon/blob/main/Silver/4659(%EB%B9%84%EB%B0%80%EB%B2%88%ED%98%B8%20%EB%B0%9C%EC%9D%8C%ED%95%98%EA%B8%B0).ipynb\" target=\"_parent\"><img src=\"https://colab.research.google.com/assets/colab-badge.svg\" alt=\"Open In Colab\"/></a>"
      ]
    },
    {
      "cell_type": "code",
      "source": [
        "def sol(pass_):\n",
        "    num_m = m = j = 0\n",
        "    for i in range(len(pass_)):\n",
        "        if i and pass_[i] not in ['o','e'] and pass_[i-1] == pass_[i]:\n",
        "            return \" not\"\n",
        "        if pass_[i] in Moem:\n",
        "            if m == 2:\n",
        "                return \" not\"\n",
        "            m += 1\n",
        "            num_m = 1\n",
        "            j = 0\n",
        "        else:\n",
        "            if j == 2:\n",
        "                return \" not\"\n",
        "            j += 1\n",
        "            m = 0\n",
        "    if num_m:\n",
        "        return \"\"\n",
        "    return \" not\"\n",
        "                             \n",
        "while 1:\n",
        "    Moem = set(['a','e','i','o','u']) \n",
        "    pass_ = input().rstrip()\n",
        "    if pass_ == 'end':\n",
        "        break\n",
        "    print(\"<\"+pass_+\"> is\"+sol(pass_)+\" acceptable.\")   "
      ],
      "metadata": {
        "id": "Eum8oDR9H9Ie",
        "colab": {
          "base_uri": "https://localhost:8080/"
        },
        "outputId": "7850a240-e57b-4311-bd07-7903d080e72a"
      },
      "execution_count": null,
      "outputs": [
        {
          "name": "stdout",
          "output_type": "stream",
          "text": [
            "a \n",
            "<a> is acceptable.\n",
            "tv \n",
            "<tv> is not acceptable.\n",
            "ptoui \n",
            "<ptoui> is not acceptable.\n",
            "bontres \n",
            "<bontres> is not acceptable.\n",
            "zoggax \n",
            "<zoggax> is not acceptable.\n",
            "wiinq \n",
            "<wiinq> is not acceptable.\n",
            "eep \n",
            "<eep> is acceptable.\n",
            "houctuh \n",
            "<houctuh> is acceptable.\n",
            "end\n"
          ]
        }
      ]
    }
  ]
}