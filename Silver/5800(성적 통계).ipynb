{
  "nbformat": 4,
  "nbformat_minor": 0,
  "metadata": {
    "colab": {
      "name": "5800(성적 통계).ipynb",
      "provenance": [],
      "authorship_tag": "ABX9TyOALAmd9Wao04HOvi4R3RU+",
      "include_colab_link": true
    },
    "kernelspec": {
      "name": "python3",
      "display_name": "Python 3"
    },
    "language_info": {
      "name": "python"
    }
  },
  "cells": [
    {
      "cell_type": "markdown",
      "metadata": {
        "id": "view-in-github",
        "colab_type": "text"
      },
      "source": [
        "<a href=\"https://colab.research.google.com/github/Dabin-Park/BaekJoon/blob/main/Silver/5800(%EC%84%B1%EC%A0%81%20%ED%86%B5%EA%B3%84).ipynb\" target=\"_parent\"><img src=\"https://colab.research.google.com/assets/colab-badge.svg\" alt=\"Open In Colab\"/></a>"
      ]
    },
    {
      "cell_type": "code",
      "source": [
        "for i in range(int(input())):\n",
        "    Class = list(map(int,input().split()))\n",
        "    Score = sorted(Class[1:])\n",
        "    print(f\"Class {i+1}\")\n",
        "    print(f\"Max {Score[-1]}, Min {Score[0]}, Largest gap {max([Score[j+1] - Score[j] for j in range(Class[0]-1)])}\")"
      ],
      "metadata": {
        "colab": {
          "base_uri": "https://localhost:8080/"
        },
        "id": "whXH70HTj9iH",
        "outputId": "0281eecd-ed68-4e3c-c41c-21e22bc2360e"
      },
      "execution_count": 3,
      "outputs": [
        {
          "output_type": "stream",
          "name": "stdout",
          "text": [
            "2\n",
            "5 30 25 76 23 78\n",
            "Class 1\n",
            "Max 78, Min 23, Largest gap 46\n",
            "6 25 50 70 99 70 90\n",
            "Class 2\n",
            "Max 99, Min 25, Largest gap 25\n"
          ]
        }
      ]
    }
  ]
}