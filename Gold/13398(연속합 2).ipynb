{
  "nbformat": 4,
  "nbformat_minor": 0,
  "metadata": {
    "colab": {
      "name": "13398(연속합 2).ipynb",
      "provenance": [],
      "authorship_tag": "ABX9TyMjFIZbrABnzwiL0N/xT3nt",
      "include_colab_link": true
    },
    "kernelspec": {
      "name": "python3",
      "display_name": "Python 3"
    },
    "language_info": {
      "name": "python"
    }
  },
  "cells": [
    {
      "cell_type": "markdown",
      "metadata": {
        "id": "view-in-github",
        "colab_type": "text"
      },
      "source": [
        "<a href=\"https://colab.research.google.com/github/Dabin-Park/BaekJoon/blob/main/Gold/13398(%EC%97%B0%EC%86%8D%ED%95%A9%202).ipynb\" target=\"_parent\"><img src=\"https://colab.research.google.com/assets/colab-badge.svg\" alt=\"Open In Colab\"/></a>"
      ]
    },
    {
      "cell_type": "code",
      "source": [
        "n = int(input())\n",
        "Sequnce = list(map(int,input().split()))\n",
        "\n",
        "dp = [0 for _ in range(n)]\n",
        "dp2 = [0 for _ in range(n)]\n",
        "if Sequnce[0] > 0:\n",
        "    dp[0] = Sequnce[0]\n",
        "    dp2[0] = Sequnce[0]\n",
        "    \n",
        "for i in range(1,n):\n",
        "    dp[i] = max(dp[i-1],0) + Sequnce[i]\n",
        "    if Sequnce[i] >= 0 :\n",
        "        dp2[i] = dp2[i-1] + Sequnce[i]\n",
        "    else:\n",
        "        dp2[i] = max(dp[i-1], dp2[i-1] + Sequnce[i])\n",
        "\n",
        "if max(dp2):\n",
        "    print(max(dp2))\n",
        "else:\n",
        "    print(max(Sequnce))"
      ],
      "metadata": {
        "id": "xk6usRE-86iG",
        "colab": {
          "base_uri": "https://localhost:8080/"
        },
        "outputId": "dbacdb8b-2a46-49b9-c7dc-9bc93bb8c361"
      },
      "execution_count": 1,
      "outputs": [
        {
          "output_type": "stream",
          "name": "stdout",
          "text": [
            "10\n",
            "10 -4 3 1 5 6 -35 12 21 -1\n",
            "54\n"
          ]
        }
      ]
    }
  ]
}