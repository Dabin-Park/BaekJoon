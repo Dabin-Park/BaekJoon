{
  "nbformat": 4,
  "nbformat_minor": 0,
  "metadata": {
    "colab": {
      "name": "11051(이항 계수 2).ipynb",
      "provenance": [],
      "authorship_tag": "ABX9TyMSKYg6Vu9YWIs3bOuuDUW5",
      "include_colab_link": true
    },
    "kernelspec": {
      "name": "python3",
      "display_name": "Python 3"
    },
    "language_info": {
      "name": "python"
    }
  },
  "cells": [
    {
      "cell_type": "markdown",
      "metadata": {
        "id": "view-in-github",
        "colab_type": "text"
      },
      "source": [
        "<a href=\"https://colab.research.google.com/github/Dabin-Park/BaekJoon/blob/main/Silver/11051(%EC%9D%B4%ED%95%AD%20%EA%B3%84%EC%88%98%202).ipynb\" target=\"_parent\"><img src=\"https://colab.research.google.com/assets/colab-badge.svg\" alt=\"Open In Colab\"/></a>"
      ]
    },
    {
      "cell_type": "code",
      "source": [
        "def factorial(k,n):\n",
        "    num = 1\n",
        "    for i in range(k,n+1):\n",
        "        num *= i\n",
        "    return num\n",
        "\n",
        "def combination(n,k):\n",
        "    return factorial(n-k+1,n)// factorial(2, k)\n",
        "\n",
        "n,k = map(int,input().split())\n",
        "\n",
        "print(combination(n,k)%10007)"
      ],
      "metadata": {
        "id": "CGdbDyPnpFQk",
        "outputId": "679956de-4d10-4d6c-a585-6611ea09483d",
        "colab": {
          "base_uri": "https://localhost:8080/"
        }
      },
      "execution_count": 2,
      "outputs": [
        {
          "output_type": "stream",
          "name": "stdout",
          "text": [
            "5 2\n",
            "10\n"
          ]
        }
      ]
    }
  ]
}