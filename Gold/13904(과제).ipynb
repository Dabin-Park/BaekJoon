{
  "nbformat": 4,
  "nbformat_minor": 0,
  "metadata": {
    "colab": {
      "name": "13904(과제).ipynb",
      "provenance": [],
      "authorship_tag": "ABX9TyNXebSt32t5dGVYFj6QvPUw",
      "include_colab_link": true
    },
    "kernelspec": {
      "name": "python3",
      "display_name": "Python 3"
    },
    "language_info": {
      "name": "python"
    }
  },
  "cells": [
    {
      "cell_type": "markdown",
      "metadata": {
        "id": "view-in-github",
        "colab_type": "text"
      },
      "source": [
        "<a href=\"https://colab.research.google.com/github/Dabin-Park/BaekJoon/blob/main/Gold/13904(%EA%B3%BC%EC%A0%9C).ipynb\" target=\"_parent\"><img src=\"https://colab.research.google.com/assets/colab-badge.svg\" alt=\"Open In Colab\"/></a>"
      ]
    },
    {
      "cell_type": "code",
      "source": [
        "N = int(input())\n",
        "Homeworks = sorted([list(map(int,input().split())) for _ in range(N)], key = lambda x : (-x[1],x[0]))\n",
        "\n",
        "Score = [0 for i in range(N)]\n",
        "for day,score in Homeworks:\n",
        "    if day > N:\n",
        "        day = N\n",
        "    if Score[day-1]:\n",
        "        if day > 1:\n",
        "            i,t = day-2,1\n",
        "            while Score[i]:\n",
        "                i -= 1    \n",
        "                if i < 0:\n",
        "                    t = 0 \n",
        "                    break\n",
        "            if t:\n",
        "                Score[i] = score       \n",
        "    else:\n",
        "        Score[day-1] = score\n",
        "\n",
        "print(sum(Score))"
      ],
      "metadata": {
        "colab": {
          "base_uri": "https://localhost:8080/"
        },
        "id": "4NDvOBDhbpRD",
        "outputId": "e3333941-cbaa-45ec-f5e1-47ae0751283c"
      },
      "execution_count": 1,
      "outputs": [
        {
          "output_type": "stream",
          "name": "stdout",
          "text": [
            "7\n",
            "4 60\n",
            "4 40\n",
            "1 20\n",
            "2 50\n",
            "3 30\n",
            "4 10\n",
            "6 5\n",
            "185\n"
          ]
        }
      ]
    },
    {
      "cell_type": "code",
      "source": [
        "N = int(input())\n",
        "Homeworks = sorted([list(map(int,input().split())) for _ in range(N)], key = lambda x : (-x[1],x[0]))\n",
        "\n",
        "Score = [0 for i in range(N)]\n",
        "for day,score in Homeworks:\n",
        "    if day > N:\n",
        "        day = N\n",
        "    if Score[day-1]:\n",
        "        for i in range(day-1,-1,-1):\n",
        "            if Score[i] == 0:\n",
        "                Score[i] = score\n",
        "                break      \n",
        "    else:\n",
        "        Score[day-1] = score\n",
        "\n",
        "print(sum(Score))"
      ],
      "metadata": {
        "colab": {
          "base_uri": "https://localhost:8080/"
        },
        "id": "FLaJkLVmNJau",
        "outputId": "eb9d29af-1d3c-4ec2-86ac-dc027eb4f447"
      },
      "execution_count": 4,
      "outputs": [
        {
          "output_type": "stream",
          "name": "stdout",
          "text": [
            "7\n",
            "4 60\n",
            "4 40\n",
            "1 20\n",
            "2 50\n",
            "3 30\n",
            "4 10\n",
            "6 5\n",
            "185\n"
          ]
        }
      ]
    }
  ]
}