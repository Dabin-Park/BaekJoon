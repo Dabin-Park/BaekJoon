{
  "nbformat": 4,
  "nbformat_minor": 0,
  "metadata": {
    "colab": {
      "name": "2133(타일 채우기).ipynb",
      "provenance": [],
      "authorship_tag": "ABX9TyMfE08B93fgDprZvFtRFohF",
      "include_colab_link": true
    },
    "kernelspec": {
      "name": "python3",
      "display_name": "Python 3"
    },
    "language_info": {
      "name": "python"
    }
  },
  "cells": [
    {
      "cell_type": "markdown",
      "metadata": {
        "id": "view-in-github",
        "colab_type": "text"
      },
      "source": [
        "<a href=\"https://colab.research.google.com/github/Dabin-Park/BaekJoon/blob/main/Gold/2133(%ED%83%80%EC%9D%BC%20%EC%B1%84%EC%9A%B0%EA%B8%B0).ipynb\" target=\"_parent\"><img src=\"https://colab.research.google.com/assets/colab-badge.svg\" alt=\"Open In Colab\"/></a>"
      ]
    },
    {
      "cell_type": "code",
      "source": [
        "N = int(input())\n",
        "if N%2 == 0:\n",
        "    dp = [0,0,3] + [0 for _ in range(N+1)]\n",
        "    num = 1\n",
        "    for i in range(4,N+1,2):\n",
        "        dp[i] = dp[i-2]*3 + num *2\n",
        "        num += dp[i-2]\n",
        "    \n",
        "    print(dp[N])\n",
        "else:\n",
        "    print(0)"
      ],
      "metadata": {
        "id": "CGdbDyPnpFQk",
        "outputId": "de682acf-e015-451a-cf38-3f0689ae5456",
        "colab": {
          "base_uri": "https://localhost:8080/"
        }
      },
      "execution_count": null,
      "outputs": [
        {
          "output_type": "stream",
          "name": "stdout",
          "text": [
            "2\n",
            "3\n"
          ]
        }
      ]
    },
    {
      "cell_type": "code",
      "source": [
        "N = int(input())\n",
        "\n",
        "if N%2 == 0:\n",
        "    n = N//2\n",
        "    dp = [0,3] + [0 for _ in range(n-1)]\n",
        "    num = 2\n",
        "    for i in range(2,n+1):\n",
        "        dp[i] = dp[i-1]*3 + num\n",
        "        num += dp[i-1]*2\n",
        "    \n",
        "    print(dp[n])\n",
        "else:\n",
        "    print(0)"
      ],
      "metadata": {
        "colab": {
          "base_uri": "https://localhost:8080/"
        },
        "id": "r8-olDUtJOnt",
        "outputId": "37c38e9d-5369-4070-dd0a-9fee0b21f181"
      },
      "execution_count": 1,
      "outputs": [
        {
          "output_type": "stream",
          "name": "stdout",
          "text": [
            "2\n",
            "3\n"
          ]
        }
      ]
    },
    {
      "cell_type": "code",
      "source": [
        "N = int(input())\n",
        "x = 0\n",
        "if N%2 == 0:\n",
        "    n,num,x = N//2, 2, 3\n",
        "    for _ in range(n-1):\n",
        "        x, num = x*3 + num, num + x*2\n",
        "\n",
        "print(x)"
      ],
      "metadata": {
        "colab": {
          "base_uri": "https://localhost:8080/"
        },
        "id": "3OlSvwCSJkZZ",
        "outputId": "59be0201-83a8-496b-dbe5-e5684d8d3569"
      },
      "execution_count": 2,
      "outputs": [
        {
          "output_type": "stream",
          "name": "stdout",
          "text": [
            "2\n",
            "3\n"
          ]
        }
      ]
    }
  ]
}