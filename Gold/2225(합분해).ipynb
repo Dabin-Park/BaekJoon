{
  "cells": [
    {
      "cell_type": "markdown",
      "metadata": {
        "id": "view-in-github",
        "colab_type": "text"
      },
      "source": [
        "<a href=\"https://colab.research.google.com/github/Dabin-Park/BaekJoon/blob/main/Gold/2225(%ED%95%A9%EB%B6%84%ED%95%B4).ipynb\" target=\"_parent\"><img src=\"https://colab.research.google.com/assets/colab-badge.svg\" alt=\"Open In Colab\"/></a>"
      ]
    },
    {
      "cell_type": "code",
      "source": [
        "def fact(a):\n",
        "    num = 1\n",
        "    for i in range(2,a+1):\n",
        "        num *= i\n",
        "    return num\n",
        "\n",
        "N,K = map(int,input().split())\n",
        "\n",
        "print((fact(N+K-1)//(fact(K-1)*fact(N)))%1000000000)"
      ],
      "metadata": {
        "id": "HBwwya3y6Eyo",
        "outputId": "36fe5b56-129e-4c5b-b5e9-b75837685b63",
        "colab": {
          "base_uri": "https://localhost:8080/"
        }
      },
      "execution_count": 2,
      "outputs": [
        {
          "output_type": "stream",
          "name": "stdout",
          "text": [
            "6 4\n",
            "84\n"
          ]
        }
      ]
    },
    {
      "cell_type": "code",
      "source": [
        "def fact(a,b):\n",
        "    num = 1\n",
        "    for i in range(a,b+1):\n",
        "        num *= i\n",
        "    return num\n",
        "\n",
        "def combi(a,b):\n",
        "    return fact(b-a+1,b)//fact(1,a)\n",
        "\n",
        "\n",
        "N,K = map(int,input().split())\n",
        "\n",
        "print(combi(K-1,N+K-1)%1000000000)"
      ],
      "metadata": {
        "colab": {
          "base_uri": "https://localhost:8080/"
        },
        "id": "rCb-ryPL96R6",
        "outputId": "310c3964-c794-4b70-a817-afd933dea731"
      },
      "execution_count": 3,
      "outputs": [
        {
          "output_type": "stream",
          "name": "stdout",
          "text": [
            "6 4\n",
            "84\n"
          ]
        }
      ]
    }
  ],
  "metadata": {
    "colab": {
      "name": "2225(합분해).ipynb",
      "provenance": [],
      "collapsed_sections": [],
      "authorship_tag": "ABX9TyMQvoza1twMOxwwrT74C8NQ",
      "include_colab_link": true
    },
    "kernelspec": {
      "display_name": "Python 3",
      "name": "python3"
    },
    "language_info": {
      "name": "python"
    }
  },
  "nbformat": 4,
  "nbformat_minor": 0
}