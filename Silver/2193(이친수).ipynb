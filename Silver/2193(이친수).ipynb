{
  "cells": [
    {
      "cell_type": "markdown",
      "metadata": {
        "id": "view-in-github",
        "colab_type": "text"
      },
      "source": [
        "<a href=\"https://colab.research.google.com/github/Dabin-Park/BaekJoon/blob/main/Silver/2193(%EC%9D%B4%EC%B9%9C%EC%88%98).ipynb\" target=\"_parent\"><img src=\"https://colab.research.google.com/assets/colab-badge.svg\" alt=\"Open In Colab\"/></a>"
      ]
    },
    {
      "cell_type": "code",
      "source": [
        "def combi(n,r):\n",
        "    return fact(n,n-r+1)//(fact(r,1))\n",
        "\n",
        "\n",
        "def fact(a,b):\n",
        "    m = 1\n",
        "    while a >= b:\n",
        "        m *= a\n",
        "        a -= 1\n",
        "    return m\n",
        "\n",
        "num = 1    \n",
        "N = int(input())\n",
        "\n",
        "if N > 2:\n",
        "    num = 1\n",
        "    if N%2 == 0:\n",
        "        for i in range(1,(N-2)//2+1):\n",
        "            num += combi(N-1-i,i)\n",
        "    else:\n",
        "        for i in range(1,(N-2)//2+2):\n",
        "            num += combi(N-1-i,i)\n",
        "\n",
        "print(num)"
      ],
      "metadata": {
        "id": "HBwwya3y6Eyo",
        "outputId": "794829eb-a89f-474e-b0e3-432b0b1c98c1",
        "colab": {
          "base_uri": "https://localhost:8080/"
        }
      },
      "execution_count": null,
      "outputs": [
        {
          "output_type": "stream",
          "name": "stdout",
          "text": [
            "5\n",
            "5\n"
          ]
        }
      ]
    },
    {
      "cell_type": "markdown",
      "source": [
        "* 피보나치랑 같음\n",
        ">* 이유 : https://m.blog.naver.com/occidere/220788046159 참고 "
      ],
      "metadata": {
        "id": "1rrudoDx1Isz"
      }
    },
    {
      "cell_type": "code",
      "source": [
        "n = int(input())\n",
        "dp = [0 for _ in range(n + 1)]\n",
        "dp[1] = 1\n",
        "for i in range(2, n+1):\n",
        "    dp[i] = dp[i-2] + dp[i-1]\n",
        "\n",
        "print(dp[n])"
      ],
      "metadata": {
        "colab": {
          "base_uri": "https://localhost:8080/"
        },
        "id": "Z-M5fEPy1Ds8",
        "outputId": "aceea041-edb2-44c3-89b5-a9b5ef4024fb"
      },
      "execution_count": 1,
      "outputs": [
        {
          "output_type": "stream",
          "name": "stdout",
          "text": [
            "5\n",
            "5\n"
          ]
        }
      ]
    }
  ],
  "metadata": {
    "colab": {
      "name": "2193(이친수).ipynb",
      "provenance": [],
      "collapsed_sections": [],
      "authorship_tag": "ABX9TyNPsHrltRbQ4oMVQMbeyz+f",
      "include_colab_link": true
    },
    "kernelspec": {
      "display_name": "Python 3",
      "name": "python3"
    },
    "language_info": {
      "name": "python"
    }
  },
  "nbformat": 4,
  "nbformat_minor": 0
}