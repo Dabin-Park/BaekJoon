{
  "nbformat": 4,
  "nbformat_minor": 0,
  "metadata": {
    "colab": {
      "provenance": [],
      "collapsed_sections": [],
      "authorship_tag": "ABX9TyMmqeEu48ztCJ0O2iRtFXmc",
      "include_colab_link": true
    },
    "kernelspec": {
      "name": "python3",
      "display_name": "Python 3"
    },
    "language_info": {
      "name": "python"
    }
  },
  "cells": [
    {
      "cell_type": "markdown",
      "metadata": {
        "id": "view-in-github",
        "colab_type": "text"
      },
      "source": [
        "<a href=\"https://colab.research.google.com/github/Dabin-Park/BaekJoon/blob/main/Silver/9184(%EC%8B%A0%EB%82%98%EB%8A%94%20%ED%95%A8%EC%88%98%20%EC%8B%A4%ED%96%89).ipynb\" target=\"_parent\"><img src=\"https://colab.research.google.com/assets/colab-badge.svg\" alt=\"Open In Colab\"/></a>"
      ]
    },
    {
      "cell_type": "code",
      "source": [
        "def sol():\n",
        "    dp = [[[0]*21+[1] for _ in range(21)]+[[1]*22] for _ in range(21)]+[[[1]*22 for _ in range(21)]]\n",
        "\n",
        "    for i in range(21):\n",
        "        for j in range(21):\n",
        "            for k in range(21):\n",
        "                if i and j and k:\n",
        "                    if i < j and j < k:\n",
        "                        dp[i][j][k] = dp[i][j][k-1] + dp[i][j-1][k-1] - dp[i][j-1][k]\n",
        "                    else:\n",
        "                        dp[i][j][k] = dp[i-1][j][k] + dp[i-1][j-1][k] + dp[i-1][j][k-1] - dp[i-1][j-1][k-1]\n",
        "                else:\n",
        "                    dp[i][j][k] = 1\n",
        "                \n",
        "    while 1:\n",
        "        a,b,c = map(int,input().split())\n",
        "        if a == b == c == -1:\n",
        "            break\n",
        "        \n",
        "        print(f\"w({a}, {b}, {c})\", end = \" = \")\n",
        "        if a <= 0 or b <= 0 or c <= 0:\n",
        "            a = b = c = 0\n",
        "        elif a > 20 or b > 20 or c > 20:\n",
        "            a = b = c = 20\n",
        "        print(dp[a][b][c])\n",
        "\n",
        "sol()"
      ],
      "metadata": {
        "id": "k7eFI1eAZZ1Z",
        "outputId": "10b92e46-8d75-4c2b-8854-1a6f2e0493f8",
        "colab": {
          "base_uri": "https://localhost:8080/"
        }
      },
      "execution_count": 1,
      "outputs": [
        {
          "name": "stdout",
          "output_type": "stream",
          "text": [
            "1 1 1\n",
            "w(1, 1, 1) = 2\n",
            "2 2 2\n",
            "w(2, 2, 2) = 4\n",
            "10 4 6\n",
            "w(10, 4, 6) = 523\n",
            "50 50 50\n",
            "w(50, 50, 50) = 1048576\n",
            "-1 7 18\n",
            "w(-1, 7, 18) = 1\n",
            "-1 -1 -1\n"
          ]
        }
      ]
    }
  ]
}