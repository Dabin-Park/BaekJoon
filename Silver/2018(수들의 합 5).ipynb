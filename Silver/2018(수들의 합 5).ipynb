{
  "nbformat": 4,
  "nbformat_minor": 0,
  "metadata": {
    "colab": {
      "provenance": [],
      "authorship_tag": "ABX9TyPTHFWETelmbaLR7opUpO+G",
      "include_colab_link": true
    },
    "kernelspec": {
      "name": "python3",
      "display_name": "Python 3"
    },
    "language_info": {
      "name": "python"
    }
  },
  "cells": [
    {
      "cell_type": "markdown",
      "metadata": {
        "id": "view-in-github",
        "colab_type": "text"
      },
      "source": [
        "<a href=\"https://colab.research.google.com/github/Dabin-Park/BaekJoon/blob/main/Silver/2018(%EC%88%98%EB%93%A4%EC%9D%98%20%ED%95%A9%205).ipynb\" target=\"_parent\"><img src=\"https://colab.research.google.com/assets/colab-badge.svg\" alt=\"Open In Colab\"/></a>"
      ]
    },
    {
      "cell_type": "code",
      "source": [
        "def sol(N, num):\n",
        "    if N > 1:\n",
        "        num += 1\n",
        "    left, right = 0,1\n",
        "    sum_, last = 1, N//2 + 1\n",
        "    while left < right:\n",
        "        if sum_ == N:\n",
        "            num += 1\n",
        "            right += 1\n",
        "            sum_ += right - left \n",
        "            left += 1\n",
        "        elif sum_ > N:\n",
        "            sum_ -= left\n",
        "            left += 1\n",
        "        else:\n",
        "            right += 1\n",
        "            sum_ += right\n",
        "    return num \n",
        "\n",
        "print(sol(int(input()),0))   "
      ],
      "metadata": {
        "colab": {
          "base_uri": "https://localhost:8080/"
        },
        "id": "-n7Jl3MFSbU9",
        "outputId": "3807991e-d79f-4572-c3bb-1cd6b791bb05"
      },
      "execution_count": 1,
      "outputs": [
        {
          "output_type": "stream",
          "name": "stdout",
          "text": [
            "15\n",
            "4\n"
          ]
        }
      ]
    }
  ]
}