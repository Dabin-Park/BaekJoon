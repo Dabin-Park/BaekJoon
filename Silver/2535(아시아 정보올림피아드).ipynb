{
  "cells": [
    {
      "cell_type": "markdown",
      "metadata": {
        "id": "view-in-github",
        "colab_type": "text"
      },
      "source": [
        "<a href=\"https://colab.research.google.com/github/Dabin-Park/BaekJoon/blob/main/Silver/2535(%EC%95%84%EC%8B%9C%EC%95%84%20%EC%A0%95%EB%B3%B4%EC%98%AC%EB%A6%BC%ED%94%BC%EC%95%84%EB%93%9C).ipynb\" target=\"_parent\"><img src=\"https://colab.research.google.com/assets/colab-badge.svg\" alt=\"Open In Colab\"/></a>"
      ]
    },
    {
      "cell_type": "code",
      "source": [
        "def rank(A):\n",
        "    i,j = 0,2\n",
        "    while True:\n",
        "        if A[i][1] == A[i+1][1] and A[i][1] == A[j][1]:\n",
        "            j += 1\n",
        "        else:\n",
        "            break\n",
        "    return i,j  \n",
        "        \n",
        "\n",
        "\n",
        "N = int(input())\n",
        "A = []\n",
        "\n",
        "for _ in range(N):\n",
        "    c,n,s = map(int,input().split())\n",
        "    A.append([s,c,n])\n",
        "    \n",
        "A.sort(reverse = True)\n",
        "i,j = rank(A)\n",
        "\n",
        "print(A[i][1], A[i][2])\n",
        "print(A[i+1][1], A[i+1][2])\n",
        "print(A[j][1], A[j][2])"
      ],
      "metadata": {
        "id": "HBwwya3y6Eyo",
        "outputId": "8cda1a5d-fefa-4470-bc87-8099a91eac4a",
        "colab": {
          "base_uri": "https://localhost:8080/"
        }
      },
      "execution_count": 1,
      "outputs": [
        {
          "output_type": "stream",
          "name": "stdout",
          "text": [
            "9\n",
            "1 1 230\n",
            "1 2 210\n",
            "1 3 205\n",
            "2 1 100\n",
            "2 2 150\n",
            "3 1 175\n",
            "3 2 190\n",
            "3 3 180\n",
            "3 4 195\n",
            "1 1\n",
            "1 2\n",
            "3 4\n"
          ]
        }
      ]
    },
    {
      "cell_type": "code",
      "source": [
        "def rank(A):\n",
        "    i,j = 0,2\n",
        "    while True:\n",
        "        if A[i][0] == A[i+1][0] and A[i][0] == A[j][0]:\n",
        "            j += 1\n",
        "        else:\n",
        "            break\n",
        "    return i,j  \n",
        "        \n",
        "\n",
        "N = int(input())\n",
        "A = [list(map(int,input().split())) for _ in range(N)]\n",
        "\n",
        "    \n",
        "A.sort(key = lambda x : -x[2])\n",
        "i,j = rank(A)\n",
        "\n",
        "print(A[i][0], A[i][1])\n",
        "print(A[i+1][0], A[i+1][1])\n",
        "print(A[j][0], A[j][1])"
      ],
      "metadata": {
        "colab": {
          "base_uri": "https://localhost:8080/"
        },
        "id": "Cwa0tOKmGAob",
        "outputId": "b301de6d-06f7-4b96-ca8f-bef6aa16217c"
      },
      "execution_count": 2,
      "outputs": [
        {
          "output_type": "stream",
          "name": "stdout",
          "text": [
            "9\n",
            "1 1 230\n",
            "1 2 210\n",
            "1 3 205\n",
            "2 1 100\n",
            "2 2 150\n",
            "3 1 175\n",
            "3 2 190\n",
            "3 3 180\n",
            "3 4 195\n",
            "1 1\n",
            "1 2\n",
            "3 4\n"
          ]
        }
      ]
    }
  ],
  "metadata": {
    "colab": {
      "name": "2535(아시아 정보올림피아드).ipynb",
      "provenance": [],
      "collapsed_sections": [],
      "authorship_tag": "ABX9TyM3nX19EffjiMEzMyLCz/oE",
      "include_colab_link": true
    },
    "kernelspec": {
      "display_name": "Python 3",
      "name": "python3"
    },
    "language_info": {
      "name": "python"
    }
  },
  "nbformat": 4,
  "nbformat_minor": 0
}