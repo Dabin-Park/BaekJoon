{
  "nbformat": 4,
  "nbformat_minor": 0,
  "metadata": {
    "colab": {
      "provenance": [],
      "collapsed_sections": [],
      "authorship_tag": "ABX9TyNDA1HS899+9KUqphkyi/wE",
      "include_colab_link": true
    },
    "kernelspec": {
      "name": "python3",
      "display_name": "Python 3"
    },
    "language_info": {
      "name": "python"
    }
  },
  "cells": [
    {
      "cell_type": "markdown",
      "metadata": {
        "id": "view-in-github",
        "colab_type": "text"
      },
      "source": [
        "<a href=\"https://colab.research.google.com/github/Dabin-Park/BaekJoon/blob/main/Gold/15486(%ED%87%B4%EC%82%AC%202).ipynb\" target=\"_parent\"><img src=\"https://colab.research.google.com/assets/colab-badge.svg\" alt=\"Open In Colab\"/></a>"
      ]
    },
    {
      "cell_type": "code",
      "source": [
        "def sol(N):\n",
        "    Works = [list(map(int,input().split())) for _ in range(N)]\n",
        "    dp = [0]*(N+1)\n",
        "    max_ = 0\n",
        "    for i in range(N):\n",
        "        day, work = Works[i]\n",
        "        max_ = max(max_,dp[i])\n",
        "        if i+day <= N:\n",
        "            dp[i+day] = max(dp[i+day], max_ + work)\n",
        "    return max(dp)\n",
        "\n",
        "print(sol(int(input())))"
      ],
      "metadata": {
        "id": "k7eFI1eAZZ1Z",
        "outputId": "fb224fab-1cb6-496b-81c1-e0fe0effe095",
        "colab": {
          "base_uri": "https://localhost:8080/"
        }
      },
      "execution_count": 2,
      "outputs": [
        {
          "output_type": "stream",
          "name": "stdout",
          "text": [
            "7\n",
            "3 10\n",
            "5 20\n",
            "1 10\n",
            "1 20\n",
            "2 15\n",
            "4 40\n",
            "2 200\n",
            "45\n"
          ]
        }
      ]
    }
  ]
}