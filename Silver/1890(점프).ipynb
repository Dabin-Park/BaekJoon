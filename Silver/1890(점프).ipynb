{
  "nbformat": 4,
  "nbformat_minor": 0,
  "metadata": {
    "colab": {
      "provenance": [],
      "authorship_tag": "ABX9TyPZG/9WeSzIH7YShp4jatKy",
      "include_colab_link": true
    },
    "kernelspec": {
      "name": "python3",
      "display_name": "Python 3"
    },
    "language_info": {
      "name": "python"
    }
  },
  "cells": [
    {
      "cell_type": "markdown",
      "metadata": {
        "id": "view-in-github",
        "colab_type": "text"
      },
      "source": [
        "<a href=\"https://colab.research.google.com/github/Dabin-Park/BaekJoon/blob/main/Silver/1890(%EC%A0%90%ED%94%84).ipynb\" target=\"_parent\"><img src=\"https://colab.research.google.com/assets/colab-badge.svg\" alt=\"Open In Colab\"/></a>"
      ]
    },
    {
      "cell_type": "code",
      "source": [
        "def sol():\n",
        "    N = int(input())\n",
        "    dp = [[0]*N for _ in range(N)]\n",
        "    dp[0][0] = 1\n",
        "    for i in range(N):\n",
        "        for idx,n in enumerate(list(map(int,input().split()))):\n",
        "            if not n:\n",
        "                break\n",
        "            if idx+n < N:\n",
        "                dp[i][idx+n] += dp[i][idx]\n",
        "            if i+n <N:\n",
        "                dp[i+n][idx] += dp[i][idx]\n",
        "    return dp[-1][-1] \n",
        "\n",
        "print(sol())"
      ],
      "metadata": {
        "colab": {
          "base_uri": "https://localhost:8080/"
        },
        "id": "e30J77TxSoAj",
        "outputId": "dab78578-ddcc-4de1-d44c-97e1fc82a56c"
      },
      "execution_count": 1,
      "outputs": [
        {
          "output_type": "stream",
          "name": "stdout",
          "text": [
            "4\n",
            "2 3 3 1\n",
            "1 2 1 3\n",
            "1 2 3 1\n",
            "3 1 1 0\n",
            "3\n"
          ]
        }
      ]
    }
  ]
}