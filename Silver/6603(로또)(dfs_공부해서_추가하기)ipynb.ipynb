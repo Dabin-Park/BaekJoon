{
  "cells": [
    {
      "cell_type": "markdown",
      "metadata": {
        "id": "view-in-github",
        "colab_type": "text"
      },
      "source": [
        "<a href=\"https://colab.research.google.com/github/Dabin-Park/BaekJoon/blob/main/Silver/6603(%EB%A1%9C%EB%98%90)(dfs_%EA%B3%B5%EB%B6%80%ED%95%B4%EC%84%9C_%EC%B6%94%EA%B0%80%ED%95%98%EA%B8%B0)ipynb.ipynb\" target=\"_parent\"><img src=\"https://colab.research.google.com/assets/colab-badge.svg\" alt=\"Open In Colab\"/></a>"
      ]
    },
    {
      "cell_type": "code",
      "source": [
        "def print_all(A):\n",
        "    for a in A:\n",
        "        print(a, end =\" \")\n",
        "    print()\n",
        "\n",
        "\n",
        "while True:\n",
        "    A = list(map(int,input().split()))\n",
        "    if A[0] == 0:\n",
        "        break\n",
        "    else:\n",
        "        B = A[1:]\n",
        "        for i in range(A[0]-5):\n",
        "            if i == A[0]-6:\n",
        "                print_all(B[i:])\n",
        "                break\n",
        "            else:\n",
        "                for j in range(i+1,A[0]-4): \n",
        "                    if j == A[0]-5:\n",
        "                        print_all([B[i]]+B[j:])\n",
        "                        break\n",
        "                    else:\n",
        "                        for k in range(j+1,A[0]-3): \n",
        "                            if k == A[0]-4:\n",
        "                                print_all([B[i]]+[B[j]]+B[k:])\n",
        "                                break\n",
        "                            else:\n",
        "                                for l in range(k+1,A[0]-2): \n",
        "                                    if l == A[0]-3:\n",
        "                                        print_all([B[i]]+[B[j]]+[B[k]]+B[l:])\n",
        "                                        break\n",
        "                                    else:\n",
        "                                        for m in range(l+1,A[0]-1):\n",
        "                                            if  m == A[0]-2:\n",
        "                                                print_all([B[i]]+[B[j]]+[B[k]]+[B[l]]+B[m:])\n",
        "                                                break\n",
        "                                            else:\n",
        "                                                for n in range(m+1,A[0]):\n",
        "                                                  print_all([B[i]]+[B[j]]+[B[k]]+[B[l]]+[B[m]]+[B[n]])\n",
        "                                                \n",
        "        print()                                           "
      ],
      "metadata": {
        "id": "HBwwya3y6Eyo",
        "outputId": "1a9a4370-5181-4890-9feb-9fdc8da363a0",
        "colab": {
          "base_uri": "https://localhost:8080/"
        }
      },
      "execution_count": 1,
      "outputs": [
        {
          "name": "stdout",
          "output_type": "stream",
          "text": [
            "8 1 2 3 5 8 13 21 34\n",
            "1 2 3 5 8 13 \n",
            "1 2 3 5 8 21 \n",
            "1 2 3 5 8 34 \n",
            "1 2 3 5 13 21 \n",
            "1 2 3 5 13 34 \n",
            "1 2 3 5 21 34 \n",
            "1 2 3 8 13 21 \n",
            "1 2 3 8 13 34 \n",
            "1 2 3 8 21 34 \n",
            "1 2 3 13 21 34 \n",
            "1 2 5 8 13 21 \n",
            "1 2 5 8 13 34 \n",
            "1 2 5 8 21 34 \n",
            "1 2 5 13 21 34 \n",
            "1 2 8 13 21 34 \n",
            "1 3 5 8 13 21 \n",
            "1 3 5 8 13 34 \n",
            "1 3 5 8 21 34 \n",
            "1 3 5 13 21 34 \n",
            "1 3 8 13 21 34 \n",
            "1 5 8 13 21 34 \n",
            "2 3 5 8 13 21 \n",
            "2 3 5 8 13 34 \n",
            "2 3 5 8 21 34 \n",
            "2 3 5 13 21 34 \n",
            "2 3 8 13 21 34 \n",
            "2 5 8 13 21 34 \n",
            "3 5 8 13 21 34 \n",
            "\n",
            "0\n"
          ]
        }
      ]
    }
  ],
  "metadata": {
    "colab": {
      "name": "6603(로또)(dfs 공부해서 추가하기)ipynb",
      "provenance": [],
      "collapsed_sections": [],
      "authorship_tag": "ABX9TyMGy/lATd8gEJFnQN1OkANr",
      "include_colab_link": true
    },
    "kernelspec": {
      "display_name": "Python 3",
      "name": "python3"
    },
    "language_info": {
      "name": "python"
    }
  },
  "nbformat": 4,
  "nbformat_minor": 0
}