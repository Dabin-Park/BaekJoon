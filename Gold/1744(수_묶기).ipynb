{
  "cells": [
    {
      "cell_type": "markdown",
      "metadata": {
        "id": "view-in-github",
        "colab_type": "text"
      },
      "source": [
        "<a href=\"https://colab.research.google.com/github/Dabin-Park/BaekJoon/blob/main/Gold/1744(%EC%88%98_%EB%AC%B6%EA%B8%B0).ipynb\" target=\"_parent\"><img src=\"https://colab.research.google.com/assets/colab-badge.svg\" alt=\"Open In Colab\"/></a>"
      ]
    },
    {
      "cell_type": "code",
      "source": [
        "def big(a,b):\n",
        "    if a*b >= a+b :\n",
        "        return a*b\n",
        "    else :\n",
        "        return a+b\n",
        "\n",
        "def total(p,sum):\n",
        "    if len(p)%2 == 0:\n",
        "        for i in range(0,len(p),2):\n",
        "            sum += big(p[i],p[i+1])\n",
        "    else :\n",
        "        for i in range(0,len(p)-1,2):\n",
        "            sum += big(p[i],p[i+1])\n",
        "        sum += p[-1]\n",
        "    return sum    \n",
        "N = int(input())\n",
        "\n",
        "p = []\n",
        "n = []\n",
        "for _ in range(N):\n",
        "    num = int(input())\n",
        "    if num > 0 :\n",
        "        p.append(num)\n",
        "    else :\n",
        "        n.append(num)\n",
        "\n",
        "p = sorted(p,reverse=True)\n",
        "n = sorted(n)\n",
        "\n",
        "sump = total(p,0) \n",
        "sumn = total(n,sump)\n",
        "       \n",
        "print(sumn)\n"
      ],
      "metadata": {
        "colab": {
          "base_uri": "https://localhost:8080/"
        },
        "id": "Y06dd9MLXMjm",
        "outputId": "ad229655-88b9-44a3-d962-088b8804a134"
      },
      "execution_count": 1,
      "outputs": [
        {
          "output_type": "stream",
          "name": "stdout",
          "text": [
            "6\n",
            "0\n",
            "1\n",
            "2\n",
            "4\n",
            "3\n",
            "5\n",
            "27\n"
          ]
        }
      ]
    }
  ],
  "metadata": {
    "colab": {
      "name": "1744(수 묶기).ipynb",
      "provenance": [],
      "authorship_tag": "ABX9TyMpNRNYzDchi5GTcCWSmEs0",
      "include_colab_link": true
    },
    "kernelspec": {
      "display_name": "Python 3",
      "name": "python3"
    },
    "language_info": {
      "name": "python"
    }
  },
  "nbformat": 4,
  "nbformat_minor": 0
}