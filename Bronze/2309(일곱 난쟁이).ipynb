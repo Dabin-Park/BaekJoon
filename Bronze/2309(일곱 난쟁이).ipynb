{
  "cells": [
    {
      "cell_type": "markdown",
      "metadata": {
        "id": "view-in-github",
        "colab_type": "text"
      },
      "source": [
        "<a href=\"https://colab.research.google.com/github/Dabin-Park/BaekJoon/blob/main/Bronze/2309(%EC%9D%BC%EA%B3%B1%20%EB%82%9C%EC%9F%81%EC%9D%B4).ipynb\" target=\"_parent\"><img src=\"https://colab.research.google.com/assets/colab-badge.svg\" alt=\"Open In Colab\"/></a>"
      ]
    },
    {
      "cell_type": "code",
      "source": [
        "def little(b):\n",
        "    a = sorted(b)\n",
        "    for i in a:\n",
        "        print(i)\n",
        "        \n",
        "        \n",
        "a = [int(input()) for _ in range(9)]\n",
        "\n",
        "for i in range(9):\n",
        "    b = a.copy()\n",
        "    del b[i]\n",
        "    for j in range(8):\n",
        "        c = b.copy()\n",
        "        del c[j]\n",
        "        if sum(c) == 100:\n",
        "            little(c)\n",
        "            break\n",
        "    if sum(c) == 100:\n",
        "        break"
      ],
      "metadata": {
        "colab": {
          "base_uri": "https://localhost:8080/"
        },
        "id": "Y06dd9MLXMjm",
        "outputId": "0f635b9b-4113-458d-a12c-2f9e7e579eeb"
      },
      "execution_count": 1,
      "outputs": [
        {
          "output_type": "stream",
          "name": "stdout",
          "text": [
            "20\n",
            "7\n",
            "23\n",
            "19\n",
            "10\n",
            "15\n",
            "25\n",
            "8\n",
            "13\n",
            "7\n",
            "8\n",
            "10\n",
            "13\n",
            "19\n",
            "20\n",
            "23\n"
          ]
        }
      ]
    }
  ],
  "metadata": {
    "colab": {
      "name": "2309(일곱 난쟁이).ipynb",
      "provenance": [],
      "authorship_tag": "ABX9TyNGi66OAfPyk4AuYeMrb9Lt",
      "include_colab_link": true
    },
    "kernelspec": {
      "display_name": "Python 3",
      "name": "python3"
    },
    "language_info": {
      "name": "python"
    }
  },
  "nbformat": 4,
  "nbformat_minor": 0
}