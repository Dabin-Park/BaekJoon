{
  "nbformat": 4,
  "nbformat_minor": 0,
  "metadata": {
    "colab": {
      "name": "17386(선분 교차 1).ipynb",
      "provenance": [],
      "authorship_tag": "ABX9TyPsTwticnB0SkjMIFbjRDOt",
      "include_colab_link": true
    },
    "kernelspec": {
      "name": "python3",
      "display_name": "Python 3"
    },
    "language_info": {
      "name": "python"
    }
  },
  "cells": [
    {
      "cell_type": "markdown",
      "metadata": {
        "id": "view-in-github",
        "colab_type": "text"
      },
      "source": [
        "<a href=\"https://colab.research.google.com/github/Dabin-Park/BaekJoon/blob/main/Gold/17386(%EC%84%A0%EB%B6%84%20%EA%B5%90%EC%B0%A8%201).ipynb\" target=\"_parent\"><img src=\"https://colab.research.google.com/assets/colab-badge.svg\" alt=\"Open In Colab\"/></a>"
      ]
    },
    {
      "cell_type": "code",
      "source": [
        "x1,y1,x2,y2 = map(int,input().split())\n",
        "x3,y3,x4,y4 = map(int,input().split())\n",
        "\n",
        "def line(x,y,X1,Y1,X2,Y2):\n",
        "    if X1 == X2:\n",
        "        if x > X1:\n",
        "            return 1\n",
        "    elif Y1 == Y2:\n",
        "        if y > Y1:\n",
        "            return 1\n",
        "    elif y > ((Y1-Y2)/(X1-X2)) * (x-X1) + Y1:\n",
        "            return 1\n",
        "\n",
        "    return -1\n",
        "\n",
        "if line(x3,y3,x1,y1,x2,y2) *  line(x4,y4,x1,y1,x2,y2) == 1 or line(x1,y1,x3,y3,x4,y4) *  line(x2,y2,x3,y3,x4,y4) == 1:\n",
        "    print(0)\n",
        "else:\n",
        "    print(1)"
      ],
      "metadata": {
        "colab": {
          "base_uri": "https://localhost:8080/"
        },
        "id": "4NDvOBDhbpRD",
        "outputId": "ef815a8a-8ad1-4d65-f2a2-00302b2574a8"
      },
      "execution_count": 1,
      "outputs": [
        {
          "output_type": "stream",
          "name": "stdout",
          "text": [
            "1 1 5 5\n",
            "1 5 5 1\n",
            "1\n"
          ]
        }
      ]
    },
    {
      "cell_type": "code",
      "source": [
        "def line(axis,Line):\n",
        "    if Line[0] == Line[2]:\n",
        "        if axis[0] > Line[0]:\n",
        "            return 1\n",
        "    elif Line[1] == Line[3]:\n",
        "        if axis[1] > Line[1]:\n",
        "            return 1\n",
        "    elif axis[1] > ((Line[1]-Line[3])/(Line[0]-Line[2])) * (axis[0]-Line[0]) + Line[1]:\n",
        "        return 1  \n",
        "    \n",
        "    return -1 \n",
        "\n",
        "Line1, Line2 = list(map(int,input().split())), list(map(int,input().split()))\n",
        "\n",
        "if line(Line2[:2],Line1) *  line(Line2[2:],Line1) == 1 or line(Line1[:2],Line2) *  line(Line1[2:],Line2) == 1:\n",
        "    print(0)\n",
        "else:\n",
        "    print(1)"
      ],
      "metadata": {
        "colab": {
          "base_uri": "https://localhost:8080/"
        },
        "id": "7hBDjmg61Uei",
        "outputId": "b9ad9a8f-e012-4f53-e397-4b3ebdb769ef"
      },
      "execution_count": 2,
      "outputs": [
        {
          "output_type": "stream",
          "name": "stdout",
          "text": [
            "1 1 5 5 \n",
            "1 5 5 1\n",
            "1\n"
          ]
        }
      ]
    }
  ]
}