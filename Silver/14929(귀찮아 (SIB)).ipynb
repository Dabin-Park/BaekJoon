{
  "cells": [
    {
      "cell_type": "markdown",
      "metadata": {
        "id": "view-in-github",
        "colab_type": "text"
      },
      "source": [
        "<a href=\"https://colab.research.google.com/github/Dabin-Park/BaekJoon/blob/main/Silver/14929(%EA%B7%80%EC%B0%AE%EC%95%84%20(SIB)).ipynb\" target=\"_parent\"><img src=\"https://colab.research.google.com/assets/colab-badge.svg\" alt=\"Open In Colab\"/></a>"
      ]
    },
    {
      "cell_type": "code",
      "source": [
        "n = int(input())\n",
        "A = list(map(int,input().split()))\n",
        "\n",
        "sum = sum(A)\n",
        "num = 0\n",
        "for a in A:\n",
        "    sum -= a\n",
        "    num += a*sum\n",
        "    \n",
        "print(num)"
      ],
      "metadata": {
        "id": "HBwwya3y6Eyo",
        "outputId": "7907e080-e5f2-4300-cfb9-83765a3f6f89",
        "colab": {
          "base_uri": "https://localhost:8080/"
        }
      },
      "execution_count": 3,
      "outputs": [
        {
          "output_type": "stream",
          "name": "stdout",
          "text": [
            "3\n",
            "1 -2 3\n",
            "-5\n"
          ]
        }
      ]
    },
    {
      "cell_type": "code",
      "source": [
        "n = int(input())\n",
        "A = list(map(int,input().split()))\n",
        "\n",
        "sum = sum(A)\n",
        "num = 0\n",
        "for a in A:\n",
        "    num += a**2\n",
        "    \n",
        "print((sum**2 - num)//2)"
      ],
      "metadata": {
        "colab": {
          "base_uri": "https://localhost:8080/"
        },
        "id": "Cn7EssIMK5Je",
        "outputId": "35a66f64-0411-4c0c-9d29-cb781b5c2973"
      },
      "execution_count": 1,
      "outputs": [
        {
          "output_type": "stream",
          "name": "stdout",
          "text": [
            "3\n",
            "1 -2 3\n",
            "-5\n"
          ]
        }
      ]
    }
  ],
  "metadata": {
    "colab": {
      "name": "14929(귀찮아 (SIB)).ipynb",
      "provenance": [],
      "collapsed_sections": [],
      "authorship_tag": "ABX9TyMgjOWs38lAaZedNQHmlMoG",
      "include_colab_link": true
    },
    "kernelspec": {
      "display_name": "Python 3",
      "name": "python3"
    },
    "language_info": {
      "name": "python"
    }
  },
  "nbformat": 4,
  "nbformat_minor": 0
}