{
  "cells": [
    {
      "cell_type": "markdown",
      "metadata": {
        "id": "view-in-github",
        "colab_type": "text"
      },
      "source": [
        "<a href=\"https://colab.research.google.com/github/Dabin-Park/BaekJoon/blob/main/Gold/9576(%EC%B1%85%20%EB%82%98%EB%88%A0%EC%A3%BC%EA%B8%B0).ipynb\" target=\"_parent\"><img src=\"https://colab.research.google.com/assets/colab-badge.svg\" alt=\"Open In Colab\"/></a>"
      ]
    },
    {
      "cell_type": "code",
      "source": [
        "T = int(input())\n",
        "\n",
        "for _ in range(T):\n",
        "    N,M = map(int,input().split())\n",
        "    A = [1]*(N+1)\n",
        "    B = sorted([list(map(int,input().split())) for _ in range(M)],key = lambda x :x[1])\n",
        "    num = 0\n",
        "    for b in B:\n",
        "        s,e = b[0],b[1]\n",
        "        if A[s] :\n",
        "            num += 1\n",
        "            A[s] = 0\n",
        "        else:\n",
        "            i = 1\n",
        "            while s+i <= e:\n",
        "                if A[s+i] :\n",
        "                    num += 1\n",
        "                    A[s+i] = 0\n",
        "                    break\n",
        "                else:\n",
        "                    i += 1\n",
        "    print(num)"
      ],
      "metadata": {
        "id": "HBwwya3y6Eyo",
        "outputId": "d55886d8-b882-4976-b88e-b8c35de86181",
        "colab": {
          "base_uri": "https://localhost:8080/"
        }
      },
      "execution_count": 1,
      "outputs": [
        {
          "output_type": "stream",
          "name": "stdout",
          "text": [
            "1\n",
            "2 3\n",
            "1 2\n",
            "1 2\n",
            "1 2\n",
            "2\n"
          ]
        }
      ]
    }
  ],
  "metadata": {
    "colab": {
      "name": "9576(책 나눠주기).ipynb",
      "provenance": [],
      "collapsed_sections": [],
      "authorship_tag": "ABX9TyNOOm7JVC1Eknszs7nbtj1O",
      "include_colab_link": true
    },
    "kernelspec": {
      "display_name": "Python 3",
      "name": "python3"
    },
    "language_info": {
      "name": "python"
    }
  },
  "nbformat": 4,
  "nbformat_minor": 0
}