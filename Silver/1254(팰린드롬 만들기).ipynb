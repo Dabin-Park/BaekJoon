{
  "nbformat": 4,
  "nbformat_minor": 0,
  "metadata": {
    "colab": {
      "provenance": [],
      "authorship_tag": "ABX9TyNnBRHfbUvH2WtpJtjSFYcm",
      "include_colab_link": true
    },
    "kernelspec": {
      "name": "python3",
      "display_name": "Python 3"
    },
    "language_info": {
      "name": "python"
    }
  },
  "cells": [
    {
      "cell_type": "markdown",
      "metadata": {
        "id": "view-in-github",
        "colab_type": "text"
      },
      "source": [
        "<a href=\"https://colab.research.google.com/github/Dabin-Park/BaekJoon/blob/main/Silver/1254(%ED%8C%B0%EB%A6%B0%EB%93%9C%EB%A1%AC%20%EB%A7%8C%EB%93%A4%EA%B8%B0).ipynb\" target=\"_parent\"><img src=\"https://colab.research.google.com/assets/colab-badge.svg\" alt=\"Open In Colab\"/></a>"
      ]
    },
    {
      "cell_type": "code",
      "source": [
        "def sol(n):\n",
        "    In = input().rstrip()\n",
        "    A = In\n",
        "    while A != A[::-1]:\n",
        "        A = In + In[:n][::-1]\n",
        "        n += 1\n",
        "    return len(A)\n",
        "\n",
        "print(sol(1))"
      ],
      "metadata": {
        "colab": {
          "base_uri": "https://localhost:8080/"
        },
        "id": "8g7Nzgo_Ksz8",
        "outputId": "cc7a61f4-85a1-4667-e004-a92496eee542"
      },
      "execution_count": 1,
      "outputs": [
        {
          "output_type": "stream",
          "name": "stdout",
          "text": [
            "abab\n",
            "5\n"
          ]
        }
      ]
    },
    {
      "cell_type": "code",
      "source": [
        "def sol(n):\n",
        "    In = input().rstrip()\n",
        "    while In[n:] != In[n:][::-1]:\n",
        "        n += 1\n",
        "    return len(In) + n\n",
        "\n",
        "print(sol(0))"
      ],
      "metadata": {
        "colab": {
          "base_uri": "https://localhost:8080/"
        },
        "id": "e30J77TxSoAj",
        "outputId": "58ae5be9-4427-4fe9-c71f-eddee4c80e41"
      },
      "execution_count": 2,
      "outputs": [
        {
          "output_type": "stream",
          "name": "stdout",
          "text": [
            "abab\n",
            "5\n"
          ]
        }
      ]
    }
  ]
}