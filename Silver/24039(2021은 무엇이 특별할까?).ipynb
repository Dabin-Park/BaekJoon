{
  "cells": [
    {
      "cell_type": "markdown",
      "metadata": {
        "id": "view-in-github",
        "colab_type": "text"
      },
      "source": [
        "<a href=\"https://colab.research.google.com/github/Dabin-Park/BaekJoon/blob/main/Silver/24039(2021%EC%9D%80%20%EB%AC%B4%EC%97%87%EC%9D%B4%20%ED%8A%B9%EB%B3%84%ED%95%A0%EA%B9%8C%3F).ipynb\" target=\"_parent\"><img src=\"https://colab.research.google.com/assets/colab-badge.svg\" alt=\"Open In Colab\"/></a>"
      ]
    },
    {
      "cell_type": "code",
      "source": [
        "N = int(input())\n",
        "primes = [1 for _ in range(104)]\n",
        "primes[0],primes[1] = 0,0\n",
        "for i in range(4,104,2):\n",
        "    primes[i] = 0\n",
        "    \n",
        "realprimes = [1]\n",
        "for i in range(3,104,2):\n",
        "    if primes[i]:\n",
        "        realprimes.append(i)\n",
        "        for j in range(3*i,104,i):\n",
        "            primes[j] = 0\n",
        "    \n",
        "for i in range(len(realprimes)-1):\n",
        "    specialnum = realprimes[i] * realprimes[i+1]\n",
        "    if specialnum > N:\n",
        "        print(specialnum)\n",
        "        break"
      ],
      "metadata": {
        "id": "HBwwya3y6Eyo",
        "outputId": "ae592494-42b3-4075-bb65-460fd504aca8",
        "colab": {
          "base_uri": "https://localhost:8080/"
        }
      },
      "execution_count": 5,
      "outputs": [
        {
          "output_type": "stream",
          "name": "stdout",
          "text": [
            "2021\n",
            "2491\n"
          ]
        }
      ]
    }
  ],
  "metadata": {
    "colab": {
      "name": "24039(2021은 무엇이 특별할까?)",
      "provenance": [],
      "collapsed_sections": [],
      "authorship_tag": "ABX9TyMWrYi4SYMAkzJvp7vbY/yx",
      "include_colab_link": true
    },
    "kernelspec": {
      "display_name": "Python 3",
      "name": "python3"
    },
    "language_info": {
      "name": "python"
    }
  },
  "nbformat": 4,
  "nbformat_minor": 0
}