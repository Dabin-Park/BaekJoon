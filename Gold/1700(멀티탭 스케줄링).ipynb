{
  "nbformat": 4,
  "nbformat_minor": 0,
  "metadata": {
    "colab": {
      "name": "1700(멀티탭 스케줄링).ipynb",
      "provenance": [],
      "authorship_tag": "ABX9TyM30Z4S5gekSFccWS8qfZZ6",
      "include_colab_link": true
    },
    "kernelspec": {
      "name": "python3",
      "display_name": "Python 3"
    },
    "language_info": {
      "name": "python"
    }
  },
  "cells": [
    {
      "cell_type": "markdown",
      "metadata": {
        "id": "view-in-github",
        "colab_type": "text"
      },
      "source": [
        "<a href=\"https://colab.research.google.com/github/Dabin-Park/BaekJoon/blob/main/Gold/1700(%EB%A9%80%ED%8B%B0%ED%83%AD%20%EC%8A%A4%EC%BC%80%EC%A4%84%EB%A7%81).ipynb\" target=\"_parent\"><img src=\"https://colab.research.google.com/assets/colab-badge.svg\" alt=\"Open In Colab\"/></a>"
      ]
    },
    {
      "cell_type": "code",
      "source": [
        "N,K = map(int,input().split())\n",
        "Names = list(map(int,input().split()))\n",
        "\n",
        "Input = []\n",
        "num = 0\n",
        "for i,name in enumerate(Names):\n",
        "    if name not in Input:\n",
        "        if len(Input) < N:\n",
        "            Input.append(name)\n",
        "        else:\n",
        "            num += 1\n",
        "            n = -1\n",
        "            for input1 in Input:\n",
        "                A = Names[i:]\n",
        "                if input1 in A:\n",
        "                    t = 1\n",
        "                    m = A.index(input1)\n",
        "                    if m > n:\n",
        "                        n = m\n",
        "                        sol = input1\n",
        "                else:\n",
        "                    sol = input1\n",
        "                    break\n",
        "            Input.remove(sol)\n",
        "            Input.append(name)\n",
        "\n",
        "print(num)"
      ],
      "metadata": {
        "colab": {
          "base_uri": "https://localhost:8080/"
        },
        "id": "4NDvOBDhbpRD",
        "outputId": "8c6beb86-1ee0-40fb-a2a9-5ddf288aafe5"
      },
      "execution_count": 2,
      "outputs": [
        {
          "output_type": "stream",
          "name": "stdout",
          "text": [
            "2 7\n",
            "2 3 2 3 1 2 7\n",
            "2\n"
          ]
        }
      ]
    }
  ]
}