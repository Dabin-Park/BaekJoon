{
  "nbformat": 4,
  "nbformat_minor": 0,
  "metadata": {
    "colab": {
      "name": "1011(Fly me to the Alpha Centauri).ipynb",
      "provenance": [],
      "authorship_tag": "ABX9TyNM6kaDsSlcYkBGpeDNeUtc",
      "include_colab_link": true
    },
    "kernelspec": {
      "name": "python3",
      "display_name": "Python 3"
    },
    "language_info": {
      "name": "python"
    }
  },
  "cells": [
    {
      "cell_type": "markdown",
      "metadata": {
        "id": "view-in-github",
        "colab_type": "text"
      },
      "source": [
        "<a href=\"https://colab.research.google.com/github/Dabin-Park/BaekJoon/blob/main/Gold/1011(Fly%20me%20to%20the%20Alpha%20Centauri).ipynb\" target=\"_parent\"><img src=\"https://colab.research.google.com/assets/colab-badge.svg\" alt=\"Open In Colab\"/></a>"
      ]
    },
    {
      "cell_type": "code",
      "execution_count": 1,
      "metadata": {
        "colab": {
          "base_uri": "https://localhost:8080/"
        },
        "id": "dT6CvtQPNnKQ",
        "outputId": "5a29d49d-7dcf-45af-e4e7-91b797ed958d"
      },
      "outputs": [
        {
          "output_type": "stream",
          "name": "stdout",
          "text": [
            "3\n",
            "0 3\n",
            "3\n",
            "1 5\n",
            "3\n",
            "45 50\n",
            "4\n"
          ]
        }
      ],
      "source": [
        "T = int(input())\n",
        "for _ in range(T):\n",
        "    x,y = map(int,input().split())\n",
        "    total = y-x\n",
        "    num,i = 0,0\n",
        "    while num < total:\n",
        "        i += 1\n",
        "        num += i*2 \n",
        "    \n",
        "    if num == total:\n",
        "        print(2*i)\n",
        "    else:\n",
        "        num -= i*2\n",
        "        try1 = (i-1)*2 \n",
        "        num = total-num \n",
        "        while num > 0 :\n",
        "            if 2*i < num:\n",
        "                a = num//(2*i)\n",
        "                num -= a*(2*i)\n",
        "                try1 += a\n",
        "            elif i <= num:\n",
        "                num -= i  \n",
        "                try1 += 1\n",
        "            i -= 1\n",
        "        print(try1)"
      ]
    }
  ]
}