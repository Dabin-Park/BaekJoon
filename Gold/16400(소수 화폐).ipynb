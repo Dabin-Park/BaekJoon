{
  "nbformat": 4,
  "nbformat_minor": 0,
  "metadata": {
    "colab": {
      "provenance": [],
      "authorship_tag": "ABX9TyPL/LFqnG9wOjlsMjTCuRKi",
      "include_colab_link": true
    },
    "kernelspec": {
      "name": "python3",
      "display_name": "Python 3"
    },
    "language_info": {
      "name": "python"
    }
  },
  "cells": [
    {
      "cell_type": "markdown",
      "metadata": {
        "id": "view-in-github",
        "colab_type": "text"
      },
      "source": [
        "<a href=\"https://colab.research.google.com/github/Dabin-Park/BaekJoon/blob/main/Gold/16400(%EC%86%8C%EC%88%98%20%ED%99%94%ED%8F%90).ipynb\" target=\"_parent\"><img src=\"https://colab.research.google.com/assets/colab-badge.svg\" alt=\"Open In Colab\"/></a>"
      ]
    },
    {
      "cell_type": "code",
      "execution_count": 1,
      "metadata": {
        "colab": {
          "base_uri": "https://localhost:8080/"
        },
        "id": "V2C1sM_6QvYk",
        "outputId": "5feadaf6-068a-41d5-cb34-fdaac27660f5"
      },
      "outputs": [
        {
          "output_type": "stream",
          "name": "stdout",
          "text": [
            "8\n",
            "3\n"
          ]
        }
      ],
      "source": [
        "def sol(N):\n",
        "    prime = [0,0,1] + [1 if i%2 else 0 for i in range(3,N+1)]\n",
        "    for i in range(3,int(N**0.5)+1,2):\n",
        "        if prime[i]:\n",
        "            for j in range(3*i,N+1,i):\n",
        "                prime[j] = 0\n",
        "    real_prime = [2]\n",
        "    for i in range(3,N+1,2):\n",
        "        if prime[i]:\n",
        "            real_prime.append(i)\n",
        "    dp = [1]+[0]*N\n",
        "    for p in real_prime:\n",
        "        for i in range(p,N+1):\n",
        "            dp[i] = (dp[i]+dp[i-p])%123456789 \n",
        "    return dp[-1]   \n",
        "            \n",
        "\n",
        "print(sol(int(input())))"
      ]
    }
  ]
}