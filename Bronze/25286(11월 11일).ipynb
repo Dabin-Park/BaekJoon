{
  "cells": [
    {
      "cell_type": "markdown",
      "metadata": {
        "id": "view-in-github",
        "colab_type": "text"
      },
      "source": [
        "<a href=\"https://colab.research.google.com/github/Dabin-Park/BaekJoon/blob/main/Bronze/25286(11%EC%9B%94%2011%EC%9D%BC).ipynb\" target=\"_parent\"><img src=\"https://colab.research.google.com/assets/colab-badge.svg\" alt=\"Open In Colab\"/></a>"
      ]
    },
    {
      "cell_type": "code",
      "source": [
        "T = int(input())\n",
        "\n",
        "A = [list(map(int,input().split())) for _ in range(T)]\n",
        "D = [31,28,31,30,31,30,31,31,30,31,30]\n",
        "\n",
        "for i in range(T):\n",
        "    y,m,d = A[i][0], A[i][1], A[i][1]\n",
        "    if m == 1:\n",
        "        y -= 1\n",
        "        m = 12\n",
        "        d = 31\n",
        "    elif m == 3:\n",
        "        m = 2\n",
        "        if (y%4 == 0 and y%100 != 0) or y %400 == 0: \n",
        "            d = 29\n",
        "        else:\n",
        "            d = 28\n",
        "    else:\n",
        "        m -= 1\n",
        "        d = D[m-1]\n",
        "    print(f\"{y} {m} {d}\")"
      ],
      "metadata": {
        "id": "HBwwya3y6Eyo",
        "outputId": "a3989ae9-fb5f-4d34-f8f1-068aeb9e95be",
        "colab": {
          "base_uri": "https://localhost:8080/"
        }
      },
      "execution_count": 2,
      "outputs": [
        {
          "output_type": "stream",
          "name": "stdout",
          "text": [
            "6\n",
            "2000 3\n",
            "2012 3\n",
            "2022 3\n",
            "2100 3\n",
            "2022 1\n",
            "2022 11\n",
            "2000 2 29\n",
            "2012 2 29\n",
            "2022 2 28\n",
            "2100 2 28\n",
            "2021 12 31\n",
            "2022 10 31\n"
          ]
        }
      ]
    }
  ],
  "metadata": {
    "colab": {
      "name": "107575(큰 수 A+B).ipynb",
      "provenance": [],
      "collapsed_sections": [],
      "authorship_tag": "ABX9TyNDRk0pgPHZiH9cQgGlNKT2",
      "include_colab_link": true
    },
    "kernelspec": {
      "display_name": "Python 3",
      "name": "python3"
    },
    "language_info": {
      "name": "python"
    }
  },
  "nbformat": 4,
  "nbformat_minor": 0
}