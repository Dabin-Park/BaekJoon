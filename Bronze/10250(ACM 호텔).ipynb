{
  "nbformat": 4,
  "nbformat_minor": 0,
  "metadata": {
    "colab": {
      "name": "15829(Hashing).ipynb",
      "provenance": [],
      "authorship_tag": "ABX9TyOaJYHLb/pyGgPxRv4guzhO",
      "include_colab_link": true
    },
    "kernelspec": {
      "name": "python3",
      "display_name": "Python 3"
    },
    "language_info": {
      "name": "python"
    }
  },
  "cells": [
    {
      "cell_type": "markdown",
      "metadata": {
        "id": "view-in-github",
        "colab_type": "text"
      },
      "source": [
        "<a href=\"https://colab.research.google.com/github/Dabin-Park/BaekJoon/blob/main/Bronze/10250(ACM%20%ED%98%B8%ED%85%94).ipynb\" target=\"_parent\"><img src=\"https://colab.research.google.com/assets/colab-badge.svg\" alt=\"Open In Colab\"/></a>"
      ]
    },
    {
      "cell_type": "markdown",
      "source": [
        "* 주의 \n",
        "    - 6층이라고 가정하면 6번째, 12번째 손님 체크\n",
        "\n",
        "    - 방이 100개 있다면 100번째 손님도 체크"
      ],
      "metadata": {
        "id": "PLMXqc0Nv-wx"
      }
    },
    {
      "cell_type": "code",
      "source": [
        "T = int(input())\n",
        "for _ in range(T):\n",
        "    H,W,N = map(int,input().split())\n",
        "    if N%H:\n",
        "        ho = N//H + 1\n",
        "        floor = N % H\n",
        "    else:\n",
        "        ho = N//H\n",
        "        floor = H\n",
        "   \n",
        "    if ho <= 9:\n",
        "        print(f\"{floor}0{ho}\")\n",
        "    else:\n",
        "        print(f\"{floor}{ho}\")"
      ],
      "metadata": {
        "id": "xk6usRE-86iG",
        "colab": {
          "base_uri": "https://localhost:8080/"
        },
        "outputId": "8f1586ce-ecbc-445e-9868-af60317cd58b"
      },
      "execution_count": 2,
      "outputs": [
        {
          "output_type": "stream",
          "name": "stdout",
          "text": [
            "2\n",
            "6 12 10\n",
            "402\n",
            "30 50 72\n",
            "1203\n"
          ]
        }
      ]
    }
  ]
}