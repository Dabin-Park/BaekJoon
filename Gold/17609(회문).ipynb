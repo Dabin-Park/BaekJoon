{
  "nbformat": 4,
  "nbformat_minor": 0,
  "metadata": {
    "colab": {
      "provenance": [],
      "authorship_tag": "ABX9TyOqOSLZ9XWhRGLpQ4wntGhj",
      "include_colab_link": true
    },
    "kernelspec": {
      "name": "python3",
      "display_name": "Python 3"
    },
    "language_info": {
      "name": "python"
    }
  },
  "cells": [
    {
      "cell_type": "markdown",
      "metadata": {
        "id": "view-in-github",
        "colab_type": "text"
      },
      "source": [
        "<a href=\"https://colab.research.google.com/github/Dabin-Park/BaekJoon/blob/main/Gold/17609(%ED%9A%8C%EB%AC%B8).ipynb\" target=\"_parent\"><img src=\"https://colab.research.google.com/assets/colab-badge.svg\" alt=\"Open In Colab\"/></a>"
      ]
    },
    {
      "cell_type": "code",
      "source": [
        "def tp(S,pl,pr):\n",
        "    while pl < pr:\n",
        "            if S[pl] != S[pr]:\n",
        "                if S[pl+1] == S[pr]:\n",
        "                    tmp = S[pl+1:pr+1]\n",
        "                    tmp2 = tmp[::-1]\n",
        "                    if tmp == tmp2:\n",
        "                        return 1\n",
        "                if S[pl] == S[pr-1]:\n",
        "                    tmp = S[pl:pr]\n",
        "                    tmp2 = tmp[::-1]\n",
        "                    if tmp == tmp2:\n",
        "                        return 1\n",
        "                return 2\n",
        "            pl += 1\n",
        "            pr -= 1\n",
        "    return 0\n",
        "\n",
        "def sol():\n",
        "    N = int(input())\n",
        "    for _ in range(N):\n",
        "        S = input().strip()\n",
        "        print(tp(S,0,len(S)-1))\n",
        "        \n",
        "sol()"
      ],
      "metadata": {
        "id": "Eum8oDR9H9Ie",
        "colab": {
          "base_uri": "https://localhost:8080/"
        },
        "outputId": "60fc934a-9f9c-4667-a335-340a6ec643bf"
      },
      "execution_count": 1,
      "outputs": [
        {
          "output_type": "stream",
          "name": "stdout",
          "text": [
            "7\n",
            "abba \n",
            "0\n",
            "summuus \n",
            "1\n",
            "xabba \n",
            "1\n",
            "xabbay \n",
            "2\n",
            "comcom \n",
            "2\n",
            "comwwmoc \n",
            "0\n",
            "comwwtmoc\n",
            "1\n"
          ]
        }
      ]
    }
  ]
}