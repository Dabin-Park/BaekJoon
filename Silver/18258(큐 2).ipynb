{
  "nbformat": 4,
  "nbformat_minor": 0,
  "metadata": {
    "colab": {
      "provenance": [],
      "collapsed_sections": [],
      "authorship_tag": "ABX9TyOYVKslRlhQmtdsIecov79R",
      "include_colab_link": true
    },
    "kernelspec": {
      "name": "python3",
      "display_name": "Python 3"
    },
    "language_info": {
      "name": "python"
    }
  },
  "cells": [
    {
      "cell_type": "markdown",
      "metadata": {
        "id": "view-in-github",
        "colab_type": "text"
      },
      "source": [
        "<a href=\"https://colab.research.google.com/github/Dabin-Park/BaekJoon/blob/main/Silver/18258(%ED%81%90%202).ipynb\" target=\"_parent\"><img src=\"https://colab.research.google.com/assets/colab-badge.svg\" alt=\"Open In Colab\"/></a>"
      ]
    },
    {
      "cell_type": "code",
      "source": [
        "from collections import deque\n",
        "\n",
        "deq = deque()\n",
        "\n",
        "for _ in range(int(input())):\n",
        "    A = input().split()\n",
        "    if A[0][0] == \"p\":\n",
        "        if A[0][1] == \"u\":\n",
        "            deq.append(A[1])\n",
        "        else:\n",
        "            if deq:\n",
        "                print(deq.popleft())\n",
        "            else:\n",
        "                print(-1)\n",
        "    elif A[0][0] == \"s\":\n",
        "        print(len(deq))\n",
        "    elif A[0][0] == 'e':\n",
        "        if deq:\n",
        "            print(0)\n",
        "        else:\n",
        "            print(1)\n",
        "    elif A[0][0] == 'f':\n",
        "        if deq:\n",
        "            print(deq[0])\n",
        "        else:\n",
        "            print(-1)\n",
        "    else:\n",
        "        if deq:\n",
        "            print(deq[-1])\n",
        "        else:\n",
        "            print(-1)"
      ],
      "metadata": {
        "id": "ZFrLikbd4n2z",
        "outputId": "b0958467-d2e8-493e-b7a7-0b3bdd717a05",
        "colab": {
          "base_uri": "https://localhost:8080/"
        }
      },
      "execution_count": 1,
      "outputs": [
        {
          "output_type": "stream",
          "name": "stdout",
          "text": [
            "15\n",
            "push 1\n",
            "push 2\n",
            "front\n",
            "1\n",
            "back\n",
            "2\n",
            "size\n",
            "2\n",
            "empty\n",
            "0\n",
            "pop\n",
            "1\n",
            "pop\n",
            "2\n",
            "pop\n",
            "-1\n",
            "size\n",
            "0\n",
            "empty\n",
            "1\n",
            "pop\n",
            "-1\n",
            "push 3\n",
            "empty\n",
            "0\n",
            "front\n",
            "3\n"
          ]
        }
      ]
    }
  ]
}