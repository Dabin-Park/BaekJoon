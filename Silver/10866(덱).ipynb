{
  "nbformat": 4,
  "nbformat_minor": 0,
  "metadata": {
    "colab": {
      "name": "10866(덱).ipynb",
      "provenance": [],
      "authorship_tag": "ABX9TyNnoqq/hGJWQ/ZVgSNp/nIz",
      "include_colab_link": true
    },
    "kernelspec": {
      "name": "python3",
      "display_name": "Python 3"
    },
    "language_info": {
      "name": "python"
    }
  },
  "cells": [
    {
      "cell_type": "markdown",
      "metadata": {
        "id": "view-in-github",
        "colab_type": "text"
      },
      "source": [
        "<a href=\"https://colab.research.google.com/github/Dabin-Park/BaekJoon/blob/main/Silver/10866(%EB%8D%B1).ipynb\" target=\"_parent\"><img src=\"https://colab.research.google.com/assets/colab-badge.svg\" alt=\"Open In Colab\"/></a>"
      ]
    },
    {
      "cell_type": "code",
      "source": [
        "from collections import deque\n",
        "\n",
        "queue = deque([])\n",
        "\n",
        "for _ in range(int(input())):\n",
        "    X = input().split()\n",
        "    if X[0][1] == 'u':\n",
        "        if X[0][5] == 'f':\n",
        "            queue.appendleft(X[1])\n",
        "        else:\n",
        "            queue.append(X[1])\n",
        "    elif X[0][1] == 'o':\n",
        "        if queue:\n",
        "            if X[0][4] == 'f':\n",
        "                print(queue.popleft())\n",
        "            else:\n",
        "                print(queue.pop())\n",
        "        else:\n",
        "            print(-1)\n",
        "    elif X[0][0] == 's':\n",
        "        print(len(queue))\n",
        "    elif X[0][0] == 'e':\n",
        "        if queue:\n",
        "            print(0)\n",
        "        else:\n",
        "            print(1)\n",
        "    elif X[0][0] == 'f':\n",
        "        if queue:\n",
        "            print(queue[0])\n",
        "        else:\n",
        "            print(-1)\n",
        "    else:\n",
        "        if queue:\n",
        "            print(queue[-1])\n",
        "        else:\n",
        "            print(-1)"
      ],
      "metadata": {
        "colab": {
          "base_uri": "https://localhost:8080/"
        },
        "id": "4NDvOBDhbpRD",
        "outputId": "e2773389-e0ba-45de-fcb4-eb762d244a54"
      },
      "execution_count": 4,
      "outputs": [
        {
          "output_type": "stream",
          "name": "stdout",
          "text": [
            "15\n",
            "push_back 1\n",
            "push_front 2\n",
            "front\n",
            "2\n",
            "back\n",
            "1\n",
            "size\n",
            "2\n",
            "empty\n",
            "0\n",
            "pop_front\n",
            "2\n",
            "pop_back\n",
            "1\n",
            "pop_front\n",
            "-1\n",
            "size\n",
            "0\n",
            "empty\n",
            "1\n",
            "pop_back\n",
            "-1\n",
            "push_front 3\n",
            "empty\n",
            "0\n",
            "front\n",
            "3\n"
          ]
        }
      ]
    }
  ]
}