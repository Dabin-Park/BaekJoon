{
  "nbformat": 4,
  "nbformat_minor": 0,
  "metadata": {
    "colab": {
      "provenance": [],
      "collapsed_sections": [],
      "authorship_tag": "ABX9TyOMXtXMu15CejXXuNok4YjH",
      "include_colab_link": true
    },
    "kernelspec": {
      "name": "python3",
      "display_name": "Python 3"
    },
    "language_info": {
      "name": "python"
    }
  },
  "cells": [
    {
      "cell_type": "markdown",
      "metadata": {
        "id": "view-in-github",
        "colab_type": "text"
      },
      "source": [
        "<a href=\"https://colab.research.google.com/github/Dabin-Park/BaekJoon/blob/main/Gold/12764(%EC%8B%B8%EC%A7%80%EB%B0%A9%EC%97%90%20%EA%B0%84%20%EC%A4%80%ED%95%98).ipynb\" target=\"_parent\"><img src=\"https://colab.research.google.com/assets/colab-badge.svg\" alt=\"Open In Colab\"/></a>"
      ]
    },
    {
      "cell_type": "code",
      "source": [
        "import heapq\n",
        "\n",
        "User = sorted([list(map(int,input().split())) for _ in range(int(input()))])\n",
        "\n",
        "Computer,heap,not_use_computer = [],[],[]\n",
        "for s,e in User:\n",
        "    t = 1\n",
        "    if heap:\n",
        "        if heap[0][0] <= s:\n",
        "            t = 0\n",
        "            while heap and heap[0][0] <= s:\n",
        "                _,c = heapq.heappop(heap)\n",
        "                heapq.heappush(not_use_computer,c)\n",
        "            c = heapq.heappop(not_use_computer)\n",
        "            Computer[c] += 1\n",
        "            heapq.heappush(heap,[e,c])\n",
        "    if t:\n",
        "        if not_use_computer:\n",
        "            c = heapq.heappop(not_use_computer)\n",
        "            heapq.heappush(heap,[e,c])\n",
        "            Computer[c] += 1\n",
        "        else:\n",
        "            heapq.heappush(heap,[e,len(Computer)])\n",
        "            Computer.append(1)\n",
        "\n",
        "\n",
        "print(len(Computer))\n",
        "print(*Computer)"
      ],
      "metadata": {
        "id": "ZFrLikbd4n2z",
        "outputId": "03fe72f9-5861-4542-b701-750aa6fd058e",
        "colab": {
          "base_uri": "https://localhost:8080/"
        }
      },
      "execution_count": 3,
      "outputs": [
        {
          "output_type": "stream",
          "name": "stdout",
          "text": [
            "5\n",
            "20 50\n",
            "10 100\n",
            "30 120\n",
            "60 110\n",
            "80 90\n",
            "4\n",
            "1 2 1 1\n"
          ]
        }
      ]
    }
  ]
}