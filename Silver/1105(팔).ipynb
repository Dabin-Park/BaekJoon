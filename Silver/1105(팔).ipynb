{
  "nbformat": 4,
  "nbformat_minor": 0,
  "metadata": {
    "colab": {
      "name": "1105(팔).ipynb",
      "provenance": [],
      "authorship_tag": "ABX9TyP62+o3ohuZQkhhq/D3MDmh",
      "include_colab_link": true
    },
    "kernelspec": {
      "name": "python3",
      "display_name": "Python 3"
    },
    "language_info": {
      "name": "python"
    }
  },
  "cells": [
    {
      "cell_type": "markdown",
      "metadata": {
        "id": "view-in-github",
        "colab_type": "text"
      },
      "source": [
        "<a href=\"https://colab.research.google.com/github/Dabin-Park/BaekJoon/blob/main/Silver/1105(%ED%8C%94).ipynb\" target=\"_parent\"><img src=\"https://colab.research.google.com/assets/colab-badge.svg\" alt=\"Open In Colab\"/></a>"
      ]
    },
    {
      "cell_type": "code",
      "execution_count": 1,
      "metadata": {
        "colab": {
          "base_uri": "https://localhost:8080/"
        },
        "id": "dT6CvtQPNnKQ",
        "outputId": "37dbe725-ce01-45b8-9094-8748db39c64b"
      },
      "outputs": [
        {
          "output_type": "stream",
          "name": "stdout",
          "text": [
            "8808 8880\n",
            "2\n"
          ]
        }
      ],
      "source": [
        "L,R = map(int,input().split())\n",
        "if '8' not in str(L) or '8' not in str(R):\n",
        "    print(0)\n",
        "else:\n",
        "    Ls = str(L)\n",
        "    Rs = str(R)\n",
        "    length = R-L\n",
        "    t = 0\n",
        "    if length:\n",
        "        t = len(str(length))\n",
        "    n = min(Ls[:len(Ls)-t].count('8'), Rs[:len(Rs)-t].count('8'))\n",
        "    print(n)"
      ]
    },
    {
      "cell_type": "code",
      "source": [
        "a, b = input().split()\n",
        "r = 0\n",
        "if len(a) == len(b):\n",
        "    for i in range(len(a)):\n",
        "        if a[i] == b[i]:\n",
        "            if a[i] == '8':\n",
        "                r += 1\n",
        "        else:\n",
        "            break\n",
        "print(r)"
      ],
      "metadata": {
        "colab": {
          "base_uri": "https://localhost:8080/"
        },
        "id": "TzgrBb_Y02tR",
        "outputId": "7511058b-0bd3-43d5-c9b1-888f77f79f5b"
      },
      "execution_count": 2,
      "outputs": [
        {
          "output_type": "stream",
          "name": "stdout",
          "text": [
            "8808 8880\n",
            "2\n"
          ]
        }
      ]
    }
  ]
}