{
  "nbformat": 4,
  "nbformat_minor": 0,
  "metadata": {
    "colab": {
      "provenance": [],
      "authorship_tag": "ABX9TyOSmSY1SQEropO0JTZs3k1A",
      "include_colab_link": true
    },
    "kernelspec": {
      "name": "python3",
      "display_name": "Python 3"
    },
    "language_info": {
      "name": "python"
    }
  },
  "cells": [
    {
      "cell_type": "markdown",
      "metadata": {
        "id": "view-in-github",
        "colab_type": "text"
      },
      "source": [
        "<a href=\"https://colab.research.google.com/github/Dabin-Park/BaekJoon/blob/main/Bronze/11094(%EA%BF%8D%20%EA%B0%80%EB%9D%BC%EC%82%AC%EB%8C%80).ipynb\" target=\"_parent\"><img src=\"https://colab.research.google.com/assets/colab-badge.svg\" alt=\"Open In Colab\"/></a>"
      ]
    },
    {
      "cell_type": "code",
      "source": [
        "def sol():\n",
        "    for _ in range(int(input())):\n",
        "        Input = list(input().split())\n",
        "        if Input[:2] == [\"Simon\",\"says\"]:\n",
        "            print(\" \" + \" \".join(Input[2:]))\n",
        "             \n",
        "sol()"
      ],
      "metadata": {
        "colab": {
          "base_uri": "https://localhost:8080/"
        },
        "id": "e30J77TxSoAj",
        "outputId": "e43fced9-9fc7-4e8d-d123-7c282775ef01"
      },
      "execution_count": 1,
      "outputs": [
        {
          "output_type": "stream",
          "name": "stdout",
          "text": [
            "1\n",
            "Simon says smile.\n",
            " smile.\n"
          ]
        }
      ]
    }
  ]
}