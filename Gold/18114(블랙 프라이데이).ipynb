{
  "nbformat": 4,
  "nbformat_minor": 0,
  "metadata": {
    "colab": {
      "provenance": [],
      "authorship_tag": "ABX9TyPcSIpuCmcOBzhkS4y7ssJ1",
      "include_colab_link": true
    },
    "kernelspec": {
      "name": "python3",
      "display_name": "Python 3"
    },
    "language_info": {
      "name": "python"
    }
  },
  "cells": [
    {
      "cell_type": "markdown",
      "metadata": {
        "id": "view-in-github",
        "colab_type": "text"
      },
      "source": [
        "<a href=\"https://colab.research.google.com/github/Dabin-Park/BaekJoon/blob/main/Gold/18114(%EB%B8%94%EB%9E%99%20%ED%94%84%EB%9D%BC%EC%9D%B4%EB%8D%B0%EC%9D%B4).ipynb\" target=\"_parent\"><img src=\"https://colab.research.google.com/assets/colab-badge.svg\" alt=\"Open In Colab\"/></a>"
      ]
    },
    {
      "cell_type": "code",
      "source": [
        "def sol():\n",
        "    N,C = map(int,input().split())\n",
        "    Thing = sorted(list(map(int,input().split())))\n",
        "    set_of_Thing = set([0]+ Thing)\n",
        "    if C in Thing:\n",
        "        return 1\n",
        "    l, r = 0,N-1\n",
        "    while l < r:\n",
        "        left,right = Thing[l], Thing[r]\n",
        "        a = C-left-right\n",
        "        if a != left and a != right and a in set_of_Thing:\n",
        "            return 1\n",
        "        if a < 0:\n",
        "            r -= 1\n",
        "        else:\n",
        "            l += 1\n",
        "    return 0\n",
        "            \n",
        "print(sol())"
      ],
      "metadata": {
        "colab": {
          "base_uri": "https://localhost:8080/"
        },
        "id": "hP4gfGRVQYlr",
        "outputId": "85520648-edb2-4f57-d448-f6a168f63c09"
      },
      "execution_count": 1,
      "outputs": [
        {
          "output_type": "stream",
          "name": "stdout",
          "text": [
            "5 5 \n",
            "1 2 3 4 5\n",
            "1\n"
          ]
        }
      ]
    }
  ]
}