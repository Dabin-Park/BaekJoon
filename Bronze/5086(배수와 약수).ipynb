{
  "nbformat": 4,
  "nbformat_minor": 0,
  "metadata": {
    "colab": {
      "name": "5086(배수와 약수).ipynb",
      "provenance": [],
      "authorship_tag": "ABX9TyPGniaxg2aHTF6flwrYidPm",
      "include_colab_link": true
    },
    "kernelspec": {
      "name": "python3",
      "display_name": "Python 3"
    },
    "language_info": {
      "name": "python"
    }
  },
  "cells": [
    {
      "cell_type": "markdown",
      "metadata": {
        "id": "view-in-github",
        "colab_type": "text"
      },
      "source": [
        "<a href=\"https://colab.research.google.com/github/Dabin-Park/BaekJoon/blob/main/Bronze/5086(%EB%B0%B0%EC%88%98%EC%99%80%20%EC%95%BD%EC%88%98).ipynb\" target=\"_parent\"><img src=\"https://colab.research.google.com/assets/colab-badge.svg\" alt=\"Open In Colab\"/></a>"
      ]
    },
    {
      "cell_type": "code",
      "source": [
        "while 1:\n",
        "    a,b = map(int,input().split())\n",
        "    if a == 0 and b == 0:\n",
        "        break\n",
        "    if a%b == 0:\n",
        "        print('multiple')\n",
        "    elif b%a == 0:\n",
        "        print(\"factor\")\n",
        "    else:\n",
        "        print(\"neither\")"
      ],
      "metadata": {
        "id": "CGdbDyPnpFQk",
        "outputId": "22c7baec-10c2-427b-a0c8-002ba52a7d6a",
        "colab": {
          "base_uri": "https://localhost:8080/"
        }
      },
      "execution_count": 1,
      "outputs": [
        {
          "name": "stdout",
          "output_type": "stream",
          "text": [
            "8 16\n",
            "factor\n",
            "32 4\n",
            "multiple\n",
            "17 5\n",
            "neither\n",
            "0 0 \n"
          ]
        }
      ]
    }
  ]
}