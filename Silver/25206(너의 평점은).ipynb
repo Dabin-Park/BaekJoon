{
  "nbformat": 4,
  "nbformat_minor": 0,
  "metadata": {
    "colab": {
      "provenance": [],
      "authorship_tag": "ABX9TyNWAsyLW2Bt80O14SmvjR0E",
      "include_colab_link": true
    },
    "kernelspec": {
      "name": "python3",
      "display_name": "Python 3"
    },
    "language_info": {
      "name": "python"
    }
  },
  "cells": [
    {
      "cell_type": "markdown",
      "metadata": {
        "id": "view-in-github",
        "colab_type": "text"
      },
      "source": [
        "<a href=\"https://colab.research.google.com/github/Dabin-Park/BaekJoon/blob/main/Silver/25206(%EB%84%88%EC%9D%98%20%ED%8F%89%EC%A0%90%EC%9D%80).ipynb\" target=\"_parent\"><img src=\"https://colab.research.google.com/assets/colab-badge.svg\" alt=\"Open In Colab\"/></a>"
      ]
    },
    {
      "cell_type": "code",
      "source": [
        "def sol(score,num):\n",
        "    Rank = {\"A+\":4.5,\"A0\":4.0,\"B+\":3.5,\"B0\":3.0,\"C+\":2.5,\"C0\":2.0,\"D+\":1.5,\"D0\":1.0,\"F\":0.0}\n",
        "    for _ in range(20):\n",
        "        s,r = input().split()[1:]\n",
        "        if r in Rank:\n",
        "            score += float(s)*Rank[r]\n",
        "            num += float(s)\n",
        "    return score/num\n",
        "    \n",
        "print(sol(0,0))"
      ],
      "metadata": {
        "colab": {
          "base_uri": "https://localhost:8080/"
        },
        "id": "XS0VHQmBaQda",
        "outputId": "2d8cf475-be1f-480f-c5c8-7fd94341d41a"
      },
      "execution_count": 1,
      "outputs": [
        {
          "output_type": "stream",
          "name": "stdout",
          "text": [
            "ObjectOrientedProgramming1 3.0 A+\n",
            "IntroductiontoComputerEngineering 3.0 A+\n",
            "ObjectOrientedProgramming2 3.0 A0\n",
            "CreativeComputerEngineeringDesign 3.0 A+\n",
            "AssemblyLanguage 3.0 A+\n",
            "InternetProgramming 3.0 B0\n",
            "ApplicationProgramminginJava 3.0 A0\n",
            "SystemProgramming 3.0 B0\n",
            "OperatingSystem 3.0 B0\n",
            "WirelessCommunicationsandNetworking 3.0 C+\n",
            "LogicCircuits 3.0 B0\n",
            "DataStructure 4.0 A+\n",
            "MicroprocessorApplication 3.0 B+\n",
            "EmbeddedSoftware 3.0 C0\n",
            "ComputerSecurity 3.0 D+\n",
            "ComputerSecurity 3.0 D+\n",
            "Algorithm 3.0 B0\n",
            "CapstoneDesigninCSE 3.0 A+\n",
            "CompilerDesign 3.0 D0\n",
            "ProblemSolving 4.0 P\n",
            "3.2844827586206895\n"
          ]
        }
      ]
    }
  ]
}