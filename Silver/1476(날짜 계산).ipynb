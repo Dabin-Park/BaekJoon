{
  "nbformat": 4,
  "nbformat_minor": 0,
  "metadata": {
    "colab": {
      "name": "1476(날짜 계산).ipynb",
      "provenance": [],
      "authorship_tag": "ABX9TyOmj3enBcI/wra3Wectfy6U",
      "include_colab_link": true
    },
    "kernelspec": {
      "name": "python3",
      "display_name": "Python 3"
    },
    "language_info": {
      "name": "python"
    }
  },
  "cells": [
    {
      "cell_type": "markdown",
      "metadata": {
        "id": "view-in-github",
        "colab_type": "text"
      },
      "source": [
        "<a href=\"https://colab.research.google.com/github/Dabin-Park/BaekJoon/blob/main/Silver/1476(%EB%82%A0%EC%A7%9C%20%EA%B3%84%EC%82%B0).ipynb\" target=\"_parent\"><img src=\"https://colab.research.google.com/assets/colab-badge.svg\" alt=\"Open In Colab\"/></a>"
      ]
    },
    {
      "cell_type": "code",
      "execution_count": 1,
      "metadata": {
        "colab": {
          "base_uri": "https://localhost:8080/"
        },
        "id": "dT6CvtQPNnKQ",
        "outputId": "6a1d9d68-6ff1-42ba-d736-989f2a108195"
      },
      "outputs": [
        {
          "output_type": "stream",
          "name": "stdout",
          "text": [
            "15 28 19\n",
            "7980\n"
          ]
        }
      ],
      "source": [
        "E,S,M = map(int,input().split())\n",
        "a = E\n",
        "if S == 28:\n",
        "    S = 0\n",
        "if M == 19:\n",
        "    M = 0\n",
        "     \n",
        "while True:\n",
        "    if a%28 == S and a%19 == M:\n",
        "        break\n",
        "    a += 15\n",
        "\n",
        "print(a)"
      ]
    }
  ]
}