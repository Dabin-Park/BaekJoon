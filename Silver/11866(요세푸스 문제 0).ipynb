{
  "cells": [
    {
      "cell_type": "markdown",
      "metadata": {
        "id": "view-in-github",
        "colab_type": "text"
      },
      "source": [
        "<a href=\"https://colab.research.google.com/github/Dabin-Park/BaekJoon/blob/main/Silver/11866(%EC%9A%94%EC%84%B8%ED%91%B8%EC%8A%A4%20%EB%AC%B8%EC%A0%9C%200).ipynb\" target=\"_parent\"><img src=\"https://colab.research.google.com/assets/colab-badge.svg\" alt=\"Open In Colab\"/></a>"
      ]
    },
    {
      "cell_type": "code",
      "source": [
        "N,K = map(int,input().split())\n",
        "A = [i for i in range(1,N+1)]\n",
        "\n",
        "B = []\n",
        "j = (K-1)\n",
        "for i in range(1,N+1):\n",
        "    B.append(A[j])\n",
        "    del A[j]\n",
        "    if i != N:\n",
        "        j += (K-1) \n",
        "        j %= (N-i)\n",
        "    \n",
        "print(\"<\",end = \"\")\n",
        "for a in B[:-1]:\n",
        "    print(a,end=\", \")\n",
        "\n",
        "print(str(B[-1])+\">\")"
      ],
      "metadata": {
        "id": "HBwwya3y6Eyo",
        "outputId": "90c40aa1-3ee4-4800-dc48-1f2435a0235f",
        "colab": {
          "base_uri": "https://localhost:8080/"
        }
      },
      "execution_count": 1,
      "outputs": [
        {
          "output_type": "stream",
          "name": "stdout",
          "text": [
            "7 3\n",
            "<3, 6, 2, 7, 5, 1, 4>\n"
          ]
        }
      ]
    }
  ],
  "metadata": {
    "colab": {
      "name": "11866(요세푸스 문제 0).ipynb",
      "provenance": [],
      "collapsed_sections": [],
      "authorship_tag": "ABX9TyM4okW1FIr6d6xOwdG7oNrp",
      "include_colab_link": true
    },
    "kernelspec": {
      "display_name": "Python 3",
      "name": "python3"
    },
    "language_info": {
      "name": "python"
    }
  },
  "nbformat": 4,
  "nbformat_minor": 0
}