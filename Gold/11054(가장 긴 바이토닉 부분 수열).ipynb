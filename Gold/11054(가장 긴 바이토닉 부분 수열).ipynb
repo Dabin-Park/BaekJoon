{
  "nbformat": 4,
  "nbformat_minor": 0,
  "metadata": {
    "colab": {
      "provenance": [],
      "authorship_tag": "ABX9TyM1mQ9RZY97wUOYwMvNOEcE",
      "include_colab_link": true
    },
    "kernelspec": {
      "name": "python3",
      "display_name": "Python 3"
    },
    "language_info": {
      "name": "python"
    }
  },
  "cells": [
    {
      "cell_type": "markdown",
      "metadata": {
        "id": "view-in-github",
        "colab_type": "text"
      },
      "source": [
        "<a href=\"https://colab.research.google.com/github/Dabin-Park/BaekJoon/blob/main/Gold/11054(%EA%B0%80%EC%9E%A5%20%EA%B8%B4%20%EB%B0%94%EC%9D%B4%ED%86%A0%EB%8B%89%20%EB%B6%80%EB%B6%84%20%EC%88%98%EC%97%B4).ipynb\" target=\"_parent\"><img src=\"https://colab.research.google.com/assets/colab-badge.svg\" alt=\"Open In Colab\"/></a>"
      ]
    },
    {
      "cell_type": "code",
      "source": [
        "def sol(max_):\n",
        "    N = int(input())\n",
        "    Sequence = list(map(int,input().split()))\n",
        "    Right,Left = [1]*N,[1]*N\n",
        "    for i in range(1,N):\n",
        "        for j in range(i):\n",
        "            if Sequence[i] > Sequence[j]:\n",
        "                Right[i] = max(Right[i],Right[j]+1)\n",
        "        for j in range(-1,-i-1,-1):\n",
        "            if Sequence[-i-1] > Sequence[j]:\n",
        "                Left[-i-1] = max(Left[-i-1],Left[j]+1)\n",
        "    for i in range(N):\n",
        "        max_ = max(max_,Right[i]+Left[i]-1)\n",
        "    return max_\n",
        "    \n",
        "print(sol(0))"
      ],
      "metadata": {
        "colab": {
          "base_uri": "https://localhost:8080/"
        },
        "id": "GksKdUFn3Mzd",
        "outputId": "d9376eb3-a7f8-4574-c9b8-90c1fef07873"
      },
      "execution_count": 1,
      "outputs": [
        {
          "output_type": "stream",
          "name": "stdout",
          "text": [
            "10\n",
            "1 5 2 1 4 3 4 5 2 1\n",
            "7\n"
          ]
        }
      ]
    }
  ]
}