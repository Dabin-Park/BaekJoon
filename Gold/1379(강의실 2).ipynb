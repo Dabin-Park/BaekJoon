{
  "nbformat": 4,
  "nbformat_minor": 0,
  "metadata": {
    "colab": {
      "provenance": [],
      "collapsed_sections": [],
      "authorship_tag": "ABX9TyPyubfGgusCuva9lgWGXU1m",
      "include_colab_link": true
    },
    "kernelspec": {
      "name": "python3",
      "display_name": "Python 3"
    },
    "language_info": {
      "name": "python"
    }
  },
  "cells": [
    {
      "cell_type": "markdown",
      "metadata": {
        "id": "view-in-github",
        "colab_type": "text"
      },
      "source": [
        "<a href=\"https://colab.research.google.com/github/Dabin-Park/BaekJoon/blob/main/Gold/1379(%EA%B0%95%EC%9D%98%EC%8B%A4%202).ipynb\" target=\"_parent\"><img src=\"https://colab.research.google.com/assets/colab-badge.svg\" alt=\"Open In Colab\"/></a>"
      ]
    },
    {
      "cell_type": "code",
      "source": [
        "import heapq\n",
        "\n",
        "def sol():\n",
        "    N = int(input())\n",
        "    Class = [list(map(int,input().split())) for _ in range(N)]\n",
        "    Class.sort(key = lambda x : x[1])\n",
        "    heap,sol1,i = [], [0]*N,1    \n",
        "    for c,s,e in Class:\n",
        "        t = 1\n",
        "        if heap:\n",
        "            if heap[0][0] <= s:\n",
        "                _,i1 = heapq.heappop(heap)\n",
        "                heapq.heappush(heap,[e,i1])\n",
        "                sol1[c-1] = i1\n",
        "                t = 0\n",
        "        if t:\n",
        "            heapq.heappush(heap,[e,i])\n",
        "            sol1[c-1] = i\n",
        "            i += 1\n",
        "    return len(heap), sol1\n",
        "\n",
        "l, sol1 = sol()\n",
        "print(l)\n",
        "print(*sol1,sep = '\\n')"
      ],
      "metadata": {
        "id": "ZFrLikbd4n2z",
        "outputId": "45d4451c-e992-41ab-96f0-e097c4d5f181",
        "colab": {
          "base_uri": "https://localhost:8080/"
        }
      },
      "execution_count": 2,
      "outputs": [
        {
          "output_type": "stream",
          "name": "stdout",
          "text": [
            "8\n",
            "6 15 21\n",
            "7 20 25\n",
            "1 3 8\n",
            "3 2 14\n",
            "8 6 27\n",
            "2 7 13\n",
            "4 12 18\n",
            "5 6 20\n",
            "5\n",
            "2\n",
            "5\n",
            "1\n",
            "2\n",
            "4\n",
            "5\n",
            "1\n",
            "3\n"
          ]
        }
      ]
    }
  ]
}