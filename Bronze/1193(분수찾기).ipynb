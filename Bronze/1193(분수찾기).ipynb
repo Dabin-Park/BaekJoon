{
  "cells": [
    {
      "cell_type": "markdown",
      "metadata": {
        "id": "view-in-github",
        "colab_type": "text"
      },
      "source": [
        "<a href=\"https://colab.research.google.com/github/Dabin-Park/BaekJoon/blob/main/Bronze/1193(%EB%B6%84%EC%88%98%EC%B0%BE%EA%B8%B0).ipynb\" target=\"_parent\"><img src=\"https://colab.research.google.com/assets/colab-badge.svg\" alt=\"Open In Colab\"/></a>"
      ]
    },
    {
      "cell_type": "code",
      "source": [
        "X = int(input())\n",
        "k = 1\n",
        "while (k*(k+1))//2 < X:\n",
        "    k += 1\n",
        "\n",
        "s = (k*(k+1))//2\n",
        "\n",
        "if k % 2 == 0:\n",
        "    print(f\"{k-(s-X)}/{(s-X)+1}\")\n",
        "else:\n",
        "    print(f\"{s-X+1}/{k-s+X}\")"
      ],
      "metadata": {
        "id": "HBwwya3y6Eyo",
        "outputId": "2c026c1a-b242-49b9-d784-86299c607c70",
        "colab": {
          "base_uri": "https://localhost:8080/"
        }
      },
      "execution_count": 2,
      "outputs": [
        {
          "output_type": "stream",
          "name": "stdout",
          "text": [
            "14\n",
            "2/4\n"
          ]
        }
      ]
    }
  ],
  "metadata": {
    "colab": {
      "name": "1193(분수찾기).ipynb",
      "provenance": [],
      "collapsed_sections": [],
      "authorship_tag": "ABX9TyNohUd6vwTiynXGT2nZWdVt",
      "include_colab_link": true
    },
    "kernelspec": {
      "display_name": "Python 3",
      "name": "python3"
    },
    "language_info": {
      "name": "python"
    }
  },
  "nbformat": 4,
  "nbformat_minor": 0
}