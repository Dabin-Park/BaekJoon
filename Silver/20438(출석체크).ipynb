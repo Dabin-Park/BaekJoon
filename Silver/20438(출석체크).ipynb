{
  "nbformat": 4,
  "nbformat_minor": 0,
  "metadata": {
    "colab": {
      "provenance": [],
      "authorship_tag": "ABX9TyPZeRT1YZg9IRSb+yBooTS1",
      "include_colab_link": true
    },
    "kernelspec": {
      "name": "python3",
      "display_name": "Python 3"
    },
    "language_info": {
      "name": "python"
    }
  },
  "cells": [
    {
      "cell_type": "markdown",
      "metadata": {
        "id": "view-in-github",
        "colab_type": "text"
      },
      "source": [
        "<a href=\"https://colab.research.google.com/github/Dabin-Park/BaekJoon/blob/main/Silver/20438(%EC%B6%9C%EC%84%9D%EC%B2%B4%ED%81%AC).ipynb\" target=\"_parent\"><img src=\"https://colab.research.google.com/assets/colab-badge.svg\" alt=\"Open In Colab\"/></a>"
      ]
    },
    {
      "cell_type": "code",
      "source": [
        "def sol(): \n",
        "    N,_,_,M = map(int,input().split())\n",
        "    Student = [0]*3 + [1]*N\n",
        "    Sleep = list(map(int,input().split()))\n",
        "    Here =  list(map(int,input().split()))\n",
        "    for sleep in Sleep:\n",
        "        Student[sleep] = -1\n",
        "    for here in Here:\n",
        "        if Student[here] > 0:\n",
        "            for i in range(here,N+3,here):\n",
        "                if Student[i] > 0:\n",
        "                    Student[i] = 0\n",
        "\n",
        "    for i in range(3,N+3):\n",
        "        Student[i] = abs(Student[i]) + Student[i-1]\n",
        "        \n",
        "    for _ in range(M):\n",
        "        S,E = map(int,input().split())\n",
        "        print(Student[E]-Student[S-1])\n",
        "                 \n",
        "sol()"
      ],
      "metadata": {
        "colab": {
          "base_uri": "https://localhost:8080/"
        },
        "id": "BYNtq_Ywoefu",
        "outputId": "86bb7313-841b-4650-fb74-d812fd491d87"
      },
      "execution_count": 1,
      "outputs": [
        {
          "output_type": "stream",
          "name": "stdout",
          "text": [
            "10 1 3 1\n",
            "7\n",
            "3 5 7\n",
            "3 12\n",
            "4\n"
          ]
        }
      ]
    }
  ]
}