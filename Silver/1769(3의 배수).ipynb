{
  "nbformat": 4,
  "nbformat_minor": 0,
  "metadata": {
    "colab": {
      "name": "1769(3의 배수).ipynb",
      "provenance": [],
      "authorship_tag": "ABX9TyOUvNCdqm9IobxVGigJSwaK",
      "include_colab_link": true
    },
    "kernelspec": {
      "name": "python3",
      "display_name": "Python 3"
    },
    "language_info": {
      "name": "python"
    }
  },
  "cells": [
    {
      "cell_type": "markdown",
      "metadata": {
        "id": "view-in-github",
        "colab_type": "text"
      },
      "source": [
        "<a href=\"https://colab.research.google.com/github/Dabin-Park/BaekJoon/blob/main/Silver/1769(3%EC%9D%98%20%EB%B0%B0%EC%88%98).ipynb\" target=\"_parent\"><img src=\"https://colab.research.google.com/assets/colab-badge.svg\" alt=\"Open In Colab\"/></a>"
      ]
    },
    {
      "cell_type": "code",
      "execution_count": 1,
      "metadata": {
        "colab": {
          "base_uri": "https://localhost:8080/"
        },
        "id": "dT6CvtQPNnKQ",
        "outputId": "16bfccc0-2cc1-4251-e470-0eb6fb2aa11e"
      },
      "outputs": [
        {
          "output_type": "stream",
          "name": "stdout",
          "text": [
            "1234567\n",
            "3\n",
            "NO\n"
          ]
        }
      ],
      "source": [
        "X = input()\n",
        "try1 = 0\n",
        "if len(X) != 1:\n",
        "    while True:\n",
        "        num = 0\n",
        "        for x in X:\n",
        "            num += int(x)\n",
        "        try1 += 1\n",
        "        if num <= 9:\n",
        "            print(try1)\n",
        "            if str(num) in \"369\":\n",
        "                print(\"YES\")\n",
        "            else:\n",
        "                print(\"NO\")\n",
        "            break\n",
        "        X = str(num)\n",
        "else:\n",
        "    print(try1)\n",
        "    if X in \"369\":\n",
        "        print(\"YES\")\n",
        "    else:\n",
        "        print(\"NO\")"
      ]
    }
  ]
}