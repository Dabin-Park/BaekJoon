{
  "nbformat": 4,
  "nbformat_minor": 0,
  "metadata": {
    "colab": {
      "name": "2470(두 용액).ipynb",
      "provenance": [],
      "authorship_tag": "ABX9TyO/bVYH3jaUdsh5+Y2DSpfV",
      "include_colab_link": true
    },
    "kernelspec": {
      "name": "python3",
      "display_name": "Python 3"
    },
    "language_info": {
      "name": "python"
    }
  },
  "cells": [
    {
      "cell_type": "markdown",
      "metadata": {
        "id": "view-in-github",
        "colab_type": "text"
      },
      "source": [
        "<a href=\"https://colab.research.google.com/github/Dabin-Park/BaekJoon/blob/main/Gold/2470(%EB%91%90%20%EC%9A%A9%EC%95%A1).ipynb\" target=\"_parent\"><img src=\"https://colab.research.google.com/assets/colab-badge.svg\" alt=\"Open In Colab\"/></a>"
      ]
    },
    {
      "cell_type": "code",
      "source": [
        "N = int(input())\n",
        "Solution = list(map(int,input().split()))\n",
        "Solution.sort()\n",
        "\n",
        "s,e = 0,N-1\n",
        "m = 2000000001\n",
        "while s < e:\n",
        "    Ss,Se = Solution[s], Solution[e]\n",
        "    n = Se + Ss\n",
        "    if abs(n) < abs(m):\n",
        "        m = n\n",
        "        a,b = Ss, Se\n",
        "    if abs(Se + Solution[s+1]) < abs(Solution[e-1] + Ss):\n",
        "        s += 1\n",
        "    else:\n",
        "        e -= 1\n",
        "\n",
        "print(a,b)"
      ],
      "metadata": {
        "colab": {
          "base_uri": "https://localhost:8080/"
        },
        "id": "4NDvOBDhbpRD",
        "outputId": "1c70efd4-c7a5-40af-d167-98e42ab069c4"
      },
      "execution_count": null,
      "outputs": [
        {
          "output_type": "stream",
          "name": "stdout",
          "text": [
            "5\n",
            "-2 4 -99 -1 98\n",
            "-99 98\n"
          ]
        }
      ]
    },
    {
      "cell_type": "code",
      "source": [
        "N = int(input())\n",
        "Solution = sorted(list(map(int,input().split())))\n",
        "s,e = 0,N-1\n",
        "m = 2000000001\n",
        "while s < e:\n",
        "    start,end = Solution[s],Solution[e]\n",
        "    n = end + start\n",
        "    if abs(n) < abs(m):\n",
        "        m = n \n",
        "        a,b = start,end\n",
        "    if n < 0:\n",
        "        s += 1\n",
        "    elif n > 0:\n",
        "        e -= 1\n",
        "    else:\n",
        "        break\n",
        "               \n",
        "print(a,b)"
      ],
      "metadata": {
        "colab": {
          "base_uri": "https://localhost:8080/"
        },
        "id": "OMoMEc840ri2",
        "outputId": "247469f7-c7f7-451b-9ccc-5c60d160cc20"
      },
      "execution_count": 1,
      "outputs": [
        {
          "output_type": "stream",
          "name": "stdout",
          "text": [
            "5\n",
            "-2 4 -99 -1 98\n",
            "-99 98\n"
          ]
        }
      ]
    }
  ]
}