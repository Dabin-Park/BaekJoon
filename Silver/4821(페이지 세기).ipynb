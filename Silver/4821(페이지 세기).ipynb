{
  "nbformat": 4,
  "nbformat_minor": 0,
  "metadata": {
    "colab": {
      "provenance": [],
      "authorship_tag": "ABX9TyPlvIN+ztz/oMDQvNTW9LJG",
      "include_colab_link": true
    },
    "kernelspec": {
      "name": "python3",
      "display_name": "Python 3"
    },
    "language_info": {
      "name": "python"
    }
  },
  "cells": [
    {
      "cell_type": "markdown",
      "metadata": {
        "id": "view-in-github",
        "colab_type": "text"
      },
      "source": [
        "<a href=\"https://colab.research.google.com/github/Dabin-Park/BaekJoon/blob/main/Silver/4821(%ED%8E%98%EC%9D%B4%EC%A7%80%20%EC%84%B8%EA%B8%B0).ipynb\" target=\"_parent\"><img src=\"https://colab.research.google.com/assets/colab-badge.svg\" alt=\"Open In Colab\"/></a>"
      ]
    },
    {
      "cell_type": "code",
      "source": [
        "def sol(n):\n",
        "    Book = [0]*(n+1)\n",
        "    for page in input().split(\",\"):\n",
        "        p = list(map(int,page.split(\"-\")))\n",
        "        if len(p) == 2 and p[0] <= n:\n",
        "            for i in range(p[0],min(p[1],n)+1):\n",
        "                Book[i] = 1\n",
        "        elif len(p) == 1 and p[0] <= n:\n",
        "            Book[p[0]] = 1\n",
        "    return sum(Book)\n",
        "        \n",
        "while 1:\n",
        "    n = int(input())\n",
        "    if not n:\n",
        "        break\n",
        "    print(sol(n))"
      ],
      "metadata": {
        "id": "Eum8oDR9H9Ie",
        "colab": {
          "base_uri": "https://localhost:8080/"
        },
        "outputId": "3d72a2c1-6582-4f2f-eaf7-43c114e904aa"
      },
      "execution_count": 1,
      "outputs": [
        {
          "name": "stdout",
          "output_type": "stream",
          "text": [
            "30\n",
            "10-15,25-28,8-4,13-20,9,8-8\n",
            "17\n",
            "19\n",
            "10-15,25-28,8-4,13-20,9,8-8\n",
            "12\n",
            "0\n"
          ]
        }
      ]
    }
  ]
}