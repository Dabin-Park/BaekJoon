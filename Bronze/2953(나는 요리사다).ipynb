{
  "nbformat": 4,
  "nbformat_minor": 0,
  "metadata": {
    "colab": {
      "provenance": [],
      "authorship_tag": "ABX9TyMDCmCnJ7qu2wx8fGT+3O55",
      "include_colab_link": true
    },
    "kernelspec": {
      "name": "python3",
      "display_name": "Python 3"
    },
    "language_info": {
      "name": "python"
    }
  },
  "cells": [
    {
      "cell_type": "markdown",
      "metadata": {
        "id": "view-in-github",
        "colab_type": "text"
      },
      "source": [
        "<a href=\"https://colab.research.google.com/github/Dabin-Park/BaekJoon/blob/main/Bronze/2953(%EB%82%98%EB%8A%94%20%EC%9A%94%EB%A6%AC%EC%82%AC%EB%8B%A4).ipynb\" target=\"_parent\"><img src=\"https://colab.research.google.com/assets/colab-badge.svg\" alt=\"Open In Colab\"/></a>"
      ]
    },
    {
      "cell_type": "code",
      "source": [
        "def sol():\n",
        "    max_idx = max_score = 0\n",
        "    for i in range(1,6):\n",
        "        score = sum(list(map(int,input().split())))\n",
        "        if max_score < score:\n",
        "            max_idx = i\n",
        "            max_score = score\n",
        "    print(max_idx,max_score)\n",
        "\n",
        "sol()"
      ],
      "metadata": {
        "colab": {
          "base_uri": "https://localhost:8080/"
        },
        "id": "WgAVHO6Man3x",
        "outputId": "d12d2f58-71eb-4864-9f90-ff972a441864"
      },
      "execution_count": null,
      "outputs": [
        {
          "output_type": "stream",
          "name": "stdout",
          "text": [
            "5 4 4 5\n",
            "5 4 4 4 \n",
            "5 5 4 4 \n",
            "5 5 5 4\n",
            "4 4 4 5\n",
            "4 19\n"
          ]
        }
      ]
    },
    {
      "cell_type": "code",
      "source": [
        "def sol():\n",
        "    List = []\n",
        "    for _ in range(5):\n",
        "        List.append(sum(list(map(int,input().split()))))\n",
        "    max_ = max(List)\n",
        "    print(List.index(max_)+1,max_)\n",
        "\n",
        "sol()"
      ],
      "metadata": {
        "id": "G9DLUPFmWb9r",
        "outputId": "e5259162-2b19-4752-936d-7327c63bdfb7",
        "colab": {
          "base_uri": "https://localhost:8080/"
        }
      },
      "execution_count": 1,
      "outputs": [
        {
          "output_type": "stream",
          "name": "stdout",
          "text": [
            "5 4 4 5\n",
            "5 4 4 4\n",
            "5 5 4 4\n",
            "5 5 5 4\n",
            "4 4 4 5\n",
            "4 19\n"
          ]
        }
      ]
    }
  ]
}