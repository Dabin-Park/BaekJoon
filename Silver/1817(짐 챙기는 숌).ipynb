{
  "nbformat": 4,
  "nbformat_minor": 0,
  "metadata": {
    "colab": {
      "provenance": [],
      "collapsed_sections": [],
      "authorship_tag": "ABX9TyMoV+V2BBt9jLv+wIecUWUh",
      "include_colab_link": true
    },
    "kernelspec": {
      "name": "python3",
      "display_name": "Python 3"
    },
    "language_info": {
      "name": "python"
    }
  },
  "cells": [
    {
      "cell_type": "markdown",
      "metadata": {
        "id": "view-in-github",
        "colab_type": "text"
      },
      "source": [
        "<a href=\"https://colab.research.google.com/github/Dabin-Park/BaekJoon/blob/main/Silver/1817(%EC%A7%90%20%EC%B1%99%EA%B8%B0%EB%8A%94%20%EC%88%8C).ipynb\" target=\"_parent\"><img src=\"https://colab.research.google.com/assets/colab-badge.svg\" alt=\"Open In Colab\"/></a>"
      ]
    },
    {
      "cell_type": "code",
      "source": [
        "def sol():\n",
        "    N,M = map(int,input().split())\n",
        "    num = total_weigt = 0\n",
        "    if N:\n",
        "        num = 1\n",
        "        for weight in map(int,input().split()):\n",
        "            if total_weigt + weight <= M:\n",
        "                total_weigt += weight\n",
        "            else:\n",
        "                num += 1\n",
        "                total_weigt = weight\n",
        "    return num\n",
        "\n",
        "print(sol())"
      ],
      "metadata": {
        "id": "k7eFI1eAZZ1Z",
        "outputId": "77693307-295c-432d-f7f1-97107058b1f7",
        "colab": {
          "base_uri": "https://localhost:8080/"
        }
      },
      "execution_count": 3,
      "outputs": [
        {
          "output_type": "stream",
          "name": "stdout",
          "text": [
            "6 10\n",
            "5 5 5 5 5 5 \n",
            "3\n"
          ]
        }
      ]
    },
    {
      "cell_type": "code",
      "source": [
        "def sol():\n",
        "    N,M = map(int,input().split())\n",
        "    num = total_weigt = 0\n",
        "    if N:\n",
        "        num = 1\n",
        "        for weight in map(int,input().split()):\n",
        "            total_weigt += weight\n",
        "            if total_weigt > M:\n",
        "                num += 1\n",
        "                total_weigt = weight\n",
        "    return num\n",
        "\n",
        "print(sol())"
      ],
      "metadata": {
        "colab": {
          "base_uri": "https://localhost:8080/"
        },
        "id": "W7q8z7CDgE7C",
        "outputId": "b2d4255e-ad45-4f6a-d35c-011739c92726"
      },
      "execution_count": 4,
      "outputs": [
        {
          "output_type": "stream",
          "name": "stdout",
          "text": [
            "6 10 \n",
            "5 5 5 5 5 5 \n",
            "3\n"
          ]
        }
      ]
    }
  ]
}