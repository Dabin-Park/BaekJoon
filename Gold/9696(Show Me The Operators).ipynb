{
  "nbformat": 4,
  "nbformat_minor": 0,
  "metadata": {
    "colab": {
      "provenance": [],
      "collapsed_sections": [],
      "authorship_tag": "ABX9TyN5N9E4+pBLxISDRL1Sp/US",
      "include_colab_link": true
    },
    "kernelspec": {
      "name": "python3",
      "display_name": "Python 3"
    },
    "language_info": {
      "name": "python"
    }
  },
  "cells": [
    {
      "cell_type": "markdown",
      "metadata": {
        "id": "view-in-github",
        "colab_type": "text"
      },
      "source": [
        "<a href=\"https://colab.research.google.com/github/Dabin-Park/BaekJoon/blob/main/Gold/9696(Show%20Me%20The%20Operators).ipynb\" target=\"_parent\"><img src=\"https://colab.research.google.com/assets/colab-badge.svg\" alt=\"Open In Colab\"/></a>"
      ]
    },
    {
      "cell_type": "code",
      "source": [
        "for i in range(1,int(input())+1):\n",
        "    Equation = input().split()\n",
        "    Operator,Num = [],[]\n",
        "    print(f\"Case #{i}:\",end = \" \")\n",
        "    for i in range(len(Equation)):\n",
        "        operator = Equation[i]\n",
        "        if operator in \"/*\":\n",
        "            print(operator,end = \" \")    \n",
        "        elif operator in \"+-\":\n",
        "            Operator.append(operator)\n",
        "        else:\n",
        "            operator = int(operator)\n",
        "            if Equation[i-1] == '/':\n",
        "                Num[-1] //= operator\n",
        "            elif Equation[i-1] == \"*\":\n",
        "                Num[-1] *= operator\n",
        "            else:\n",
        "                Num.append(operator)\n",
        "\n",
        "    sol_ = Num[0]\n",
        "    if Operator:\n",
        "        for i in range(len(Operator)):\n",
        "            if Operator[i] == \"+\":\n",
        "                sol_ += Num[i+1]\n",
        "            else:\n",
        "                sol_ -= Num[i+1]\n",
        "        print(\" \".join(Operator),sol_)\n",
        "    else:\n",
        "        print(sol_)"
      ],
      "metadata": {
        "id": "k7eFI1eAZZ1Z",
        "outputId": "4989dfc5-f943-4aed-f24b-33aa8aaba796",
        "colab": {
          "base_uri": "https://localhost:8080/"
        }
      },
      "execution_count": 1,
      "outputs": [
        {
          "output_type": "stream",
          "name": "stdout",
          "text": [
            "2\n",
            "4 + 16 / 4 * 3 + 6 * 2\n",
            "Case #1: / * * + + 28\n",
            "6 * 2 + 3 * 2 / 2\n",
            "Case #2: * * / + 15\n"
          ]
        }
      ]
    }
  ]
}