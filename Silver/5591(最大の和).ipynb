{
  "nbformat": 4,
  "nbformat_minor": 0,
  "metadata": {
    "colab": {
      "provenance": [],
      "collapsed_sections": [],
      "authorship_tag": "ABX9TyOfjjdbbW5Ts1md69f50pWP",
      "include_colab_link": true
    },
    "kernelspec": {
      "name": "python3",
      "display_name": "Python 3"
    },
    "language_info": {
      "name": "python"
    }
  },
  "cells": [
    {
      "cell_type": "markdown",
      "metadata": {
        "id": "view-in-github",
        "colab_type": "text"
      },
      "source": [
        "<a href=\"https://colab.research.google.com/github/Dabin-Park/BaekJoon/blob/main/Silver/5591(%E6%9C%80%E5%A4%A7%E3%81%AE%E5%92%8C).ipynb\" target=\"_parent\"><img src=\"https://colab.research.google.com/assets/colab-badge.svg\" alt=\"Open In Colab\"/></a>"
      ]
    },
    {
      "cell_type": "code",
      "source": [
        "def sol():\n",
        "    n,k = map(int,input().split())\n",
        "    Sequnce = [int(input()) for _ in range(n)]\n",
        "    max_sum = sum_ = sum(Sequnce[:k])\n",
        "    for i in range(k,n):\n",
        "        sum_ += Sequnce[i] - Sequnce[i-k]\n",
        "        max_sum = max(max_sum,sum_)\n",
        "    return max_sum\n",
        "\n",
        "print(sol())"
      ],
      "metadata": {
        "id": "k7eFI1eAZZ1Z",
        "outputId": "f2d2f2b5-e816-4f0d-a9c9-b42163890d64",
        "colab": {
          "base_uri": "https://localhost:8080/"
        }
      },
      "execution_count": 3,
      "outputs": [
        {
          "output_type": "stream",
          "name": "stdout",
          "text": [
            "5 3\n",
            "2\n",
            "5\n",
            "-4\n",
            "10\n",
            "3\n",
            "11\n"
          ]
        }
      ]
    }
  ]
}