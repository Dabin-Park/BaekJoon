{
  "cells": [
    {
      "cell_type": "markdown",
      "metadata": {
        "id": "view-in-github",
        "colab_type": "text"
      },
      "source": [
        "<a href=\"https://colab.research.google.com/github/Dabin-Park/BaekJoon/blob/main/Silver/10844(%EC%89%AC%EC%9A%B4%20%EA%B3%84%EB%8B%A8%20%EC%88%98).ipynb\" target=\"_parent\"><img src=\"https://colab.research.google.com/assets/colab-badge.svg\" alt=\"Open In Colab\"/></a>"
      ]
    },
    {
      "cell_type": "code",
      "source": [
        "import copy\n",
        "\n",
        "dp = [1 for _ in range(10)]\n",
        "\n",
        "N = int(input())\n",
        "for j in range(1,N):\n",
        "    x = copy.deepcopy(dp)\n",
        "    for i in range(1,9):\n",
        "        dp[i] = x[i-1] + x[i+1]\n",
        "    if j == 0:\n",
        "        dp[9] = 1\n",
        "    if j > 1:\n",
        "        dp[0] = x[1]\n",
        "        dp[9] = x[8]\n",
        "        \n",
        "print(sum(dp[1:])%1000000000)"
      ],
      "metadata": {
        "id": "HBwwya3y6Eyo",
        "outputId": "b4b9ee27-dbed-403f-a46c-e396b25dd4ea",
        "colab": {
          "base_uri": "https://localhost:8080/"
        }
      },
      "execution_count": 1,
      "outputs": [
        {
          "output_type": "stream",
          "name": "stdout",
          "text": [
            "5\n",
            "116\n"
          ]
        }
      ]
    },
    {
      "cell_type": "code",
      "source": [
        "N = int(input())\n",
        "\n",
        "dp = [[0 for _ in range(10)] for _ in range(N+1)]\n",
        "\n",
        "for i in range(10):\n",
        "    dp[1][i] = 1\n",
        "    \n",
        "for i in range(2,N+1):\n",
        "    for j in range(10):\n",
        "        if j == 0:\n",
        "            dp[i][j] = dp[i-1][1]\n",
        "        elif j == 9:\n",
        "            dp[i][j] = dp[i-1][8]\n",
        "        else:\n",
        "            dp[i][j] = dp[i-1][j-1] + dp[i-1][j+1]\n",
        "     \n",
        "print(sum(dp[N][1:])%1000000000)"
      ],
      "metadata": {
        "colab": {
          "base_uri": "https://localhost:8080/"
        },
        "id": "unkjdZfT8IQh",
        "outputId": "994cfa85-3a45-4c88-aa79-a77c6b925703"
      },
      "execution_count": 2,
      "outputs": [
        {
          "output_type": "stream",
          "name": "stdout",
          "text": [
            "5\n",
            "116\n"
          ]
        }
      ]
    }
  ],
  "metadata": {
    "colab": {
      "name": "10844(쉬운 계단 수).ipynb",
      "provenance": [],
      "collapsed_sections": [],
      "authorship_tag": "ABX9TyOAMJFfnqD10mxRJFEq9t+m",
      "include_colab_link": true
    },
    "kernelspec": {
      "display_name": "Python 3",
      "name": "python3"
    },
    "language_info": {
      "name": "python"
    }
  },
  "nbformat": 4,
  "nbformat_minor": 0
}