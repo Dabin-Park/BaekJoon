{
  "cells": [
    {
      "cell_type": "markdown",
      "metadata": {
        "id": "view-in-github",
        "colab_type": "text"
      },
      "source": [
        "<a href=\"https://colab.research.google.com/github/Dabin-Park/BaekJoon/blob/main/Silver/2581(%EC%86%8C%EC%88%98).ipynb\" target=\"_parent\"><img src=\"https://colab.research.google.com/assets/colab-badge.svg\" alt=\"Open In Colab\"/></a>"
      ]
    },
    {
      "cell_type": "code",
      "source": [
        "def is_prime(a):\n",
        "    if a != 1:\n",
        "        for i in range(2,int(a**0.5)+1):\n",
        "            if a % i == 0:\n",
        "                return 0\n",
        "        return 1\n",
        "    return 0 \n",
        "\n",
        "M = int(input())\n",
        "N = int(input())\n",
        "num = 0\n",
        "m = 10000\n",
        "\n",
        "for i in range(M,N+1):\n",
        "    t = is_prime(i)\n",
        "    if t:\n",
        "        num += i\n",
        "        m = min(i,m)\n",
        "    \n",
        "if num == 0:\n",
        "    print(-1)\n",
        "else:\n",
        "    print(num)\n",
        "    print(m)"
      ],
      "metadata": {
        "id": "HBwwya3y6Eyo",
        "outputId": "8a80f8d3-0ccc-477f-a46e-0085b6143c91",
        "colab": {
          "base_uri": "https://localhost:8080/"
        }
      },
      "execution_count": 1,
      "outputs": [
        {
          "output_type": "stream",
          "name": "stdout",
          "text": [
            "60\n",
            "100\n",
            "620\n",
            "61\n"
          ]
        }
      ]
    }
  ],
  "metadata": {
    "colab": {
      "name": "2581(소수).ipynb",
      "provenance": [],
      "collapsed_sections": [],
      "authorship_tag": "ABX9TyMWwcERj+3zVv4RN03cjREo",
      "include_colab_link": true
    },
    "kernelspec": {
      "display_name": "Python 3",
      "name": "python3"
    },
    "language_info": {
      "name": "python"
    }
  },
  "nbformat": 4,
  "nbformat_minor": 0
}