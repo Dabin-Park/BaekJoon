{
  "cells": [
    {
      "cell_type": "markdown",
      "metadata": {
        "id": "view-in-github",
        "colab_type": "text"
      },
      "source": [
        "<a href=\"https://colab.research.google.com/github/Dabin-Park/BaekJoon/blob/main/Silver/2477(%EC%B0%B8%EC%99%B8%EB%B0%AD).ipynb\" target=\"_parent\"><img src=\"https://colab.research.google.com/assets/colab-badge.svg\" alt=\"Open In Colab\"/></a>"
      ]
    },
    {
      "cell_type": "code",
      "source": [
        "def area(num,n,K):\n",
        "    for i in range(3,5):\n",
        "        if num[i] == 2:\n",
        "            x = i+(-1)**n\n",
        "            if x == 5:\n",
        "                x = 1\n",
        "            for i in range(10):\n",
        "                if A[i][0] == x:\n",
        "                    print((M-A[i+2][1]*A[i+3][1])*K)\n",
        "                    return\n",
        "        \n",
        "K = int(input())\n",
        "A = [list(map(int,input().split())) for _ in range(6)]\n",
        "num = [0]*5\n",
        "C,R = 0,0     \n",
        "for a in A:\n",
        "    num[a[0]] += 1\n",
        "    if a[0] <= 2:4\n",
        "        R = max(a[1],R)      \n",
        "    else:\n",
        "        C = max(a[1],C)     \n",
        "A += A      \n",
        "M = R*C\n",
        "\n",
        "if num[1] == 2:\n",
        "    area(num,1,K)\n",
        "else:\n",
        "    area(num,2,K)\n",
        "            \n"
      ],
      "metadata": {
        "id": "HBwwya3y6Eyo",
        "outputId": "2888358b-bb4a-43d3-f518-9515d88faf16",
        "colab": {
          "base_uri": "https://localhost:8080/"
        }
      },
      "execution_count": 1,
      "outputs": [
        {
          "output_type": "stream",
          "name": "stdout",
          "text": [
            "7\n",
            "4 50\n",
            "2 160\n",
            "3 30\n",
            "1 60\n",
            "3 20\n",
            "1 100\n",
            "47600\n"
          ]
        }
      ]
    },
    {
      "cell_type": "code",
      "source": [
        "def area(A,K):\n",
        "    for i in range(7):\n",
        "        if A[i][0] == A[i+2][0] and A[i+1][0] == A[i+3][0]:\n",
        "            print(K*(A[i-1][1]*A[i+4][1]-A[i+1][1]*A[i+2][1]))\n",
        "            return\n",
        "        \n",
        "K = int(input())\n",
        "A = [list(map(int,input().split())) for _ in range(6)]\n",
        "\n",
        "A += A      \n",
        "area(A,K)"
      ],
      "metadata": {
        "colab": {
          "base_uri": "https://localhost:8080/"
        },
        "id": "9kM9QqLWbjac",
        "outputId": "a739283a-7d24-4c97-dd11-afff24c06be4"
      },
      "execution_count": 2,
      "outputs": [
        {
          "output_type": "stream",
          "name": "stdout",
          "text": [
            "7\n",
            "4 50\n",
            "2 160\n",
            "3 30\n",
            "1 60\n",
            "3 20\n",
            "1 100\n",
            "47600\n"
          ]
        }
      ]
    }
  ],
  "metadata": {
    "colab": {
      "name": "Silver/2477(참외밭).ipynb",
      "provenance": [],
      "collapsed_sections": [],
      "authorship_tag": "ABX9TyOWquwfkJKpyPfKbksoGkCp",
      "include_colab_link": true
    },
    "kernelspec": {
      "display_name": "Python 3",
      "name": "python3"
    },
    "language_info": {
      "name": "python"
    }
  },
  "nbformat": 4,
  "nbformat_minor": 0
}