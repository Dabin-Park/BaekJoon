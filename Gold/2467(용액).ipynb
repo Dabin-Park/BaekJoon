{
  "nbformat": 4,
  "nbformat_minor": 0,
  "metadata": {
    "colab": {
      "name": "2467(용액).ipynb",
      "provenance": [],
      "authorship_tag": "ABX9TyML61TC3MFDZLPkfsFDOiyy",
      "include_colab_link": true
    },
    "kernelspec": {
      "name": "python3",
      "display_name": "Python 3"
    },
    "language_info": {
      "name": "python"
    }
  },
  "cells": [
    {
      "cell_type": "markdown",
      "metadata": {
        "id": "view-in-github",
        "colab_type": "text"
      },
      "source": [
        "<a href=\"https://colab.research.google.com/github/Dabin-Park/BaekJoon/blob/main/Gold/2467(%EC%9A%A9%EC%95%A1).ipynb\" target=\"_parent\"><img src=\"https://colab.research.google.com/assets/colab-badge.svg\" alt=\"Open In Colab\"/></a>"
      ]
    },
    {
      "cell_type": "code",
      "source": [
        "N = int(input())\n",
        "Solution = list(map(int,input().split()))\n",
        "s,e = 0,N-1\n",
        "m = 2000000001\n",
        "while s < e:\n",
        "    start,end = Solution[s],Solution[e]\n",
        "    n = end + start\n",
        "    if abs(n) < abs(m):\n",
        "        m = n \n",
        "        a,b = start,end\n",
        "    if abs(start + Solution[e-1]) > abs(end + Solution[s+1]):\n",
        "        s += 1\n",
        "    else:\n",
        "        e -= 1\n",
        "               \n",
        "print(a,b)"
      ],
      "metadata": {
        "colab": {
          "base_uri": "https://localhost:8080/"
        },
        "id": "4NDvOBDhbpRD",
        "outputId": "aa96ed82-84b0-43e0-e892-14befff1e79d"
      },
      "execution_count": 1,
      "outputs": [
        {
          "output_type": "stream",
          "name": "stdout",
          "text": [
            "5\n",
            "-99 -2 -1 4 98\n",
            "-99 98\n"
          ]
        }
      ]
    }
  ]
}