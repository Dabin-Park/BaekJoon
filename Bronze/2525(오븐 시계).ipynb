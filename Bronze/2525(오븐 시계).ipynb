{
  "cells": [
    {
      "cell_type": "markdown",
      "metadata": {
        "id": "view-in-github",
        "colab_type": "text"
      },
      "source": [
        "<a href=\"https://colab.research.google.com/github/Dabin-Park/BaekJoon/blob/main/Bronze/2525(%EC%98%A4%EB%B8%90%20%EC%8B%9C%EA%B3%84).ipynb\" target=\"_parent\"><img src=\"https://colab.research.google.com/assets/colab-badge.svg\" alt=\"Open In Colab\"/></a>"
      ]
    },
    {
      "cell_type": "code",
      "source": [
        "A,B = map(int,input().split())\n",
        "C = int(input())\n",
        "\n",
        "a = C//60\n",
        "b = C-a*60\n",
        "\n",
        "A += a\n",
        "\n",
        "if B +b >= 60:\n",
        "    B = (B+b)%60\n",
        "    A += 1 \n",
        "else:\n",
        "    B += b\n",
        "\n",
        "A %= 24\n",
        "\n",
        "print(f\"{A} {B}\")"
      ],
      "metadata": {
        "colab": {
          "base_uri": "https://localhost:8080/"
        },
        "id": "wl4BkaYPmU4d",
        "outputId": "45403190-e667-4dd9-8660-e87bad1f4070"
      },
      "execution_count": 4,
      "outputs": [
        {
          "output_type": "stream",
          "name": "stdout",
          "text": [
            "23 48\n",
            "25\n",
            "0 13\n"
          ]
        }
      ]
    }
  ],
  "metadata": {
    "colab": {
      "name": " 2525(오븐 시계).ipynb",
      "provenance": [],
      "collapsed_sections": [],
      "authorship_tag": "ABX9TyOOUO55RL4AiKmj1CsvMULH",
      "include_colab_link": true
    },
    "kernelspec": {
      "display_name": "Python 3",
      "name": "python3"
    },
    "language_info": {
      "name": "python"
    }
  },
  "nbformat": 4,
  "nbformat_minor": 0
}