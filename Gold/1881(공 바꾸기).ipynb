{
  "nbformat": 4,
  "nbformat_minor": 0,
  "metadata": {
    "colab": {
      "name": "1881(공 바꾸기).ipynb",
      "provenance": [],
      "authorship_tag": "ABX9TyNibdQ5wfuCd5o2mHk8Wt1I",
      "include_colab_link": true
    },
    "kernelspec": {
      "name": "python3",
      "display_name": "Python 3"
    },
    "language_info": {
      "name": "python"
    }
  },
  "cells": [
    {
      "cell_type": "markdown",
      "metadata": {
        "id": "view-in-github",
        "colab_type": "text"
      },
      "source": [
        "<a href=\"https://colab.research.google.com/github/Dabin-Park/BaekJoon/blob/main/Gold/1881(%EA%B3%B5%20%EB%B0%94%EA%BE%B8%EA%B8%B0).ipynb\" target=\"_parent\"><img src=\"https://colab.research.google.com/assets/colab-badge.svg\" alt=\"Open In Colab\"/></a>"
      ]
    },
    {
      "cell_type": "code",
      "source": [
        "N = int(input())\n",
        "num = 0\n",
        "if N:\n",
        "    Cards = list(map(int,input().split()))\n",
        "    Cards2 = Cards.copy()\n",
        "\n",
        "    Boxes = []\n",
        "    for a in Cards:\n",
        "        if a not in Boxes:\n",
        "            if len(Boxes) == 4:\n",
        "                m = -1    # 인덱스\n",
        "                for b in Boxes:\n",
        "                    if b in Cards2:\n",
        "                        if Cards2.index(b) > m:\n",
        "                            m = Cards2.index(b)\n",
        "                            s = b \n",
        "                    else:\n",
        "                        s = b \n",
        "                        break\n",
        "                Boxes.remove(s)\n",
        "            Boxes.append(a)\n",
        "            num += 1\n",
        "        del Cards2[0]\n",
        "\n",
        "print(num)"
      ],
      "metadata": {
        "id": "xk6usRE-86iG",
        "colab": {
          "base_uri": "https://localhost:8080/"
        },
        "outputId": "cb1a62d6-e7ce-4934-a44e-bbd5ced758d7"
      },
      "execution_count": 3,
      "outputs": [
        {
          "output_type": "stream",
          "name": "stdout",
          "text": [
            "9\n",
            "1 2 3 4 5 1 1 3 4\n",
            "5\n"
          ]
        }
      ]
    }
  ]
}