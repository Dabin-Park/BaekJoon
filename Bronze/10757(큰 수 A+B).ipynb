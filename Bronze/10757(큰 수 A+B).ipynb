{
  "cells": [
    {
      "cell_type": "markdown",
      "metadata": {
        "id": "view-in-github",
        "colab_type": "text"
      },
      "source": [
        "<a href=\"https://colab.research.google.com/github/Dabin-Park/BaekJoon/blob/main/Bronze/10757(%ED%81%B0%20%EC%88%98%20A%2BB).ipynb\" target=\"_parent\"><img src=\"https://colab.research.google.com/assets/colab-badge.svg\" alt=\"Open In Colab\"/></a>"
      ]
    },
    {
      "cell_type": "code",
      "source": [
        "A,B = map(int,input().split())\n",
        "print(A+B)"
      ],
      "metadata": {
        "id": "HBwwya3y6Eyo",
        "outputId": "5d3bfffd-4e5c-45dd-9857-31a7fd65a8ba",
        "colab": {
          "base_uri": "https://localhost:8080/"
        }
      },
      "execution_count": 3,
      "outputs": [
        {
          "output_type": "stream",
          "name": "stdout",
          "text": [
            "9223372036854775807 9223372036854775808\n",
            "18446744073709551615\n"
          ]
        }
      ]
    },
    {
      "cell_type": "code",
      "source": [
        "A,B = map(str,input().split())\n",
        "x,y = len(A),len(B)\n",
        "a = list(map(int,A))[::-1] + [0 for _ in range(x,y)]\n",
        "b = list(map(int,B))[::-1] + [0 for _ in range(y,x)]\n",
        "\n",
        "m = max(x,y)\n",
        "num = ''\n",
        "\n",
        "for i in range(m-1):\n",
        "    sum = a[i]+b[i]\n",
        "    if sum >= 10:\n",
        "        b[i+1] += 1\n",
        "        num = str(sum)[1] + num\n",
        "    else:\n",
        "        num = str(sum) + num\n",
        "\n",
        "num = str(a[m-1]+b[m-1]) + num\n",
        "        \n",
        "print(num)"
      ],
      "metadata": {
        "colab": {
          "base_uri": "https://localhost:8080/"
        },
        "id": "bVkCxaU0sYOC",
        "outputId": "cda71941-a50b-48a0-8bf7-021f9d5db43d"
      },
      "execution_count": 2,
      "outputs": [
        {
          "output_type": "stream",
          "name": "stdout",
          "text": [
            "9223372036854775807 9223372036854775808\n",
            "18446744073709551615\n"
          ]
        }
      ]
    }
  ],
  "metadata": {
    "colab": {
      "name": "107575(큰 수 A+B).ipynb",
      "provenance": [],
      "collapsed_sections": [],
      "authorship_tag": "ABX9TyNu+oCXggF7ESOVisP9RQUk",
      "include_colab_link": true
    },
    "kernelspec": {
      "display_name": "Python 3",
      "name": "python3"
    },
    "language_info": {
      "name": "python"
    }
  },
  "nbformat": 4,
  "nbformat_minor": 0
}