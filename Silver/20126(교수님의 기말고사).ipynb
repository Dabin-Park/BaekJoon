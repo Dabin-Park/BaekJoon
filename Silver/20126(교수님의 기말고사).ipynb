{
  "nbformat": 4,
  "nbformat_minor": 0,
  "metadata": {
    "colab": {
      "provenance": [],
      "authorship_tag": "ABX9TyMnFETdzPK+700vJBUDtCuR",
      "include_colab_link": true
    },
    "kernelspec": {
      "name": "python3",
      "display_name": "Python 3"
    },
    "language_info": {
      "name": "python"
    }
  },
  "cells": [
    {
      "cell_type": "markdown",
      "metadata": {
        "id": "view-in-github",
        "colab_type": "text"
      },
      "source": [
        "<a href=\"https://colab.research.google.com/github/Dabin-Park/BaekJoon/blob/main/Silver/20126(%EA%B5%90%EC%88%98%EB%8B%98%EC%9D%98%20%EA%B8%B0%EB%A7%90%EA%B3%A0%EC%82%AC).ipynb\" target=\"_parent\"><img src=\"https://colab.research.google.com/assets/colab-badge.svg\" alt=\"Open In Colab\"/></a>"
      ]
    },
    {
      "cell_type": "code",
      "source": [
        "def sol():\n",
        "    N,M,S = map(int,input().split())\n",
        "    Test = [list(map(int,input().split())) for _ in range(N)]\n",
        "    Test.sort(key = lambda x: x[0])\n",
        "    if M <= Test[0][0]:\n",
        "        return 0\n",
        "    for i in range(N-1):\n",
        "        if Test[i+1][0] - sum(Test[i]) >= M:\n",
        "            return sum(Test[i])\n",
        "    if sum(Test[-1]) + M <= S:\n",
        "        return sum(Test[-1])\n",
        "    return -1\n",
        "                     \n",
        "print(sol())"
      ],
      "metadata": {
        "id": "Eum8oDR9H9Ie",
        "colab": {
          "base_uri": "https://localhost:8080/"
        },
        "outputId": "16caa6a0-9ab2-406c-bce6-e8c890369931"
      },
      "execution_count": null,
      "outputs": [
        {
          "output_type": "stream",
          "name": "stdout",
          "text": [
            "2 3 5\n",
            "0 1\n",
            "4 1\n",
            "1\n"
          ]
        }
      ]
    }
  ]
}