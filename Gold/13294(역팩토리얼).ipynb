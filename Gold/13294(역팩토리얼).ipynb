{
  "nbformat": 4,
  "nbformat_minor": 0,
  "metadata": {
    "colab": {
      "name": "13294(역팩토리얼).ipynb",
      "provenance": [],
      "authorship_tag": "ABX9TyOg8ALCTcb+0dBfcVEwWCW1",
      "include_colab_link": true
    },
    "kernelspec": {
      "name": "python3",
      "display_name": "Python 3"
    },
    "language_info": {
      "name": "python"
    }
  },
  "cells": [
    {
      "cell_type": "markdown",
      "metadata": {
        "id": "view-in-github",
        "colab_type": "text"
      },
      "source": [
        "<a href=\"https://colab.research.google.com/github/Dabin-Park/BaekJoon/blob/main/Gold/13294(%EC%97%AD%ED%8C%A9%ED%86%A0%EB%A6%AC%EC%96%BC).ipynb\" target=\"_parent\"><img src=\"https://colab.research.google.com/assets/colab-badge.svg\" alt=\"Open In Colab\"/></a>"
      ]
    },
    {
      "cell_type": "code",
      "execution_count": 1,
      "metadata": {
        "colab": {
          "base_uri": "https://localhost:8080/"
        },
        "id": "dT6CvtQPNnKQ",
        "outputId": "bd802387-16c5-4b14-f098-c84c368dee1b"
      },
      "outputs": [
        {
          "output_type": "stream",
          "name": "stdout",
          "text": [
            "10888869450418352160768000000\n",
            "27\n"
          ]
        }
      ],
      "source": [
        "import math\n",
        "N = int(input())\n",
        "a = math.log(N)\n",
        "i = 1\n",
        "while a > 0.1:\n",
        "    i += 1\n",
        "    a -= math.log(i)\n",
        "    \n",
        "print(i)"
      ]
    },
    {
      "cell_type": "code",
      "source": [
        "import math\n",
        "\n",
        "def count_five(n):  # 5의 배수면 1, 25의 배수면 2, 125의 배수면 3 등등등\n",
        "    result = 0\n",
        "    while True:\n",
        "        if n%5==0:\n",
        "            n //= 5\n",
        "            result += 1\n",
        "        else:\n",
        "            break\n",
        "    return result\n",
        "\n",
        "N = input()\n",
        "\n",
        "if N==\"1\":\n",
        "    print(1)\n",
        "    exit(0)\n",
        "    \n",
        "cnt_zero = len(N) - len(N.rstrip('0'))  # 뒤에 붙은 0의 개수\n",
        "N = int(N)\n",
        "\n",
        "first_range = 0\n",
        "while cnt_zero>0:\n",
        "    first_range += 5\n",
        "    cnt_zero -= count_five(first_range)\n",
        "    \n",
        "a = math.factorial(first_range)\n",
        "j = first_range\n",
        "\n",
        "while a < N:\n",
        "    j += 1\n",
        "    a *= j\n",
        "    \n",
        "print(j)"
      ],
      "metadata": {
        "colab": {
          "base_uri": "https://localhost:8080/"
        },
        "id": "veq_f8Cz4efh",
        "outputId": "4f1ab5df-3f45-46f0-ddce-5a04585e1c88"
      },
      "execution_count": 2,
      "outputs": [
        {
          "output_type": "stream",
          "name": "stdout",
          "text": [
            "10888869450418352160768000000\n",
            "27\n"
          ]
        }
      ]
    }
  ]
}