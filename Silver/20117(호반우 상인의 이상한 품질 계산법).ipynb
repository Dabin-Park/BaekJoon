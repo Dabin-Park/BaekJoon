{
  "nbformat": 4,
  "nbformat_minor": 0,
  "metadata": {
    "colab": {
      "name": "20117(호반우 상인의 이상한 품질 계산법).ipynb",
      "provenance": [],
      "authorship_tag": "ABX9TyPFNnvaWD96cJl1F72KksZL",
      "include_colab_link": true
    },
    "kernelspec": {
      "name": "python3",
      "display_name": "Python 3"
    },
    "language_info": {
      "name": "python"
    }
  },
  "cells": [
    {
      "cell_type": "markdown",
      "metadata": {
        "id": "view-in-github",
        "colab_type": "text"
      },
      "source": [
        "<a href=\"https://colab.research.google.com/github/Dabin-Park/BaekJoon/blob/main/Silver/20117(%ED%98%B8%EB%B0%98%EC%9A%B0%20%EC%83%81%EC%9D%B8%EC%9D%98%20%EC%9D%B4%EC%83%81%ED%95%9C%20%ED%92%88%EC%A7%88%20%EA%B3%84%EC%82%B0%EB%B2%95).ipynb\" target=\"_parent\"><img src=\"https://colab.research.google.com/assets/colab-badge.svg\" alt=\"Open In Colab\"/></a>"
      ]
    },
    {
      "cell_type": "code",
      "source": [
        "N = int(input())\n",
        "Hobanwos = sorted(list(map(int,input().split())))\n",
        "if N%2:\n",
        "    print(sum(Hobanwos[N//2+1:])*2 + Hobanwos[N//2])\n",
        "else:\n",
        "    print(sum(Hobanwos[N//2:])*2)"
      ],
      "metadata": {
        "id": "xk6usRE-86iG",
        "colab": {
          "base_uri": "https://localhost:8080/"
        },
        "outputId": "e7703380-3363-45b9-ddcd-e6b9b01af11d"
      },
      "execution_count": 1,
      "outputs": [
        {
          "output_type": "stream",
          "name": "stdout",
          "text": [
            "4\n",
            "4 2 8 9\n",
            "34\n"
          ]
        }
      ]
    }
  ]
}