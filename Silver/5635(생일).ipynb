{
  "nbformat": 4,
  "nbformat_minor": 0,
  "metadata": {
    "colab": {
      "provenance": [],
      "collapsed_sections": [],
      "authorship_tag": "ABX9TyMpWrTtbTdQ5zXRCM9k7gtQ",
      "include_colab_link": true
    },
    "kernelspec": {
      "name": "python3",
      "display_name": "Python 3"
    },
    "language_info": {
      "name": "python"
    }
  },
  "cells": [
    {
      "cell_type": "markdown",
      "metadata": {
        "id": "view-in-github",
        "colab_type": "text"
      },
      "source": [
        "<a href=\"https://colab.research.google.com/github/Dabin-Park/BaekJoon/blob/main/Silver/5635(%EC%83%9D%EC%9D%BC).ipynb\" target=\"_parent\"><img src=\"https://colab.research.google.com/assets/colab-badge.svg\" alt=\"Open In Colab\"/></a>"
      ]
    },
    {
      "cell_type": "code",
      "source": [
        "n = int(input())\n",
        "Students = [list(map(str,input().split())) for _ in range(n)]\n",
        "\n",
        "Students.sort(key = lambda x : (int(x[3]), int(x[2]), int(x[1])))\n",
        "\n",
        "print(Students[-1][0])\n",
        "print(Students[0][0])"
      ],
      "metadata": {
        "id": "ZFrLikbd4n2z",
        "outputId": "22c58d36-aed5-4487-87c5-9ec23a6fb9c5",
        "colab": {
          "base_uri": "https://localhost:8080/"
        }
      },
      "execution_count": 2,
      "outputs": [
        {
          "output_type": "stream",
          "name": "stdout",
          "text": [
            "5\n",
            "Mickey 1 10 1991\n",
            "Alice 30 12 1990\n",
            "Tom 15 8 1993\n",
            "Jerry 18 9 1990\n",
            "Garfield 20 9 1990\n",
            "Tom\n",
            "Jerry\n"
          ]
        }
      ]
    }
  ]
}