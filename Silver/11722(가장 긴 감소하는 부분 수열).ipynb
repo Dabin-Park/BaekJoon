{
  "nbformat": 4,
  "nbformat_minor": 0,
  "metadata": {
    "colab": {
      "provenance": [],
      "authorship_tag": "ABX9TyPZ6SGNS29es10NkV9K+60C",
      "include_colab_link": true
    },
    "kernelspec": {
      "name": "python3",
      "display_name": "Python 3"
    },
    "language_info": {
      "name": "python"
    }
  },
  "cells": [
    {
      "cell_type": "markdown",
      "metadata": {
        "id": "view-in-github",
        "colab_type": "text"
      },
      "source": [
        "<a href=\"https://colab.research.google.com/github/Dabin-Park/BaekJoon/blob/main/Silver/11722(%EA%B0%80%EC%9E%A5%20%EA%B8%B4%20%EA%B0%90%EC%86%8C%ED%95%98%EB%8A%94%20%EB%B6%80%EB%B6%84%20%EC%88%98%EC%97%B4).ipynb\" target=\"_parent\"><img src=\"https://colab.research.google.com/assets/colab-badge.svg\" alt=\"Open In Colab\"/></a>"
      ]
    },
    {
      "cell_type": "code",
      "source": [
        "def sol(N):\n",
        "    Sequnce = list(map(int,input().split()))\n",
        "    dp = [0]*N\n",
        "    for i in range(N):\n",
        "        for j in range(i):\n",
        "            if Sequnce[i] < Sequnce[j]:\n",
        "                dp[i] = max(dp[i],dp[j])\n",
        "        dp[i] += 1\n",
        "    return max(dp)\n",
        "\n",
        "print(sol(int(input())))"
      ],
      "metadata": {
        "colab": {
          "base_uri": "https://localhost:8080/"
        },
        "id": "Wf1zqg3P9ONw",
        "outputId": "3fc4ac8c-c0ec-4751-c5b6-466007c99bf3"
      },
      "execution_count": 2,
      "outputs": [
        {
          "output_type": "stream",
          "name": "stdout",
          "text": [
            "6\n",
            "10 30 10 20 20 10\n",
            "3\n"
          ]
        }
      ]
    },
    {
      "cell_type": "code",
      "source": [
        "def sol(N):\n",
        "    Sequnce = list(map(int,input().split()))\n",
        "    Stack = [Sequnce[0]]\n",
        "    for num in Sequnce[1:]:\n",
        "        if Stack[-1] > num:\n",
        "            Stack.append(num)\n",
        "        else:\n",
        "            for i in range(len(Stack)):\n",
        "                if num >= Stack[i]:\n",
        "                    Stack[i] = num\n",
        "                    break\n",
        "    return len(Stack)\n",
        "\n",
        "print(sol(int(input())))"
      ],
      "metadata": {
        "colab": {
          "base_uri": "https://localhost:8080/"
        },
        "id": "cRUvCSUvW618",
        "outputId": "b99cdb00-5d1c-4b72-bd14-daca48f78e13"
      },
      "execution_count": 1,
      "outputs": [
        {
          "output_type": "stream",
          "name": "stdout",
          "text": [
            "6\n",
            "10 30 10 20 20 10\n",
            "3\n"
          ]
        }
      ]
    }
  ]
}