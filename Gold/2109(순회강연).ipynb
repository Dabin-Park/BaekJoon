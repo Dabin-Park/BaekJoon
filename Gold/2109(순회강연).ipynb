{
  "nbformat": 4,
  "nbformat_minor": 0,
  "metadata": {
    "colab": {
      "name": "2109(순회강연).ipynb",
      "provenance": [],
      "authorship_tag": "ABX9TyP2Jsb3PYYtQL/tWPMUzath",
      "include_colab_link": true
    },
    "kernelspec": {
      "name": "python3",
      "display_name": "Python 3"
    },
    "language_info": {
      "name": "python"
    }
  },
  "cells": [
    {
      "cell_type": "markdown",
      "metadata": {
        "id": "view-in-github",
        "colab_type": "text"
      },
      "source": [
        "<a href=\"https://colab.research.google.com/github/Dabin-Park/BaekJoon/blob/main/Gold/2109(%EC%88%9C%ED%9A%8C%EA%B0%95%EC%97%B0).ipynb\" target=\"_parent\"><img src=\"https://colab.research.google.com/assets/colab-badge.svg\" alt=\"Open In Colab\"/></a>"
      ]
    },
    {
      "cell_type": "code",
      "source": [
        "N = int(input())\n",
        "total = 0\n",
        "if N:\n",
        "    day = [[] for _ in range(10001)]\n",
        "    for _ in range(N):\n",
        "        p,d = map(int,input().split()) \n",
        "        day[d].append(p)\n",
        "        \n",
        "    bag = []\n",
        "    for i in range(10000,0,-1):\n",
        "        if day[i]:\n",
        "            bag += day[i]\n",
        "            bag.sort()\n",
        "        if bag:\n",
        "            total += bag.pop()\n",
        "            \n",
        "print(total)"
      ],
      "metadata": {
        "colab": {
          "base_uri": "https://localhost:8080/"
        },
        "id": "4NDvOBDhbpRD",
        "outputId": "c28b5025-feef-4495-a746-9ae1f21057b6"
      },
      "execution_count": 1,
      "outputs": [
        {
          "output_type": "stream",
          "name": "stdout",
          "text": [
            "7\n",
            "20 1\n",
            "2 1\n",
            "10 3\n",
            "100 2\n",
            "8 2\n",
            "5 20\n",
            "50 10\n",
            "185\n"
          ]
        }
      ]
    }
  ]
}