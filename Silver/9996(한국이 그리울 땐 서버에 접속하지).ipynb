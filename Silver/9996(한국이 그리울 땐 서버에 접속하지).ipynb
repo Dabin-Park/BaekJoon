{
  "nbformat": 4,
  "nbformat_minor": 0,
  "metadata": {
    "colab": {
      "provenance": [],
      "authorship_tag": "ABX9TyOyL2dwQKd5zKvBDXEtgzAG",
      "include_colab_link": true
    },
    "kernelspec": {
      "name": "python3",
      "display_name": "Python 3"
    },
    "language_info": {
      "name": "python"
    }
  },
  "cells": [
    {
      "cell_type": "markdown",
      "metadata": {
        "id": "view-in-github",
        "colab_type": "text"
      },
      "source": [
        "<a href=\"https://colab.research.google.com/github/Dabin-Park/BaekJoon/blob/main/Silver/9996(%ED%95%9C%EA%B5%AD%EC%9D%B4%20%EA%B7%B8%EB%A6%AC%EC%9A%B8%20%EB%95%90%20%EC%84%9C%EB%B2%84%EC%97%90%20%EC%A0%91%EC%86%8D%ED%95%98%EC%A7%80).ipynb\" target=\"_parent\"><img src=\"https://colab.research.google.com/assets/colab-badge.svg\" alt=\"Open In Colab\"/></a>"
      ]
    },
    {
      "cell_type": "code",
      "source": [
        "def sol(N): \n",
        "    Name = input().rstrip().split(\"*\")\n",
        "    left, right = Name[0], Name[1]\n",
        "    \n",
        "    Left,Right = {left:0}, {right:0}\n",
        "    len_left, len_right = len(left), len(right) \n",
        "    total_len = len_left + len_right\n",
        "    \n",
        "    for _ in range(N):\n",
        "        name = input().rstrip()\n",
        "        if len(name) >= total_len and name[:len_left] in Left and name[-len_right:] in Right:\n",
        "            print(\"DA\")\n",
        "        else:\n",
        "            print(\"NE\")\n",
        "           \n",
        "sol(int(input()))"
      ],
      "metadata": {
        "colab": {
          "base_uri": "https://localhost:8080/"
        },
        "id": "BYNtq_Ywoefu",
        "outputId": "023e6c62-7495-432c-c172-4116f790a269"
      },
      "execution_count": 2,
      "outputs": [
        {
          "output_type": "stream",
          "name": "stdout",
          "text": [
            "3\n",
            "a*d\n",
            "abcd\n",
            "DA\n",
            "anestonestod\n",
            "DA\n",
            "facebook\n",
            "NE\n"
          ]
        }
      ]
    }
  ]
}