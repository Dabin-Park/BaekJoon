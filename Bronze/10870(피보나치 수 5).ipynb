{
  "nbformat": 4,
  "nbformat_minor": 0,
  "metadata": {
    "colab": {
      "name": "10870(피보나치 수 5).ipynb",
      "provenance": [],
      "authorship_tag": "ABX9TyPZFaTRZSMJ2TiZ//1Imphc",
      "include_colab_link": true
    },
    "kernelspec": {
      "name": "python3",
      "display_name": "Python 3"
    },
    "language_info": {
      "name": "python"
    }
  },
  "cells": [
    {
      "cell_type": "markdown",
      "metadata": {
        "id": "view-in-github",
        "colab_type": "text"
      },
      "source": [
        "<a href=\"https://colab.research.google.com/github/Dabin-Park/BaekJoon/blob/main/Bronze/10870(%ED%94%BC%EB%B3%B4%EB%82%98%EC%B9%98%20%EC%88%98%205).ipynb\" target=\"_parent\"><img src=\"https://colab.research.google.com/assets/colab-badge.svg\" alt=\"Open In Colab\"/></a>"
      ]
    },
    {
      "cell_type": "code",
      "source": [
        "def fibonacci(n):\n",
        "    Fibonacci = [0 for _ in range(n+1)]\n",
        "    if n:\n",
        "        Fibonacci[1] = 1\n",
        "        for i in range(2,n+1):\n",
        "            Fibonacci[i] = Fibonacci[i-1] + Fibonacci[i-2]\n",
        "    print(Fibonacci[-1])\n",
        "\n",
        "fibonacci(int(input()))"
      ],
      "metadata": {
        "id": "ZFrLikbd4n2z",
        "outputId": "d5bc3d42-e54a-4465-8a38-43f50308c86d",
        "colab": {
          "base_uri": "https://localhost:8080/"
        }
      },
      "execution_count": 3,
      "outputs": [
        {
          "output_type": "stream",
          "name": "stdout",
          "text": [
            "10\n",
            "55\n"
          ]
        }
      ]
    }
  ]
}