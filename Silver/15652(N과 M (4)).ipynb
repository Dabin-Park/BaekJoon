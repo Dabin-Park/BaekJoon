{
  "nbformat": 4,
  "nbformat_minor": 0,
  "metadata": {
    "colab": {
      "provenance": [],
      "authorship_tag": "ABX9TyNm1czkUOzS1bFI6gOt8NWl",
      "include_colab_link": true
    },
    "kernelspec": {
      "name": "python3",
      "display_name": "Python 3"
    },
    "language_info": {
      "name": "python"
    }
  },
  "cells": [
    {
      "cell_type": "markdown",
      "metadata": {
        "id": "view-in-github",
        "colab_type": "text"
      },
      "source": [
        "<a href=\"https://colab.research.google.com/github/Dabin-Park/BaekJoon/blob/main/Silver/15652(N%EA%B3%BC%20M%20(4)).ipynb\" target=\"_parent\"><img src=\"https://colab.research.google.com/assets/colab-badge.svg\" alt=\"Open In Colab\"/></a>"
      ]
    },
    {
      "cell_type": "code",
      "source": [
        "def sol(Num):\n",
        "    if len(Num) == M+1:\n",
        "        print(\" \".join(Num[1:]))\n",
        "    else:\n",
        "        for i in range(int(Num[-1]),N+1):\n",
        "            sol(Num+[str(i)])\n",
        "\n",
        "N,M = map(int,input().split())    \n",
        "sol([1])"
      ],
      "metadata": {
        "colab": {
          "base_uri": "https://localhost:8080/"
        },
        "id": "Wf1zqg3P9ONw",
        "outputId": "cdb219f3-0e0b-4f77-daea-ac5771f074e5"
      },
      "execution_count": 6,
      "outputs": [
        {
          "output_type": "stream",
          "name": "stdout",
          "text": [
            "4 2\n",
            "1 1\n",
            "1 2\n",
            "1 3\n",
            "1 4\n",
            "2 2\n",
            "2 3\n",
            "2 4\n",
            "3 3\n",
            "3 4\n",
            "4 4\n"
          ]
        }
      ]
    },
    {
      "cell_type": "code",
      "source": [
        "def sol(i, N, Num,k):\n",
        "    for j in range(k, N+1):\n",
        "        Num.append(str(j))\n",
        "        if i == 1:\n",
        "            print(' '.join(Num))\n",
        "        else:\n",
        "            sol(i-1, N, Num,k)\n",
        "            k += 1\n",
        "        Num.pop()        \n",
        "        \n",
        "N, M = map(int, input().split())\n",
        "sol(M, N, [], 1)"
      ],
      "metadata": {
        "colab": {
          "base_uri": "https://localhost:8080/"
        },
        "id": "ErxOFDWZ79dS",
        "outputId": "5679df61-c7b3-4b9e-e5c6-f295f234003f"
      },
      "execution_count": 5,
      "outputs": [
        {
          "output_type": "stream",
          "name": "stdout",
          "text": [
            "4 2\n",
            "1 1\n",
            "1 2\n",
            "1 3\n",
            "1 4\n",
            "2 2\n",
            "2 3\n",
            "2 4\n",
            "3 3\n",
            "3 4\n",
            "4 4\n"
          ]
        }
      ]
    }
  ]
}