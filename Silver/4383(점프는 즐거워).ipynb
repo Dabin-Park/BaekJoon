{
  "nbformat": 4,
  "nbformat_minor": 0,
  "metadata": {
    "colab": {
      "provenance": [],
      "collapsed_sections": [],
      "authorship_tag": "ABX9TyOqCxAUPxyx2fHjIfq6pj63",
      "include_colab_link": true
    },
    "kernelspec": {
      "name": "python3",
      "display_name": "Python 3"
    },
    "language_info": {
      "name": "python"
    }
  },
  "cells": [
    {
      "cell_type": "markdown",
      "metadata": {
        "id": "view-in-github",
        "colab_type": "text"
      },
      "source": [
        "<a href=\"https://colab.research.google.com/github/Dabin-Park/BaekJoon/blob/main/Silver/4383(%EC%A0%90%ED%94%84%EB%8A%94%20%EC%A6%90%EA%B1%B0%EC%9B%8C).ipynb\" target=\"_parent\"><img src=\"https://colab.research.google.com/assets/colab-badge.svg\" alt=\"Open In Colab\"/></a>"
      ]
    },
    {
      "cell_type": "code",
      "source": [
        "while 1:\n",
        "    S = list(map(int,input().split()))\n",
        "    t = 1\n",
        "    if S:\n",
        "        n = S[0]\n",
        "        Diff = [0]*(n-1)\n",
        "        for i in range(1,n):\n",
        "            diff = abs(S[i]- S[i+1])\n",
        "            if diff < 1 or diff >= n or Diff[diff-1]:\n",
        "                t = 0\n",
        "                break\n",
        "            else:\n",
        "                Diff[diff-1] = 1\n",
        "    else:\n",
        "        break\n",
        "    if t:\n",
        "        print(\"Jolly\")\n",
        "    else:\n",
        "        print(\"Not jolly\")\n"
      ],
      "metadata": {
        "colab": {
          "base_uri": "https://localhost:8080/"
        },
        "id": "FkOjEsTjVrUB",
        "outputId": "324010dc-8d92-44c7-b427-69175b6a4ee3"
      },
      "execution_count": 1,
      "outputs": [
        {
          "name": "stdout",
          "output_type": "stream",
          "text": [
            "4 1 4 2 3\n",
            "Jolly\n",
            "5 1 4 2 -1 6\n",
            "Not jolly\n",
            "\n"
          ]
        }
      ]
    }
  ]
}