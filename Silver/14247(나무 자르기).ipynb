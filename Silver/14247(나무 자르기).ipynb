{
  "nbformat": 4,
  "nbformat_minor": 0,
  "metadata": {
    "colab": {
      "provenance": [],
      "authorship_tag": "ABX9TyOl0FmVAnQE9sAsqx23PEGE",
      "include_colab_link": true
    },
    "kernelspec": {
      "name": "python3",
      "display_name": "Python 3"
    },
    "language_info": {
      "name": "python"
    }
  },
  "cells": [
    {
      "cell_type": "markdown",
      "metadata": {
        "id": "view-in-github",
        "colab_type": "text"
      },
      "source": [
        "<a href=\"https://colab.research.google.com/github/Dabin-Park/BaekJoon/blob/main/Silver/14247(%EB%82%98%EB%AC%B4%20%EC%9E%90%EB%A5%B4%EA%B8%B0).ipynb\" target=\"_parent\"><img src=\"https://colab.research.google.com/assets/colab-badge.svg\" alt=\"Open In Colab\"/></a>"
      ]
    },
    {
      "cell_type": "code",
      "execution_count": 1,
      "metadata": {
        "colab": {
          "base_uri": "https://localhost:8080/"
        },
        "id": "V2C1sM_6QvYk",
        "outputId": "a773cc35-7b4f-4465-f168-29a557c9d486"
      },
      "outputs": [
        {
          "output_type": "stream",
          "name": "stdout",
          "text": [
            "5\n",
            "1 3 2 4 6\n",
            "2 7 3 4 1\n",
            "64\n"
          ]
        }
      ],
      "source": [
        "def sol(n):\n",
        "    num = sum(map(int,input().split()))\n",
        "    Grow = sorted(list(map(int,input().split())))\n",
        "    for i in range(n):\n",
        "        num += i*Grow[i]\n",
        "    return num\n",
        "\n",
        "print(sol(int(input())))"
      ]
    }
  ]
}