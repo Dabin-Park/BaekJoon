{
  "nbformat": 4,
  "nbformat_minor": 0,
  "metadata": {
    "colab": {
      "provenance": [],
      "collapsed_sections": [],
      "authorship_tag": "ABX9TyPseS0I3CRgNNrbL2g8yBmZ",
      "include_colab_link": true
    },
    "kernelspec": {
      "name": "python3",
      "display_name": "Python 3"
    },
    "language_info": {
      "name": "python"
    }
  },
  "cells": [
    {
      "cell_type": "markdown",
      "metadata": {
        "id": "view-in-github",
        "colab_type": "text"
      },
      "source": [
        "<a href=\"https://colab.research.google.com/github/Dabin-Park/BaekJoon/blob/main/Silver/11501(%EC%A3%BC%EC%8B%9D).ipynb\" target=\"_parent\"><img src=\"https://colab.research.google.com/assets/colab-badge.svg\" alt=\"Open In Colab\"/></a>"
      ]
    },
    {
      "cell_type": "code",
      "source": [
        "def sol(N):\n",
        "    for _ in range(N):\n",
        "        N = int(input())\n",
        "        Stock = list(map(int,input().split()))\n",
        "        money = max_ =  0\n",
        "        for i in range(N-1,-1,-1):\n",
        "            if max_ <= Stock[i]:\n",
        "                max_ = Stock[i]\n",
        "            else:\n",
        "                money += max_ - Stock[i]\n",
        "        print(money)\n",
        "\n",
        "sol(int(input()))"
      ],
      "metadata": {
        "id": "k7eFI1eAZZ1Z",
        "outputId": "e6d2614e-64e3-4cc1-c108-1e13ac52c733",
        "colab": {
          "base_uri": "https://localhost:8080/"
        }
      },
      "execution_count": 1,
      "outputs": [
        {
          "output_type": "stream",
          "name": "stdout",
          "text": [
            "3\n",
            "3\n",
            "10 7 6\n",
            "0\n",
            "3\n",
            "3 5 9\n",
            "10\n",
            "5\n",
            "1 1 3 1 2\n",
            "5\n"
          ]
        }
      ]
    }
  ]
}