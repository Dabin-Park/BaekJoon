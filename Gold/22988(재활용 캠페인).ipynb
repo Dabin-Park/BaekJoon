{
  "nbformat": 4,
  "nbformat_minor": 0,
  "metadata": {
    "colab": {
      "name": "22988(재활용 캠페인).ipynb",
      "provenance": [],
      "authorship_tag": "ABX9TyOpVIKpT7kb39RWYLDH23au",
      "include_colab_link": true
    },
    "kernelspec": {
      "name": "python3",
      "display_name": "Python 3"
    },
    "language_info": {
      "name": "python"
    }
  },
  "cells": [
    {
      "cell_type": "markdown",
      "metadata": {
        "id": "view-in-github",
        "colab_type": "text"
      },
      "source": [
        "<a href=\"https://colab.research.google.com/github/Dabin-Park/BaekJoon/blob/main/Gold/22988(%EC%9E%AC%ED%99%9C%EC%9A%A9%20%EC%BA%A0%ED%8E%98%EC%9D%B8).ipynb\" target=\"_parent\"><img src=\"https://colab.research.google.com/assets/colab-badge.svg\" alt=\"Open In Colab\"/></a>"
      ]
    },
    {
      "cell_type": "code",
      "source": [
        "N,X = map(int,input().split())\n",
        "Bottles = sorted(list(map(int,input().split())))\n",
        "totalnum = 0\n",
        "for b in Bottles[::-1]:\n",
        "    if b < X:\n",
        "        break\n",
        "    Bottles.pop()\n",
        "    totalnum += 1\n",
        "s,e = 0, len(Bottles)-1\n",
        "a = X/2\n",
        "Not_use_bottle = 0\n",
        "while s <= e:\n",
        "    if s == e:\n",
        "        Not_use_bottle += 1\n",
        "        break\n",
        "    else:\n",
        "        num = Bottles[s] + Bottles[e] + a\n",
        "        if num >= X:\n",
        "            totalnum += 1\n",
        "            s += 1\n",
        "            e -= 1  \n",
        "        else:\n",
        "            s += 1\n",
        "            Not_use_bottle += 1\n",
        "\n",
        "print(totalnum + Not_use_bottle//3)"
      ],
      "metadata": {
        "id": "xk6usRE-86iG",
        "colab": {
          "base_uri": "https://localhost:8080/"
        },
        "outputId": "93ad04c4-7a6f-40db-8e4b-f663c6689767"
      },
      "execution_count": 1,
      "outputs": [
        {
          "output_type": "stream",
          "name": "stdout",
          "text": [
            "7 13\n",
            "0 1 2 3 5 8 13\n",
            "3\n"
          ]
        }
      ]
    }
  ]
}