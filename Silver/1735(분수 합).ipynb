{
  "cells": [
    {
      "cell_type": "markdown",
      "metadata": {
        "id": "view-in-github",
        "colab_type": "text"
      },
      "source": [
        "<a href=\"https://colab.research.google.com/github/Dabin-Park/BaekJoon/blob/main/Silver/1735(%EB%B6%84%EC%88%98%20%ED%95%A9).ipynb\" target=\"_parent\"><img src=\"https://colab.research.google.com/assets/colab-badge.svg\" alt=\"Open In Colab\"/></a>"
      ]
    },
    {
      "cell_type": "code",
      "source": [
        "def gcd(a,b):\n",
        "    a,b = max(a,b),min(a,b)\n",
        "    if a%b == 0:\n",
        "        return b\n",
        "    else:\n",
        "        return gcd(b,a%b)\n",
        "\n",
        "def lcm(a,b):\n",
        "    return (a*b)//gcd(a,b)\n",
        "        \n",
        "\n",
        "A,B = map(int,input().split())\n",
        "a,b = map(int,input().split())\n",
        "\n",
        "l = lcm(B,b)\n",
        "g = gcd(B,b)\n",
        "t = (A*b+a*B)//g\n",
        "s = gcd(t,l)\n",
        "\n",
        "print(t//s,l//s)"
      ],
      "metadata": {
        "id": "HBwwya3y6Eyo",
        "outputId": "bc258572-0b3e-44ce-d3bd-716266883ddb",
        "colab": {
          "base_uri": "https://localhost:8080/"
        }
      },
      "execution_count": null,
      "outputs": [
        {
          "output_type": "stream",
          "name": "stdout",
          "text": [
            "41\n",
            "3\n"
          ]
        }
      ]
    }
  ],
  "metadata": {
    "colab": {
      "name": "1735(분수 합).ipynb",
      "provenance": [],
      "collapsed_sections": [],
      "authorship_tag": "ABX9TyMhEL+z/byADnyQgcMmqKfU",
      "include_colab_link": true
    },
    "kernelspec": {
      "display_name": "Python 3",
      "name": "python3"
    },
    "language_info": {
      "name": "python"
    }
  },
  "nbformat": 4,
  "nbformat_minor": 0
}