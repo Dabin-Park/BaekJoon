{
  "nbformat": 4,
  "nbformat_minor": 0,
  "metadata": {
    "colab": {
      "name": "4949(균형잡힌 세상).ipynb",
      "provenance": [],
      "authorship_tag": "ABX9TyMr+lbRTN99DTOq7FC7G+pb",
      "include_colab_link": true
    },
    "kernelspec": {
      "name": "python3",
      "display_name": "Python 3"
    },
    "language_info": {
      "name": "python"
    }
  },
  "cells": [
    {
      "cell_type": "markdown",
      "metadata": {
        "id": "view-in-github",
        "colab_type": "text"
      },
      "source": [
        "<a href=\"https://colab.research.google.com/github/Dabin-Park/BaekJoon/blob/main/Silver/4949(%EA%B7%A0%ED%98%95%EC%9E%A1%ED%9E%8C%20%EC%84%B8%EC%83%81).ipynb\" target=\"_parent\"><img src=\"https://colab.research.google.com/assets/colab-badge.svg\" alt=\"Open In Colab\"/></a>"
      ]
    },
    {
      "cell_type": "code",
      "source": [
        "def stack(Galho,s,a):\n",
        "    if s == a:\n",
        "        Galho.append(a)\n",
        "    else:\n",
        "        if Galho:\n",
        "            if Galho[-1] == a:\n",
        "                Galho.pop()\n",
        "            else:\n",
        "                print('no')\n",
        "                return Galho, 1\n",
        "        else:\n",
        "            print('no')\n",
        "            return Galho, 1\n",
        "    return Galho, 0 \n",
        "\n",
        "while True:\n",
        "    S = input()\n",
        "    if S =='.':\n",
        "        break\n",
        "    else:\n",
        "        Galho = []\n",
        "        t = 0\n",
        "        for s in S:\n",
        "            if s in \"()\":\n",
        "                Galho,t = stack(Galho,s,'(')\n",
        "            elif s in '[]':\n",
        "                Galho,t = stack(Galho,s,'[')\n",
        "            if t:\n",
        "                break\n",
        "        if t == 0 and Galho == []:\n",
        "            print('yes')\n",
        "        elif t == 0:\n",
        "            print('no')"
      ],
      "metadata": {
        "colab": {
          "base_uri": "https://localhost:8080/"
        },
        "id": "4NDvOBDhbpRD",
        "outputId": "314a0b36-aa58-4b7a-8f65-5ed7dd60c299"
      },
      "execution_count": 3,
      "outputs": [
        {
          "name": "stdout",
          "output_type": "stream",
          "text": [
            "So when I die (the [first] I will see in (heaven) is a score list).\n",
            "yes\n",
            "[ first in ] ( first out ).\n",
            "yes\n",
            "Half Moon tonight (At least it is better than no Moon at all].\n",
            "no\n",
            "A rope may form )( a trail in a maze.\n",
            "no\n",
            "Help( I[m being held prisoner in a fortune cookie factory)].\n",
            "no\n",
            "([ (([( [ ] ) ( ) (( ))] )) ]).\n",
            "yes\n",
            " .\n",
            "yes\n",
            ".\n"
          ]
        }
      ]
    }
  ]
}