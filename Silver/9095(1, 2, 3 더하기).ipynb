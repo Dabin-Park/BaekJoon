{
  "nbformat": 4,
  "nbformat_minor": 0,
  "metadata": {
    "colab": {
      "name": "9095(1, 2, 3 더하기).ipynb",
      "provenance": [],
      "authorship_tag": "ABX9TyOY0gSNidkOG4COkoYYucrv",
      "include_colab_link": true
    },
    "kernelspec": {
      "name": "python3",
      "display_name": "Python 3"
    },
    "language_info": {
      "name": "python"
    }
  },
  "cells": [
    {
      "cell_type": "markdown",
      "metadata": {
        "id": "view-in-github",
        "colab_type": "text"
      },
      "source": [
        "<a href=\"https://colab.research.google.com/github/Dabin-Park/BaekJoon/blob/main/Silver/9095(1%2C%202%2C%203%20%EB%8D%94%ED%95%98%EA%B8%B0).ipynb\" target=\"_parent\"><img src=\"https://colab.research.google.com/assets/colab-badge.svg\" alt=\"Open In Colab\"/></a>"
      ]
    },
    {
      "cell_type": "code",
      "execution_count": 1,
      "metadata": {
        "colab": {
          "base_uri": "https://localhost:8080/"
        },
        "id": "dT6CvtQPNnKQ",
        "outputId": "da823657-1932-48ae-ffd6-9b94f327a9fd"
      },
      "outputs": [
        {
          "output_type": "stream",
          "name": "stdout",
          "text": [
            "3\n",
            "4\n",
            "7\n",
            "7\n",
            "44\n",
            "10\n",
            "274\n"
          ]
        }
      ],
      "source": [
        "T = int(input())\n",
        "dp = [0 for _ in range(11)]\n",
        "dp[1],dp[2],dp[3] = 1,2,4\n",
        "\n",
        "for i in range(4,11):\n",
        "    dp[i] = dp[i-1]+dp[i-2]+dp[i-3]\n",
        "    # i-3에 3을 더하는 경우 + i-2에 1을 더하는 경우 + i-1에 1을 더하는 경우 \n",
        "    \n",
        "for _ in range(T):\n",
        "    n = int(input())\n",
        "    print(dp[n])"
      ]
    }
  ]
}