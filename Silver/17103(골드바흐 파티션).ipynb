{
  "nbformat": 4,
  "nbformat_minor": 0,
  "metadata": {
    "colab": {
      "name": "17103(골드바흐 파티션).ipynb",
      "provenance": [],
      "authorship_tag": "ABX9TyPj2mQABYPChv9eQ9RcWdTF",
      "include_colab_link": true
    },
    "kernelspec": {
      "name": "python3",
      "display_name": "Python 3"
    },
    "language_info": {
      "name": "python"
    }
  },
  "cells": [
    {
      "cell_type": "markdown",
      "metadata": {
        "id": "view-in-github",
        "colab_type": "text"
      },
      "source": [
        "<a href=\"https://colab.research.google.com/github/Dabin-Park/BaekJoon/blob/main/Silver/17103(%EA%B3%A8%EB%93%9C%EB%B0%94%ED%9D%90%20%ED%8C%8C%ED%8B%B0%EC%85%98).ipynb\" target=\"_parent\"><img src=\"https://colab.research.google.com/assets/colab-badge.svg\" alt=\"Open In Colab\"/></a>"
      ]
    },
    {
      "cell_type": "code",
      "source": [
        "primes = [1 for _ in range(1000001)]\n",
        "primes[0],primes[1] = 0, 0\n",
        "for i in range(4,1000001,2):\n",
        "    primes[i] = 0\n",
        "    \n",
        "for i in range(3,1000001,2):\n",
        "    if primes[i]:\n",
        "        for j in range(3*i,1000001,i):\n",
        "            primes[j] = 0\n",
        "\n",
        "T= int(input())\n",
        "for _ in range(T):\n",
        "    N = int(input())\n",
        "    num = 0\n",
        "    if primes[N-2]:\n",
        "        num += 1\n",
        "    for i in range(3,N//2+1,2):\n",
        "        if primes[i]:\n",
        "            if primes[N-i]:\n",
        "                num += 1\n",
        "    print(num)"
      ],
      "metadata": {
        "id": "xk6usRE-86iG",
        "colab": {
          "base_uri": "https://localhost:8080/"
        },
        "outputId": "f2c8ba01-8d87-4a94-8d8e-d300caaaf3dc"
      },
      "execution_count": 1,
      "outputs": [
        {
          "output_type": "stream",
          "name": "stdout",
          "text": [
            "5\n",
            "6\n",
            "1\n",
            "8\n",
            "1\n",
            "10\n",
            "2\n",
            "12\n",
            "1\n",
            "100\n",
            "6\n"
          ]
        }
      ]
    }
  ]
}