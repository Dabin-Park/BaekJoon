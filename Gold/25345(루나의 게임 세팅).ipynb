{
  "cells": [
    {
      "cell_type": "markdown",
      "metadata": {
        "id": "view-in-github",
        "colab_type": "text"
      },
      "source": [
        "<a href=\"https://colab.research.google.com/github/Dabin-Park/BaekJoon/blob/main/Gold/25345(%EB%A3%A8%EB%82%98%EC%9D%98%20%EA%B2%8C%EC%9E%84%20%EC%84%B8%ED%8C%85).ipynb\" target=\"_parent\"><img src=\"https://colab.research.google.com/assets/colab-badge.svg\" alt=\"Open In Colab\"/></a>"
      ]
    },
    {
      "cell_type": "code",
      "source": [
        "def factorial(a,b):\n",
        "    num = 1\n",
        "    while a >=b :\n",
        "        num *= a\n",
        "        a -= 1\n",
        "    return num\n",
        "\n",
        "def combination(n,r):\n",
        "    return factorial(n,n-r+1)//factorial(r,1)\n",
        "\n",
        "N,K = map(int,input().split())\n",
        "Towers = list(map(int,input().split()))\n",
        "if K >= 3:\n",
        "    print((combination(N,K)*4*2**(K-3))%(10**9+7))\n",
        "else:\n",
        "    print((combination(N,K)*K)%(10**9+7))"
      ],
      "metadata": {
        "id": "HBwwya3y6Eyo",
        "outputId": "3b5107f3-4053-4f6c-fc6a-773783dd0957",
        "colab": {
          "base_uri": "https://localhost:8080/"
        }
      },
      "execution_count": 1,
      "outputs": [
        {
          "output_type": "stream",
          "name": "stdout",
          "text": [
            "5 3\n",
            "1 6 7 9 11\n",
            "40\n"
          ]
        }
      ]
    }
  ],
  "metadata": {
    "colab": {
      "name": "25345(루나의 게임 세팅)",
      "provenance": [],
      "collapsed_sections": [],
      "authorship_tag": "ABX9TyMlfG8dTkmXHXfy3Q84pxOT",
      "include_colab_link": true
    },
    "kernelspec": {
      "display_name": "Python 3",
      "name": "python3"
    },
    "language_info": {
      "name": "python"
    }
  },
  "nbformat": 4,
  "nbformat_minor": 0
}