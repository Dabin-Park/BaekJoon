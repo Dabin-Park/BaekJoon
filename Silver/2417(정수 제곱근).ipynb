{
  "nbformat": 4,
  "nbformat_minor": 0,
  "metadata": {
    "colab": {
      "provenance": [],
      "authorship_tag": "ABX9TyPeT8nBM8g4Uk4mIGLh0KH2",
      "include_colab_link": true
    },
    "kernelspec": {
      "name": "python3",
      "display_name": "Python 3"
    },
    "language_info": {
      "name": "python"
    }
  },
  "cells": [
    {
      "cell_type": "markdown",
      "metadata": {
        "id": "view-in-github",
        "colab_type": "text"
      },
      "source": [
        "<a href=\"https://colab.research.google.com/github/Dabin-Park/BaekJoon/blob/main/Silver/2417(%EC%A0%95%EC%88%98%20%EC%A0%9C%EA%B3%B1%EA%B7%BC).ipynb\" target=\"_parent\"><img src=\"https://colab.research.google.com/assets/colab-badge.svg\" alt=\"Open In Colab\"/></a>"
      ]
    },
    {
      "cell_type": "code",
      "source": [
        "def sol(n,num):\n",
        "    if n:\n",
        "        num = int(n**0.5)-1\n",
        "        while num**2 < n:\n",
        "            num += 1\n",
        "    return num\n",
        "            \n",
        "print(sol(int(input()),0))"
      ],
      "metadata": {
        "colab": {
          "base_uri": "https://localhost:8080/"
        },
        "id": "XS0VHQmBaQda",
        "outputId": "8f571706-6f6c-44b0-e777-b8c13ca0f105"
      },
      "execution_count": 1,
      "outputs": [
        {
          "output_type": "stream",
          "name": "stdout",
          "text": [
            "122333444455555\n",
            "11060446\n"
          ]
        }
      ]
    }
  ]
}