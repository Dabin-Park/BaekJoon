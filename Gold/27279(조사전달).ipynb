{
  "nbformat": 4,
  "nbformat_minor": 0,
  "metadata": {
    "colab": {
      "provenance": [],
      "authorship_tag": "ABX9TyPFiVx+tIhtjVp4XX6b3zZs",
      "include_colab_link": true
    },
    "kernelspec": {
      "name": "python3",
      "display_name": "Python 3"
    },
    "language_info": {
      "name": "python"
    }
  },
  "cells": [
    {
      "cell_type": "markdown",
      "metadata": {
        "id": "view-in-github",
        "colab_type": "text"
      },
      "source": [
        "<a href=\"https://colab.research.google.com/github/Dabin-Park/BaekJoon/blob/main/Gold/27279(%EC%A1%B0%EC%82%AC%EC%A0%84%EB%8B%AC).ipynb\" target=\"_parent\"><img src=\"https://colab.research.google.com/assets/colab-badge.svg\" alt=\"Open In Colab\"/></a>"
      ]
    },
    {
      "cell_type": "code",
      "source": [
        "def sol(idx):\n",
        "    N,M = map(int,input().split())\n",
        "    Yes = sorted(list(map(int,input().split())))\n",
        "    Come = sorted(list(map(int,input().split())))\n",
        "    Come2 = []\n",
        "    for i in range(1,M+1):\n",
        "        Come2 += [i]*Come[i-1]\n",
        "    for come in Come2:\n",
        "        while idx < N and come > Yes[idx]:\n",
        "            idx += 1\n",
        "        idx += 1\n",
        "    if idx > N:\n",
        "        return \"NO\"\n",
        "    return \"YES\"\n",
        "       \n",
        "print(sol(0))"
      ],
      "metadata": {
        "colab": {
          "base_uri": "https://localhost:8080/"
        },
        "id": "Wf1zqg3P9ONw",
        "outputId": "c17e3dec-702b-4240-c510-afa139637b43"
      },
      "execution_count": 1,
      "outputs": [
        {
          "output_type": "stream",
          "name": "stdout",
          "text": [
            "5 4\n",
            "1 2 4 3 4\n",
            "1 1 2 1\n",
            "YES\n"
          ]
        }
      ]
    }
  ]
}