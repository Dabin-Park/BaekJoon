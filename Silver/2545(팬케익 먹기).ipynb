{
  "nbformat": 4,
  "nbformat_minor": 0,
  "metadata": {
    "colab": {
      "provenance": [],
      "authorship_tag": "ABX9TyMuNhQbOs0oj9wBmXAyODcf",
      "include_colab_link": true
    },
    "kernelspec": {
      "name": "python3",
      "display_name": "Python 3"
    },
    "language_info": {
      "name": "python"
    }
  },
  "cells": [
    {
      "cell_type": "markdown",
      "metadata": {
        "id": "view-in-github",
        "colab_type": "text"
      },
      "source": [
        "<a href=\"https://colab.research.google.com/github/Dabin-Park/BaekJoon/blob/main/Silver/2545(%ED%8C%AC%EC%BC%80%EC%9D%B5%20%EB%A8%B9%EA%B8%B0).ipynb\" target=\"_parent\"><img src=\"https://colab.research.google.com/assets/colab-badge.svg\" alt=\"Open In Colab\"/></a>"
      ]
    },
    {
      "cell_type": "code",
      "source": [
        "def sol(N):\n",
        "    for _ in range(N):\n",
        "        input()\n",
        "        A,B,C,D = map(int,input().split())\n",
        "        A,B,C = sorted([A,B,C])\n",
        "        S = A+B+C-D\n",
        "        tmp1 = min(S//3,A)\n",
        "        S -= tmp1\n",
        "        tmp2 = min(S//2,B)\n",
        "        print(tmp1*tmp2*(S-tmp2))     \n",
        "        \n",
        "sol(int(input()))   "
      ],
      "metadata": {
        "colab": {
          "base_uri": "https://localhost:8080/"
        },
        "id": "hP4gfGRVQYlr",
        "outputId": "5c0439a1-39be-4e70-cfbb-3fe3861ffa40"
      },
      "execution_count": 1,
      "outputs": [
        {
          "output_type": "stream",
          "name": "stdout",
          "text": [
            "3\n",
            "\n",
            "4 5 6 0\n",
            "120\n",
            "\n",
            "4 5 6 3\n",
            "64\n",
            " \n",
            "1 1 10 9\n",
            "1\n"
          ]
        }
      ]
    }
  ]
}