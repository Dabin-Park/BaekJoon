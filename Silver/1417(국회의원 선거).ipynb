{
  "cells": [
    {
      "cell_type": "markdown",
      "metadata": {
        "id": "view-in-github",
        "colab_type": "text"
      },
      "source": [
        "<a href=\"https://colab.research.google.com/github/Dabin-Park/BaekJoon/blob/main/Silver/1417(%EA%B5%AD%ED%9A%8C%EC%9D%98%EC%9B%90%20%EC%84%A0%EA%B1%B0).ipynb\" target=\"_parent\"><img src=\"https://colab.research.google.com/assets/colab-badge.svg\" alt=\"Open In Colab\"/></a>"
      ]
    },
    {
      "cell_type": "code",
      "source": [
        "N = int(input())\n",
        "A = [int(input()) for _ in range(N)]\n",
        "\n",
        "if N != 1:\n",
        "    num = 0\n",
        "    while True:\n",
        "        k = A[1:].index(max(A[1:]))\n",
        "        if  A[0] <= A[k+1]:\n",
        "            A[0] += 1\n",
        "            A[k+1] -= 1\n",
        "            num += 1\n",
        "        else:\n",
        "            break\n",
        "            \n",
        "    print(num)\n",
        "else:\n",
        "    print(0)"
      ],
      "metadata": {
        "id": "HBwwya3y6Eyo",
        "outputId": "021d15a6-f9de-4b30-ed25-9f1d8f643c63",
        "colab": {
          "base_uri": "https://localhost:8080/"
        }
      },
      "execution_count": 3,
      "outputs": [
        {
          "output_type": "stream",
          "name": "stdout",
          "text": [
            "5\n",
            "5\n",
            "10\n",
            "7\n",
            "3\n",
            "8\n",
            "4\n"
          ]
        }
      ]
    }
  ],
  "metadata": {
    "colab": {
      "name": "1417(국회의원 선거).ipynb",
      "provenance": [],
      "collapsed_sections": [],
      "authorship_tag": "ABX9TyOfwT85xgSCbniAYuwZIR86",
      "include_colab_link": true
    },
    "kernelspec": {
      "display_name": "Python 3",
      "name": "python3"
    },
    "language_info": {
      "name": "python"
    }
  },
  "nbformat": 4,
  "nbformat_minor": 0
}