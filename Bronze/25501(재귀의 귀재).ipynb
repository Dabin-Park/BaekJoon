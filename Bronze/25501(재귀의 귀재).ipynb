{
  "nbformat": 4,
  "nbformat_minor": 0,
  "metadata": {
    "colab": {
      "provenance": [],
      "collapsed_sections": [],
      "authorship_tag": "ABX9TyMmmG47HHHbiu3U7MbZ1ch6",
      "include_colab_link": true
    },
    "kernelspec": {
      "name": "python3",
      "display_name": "Python 3"
    },
    "language_info": {
      "name": "python"
    }
  },
  "cells": [
    {
      "cell_type": "markdown",
      "metadata": {
        "id": "view-in-github",
        "colab_type": "text"
      },
      "source": [
        "<a href=\"https://colab.research.google.com/github/Dabin-Park/BaekJoon/blob/main/Bronze/25501(%EC%9E%AC%EA%B7%80%EC%9D%98%20%EA%B7%80%EC%9E%AC).ipynb\" target=\"_parent\"><img src=\"https://colab.research.google.com/assets/colab-badge.svg\" alt=\"Open In Colab\"/></a>"
      ]
    },
    {
      "cell_type": "code",
      "source": [
        "def recursion(S,l,r,num):\n",
        "    num += 1\n",
        "    if l >= r:\n",
        "        return 1, num\n",
        "    elif S[l] != S[r]:\n",
        "        return 0, num\n",
        "    return recursion(S, l+1, r-1,num)\n",
        "        \n",
        "\n",
        "def isPalindrome(s,num):\n",
        "    return recursion(s,0,len(s)-1,num)\n",
        "\n",
        "\n",
        "for _ in range(int(input())):\n",
        "    a,b = isPalindrome(input(),0)\n",
        "    print(a,b)"
      ],
      "metadata": {
        "id": "ZFrLikbd4n2z",
        "outputId": "e4a1a813-b1ba-472e-d3b4-48d4b5ae6f38",
        "colab": {
          "base_uri": "https://localhost:8080/"
        }
      },
      "execution_count": 1,
      "outputs": [
        {
          "output_type": "stream",
          "name": "stdout",
          "text": [
            "5\n",
            "AAA\n",
            "1 2\n",
            "ABBA\n",
            "1 3\n",
            "ABABA\n",
            "1 3\n",
            "ABCA\n",
            "0 2\n",
            "PALINDROME\n",
            "0 1\n"
          ]
        }
      ]
    }
  ]
}