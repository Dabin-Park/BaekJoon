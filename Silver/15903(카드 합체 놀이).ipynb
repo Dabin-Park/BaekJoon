{
  "nbformat": 4,
  "nbformat_minor": 0,
  "metadata": {
    "colab": {
      "provenance": [],
      "authorship_tag": "ABX9TyM68W55CM6FAhNhQnMZADYH",
      "include_colab_link": true
    },
    "kernelspec": {
      "name": "python3",
      "display_name": "Python 3"
    },
    "language_info": {
      "name": "python"
    }
  },
  "cells": [
    {
      "cell_type": "markdown",
      "metadata": {
        "id": "view-in-github",
        "colab_type": "text"
      },
      "source": [
        "<a href=\"https://colab.research.google.com/github/Dabin-Park/BaekJoon/blob/main/Silver/15903(%EC%B9%B4%EB%93%9C%20%ED%95%A9%EC%B2%B4%20%EB%86%80%EC%9D%B4).ipynb\" target=\"_parent\"><img src=\"https://colab.research.google.com/assets/colab-badge.svg\" alt=\"Open In Colab\"/></a>"
      ]
    },
    {
      "cell_type": "code",
      "source": [
        "def sol():\n",
        "    n,m = map(int,input().split()) \n",
        "    Cards = sorted(list(map(int,input().split())))\n",
        "    for _ in range(m):\n",
        "        Cards[0] = Cards[1] =  Cards[0] + Cards[1]\n",
        "        Cards.sort()\n",
        "    return sum(Cards)\n",
        "\n",
        "print(sol())"
      ],
      "metadata": {
        "colab": {
          "base_uri": "https://localhost:8080/"
        },
        "id": "tMhh6AscRdfh",
        "outputId": "1d2c750d-0735-4037-d7c5-09ed56f7f31c"
      },
      "execution_count": 1,
      "outputs": [
        {
          "output_type": "stream",
          "name": "stdout",
          "text": [
            "3 1\n",
            "3 2 6\n",
            "16\n"
          ]
        }
      ]
    },
    {
      "cell_type": "code",
      "source": [
        "from heapq import *\n",
        "\n",
        "def sol():\n",
        "    _,m = map(int,input().split()) \n",
        "    Cards = list(map(int,input().split()))\n",
        "    \n",
        "    heapify(Cards)\n",
        "    for _ in range(m):\n",
        "        a,b = heappop(Cards),heappop(Cards)\n",
        "        c = a+b\n",
        "        heappush(Cards,c)\n",
        "        heappush(Cards,c)\n",
        "    return sum(Cards)\n",
        "\n",
        "print(sol())"
      ],
      "metadata": {
        "colab": {
          "base_uri": "https://localhost:8080/"
        },
        "id": "BYNtq_Ywoefu",
        "outputId": "4c930b5a-a21e-4dcc-9a26-5b7b6d901970"
      },
      "execution_count": 2,
      "outputs": [
        {
          "output_type": "stream",
          "name": "stdout",
          "text": [
            "3 1\n",
            "3 2 6\n",
            "16\n"
          ]
        }
      ]
    }
  ]
}