{
  "nbformat": 4,
  "nbformat_minor": 0,
  "metadata": {
    "colab": {
      "name": "10815(숫자 카드).ipynb",
      "provenance": [],
      "authorship_tag": "ABX9TyPCzGC17dLrwiegMX+Zcr7c",
      "include_colab_link": true
    },
    "kernelspec": {
      "name": "python3",
      "display_name": "Python 3"
    },
    "language_info": {
      "name": "python"
    }
  },
  "cells": [
    {
      "cell_type": "markdown",
      "metadata": {
        "id": "view-in-github",
        "colab_type": "text"
      },
      "source": [
        "<a href=\"https://colab.research.google.com/github/Dabin-Park/BaekJoon/blob/main/Silver/10815(%EC%88%AB%EC%9E%90%20%EC%B9%B4%EB%93%9C).ipynb\" target=\"_parent\"><img src=\"https://colab.research.google.com/assets/colab-badge.svg\" alt=\"Open In Colab\"/></a>"
      ]
    },
    {
      "cell_type": "code",
      "source": [
        "_ = int(input())\n",
        "Have = set(map(int,input().split()))\n",
        "_ = int(input())\n",
        "Find = list(map(int,input().split()))\n",
        "\n",
        "for find in Find:\n",
        "    if find in Have:\n",
        "        print(1, end = ' ')\n",
        "    else:\n",
        "        print(0,end = ' ')"
      ],
      "metadata": {
        "colab": {
          "base_uri": "https://localhost:8080/"
        },
        "id": "4NDvOBDhbpRD",
        "outputId": "c3eae6d2-7765-48ca-af17-7be5d6d875d7"
      },
      "execution_count": 1,
      "outputs": [
        {
          "output_type": "stream",
          "name": "stdout",
          "text": [
            "5\n",
            "6 3 2 10 -10\n",
            "8\n",
            "10 9 -5 2 3 4 5 -10\n",
            "1 0 0 1 1 0 0 1 "
          ]
        }
      ]
    }
  ]
}