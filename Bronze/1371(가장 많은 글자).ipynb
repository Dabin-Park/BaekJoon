{
  "nbformat": 4,
  "nbformat_minor": 0,
  "metadata": {
    "colab": {
      "provenance": [],
      "collapsed_sections": [],
      "authorship_tag": "ABX9TyPQePZDNNchJ7gYgdUPPKRV",
      "include_colab_link": true
    },
    "kernelspec": {
      "name": "python3",
      "display_name": "Python 3"
    },
    "language_info": {
      "name": "python"
    }
  },
  "cells": [
    {
      "cell_type": "markdown",
      "metadata": {
        "id": "view-in-github",
        "colab_type": "text"
      },
      "source": [
        "<a href=\"https://colab.research.google.com/github/Dabin-Park/BaekJoon/blob/main/Bronze/1371(%EA%B0%80%EC%9E%A5%20%EB%A7%8E%EC%9D%80%20%EA%B8%80%EC%9E%90).ipynb\" target=\"_parent\"><img src=\"https://colab.research.google.com/assets/colab-badge.svg\" alt=\"Open In Colab\"/></a>"
      ]
    },
    {
      "cell_type": "code",
      "source": [
        "English = {}\n",
        "\n",
        "for _ in range(50):\n",
        "    S = list(input().rstrip())\n",
        "    if S:\n",
        "        for s in S:\n",
        "            if s != \" \":\n",
        "                if s in English:\n",
        "                    English[s] += 1\n",
        "                else:\n",
        "                    English[s] = 1\n",
        "    else:\n",
        "        break\n",
        "m = 0 \n",
        "sol = []\n",
        "for e in English:\n",
        "    if English[e] > m:\n",
        "        m = English[e]\n",
        "        sol = [e]\n",
        "    elif English[e] == m:\n",
        "        sol.append(e)\n",
        "\n",
        "sol.sort(key = str)\n",
        "\n",
        "print(\"\".join(sol))"
      ],
      "metadata": {
        "colab": {
          "base_uri": "https://localhost:8080/"
        },
        "id": "FkOjEsTjVrUB",
        "outputId": "abf0de67-ff1b-4b5d-d350-654abdef8afe"
      },
      "execution_count": 2,
      "outputs": [
        {
          "output_type": "stream",
          "name": "stdout",
          "text": [
            "baekjoon online judge\n",
            "\n",
            "eno\n"
          ]
        }
      ]
    }
  ]
}