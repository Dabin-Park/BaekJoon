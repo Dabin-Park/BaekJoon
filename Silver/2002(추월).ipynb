{
  "nbformat": 4,
  "nbformat_minor": 0,
  "metadata": {
    "colab": {
      "provenance": [],
      "collapsed_sections": [],
      "authorship_tag": "ABX9TyMgNo0245r8QoDSgeAy9wLZ",
      "include_colab_link": true
    },
    "kernelspec": {
      "name": "python3",
      "display_name": "Python 3"
    },
    "language_info": {
      "name": "python"
    }
  },
  "cells": [
    {
      "cell_type": "markdown",
      "metadata": {
        "id": "view-in-github",
        "colab_type": "text"
      },
      "source": [
        "<a href=\"https://colab.research.google.com/github/Dabin-Park/BaekJoon/blob/main/Silver/2002(%EC%B6%94%EC%9B%94).ipynb\" target=\"_parent\"><img src=\"https://colab.research.google.com/assets/colab-badge.svg\" alt=\"Open In Colab\"/></a>"
      ]
    },
    {
      "cell_type": "code",
      "source": [
        "def sol(N):\n",
        "    In = {input().rstrip() : i for i in range(N)}\n",
        "    Number = [0]*N\n",
        "    i = num = 0\n",
        "    for out in [input().rstrip() for _ in range(N)]:\n",
        "        while Number[i]:\n",
        "            i += 1\n",
        "            \n",
        "        idx = In[out]\n",
        "        if idx > i:\n",
        "            num += 1\n",
        "        else:\n",
        "            i += 1 \n",
        "        Number[idx] = 1\n",
        "    return num\n",
        "\n",
        "print(sol(int(input())))"
      ],
      "metadata": {
        "id": "k7eFI1eAZZ1Z",
        "outputId": "42b5ca28-443b-424a-a2e4-7aa1aa07eabb",
        "colab": {
          "base_uri": "https://localhost:8080/"
        }
      },
      "execution_count": 2,
      "outputs": [
        {
          "output_type": "stream",
          "name": "stdout",
          "text": [
            "4\n",
            "ZG431SN\n",
            "ZG5080K\n",
            "ST123D\n",
            "ZG206A\n",
            "ZG206A\n",
            "ZG431SN\n",
            "ZG5080K\n",
            "ST123D\n",
            "1\n"
          ]
        }
      ]
    }
  ]
}