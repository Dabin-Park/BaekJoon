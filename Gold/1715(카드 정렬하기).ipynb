{
  "nbformat": 4,
  "nbformat_minor": 0,
  "metadata": {
    "colab": {
      "name": "1715(카드 정렬하기).ipynb",
      "provenance": [],
      "authorship_tag": "ABX9TyMjDA78sntsTj7B8HPKGUBl",
      "include_colab_link": true
    },
    "kernelspec": {
      "name": "python3",
      "display_name": "Python 3"
    },
    "language_info": {
      "name": "python"
    }
  },
  "cells": [
    {
      "cell_type": "markdown",
      "metadata": {
        "id": "view-in-github",
        "colab_type": "text"
      },
      "source": [
        "<a href=\"https://colab.research.google.com/github/Dabin-Park/BaekJoon/blob/main/Gold/1715(%EC%B9%B4%EB%93%9C%20%EC%A0%95%EB%A0%AC%ED%95%98%EA%B8%B0).ipynb\" target=\"_parent\"><img src=\"https://colab.research.google.com/assets/colab-badge.svg\" alt=\"Open In Colab\"/></a>"
      ]
    },
    {
      "cell_type": "code",
      "source": [
        "import heapq\n",
        "\n",
        "heap = []\n",
        "for _ in range(int(input())):\n",
        "    heapq.heappush(heap,int(input()))\n",
        "    \n",
        "num = 0    \n",
        "while len(heap) > 1:\n",
        "    n = heapq.heappop(heap) + heapq.heappop(heap)\n",
        "    num += n\n",
        "    heapq.heappush(heap,n)\n",
        "\n",
        "print(num)"
      ],
      "metadata": {
        "id": "CGdbDyPnpFQk",
        "outputId": "d48fa383-9a4e-4f25-b114-c5b1e6ee8cf7",
        "colab": {
          "base_uri": "https://localhost:8080/"
        }
      },
      "execution_count": 2,
      "outputs": [
        {
          "output_type": "stream",
          "name": "stdout",
          "text": [
            "3\n",
            "10\n",
            "20\n",
            "40\n",
            "100\n"
          ]
        }
      ]
    },
    {
      "cell_type": "code",
      "source": [
        "from heapq import heapify, heappush, heappop\n",
        "\n",
        "N = int(input())\n",
        "Cards = [int(input()) for _ in range(N)]\n",
        "heapify(Cards)\n",
        "\n",
        "num = 0    \n",
        "for _ in range(N -1):\n",
        "    n = heappop(Cards) + heappop(Cards)\n",
        "    num += n\n",
        "    heappush(Cards,n)\n",
        "\n",
        "print(num)"
      ],
      "metadata": {
        "colab": {
          "base_uri": "https://localhost:8080/"
        },
        "id": "dEVchN1V-XLP",
        "outputId": "4b043ff9-de2a-4755-a667-e862d7f74ca9"
      },
      "execution_count": 3,
      "outputs": [
        {
          "output_type": "stream",
          "name": "stdout",
          "text": [
            "3\n",
            "10\n",
            "20\n",
            "40\n",
            "100\n"
          ]
        }
      ]
    }
  ]
}