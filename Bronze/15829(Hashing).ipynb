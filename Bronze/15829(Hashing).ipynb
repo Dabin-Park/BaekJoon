{
  "nbformat": 4,
  "nbformat_minor": 0,
  "metadata": {
    "colab": {
      "name": "15829(Hashing).ipynb",
      "provenance": [],
      "authorship_tag": "ABX9TyPPx6Y0lnzR5IP5zE8UpwDf",
      "include_colab_link": true
    },
    "kernelspec": {
      "name": "python3",
      "display_name": "Python 3"
    },
    "language_info": {
      "name": "python"
    }
  },
  "cells": [
    {
      "cell_type": "markdown",
      "metadata": {
        "id": "view-in-github",
        "colab_type": "text"
      },
      "source": [
        "<a href=\"https://colab.research.google.com/github/Dabin-Park/BaekJoon/blob/main/Bronze/15829(Hashing).ipynb\" target=\"_parent\"><img src=\"https://colab.research.google.com/assets/colab-badge.svg\" alt=\"Open In Colab\"/></a>"
      ]
    },
    {
      "cell_type": "code",
      "source": [
        "L = int(input())\n",
        "Alpha = input()\n",
        "num = 0\n",
        "Alphabet = {chr(i):i-96 for i in range(97,123)}\n",
        "for alpha in Alpha[::-1]:\n",
        "    num *= 31\n",
        "    num += Alphabet[alpha]\n",
        "    \n",
        "print(num%1234567891)"
      ],
      "metadata": {
        "id": "xk6usRE-86iG",
        "colab": {
          "base_uri": "https://localhost:8080/"
        },
        "outputId": "ba490ad5-aeba-429f-fdbe-af740e3423b2"
      },
      "execution_count": 2,
      "outputs": [
        {
          "output_type": "stream",
          "name": "stdout",
          "text": [
            "5\n",
            "abcde\n",
            "4739715\n"
          ]
        }
      ]
    },
    {
      "cell_type": "code",
      "source": [
        "L = int(input())\n",
        "Alpha = input()\n",
        "num = 0\n",
        "for i,alpha in enumerate(Alpha):\n",
        "    num += (ord(alpha)-96)*31**i\n",
        "\n",
        "print(num%1234567891)"
      ],
      "metadata": {
        "colab": {
          "base_uri": "https://localhost:8080/"
        },
        "id": "O5ZS_OXLL-x1",
        "outputId": "2c38d6f3-d821-4c6a-e1ce-2c393828e8c3"
      },
      "execution_count": 3,
      "outputs": [
        {
          "output_type": "stream",
          "name": "stdout",
          "text": [
            "5\n",
            "abcde\n",
            "4739715\n"
          ]
        }
      ]
    }
  ]
}