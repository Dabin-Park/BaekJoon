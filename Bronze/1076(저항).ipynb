{
  "nbformat": 4,
  "nbformat_minor": 0,
  "metadata": {
    "colab": {
      "name": "1076(저항).ipynb",
      "provenance": [],
      "authorship_tag": "ABX9TyNE1YU5+EkQHDZl7DzmXAXn",
      "include_colab_link": true
    },
    "kernelspec": {
      "name": "python3",
      "display_name": "Python 3"
    },
    "language_info": {
      "name": "python"
    }
  },
  "cells": [
    {
      "cell_type": "markdown",
      "metadata": {
        "id": "view-in-github",
        "colab_type": "text"
      },
      "source": [
        "<a href=\"https://colab.research.google.com/github/Dabin-Park/BaekJoon/blob/main/Bronze/1076(%EC%A0%80%ED%95%AD).ipynb\" target=\"_parent\"><img src=\"https://colab.research.google.com/assets/colab-badge.svg\" alt=\"Open In Colab\"/></a>"
      ]
    },
    {
      "cell_type": "code",
      "source": [
        "num = \"\"\n",
        "for i in range(3):\n",
        "    n = input()\n",
        "    if n[0] == 'b':\n",
        "        if n[1] == 'l':\n",
        "            if n[2] == 'a':\n",
        "                if i != 2:\n",
        "                    num += '0'\n",
        "            else:\n",
        "                if i != 2:\n",
        "                    num += '6'\n",
        "                else:\n",
        "                    num += '000000'\n",
        "        else:\n",
        "            if i != 2:\n",
        "                num += '1'\n",
        "            else:\n",
        "                num += '0'\n",
        "    elif n[0] == 'r':\n",
        "        if i!= 2:\n",
        "            num += '2'\n",
        "        else:\n",
        "            num += '00'\n",
        "    elif n[0] == 'o':\n",
        "        if i != 2:\n",
        "            num += '3'\n",
        "        else:\n",
        "            num += '000'\n",
        "    elif n[0] == 'y':\n",
        "        if i != 2:\n",
        "            num += '4'\n",
        "        else:\n",
        "            num += '0000'\n",
        "    elif n[0] == 'g':\n",
        "        if n[3] == 'e':\n",
        "            if i != 2:\n",
        "                num += '5'\n",
        "            else:\n",
        "                num += '00000'\n",
        "        else:\n",
        "            if i != 2:\n",
        "                num += '8'\n",
        "            else:\n",
        "                num += '00000000'\n",
        "    elif n[0] == 'v':\n",
        "        if i != 2:\n",
        "            num += '7'\n",
        "        else:\n",
        "            num += '0000000'\n",
        "    else:\n",
        "        if i != 2:\n",
        "            num += '9'\n",
        "        else:\n",
        "            num += '000000000'\n",
        "\n",
        "print(int(num))"
      ],
      "metadata": {
        "id": "ZFrLikbd4n2z",
        "outputId": "444378ea-65f3-4bc7-97f7-4be845278276",
        "colab": {
          "base_uri": "https://localhost:8080/"
        }
      },
      "execution_count": 5,
      "outputs": [
        {
          "output_type": "stream",
          "name": "stdout",
          "text": [
            "white\n",
            "white\n",
            "white\n",
            "99000000000\n"
          ]
        }
      ]
    }
  ]
}