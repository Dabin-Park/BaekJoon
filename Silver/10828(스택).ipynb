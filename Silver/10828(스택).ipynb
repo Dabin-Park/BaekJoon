{
  "nbformat": 4,
  "nbformat_minor": 0,
  "metadata": {
    "colab": {
      "name": "10828(스택).ipynb",
      "provenance": [],
      "authorship_tag": "ABX9TyM6NwnC+00lzNCwBeRd/rip",
      "include_colab_link": true
    },
    "kernelspec": {
      "name": "python3",
      "display_name": "Python 3"
    },
    "language_info": {
      "name": "python"
    }
  },
  "cells": [
    {
      "cell_type": "markdown",
      "metadata": {
        "id": "view-in-github",
        "colab_type": "text"
      },
      "source": [
        "<a href=\"https://colab.research.google.com/github/Dabin-Park/BaekJoon/blob/main/Silver/10828(%EC%8A%A4%ED%83%9D).ipynb\" target=\"_parent\"><img src=\"https://colab.research.google.com/assets/colab-badge.svg\" alt=\"Open In Colab\"/></a>"
      ]
    },
    {
      "cell_type": "code",
      "source": [
        "N = int(input())\n",
        "List = []\n",
        "num = 0\n",
        "for _ in range(N):\n",
        "    x = input().split()\n",
        "    if x[0] == 'push':\n",
        "        List.append(x[1])\n",
        "        num += 1\n",
        "    elif x[0] == 'pop':\n",
        "        if List:\n",
        "            print(List[-1])\n",
        "            List.pop()\n",
        "            num -= 1\n",
        "        else:\n",
        "            print(-1)\n",
        "    elif x[0] == 'size':\n",
        "        print(num)\n",
        "    elif x[0] == 'empty':\n",
        "        if List:\n",
        "            print(0)\n",
        "        else:\n",
        "            print(1)\n",
        "    else:\n",
        "        if List:\n",
        "            print(List[-1])\n",
        "        else:\n",
        "            print(-1)"
      ],
      "metadata": {
        "id": "xk6usRE-86iG",
        "colab": {
          "base_uri": "https://localhost:8080/"
        },
        "outputId": "028d1046-8162-476f-d61b-fd3d30dd781f"
      },
      "execution_count": 1,
      "outputs": [
        {
          "output_type": "stream",
          "name": "stdout",
          "text": [
            "14\n",
            "push 1\n",
            "push 2\n",
            "top\n",
            "2\n",
            "size\n",
            "2\n",
            "empty\n",
            "0\n",
            "pop\n",
            "2\n",
            "pop\n",
            "1\n",
            "pop\n",
            "-1\n",
            "size\n",
            "0\n",
            "empty\n",
            "1\n",
            "pop\n",
            "-1\n",
            "push 3\n",
            "empty\n",
            "0\n",
            "top\n",
            "3\n"
          ]
        }
      ]
    }
  ]
}