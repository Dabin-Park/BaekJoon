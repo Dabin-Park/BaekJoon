{
  "nbformat": 4,
  "nbformat_minor": 0,
  "metadata": {
    "colab": {
      "provenance": [],
      "collapsed_sections": [],
      "authorship_tag": "ABX9TyMU7kjCd+7rsIQzASVQMPIm",
      "include_colab_link": true
    },
    "kernelspec": {
      "name": "python3",
      "display_name": "Python 3"
    },
    "language_info": {
      "name": "python"
    }
  },
  "cells": [
    {
      "cell_type": "markdown",
      "metadata": {
        "id": "view-in-github",
        "colab_type": "text"
      },
      "source": [
        "<a href=\"https://colab.research.google.com/github/Dabin-Park/BaekJoon/blob/main/Gold/11000(%EA%B0%95%EC%9D%98%EC%8B%A4%20%EB%B0%B0%EC%A0%95).ipynb\" target=\"_parent\"><img src=\"https://colab.research.google.com/assets/colab-badge.svg\" alt=\"Open In Colab\"/></a>"
      ]
    },
    {
      "cell_type": "code",
      "source": [
        "import heapq\n",
        "\n",
        "def sol():\n",
        "    N = int(input())\n",
        "    Class = [list(map(int,input().split())) for _ in range(N)]\n",
        "    Class.sort()\n",
        "    heap = []\n",
        "    heapq.heappush(heap,Class[0][1]) \n",
        "\n",
        "    for i in range(1,N):\n",
        "        if heap[0] <= Class[i][0]:\n",
        "            heapq.heappop(heap)\n",
        "        \n",
        "        heapq.heappush(heap, Class[i][1])\n",
        "    return len(heap)\n",
        "\n",
        "print(sol())"
      ],
      "metadata": {
        "id": "ZFrLikbd4n2z",
        "outputId": "a18b1182-e3ce-4132-b4df-93c2abd7a569",
        "colab": {
          "base_uri": "https://localhost:8080/"
        }
      },
      "execution_count": 2,
      "outputs": [
        {
          "output_type": "stream",
          "name": "stdout",
          "text": [
            "3\n",
            "1 3\n",
            "2 4\n",
            "3 5\n",
            "2\n"
          ]
        }
      ]
    }
  ]
}