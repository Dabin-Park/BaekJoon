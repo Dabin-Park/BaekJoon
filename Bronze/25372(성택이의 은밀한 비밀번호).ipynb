{
  "nbformat": 4,
  "nbformat_minor": 0,
  "metadata": {
    "colab": {
      "provenance": [],
      "authorship_tag": "ABX9TyO1KgVxwfAV6j9wQHr5CvcU",
      "include_colab_link": true
    },
    "kernelspec": {
      "name": "python3",
      "display_name": "Python 3"
    },
    "language_info": {
      "name": "python"
    }
  },
  "cells": [
    {
      "cell_type": "markdown",
      "metadata": {
        "id": "view-in-github",
        "colab_type": "text"
      },
      "source": [
        "<a href=\"https://colab.research.google.com/github/Dabin-Park/BaekJoon/blob/main/Bronze/25372(%EC%84%B1%ED%83%9D%EC%9D%B4%EC%9D%98%20%EC%9D%80%EB%B0%80%ED%95%9C%20%EB%B9%84%EB%B0%80%EB%B2%88%ED%98%B8).ipynb\" target=\"_parent\"><img src=\"https://colab.research.google.com/assets/colab-badge.svg\" alt=\"Open In Colab\"/></a>"
      ]
    },
    {
      "cell_type": "code",
      "source": [
        "def sol(N):\n",
        "    for _ in range(N):\n",
        "        if 6 <= len(input().rstrip()) <= 9:\n",
        "            print(\"yes\")\n",
        "        else:\n",
        "            print(\"no\")\n",
        "\n",
        "sol(int(input()))"
      ],
      "metadata": {
        "colab": {
          "base_uri": "https://localhost:8080/"
        },
        "id": "-n7Jl3MFSbU9",
        "outputId": "69348984-bdab-42ae-f67d-383670d28b47"
      },
      "execution_count": 1,
      "outputs": [
        {
          "output_type": "stream",
          "name": "stdout",
          "text": [
            "3\n",
            "1245125\n",
            "yes\n",
            "asdij\n",
            "no\n",
            "120318739721\n",
            "no\n"
          ]
        }
      ]
    }
  ]
}