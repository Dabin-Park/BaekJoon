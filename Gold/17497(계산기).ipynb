{
  "nbformat": 4,
  "nbformat_minor": 0,
  "metadata": {
    "colab": {
      "provenance": [],
      "authorship_tag": "ABX9TyOWnY1p4pSRSULclSIEug4R",
      "include_colab_link": true
    },
    "kernelspec": {
      "name": "python3",
      "display_name": "Python 3"
    },
    "language_info": {
      "name": "python"
    }
  },
  "cells": [
    {
      "cell_type": "markdown",
      "metadata": {
        "id": "view-in-github",
        "colab_type": "text"
      },
      "source": [
        "<a href=\"https://colab.research.google.com/github/Dabin-Park/BaekJoon/blob/main/Gold/17497(%EA%B3%84%EC%82%B0%EA%B8%B0).ipynb\" target=\"_parent\"><img src=\"https://colab.research.google.com/assets/colab-badge.svg\" alt=\"Open In Colab\"/></a>"
      ]
    },
    {
      "cell_type": "code",
      "source": [
        "def sol(N, Re):\n",
        "    while N:\n",
        "        if N%2:\n",
        "            Re.append(\"[/]\")\n",
        "            N *= 2\n",
        "        elif N%4:\n",
        "            Re.append(\"[+]\")\n",
        "            N -= 2\n",
        "        else:\n",
        "            Re.append(\"[*]\")\n",
        "            N //= 2\n",
        "            \n",
        "    print(len(Re))\n",
        "    print(\" \".join(Re[::-1]))\n",
        "\n",
        "sol(int(input()),[])"
      ],
      "metadata": {
        "colab": {
          "base_uri": "https://localhost:8080/"
        },
        "id": "e30J77TxSoAj",
        "outputId": "750dd8e3-1e25-4f9a-c32f-2626f0e0a234"
      },
      "execution_count": 3,
      "outputs": [
        {
          "output_type": "stream",
          "name": "stdout",
          "text": [
            "14\n",
            "5\n",
            "[+] [*] [+] [*] [+]\n"
          ]
        }
      ]
    }
  ]
}