{
  "nbformat": 4,
  "nbformat_minor": 0,
  "metadata": {
    "colab": {
      "provenance": [],
      "collapsed_sections": [],
      "authorship_tag": "ABX9TyOpzcLnJFLop4WDJQl3dBTX",
      "include_colab_link": true
    },
    "kernelspec": {
      "name": "python3",
      "display_name": "Python 3"
    },
    "language_info": {
      "name": "python"
    }
  },
  "cells": [
    {
      "cell_type": "markdown",
      "metadata": {
        "id": "view-in-github",
        "colab_type": "text"
      },
      "source": [
        "<a href=\"https://colab.research.google.com/github/Dabin-Park/BaekJoon/blob/main/Gold/11003(%EC%B5%9C%EC%86%9F%EA%B0%92%20%EC%B0%BE%EA%B8%B0).ipynb\" target=\"_parent\"><img src=\"https://colab.research.google.com/assets/colab-badge.svg\" alt=\"Open In Colab\"/></a>"
      ]
    },
    {
      "cell_type": "code",
      "source": [
        "from collections import deque\n",
        "\n",
        "N, L = map(int, input().split())\n",
        "A = list(map(int, input().split()))\n",
        "\n",
        "ans_d = deque()\n",
        "ans = []\n",
        "for i in range(N):\n",
        "    v = A[i]\n",
        "    while ans_d and ans_d[-1][0] >= v:\n",
        "        ans_d.pop()\n",
        "    ans_d.append((v, i))\n",
        "    while ans_d[0][1] < (i-L+1):\n",
        "        ans_d.popleft()\n",
        "    ans.append(ans_d[0][0])\n",
        "print(*ans)"
      ],
      "metadata": {
        "id": "k7eFI1eAZZ1Z",
        "outputId": "47d8e50a-f1d3-4d71-9a5d-7bfaf4ebbe02",
        "colab": {
          "base_uri": "https://localhost:8080/"
        }
      },
      "execution_count": 1,
      "outputs": [
        {
          "output_type": "stream",
          "name": "stdout",
          "text": [
            "12 3\n",
            "1 5 2 3 6 2 3 7 3 5 2 6\n",
            "1 1 1 2 2 2 2 2 3 3 2 2\n"
          ]
        }
      ]
    }
  ]
}