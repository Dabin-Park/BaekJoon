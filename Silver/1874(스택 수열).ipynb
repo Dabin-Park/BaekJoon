{
  "nbformat": 4,
  "nbformat_minor": 0,
  "metadata": {
    "colab": {
      "name": "1874(스택 수열).ipynb",
      "provenance": [],
      "authorship_tag": "ABX9TyPj1wnx8rTJKHEGLAki5IJP",
      "include_colab_link": true
    },
    "kernelspec": {
      "name": "python3",
      "display_name": "Python 3"
    },
    "language_info": {
      "name": "python"
    }
  },
  "cells": [
    {
      "cell_type": "markdown",
      "metadata": {
        "id": "view-in-github",
        "colab_type": "text"
      },
      "source": [
        "<a href=\"https://colab.research.google.com/github/Dabin-Park/BaekJoon/blob/main/Silver/1874(%EC%8A%A4%ED%83%9D%20%EC%88%98%EC%97%B4).ipynb\" target=\"_parent\"><img src=\"https://colab.research.google.com/assets/colab-badge.svg\" alt=\"Open In Colab\"/></a>"
      ]
    },
    {
      "cell_type": "code",
      "execution_count": 1,
      "metadata": {
        "colab": {
          "base_uri": "https://localhost:8080/"
        },
        "id": "dT6CvtQPNnKQ",
        "outputId": "04debc75-3152-48b5-d057-46ffb9916749"
      },
      "outputs": [
        {
          "output_type": "stream",
          "name": "stdout",
          "text": [
            "8\n",
            "4\n",
            "3\n",
            "6\n",
            "8\n",
            "7\n",
            "5\n",
            "2\n",
            "1\n",
            "+\n",
            "+\n",
            "+\n",
            "+\n",
            "-\n",
            "-\n",
            "+\n",
            "+\n",
            "-\n",
            "+\n",
            "+\n",
            "-\n",
            "-\n",
            "-\n",
            "-\n",
            "-\n"
          ]
        }
      ],
      "source": [
        "N = int(input())\n",
        "Sequnce = [int(input()) for _ in range(N)]\n",
        "j,i = 0,1\n",
        "Sequnce2 = []\n",
        "Sign = []\n",
        "t = 0\n",
        "while True:\n",
        "    if i < Sequnce[j]:\n",
        "        Sequnce2.append(i)\n",
        "        Sign.append(\"+\")\n",
        "        i += 1\n",
        "    elif i == Sequnce[j]:\n",
        "        Sign.append(\"+\")\n",
        "        Sign.append(\"-\")\n",
        "        j += 1\n",
        "        n = 0\n",
        "        while True:\n",
        "            if Sequnce2 != [] :\n",
        "                if Sequnce2[-1] == Sequnce[j]:\n",
        "                    Sequnce2.pop()\n",
        "                    Sign.append(\"-\")\n",
        "                    j += 1\n",
        "                    i -= 1\n",
        "                    n += 1\n",
        "                elif Sequnce2[-1] > Sequnce[j]:\n",
        "                    t = 1\n",
        "                    break\n",
        "                else:\n",
        "                    break\n",
        "            else:\n",
        "                break\n",
        "        i += n+1\n",
        "    if t:\n",
        "        break\n",
        "    if i > N and Sequnce2 == []:\n",
        "        break\n",
        "\n",
        "if t:\n",
        "    print(\"NO\")\n",
        "else:\n",
        "    for a in Sign:\n",
        "        print(a)"
      ]
    },
    {
      "cell_type": "code",
      "source": [
        "N = int(input())\n",
        "Sequnce = [int(input()) for _ in range(N)]\n",
        "i = 1\n",
        "Sequnce2 = []\n",
        "Sign = []\n",
        "t = 0\n",
        "for num in Sequnce:\n",
        "    while i <= num:\n",
        "        Sequnce2.append(i)\n",
        "        Sign.append(\"+\")\n",
        "        i += 1\n",
        "    if Sequnce2[-1] != num:\n",
        "        t = 1\n",
        "        break\n",
        "    Sequnce2.pop()\n",
        "    Sign.append(\"-\")\n",
        "    \n",
        "if t:\n",
        "    print(\"NO\")\n",
        "else:\n",
        "    for a in Sign:\n",
        "        print(a)"
      ],
      "metadata": {
        "colab": {
          "base_uri": "https://localhost:8080/"
        },
        "id": "jQeXflxMo4jz",
        "outputId": "8231754b-93c1-4463-c790-8da48ac8af8b"
      },
      "execution_count": 2,
      "outputs": [
        {
          "output_type": "stream",
          "name": "stdout",
          "text": [
            "8\n",
            "4\n",
            "3\n",
            "6\n",
            "8\n",
            "7\n",
            "5\n",
            "2\n",
            "1\n",
            "+\n",
            "+\n",
            "+\n",
            "+\n",
            "-\n",
            "-\n",
            "+\n",
            "+\n",
            "-\n",
            "+\n",
            "+\n",
            "-\n",
            "-\n",
            "-\n",
            "-\n",
            "-\n"
          ]
        }
      ]
    }
  ]
}