{
  "nbformat": 4,
  "nbformat_minor": 0,
  "metadata": {
    "colab": {
      "provenance": [],
      "collapsed_sections": [],
      "authorship_tag": "ABX9TyOMMfqPqFTidQlCzB40tg/z",
      "include_colab_link": true
    },
    "kernelspec": {
      "name": "python3",
      "display_name": "Python 3"
    },
    "language_info": {
      "name": "python"
    }
  },
  "cells": [
    {
      "cell_type": "markdown",
      "metadata": {
        "id": "view-in-github",
        "colab_type": "text"
      },
      "source": [
        "<a href=\"https://colab.research.google.com/github/Dabin-Park/BaekJoon/blob/main/Gold/9251(LCS).ipynb\" target=\"_parent\"><img src=\"https://colab.research.google.com/assets/colab-badge.svg\" alt=\"Open In Colab\"/></a>"
      ]
    },
    {
      "cell_type": "markdown",
      "source": [
        "* LCS\n",
        "    - https://velog.io/@emplam27/%EC%95%8C%EA%B3%A0%EB%A6%AC%EC%A6%98-%EA%B7%B8%EB%A6%BC%EC%9C%BC%EB%A1%9C-%EC%95%8C%EC%95%84%EB%B3%B4%EB%8A%94-LCS-%EC%95%8C%EA%B3%A0%EB%A6%AC%EC%A6%98-Longest-Common-Substring%EC%99%80-Longest-Common-Subsequence"
      ],
      "metadata": {
        "id": "rYFkT6WFAA75"
      }
    },
    {
      "cell_type": "code",
      "source": [
        "A,B = \" \"+input(), \" \"+input()\n",
        "\n",
        "len_A, len_B = len(A), len(B)\n",
        "\n",
        "LCS = [[0 for _ in range(len_A)] for _ in range(len_B)]\n",
        "\n",
        "for i in range(len_B):\n",
        "    for j in range(len_A):\n",
        "        if i and j:\n",
        "            if A[j] == B[i]:\n",
        "                LCS[i][j] = LCS[i-1][j-1] + 1\n",
        "            else:\n",
        "                LCS[i][j] = max(LCS[i-1][j],LCS[i][j-1])\n",
        "                \n",
        "print(LCS[-1][-1])\n",
        "\n",
        "# LCS 찾는 코드            \n",
        "sol = \"\"\n",
        "i, j = len_B-1, len_A-1\n",
        "while 1:\n",
        "    n = LCS[i][j]\n",
        "    if n:\n",
        "        if n == LCS[i-1][j]:\n",
        "            i -= 1\n",
        "        elif n == LCS[i][j-1]:\n",
        "            j -= 1\n",
        "        else:\n",
        "            sol += A[j]\n",
        "            i -= 1\n",
        "            j -= 1\n",
        "    else:\n",
        "        break\n",
        "    \n",
        "print(sol[::-1])"
      ],
      "metadata": {
        "id": "ZFrLikbd4n2z",
        "outputId": "27ebb6b3-f1de-4b3e-a26e-43818b2fa79f",
        "colab": {
          "base_uri": "https://localhost:8080/"
        }
      },
      "execution_count": 1,
      "outputs": [
        {
          "output_type": "stream",
          "name": "stdout",
          "text": [
            "ACAYKP\n",
            "CAPCAK\n",
            "4\n",
            "ACAK\n"
          ]
        }
      ]
    }
  ]
}