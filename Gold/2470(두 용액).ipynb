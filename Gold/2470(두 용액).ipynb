{
  "nbformat": 4,
  "nbformat_minor": 0,
  "metadata": {
    "colab": {
      "name": "2470(두 용액).ipynb",
      "provenance": [],
      "authorship_tag": "ABX9TyMj39u1esgvie9Qoeq4Xhxn",
      "include_colab_link": true
    },
    "kernelspec": {
      "name": "python3",
      "display_name": "Python 3"
    },
    "language_info": {
      "name": "python"
    }
  },
  "cells": [
    {
      "cell_type": "markdown",
      "metadata": {
        "id": "view-in-github",
        "colab_type": "text"
      },
      "source": [
        "<a href=\"https://colab.research.google.com/github/Dabin-Park/BaekJoon/blob/main/Gold/2470(%EB%91%90%20%EC%9A%A9%EC%95%A1).ipynb\" target=\"_parent\"><img src=\"https://colab.research.google.com/assets/colab-badge.svg\" alt=\"Open In Colab\"/></a>"
      ]
    },
    {
      "cell_type": "code",
      "source": [
        "N = int(input())\n",
        "Solution = list(map(int,input().split()))\n",
        "Solution.sort()\n",
        "\n",
        "s,e = 0,N-1\n",
        "m = 2000000001\n",
        "while s < e:\n",
        "    Ss,Se = Solution[s], Solution[e]\n",
        "    n = Se + Ss\n",
        "    if abs(n) < abs(m):\n",
        "        m = n\n",
        "        a,b = Ss, Se\n",
        "    if abs(Se + Solution[s+1]) < abs(Solution[e-1] + Ss):\n",
        "        s += 1\n",
        "    else:\n",
        "        e -= 1\n",
        "\n",
        "print(a,b)"
      ],
      "metadata": {
        "colab": {
          "base_uri": "https://localhost:8080/"
        },
        "id": "4NDvOBDhbpRD",
        "outputId": "1c70efd4-c7a5-40af-d167-98e42ab069c4"
      },
      "execution_count": 1,
      "outputs": [
        {
          "output_type": "stream",
          "name": "stdout",
          "text": [
            "5\n",
            "-2 4 -99 -1 98\n",
            "-99 98\n"
          ]
        }
      ]
    },
    {
      "cell_type": "code",
      "source": [
        "N = int(input())\n",
        "Solution = list(map(int,input().split()))\n",
        "Solution.sort()\n",
        "\n",
        "s,e = 0,N-1\n",
        "m = 2000000001\n",
        "while s < e:\n",
        "    Ss,Se = Solution[s], Solution[e]\n",
        "    n = abs(Se + Ss)\n",
        "    if n < m:\n",
        "        m = n\n",
        "        a,b = Ss, Se\n",
        "    if abs(Se + Solution[s+1]) < abs(Solution[e-1] + Ss):\n",
        "        s += 1\n",
        "    else:\n",
        "        e -= 1\n",
        "\n",
        "print(a,b)"
      ],
      "metadata": {
        "colab": {
          "base_uri": "https://localhost:8080/"
        },
        "id": "OMoMEc840ri2",
        "outputId": "ca775b3a-713c-41d7-9c7b-a6f2e8381d3e"
      },
      "execution_count": 2,
      "outputs": [
        {
          "output_type": "stream",
          "name": "stdout",
          "text": [
            "5\n",
            "-2 4 -99 -1 98\n",
            "-99 98\n"
          ]
        }
      ]
    }
  ]
}