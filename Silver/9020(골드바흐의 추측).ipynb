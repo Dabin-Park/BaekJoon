{
  "cells": [
    {
      "cell_type": "markdown",
      "metadata": {
        "id": "view-in-github",
        "colab_type": "text"
      },
      "source": [
        "<a href=\"https://colab.research.google.com/github/Dabin-Park/BaekJoon/blob/main/Silver/9020(%EA%B3%A8%EB%93%9C%EB%B0%94%ED%9D%90%EC%9D%98%20%EC%B6%94%EC%B8%A1).ipynb\" target=\"_parent\"><img src=\"https://colab.research.google.com/assets/colab-badge.svg\" alt=\"Open In Colab\"/></a>"
      ]
    },
    {
      "cell_type": "code",
      "source": [
        "def prime(a):\n",
        "    nums = [1 for _ in range(a+1)]\n",
        "    nums[0] = 0\n",
        "    nums[1] = 0\n",
        "    for i in range(2,a+1):\n",
        "        if nums[i]:\n",
        "            for j in range(i+i,a+1,i):\n",
        "                nums[j] = 0\n",
        "    return nums\n",
        "   \n",
        "T = int(input())\n",
        "A = [int(input()) for _ in range(T)]\n",
        "    \n",
        "prime_nums = prime(max(A))\n",
        "\n",
        "for a in A:\n",
        "    for i in range(2,a//2+1):\n",
        "        if prime_nums[i] == 1 and prime_nums[a-i] == 1:\n",
        "            m = i \n",
        "            M = a-i\n",
        "    print(f\"{m} {M}\")"
      ],
      "metadata": {
        "colab": {
          "base_uri": "https://localhost:8080/"
        },
        "id": "nSrvviDnu1sa",
        "outputId": "88ef1012-f612-4472-c900-0eca019c7899"
      },
      "execution_count": 1,
      "outputs": [
        {
          "output_type": "stream",
          "name": "stdout",
          "text": [
            "3\n",
            "8\n",
            "10\n",
            "16\n",
            "3 5\n",
            "5 5\n",
            "5 11\n"
          ]
        }
      ]
    },
    {
      "cell_type": "code",
      "source": [
        "def prime(a):\n",
        "    nums = [1 for _ in range(a+1)]\n",
        "    nums[0] = 0\n",
        "    nums[1] = 0\n",
        "    for i in range(2,a+1):\n",
        "        if nums[i]:\n",
        "            for j in range(i+i,a+1,i):\n",
        "                nums[j] = 0\n",
        "    return nums\n",
        "   \n",
        "T = int(input())\n",
        "A = [int(input()) for _ in range(T)]\n",
        "    \n",
        "prime_nums = prime(max(A))\n",
        "\n",
        "for a in A:\n",
        "    x, y = a//2, a//2   #  소수 차이가 작은걸 출력하기 위해 중간부터 양 옆으로 뻗어 나감\n",
        "    while True:\n",
        "        if prime_nums[x] == 1 and prime_nums[y] == 1:\n",
        "            print(f\"{x} {y}\")\n",
        "            break\n",
        "        x -= 1\n",
        "        y += 1"
      ],
      "metadata": {
        "colab": {
          "base_uri": "https://localhost:8080/"
        },
        "id": "Wap2xk9arNjV",
        "outputId": "b26cb4b0-c945-4e7f-d0f4-81c8c64981a7"
      },
      "execution_count": 2,
      "outputs": [
        {
          "output_type": "stream",
          "name": "stdout",
          "text": [
            "3\n",
            "8\n",
            "10\n",
            "16\n",
            "3 5\n",
            "5 5\n",
            "5 11\n"
          ]
        }
      ]
    }
  ],
  "metadata": {
    "colab": {
      "name": "9020(골드바흐의 추측).ipynb",
      "provenance": [],
      "collapsed_sections": [],
      "authorship_tag": "ABX9TyM6F/xLcBGl9EPOCGIGq1J+",
      "include_colab_link": true
    },
    "kernelspec": {
      "display_name": "Python 3",
      "name": "python3"
    },
    "language_info": {
      "name": "python"
    }
  },
  "nbformat": 4,
  "nbformat_minor": 0
}