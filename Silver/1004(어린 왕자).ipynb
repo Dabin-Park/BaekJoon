{
  "nbformat": 4,
  "nbformat_minor": 0,
  "metadata": {
    "colab": {
      "name": "1004(어린 왕자).ipynb",
      "provenance": [],
      "authorship_tag": "ABX9TyO4DhhlwJKkfdoelxROZ8U/",
      "include_colab_link": true
    },
    "kernelspec": {
      "name": "python3",
      "display_name": "Python 3"
    },
    "language_info": {
      "name": "python"
    }
  },
  "cells": [
    {
      "cell_type": "markdown",
      "metadata": {
        "id": "view-in-github",
        "colab_type": "text"
      },
      "source": [
        "<a href=\"https://colab.research.google.com/github/Dabin-Park/BaekJoon/blob/main/Silver/1004(%EC%96%B4%EB%A6%B0_%EC%99%95%EC%9E%90).ipynb\" target=\"_parent\"><img src=\"https://colab.research.google.com/assets/colab-badge.svg\" alt=\"Open In Colab\"/></a>"
      ]
    },
    {
      "cell_type": "code",
      "source": [
        "def distance(A,B):\n",
        "    return (A[0]-B[0])**2 + (A[1]-B[1])**2\n",
        "\n",
        "T = int(input())\n",
        "\n",
        "for _ in range(T):\n",
        "    num = 0\n",
        "    A = list(map(int,input().split()))\n",
        "    a = A[:2]\n",
        "    b = A[2:]\n",
        "    n = int(input())\n",
        "    for _ in range(n):\n",
        "        B = list(map(int,input().split()))\n",
        "        r = B[2]**2\n",
        "        if distance(a, B) < r:\n",
        "            if distance(b,B) > r:\n",
        "                num += 1\n",
        "        elif distance(b, B) < r :\n",
        "                num += 1\n",
        "    print(num)"
      ],
      "metadata": {
        "id": "xk6usRE-86iG",
        "colab": {
          "base_uri": "https://localhost:8080/"
        },
        "outputId": "b03d6d36-b9fc-4b37-b441-5a9a6138de01"
      },
      "execution_count": 3,
      "outputs": [
        {
          "output_type": "stream",
          "name": "stdout",
          "text": [
            "1\n",
            "-5 1 5 1\n",
            "3\n",
            "0 0 2\n",
            "-6 1 2\n",
            "6 2 2\n",
            "2\n"
          ]
        }
      ]
    },
    {
      "cell_type": "code",
      "source": [
        "def distance(a,b,c,d):\n",
        "    return (a-c)**2 + (b-d)**2\n",
        "\n",
        "T = int(input())\n",
        "\n",
        "for _ in range(T):\n",
        "    num = 0\n",
        "    x1, y1, x2, y2 = list(map(int,input().split()))\n",
        "    n = int(input())\n",
        "    for _ in range(n):\n",
        "        cx, cy, r = list(map(int,input().split()))\n",
        "        r2 = r**2\n",
        "        if distance(x1,y1,cx,cy) < r2 :\n",
        "            if distance(x2,y2,cx,cy) > r2 :\n",
        "                num += 1\n",
        "        elif distance(x2,y2,cx,cy) < r2 :\n",
        "                num += 1\n",
        "    print(num)"
      ],
      "metadata": {
        "colab": {
          "base_uri": "https://localhost:8080/"
        },
        "id": "rpkWr3CfLy3T",
        "outputId": "a685161f-733d-43eb-97ff-e5742b35c0b6"
      },
      "execution_count": 4,
      "outputs": [
        {
          "output_type": "stream",
          "name": "stdout",
          "text": [
            "1\n",
            "-5 1 5 1\n",
            "3\n",
            "0 0 2\n",
            "-6 1 2\n",
            "6 2 2\n",
            "2\n"
          ]
        }
      ]
    }
  ]
}
