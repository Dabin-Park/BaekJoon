{
  "nbformat": 4,
  "nbformat_minor": 0,
  "metadata": {
    "colab": {
      "provenance": [],
      "authorship_tag": "ABX9TyPBEuU+teemUxL9W5Nh6Wxb",
      "include_colab_link": true
    },
    "kernelspec": {
      "name": "python3",
      "display_name": "Python 3"
    },
    "language_info": {
      "name": "python"
    }
  },
  "cells": [
    {
      "cell_type": "markdown",
      "metadata": {
        "id": "view-in-github",
        "colab_type": "text"
      },
      "source": [
        "<a href=\"https://colab.research.google.com/github/Dabin-Park/BaekJoon/blob/main/Bronze/11170(0%EC%9D%98%20%EA%B0%9C%EC%88%98).ipynb\" target=\"_parent\"><img src=\"https://colab.research.google.com/assets/colab-badge.svg\" alt=\"Open In Colab\"/></a>"
      ]
    },
    {
      "cell_type": "code",
      "source": [
        "def sol():\n",
        "    for _ in range(int(input())):\n",
        "        N,M = map(int,input().split())\n",
        "        num = 0\n",
        "        for i in range(N,M+1):\n",
        "            for s in str(i):\n",
        "                if s == \"0\":\n",
        "                    num += 1\n",
        "        print(num)\n",
        "                  \n",
        "sol()"
      ],
      "metadata": {
        "colab": {
          "base_uri": "https://localhost:8080/"
        },
        "id": "GksKdUFn3Mzd",
        "outputId": "a50bccab-005d-45d1-8dba-0e99269ae2a9"
      },
      "execution_count": 1,
      "outputs": [
        {
          "output_type": "stream",
          "name": "stdout",
          "text": [
            "3 \n",
            "0 10\n",
            "2\n",
            "33 1005 \n",
            "199\n",
            "1 4\n",
            "0\n"
          ]
        }
      ]
    }
  ]
}