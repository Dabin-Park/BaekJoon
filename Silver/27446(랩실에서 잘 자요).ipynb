{
  "nbformat": 4,
  "nbformat_minor": 0,
  "metadata": {
    "colab": {
      "provenance": [],
      "authorship_tag": "ABX9TyO/hE9JVO1zLNzxhwu+qw2M",
      "include_colab_link": true
    },
    "kernelspec": {
      "name": "python3",
      "display_name": "Python 3"
    },
    "language_info": {
      "name": "python"
    }
  },
  "cells": [
    {
      "cell_type": "markdown",
      "metadata": {
        "id": "view-in-github",
        "colab_type": "text"
      },
      "source": [
        "<a href=\"https://colab.research.google.com/github/Dabin-Park/BaekJoon/blob/main/Silver/27446(%EB%9E%A9%EC%8B%A4%EC%97%90%EC%84%9C%20%EC%9E%98%20%EC%9E%90%EC%9A%94).ipynb\" target=\"_parent\"><img src=\"https://colab.research.google.com/assets/colab-badge.svg\" alt=\"Open In Colab\"/></a>"
      ]
    },
    {
      "cell_type": "code",
      "source": [
        "def sol():\n",
        "    N,_ = map(int,input().split())\n",
        "    Paper = [0]*(N+1)\n",
        "    for p in set(map(int,input().split())):\n",
        "        Paper[p] = 1\n",
        "    Ink = [[0,5]]+[[0,0] for _ in range(N)]\n",
        "    for i in range(1,N+1):\n",
        "        if Paper[i]:\n",
        "            Ink[i][0] = min(Ink[i-1][0],Ink[i-1][1])\n",
        "        else:\n",
        "            Ink[i][0] = 1000\n",
        "        Ink[i][1] = min(Ink[i-1][0]+7,Ink[i-1][1]+2)\n",
        "    return min(Ink[-1])\n",
        "\n",
        "print(sol())"
      ],
      "metadata": {
        "colab": {
          "base_uri": "https://localhost:8080/"
        },
        "id": "e30J77TxSoAj",
        "outputId": "b5b15d4c-9486-4aaf-d46e-320bae73af8d"
      },
      "execution_count": 1,
      "outputs": [
        {
          "output_type": "stream",
          "name": "stdout",
          "text": [
            "10 8\n",
            "5 7 9 10 3 4 4 3\n",
            "20\n"
          ]
        }
      ]
    },
    {
      "cell_type": "code",
      "source": [
        "def sol(ink):\n",
        "    N,_ = map(int,input().split())\n",
        "    Floor_Paper = set(map(int,input().split()))\n",
        "    Need_paper = []\n",
        "    for i in range(1,N+1):\n",
        "        if i not in Floor_Paper:\n",
        "            Need_paper.append(i)\n",
        "    if len(Need_paper):\n",
        "        ink = 7\n",
        "        for j in range(len(Need_paper)-1):\n",
        "            ink += min(7,2*(Need_paper[j+1]-Need_paper[j]))    \n",
        "    return ink\n",
        "\n",
        "print(sol(0))"
      ],
      "metadata": {
        "colab": {
          "base_uri": "https://localhost:8080/"
        },
        "id": "7ttmACp9_0HB",
        "outputId": "a701e232-0e02-43be-e810-6d2cb7695985"
      },
      "execution_count": 2,
      "outputs": [
        {
          "output_type": "stream",
          "name": "stdout",
          "text": [
            "10 8\n",
            "5 7 9 10 3 4 4 3\n",
            "20\n"
          ]
        }
      ]
    }
  ]
}