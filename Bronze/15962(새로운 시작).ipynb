{
  "nbformat": 4,
  "nbformat_minor": 0,
  "metadata": {
    "colab": {
      "name": "15962(새로운 시작).ipynb",
      "provenance": [],
      "authorship_tag": "ABX9TyNDLkJLd/sdQNla+FAobYA/",
      "include_colab_link": true
    },
    "kernelspec": {
      "name": "python3",
      "display_name": "Python 3"
    },
    "language_info": {
      "name": "python"
    }
  },
  "cells": [
    {
      "cell_type": "markdown",
      "metadata": {
        "id": "view-in-github",
        "colab_type": "text"
      },
      "source": [
        "<a href=\"https://colab.research.google.com/github/Dabin-Park/BaekJoon/blob/main/Bronze/15962(%EC%83%88%EB%A1%9C%EC%9A%B4%20%EC%8B%9C%EC%9E%91).ipynb\" target=\"_parent\"><img src=\"https://colab.research.google.com/assets/colab-badge.svg\" alt=\"Open In Colab\"/></a>"
      ]
    },
    {
      "cell_type": "code",
      "source": [
        "print(\"파이팅!!\")"
      ],
      "metadata": {
        "id": "ZFrLikbd4n2z",
        "outputId": "672f7ecc-5686-4642-9362-13545172a252",
        "colab": {
          "base_uri": "https://localhost:8080/"
        }
      },
      "execution_count": 1,
      "outputs": [
        {
          "output_type": "stream",
          "name": "stdout",
          "text": [
            "파이팅!!\n"
          ]
        }
      ]
    }
  ]
}