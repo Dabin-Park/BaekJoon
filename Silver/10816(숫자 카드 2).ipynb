{
  "nbformat": 4,
  "nbformat_minor": 0,
  "metadata": {
    "colab": {
      "name": "10816(숫자 카드 2).ipynb",
      "provenance": [],
      "authorship_tag": "ABX9TyNNiBnhOBTwj0R080q02Zyt",
      "include_colab_link": true
    },
    "kernelspec": {
      "name": "python3",
      "display_name": "Python 3"
    },
    "language_info": {
      "name": "python"
    }
  },
  "cells": [
    {
      "cell_type": "markdown",
      "metadata": {
        "id": "view-in-github",
        "colab_type": "text"
      },
      "source": [
        "<a href=\"https://colab.research.google.com/github/Dabin-Park/BaekJoon/blob/main/Silver/10816(%EC%88%AB%EC%9E%90%20%EC%B9%B4%EB%93%9C%202).ipynb\" target=\"_parent\"><img src=\"https://colab.research.google.com/assets/colab-badge.svg\" alt=\"Open In Colab\"/></a>"
      ]
    },
    {
      "cell_type": "code",
      "source": [
        "_ = int(input())\n",
        "Have = list(map(int,input().split()))\n",
        "Dict_of_Have = {}\n",
        "for have in Have:\n",
        "    if have in Dict_of_Have:\n",
        "        Dict_of_Have[have] += 1\n",
        "    else:\n",
        "        Dict_of_Have[have] = 1\n",
        "        \n",
        "_ = int(input())\n",
        "Find = list(map(int,input().split()))\n",
        "\n",
        "for find in Find:\n",
        "    if find in Dict_of_Have:\n",
        "        print(Dict_of_Have[find], end = ' ')\n",
        "    else:\n",
        "        print(0,end = ' ')"
      ],
      "metadata": {
        "colab": {
          "base_uri": "https://localhost:8080/"
        },
        "id": "4NDvOBDhbpRD",
        "outputId": "1acef295-7abf-43fa-9034-36ef18c5b5a0"
      },
      "execution_count": null,
      "outputs": [
        {
          "output_type": "stream",
          "name": "stdout",
          "text": [
            "10\n",
            "6 3 2 10 10 10 -10 -10 7 3\n",
            "8\n",
            "10 9 -5 2 3 4 5 -10\n",
            "3 0 0 1 2 0 0 2 "
          ]
        }
      ]
    }
  ]
}