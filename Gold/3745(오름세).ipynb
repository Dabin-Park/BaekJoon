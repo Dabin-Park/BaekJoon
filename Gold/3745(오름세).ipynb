{
  "nbformat": 4,
  "nbformat_minor": 0,
  "metadata": {
    "colab": {
      "provenance": [],
      "authorship_tag": "ABX9TyOuV0aQXMucrt2/2tfoRAkd",
      "include_colab_link": true
    },
    "kernelspec": {
      "name": "python3",
      "display_name": "Python 3"
    },
    "language_info": {
      "name": "python"
    }
  },
  "cells": [
    {
      "cell_type": "markdown",
      "metadata": {
        "id": "view-in-github",
        "colab_type": "text"
      },
      "source": [
        "<a href=\"https://colab.research.google.com/github/Dabin-Park/BaekJoon/blob/main/Gold/3745(%EC%98%A4%EB%A6%84%EC%84%B8).ipynb\" target=\"_parent\"><img src=\"https://colab.research.google.com/assets/colab-badge.svg\" alt=\"Open In Colab\"/></a>"
      ]
    },
    {
      "cell_type": "code",
      "source": [
        "def bi(L,s):\n",
        "    l,r = -1,len(L)\n",
        "    while l+1 < r:\n",
        "        m = (l+r)//2\n",
        "        if L[m] >= s:\n",
        "            r = m\n",
        "        else:\n",
        "            l = m\n",
        "    return l+1\n",
        "\n",
        "def sol():\n",
        "    while 1:\n",
        "        try:\n",
        "            input()\n",
        "            Sequence = list(map(int,input().split()))\n",
        "            List = [Sequence[0]]\n",
        "            for s in Sequence[1:]:\n",
        "                if s > List[-1]:\n",
        "                    List.append(s)\n",
        "                else:\n",
        "                    List[bi(List,s)] = s       \n",
        "            print(len(List))\n",
        "        except:\n",
        "            break\n",
        "\n",
        "sol()"
      ],
      "metadata": {
        "colab": {
          "base_uri": "https://localhost:8080/"
        },
        "id": "XS0VHQmBaQda",
        "outputId": "4622a620-0f00-4cb9-e782-2a0ffceadaa3"
      },
      "execution_count": null,
      "outputs": [
        {
          "output_type": "stream",
          "name": "stdout",
          "text": [
            "6\n",
            "5 2 1 4 5 3\n",
            "3\n",
            "3\n",
            "1 1 1\n",
            "1\n",
            "4\n",
            "4 3 2 1\n",
            "1\n"
          ]
        }
      ]
    }
  ]
}