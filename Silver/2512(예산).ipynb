{
  "nbformat": 4,
  "nbformat_minor": 0,
  "metadata": {
    "colab": {
      "provenance": [],
      "authorship_tag": "ABX9TyNCb+1i2mss1pm+H8Oy48kU",
      "include_colab_link": true
    },
    "kernelspec": {
      "name": "python3",
      "display_name": "Python 3"
    },
    "language_info": {
      "name": "python"
    }
  },
  "cells": [
    {
      "cell_type": "markdown",
      "metadata": {
        "id": "view-in-github",
        "colab_type": "text"
      },
      "source": [
        "<a href=\"https://colab.research.google.com/github/Dabin-Park/BaekJoon/blob/main/Silver/2512(%EC%98%88%EC%82%B0).ipynb\" target=\"_parent\"><img src=\"https://colab.research.google.com/assets/colab-badge.svg\" alt=\"Open In Colab\"/></a>"
      ]
    },
    {
      "cell_type": "code",
      "execution_count": 1,
      "metadata": {
        "colab": {
          "base_uri": "https://localhost:8080/"
        },
        "id": "YHFUYXj24MLS",
        "outputId": "df33c02b-1729-4c37-c157-cb8d71ff1bb4"
      },
      "outputs": [
        {
          "output_type": "stream",
          "name": "stdout",
          "text": [
            "4\n",
            "120 110 140 150\n",
            "485\n",
            "127\n"
          ]
        }
      ],
      "source": [
        "def sol(N):\n",
        "    Please = sorted(list(map(int,input().split())))\n",
        "    Money = int(input())\n",
        "    if Money >= sum(Please):\n",
        "        return Please[-1]\n",
        "    s,e = 0,Please[-1]\n",
        "    while s <= e:\n",
        "        m = (s+e)//2\n",
        "        num = 0\n",
        "        for i in range(N):\n",
        "            money = Please[i]\n",
        "            if money < m:\n",
        "                num += money\n",
        "            else:\n",
        "                num += m*(N-i)\n",
        "                break\n",
        "        if num > Money:\n",
        "            e = m-1\n",
        "        else:\n",
        "            s = m+1\n",
        "    return e\n",
        "            \n",
        "print(sol(int(input())))"
      ]
    }
  ]
}