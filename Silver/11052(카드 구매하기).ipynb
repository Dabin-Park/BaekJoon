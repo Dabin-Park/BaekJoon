{
  "cells": [
    {
      "cell_type": "markdown",
      "metadata": {
        "id": "view-in-github",
        "colab_type": "text"
      },
      "source": [
        "<a href=\"https://colab.research.google.com/github/Dabin-Park/BaekJoon/blob/main/Silver/11052(%EC%B9%B4%EB%93%9C%20%EA%B5%AC%EB%A7%A4%ED%95%98%EA%B8%B0).ipynb\" target=\"_parent\"><img src=\"https://colab.research.google.com/assets/colab-badge.svg\" alt=\"Open In Colab\"/></a>"
      ]
    },
    {
      "cell_type": "code",
      "source": [
        "N = int(input())\n",
        "A = list(map(int,input().split()))\n",
        "dp = [0]*(N+1)\n",
        "dp[1] = A[0]\n",
        "for i in range(2,N+1):\n",
        "    start = 1\n",
        "    end = i-1\n",
        "    a = 0\n",
        "    while start <= end:\n",
        "        a = max(dp[start]+dp[end],a)\n",
        "        start += 1\n",
        "        end -= 1\n",
        "    dp[i] = max(A[i-1],a)\n",
        "\n",
        "print(dp[-1])"
      ],
      "metadata": {
        "id": "HBwwya3y6Eyo",
        "outputId": "21f08ee0-4962-4dc8-fbd7-4866c02ad9b5",
        "colab": {
          "base_uri": "https://localhost:8080/"
        }
      },
      "execution_count": 1,
      "outputs": [
        {
          "output_type": "stream",
          "name": "stdout",
          "text": [
            "4\n",
            "1 5 6 7\n",
            "10\n"
          ]
        }
      ]
    }
  ],
  "metadata": {
    "colab": {
      "name": "11052(카드 구매하기).ipynb",
      "provenance": [],
      "collapsed_sections": [],
      "authorship_tag": "ABX9TyM8WSRdDSEM77npCLAU7mrl",
      "include_colab_link": true
    },
    "kernelspec": {
      "display_name": "Python 3",
      "name": "python3"
    },
    "language_info": {
      "name": "python"
    }
  },
  "nbformat": 4,
  "nbformat_minor": 0
}