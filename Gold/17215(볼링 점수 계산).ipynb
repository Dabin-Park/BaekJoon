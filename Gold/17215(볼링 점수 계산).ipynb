{
  "nbformat": 4,
  "nbformat_minor": 0,
  "metadata": {
    "colab": {
      "name": "17215(볼링 점수 계산).ipynb",
      "provenance": [],
      "authorship_tag": "ABX9TyN4QPYIU3cZz0XB//mtir6B",
      "include_colab_link": true
    },
    "kernelspec": {
      "name": "python3",
      "display_name": "Python 3"
    },
    "language_info": {
      "name": "python"
    }
  },
  "cells": [
    {
      "cell_type": "markdown",
      "metadata": {
        "id": "view-in-github",
        "colab_type": "text"
      },
      "source": [
        "<a href=\"https://colab.research.google.com/github/Dabin-Park/BaekJoon/blob/main/Gold/17215(%EB%B3%BC%EB%A7%81%20%EC%A0%90%EC%88%98%20%EA%B3%84%EC%82%B0).ipynb\" target=\"_parent\"><img src=\"https://colab.research.google.com/assets/colab-badge.svg\" alt=\"Open In Colab\"/></a>"
      ]
    },
    {
      "cell_type": "code",
      "source": [
        "N = input()\n",
        "Frame = 1\n",
        "multi1,multi2 = 0,0\n",
        "total,num = 0,0\n",
        "n = 1\n",
        "for a in N:\n",
        "    if a == \"S\":\n",
        "        if multi2:\n",
        "            if multi1:\n",
        "                total += 30\n",
        "                multi1 = 0\n",
        "            else:\n",
        "                total += 20 \n",
        "            multi2 -= 1  \n",
        "        else:\n",
        "            total += 10\n",
        "        if Frame < 10:\n",
        "            multi1,multi2 = multi2,2\n",
        "        Frame += 1\n",
        "    elif a == '-':\n",
        "        multi1 = 0\n",
        "        if multi2:\n",
        "            multi2 -= 1\n",
        "        if n == 2:\n",
        "            total += num\n",
        "            n,num = 1,0\n",
        "            Frame += 1\n",
        "        else:\n",
        "            n += 1\n",
        "    elif a == 'P':\n",
        "        if multi2:\n",
        "            total += num + (10-num)*2\n",
        "        else:\n",
        "            total += 10\n",
        "        if Frame < 10:\n",
        "            multi1,multi2 = 0,1\n",
        "        else:\n",
        "            multi1,multi2 = 0,0\n",
        "        num,n = 0,1\n",
        "        Frame += 1        \n",
        "    else:\n",
        "        num += int(a)\n",
        "        if multi2:\n",
        "            if multi1:\n",
        "                total += int(a)*2\n",
        "                multi1 = 0\n",
        "            else:\n",
        "                total += int(a)\n",
        "            multi2 -= 1    \n",
        "        if n == 2:\n",
        "            total += num\n",
        "            Frame += 1\n",
        "            num,n = 0,1\n",
        "        else:\n",
        "            n += 1\n",
        "total += num \n",
        "print(total)            "
      ],
      "metadata": {
        "id": "xk6usRE-86iG",
        "colab": {
          "base_uri": "https://localhost:8080/"
        },
        "outputId": "b5ab8db9-c4fb-499a-89a3-6f70ba4b2666"
      },
      "execution_count": 1,
      "outputs": [
        {
          "output_type": "stream",
          "name": "stdout",
          "text": [
            "9-8P72S9P-9S-P9-SS8\n",
            "150\n"
          ]
        }
      ]
    }
  ]
}