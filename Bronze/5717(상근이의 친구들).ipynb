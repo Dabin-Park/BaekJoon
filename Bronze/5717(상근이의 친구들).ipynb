{
  "nbformat": 4,
  "nbformat_minor": 0,
  "metadata": {
    "colab": {
      "provenance": [],
      "authorship_tag": "ABX9TyMf7KeiSrd0u2NsQE0/4B14",
      "include_colab_link": true
    },
    "kernelspec": {
      "name": "python3",
      "display_name": "Python 3"
    },
    "language_info": {
      "name": "python"
    }
  },
  "cells": [
    {
      "cell_type": "markdown",
      "metadata": {
        "id": "view-in-github",
        "colab_type": "text"
      },
      "source": [
        "<a href=\"https://colab.research.google.com/github/Dabin-Park/BaekJoon/blob/main/Bronze/5717(%EC%83%81%EA%B7%BC%EC%9D%B4%EC%9D%98%20%EC%B9%9C%EA%B5%AC%EB%93%A4).ipynb\" target=\"_parent\"><img src=\"https://colab.research.google.com/assets/colab-badge.svg\" alt=\"Open In Colab\"/></a>"
      ]
    },
    {
      "cell_type": "code",
      "source": [
        "def sol():\n",
        "    while 1:\n",
        "        a,b = map(int,input().split())\n",
        "        if a and b:\n",
        "            print(a+b)\n",
        "        else:\n",
        "            break\n",
        "\n",
        "sol()"
      ],
      "metadata": {
        "colab": {
          "base_uri": "https://localhost:8080/"
        },
        "id": "tVe3A1mE7-1_",
        "outputId": "c50fbf1a-6ee0-4dcd-f272-b0fb10cef92f"
      },
      "execution_count": 2,
      "outputs": [
        {
          "name": "stdout",
          "output_type": "stream",
          "text": [
            "2 2\n",
            "4\n",
            "2 3\n",
            "5\n",
            "5 5 \n",
            "10\n",
            "1 1 \n",
            "2\n",
            "0 0\n"
          ]
        }
      ]
    }
  ]
}