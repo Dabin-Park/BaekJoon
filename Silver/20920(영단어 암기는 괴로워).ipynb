{
  "cells": [
    {
      "cell_type": "markdown",
      "metadata": {
        "id": "view-in-github",
        "colab_type": "text"
      },
      "source": [
        "<a href=\"https://colab.research.google.com/github/Dabin-Park/BaekJoon/blob/main/Silver/20920(%EC%98%81%EB%8B%A8%EC%96%B4%20%EC%95%94%EA%B8%B0%EB%8A%94%20%EA%B4%B4%EB%A1%9C%EC%9B%8C).ipynb\" target=\"_parent\"><img src=\"https://colab.research.google.com/assets/colab-badge.svg\" alt=\"Open In Colab\"/></a>"
      ]
    },
    {
      "cell_type": "code",
      "source": [
        "N,M = map(int,input().split())\n",
        "\n",
        "A = []\n",
        "for _ in range(N):\n",
        "    a = input()\n",
        "    if len(a) >= M:\n",
        "       A.append(a)\n",
        "          \n",
        "A.sort(key = str)\n",
        "N = len(A)\n",
        "B = [[0,0,''] for _ in range(N)]\n",
        "\n",
        "i = 0\n",
        "while i <= N-1:\n",
        "    B[i][0],B[i][1],B[i][2] = len(A[i]),1,A[i]\n",
        "    k = 1\n",
        "    while i+k <= N-1:\n",
        "        if A[i] != A[i+k]:\n",
        "            break\n",
        "        else:\n",
        "            B[i][1] += 1\n",
        "        k += 1\n",
        "    i += k\n",
        "\n",
        "B.sort(key = lambda x : -x[0])\n",
        "B.sort(key = lambda x : -x[1])\n",
        "\n",
        "for i in range(N):\n",
        "    if B[i][2] != '':\n",
        "        print(B[i][2])\n",
        "    else:\n",
        "        break"
      ],
      "metadata": {
        "id": "HBwwya3y6Eyo",
        "outputId": "29ba1d71-0f57-4076-ed63-236ffaa5178c",
        "colab": {
          "base_uri": "https://localhost:8080/"
        }
      },
      "execution_count": 1,
      "outputs": [
        {
          "output_type": "stream",
          "name": "stdout",
          "text": [
            "12 5\n",
            "appearance\n",
            "append\n",
            "attendance\n",
            "swim\n",
            "swift\n",
            "swift\n",
            "swift\n",
            "mouse\n",
            "wallet\n",
            "mouse\n",
            "ice\n",
            "age\n",
            "swift\n",
            "mouse\n",
            "appearance\n",
            "attendance\n",
            "append\n",
            "wallet\n"
          ]
        }
      ]
    }
  ],
  "metadata": {
    "colab": {
      "name": "20920(영단어 암기는 괴로워).ipynb",
      "provenance": [],
      "collapsed_sections": [],
      "authorship_tag": "ABX9TyO539Gk8ndqWkWw7LeG74f8",
      "include_colab_link": true
    },
    "kernelspec": {
      "display_name": "Python 3",
      "name": "python3"
    },
    "language_info": {
      "name": "python"
    }
  },
  "nbformat": 4,
  "nbformat_minor": 0
}