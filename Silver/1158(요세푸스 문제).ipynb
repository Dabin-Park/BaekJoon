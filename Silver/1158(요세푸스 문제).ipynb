{
  "nbformat": 4,
  "nbformat_minor": 0,
  "metadata": {
    "colab": {
      "name": "1158(요세푸스 문제).ipynb",
      "provenance": [],
      "authorship_tag": "ABX9TyPofsK0YyLXlr+52JTxM9FI",
      "include_colab_link": true
    },
    "kernelspec": {
      "name": "python3",
      "display_name": "Python 3"
    },
    "language_info": {
      "name": "python"
    }
  },
  "cells": [
    {
      "cell_type": "markdown",
      "metadata": {
        "id": "view-in-github",
        "colab_type": "text"
      },
      "source": [
        "<a href=\"https://colab.research.google.com/github/Dabin-Park/BaekJoon/blob/main/Silver/1158(%EC%9A%94%EC%84%B8%ED%91%B8%EC%8A%A4%20%EB%AC%B8%EC%A0%9C).ipynb\" target=\"_parent\"><img src=\"https://colab.research.google.com/assets/colab-badge.svg\" alt=\"Open In Colab\"/></a>"
      ]
    },
    {
      "cell_type": "code",
      "source": [
        "from collections import deque\n",
        "\n",
        "N,K = map(int,input().split())\n",
        "Yosep = deque([i for i in range(1,N+1)])\n",
        "print(\"<\",end = \"\")\n",
        "for j in range(N):\n",
        "    i = 0\n",
        "    while i < K-1:\n",
        "        Yosep.append(Yosep.popleft()) \n",
        "        i += 1   \n",
        "    if j < N-1:\n",
        "        print(Yosep.popleft(),end = \", \")\n",
        "    else:\n",
        "        print(Yosep.popleft(),end = \">\")"
      ],
      "metadata": {
        "colab": {
          "base_uri": "https://localhost:8080/"
        },
        "id": "whXH70HTj9iH",
        "outputId": "17b77d82-6da9-4f62-fcbc-3896d5ed6fee"
      },
      "execution_count": 1,
      "outputs": [
        {
          "output_type": "stream",
          "name": "stdout",
          "text": [
            "7 3\n",
            "<3, 6, 2, 7, 5, 1, 4>"
          ]
        }
      ]
    },
    {
      "cell_type": "code",
      "source": [
        "N,K = map(int,input().split())\n",
        "Yosep = [i for i in range(1,N+1)]\n",
        "sol, idx = [], 0 \n",
        "\n",
        "while Yosep:\n",
        "    idx = (idx + K - 1) % len(Yosep)\n",
        "    sol.append(str(Yosep.pop(idx)))\n",
        "    \n",
        "print(\"<\" + \", \".join(sol) + \">\")"
      ],
      "metadata": {
        "colab": {
          "base_uri": "https://localhost:8080/"
        },
        "id": "YY-CK0InAtEG",
        "outputId": "be3dbccd-9ed4-47f7-b658-60dc53b823d1"
      },
      "execution_count": 2,
      "outputs": [
        {
          "output_type": "stream",
          "name": "stdout",
          "text": [
            "7 3\n",
            "<3, 6, 2, 7, 5, 1, 4>\n"
          ]
        }
      ]
    }
  ]
}