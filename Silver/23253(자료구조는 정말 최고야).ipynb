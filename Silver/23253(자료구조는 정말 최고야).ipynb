{
  "nbformat": 4,
  "nbformat_minor": 0,
  "metadata": {
    "colab": {
      "provenance": [],
      "authorship_tag": "ABX9TyOzTrWIYtQ5ZcinNlruLUcN",
      "include_colab_link": true
    },
    "kernelspec": {
      "name": "python3",
      "display_name": "Python 3"
    },
    "language_info": {
      "name": "python"
    }
  },
  "cells": [
    {
      "cell_type": "markdown",
      "metadata": {
        "id": "view-in-github",
        "colab_type": "text"
      },
      "source": [
        "<a href=\"https://colab.research.google.com/github/Dabin-Park/BaekJoon/blob/main/Silver/23253(%EC%9E%90%EB%A3%8C%EA%B5%AC%EC%A1%B0%EB%8A%94%20%EC%A0%95%EB%A7%90%20%EC%B5%9C%EA%B3%A0%EC%95%BC).ipynb\" target=\"_parent\"><img src=\"https://colab.research.google.com/assets/colab-badge.svg\" alt=\"Open In Colab\"/></a>"
      ]
    },
    {
      "cell_type": "code",
      "source": [
        "def sol():\n",
        "    N,M = map(int,input().split())\n",
        "    Sol = \"Yes\"\n",
        "    for _ in range(M):\n",
        "        input()\n",
        "        Books = list(map(int,input().split()))\n",
        "        if Sol == \"Yes\":\n",
        "            min = Books[0]\n",
        "            for num in Books[1:]:\n",
        "                if num > min:\n",
        "                    Sol = \"No\"\n",
        "                min = num\n",
        "    return Sol\n",
        "    \n",
        "print(sol())"
      ],
      "metadata": {
        "colab": {
          "base_uri": "https://localhost:8080/"
        },
        "id": "hP4gfGRVQYlr",
        "outputId": "6d74a79d-d0f7-4903-b815-df9efc3a94c3"
      },
      "execution_count": 1,
      "outputs": [
        {
          "output_type": "stream",
          "name": "stdout",
          "text": [
            "4 2\n",
            "2\n",
            "3 1\n",
            "2\n",
            "4 2\n",
            "Yes\n"
          ]
        }
      ]
    }
  ]
}