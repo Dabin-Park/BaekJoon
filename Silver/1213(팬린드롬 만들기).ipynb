{
  "cells": [
    {
      "cell_type": "markdown",
      "metadata": {
        "id": "view-in-github",
        "colab_type": "text"
      },
      "source": [
        "<a href=\"https://colab.research.google.com/github/Dabin-Park/BaekJoon/blob/main/Silver/1213(%ED%8C%AC%EB%A6%B0%EB%93%9C%EB%A1%AC%20%EB%A7%8C%EB%93%A4%EA%B8%B0).ipynb\" target=\"_parent\"><img src=\"https://colab.research.google.com/assets/colab-badge.svg\" alt=\"Open In Colab\"/></a>"
      ]
    },
    {
      "cell_type": "code",
      "source": [
        "A = list(input())\n",
        "A.sort(key = str)\n",
        "alpha = [0]*27\n",
        "sol = ''\n",
        "for a in A:\n",
        "    alpha[ord(a)-64] += 1\n",
        "\n",
        "num, t = 0, 1\n",
        "for i in alpha:\n",
        "    if i%2 != 0:\n",
        "        num += 1\n",
        "    if num >= 2:\n",
        "        print(\"I'm Sorry Hansoo\")\n",
        "        t = 0\n",
        "        break\n",
        "\n",
        "if t:\n",
        "    l,i,j = len(A),0,0\n",
        "    sol = [0]*l\n",
        "    while j < l:\n",
        "        a = A[j]\n",
        "        s = alpha[ord(a)-64]\n",
        "        if s%2 != 0:\n",
        "            sol[l//2] = a\n",
        "            for _ in range(s//2):\n",
        "                sol[i],sol[-1-i] = a,a\n",
        "                i += 1\n",
        "        else:\n",
        "            for _ in range(s//2):\n",
        "                sol[i],sol[-1-i] = a,a\n",
        "                i += 1 \n",
        "        j += s\n",
        "                \n",
        "for a in sol:\n",
        "    print(a,end=\"\")"
      ],
      "metadata": {
        "id": "HBwwya3y6Eyo",
        "outputId": "47974677-fe7b-4946-a83e-b3426f399e49",
        "colab": {
          "base_uri": "https://localhost:8080/"
        }
      },
      "execution_count": 1,
      "outputs": [
        {
          "output_type": "stream",
          "name": "stdout",
          "text": [
            "ABACABA\n",
            "AABCBAA"
          ]
        }
      ]
    }
  ],
  "metadata": {
    "colab": {
      "name": "1213(팬린드롬 만들기).ipynb",
      "provenance": [],
      "collapsed_sections": [],
      "authorship_tag": "ABX9TyOXjysw+4XjPO1xsDqk2Ced",
      "include_colab_link": true
    },
    "kernelspec": {
      "display_name": "Python 3",
      "name": "python3"
    },
    "language_info": {
      "name": "python"
    }
  },
  "nbformat": 4,
  "nbformat_minor": 0
}