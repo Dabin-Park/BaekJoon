{
  "nbformat": 4,
  "nbformat_minor": 0,
  "metadata": {
    "colab": {
      "name": "22988(재활용 캠페인).ipynb",
      "provenance": [],
      "authorship_tag": "ABX9TyNJeYThIHuNChZwfCCyPjgV",
      "include_colab_link": true
    },
    "kernelspec": {
      "name": "python3",
      "display_name": "Python 3"
    },
    "language_info": {
      "name": "python"
    }
  },
  "cells": [
    {
      "cell_type": "markdown",
      "metadata": {
        "id": "view-in-github",
        "colab_type": "text"
      },
      "source": [
        "<a href=\"https://colab.research.google.com/github/Dabin-Park/BaekJoon/blob/main/Silver/5525(IOIOI).ipynb\" target=\"_parent\"><img src=\"https://colab.research.google.com/assets/colab-badge.svg\" alt=\"Open In Colab\"/></a>"
      ]
    },
    {
      "cell_type": "code",
      "source": [
        "N = int(input())\n",
        "M = int(input())\n",
        "S = input()\n",
        "num = 0 \n",
        "t = 'I'\n",
        "n = 0\n",
        "for i,s in enumerate(S):\n",
        "    if s == t:\n",
        "        if t == \"I\":\n",
        "            t = 'O'\n",
        "        else:\n",
        "            t = \"I\" \n",
        "            n += 1      \n",
        "    else:\n",
        "        if s =='I':\n",
        "            t = 'O'\n",
        "        else:\n",
        "            t = \"I\"\n",
        "        n = 0\n",
        "    if s == 'I' and n == N:\n",
        "        num += 1\n",
        "        n -= 1\n",
        "        \n",
        "print(num)"
      ],
      "metadata": {
        "id": "xk6usRE-86iG",
        "colab": {
          "base_uri": "https://localhost:8080/"
        },
        "outputId": "a6422d7a-1e89-4402-e4a4-7e882566957d"
      },
      "execution_count": 1,
      "outputs": [
        {
          "output_type": "stream",
          "name": "stdout",
          "text": [
            "1\n",
            "13\n",
            "OOIOIOIOIIOII\n",
            "4\n"
          ]
        }
      ]
    },
    {
      "cell_type": "code",
      "source": [
        "def change(t,n):\n",
        "    if t == \"I\":\n",
        "        return 'O', n\n",
        "    else:\n",
        "        return \"I\", n + 1\n",
        "\n",
        "N = int(input())\n",
        "M = int(input())\n",
        "S = input()\n",
        "num = 0 \n",
        "t = 'I'\n",
        "n = 0\n",
        "for i,s in enumerate(S):\n",
        "    if s == t:\n",
        "        t,n = change(t,n)\n",
        "    else:\n",
        "        t,n = change(s,n)\n",
        "        n = 0\n",
        "    if s == 'I' and n == N:\n",
        "        num += 1\n",
        "        n -= 1\n",
        "        \n",
        "print(num)"
      ],
      "metadata": {
        "colab": {
          "base_uri": "https://localhost:8080/"
        },
        "id": "fdi0H9J8XT3B",
        "outputId": "540905e5-e69f-4a68-ee8d-9ad76ddee083"
      },
      "execution_count": 2,
      "outputs": [
        {
          "output_type": "stream",
          "name": "stdout",
          "text": [
            "1\n",
            "13\n",
            "OOIOIOIOIIOII\n",
            "4\n"
          ]
        }
      ]
    }
  ]
}