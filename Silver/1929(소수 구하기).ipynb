{
  "cells": [
    {
      "cell_type": "markdown",
      "metadata": {
        "id": "view-in-github",
        "colab_type": "text"
      },
      "source": [
        "<a href=\"https://colab.research.google.com/github/Dabin-Park/BaekJoon/blob/main/Silver/1929(%EC%86%8C%EC%88%98%20%EA%B5%AC%ED%95%98%EA%B8%B0).ipynb\" target=\"_parent\"><img src=\"https://colab.research.google.com/assets/colab-badge.svg\" alt=\"Open In Colab\"/></a>"
      ]
    },
    {
      "cell_type": "code",
      "source": [
        "def is_prime(a):\n",
        "    if a == 1:\n",
        "        return 0\n",
        "    for i in range(2,int(a**0.5)+1):\n",
        "        if a%i == 0:\n",
        "            return 0\n",
        "    return 1\n",
        "\n",
        "M,N = map(int,input().split())\n",
        "\n",
        "for i in range(M,N+1):\n",
        "    t = is_prime(i)\n",
        "    if t:\n",
        "        print(i)"
      ],
      "metadata": {
        "id": "HBwwya3y6Eyo",
        "outputId": "967ee86c-c9de-484e-d651-e05f814b9029",
        "colab": {
          "base_uri": "https://localhost:8080/"
        }
      },
      "execution_count": 1,
      "outputs": [
        {
          "output_type": "stream",
          "name": "stdout",
          "text": [
            "3 16\n",
            "3\n",
            "5\n",
            "7\n",
            "11\n",
            "13\n"
          ]
        }
      ]
    },
    {
      "cell_type": "code",
      "source": [
        "M,N = map(int,input().split())\n",
        "prime = [1]*(N+1)\n",
        "prime[1] = 0\n",
        "\n",
        "for i in range(2,int(N**0.5)+1):\n",
        "    if prime[i]:\n",
        "        for j in range(2*i,N+1,i):\n",
        "            prime[j] = 0\n",
        "\n",
        "if M <= 2:\n",
        "    print(2)\n",
        "\n",
        "if M%2 == 0:\n",
        "    for k in range(M+1,N+1,2):\n",
        "        if prime[k] == 1:\n",
        "            print(k)\n",
        "else:\n",
        "    for k in range(M,N+1,2):\n",
        "        if prime[k] == 1:\n",
        "            print(k)"
      ],
      "metadata": {
        "colab": {
          "base_uri": "https://localhost:8080/"
        },
        "id": "mh8obGdtSEOn",
        "outputId": "734859e7-9b76-4e79-f963-88526ebcbb8c"
      },
      "execution_count": 2,
      "outputs": [
        {
          "output_type": "stream",
          "name": "stdout",
          "text": [
            "3 16\n",
            "3\n",
            "5\n",
            "7\n",
            "11\n",
            "13\n"
          ]
        }
      ]
    }
  ],
  "metadata": {
    "colab": {
      "name": "1929(소수 구하기).ipynb",
      "provenance": [],
      "collapsed_sections": [],
      "authorship_tag": "ABX9TyN8fXG8KvCBDr80tI4Me5iP",
      "include_colab_link": true
    },
    "kernelspec": {
      "display_name": "Python 3",
      "name": "python3"
    },
    "language_info": {
      "name": "python"
    }
  },
  "nbformat": 4,
  "nbformat_minor": 0
}