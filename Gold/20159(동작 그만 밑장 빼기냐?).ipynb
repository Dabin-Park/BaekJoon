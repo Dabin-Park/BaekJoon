{
  "cells": [
    {
      "cell_type": "markdown",
      "metadata": {
        "id": "view-in-github",
        "colab_type": "text"
      },
      "source": [
        "<a href=\"https://colab.research.google.com/github/Dabin-Park/BaekJoon/blob/main/Gold/20159(%EB%8F%99%EC%9E%91%20%EA%B7%B8%EB%A7%8C%20%EB%B0%91%EC%9E%A5%20%EB%B9%BC%EA%B8%B0%EB%83%90%3F).ipynb\" target=\"_parent\"><img src=\"https://colab.research.google.com/assets/colab-badge.svg\" alt=\"Open In Colab\"/></a>"
      ]
    },
    {
      "cell_type": "code",
      "source": [
        "N = int(input())\n",
        "Cards = list(map(int,input().split()))\n",
        "evensum,oddsum = 0,0\n",
        "for i,card in enumerate(Cards):\n",
        "    if i%2:\n",
        "        oddsum += card\n",
        "    else:\n",
        "        evensum += card\n",
        "num = max(evensum,oddsum)\n",
        "a = 0\n",
        "lastcard = Cards[-1]\n",
        "for i,card in enumerate(Cards):\n",
        "    if i%2 == 0:\n",
        "        num = max(num,a + oddsum)\n",
        "        a += card\n",
        "        evensum -= card    \n",
        "    else:\n",
        "        num = max(num,a + oddsum-lastcard)\n",
        "        oddsum -= card\n",
        "\n",
        "print(num)"
      ],
      "metadata": {
        "id": "HBwwya3y6Eyo",
        "colab": {
          "base_uri": "https://localhost:8080/"
        },
        "outputId": "605fd83d-749a-43ee-e94b-23c842b398ff"
      },
      "execution_count": 1,
      "outputs": [
        {
          "output_type": "stream",
          "name": "stdout",
          "text": [
            "6\n",
            "3 2 5 2 1 3\n",
            "11\n"
          ]
        }
      ]
    }
  ],
  "metadata": {
    "colab": {
      "name": "20159(동작 그만. 밑장 빼기냐? )",
      "provenance": [],
      "collapsed_sections": [],
      "authorship_tag": "ABX9TyNKH7djbKSHiS0fLLHIgjpL",
      "include_colab_link": true
    },
    "kernelspec": {
      "display_name": "Python 3",
      "name": "python3"
    },
    "language_info": {
      "name": "python"
    }
  },
  "nbformat": 4,
  "nbformat_minor": 0
}