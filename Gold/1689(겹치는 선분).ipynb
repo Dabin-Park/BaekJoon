{
  "nbformat": 4,
  "nbformat_minor": 0,
  "metadata": {
    "colab": {
      "provenance": [],
      "authorship_tag": "ABX9TyOoR22me9QRpwScII3iF8RH",
      "include_colab_link": true
    },
    "kernelspec": {
      "name": "python3",
      "display_name": "Python 3"
    },
    "language_info": {
      "name": "python"
    }
  },
  "cells": [
    {
      "cell_type": "markdown",
      "metadata": {
        "id": "view-in-github",
        "colab_type": "text"
      },
      "source": [
        "<a href=\"https://colab.research.google.com/github/Dabin-Park/BaekJoon/blob/main/Gold/1689(%EA%B2%B9%EC%B9%98%EB%8A%94%20%EC%84%A0%EB%B6%84).ipynb\" target=\"_parent\"><img src=\"https://colab.research.google.com/assets/colab-badge.svg\" alt=\"Open In Colab\"/></a>"
      ]
    },
    {
      "cell_type": "markdown",
      "source": [
        "* 참고 블로그\n",
        "    * https://peisea0830.tistory.com/63"
      ],
      "metadata": {
        "id": "BD5OyeK78tDJ"
      }
    },
    {
      "cell_type": "code",
      "source": [
        "def sol(N):\n",
        "    Edges = []\n",
        "    for _ in range(N):\n",
        "        start,end = map(int,input().split())\n",
        "        Edges.append([start,1])\n",
        "        Edges.append([end,-1])\n",
        "    Edges.sort(key = lambda x : (x[0],x[1]))   \n",
        "    num,Sol = 0,set()\n",
        "    for edge in Edges:\n",
        "        num += edge[1]\n",
        "        Sol.add(num)\n",
        "    return max(Sol)\n",
        "\n",
        "print(sol(int(input())))"
      ],
      "metadata": {
        "id": "yddJQ_ep_kej",
        "colab": {
          "base_uri": "https://localhost:8080/"
        },
        "outputId": "29c5fa94-e600-4e09-cc8c-c3812c15fb87"
      },
      "execution_count": 2,
      "outputs": [
        {
          "output_type": "stream",
          "name": "stdout",
          "text": [
            "11\n",
            "1 2\n",
            "3 6\n",
            "7 8\n",
            "10 11\n",
            "13 16\n",
            "0 5\n",
            "5 6\n",
            "2 5\n",
            "6 10\n",
            "9 14\n",
            "12 15\n",
            "3\n"
          ]
        }
      ]
    }
  ]
}