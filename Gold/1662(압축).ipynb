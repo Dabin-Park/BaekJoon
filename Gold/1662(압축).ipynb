{
  "nbformat": 4,
  "nbformat_minor": 0,
  "metadata": {
    "colab": {
      "provenance": [],
      "collapsed_sections": [],
      "authorship_tag": "ABX9TyN2rLjtjmycb3ssmDGBYyHF",
      "include_colab_link": true
    },
    "kernelspec": {
      "name": "python3",
      "display_name": "Python 3"
    },
    "language_info": {
      "name": "python"
    }
  },
  "cells": [
    {
      "cell_type": "markdown",
      "metadata": {
        "id": "view-in-github",
        "colab_type": "text"
      },
      "source": [
        "<a href=\"https://colab.research.google.com/github/Dabin-Park/BaekJoon/blob/main/Gold/1662(%EC%95%95%EC%B6%95).ipynb\" target=\"_parent\"><img src=\"https://colab.research.google.com/assets/colab-badge.svg\" alt=\"Open In Colab\"/></a>"
      ]
    },
    {
      "cell_type": "code",
      "source": [
        "def sol(S,i,num):\n",
        "    Stack = []\n",
        "    while i < len(S):\n",
        "        s = S[i]\n",
        "        if s not in \"()\":\n",
        "            Stack.append(s)\n",
        "        elif s == \"(\":\n",
        "            i,a = sol(S,i+1,0)\n",
        "            num += int(Stack.pop())*a\n",
        "        else:\n",
        "            return i,len(Stack)+num\n",
        "        i += 1\n",
        "    return num + len(Stack)\n",
        "\n",
        "print(sol(input(),0,0))"
      ],
      "metadata": {
        "colab": {
          "base_uri": "https://localhost:8080/"
        },
        "id": "FkOjEsTjVrUB",
        "outputId": "0a67229f-9799-4079-9838-85dc90ce0f2f"
      },
      "execution_count": 1,
      "outputs": [
        {
          "output_type": "stream",
          "name": "stdout",
          "text": [
            "33(562(71(9)))\n",
            "19\n"
          ]
        }
      ]
    },
    {
      "cell_type": "code",
      "source": [
        "def sol(S,i,num):\n",
        "    len_Stack = 0\n",
        "    while i < len(S):\n",
        "        if S[i] not in \"()\":\n",
        "            len_Stack += 1\n",
        "        elif S[i] == \"(\":\n",
        "            len_Stack -= 1\n",
        "            x = int(S[i-1])\n",
        "            i,t = sol(S,i+1,0)\n",
        "            num += x*t\n",
        "        else:\n",
        "            return i,len_Stack+num\n",
        "        i += 1\n",
        "    return num + len_Stack\n",
        "\n",
        "print(sol(input(),0,0))"
      ],
      "metadata": {
        "colab": {
          "base_uri": "https://localhost:8080/"
        },
        "id": "NCMDM3YXXszI",
        "outputId": "f5b9c599-455c-45a5-da92-6c34b2656aca"
      },
      "execution_count": 2,
      "outputs": [
        {
          "output_type": "stream",
          "name": "stdout",
          "text": [
            "33(562(71(9)))\n",
            "19\n"
          ]
        }
      ]
    }
  ]
}