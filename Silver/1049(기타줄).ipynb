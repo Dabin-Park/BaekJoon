{
  "cells": [
    {
      "cell_type": "markdown",
      "metadata": {
        "id": "view-in-github",
        "colab_type": "text"
      },
      "source": [
        "<a href=\"https://colab.research.google.com/github/Dabin-Park/BaekJoon/blob/main/Silver/1049(%EA%B8%B0%ED%83%80%EC%A4%84).ipynb\" target=\"_parent\"><img src=\"https://colab.research.google.com/assets/colab-badge.svg\" alt=\"Open In Colab\"/></a>"
      ]
    },
    {
      "cell_type": "code",
      "source": [
        "N,M = map(int,input().split())\n",
        "A = sorted([list(map(int,input().split())) for _ in range(M)])\n",
        "B = sorted(A,key = lambda x : x[1])\n",
        "\n",
        "t = 0\n",
        "for i in range(M):\n",
        "    if A[0][0] >= 6*B[0][1]:\n",
        "        t = 1\n",
        "        break\n",
        "    \n",
        "if t :\n",
        "    print(N*B[0][1])\n",
        "else:\n",
        "    a = N//6\n",
        "    t = N-a*6\n",
        "    s = t*B[0][1]\n",
        "    if A[0][0] >= s:\n",
        "        print(a*A[0][0]+s)  \n",
        "    else:\n",
        "        print((a+1)*A[0][0]) "
      ],
      "metadata": {
        "id": "HBwwya3y6Eyo",
        "outputId": "40c2f598-5ccd-4e8d-a9ff-8614fe2aa145",
        "colab": {
          "base_uri": "https://localhost:8080/"
        }
      },
      "execution_count": 1,
      "outputs": [
        {
          "output_type": "stream",
          "name": "stdout",
          "text": [
            "10 3\n",
            "20 8\n",
            "40 7\n",
            "60 4\n",
            "36\n"
          ]
        }
      ]
    },
    {
      "cell_type": "code",
      "source": [
        "N,M = map(int,input().split())\n",
        "A,B = [],[]\n",
        "for _ in range(M):\n",
        "    a,b = map(int,input().split())\n",
        "    A.append(a)\n",
        "    B.append(b)\n",
        "\n",
        "A.sort()\n",
        "B.sort()\n",
        "\n",
        "t = 0\n",
        "for i in range(M):\n",
        "    if A[0] >= 6*B[0]:\n",
        "        t = 1\n",
        "        break\n",
        "    \n",
        "if t :\n",
        "    print(N*B[0])\n",
        "else:\n",
        "    a = N//6\n",
        "    t = N-a*6\n",
        "    s = t*B[0]\n",
        "    if A[0] >= s:\n",
        "        print(a*A[0]+s)  \n",
        "    else:\n",
        "        print((a+1)*A[0]) "
      ],
      "metadata": {
        "colab": {
          "base_uri": "https://localhost:8080/"
        },
        "id": "iTg7Rj5MSBHI",
        "outputId": "dfae1f11-cc6e-4bbe-b270-d239d47334e4"
      },
      "execution_count": 2,
      "outputs": [
        {
          "output_type": "stream",
          "name": "stdout",
          "text": [
            "10 3\n",
            "20 8\n",
            "40 7\n",
            "60 4\n",
            "36\n"
          ]
        }
      ]
    }
  ],
  "metadata": {
    "colab": {
      "name": "1049(기타줄).ipynb",
      "provenance": [],
      "collapsed_sections": [],
      "authorship_tag": "ABX9TyPMpT6XhoEjJcVRqLaPtf/y",
      "include_colab_link": true
    },
    "kernelspec": {
      "display_name": "Python 3",
      "name": "python3"
    },
    "language_info": {
      "name": "python"
    }
  },
  "nbformat": 4,
  "nbformat_minor": 0
}