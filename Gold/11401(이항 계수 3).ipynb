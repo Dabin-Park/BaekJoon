{
  "nbformat": 4,
  "nbformat_minor": 0,
  "metadata": {
    "colab": {
      "provenance": [],
      "collapsed_sections": [],
      "authorship_tag": "ABX9TyPcOdAeUi54yEuEQA/3QRLE",
      "include_colab_link": true
    },
    "kernelspec": {
      "name": "python3",
      "display_name": "Python 3"
    },
    "language_info": {
      "name": "python"
    }
  },
  "cells": [
    {
      "cell_type": "markdown",
      "metadata": {
        "id": "view-in-github",
        "colab_type": "text"
      },
      "source": [
        "<a href=\"https://colab.research.google.com/github/Dabin-Park/BaekJoon/blob/main/Gold/11401(%EC%9D%B4%ED%95%AD%20%EA%B3%84%EC%88%98%203).ipynb\" target=\"_parent\"><img src=\"https://colab.research.google.com/assets/colab-badge.svg\" alt=\"Open In Colab\"/></a>"
      ]
    },
    {
      "cell_type": "markdown",
      "source": [
        "* 빠른 거듭제곱 참고 블로그 :\n",
        "    * https://blog.naver.com/PostView.nhn?blogId=cjsencks&logNo=221783247166\n",
        "* 이항계수 (nCr) mod p 계산 참고 블로그:\n",
        "    * https://koosaga.com/63"
      ],
      "metadata": {
        "id": "UUf4gWqPG6Yx"
      }
    },
    {
      "cell_type": "code",
      "source": [
        "p = 1000000007\n",
        "\n",
        "def power(x,y):\n",
        "    num = 1\n",
        "    while y > 0:\n",
        "        if y%2:\n",
        "            num = (num*x)%p\n",
        "        x = (x*x)%p\n",
        "        y //= 2\n",
        "    return num\n",
        "       \n",
        "def factorial(N):\n",
        "    num = 1\n",
        "    for i in range(2,N+1):\n",
        "        num = (num*i)%p\n",
        "    return num\n",
        "\n",
        "def combination(N,K):\n",
        "    a,b,c = factorial(N), factorial(K), factorial(N-K)\n",
        "    return (a * power(b*c,p-2)) % p\n",
        "\n",
        "N,K = map(int,input().split())\n",
        "\n",
        "print(combination(N,K))"
      ],
      "metadata": {
        "id": "k7eFI1eAZZ1Z",
        "outputId": "7cb8478e-1ecb-4840-fbb8-d806af8272c3",
        "colab": {
          "base_uri": "https://localhost:8080/"
        }
      },
      "execution_count": 1,
      "outputs": [
        {
          "output_type": "stream",
          "name": "stdout",
          "text": [
            "5 2\n",
            "10\n"
          ]
        }
      ]
    }
  ]
}