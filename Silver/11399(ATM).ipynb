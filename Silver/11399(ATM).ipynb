{
  "cells": [
    {
      "cell_type": "markdown",
      "metadata": {
        "id": "view-in-github",
        "colab_type": "text"
      },
      "source": [
        "<a href=\"https://colab.research.google.com/github/Dabin-Park/BaekJoon/blob/main/Silver/11399(ATM).ipynb\" target=\"_parent\"><img src=\"https://colab.research.google.com/assets/colab-badge.svg\" alt=\"Open In Colab\"/></a>"
      ]
    },
    {
      "cell_type": "code",
      "source": [
        "N = int(input())\n",
        "T = list(map(int,input().split()))\n",
        "T.sort()\n",
        "sum = 0\n",
        "for i in range(N):\n",
        "    sum += T[i]*(N-i)\n",
        "    \n",
        "print(sum)"
      ],
      "metadata": {
        "id": "HBwwya3y6Eyo",
        "outputId": "fbdf86f8-c95f-4662-8725-e2e065619b4f",
        "colab": {
          "base_uri": "https://localhost:8080/"
        }
      },
      "execution_count": 3,
      "outputs": [
        {
          "output_type": "stream",
          "name": "stdout",
          "text": [
            "5\n",
            "3 1 4 3 2\n",
            "32\n"
          ]
        }
      ]
    }
  ],
  "metadata": {
    "colab": {
      "name": "11399(ATM).ipynb",
      "provenance": [],
      "collapsed_sections": [],
      "authorship_tag": "ABX9TyOCdIaHSOlRiXI8m4SkS0Hy",
      "include_colab_link": true
    },
    "kernelspec": {
      "display_name": "Python 3",
      "name": "python3"
    },
    "language_info": {
      "name": "python"
    }
  },
  "nbformat": 4,
  "nbformat_minor": 0
}