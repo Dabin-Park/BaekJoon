{
  "cells": [
    {
      "cell_type": "markdown",
      "metadata": {
        "id": "view-in-github",
        "colab_type": "text"
      },
      "source": [
        "<a href=\"https://colab.research.google.com/github/Dabin-Park/BaekJoon/blob/main/Silver/2503(%EC%88%AB%EC%9E%90%20%EC%95%BC%EA%B5%AC).ipynb\" target=\"_parent\"><img src=\"https://colab.research.google.com/assets/colab-badge.svg\" alt=\"Open In Colab\"/></a>"
      ]
    },
    {
      "cell_type": "code",
      "source": [
        "N = int(input())\n",
        "A = [list(input().split()) for _ in range(N)]\n",
        "\n",
        "sol_num = 0\n",
        "\n",
        "for i in range(123,988):\n",
        "    num = str(i)\n",
        "    if num[0] != num[1] and num[1] != num[2] and num[2] != num[0] and num[1] != '0' and num[2] != '0':\n",
        "        for a in A:\n",
        "            s,b,true = 0,0,0\n",
        "            for l in range(3):\n",
        "                if a[0][l] == num[l]:\n",
        "                    s += 1\n",
        "                else :\n",
        "                    if num[l] in a[0]:\n",
        "                        b += 1   \n",
        "            if int(a[1]) == s and int(a[2]) == b:\n",
        "                true = 1\n",
        "            else:\n",
        "                break\n",
        "        if true:\n",
        "            sol_num += 1\n",
        "print(sol_num)          "
      ],
      "metadata": {
        "id": "HBwwya3y6Eyo",
        "outputId": "8cfa27e6-a012-4168-fcb7-d34a5bcfc4a7",
        "colab": {
          "base_uri": "https://localhost:8080/"
        }
      },
      "execution_count": 1,
      "outputs": [
        {
          "output_type": "stream",
          "name": "stdout",
          "text": [
            "4\n",
            "123 1 1\n",
            "356 1 0\n",
            "327 2 0\n",
            "489 0 1\n",
            "2\n"
          ]
        }
      ]
    }
  ],
  "metadata": {
    "colab": {
      "name": "2503(숫자 야구).ipynb",
      "provenance": [],
      "collapsed_sections": [],
      "authorship_tag": "ABX9TyOti9tYzOWQBI0OKQdKzOTL",
      "include_colab_link": true
    },
    "kernelspec": {
      "display_name": "Python 3",
      "name": "python3"
    },
    "language_info": {
      "name": "python"
    }
  },
  "nbformat": 4,
  "nbformat_minor": 0
}