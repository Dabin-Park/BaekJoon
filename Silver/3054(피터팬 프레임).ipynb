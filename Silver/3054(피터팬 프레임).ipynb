{
  "nbformat": 4,
  "nbformat_minor": 0,
  "metadata": {
    "colab": {
      "provenance": [],
      "collapsed_sections": [],
      "authorship_tag": "ABX9TyMGPxs334WssVBm/FkHE24s",
      "include_colab_link": true
    },
    "kernelspec": {
      "name": "python3",
      "display_name": "Python 3"
    },
    "language_info": {
      "name": "python"
    }
  },
  "cells": [
    {
      "cell_type": "markdown",
      "metadata": {
        "id": "view-in-github",
        "colab_type": "text"
      },
      "source": [
        "<a href=\"https://colab.research.google.com/github/Dabin-Park/BaekJoon/blob/main/Silver/3054(%ED%94%BC%ED%84%B0%ED%8C%AC%20%ED%94%84%EB%A0%88%EC%9E%84).ipynb\" target=\"_parent\"><img src=\"https://colab.research.google.com/assets/colab-badge.svg\" alt=\"Open In Colab\"/></a>"
      ]
    },
    {
      "cell_type": "code",
      "source": [
        "Alpha = list(input())\n",
        "\n",
        "len_Alpha = len(Alpha)\n",
        "\n",
        "for i in range(1,6):\n",
        "    if i%3:\n",
        "        if i%2:\n",
        "            n = 1\n",
        "            while n < len_Alpha + 1:\n",
        "                if n%3:\n",
        "                    print(\"..#.\", end = \"\")\n",
        "                else:\n",
        "                    print(\"..*.\", end = \"\")\n",
        "                n += 1\n",
        "            print(\".\")\n",
        "        else:\n",
        "            n = 1\n",
        "            while n < len_Alpha + 1:\n",
        "                if n%3:\n",
        "                    print(\".#.#\", end = \"\")\n",
        "                else:\n",
        "                    print(\".*.*\", end = \"\")\n",
        "                n += 1\n",
        "            print(\".\")\n",
        "    else:\n",
        "        print(\"#\", end = \"\")\n",
        "        for x,alpha in enumerate(Alpha):\n",
        "            if (x+1)%3 == 1:\n",
        "                print(\".\" + alpha + \".\", end = \"\")\n",
        "            elif (x+1)%3 == 2:\n",
        "                print(\"#.\" + alpha + \".\", end = \"\")\n",
        "            else:\n",
        "                print(\"*.\" + alpha + \".*\", end = \"\")\n",
        "        if len_Alpha%3:\n",
        "            print(\"#\")\n",
        "        else:\n",
        "            print()"
      ],
      "metadata": {
        "id": "ZFrLikbd4n2z",
        "outputId": "c1df091d-c5cd-46a4-ac21-479879630747",
        "colab": {
          "base_uri": "https://localhost:8080/"
        }
      },
      "execution_count": 1,
      "outputs": [
        {
          "output_type": "stream",
          "name": "stdout",
          "text": [
            "ABCD\n",
            "..#...#...*...#..\n",
            ".#.#.#.#.*.*.#.#.\n",
            "#.A.#.B.*.C.*.D.#\n",
            ".#.#.#.#.*.*.#.#.\n",
            "..#...#...*...#..\n"
          ]
        }
      ]
    }
  ]
}