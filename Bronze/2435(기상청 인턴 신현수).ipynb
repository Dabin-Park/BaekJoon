{
  "nbformat": 4,
  "nbformat_minor": 0,
  "metadata": {
    "colab": {
      "provenance": [],
      "collapsed_sections": [],
      "authorship_tag": "ABX9TyPqe7EHJiC2VQjpOF6jdBIp",
      "include_colab_link": true
    },
    "kernelspec": {
      "name": "python3",
      "display_name": "Python 3"
    },
    "language_info": {
      "name": "python"
    }
  },
  "cells": [
    {
      "cell_type": "markdown",
      "metadata": {
        "id": "view-in-github",
        "colab_type": "text"
      },
      "source": [
        "<a href=\"https://colab.research.google.com/github/Dabin-Park/BaekJoon/blob/main/Bronze/2435(%EA%B8%B0%EC%83%81%EC%B2%AD%20%EC%9D%B8%ED%84%B4%20%EC%8B%A0%ED%98%84%EC%88%98).ipynb\" target=\"_parent\"><img src=\"https://colab.research.google.com/assets/colab-badge.svg\" alt=\"Open In Colab\"/></a>"
      ]
    },
    {
      "cell_type": "code",
      "source": [
        "def sol():\n",
        "    N,K = map(int,input().split())\n",
        "    Temperature = tuple(map(int,input().split()))\n",
        "    Max = [sum(Temperature[:K])]\n",
        "    for i in range(K,N):\n",
        "        Max.append(Max[-1]-Temperature[i-K] + Temperature[i])\n",
        "    return max(Max)\n",
        "\n",
        "print(sol())"
      ],
      "metadata": {
        "id": "k7eFI1eAZZ1Z",
        "outputId": "a9309855-ca05-4e28-fd5d-185294af4bb6",
        "colab": {
          "base_uri": "https://localhost:8080/"
        }
      },
      "execution_count": 1,
      "outputs": [
        {
          "output_type": "stream",
          "name": "stdout",
          "text": [
            "10 2\n",
            "3 -2 -4 -9 0 3 7 13 8 -3\n",
            "21\n"
          ]
        }
      ]
    },
    {
      "cell_type": "code",
      "source": [
        "def sol():\n",
        "    N,K = map(int,input().split())\n",
        "    Temperature = tuple(map(int,input().split()))\n",
        "    num = max_ = sum(Temperature[:K])\n",
        "    for i in range(K,N):\n",
        "        num += Temperature[i] - Temperature[i-K]\n",
        "        max_ = max(max_, num)\n",
        "    return max_\n",
        "\n",
        "print(sol())"
      ],
      "metadata": {
        "colab": {
          "base_uri": "https://localhost:8080/"
        },
        "id": "zl2kllSv4wHK",
        "outputId": "b56b0669-d32a-48f2-ad31-db1a2df3722d"
      },
      "execution_count": 2,
      "outputs": [
        {
          "output_type": "stream",
          "name": "stdout",
          "text": [
            "10 2\n",
            "3 -2 -4 -9 0 3 7 13 8 -3\n",
            "21\n"
          ]
        }
      ]
    }
  ]
}