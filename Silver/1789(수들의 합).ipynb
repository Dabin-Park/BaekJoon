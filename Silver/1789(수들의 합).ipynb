{
  "nbformat": 4,
  "nbformat_minor": 0,
  "metadata": {
    "colab": {
      "name": "1789(수들의 합).ipynb",
      "provenance": [],
      "authorship_tag": "ABX9TyMhFb32E8psXkS4Tcm7M8xo",
      "include_colab_link": true
    },
    "kernelspec": {
      "name": "python3",
      "display_name": "Python 3"
    },
    "language_info": {
      "name": "python"
    }
  },
  "cells": [
    {
      "cell_type": "markdown",
      "metadata": {
        "id": "view-in-github",
        "colab_type": "text"
      },
      "source": [
        "<a href=\"https://colab.research.google.com/github/Dabin-Park/BaekJoon/blob/main/Silver/1789(%EC%88%98%EB%93%A4%EC%9D%98%20%ED%95%A9).ipynb\" target=\"_parent\"><img src=\"https://colab.research.google.com/assets/colab-badge.svg\" alt=\"Open In Colab\"/></a>"
      ]
    },
    {
      "cell_type": "code",
      "execution_count": 1,
      "metadata": {
        "colab": {
          "base_uri": "https://localhost:8080/"
        },
        "id": "dT6CvtQPNnKQ",
        "outputId": "47b6cefe-3cf2-4c8a-a3bf-37f20a5b9dad"
      },
      "outputs": [
        {
          "output_type": "stream",
          "name": "stdout",
          "text": [
            "200\n",
            "19\n"
          ]
        }
      ],
      "source": [
        "S = int(input())\n",
        "num = 0\n",
        "i = 1\n",
        "while S > 0:\n",
        "    S -= i\n",
        "    i += 1\n",
        "    num += 1\n",
        "\n",
        "if S:\n",
        "    num -= 1\n",
        "\n",
        "print(num)"
      ]
    }
  ]
}