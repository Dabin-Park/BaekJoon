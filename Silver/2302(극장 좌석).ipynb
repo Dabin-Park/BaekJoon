{
  "nbformat": 4,
  "nbformat_minor": 0,
  "metadata": {
    "colab": {
      "name": "Silver/2302(극장 좌석).ipynb",
      "provenance": [],
      "authorship_tag": "ABX9TyNESss4tNg2HTXEtDA1814Y",
      "include_colab_link": true
    },
    "kernelspec": {
      "name": "python3",
      "display_name": "Python 3"
    },
    "language_info": {
      "name": "python"
    }
  },
  "cells": [
    {
      "cell_type": "markdown",
      "metadata": {
        "id": "view-in-github",
        "colab_type": "text"
      },
      "source": [
        "<a href=\"https://colab.research.google.com/github/Dabin-Park/BaekJoon/blob/main/Silver/2302(%EA%B7%B9%EC%9E%A5%20%EC%A2%8C%EC%84%9D).ipynb\" target=\"_parent\"><img src=\"https://colab.research.google.com/assets/colab-badge.svg\" alt=\"Open In Colab\"/></a>"
      ]
    },
    {
      "cell_type": "code",
      "execution_count": 1,
      "metadata": {
        "colab": {
          "base_uri": "https://localhost:8080/"
        },
        "id": "dT6CvtQPNnKQ",
        "outputId": "db20abac-2dec-4836-c23a-63cb3889a2a8"
      },
      "outputs": [
        {
          "output_type": "stream",
          "name": "stdout",
          "text": [
            "9\n",
            "2\n",
            "4\n",
            "7\n",
            "12\n"
          ]
        }
      ],
      "source": [
        "N = int(input())\n",
        "M = int(input())\n",
        "Fix = [int(input()) for _ in range(M)]\n",
        "fix = [0 for _ in range(N+1)]\n",
        "for f in Fix:\n",
        "    fix[f] = 1\n",
        "    \n",
        "dp = [0 for _ in range(N+1)]\n",
        "dp[0],dp[1] = 1,1\n",
        "\n",
        "for i in range(2,N+1):\n",
        "    dp[i] = dp[i-1] + dp[i-2]\n",
        "\n",
        "num1, num2, i = 1, 0, 1\n",
        "\n",
        "while i <= N:\n",
        "    if fix[i]:\n",
        "        num1 *= dp[num2]\n",
        "        num2 = 0\n",
        "    else:\n",
        "        num2 += 1\n",
        "    i += 1\n",
        "        \n",
        "num1 *= dp[num2]\n",
        "print(num1)"
      ]
    }
  ]
}