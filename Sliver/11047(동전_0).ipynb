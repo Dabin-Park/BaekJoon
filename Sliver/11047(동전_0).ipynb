{
  "nbformat": 4,
  "nbformat_minor": 0,
  "metadata": {
    "colab": {
      "name": "11047(동전 0).ipynb",
      "provenance": [],
      "authorship_tag": "ABX9TyPSqxXAD6W7iE5VZn+Geik9",
      "include_colab_link": true
    },
    "kernelspec": {
      "name": "python3",
      "display_name": "Python 3"
    },
    "language_info": {
      "name": "python"
    }
  },
  "cells": [
    {
      "cell_type": "markdown",
      "metadata": {
        "id": "view-in-github",
        "colab_type": "text"
      },
      "source": [
        "<a href=\"https://colab.research.google.com/github/Dabin-Park/BaekJoon/blob/main/Sliver/11047(%EB%8F%99%EC%A0%84_0).ipynb\" target=\"_parent\"><img src=\"https://colab.research.google.com/assets/colab-badge.svg\" alt=\"Open In Colab\"/></a>"
      ]
    },
    {
      "cell_type": "code",
      "execution_count": 10,
      "metadata": {
        "colab": {
          "base_uri": "https://localhost:8080/"
        },
        "id": "O6_m-e5csb7W",
        "outputId": "941a9693-de3b-432d-8b11-f5af53251c57"
      },
      "outputs": [
        {
          "output_type": "stream",
          "name": "stdout",
          "text": [
            "10 4200\n",
            "1\n",
            "5\n",
            "10\n",
            "50\n",
            "100\n",
            "500\n",
            "1000\n",
            "5000\n",
            "10000\n",
            "50000\n",
            "6\n"
          ]
        }
      ],
      "source": [
        "N ,K = list(map(int,input().split()))\n",
        "A = []\n",
        "\n",
        "for _ in range(N):\n",
        "    a = int(input())\n",
        "    A.insert(0,a)\n",
        "\n",
        "n = 0\n",
        "\n",
        "for i in range(N):\n",
        "    if A[i] <= K:\n",
        "        n += K//A[i]\n",
        "        K %= A[i]    \n",
        "        if K == 0:\n",
        "            break;\n",
        "\n",
        "print(n)\n"
      ]
    }
  ]
}