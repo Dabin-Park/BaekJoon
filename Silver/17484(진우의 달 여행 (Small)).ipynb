{
  "nbformat": 4,
  "nbformat_minor": 0,
  "metadata": {
    "colab": {
      "provenance": [],
      "authorship_tag": "ABX9TyN8biMdOXqCT//UO/5tDs7C",
      "include_colab_link": true
    },
    "kernelspec": {
      "name": "python3",
      "display_name": "Python 3"
    },
    "language_info": {
      "name": "python"
    }
  },
  "cells": [
    {
      "cell_type": "markdown",
      "metadata": {
        "id": "view-in-github",
        "colab_type": "text"
      },
      "source": [
        "<a href=\"https://colab.research.google.com/github/Dabin-Park/BaekJoon/blob/main/Silver/17484(%EC%A7%84%EC%9A%B0%EC%9D%98%20%EB%8B%AC%20%EC%97%AC%ED%96%89%20(Small)).ipynb\" target=\"_parent\"><img src=\"https://colab.research.google.com/assets/colab-badge.svg\" alt=\"Open In Colab\"/></a>"
      ]
    },
    {
      "cell_type": "code",
      "source": [
        "def sol():\n",
        "    N,M = map(int,input().split())\n",
        "    Way = [list(map(int,input().split())) for _ in range(N)]\n",
        "    dp = [[[100*N]*3] + [[a]*3 for a in Way[0]] + [[100*N]*3]] + [[[100*N]*3] +[[0]*3 for _ in range(M)]+[[100*N]*3] for _ in range(N-1)]\n",
        "    for i in range(1,N):\n",
        "        for j in range(1,M+1):\n",
        "            for k in range(3):\n",
        "                dp[i][j][k] = min(dp[i-1][j-1+k][:k]+dp[i-1][j-1+k][k+1:]) + Way[i][j-1]\n",
        "    min_ = 100*N\n",
        "    for a in dp[-1]:\n",
        "        min_ = min(min(a),min_) \n",
        "    return min_\n",
        "\n",
        "print(sol())"
      ],
      "metadata": {
        "colab": {
          "base_uri": "https://localhost:8080/"
        },
        "id": "tVe3A1mE7-1_",
        "outputId": "94befd91-5d62-4a50-ca42-d40852b2e83f"
      },
      "execution_count": 1,
      "outputs": [
        {
          "output_type": "stream",
          "name": "stdout",
          "text": [
            "6 4\n",
            "5 8 5 1\n",
            "3 5 8 4\n",
            "9 77 65 5\n",
            "2 1 5 2\n",
            "5 98 1 5\n",
            "4 95 67 58\n",
            "29\n"
          ]
        }
      ]
    },
    {
      "cell_type": "code",
      "source": [
        "def sol():\n",
        "    N,M = map(int,input().split())\n",
        "    Way = [list(map(int,input().split())) for _ in range(N)]\n",
        "    dp = [[[100*N]*3] + [[a]*3 for a in Way[0]] + [[100*N]*3]] + [[[100*N]*3] +[[0]*3 for _ in range(M)]+[[100*N]*3] for _ in range(N-1)]\n",
        "    for i in range(1,N-1):\n",
        "        for j in range(1,M+1):\n",
        "            for k in range(3):\n",
        "                dp[i][j][k] = min(dp[i-1][j-1+k][:k]+dp[i-1][j-1+k][k+1:]) + Way[i][j-1]\n",
        "    min_ = 100*N\n",
        "    for j in range(1,M+1):\n",
        "        for k in range(3):\n",
        "            min_ = min(min_,min(dp[-2][j-1+k][:k]+dp[-2][j-1+k][k+1:]) + Way[-1][j-1])\n",
        "\n",
        "    return min_\n",
        "\n",
        "print(sol())"
      ],
      "metadata": {
        "colab": {
          "base_uri": "https://localhost:8080/"
        },
        "id": "Yt_2fLlSRGII",
        "outputId": "4c568da3-ff03-4728-f54a-b29522d4e6be"
      },
      "execution_count": 2,
      "outputs": [
        {
          "output_type": "stream",
          "name": "stdout",
          "text": [
            "6 4\n",
            "5 8 5 1\n",
            "3 5 8 4\n",
            "9 77 65 5\n",
            "2 1 5 2\n",
            "5 98 1 5\n",
            "4 95 67 58\n",
            "29\n"
          ]
        }
      ]
    }
  ]
}