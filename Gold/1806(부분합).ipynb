{
  "nbformat": 4,
  "nbformat_minor": 0,
  "metadata": {
    "colab": {
      "name": "1806(부분합).ipynb",
      "provenance": [],
      "authorship_tag": "ABX9TyMTNEg+tF+6bhxUUiGlbt5D",
      "include_colab_link": true
    },
    "kernelspec": {
      "name": "python3",
      "display_name": "Python 3"
    },
    "language_info": {
      "name": "python"
    }
  },
  "cells": [
    {
      "cell_type": "markdown",
      "metadata": {
        "id": "view-in-github",
        "colab_type": "text"
      },
      "source": [
        "<a href=\"https://colab.research.google.com/github/Dabin-Park/BaekJoon/blob/main/Gold/1806(%EB%B6%80%EB%B6%84%ED%95%A9).ipynb\" target=\"_parent\"><img src=\"https://colab.research.google.com/assets/colab-badge.svg\" alt=\"Open In Colab\"/></a>"
      ]
    },
    {
      "cell_type": "code",
      "source": [
        "def find(Sequnce,N,S):\n",
        "    s,e = 0,0\n",
        "    num = Sequnce[0]\n",
        "    total_len = N + 1\n",
        "    t = 0\n",
        "    while s <= e:\n",
        "        if num < S:\n",
        "            if e == N-1:\n",
        "                if t:\n",
        "                    return total_len\n",
        "                return 0 \n",
        "            e += 1\n",
        "            num += Sequnce[e]\n",
        "        else:\n",
        "            if total_len > e - s + 1:\n",
        "                total_len = e - s + 1\n",
        "                t = 1\n",
        "            if s == e and e < N-1:\n",
        "                num = Sequnce[e+1]\n",
        "                e,s = e+1,e+1\n",
        "            else:\n",
        "                num -= Sequnce[s]\n",
        "                s += 1\n",
        "    return total_len\n",
        "\n",
        "N, S  = map(int,input().split())\n",
        "Sequnce = list(map(int,input().split()))\n",
        "\n",
        "print(find(Sequnce,N,S))"
      ],
      "metadata": {
        "colab": {
          "base_uri": "https://localhost:8080/"
        },
        "id": "4NDvOBDhbpRD",
        "outputId": "eedabf62-50a5-4ac3-cc5e-f8b4e65bbddd"
      },
      "execution_count": 1,
      "outputs": [
        {
          "output_type": "stream",
          "name": "stdout",
          "text": [
            "10 15\n",
            "5 1 3 5 10 7 4 9 2 8\n",
            "2\n"
          ]
        }
      ]
    }
  ]
}