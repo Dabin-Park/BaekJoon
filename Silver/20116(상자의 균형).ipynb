{
  "cells": [
    {
      "cell_type": "markdown",
      "metadata": {
        "id": "view-in-github",
        "colab_type": "text"
      },
      "source": [
        "<a href=\"https://colab.research.google.com/github/Dabin-Park/BaekJoon/blob/main/Silver/20116(%EC%83%81%EC%9E%90%EC%9D%98%20%EA%B7%A0%ED%98%95).ipynb\" target=\"_parent\"><img src=\"https://colab.research.google.com/assets/colab-badge.svg\" alt=\"Open In Colab\"/></a>"
      ]
    },
    {
      "cell_type": "code",
      "source": [
        "n,L = map(int,input().split())\n",
        "A = list(map(int,input().split()))\n",
        "s = [0]*(n+1)\n",
        "\n",
        "for i in range(len(A)):\n",
        "    s[i+1] = A[i] + s[i]\n",
        "    \n",
        "    \n",
        "for i in range(n-1):\n",
        "    t = (s[n]-s[i+1])/(n-i-1)\n",
        "    if A[i]-L < t and A[i]+L > t:\n",
        "        stable = 1\n",
        "    else :\n",
        "        stable = 0\n",
        "        break\n",
        "\n",
        "if stable : \n",
        "    print(\"stable\")\n",
        "else : \n",
        "    print(\"unstable\")"
      ],
      "metadata": {
        "colab": {
          "base_uri": "https://localhost:8080/"
        },
        "id": "nSrvviDnu1sa",
        "outputId": "0dc59b17-0a35-4447-8873-5a4c04fc6ccd"
      },
      "execution_count": 1,
      "outputs": [
        {
          "output_type": "stream",
          "name": "stdout",
          "text": [
            "4 10\n",
            "1 9 11 13\n",
            "unstable\n"
          ]
        }
      ]
    }
  ],
  "metadata": {
    "colab": {
      "name": "20116(상자의 균형).ipynb",
      "provenance": [],
      "collapsed_sections": [],
      "authorship_tag": "ABX9TyO5dFG8NQk29AKDvYHtDPg/",
      "include_colab_link": true
    },
    "kernelspec": {
      "display_name": "Python 3",
      "name": "python3"
    },
    "language_info": {
      "name": "python"
    }
  },
  "nbformat": 4,
  "nbformat_minor": 0
}