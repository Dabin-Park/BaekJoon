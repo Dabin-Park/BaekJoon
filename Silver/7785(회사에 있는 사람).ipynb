{
  "nbformat": 4,
  "nbformat_minor": 0,
  "metadata": {
    "colab": {
      "provenance": [],
      "authorship_tag": "ABX9TyOES6yK9WY2bqqDvDsyizLs",
      "include_colab_link": true
    },
    "kernelspec": {
      "name": "python3",
      "display_name": "Python 3"
    },
    "language_info": {
      "name": "python"
    }
  },
  "cells": [
    {
      "cell_type": "markdown",
      "metadata": {
        "id": "view-in-github",
        "colab_type": "text"
      },
      "source": [
        "<a href=\"https://colab.research.google.com/github/Dabin-Park/BaekJoon/blob/main/Silver/7785(%ED%9A%8C%EC%82%AC%EC%97%90%20%EC%9E%88%EB%8A%94%20%EC%82%AC%EB%9E%8C).ipynb\" target=\"_parent\"><img src=\"https://colab.research.google.com/assets/colab-badge.svg\" alt=\"Open In Colab\"/></a>"
      ]
    },
    {
      "cell_type": "code",
      "source": [
        "def sol(work):\n",
        "    for _ in range(int(input())):\n",
        "        name,_ = input().split()\n",
        "        if name in work:\n",
        "            work.remove(name)\n",
        "        else:\n",
        "            work.add(name)\n",
        "    print(\"\\n\".join(sorted(list(work),key = str,reverse=True)))\n",
        "    \n",
        "sol(set())"
      ],
      "metadata": {
        "colab": {
          "base_uri": "https://localhost:8080/"
        },
        "id": "Wf1zqg3P9ONw",
        "outputId": "bcaa9d6c-abca-4c24-f1c8-99983998bc56"
      },
      "execution_count": 1,
      "outputs": [
        {
          "output_type": "stream",
          "name": "stdout",
          "text": [
            "4\n",
            "Baha enter\n",
            "Askar enter\n",
            "Baha leave\n",
            "Artem enter\n",
            "Askar\n",
            "Artem\n"
          ]
        }
      ]
    }
  ]
}