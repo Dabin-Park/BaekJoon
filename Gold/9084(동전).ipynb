{
  "nbformat": 4,
  "nbformat_minor": 0,
  "metadata": {
    "colab": {
      "provenance": [],
      "authorship_tag": "ABX9TyM0IAGbehAn+60EN+ni+Sqo",
      "include_colab_link": true
    },
    "kernelspec": {
      "name": "python3",
      "display_name": "Python 3"
    },
    "language_info": {
      "name": "python"
    }
  },
  "cells": [
    {
      "cell_type": "markdown",
      "metadata": {
        "id": "view-in-github",
        "colab_type": "text"
      },
      "source": [
        "<a href=\"https://colab.research.google.com/github/Dabin-Park/BaekJoon/blob/main/Gold/9084(%EB%8F%99%EC%A0%84).ipynb\" target=\"_parent\"><img src=\"https://colab.research.google.com/assets/colab-badge.svg\" alt=\"Open In Colab\"/></a>"
      ]
    },
    {
      "cell_type": "code",
      "source": [
        "def sol():\n",
        "    for _ in range(int(input())):\n",
        "        N = int(input())\n",
        "        Coin = list(map(int,input().split()))[::-1]\n",
        "        M = int(input())\n",
        "        dp = [[0 if i%Coin[0] else 1 for i in range(M+1)]]+[[1] + [0]*M for _ in range(N-1)]\n",
        "        for i in range(1,N):\n",
        "            c = Coin[i]\n",
        "            for j in range(c,M+1):\n",
        "                dp[i][j] = dp[i][j-c] + dp[i-1][j]\n",
        "        print(dp[-1][-1])\n",
        "        \n",
        "sol()"
      ],
      "metadata": {
        "colab": {
          "base_uri": "https://localhost:8080/"
        },
        "id": "8BV4BOoMl-cj",
        "outputId": "61017649-c5c9-433d-bcc3-72161ccfd600"
      },
      "execution_count": null,
      "outputs": [
        {
          "output_type": "stream",
          "name": "stdout",
          "text": [
            "3\n",
            "2\n",
            "1 2\n",
            "1000\n",
            "501\n",
            "3\n",
            "1 5 10\n",
            "100\n",
            "121\n",
            "2 \n",
            "5 7\n",
            "22 \n",
            "1\n"
          ]
        }
      ]
    },
    {
      "cell_type": "code",
      "source": [
        "def sol():\n",
        "    for _ in range(int(input())):\n",
        "        input()\n",
        "        Coin = list(map(int,input().split()))\n",
        "        M = int(input())\n",
        "        dp = [1]+[0]*M\n",
        "        for c in Coin:\n",
        "            for i in range(c,M+1):\n",
        "                dp[i] += dp[i-c]\n",
        "        print(dp[-1])\n",
        "        \n",
        "sol()"
      ],
      "metadata": {
        "colab": {
          "base_uri": "https://localhost:8080/"
        },
        "id": "beOXNwgn5EQ_",
        "outputId": "d561c06c-b76e-4ef4-c8a0-f64531bd8a5b"
      },
      "execution_count": null,
      "outputs": [
        {
          "output_type": "stream",
          "name": "stdout",
          "text": [
            "3\n",
            "2\n",
            "1 2\n",
            "1000\n",
            "501\n",
            "3\n",
            "1 5 10\n",
            "100\n",
            "121\n",
            "2\n",
            "5 7\n",
            "22\n",
            "1\n"
          ]
        }
      ]
    }
  ]
}