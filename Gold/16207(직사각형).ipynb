{
  "nbformat": 4,
  "nbformat_minor": 0,
  "metadata": {
    "colab": {
      "name": "16207(직사각형).ipynb",
      "provenance": [],
      "authorship_tag": "ABX9TyNAVfUgdHGScF3X1gn+oV50",
      "include_colab_link": true
    },
    "kernelspec": {
      "name": "python3",
      "display_name": "Python 3"
    },
    "language_info": {
      "name": "python"
    }
  },
  "cells": [
    {
      "cell_type": "markdown",
      "metadata": {
        "id": "view-in-github",
        "colab_type": "text"
      },
      "source": [
        "<a href=\"https://colab.research.google.com/github/Dabin-Park/BaekJoon/blob/main/Gold/16207(%EC%A7%81%EC%82%AC%EA%B0%81%ED%98%95).ipynb\" target=\"_parent\"><img src=\"https://colab.research.google.com/assets/colab-badge.svg\" alt=\"Open In Colab\"/></a>"
      ]
    },
    {
      "cell_type": "code",
      "source": [
        "def in_(h,w,S,i,j):\n",
        "    if h:\n",
        "        return h,S[i]-j, i+1\n",
        "    return S[i]-j, w, i+1\n",
        "\n",
        "N = int(input())\n",
        "Stick = sorted(list(map(int,input().split())), reverse=True)\n",
        "h,w,i,num = 0,0,0,0\n",
        "while i < N-1:\n",
        "    if Stick[i] == Stick[i+1]:\n",
        "        h,w,i = in_(h,w,Stick,i,0)\n",
        "    elif Stick[i]-1 == Stick[i+1]:\n",
        "        h,w,i = in_(h,w,Stick,i,1)\n",
        "    i += 1\n",
        "    if w:\n",
        "        num += h*w\n",
        "        h,w = 0,0\n",
        "            \n",
        "print(num)"
      ],
      "metadata": {
        "colab": {
          "base_uri": "https://localhost:8080/"
        },
        "id": "whXH70HTj9iH",
        "outputId": "03ab5902-acb9-4d3d-850b-721697bdee02"
      },
      "execution_count": null,
      "outputs": [
        {
          "output_type": "stream",
          "name": "stdout",
          "text": [
            "4\n",
            "5 5 6 6\n",
            "30\n"
          ]
        }
      ]
    },
    {
      "cell_type": "code",
      "source": [
        "N = int(input())\n",
        "Stick = sorted(list(map(int,input().split())))\n",
        "use = []\n",
        "\n",
        "while len(Stick) > 1:\n",
        "    a,b = Stick[-2:]\n",
        "    if a == b or a == b-1:\n",
        "        use.append(a)\n",
        "        del Stick[-2:]\n",
        "    else:\n",
        "        Stick.pop()\n",
        "        \n",
        "if len(use)%2:\n",
        "    use.pop()\n",
        "           \n",
        "print(sum(use[i]*use[i+1] for i in range(0,len(use),2)))"
      ],
      "metadata": {
        "colab": {
          "base_uri": "https://localhost:8080/"
        },
        "id": "hfY0SGOjovSF",
        "outputId": "aa0779ef-dc8e-47f9-f22e-82818c6ecb49"
      },
      "execution_count": null,
      "outputs": [
        {
          "output_type": "stream",
          "name": "stdout",
          "text": [
            "4\n",
            "5 5 6 6\n",
            "30\n"
          ]
        }
      ]
    },
    {
      "cell_type": "code",
      "source": [
        "N = int(input())\n",
        "Stick = sorted(list(map(int,input().split())))\n",
        "use = []\n",
        "\n",
        "while len(Stick) > 1:\n",
        "    a,b = Stick[-2:]\n",
        "    if b - a < 2:\n",
        "        use.append(a)\n",
        "        del Stick[-2:]\n",
        "    else:\n",
        "        Stick.pop()\n",
        "        \n",
        "if len(use)%2:\n",
        "    use.pop()\n",
        "           \n",
        "print(sum(use[i]*use[i+1] for i in range(0,len(use),2)))"
      ],
      "metadata": {
        "id": "_jk7XGyGEACM",
        "outputId": "b417f7cc-14df-4c4f-f4a5-249864140ee1",
        "colab": {
          "base_uri": "https://localhost:8080/"
        }
      },
      "execution_count": 1,
      "outputs": [
        {
          "output_type": "stream",
          "name": "stdout",
          "text": [
            "4\n",
            "5 5 6 6 \n",
            "30\n"
          ]
        }
      ]
    }
  ]
}