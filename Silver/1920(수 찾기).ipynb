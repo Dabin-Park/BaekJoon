{
  "cells": [
    {
      "cell_type": "markdown",
      "metadata": {
        "id": "view-in-github",
        "colab_type": "text"
      },
      "source": [
        "<a href=\"https://colab.research.google.com/github/Dabin-Park/BaekJoon/blob/main/Silver/1920(%EC%88%98%20%EC%B0%BE%EA%B8%B0).ipynb\" target=\"_parent\"><img src=\"https://colab.research.google.com/assets/colab-badge.svg\" alt=\"Open In Colab\"/></a>"
      ]
    },
    {
      "cell_type": "code",
      "execution_count": 1,
      "metadata": {
        "colab": {
          "base_uri": "https://localhost:8080/"
        },
        "id": "O6_m-e5csb7W",
        "outputId": "e500e870-7aae-4818-b4a5-a4455cd00463"
      },
      "outputs": [
        {
          "output_type": "stream",
          "name": "stdout",
          "text": [
            "5\n",
            "4 1 5 2 3\n",
            "5\n",
            "1 3 7 9 5\n",
            "1\n",
            "1\n",
            "0\n",
            "0\n",
            "1\n"
          ]
        }
      ],
      "source": [
        "def find(A,b,start,end):\n",
        "    n = (start+end)//2\n",
        "    if start > end:\n",
        "        print(0)\n",
        "    elif A[n] == b:\n",
        "        print(1)\n",
        "    elif A[n] < b :\n",
        "        find(A,b,n+1,end)\n",
        "    else:\n",
        "        find(A,b,start,n-1)\n",
        "        \n",
        "    \n",
        "\n",
        "N = int(input())\n",
        "\n",
        "A = list(map(int,input().split()))\n",
        "\n",
        "A = sorted(A)\n",
        "\n",
        "M = int(input())\n",
        "\n",
        "B = list(map(int,input().split()))\n",
        "\n",
        "for i in range(M):\n",
        "    if B[i] == A[0] or B[i] == A[-1]:\n",
        "        print(1)\n",
        "    elif B[i] > A[-1] or B[i] < A[0]:\n",
        "        print(0)\n",
        "    else:\n",
        "        find(A,B[i],0,N-1)"
      ]
    },
    {
      "cell_type": "code",
      "execution_count": 2,
      "metadata": {
        "colab": {
          "base_uri": "https://localhost:8080/"
        },
        "id": "H6Gb6_oCst2J",
        "outputId": "4fdca556-012c-49c0-f791-357b287581b2"
      },
      "outputs": [
        {
          "output_type": "stream",
          "name": "stdout",
          "text": [
            "5\n",
            "4 1 5 2 3\n",
            "5\n",
            "1 3 7 9 5\n",
            "1\n",
            "1\n",
            "0\n",
            "0\n",
            "1\n"
          ]
        }
      ],
      "source": [
        "def find(A,b,start,end):\n",
        "    while start <= end:\n",
        "        n = (start+end)//2\n",
        "        if A[n] == b:\n",
        "            return 1\n",
        "        elif A[n] < b :\n",
        "            start = n+1\n",
        "        else:\n",
        "            end = n-1\n",
        "    return 0 \n",
        "        \n",
        "    \n",
        "\n",
        "N = int(input())\n",
        "\n",
        "A = list(map(int,input().split()))\n",
        "\n",
        "A = sorted(A)\n",
        "\n",
        "M = int(input())\n",
        "\n",
        "B = list(map(int,input().split()))\n",
        "\n",
        "for i in range(M):\n",
        "    if B[i] == A[0] or B[i] == A[-1]:\n",
        "        print(1)\n",
        "    elif B[i] > A[-1] or B[i] < A[0]:\n",
        "        print(0)\n",
        "    else:\n",
        "        print(find(A,B[i],0,N-1))"
      ]
    }
  ],
  "metadata": {
    "colab": {
      "name": "1920(수 찾기).ipynb",
      "provenance": [],
      "authorship_tag": "ABX9TyMV+lkgMFWXcTyauORNVQiv",
      "include_colab_link": true
    },
    "kernelspec": {
      "display_name": "Python 3",
      "name": "python3"
    },
    "language_info": {
      "name": "python"
    }
  },
  "nbformat": 4,
  "nbformat_minor": 0
}