{
  "nbformat": 4,
  "nbformat_minor": 0,
  "metadata": {
    "colab": {
      "name": "2758(로또).ipynb",
      "provenance": [],
      "collapsed_sections": [],
      "authorship_tag": "ABX9TyP8VZDbYjths9ay3zpHJy2D",
      "include_colab_link": true
    },
    "kernelspec": {
      "name": "python3",
      "display_name": "Python 3"
    },
    "language_info": {
      "name": "python"
    }
  },
  "cells": [
    {
      "cell_type": "markdown",
      "metadata": {
        "id": "view-in-github",
        "colab_type": "text"
      },
      "source": [
        "<a href=\"https://colab.research.google.com/github/Dabin-Park/BaekJoon/blob/main/Gold/2758(%EB%A1%9C%EB%98%90).ipynb\" target=\"_parent\"><img src=\"https://colab.research.google.com/assets/colab-badge.svg\" alt=\"Open In Colab\"/></a>"
      ]
    },
    {
      "cell_type": "code",
      "source": [
        "for _ in range(int(input())):\n",
        "    n,m = map(int,input().split())\n",
        "    dp = [[0]+[1]*m] + [[0 for _ in range(m+1)] for _ in range(n-1)]\n",
        "    \n",
        "    for j in range(1,n):\n",
        "        dp[j][1] = sum(dp[j-1][2:])\n",
        "        for i in range(2,m+1):\n",
        "            if dp[j][i-1]:\n",
        "                dp[j][i] = dp[j][i-1] - sum(dp[j-1][2*i-2:2*i])\n",
        "            else:\n",
        "                break\n",
        "    print(sum(dp[-1]))"
      ],
      "metadata": {
        "id": "ZFrLikbd4n2z",
        "outputId": "d081e906-cebb-4680-b280-382cc8d1bf99",
        "colab": {
          "base_uri": "https://localhost:8080/"
        }
      },
      "execution_count": 1,
      "outputs": [
        {
          "output_type": "stream",
          "name": "stdout",
          "text": [
            "1\n",
            "4 10\n",
            "4\n"
          ]
        }
      ]
    }
  ]
}