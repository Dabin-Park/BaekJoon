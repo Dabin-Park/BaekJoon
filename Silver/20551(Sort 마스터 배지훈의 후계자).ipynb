{
  "nbformat": 4,
  "nbformat_minor": 0,
  "metadata": {
    "colab": {
      "provenance": [],
      "authorship_tag": "ABX9TyMFEi9qX5o1czU+vJBGLZLU",
      "include_colab_link": true
    },
    "kernelspec": {
      "name": "python3",
      "display_name": "Python 3"
    },
    "language_info": {
      "name": "python"
    }
  },
  "cells": [
    {
      "cell_type": "markdown",
      "metadata": {
        "id": "view-in-github",
        "colab_type": "text"
      },
      "source": [
        "<a href=\"https://colab.research.google.com/github/Dabin-Park/BaekJoon/blob/main/Silver/20551(Sort%20%EB%A7%88%EC%8A%A4%ED%84%B0%20%EB%B0%B0%EC%A7%80%ED%9B%88%EC%9D%98%20%ED%9B%84%EA%B3%84%EC%9E%90).ipynb\" target=\"_parent\"><img src=\"https://colab.research.google.com/assets/colab-badge.svg\" alt=\"Open In Colab\"/></a>"
      ]
    },
    {
      "cell_type": "code",
      "execution_count": 1,
      "metadata": {
        "colab": {
          "base_uri": "https://localhost:8080/"
        },
        "id": "V2C1sM_6QvYk",
        "outputId": "da612ca1-654b-49a4-ebab-41123cadb359"
      },
      "outputs": [
        {
          "output_type": "stream",
          "name": "stdout",
          "text": [
            "5 5 \n",
            "9\n",
            "0\n",
            "-1\n",
            "3\n",
            "2\n",
            "-1\n",
            "0\n",
            "10\n",
            "-1\n",
            "5\n",
            "-1\n",
            "9\n",
            "4\n",
            "0\n",
            "1\n"
          ]
        }
      ],
      "source": [
        "def sol():\n",
        "    N,M = map(int,input().split())\n",
        "    Sequnce = sorted([int(input()) for _ in range(N)])\n",
        "    set_of_Sequnce = set(Sequnce)\n",
        "    for _ in range(M):\n",
        "        a = int(input())\n",
        "        if a in set_of_Sequnce:\n",
        "            s,e = 0,N-1\n",
        "            while s <= e:\n",
        "                m = (s+e)//2\n",
        "                n = Sequnce[m]\n",
        "                if a == n:\n",
        "                    if m == e:\n",
        "                        print(m)\n",
        "                        break\n",
        "                    e = m\n",
        "                elif a > n:\n",
        "                    s = m+1\n",
        "                else:\n",
        "                    e = m-1\n",
        "        else:\n",
        "            print(-1)\n",
        "\n",
        "sol()"
      ]
    },
    {
      "cell_type": "code",
      "source": [
        "def sol():\n",
        "    N,M = map(int,input().split())\n",
        "    Sequnce = sorted([int(input()) for _ in range(N)])\n",
        "    for _ in range(M):\n",
        "        a = int(input())\n",
        "        s,e,num = 0,N-1,-1\n",
        "        while s <= e:\n",
        "            m = (s+e)//2\n",
        "            n = Sequnce[m]\n",
        "            if a == n:\n",
        "                if m == e:\n",
        "                    num  = m\n",
        "                    break\n",
        "                e = m\n",
        "            elif a > n:\n",
        "                s = m+1\n",
        "            else:\n",
        "                e = m-1\n",
        "        print(num)\n",
        "\n",
        "sol()"
      ],
      "metadata": {
        "colab": {
          "base_uri": "https://localhost:8080/"
        },
        "id": "YwMVKi5Be2wy",
        "outputId": "3f4d2eac-14d3-40ec-9f8d-1da922dd3467"
      },
      "execution_count": 2,
      "outputs": [
        {
          "output_type": "stream",
          "name": "stdout",
          "text": [
            "5 5\n",
            "9\n",
            "0\n",
            "-1\n",
            "3\n",
            "2\n",
            "-1\n",
            "0\n",
            "10\n",
            "-1\n",
            "5\n",
            "-1\n",
            "9\n",
            "4\n",
            "0\n",
            "1\n"
          ]
        }
      ]
    }
  ]
}