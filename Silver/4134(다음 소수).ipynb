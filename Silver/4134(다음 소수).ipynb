{
  "nbformat": 4,
  "nbformat_minor": 0,
  "metadata": {
    "colab": {
      "provenance": [],
      "authorship_tag": "ABX9TyMq+sOim2c8CP/WCIBIoHGC",
      "include_colab_link": true
    },
    "kernelspec": {
      "name": "python3",
      "display_name": "Python 3"
    },
    "language_info": {
      "name": "python"
    }
  },
  "cells": [
    {
      "cell_type": "markdown",
      "metadata": {
        "id": "view-in-github",
        "colab_type": "text"
      },
      "source": [
        "<a href=\"https://colab.research.google.com/github/Dabin-Park/BaekJoon/blob/main/Silver/4134(%EB%8B%A4%EC%9D%8C%20%EC%86%8C%EC%88%98).ipynb\" target=\"_parent\"><img src=\"https://colab.research.google.com/assets/colab-badge.svg\" alt=\"Open In Colab\"/></a>"
      ]
    },
    {
      "cell_type": "code",
      "source": [
        "def sol(N):\n",
        "    while True:\n",
        "        t = 1\n",
        "        for i in range(3,int(N**0.5)+1,2):\n",
        "            if N%i == 0:\n",
        "                N += 2\n",
        "                t = 0\n",
        "                break\n",
        "        if t:\n",
        "            return N\n",
        "    \n",
        "for _ in range(int(input())):\n",
        "    N = int(input())\n",
        "    if N <= 2:\n",
        "        print(2)\n",
        "    else:\n",
        "        if N%2 == 0:\n",
        "            N += 1\n",
        "        print(sol(N))"
      ],
      "metadata": {
        "colab": {
          "base_uri": "https://localhost:8080/"
        },
        "id": "hP4gfGRVQYlr",
        "outputId": "05794619-0b88-45b3-98d4-53e274a1b160"
      },
      "execution_count": 1,
      "outputs": [
        {
          "output_type": "stream",
          "name": "stdout",
          "text": [
            "3\n",
            "6\n",
            "7\n",
            "20\n",
            "23\n",
            "100\n",
            "101\n"
          ]
        }
      ]
    }
  ]
}