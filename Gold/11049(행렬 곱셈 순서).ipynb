{
  "nbformat": 4,
  "nbformat_minor": 0,
  "metadata": {
    "colab": {
      "provenance": [],
      "collapsed_sections": [],
      "authorship_tag": "ABX9TyOp5hgChE9z4yHYdEdhrYWk",
      "include_colab_link": true
    },
    "kernelspec": {
      "name": "python3",
      "display_name": "Python 3"
    },
    "language_info": {
      "name": "python"
    }
  },
  "cells": [
    {
      "cell_type": "markdown",
      "metadata": {
        "id": "view-in-github",
        "colab_type": "text"
      },
      "source": [
        "<a href=\"https://colab.research.google.com/github/Dabin-Park/BaekJoon/blob/main/Gold/11049(%ED%96%89%EB%A0%AC%20%EA%B3%B1%EC%85%88%20%EC%88%9C%EC%84%9C).ipynb\" target=\"_parent\"><img src=\"https://colab.research.google.com/assets/colab-badge.svg\" alt=\"Open In Colab\"/></a>"
      ]
    },
    {
      "cell_type": "markdown",
      "source": [
        "* pypy로 제출해야 풀림\n",
        "    - python으로는 모르겠음"
      ],
      "metadata": {
        "id": "0Xo4d5P4qn2e"
      }
    },
    {
      "cell_type": "code",
      "source": [
        "def sol():\n",
        "    N = int(input())\n",
        "    Matrix = [list(map(int,input().split())) for _ in range(N)]\n",
        "    \n",
        "    dp = [[0]*N for _ in range(N)]  # dp[i][j] : i부터 j번째 행렬 곱셈의 죄소 연산 수\n",
        "    for cnt in range(N-1):\n",
        "        for i in range(N-1-cnt):\n",
        "            j = i + cnt + 1\n",
        "            dp[i][j] = 2**31\n",
        "            for k in range(i,j):\n",
        "                dp[i][j] = min(dp[i][j], dp[i][k] + dp[k+1][j] + Matrix[i][0]*Matrix[k][1]*Matrix[j][1])\n",
        "    return dp[0][-1]\n",
        "\n",
        "print(sol())"
      ],
      "metadata": {
        "id": "ZFrLikbd4n2z",
        "outputId": "683dc66a-6531-4b17-8421-cd48291efdff",
        "colab": {
          "base_uri": "https://localhost:8080/"
        }
      },
      "execution_count": 1,
      "outputs": [
        {
          "output_type": "stream",
          "name": "stdout",
          "text": [
            "3\n",
            "5 3\n",
            "3 2\n",
            "2 6\n",
            "90\n"
          ]
        }
      ]
    }
  ]
}