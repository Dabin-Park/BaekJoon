{
  "nbformat": 4,
  "nbformat_minor": 0,
  "metadata": {
    "colab": {
      "provenance": [],
      "authorship_tag": "ABX9TyPDHoMVx05ztle6HOdBCTEj",
      "include_colab_link": true
    },
    "kernelspec": {
      "name": "python3",
      "display_name": "Python 3"
    },
    "language_info": {
      "name": "python"
    }
  },
  "cells": [
    {
      "cell_type": "markdown",
      "metadata": {
        "id": "view-in-github",
        "colab_type": "text"
      },
      "source": [
        "<a href=\"https://colab.research.google.com/github/Dabin-Park/BaekJoon/blob/main/Gold/5549(%ED%96%89%EC%84%B1%20%ED%83%90%EC%82%AC).ipynb\" target=\"_parent\"><img src=\"https://colab.research.google.com/assets/colab-badge.svg\" alt=\"Open In Colab\"/></a>"
      ]
    },
    {
      "cell_type": "code",
      "source": [
        "def sol():\n",
        "    M,N = map(int,input().split())\n",
        "    K = int(input())\n",
        "    Map = [list(map(int,input().replace(\"J\",'0').replace(\"O\",'1').replace(\"I\",'2').rstrip())) for _ in range(M)]\n",
        "    Number = [[[0,0,0] for _ in range(N+1)] for _ in range(M+1)]\n",
        "    \n",
        "    for i in range(1,M+1):\n",
        "        for j in range(1,N+1):\n",
        "            for k in range(3):\n",
        "                Number[i][j][k] = Number[i][j-1][k] + Number[i-1][j][k] - Number[i-1][j-1][k]\n",
        "            Number[i][j][Map[i-1][j-1]] += 1\n",
        "            \n",
        "    for _ in range(K):\n",
        "        a,b,c,d = map(int,input().split())\n",
        "        for i in range(3):\n",
        "            print(Number[c][d][i] - Number[c][b-1][i] - Number[a-1][d][i] + Number[a-1][b-1][i], end = \" \")\n",
        "        print()\n",
        "sol()"
      ],
      "metadata": {
        "colab": {
          "base_uri": "https://localhost:8080/"
        },
        "id": "-n7Jl3MFSbU9",
        "outputId": "a208af68-298a-404f-eb1c-8160dba66ed0"
      },
      "execution_count": 2,
      "outputs": [
        {
          "output_type": "stream",
          "name": "stdout",
          "text": [
            "4 7\n",
            "4 \n",
            "JIOJOIJ\n",
            "IOJOIJO\n",
            "JOIJOOI\n",
            "OOJJIJO\n",
            "3 5 4 7\n",
            "1 3 2 \n",
            "2 2 3 6\n",
            "3 5 2 \n",
            "2 2 2 2 \n",
            "0 1 0 \n",
            "1 1 4 7\n",
            "10 11 7 \n"
          ]
        }
      ]
    },
    {
      "cell_type": "code",
      "source": [
        "def sol():\n",
        "    M,N = map(int,input().split())\n",
        "    K = int(input())\n",
        "    Map = [list(input().rstrip()) for _ in range(M)]\n",
        "    Number = [[[0,0,0] for _ in range(N+1)] for _ in range(M+1)]\n",
        "    \n",
        "    for i in range(1,M+1):\n",
        "        for j in range(1,N+1):\n",
        "            for k in range(3):\n",
        "                Number[i][j][k] = Number[i][j-1][k] + Number[i-1][j][k] - Number[i-1][j-1][k]\n",
        "            what = Map[i-1][j-1]\n",
        "            if what == \"J\":\n",
        "                num = 0\n",
        "            elif what == \"O\":\n",
        "                num = 1\n",
        "            else:\n",
        "                num = 2\n",
        "            Number[i][j][num] += 1\n",
        "\n",
        "    for _ in range(K):\n",
        "        a,b,c,d = map(int,input().split())\n",
        "        for i in range(3):\n",
        "            print(Number[c][d][i] - Number[c][b-1][i] - Number[a-1][d][i] + Number[a-1][b-1][i], end = \" \")\n",
        "        print()\n",
        "sol()   "
      ],
      "metadata": {
        "colab": {
          "base_uri": "https://localhost:8080/"
        },
        "id": "0tdOaS2pmJHA",
        "outputId": "a143cc00-790e-4c25-bc84-e4c251c8924f"
      },
      "execution_count": 1,
      "outputs": [
        {
          "output_type": "stream",
          "name": "stdout",
          "text": [
            "4 7\n",
            "4\n",
            "JIOJOIJ\n",
            "IOJOIJO\n",
            "JOIJOOI\n",
            "OOJJIJO\n",
            "3 5 4 7\n",
            "1 3 2 \n",
            "2 2 3 6\n",
            "3 5 2 \n",
            "2 2 2 2 \n",
            "0 1 0 \n",
            "1 1 4 7\n",
            "10 11 7 \n"
          ]
        }
      ]
    }
  ]
}