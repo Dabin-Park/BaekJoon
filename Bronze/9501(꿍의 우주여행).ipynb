{
  "nbformat": 4,
  "nbformat_minor": 0,
  "metadata": {
    "colab": {
      "name": "9501(꿍의 우주여행).ipynb",
      "provenance": [],
      "authorship_tag": "ABX9TyNCa40rmM9GkDV+H1aeWbrI",
      "include_colab_link": true
    },
    "kernelspec": {
      "name": "python3",
      "display_name": "Python 3"
    },
    "language_info": {
      "name": "python"
    }
  },
  "cells": [
    {
      "cell_type": "markdown",
      "metadata": {
        "id": "view-in-github",
        "colab_type": "text"
      },
      "source": [
        "<a href=\"https://colab.research.google.com/github/Dabin-Park/BaekJoon/blob/main/Bronze/9501(%EA%BF%8D%EC%9D%98%20%EC%9A%B0%EC%A3%BC%EC%97%AC%ED%96%89).ipynb\" target=\"_parent\"><img src=\"https://colab.research.google.com/assets/colab-badge.svg\" alt=\"Open In Colab\"/></a>"
      ]
    },
    {
      "cell_type": "code",
      "source": [
        "T = int(input())\n",
        "for _ in range(T):\n",
        "    N,D = map(int,input().split())\n",
        "    num = 0\n",
        "    for _ in range(N):\n",
        "        v,f,c = map(int,input().split())\n",
        "        if D/v <= f/c:\n",
        "            num += 1\n",
        "    print(num)"
      ],
      "metadata": {
        "id": "xk6usRE-86iG",
        "colab": {
          "base_uri": "https://localhost:8080/"
        },
        "outputId": "a3c338db-697f-4b6b-afed-eaa9d0ce0a8b"
      },
      "execution_count": 5,
      "outputs": [
        {
          "output_type": "stream",
          "name": "stdout",
          "text": [
            "2\n",
            "3 100\n",
            "52 75 10\n",
            "88 13 44\n",
            "56 9 5\n",
            "2\n",
            "2 920368\n",
            "950 950 1\n",
            "943 976 1\n",
            "1\n"
          ]
        }
      ]
    }
  ]
}