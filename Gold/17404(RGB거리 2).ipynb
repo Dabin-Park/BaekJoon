{
  "nbformat": 4,
  "nbformat_minor": 0,
  "metadata": {
    "colab": {
      "provenance": [],
      "authorship_tag": "ABX9TyOGydRp3SzRy4wVwi7U/ops",
      "include_colab_link": true
    },
    "kernelspec": {
      "name": "python3",
      "display_name": "Python 3"
    },
    "language_info": {
      "name": "python"
    }
  },
  "cells": [
    {
      "cell_type": "markdown",
      "metadata": {
        "id": "view-in-github",
        "colab_type": "text"
      },
      "source": [
        "<a href=\"https://colab.research.google.com/github/Dabin-Park/BaekJoon/blob/main/Gold/17404(RGB%EA%B1%B0%EB%A6%AC%202).ipynb\" target=\"_parent\"><img src=\"https://colab.research.google.com/assets/colab-badge.svg\" alt=\"Open In Colab\"/></a>"
      ]
    },
    {
      "cell_type": "code",
      "source": [
        "def sol(N):\n",
        "    answer = max_ = 1000**2 + 1\n",
        "    data = [list(map(int,input().split())) for _ in range(N)]\n",
        "    for i in range(3):\n",
        "        dp = [data[0].copy()] + [[0]*3 for _ in range(N-1)]\n",
        "        dp[0][i-1] = dp[0][i-2] = max_\n",
        "        for j in range(1,N):\n",
        "            for k in range(3):\n",
        "                dp[j][k] = min(dp[j-1][k-1],dp[j-1][k-2]) + data[j][k]\n",
        "        answer = min(answer,dp[-1][i-1],dp[-1][i-2])\n",
        "    return answer\n",
        "\n",
        "print(sol(int(input())))"
      ],
      "metadata": {
        "colab": {
          "base_uri": "https://localhost:8080/"
        },
        "id": "WgAVHO6Man3x",
        "outputId": "78fde462-e419-4db9-917c-198c6d339230"
      },
      "execution_count": 1,
      "outputs": [
        {
          "output_type": "stream",
          "name": "stdout",
          "text": [
            "3\n",
            "26 40 83\n",
            "49 60 57\n",
            "13 89 99\n",
            "110\n"
          ]
        }
      ]
    }
  ]
}