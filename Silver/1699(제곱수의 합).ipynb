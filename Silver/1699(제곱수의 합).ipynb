{
  "nbformat": 4,
  "nbformat_minor": 0,
  "metadata": {
    "colab": {
      "name": "1699(제곱수의 합).ipynb",
      "provenance": [],
      "authorship_tag": "ABX9TyMqMLgsKRhXgay0N01lwcPh",
      "include_colab_link": true
    },
    "kernelspec": {
      "name": "python3",
      "display_name": "Python 3"
    },
    "language_info": {
      "name": "python"
    }
  },
  "cells": [
    {
      "cell_type": "markdown",
      "metadata": {
        "id": "view-in-github",
        "colab_type": "text"
      },
      "source": [
        "<a href=\"https://colab.research.google.com/github/Dabin-Park/BaekJoon/blob/main/Silver/1699(%EC%A0%9C%EA%B3%B1%EC%88%98%EC%9D%98%20%ED%95%A9).ipynb\" target=\"_parent\"><img src=\"https://colab.research.google.com/assets/colab-badge.svg\" alt=\"Open In Colab\"/></a>"
      ]
    },
    {
      "cell_type": "code",
      "source": [
        "N = int(input())\n",
        "dp = [0,1] + [0 for _ in range(N-1)]\n",
        "Squares = [i*i for i in range(1,int(N**0.5)+1)]\n",
        "for s in Squares:\n",
        "    dp[s] = 1\n",
        "\n",
        "for i in range(2,N+1):\n",
        "    if dp[i] == 0:\n",
        "        dp[i] = min([dp[i-s] for s in Squares if s < i]) + 1\n",
        "\n",
        "print(dp[-1])"
      ],
      "metadata": {
        "colab": {
          "base_uri": "https://localhost:8080/"
        },
        "id": "4NDvOBDhbpRD",
        "outputId": "c48173cf-f240-4106-93bb-c656fff157d8"
      },
      "execution_count": 5,
      "outputs": [
        {
          "output_type": "stream",
          "name": "stdout",
          "text": [
            "7\n",
            "4\n"
          ]
        }
      ]
    }
  ]
}