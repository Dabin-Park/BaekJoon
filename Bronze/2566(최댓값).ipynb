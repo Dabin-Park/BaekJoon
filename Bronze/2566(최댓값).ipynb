{
  "nbformat": 4,
  "nbformat_minor": 0,
  "metadata": {
    "colab": {
      "provenance": [],
      "authorship_tag": "ABX9TyPboiUN2t45fDgZywfWgjOe",
      "include_colab_link": true
    },
    "kernelspec": {
      "name": "python3",
      "display_name": "Python 3"
    },
    "language_info": {
      "name": "python"
    }
  },
  "cells": [
    {
      "cell_type": "markdown",
      "metadata": {
        "id": "view-in-github",
        "colab_type": "text"
      },
      "source": [
        "<a href=\"https://colab.research.google.com/github/Dabin-Park/BaekJoon/blob/main/Bronze/2566(%EC%B5%9C%EB%8C%93%EA%B0%92).ipynb\" target=\"_parent\"><img src=\"https://colab.research.google.com/assets/colab-badge.svg\" alt=\"Open In Colab\"/></a>"
      ]
    },
    {
      "cell_type": "code",
      "execution_count": 1,
      "metadata": {
        "colab": {
          "base_uri": "https://localhost:8080/"
        },
        "id": "YHFUYXj24MLS",
        "outputId": "33e0fd9f-1b34-482d-b66d-b20f4f3d1c9c"
      },
      "outputs": [
        {
          "output_type": "stream",
          "name": "stdout",
          "text": [
            "3 23 85 34 17 74 25 52 65\n",
            "10 7 39 42 88 52 14 72 63\n",
            "87 42 18 78 53 45 18 84 53\n",
            "87 42 18 78 53 45 18 84 53\n",
            "21 77 45 35 28 75 90 76 1\n",
            "25 87 65 15 28 11 37 28 74\n",
            "65 27 75 41 7 89 78 64 39\n",
            "47 47 70 45 23 65 3 41 44\n",
            "87 13 82 38 31 12 29 29 80\n",
            "90\n",
            "5 7\n"
          ]
        }
      ],
      "source": [
        "def sol():\n",
        "    max_ = row = column = 0\n",
        "    for i in range(9):\n",
        "        for j, value in enumerate(map(int,input().split())):\n",
        "            if value > max_:\n",
        "                max_ = value\n",
        "                row, column = i+1, j+1\n",
        "                \n",
        "    print(max_)\n",
        "    print(row,column)\n",
        "\n",
        "sol()"
      ]
    }
  ]
}