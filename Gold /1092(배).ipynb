{
  "nbformat": 4,
  "nbformat_minor": 0,
  "metadata": {
    "colab": {
      "provenance": [],
      "authorship_tag": "ABX9TyNJ6Vgi+9WSZeD9wf9mQb5g",
      "include_colab_link": true
    },
    "kernelspec": {
      "name": "python3",
      "display_name": "Python 3"
    },
    "language_info": {
      "name": "python"
    }
  },
  "cells": [
    {
      "cell_type": "markdown",
      "metadata": {
        "id": "view-in-github",
        "colab_type": "text"
      },
      "source": [
        "<a href=\"https://colab.research.google.com/github/Dabin-Park/BaekJoon/blob/main/Gold%20/1092(%EB%B0%B0).ipynb\" target=\"_parent\"><img src=\"https://colab.research.google.com/assets/colab-badge.svg\" alt=\"Open In Colab\"/></a>"
      ]
    },
    {
      "cell_type": "code",
      "source": [
        "def sol():\n",
        "    input()\n",
        "    Crain = sorted(list(map(int,input().split())), reverse=True)\n",
        "    M = int(input())\n",
        "    Box = sorted(list(map(int,input().split())),reverse = True)  \n",
        "    if Box[0] > Crain[0]:\n",
        "        return -1  \n",
        "    num = 0\n",
        "    while M:\n",
        "        i = 0\n",
        "        for crain in Crain:\n",
        "            while i < M and Box[i] > crain:\n",
        "                i += 1\n",
        "            if i < M:\n",
        "                M -= 1\n",
        "                del Box[i]\n",
        "        num += 1\n",
        "        \n",
        "    return num\n",
        "\n",
        "print(sol())"
      ],
      "metadata": {
        "colab": {
          "base_uri": "https://localhost:8080/"
        },
        "id": "tMhh6AscRdfh",
        "outputId": "4123bc75-1fcb-472e-e0f5-8ee8b66031f6"
      },
      "execution_count": 1,
      "outputs": [
        {
          "output_type": "stream",
          "name": "stdout",
          "text": [
            "3\n",
            "6 8 9\n",
            "5\n",
            "2 5 2 4 7\n",
            "2\n"
          ]
        }
      ]
    }
  ]
}