{
  "nbformat": 4,
  "nbformat_minor": 0,
  "metadata": {
    "colab": {
      "provenance": [],
      "authorship_tag": "ABX9TyNZ5tcOd50IHbafnZGbY4Q1",
      "include_colab_link": true
    },
    "kernelspec": {
      "name": "python3",
      "display_name": "Python 3"
    },
    "language_info": {
      "name": "python"
    }
  },
  "cells": [
    {
      "cell_type": "markdown",
      "metadata": {
        "id": "view-in-github",
        "colab_type": "text"
      },
      "source": [
        "<a href=\"https://colab.research.google.com/github/Dabin-Park/BaekJoon/blob/main/Bronze/1271(%EC%97%84%EC%B2%AD%EB%82%9C%20%EB%B6%80%EC%9E%902).ipynb\" target=\"_parent\"><img src=\"https://colab.research.google.com/assets/colab-badge.svg\" alt=\"Open In Colab\"/></a>"
      ]
    },
    {
      "cell_type": "code",
      "execution_count": 1,
      "metadata": {
        "colab": {
          "base_uri": "https://localhost:8080/"
        },
        "id": "wTAxSOsmnSfu",
        "outputId": "a9b0a19f-70e0-4e45-a9ee-41ce216d1620"
      },
      "outputs": [
        {
          "output_type": "stream",
          "name": "stdout",
          "text": [
            "1000 100\n",
            "10\n",
            "0\n"
          ]
        }
      ],
      "source": [
        "A,B = map(int,input().split())\n",
        "\n",
        "print(A//B)\n",
        "print(A%B)"
      ]
    }
  ]
}