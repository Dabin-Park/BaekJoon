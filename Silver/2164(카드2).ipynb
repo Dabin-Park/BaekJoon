{
  "nbformat": 4,
  "nbformat_minor": 0,
  "metadata": {
    "colab": {
      "name": "2164(카드2).ipynb",
      "provenance": [],
      "authorship_tag": "ABX9TyNv8BIgWOMsOGgT+sOWNJY6",
      "include_colab_link": true
    },
    "kernelspec": {
      "name": "python3",
      "display_name": "Python 3"
    },
    "language_info": {
      "name": "python"
    }
  },
  "cells": [
    {
      "cell_type": "markdown",
      "metadata": {
        "id": "view-in-github",
        "colab_type": "text"
      },
      "source": [
        "<a href=\"https://colab.research.google.com/github/Dabin-Park/BaekJoon/blob/main/Silver/2164(%EC%B9%B4%EB%93%9C2).ipynb\" target=\"_parent\"><img src=\"https://colab.research.google.com/assets/colab-badge.svg\" alt=\"Open In Colab\"/></a>"
      ]
    },
    {
      "cell_type": "code",
      "source": [
        "from collections import deque\n",
        "\n",
        "N = int(input())\n",
        "dq = deque(range(1,N+1))\n",
        "\n",
        "i = 1\n",
        "while N > 1:\n",
        "    a = dq.popleft()\n",
        "    if i == -1:\n",
        "        dq.append(a)\n",
        "    else:\n",
        "        N -=1\n",
        "    i *= -1\n",
        "\n",
        "print(dq[0])"
      ],
      "metadata": {
        "colab": {
          "base_uri": "https://localhost:8080/"
        },
        "id": "4NDvOBDhbpRD",
        "outputId": "5b39de97-a1a6-492d-c444-af0f9450e27f"
      },
      "execution_count": 2,
      "outputs": [
        {
          "output_type": "stream",
          "name": "stdout",
          "text": [
            "6\n",
            "4\n"
          ]
        }
      ]
    }
  ]
}