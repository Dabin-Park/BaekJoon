{
  "nbformat": 4,
  "nbformat_minor": 0,
  "metadata": {
    "colab": {
      "provenance": [],
      "authorship_tag": "ABX9TyOdlflFRHXcP8Hg/2mwuIhb",
      "include_colab_link": true
    },
    "kernelspec": {
      "name": "python3",
      "display_name": "Python 3"
    },
    "language_info": {
      "name": "python"
    }
  },
  "cells": [
    {
      "cell_type": "markdown",
      "metadata": {
        "id": "view-in-github",
        "colab_type": "text"
      },
      "source": [
        "<a href=\"https://colab.research.google.com/github/Dabin-Park/BaekJoon/blob/main/Silver/2870(%EC%88%98%ED%95%99%EC%88%99%EC%A0%9C).ipynb\" target=\"_parent\"><img src=\"https://colab.research.google.com/assets/colab-badge.svg\" alt=\"Open In Colab\"/></a>"
      ]
    },
    {
      "cell_type": "code",
      "execution_count": 1,
      "metadata": {
        "colab": {
          "base_uri": "https://localhost:8080/"
        },
        "id": "V2C1sM_6QvYk",
        "outputId": "79b7db4b-42a9-4128-9858-905717f5d399"
      },
      "outputs": [
        {
          "output_type": "stream",
          "name": "stdout",
          "text": [
            "2\n",
            "lo3za4\n",
            "01\n",
            "1\n",
            "3\n",
            "4\n"
          ]
        }
      ],
      "source": [
        "def sol():\n",
        "    Number = []\n",
        "    for _ in range(int(input())):\n",
        "        number = \"\"\n",
        "        for i in input().rstrip():\n",
        "            if i.isdigit():\n",
        "                number += i\n",
        "            elif number:\n",
        "                Number.append(int(number))\n",
        "                number = \"\" \n",
        "        if number:\n",
        "            Number.append(int(number))          \n",
        "    print(*sorted(Number),sep=\"\\n\")\n",
        "\n",
        "sol()"
      ]
    }
  ]
}