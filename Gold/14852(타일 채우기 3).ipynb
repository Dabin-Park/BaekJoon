{
  "nbformat": 4,
  "nbformat_minor": 0,
  "metadata": {
    "colab": {
      "name": "10986(나머지 합).ipynb",
      "provenance": [],
      "authorship_tag": "ABX9TyMo8+IlLW0aUa8Wds/0SJMR",
      "include_colab_link": true
    },
    "kernelspec": {
      "name": "python3",
      "display_name": "Python 3"
    },
    "language_info": {
      "name": "python"
    }
  },
  "cells": [
    {
      "cell_type": "markdown",
      "metadata": {
        "id": "view-in-github",
        "colab_type": "text"
      },
      "source": [
        "<a href=\"https://colab.research.google.com/github/Dabin-Park/BaekJoon/blob/main/Gold/14852(%ED%83%80%EC%9D%BC%20%EC%B1%84%EC%9A%B0%EA%B8%B0%203).ipynb\" target=\"_parent\"><img src=\"https://colab.research.google.com/assets/colab-badge.svg\" alt=\"Open In Colab\"/></a>"
      ]
    },
    {
      "cell_type": "code",
      "source": [
        "N = int(input())\n",
        "dp = [1,2] + [0]*(N-1)\n",
        "\n",
        "num = 0\n",
        "for i in range(2,N+1):\n",
        "    dp[i] = (dp[i-1]*2 + dp[i-2]*3 + num*2)%1000000007\n",
        "    num = (num + dp[i-2])%1000000007\n",
        "    \n",
        "print(dp[-1])"
      ],
      "metadata": {
        "id": "CGdbDyPnpFQk",
        "outputId": "3fc0d1d7-dee9-4974-cc36-cbdc95c8f972",
        "colab": {
          "base_uri": "https://localhost:8080/"
        }
      },
      "execution_count": 1,
      "outputs": [
        {
          "output_type": "stream",
          "name": "stdout",
          "text": [
            "3\n",
            "22\n"
          ]
        }
      ]
    }
  ]
}