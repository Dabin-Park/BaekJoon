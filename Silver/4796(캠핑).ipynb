{
  "cells": [
    {
      "cell_type": "markdown",
      "metadata": {
        "id": "view-in-github",
        "colab_type": "text"
      },
      "source": [
        "<a href=\"https://colab.research.google.com/github/Dabin-Park/BaekJoon/blob/main/Silver/4796(%EC%BA%A0%ED%95%91).ipynb\" target=\"_parent\"><img src=\"https://colab.research.google.com/assets/colab-badge.svg\" alt=\"Open In Colab\"/></a>"
      ]
    },
    {
      "cell_type": "code",
      "source": [
        "i = 1\n",
        "while True:\n",
        "    L,P,V = map(int,input().split())\n",
        "    if L :\n",
        "        a = V//P\n",
        "        b = min(V-P*a,L)\n",
        "        print(f\"Case {i}: {a*L+b}\")\n",
        "        i += 1\n",
        "    else:\n",
        "        break"
      ],
      "metadata": {
        "id": "HBwwya3y6Eyo",
        "outputId": "73e9e945-1b3b-4ecf-80a1-dd8d475f1d48",
        "colab": {
          "base_uri": "https://localhost:8080/"
        }
      },
      "execution_count": 1,
      "outputs": [
        {
          "name": "stdout",
          "output_type": "stream",
          "text": [
            "5 8 20\n",
            "Case 1: 14\n",
            "5 8 17\n",
            "Case 2: 11\n",
            "123 456 789\n",
            "Case 3: 246\n",
            "0 0 0\n"
          ]
        }
      ]
    }
  ],
  "metadata": {
    "colab": {
      "name": "4796(캠핑).ipynb",
      "provenance": [],
      "collapsed_sections": [],
      "authorship_tag": "ABX9TyOhBDL18GHxJ9OKnCJDn4/U",
      "include_colab_link": true
    },
    "kernelspec": {
      "display_name": "Python 3",
      "name": "python3"
    },
    "language_info": {
      "name": "python"
    }
  },
  "nbformat": 4,
  "nbformat_minor": 0
}