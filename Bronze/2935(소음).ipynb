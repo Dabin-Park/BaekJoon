{
  "nbformat": 4,
  "nbformat_minor": 0,
  "metadata": {
    "colab": {
      "provenance": [],
      "authorship_tag": "ABX9TyNTHlHDj5mo7f+TKHxBo7GF",
      "include_colab_link": true
    },
    "kernelspec": {
      "name": "python3",
      "display_name": "Python 3"
    },
    "language_info": {
      "name": "python"
    }
  },
  "cells": [
    {
      "cell_type": "markdown",
      "metadata": {
        "id": "view-in-github",
        "colab_type": "text"
      },
      "source": [
        "<a href=\"https://colab.research.google.com/github/Dabin-Park/BaekJoon/blob/main/Bronze/2935(%EC%86%8C%EC%9D%8C).ipynb\" target=\"_parent\"><img src=\"https://colab.research.google.com/assets/colab-badge.svg\" alt=\"Open In Colab\"/></a>"
      ]
    },
    {
      "cell_type": "code",
      "execution_count": 1,
      "metadata": {
        "colab": {
          "base_uri": "https://localhost:8080/"
        },
        "id": "V2C1sM_6QvYk",
        "outputId": "c8901769-8b95-4f13-9f93-b763630c0955"
      },
      "outputs": [
        {
          "output_type": "stream",
          "name": "stdout",
          "text": [
            "1000\n",
            "*\n",
            "100\n",
            "100000\n"
          ]
        }
      ],
      "source": [
        "def sol(a):\n",
        "    if input().rstrip() == \"*\":\n",
        "        return a * int(input())\n",
        "    return a + int(input())\n",
        "\n",
        "print(sol(int(input())))"
      ]
    },
    {
      "cell_type": "code",
      "source": [
        "print(eval(input()+input()+input()))"
      ],
      "metadata": {
        "colab": {
          "base_uri": "https://localhost:8080/"
        },
        "id": "i5rVDTANs-Wp",
        "outputId": "ad898ff9-c8b1-40fb-d4fb-8f68b9ae7dde"
      },
      "execution_count": 2,
      "outputs": [
        {
          "output_type": "stream",
          "name": "stdout",
          "text": [
            "1000\n",
            "*\n",
            "100\n",
            "100000\n"
          ]
        }
      ]
    }
  ]
}