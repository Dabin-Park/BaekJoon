{
  "nbformat": 4,
  "nbformat_minor": 0,
  "metadata": {
    "colab": {
      "provenance": [],
      "collapsed_sections": [],
      "authorship_tag": "ABX9TyPF0T3lqTTCA+ahlVeGSjRN",
      "include_colab_link": true
    },
    "kernelspec": {
      "name": "python3",
      "display_name": "Python 3"
    },
    "language_info": {
      "name": "python"
    }
  },
  "cells": [
    {
      "cell_type": "markdown",
      "metadata": {
        "id": "view-in-github",
        "colab_type": "text"
      },
      "source": [
        "<a href=\"https://colab.research.google.com/github/Dabin-Park/BaekJoon/blob/main/Gold/16120(PPAP).ipynb\" target=\"_parent\"><img src=\"https://colab.research.google.com/assets/colab-badge.svg\" alt=\"Open In Colab\"/></a>"
      ]
    },
    {
      "cell_type": "code",
      "source": [
        "def  sol():\n",
        "    String = input()\n",
        "    len_S,Stack,i = len(String),[],0\n",
        "    while i < len_S:\n",
        "        if String[i] == \"A\":\n",
        "            if len(Stack) >= 2:\n",
        "                a,b = Stack.pop(), Stack.pop()\n",
        "                if i < len_S - 1 and a == 'P' and b == \"P\" and String[i+1] == \"P\":\n",
        "                    i += 1\n",
        "                    Stack.append(\"P\")\n",
        "                else:\n",
        "                    return \"NP\"\n",
        "            else:\n",
        "                return \"NP\"\n",
        "        else:\n",
        "            Stack.append(String[i])\n",
        "        i += 1\n",
        "    if Stack == [\"P\"]:\n",
        "        return \"PPAP\"\n",
        "    return \"NP\"\n",
        "\n",
        "print(sol())"
      ],
      "metadata": {
        "id": "ZFrLikbd4n2z",
        "outputId": "e46dbaba-8c2f-432c-822c-c745409a7997",
        "colab": {
          "base_uri": "https://localhost:8080/"
        }
      },
      "execution_count": null,
      "outputs": [
        {
          "output_type": "stream",
          "name": "stdout",
          "text": [
            "PPPAPAP\n",
            "PPAP\n"
          ]
        }
      ]
    },
    {
      "cell_type": "code",
      "source": [
        "def  sol():\n",
        "    pnum,t = 0,0\n",
        "    for i in input():\n",
        "        if i == \"P\":\n",
        "            if t:\n",
        "                pnum -= 1\n",
        "                t = 0\n",
        "            else:\n",
        "                pnum += 1\n",
        "        elif pnum < 2:\n",
        "            return \"NP\"\n",
        "        else:\n",
        "            t = 1\n",
        "    if pnum == 1:\n",
        "        return \"PPAP\"\n",
        "    return \"NP\"\n",
        "\n",
        "print(sol())"
      ],
      "metadata": {
        "colab": {
          "base_uri": "https://localhost:8080/"
        },
        "id": "K1c4GjvIQdoh",
        "outputId": "c42b809e-93cf-44e2-8770-5575e60dc5d3"
      },
      "execution_count": null,
      "outputs": [
        {
          "output_type": "stream",
          "name": "stdout",
          "text": [
            "PPPAPAP\n",
            "PPAP\n"
          ]
        }
      ]
    },
    {
      "cell_type": "code",
      "source": [
        "def  sol():\n",
        "    S = input()\n",
        "    Stack,len_S = [], len(S)\n",
        "    for i in range(len_S):\n",
        "        if S[i] == \"A\":\n",
        "            if len(Stack) >= 2 and i < len_S-1 and S[i+1] == \"P\":\n",
        "                del Stack[-2:]\n",
        "            else:\n",
        "                return \"NP\"\n",
        "        else:\n",
        "            Stack.append(S[i])\n",
        "    if Stack == [\"P\"]:\n",
        "        return \"PPAP\"\n",
        "    return \"NP\"\n",
        "\n",
        "print(sol())"
      ],
      "metadata": {
        "id": "F6CvmtCgCBEF",
        "outputId": "8b083fee-d77c-4c6c-c1ac-19c621d8a68e",
        "colab": {
          "base_uri": "https://localhost:8080/"
        }
      },
      "execution_count": 1,
      "outputs": [
        {
          "output_type": "stream",
          "name": "stdout",
          "text": [
            "PPPAPAP\n",
            "PPAP\n"
          ]
        }
      ]
    }
  ]
}