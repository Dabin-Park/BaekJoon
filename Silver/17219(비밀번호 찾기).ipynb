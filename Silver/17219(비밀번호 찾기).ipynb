{
  "nbformat": 4,
  "nbformat_minor": 0,
  "metadata": {
    "colab": {
      "name": "17219(비밀번호 찾기).ipynb",
      "provenance": [],
      "authorship_tag": "ABX9TyOQ3md2SFSo150pUQg5SgLb",
      "include_colab_link": true
    },
    "kernelspec": {
      "name": "python3",
      "display_name": "Python 3"
    },
    "language_info": {
      "name": "python"
    }
  },
  "cells": [
    {
      "cell_type": "markdown",
      "metadata": {
        "id": "view-in-github",
        "colab_type": "text"
      },
      "source": [
        "<a href=\"https://colab.research.google.com/github/Dabin-Park/BaekJoon/blob/main/Silver/17219(%EB%B9%84%EB%B0%80%EB%B2%88%ED%98%B8%20%EC%B0%BE%EA%B8%B0).ipynb\" target=\"_parent\"><img src=\"https://colab.research.google.com/assets/colab-badge.svg\" alt=\"Open In Colab\"/></a>"
      ]
    },
    {
      "cell_type": "code",
      "source": [
        "N,M = map(int,input().split())\n",
        "\n",
        "Password = {}\n",
        "for _ in range(N):\n",
        "    id_, password = input().split()\n",
        "    Password[str(id_)] = password\n",
        "\n",
        "for _ in range(M):\n",
        "    print(Password[input()])"
      ],
      "metadata": {
        "colab": {
          "base_uri": "https://localhost:8080/"
        },
        "id": "4NDvOBDhbpRD",
        "outputId": "d7f412c4-0a9d-4a75-aa94-f6c30ed4a7de"
      },
      "execution_count": 3,
      "outputs": [
        {
          "output_type": "stream",
          "name": "stdout",
          "text": [
            "16 4\n",
            "noj.am IU\n",
            "acmicpc.net UAENA\n",
            "startlink.io THEKINGOD\n",
            "google.com ZEZE\n",
            "nate.com VOICEMAIL\n",
            "naver.com REDQUEEN\n",
            "daum.net MODERNTIMES\n",
            "utube.com BLACKOUT\n",
            "zum.com LASTFANTASY\n",
            "dreamwiz.com RAINDROP\n",
            "hanyang.ac.kr SOMEDAY\n",
            "dhlottery.co.kr BOO\n",
            "duksoo.hs.kr HAVANA\n",
            "hanyang-u.ms.kr OBLIVIATE\n",
            "yd.es.kr LOVEATTACK\n",
            "mcc.hanyang.ac.kr ADREAMER\n",
            "startlink.io\n",
            "THEKINGOD\n",
            "acmicpc.net\n",
            "UAENA\n",
            "noj.am\n",
            "IU\n",
            "mcc.hanyang.ac.kr\n",
            "ADREAMER\n"
          ]
        }
      ]
    }
  ]
}