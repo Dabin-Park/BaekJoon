{
  "nbformat": 4,
  "nbformat_minor": 0,
  "metadata": {
    "colab": {
      "provenance": [],
      "authorship_tag": "ABX9TyOzKxB+QGHU7Zgby6OOx2HZ",
      "include_colab_link": true
    },
    "kernelspec": {
      "name": "python3",
      "display_name": "Python 3"
    },
    "language_info": {
      "name": "python"
    }
  },
  "cells": [
    {
      "cell_type": "markdown",
      "metadata": {
        "id": "view-in-github",
        "colab_type": "text"
      },
      "source": [
        "<a href=\"https://colab.research.google.com/github/Dabin-Park/BaekJoon/blob/main/Bronze/9093(%EB%8B%A8%EC%96%B4%20%EB%92%A4%EC%A7%91%EA%B8%B0).ipynb\" target=\"_parent\"><img src=\"https://colab.research.google.com/assets/colab-badge.svg\" alt=\"Open In Colab\"/></a>"
      ]
    },
    {
      "cell_type": "code",
      "execution_count": 3,
      "metadata": {
        "colab": {
          "base_uri": "https://localhost:8080/"
        },
        "id": "YHFUYXj24MLS",
        "outputId": "dcc78cd4-2f38-40d0-c6d4-8812203874f9"
      },
      "outputs": [
        {
          "output_type": "stream",
          "name": "stdout",
          "text": [
            "2\n",
            "I am happy today\n",
            "I ma yppah yadot \n",
            "We want to win the first prize\n",
            "eW tnaw ot niw eht tsrif ezirp \n"
          ]
        }
      ],
      "source": [
        "def sol(N):\n",
        "    for _ in range(N):\n",
        "        Sentence = input().split()\n",
        "        for word in Sentence:\n",
        "            for i in range(len(word)-1,0,-1):\n",
        "                print(word[i],end =\"\")\n",
        "            print(word[0], end = \" \")\n",
        "        print()\n",
        "\n",
        "            \n",
        "sol(int(input()))"
      ]
    },
    {
      "cell_type": "code",
      "source": [
        "def sol(N):\n",
        "    for _ in range(N):\n",
        "        Sentence = input().split()\n",
        "        for word in Sentence:\n",
        "            print(\"\".join(word[::-1]), end = \" \")\n",
        "        print()   \n",
        "sol(int(input()))"
      ],
      "metadata": {
        "colab": {
          "base_uri": "https://localhost:8080/"
        },
        "id": "-n7Jl3MFSbU9",
        "outputId": "e9b1d025-0d04-445f-cc77-31272dbad114"
      },
      "execution_count": 5,
      "outputs": [
        {
          "output_type": "stream",
          "name": "stdout",
          "text": [
            "2\n",
            "I am happy today\n",
            "I ma yppah yadot \n",
            "We want to win the first prize\n",
            "eW tnaw ot niw eht tsrif ezirp \n"
          ]
        }
      ]
    }
  ]
}