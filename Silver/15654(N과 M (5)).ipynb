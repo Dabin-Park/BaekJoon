{
  "nbformat": 4,
  "nbformat_minor": 0,
  "metadata": {
    "colab": {
      "provenance": [],
      "authorship_tag": "ABX9TyNJKAdXVgn0dZPrA3Kx3mqN",
      "include_colab_link": true
    },
    "kernelspec": {
      "name": "python3",
      "display_name": "Python 3"
    },
    "language_info": {
      "name": "python"
    }
  },
  "cells": [
    {
      "cell_type": "markdown",
      "metadata": {
        "id": "view-in-github",
        "colab_type": "text"
      },
      "source": [
        "<a href=\"https://colab.research.google.com/github/Dabin-Park/BaekJoon/blob/main/Silver/15654(N%EA%B3%BC%20M%20(5)).ipynb\" target=\"_parent\"><img src=\"https://colab.research.google.com/assets/colab-badge.svg\" alt=\"Open In Colab\"/></a>"
      ]
    },
    {
      "cell_type": "code",
      "source": [
        "def sol(List):\n",
        "    if len(List) == M:\n",
        "        print(*List)\n",
        "    else:\n",
        "        for i in range(N):\n",
        "            if Sequence[i] not in List:\n",
        "                sol(List+[Sequence[i]])\n",
        "\n",
        "N,M = map(int,input().split())\n",
        "Sequence = sorted(list(map(int,input().split())))\n",
        "for s in range(N):\n",
        "    List = [Sequence[s]]\n",
        "    sol(List)"
      ],
      "metadata": {
        "colab": {
          "base_uri": "https://localhost:8080/"
        },
        "id": "Wf1zqg3P9ONw",
        "outputId": "0f6323dc-bba8-4069-b4ec-0efa72586bfc"
      },
      "execution_count": 1,
      "outputs": [
        {
          "output_type": "stream",
          "name": "stdout",
          "text": [
            "3 1\n",
            "4 5 2\n",
            "2\n",
            "4\n",
            "5\n"
          ]
        }
      ]
    }
  ]
}