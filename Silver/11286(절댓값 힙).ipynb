{
  "nbformat": 4,
  "nbformat_minor": 0,
  "metadata": {
    "colab": {
      "name": "11286(절댓값 힙).ipynb",
      "provenance": [],
      "authorship_tag": "ABX9TyPBPf3qJnbShiYvdFWBjnjH",
      "include_colab_link": true
    },
    "kernelspec": {
      "name": "python3",
      "display_name": "Python 3"
    },
    "language_info": {
      "name": "python"
    }
  },
  "cells": [
    {
      "cell_type": "markdown",
      "metadata": {
        "id": "view-in-github",
        "colab_type": "text"
      },
      "source": [
        "<a href=\"https://colab.research.google.com/github/Dabin-Park/BaekJoon/blob/main/Silver/11286(%EC%A0%88%EB%8C%93%EA%B0%92%20%ED%9E%99).ipynb\" target=\"_parent\"><img src=\"https://colab.research.google.com/assets/colab-badge.svg\" alt=\"Open In Colab\"/></a>"
      ]
    },
    {
      "cell_type": "code",
      "source": [
        "import heapq\n",
        "\n",
        "heap = []\n",
        "for _ in range(int(input())):\n",
        "    x = int(input())\n",
        "    if x > 0 :\n",
        "        heapq.heappush(heap,(x,x))\n",
        "    elif x < 0:\n",
        "        heapq.heappush(heap,(-x,x))\n",
        "    else:\n",
        "        if heap:\n",
        "            print(heapq.heappop(heap)[1])\n",
        "        else:\n",
        "            print(0)"
      ],
      "metadata": {
        "colab": {
          "base_uri": "https://localhost:8080/"
        },
        "id": "4NDvOBDhbpRD",
        "outputId": "9b9a4f7c-0379-4d3e-b8d7-b63bb572de1c"
      },
      "execution_count": 8,
      "outputs": [
        {
          "output_type": "stream",
          "name": "stdout",
          "text": [
            "18\n",
            "1\n",
            "-1\n",
            "0\n",
            "-1\n",
            "0\n",
            "1\n",
            "0\n",
            "0\n",
            "1\n",
            "1\n",
            "-1\n",
            "-1\n",
            "2\n",
            "-2\n",
            "0\n",
            "-1\n",
            "0\n",
            "-1\n",
            "0\n",
            "1\n",
            "0\n",
            "1\n",
            "0\n",
            "-2\n",
            "0\n",
            "2\n",
            "0\n",
            "0\n"
          ]
        }
      ]
    }
  ]
}