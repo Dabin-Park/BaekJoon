{
  "nbformat": 4,
  "nbformat_minor": 0,
  "metadata": {
    "colab": {
      "provenance": [],
      "collapsed_sections": [],
      "authorship_tag": "ABX9TyOP3KPF+RCfSxoalkZqtBf3",
      "include_colab_link": true
    },
    "kernelspec": {
      "name": "python3",
      "display_name": "Python 3"
    },
    "language_info": {
      "name": "python"
    }
  },
  "cells": [
    {
      "cell_type": "markdown",
      "metadata": {
        "id": "view-in-github",
        "colab_type": "text"
      },
      "source": [
        "<a href=\"https://colab.research.google.com/github/Dabin-Park/BaekJoon/blob/main/Gold/1027(%EA%B3%A0%EC%B8%B5%20%EA%B1%B4%EB%AC%BC).ipynb\" target=\"_parent\"><img src=\"https://colab.research.google.com/assets/colab-badge.svg\" alt=\"Open In Colab\"/></a>"
      ]
    },
    {
      "cell_type": "code",
      "source": [
        "def line(x1,y1,x2,y2,x):\n",
        "    return ((y1-y2)/(x1-x2))*(x-x2) + y2\n",
        "\n",
        "N = int(input())\n",
        "Building = list(map(int,input().split()))\n",
        "\n",
        "max_ = 0\n",
        "for i in range(N):\n",
        "    num = 0\n",
        "    for j in range(N):\n",
        "        t = 1\n",
        "        if i != j:\n",
        "            for k in range(min(i,j)+1,max(i,j)):\n",
        "                x = line(i,Building[i],j,Building[j],k)\n",
        "                if  x < Building[k] or Building[k] - 0.0000001 < x < Building[k] + 0.0000001:\n",
        "                    t = 0\n",
        "                    break\n",
        "            if t:\n",
        "                num += 1\n",
        "    max_ = max(num,max_)\n",
        "\n",
        "print(max_)"
      ],
      "metadata": {
        "id": "ZFrLikbd4n2z",
        "outputId": "1a091944-6640-4d03-c6b8-08779fccdfef",
        "colab": {
          "base_uri": "https://localhost:8080/"
        }
      },
      "execution_count": 3,
      "outputs": [
        {
          "output_type": "stream",
          "name": "stdout",
          "text": [
            "15\n",
            "1 5 3 2 6 3 2 6 4 2 5 7 3 1 5\n",
            "7\n"
          ]
        }
      ]
    },
    {
      "cell_type": "code",
      "source": [
        "def check(i1,h1,i2,h2):\n",
        "    for i in range(min(i1,i2)+1, max(i1,i2)):\n",
        "        if building[i] >= ((h1-h2)/(i1-i2))*(i-i2) + h2:\n",
        "            return 0\n",
        "    return 1\n",
        "\n",
        "N = int(input())\n",
        "building = list(map(int,input().split()))\n",
        "\n",
        "ans = [0 for _ in range(N)]\n",
        "\n",
        "for i in range(N):\n",
        "    for j in range(i+1,N):\n",
        "        if check(i,building[i],j,building[j]):\n",
        "            ans[i] += 1\n",
        "            ans[j] += 1\n",
        "\n",
        "print(max(ans))"
      ],
      "metadata": {
        "colab": {
          "base_uri": "https://localhost:8080/"
        },
        "id": "cjrNWQi5mnUH",
        "outputId": "6aebf9e6-6409-4ab0-be97-0638c29a42b8"
      },
      "execution_count": 4,
      "outputs": [
        {
          "output_type": "stream",
          "name": "stdout",
          "text": [
            "15\n",
            "1 5 3 2 6 3 2 6 4 2 5 7 3 1 5\n",
            "7\n"
          ]
        }
      ]
    }
  ]
}