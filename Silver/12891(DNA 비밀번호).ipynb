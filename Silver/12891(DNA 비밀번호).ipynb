{
  "nbformat": 4,
  "nbformat_minor": 0,
  "metadata": {
    "colab": {
      "provenance": [],
      "authorship_tag": "ABX9TyOd++t/KI1tzH9Qs9uOajJN",
      "include_colab_link": true
    },
    "kernelspec": {
      "name": "python3",
      "display_name": "Python 3"
    },
    "language_info": {
      "name": "python"
    }
  },
  "cells": [
    {
      "cell_type": "markdown",
      "metadata": {
        "id": "view-in-github",
        "colab_type": "text"
      },
      "source": [
        "<a href=\"https://colab.research.google.com/github/Dabin-Park/BaekJoon/blob/main/Silver/12891(DNA%20%EB%B9%84%EB%B0%80%EB%B2%88%ED%98%B8).ipynb\" target=\"_parent\"><img src=\"https://colab.research.google.com/assets/colab-badge.svg\" alt=\"Open In Colab\"/></a>"
      ]
    },
    {
      "cell_type": "code",
      "source": [
        "def sol(num,ACGT,Num):\n",
        "    S,P = map(int,input().split())\n",
        "    DNA = input().rstrip()+\"A\"\n",
        "    String = list(map(int,input().split()))\n",
        "    for i in range(P):\n",
        "        Num[ACGT[DNA[i]]] += 1\n",
        "    for i in range(P,S+1):\n",
        "        for j in range(4):\n",
        "            if Num[j] < String[j]:\n",
        "                num -= 1\n",
        "                break\n",
        "        num += 1\n",
        "        if i < S:\n",
        "            Num[ACGT[DNA[i-P]]] -= 1\n",
        "            Num[ACGT[DNA[i]]] += 1\n",
        "    return num\n",
        "    \n",
        "print(sol(0,{\"A\":0,\"C\":1,\"G\":2,\"T\":3},[0]*4))"
      ],
      "metadata": {
        "colab": {
          "base_uri": "https://localhost:8080/"
        },
        "id": "8BV4BOoMl-cj",
        "outputId": "37ad81b6-d0c9-4c92-fb53-6aa9ae75f5b2"
      },
      "execution_count": 1,
      "outputs": [
        {
          "output_type": "stream",
          "name": "stdout",
          "text": [
            "9 8\n",
            "CCTGGATTG\n",
            "2 0 1 1\n",
            "0\n"
          ]
        }
      ]
    }
  ]
}