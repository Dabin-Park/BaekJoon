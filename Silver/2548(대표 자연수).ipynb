{
  "nbformat": 4,
  "nbformat_minor": 0,
  "metadata": {
    "colab": {
      "provenance": [],
      "authorship_tag": "ABX9TyMQszljMajc/IS4OpYGfjBk",
      "include_colab_link": true
    },
    "kernelspec": {
      "name": "python3",
      "display_name": "Python 3"
    },
    "language_info": {
      "name": "python"
    }
  },
  "cells": [
    {
      "cell_type": "markdown",
      "metadata": {
        "id": "view-in-github",
        "colab_type": "text"
      },
      "source": [
        "<a href=\"https://colab.research.google.com/github/Dabin-Park/BaekJoon/blob/main/Silver/2548(%EB%8C%80%ED%91%9C%20%EC%9E%90%EC%97%B0%EC%88%98).ipynb\" target=\"_parent\"><img src=\"https://colab.research.google.com/assets/colab-badge.svg\" alt=\"Open In Colab\"/></a>"
      ]
    },
    {
      "cell_type": "code",
      "source": [
        "def sol(N):\n",
        "    Sequnce = sorted(list(map(int,input().split())))\n",
        "    max_ , min_num = sum(Sequnce), Sequnce[-1]\n",
        "    for i in range(N):\n",
        "        if Sequnce[i] != Sequnce[i-1]:\n",
        "            num = Sequnce[i]*(2*i-N+1) - sum(Sequnce[:i])+sum(Sequnce[i+1:])\n",
        "            if num < max_:\n",
        "                max_ = num\n",
        "                min_num = Sequnce[i]\n",
        "    return min_num\n",
        "\n",
        "print(sol(int(input())))"
      ],
      "metadata": {
        "colab": {
          "base_uri": "https://localhost:8080/"
        },
        "id": "e30J77TxSoAj",
        "outputId": "dcb66afe-c60b-45fb-ffbc-b72fd63dfcf6"
      },
      "execution_count": 1,
      "outputs": [
        {
          "output_type": "stream",
          "name": "stdout",
          "text": [
            "6\n",
            "4 3 2 2 9 10\n",
            "3\n"
          ]
        }
      ]
    },
    {
      "cell_type": "code",
      "source": [
        "def sol(N):\n",
        "    Sequence = sorted(list(map(int, input().split())))\n",
        "    print(Sequence[N//2] if N%2 else Sequence[N//2 -1])\n",
        "\n",
        "sol(int(input()))"
      ],
      "metadata": {
        "id": "Dw-eMRVe9Hr5",
        "colab": {
          "base_uri": "https://localhost:8080/"
        },
        "outputId": "4c31ddab-32e9-471f-d566-921f2993e598"
      },
      "execution_count": 2,
      "outputs": [
        {
          "output_type": "stream",
          "name": "stdout",
          "text": [
            "6\n",
            "4 3 2 2 9 10\n",
            "3\n"
          ]
        }
      ]
    }
  ]
}