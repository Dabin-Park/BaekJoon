{
  "nbformat": 4,
  "nbformat_minor": 0,
  "metadata": {
    "colab": {
      "provenance": [],
      "collapsed_sections": [],
      "authorship_tag": "ABX9TyNWIIyPrw8sMSuKeOqgXZdV",
      "include_colab_link": true
    },
    "kernelspec": {
      "name": "python3",
      "display_name": "Python 3"
    },
    "language_info": {
      "name": "python"
    }
  },
  "cells": [
    {
      "cell_type": "markdown",
      "metadata": {
        "id": "view-in-github",
        "colab_type": "text"
      },
      "source": [
        "<a href=\"https://colab.research.google.com/github/Dabin-Park/BaekJoon/blob/main/Gold/1374(%EA%B0%95%EC%9D%98%EC%8B%A4).ipynb\" target=\"_parent\"><img src=\"https://colab.research.google.com/assets/colab-badge.svg\" alt=\"Open In Colab\"/></a>"
      ]
    },
    {
      "cell_type": "code",
      "source": [
        "import heapq\n",
        "\n",
        "def sol():\n",
        "    Class = sorted([list(map(int,input().split())) for _ in range(int(input()))], key = lambda x : x[1])\n",
        "    heap = []\n",
        "    for _,s,e in Class:\n",
        "        if heap:\n",
        "            if heap[0] <= s:\n",
        "                heapq.heappop(heap)\n",
        "        heapq.heappush(heap,e)\n",
        "    return len(heap)\n",
        "\n",
        "print(sol())"
      ],
      "metadata": {
        "id": "ZFrLikbd4n2z",
        "outputId": "ea8aa0d2-7405-41df-826f-3768be3249e9",
        "colab": {
          "base_uri": "https://localhost:8080/"
        }
      },
      "execution_count": 1,
      "outputs": [
        {
          "output_type": "stream",
          "name": "stdout",
          "text": [
            "8\n",
            "6 15 21\n",
            "7 20 25\n",
            "1 3 8\n",
            "3 2 14\n",
            "8 6 27\n",
            "2 7 13\n",
            "4 12 18\n",
            "5 6 20\n",
            "5\n"
          ]
        }
      ]
    }
  ]
}