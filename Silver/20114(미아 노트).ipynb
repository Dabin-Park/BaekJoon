{
  "nbformat": 4,
  "nbformat_minor": 0,
  "metadata": {
    "colab": {
      "name": "20113(긴급 회의).ipynb",
      "provenance": [],
      "authorship_tag": "ABX9TyMBZR0Lm9lG+wT6VLN9ebDv",
      "include_colab_link": true
    },
    "kernelspec": {
      "name": "python3",
      "display_name": "Python 3"
    },
    "language_info": {
      "name": "python"
    }
  },
  "cells": [
    {
      "cell_type": "markdown",
      "metadata": {
        "id": "view-in-github",
        "colab_type": "text"
      },
      "source": [
        "<a href=\"https://colab.research.google.com/github/Dabin-Park/BaekJoon/blob/main/Silver/20114(%EB%AF%B8%EC%95%84%20%EB%85%B8%ED%8A%B8).ipynb\" target=\"_parent\"><img src=\"https://colab.research.google.com/assets/colab-badge.svg\" alt=\"Open In Colab\"/></a>"
      ]
    },
    {
      "cell_type": "code",
      "source": [
        "N, H, W = map(int,input().split())\n",
        "Note = [input() for _ in range(H)]\n",
        "\n",
        "i,n = 0,0\n",
        "while i < N*W:\n",
        "    t = 0\n",
        "    for j in range(H):\n",
        "        if Note[j][i] != '?':\n",
        "            print(Note[j][i], end = \"\")\n",
        "            t = 1\n",
        "            i += W-n\n",
        "            n = 0\n",
        "            break\n",
        "    if t == 0:\n",
        "        n += 1\n",
        "        i += 1\n",
        "        if n == W:\n",
        "            print(\"?\", end = \"\")\n",
        "            n = 0"
      ],
      "metadata": {
        "id": "xk6usRE-86iG",
        "colab": {
          "base_uri": "https://localhost:8080/"
        },
        "outputId": "a60992f0-c029-402b-8b98-d0caa89341cb"
      },
      "execution_count": 2,
      "outputs": [
        {
          "output_type": "stream",
          "name": "stdout",
          "text": [
            "3 2 2\n",
            "a?????\n",
            "???bcc\n",
            "abc"
          ]
        }
      ]
    }
  ]
}