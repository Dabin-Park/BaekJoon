{
  "nbformat": 4,
  "nbformat_minor": 0,
  "metadata": {
    "colab": {
      "name": "20112(사토르 마방진).ipynb",
      "provenance": [],
      "authorship_tag": "ABX9TyOiQ7IQ7UlbI3rghGfn6Xgg",
      "include_colab_link": true
    },
    "kernelspec": {
      "name": "python3",
      "display_name": "Python 3"
    },
    "language_info": {
      "name": "python"
    }
  },
  "cells": [
    {
      "cell_type": "markdown",
      "metadata": {
        "id": "view-in-github",
        "colab_type": "text"
      },
      "source": [
        "<a href=\"https://colab.research.google.com/github/Dabin-Park/BaekJoon/blob/main/Bronze/20112(%EC%82%AC%ED%86%A0%EB%A5%B4%20%EB%A7%88%EB%B0%A9%EC%A7%84).ipynb\" target=\"_parent\"><img src=\"https://colab.research.google.com/assets/colab-badge.svg\" alt=\"Open In Colab\"/></a>"
      ]
    },
    {
      "cell_type": "code",
      "source": [
        "N = int(input())\n",
        "b =[]\n",
        "T = 0\n",
        "for _ in range(N):\n",
        "    c = list(input())\n",
        "    b.append(c)\n",
        "\n",
        "for i in range(N):\n",
        "    d = []\n",
        "    for j in range(N):\n",
        "        d.append(b[j][i])\n",
        "    if b[i] == d:\n",
        "        T += 1\n",
        "    else : \n",
        "        print(\"NO\")\n",
        "        break;\n",
        "\n",
        "if T == N:\n",
        "    print(\"YES\")"
      ],
      "metadata": {
        "colab": {
          "base_uri": "https://localhost:8080/"
        },
        "id": "Z9WmJkYbTpJU",
        "outputId": "43be43e5-e03e-4dff-b0a3-340fef802e2c"
      },
      "execution_count": 3,
      "outputs": [
        {
          "output_type": "stream",
          "name": "stdout",
          "text": [
            "3\n",
            "ABC\n",
            "DEF\n",
            "GHI\n",
            "NO\n"
          ]
        }
      ]
    },
    {
      "cell_type": "markdown",
      "source": [
        "if문에서 0이거나 NULL이라는 값은 BOOL연산자로 치면 FALSE인걸 이용"
      ],
      "metadata": {
        "id": "ZGdrNoMnUAOQ"
      }
    },
    {
      "cell_type": "code",
      "execution_count": 4,
      "metadata": {
        "colab": {
          "base_uri": "https://localhost:8080/"
        },
        "id": "dT6CvtQPNnKQ",
        "outputId": "3581580d-423b-4798-be56-e218de7ce499"
      },
      "outputs": [
        {
          "output_type": "stream",
          "name": "stdout",
          "text": [
            "3\n",
            "AAB\n",
            "ACD\n",
            "BDE\n",
            "YES\n"
          ]
        }
      ],
      "source": [
        "N = int(input())\n",
        "b =[]\n",
        "T = 1\n",
        "for _ in range(N):\n",
        "    c = list(input())\n",
        "    b.append(c)\n",
        "\n",
        "for i in range(N):\n",
        "    d = []\n",
        "    for j in range(N):\n",
        "        d.append(b[j][i])\n",
        "    if b[i] == d:\n",
        "        continue\n",
        "    else : \n",
        "        T = 0\n",
        "        break;\n",
        "\n",
        "\n",
        "if T :\n",
        "    print(\"YES\")\n",
        "else :\n",
        "    print(\"NO\")"
      ]
    }
  ]
}