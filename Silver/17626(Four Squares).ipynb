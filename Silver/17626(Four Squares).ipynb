{
  "nbformat": 4,
  "nbformat_minor": 0,
  "metadata": {
    "colab": {
      "provenance": [],
      "authorship_tag": "ABX9TyNVdWEPNUSYzCBGbkod+exA",
      "include_colab_link": true
    },
    "kernelspec": {
      "name": "python3",
      "display_name": "Python 3"
    },
    "language_info": {
      "name": "python"
    }
  },
  "cells": [
    {
      "cell_type": "markdown",
      "metadata": {
        "id": "view-in-github",
        "colab_type": "text"
      },
      "source": [
        "<a href=\"https://colab.research.google.com/github/Dabin-Park/BaekJoon/blob/main/Silver/17626(Four%20Squares).ipynb\" target=\"_parent\"><img src=\"https://colab.research.google.com/assets/colab-badge.svg\" alt=\"Open In Colab\"/></a>"
      ]
    },
    {
      "cell_type": "markdown",
      "source": [
        "* python으로는 시간초과 ㅠㅠ\n",
        "    * 시간초과 안나는 방법이 있지만 잘 이해가 안된다."
      ],
      "metadata": {
        "id": "N1sDGPGqRAbk"
      }
    },
    {
      "cell_type": "code",
      "source": [
        "def sol(n):\n",
        "    dp = [0,1] + [4]*(n-1)\n",
        "    for i in range(2,n+1):\n",
        "        for j in range(1,int(i**0.5)+1):\n",
        "            dp[i] = min(dp[i],dp[i-j**2]+1)\n",
        "    return dp[-1]\n",
        "    \n",
        "print(sol(int(input())))"
      ],
      "metadata": {
        "colab": {
          "base_uri": "https://localhost:8080/"
        },
        "id": "XS0VHQmBaQda",
        "outputId": "953bfb69-ea71-48db-d536-507a88644991"
      },
      "execution_count": 1,
      "outputs": [
        {
          "output_type": "stream",
          "name": "stdout",
          "text": [
            "25\n",
            "1\n"
          ]
        }
      ]
    },
    {
      "cell_type": "markdown",
      "source": [
        "* python으로 제출해도 시간초과 안나느 코드"
      ],
      "metadata": {
        "id": "GeaxEtASRQuD"
      }
    },
    {
      "cell_type": "code",
      "source": [
        "### 시간 초과 재귀함수\n",
        "\n",
        "def solution(N):\n",
        "    if (N**.5).is_integer(): return 1\n",
        "\n",
        "    set_1 = {i**2 for i in range(int(N**.5),0,-1)} # N 이하 제곱수들\n",
        "    for i in set_1:\n",
        "        if N-i in set_1: return 2\n",
        "    \n",
        "    while N%4==0:\n",
        "        N //= 4    \n",
        "    return 4 if N%8==7 else 3\n",
        "\n",
        "print(solution(int(input())))"
      ],
      "metadata": {
        "id": "dLxR9yTbROGP"
      },
      "execution_count": null,
      "outputs": []
    }
  ]
}