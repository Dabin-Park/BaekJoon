{
  "nbformat": 4,
  "nbformat_minor": 0,
  "metadata": {
    "colab": {
      "provenance": [],
      "authorship_tag": "ABX9TyM+AuDIUFEgYRnjPFssl59e",
      "include_colab_link": true
    },
    "kernelspec": {
      "name": "python3",
      "display_name": "Python 3"
    },
    "language_info": {
      "name": "python"
    }
  },
  "cells": [
    {
      "cell_type": "markdown",
      "metadata": {
        "id": "view-in-github",
        "colab_type": "text"
      },
      "source": [
        "<a href=\"https://colab.research.google.com/github/Dabin-Park/BaekJoon/blob/main/Silver/23301(%EC%8A%A4%ED%84%B0%EB%94%94%20%EC%8B%9C%EA%B0%84%20%EC%A0%95%ED%95%98%EA%B8%B0%202).ipynb\" target=\"_parent\"><img src=\"https://colab.research.google.com/assets/colab-badge.svg\" alt=\"Open In Colab\"/></a>"
      ]
    },
    {
      "cell_type": "code",
      "execution_count": 1,
      "metadata": {
        "colab": {
          "base_uri": "https://localhost:8080/"
        },
        "id": "wTAxSOsmnSfu",
        "outputId": "f9fffc26-e6d8-498f-ce99-75c734fe59e2"
      },
      "outputs": [
        {
          "output_type": "stream",
          "name": "stdout",
          "text": [
            "3 4\n",
            "2\n",
            "0 6\n",
            "8 12\n",
            "3 \n",
            "1 3\n",
            "4 6\n",
            "7 9\n",
            "1 \n",
            "4 8\n",
            "2 6\n"
          ]
        }
      ],
      "source": [
        "N,T = map(int,input().split())\n",
        "\n",
        "S,E = [],[]\n",
        "for _ in range(N):\n",
        "    for _ in range(int(input())):\n",
        "        s,e = map(int,input().split())\n",
        "        S.append(s)\n",
        "        E.append(e)\n",
        "max_E = max(E)\n",
        "\n",
        "Time = [0]*(max_E+1)\n",
        "for i in range(len(S)):\n",
        "    Time[S[i]] += 1\n",
        "    Time[E[i]] -= 1\n",
        "    \n",
        "for i in range(1,max_E+1):\n",
        "    Time[i] += Time[i-1]\n",
        "\n",
        "happy,time = sum(Time[:T]),0\n",
        "max_ = happy\n",
        "for i in range(1,max_E-T+1):\n",
        "    happy += Time[i+T-1] - Time[i-1]\n",
        "    if happy > max_:\n",
        "        max_ = happy\n",
        "        time = i\n",
        "\n",
        "print(time,time+T)"
      ]
    },
    {
      "cell_type": "code",
      "source": [
        "N,T = map(int,input().split())\n",
        "\n",
        "Time = [0]*1001\n",
        "for _ in range(N):\n",
        "    for _ in range(int(input())):\n",
        "        s,e = map(int,input().split())\n",
        "        Time[s] += 1\n",
        "        Time[e] -= 1\n",
        "        \n",
        "for i in range(1,1001):\n",
        "    Time[i] += Time[i-1]\n",
        "\n",
        "happy,time = sum(Time[:T]),0\n",
        "max_ = happy\n",
        "for i in range(1,1001-T):\n",
        "    happy += Time[i+T-1] - Time[i-1]\n",
        "    if happy > max_:\n",
        "        max_ = happy\n",
        "        time = i\n",
        "\n",
        "print(time,time+T)"
      ],
      "metadata": {
        "colab": {
          "base_uri": "https://localhost:8080/"
        },
        "id": "Wl-PIzxYbCVx",
        "outputId": "245a1ba2-7bf2-4ce2-b6e5-8c9cc722946b"
      },
      "execution_count": 2,
      "outputs": [
        {
          "output_type": "stream",
          "name": "stdout",
          "text": [
            "3 4\n",
            "2\n",
            "0 6\n",
            "8 12\n",
            "3 \n",
            "1 3\n",
            "4 6\n",
            "7 9\n",
            "1 \n",
            "4 8\n",
            "2 6\n"
          ]
        }
      ]
    }
  ]
}