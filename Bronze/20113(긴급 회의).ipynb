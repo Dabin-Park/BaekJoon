{
  "nbformat": 4,
  "nbformat_minor": 0,
  "metadata": {
    "colab": {
      "name": "20113(긴급 회의).ipynb",
      "provenance": [],
      "authorship_tag": "ABX9TyNlu8xO12lR9lwvw11Tw3Ym",
      "include_colab_link": true
    },
    "kernelspec": {
      "name": "python3",
      "display_name": "Python 3"
    },
    "language_info": {
      "name": "python"
    }
  },
  "cells": [
    {
      "cell_type": "markdown",
      "metadata": {
        "id": "view-in-github",
        "colab_type": "text"
      },
      "source": [
        "<a href=\"https://colab.research.google.com/github/Dabin-Park/BaekJoon/blob/main/Bronze/20113(%EA%B8%B4%EA%B8%89%20%ED%9A%8C%EC%9D%98).ipynb\" target=\"_parent\"><img src=\"https://colab.research.google.com/assets/colab-badge.svg\" alt=\"Open In Colab\"/></a>"
      ]
    },
    {
      "cell_type": "code",
      "source": [
        "N = int(input())\n",
        "totalVote = [0 for _ in range(N+1)]\n",
        "Vote = list(map(int,input().split()))\n",
        "for v in Vote:\n",
        "    totalVote[v] += 1\n",
        "    \n",
        "a = totalVote[1:].count(max(totalVote[1:]))\n",
        "if a >= 2:\n",
        "    print(\"skipped\")\n",
        "else:\n",
        "    print(1 + totalVote[1:].index(max(totalVote[1:])))"
      ],
      "metadata": {
        "id": "xk6usRE-86iG",
        "colab": {
          "base_uri": "https://localhost:8080/"
        },
        "outputId": "61d39b60-6bc9-486e-e02e-3629a1cd5a00"
      },
      "execution_count": 1,
      "outputs": [
        {
          "output_type": "stream",
          "name": "stdout",
          "text": [
            "5\n",
            "3 1 4 3 0\n",
            "3\n"
          ]
        }
      ]
    }
  ]
}