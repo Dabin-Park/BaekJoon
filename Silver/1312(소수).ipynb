{
  "nbformat": 4,
  "nbformat_minor": 0,
  "metadata": {
    "colab": {
      "provenance": [],
      "collapsed_sections": [],
      "authorship_tag": "ABX9TyNSPIy7tJsUqWWnHRN4BR7B",
      "include_colab_link": true
    },
    "kernelspec": {
      "name": "python3",
      "display_name": "Python 3"
    },
    "language_info": {
      "name": "python"
    }
  },
  "cells": [
    {
      "cell_type": "markdown",
      "metadata": {
        "id": "view-in-github",
        "colab_type": "text"
      },
      "source": [
        "<a href=\"https://colab.research.google.com/github/Dabin-Park/BaekJoon/blob/main/Silver/1312(%EC%86%8C%EC%88%98).ipynb\" target=\"_parent\"><img src=\"https://colab.research.google.com/assets/colab-badge.svg\" alt=\"Open In Colab\"/></a>"
      ]
    },
    {
      "cell_type": "code",
      "source": [
        "A,B,N = map(int,input().split())\n",
        "\n",
        "for _ in range(N+1):\n",
        "    n = A//B\n",
        "    A %= B\n",
        "    A *= 10\n",
        "\n",
        "print(n)"
      ],
      "metadata": {
        "id": "ZFrLikbd4n2z",
        "outputId": "36df0aea-0118-4313-bb7c-e77a8cd48377",
        "colab": {
          "base_uri": "https://localhost:8080/"
        }
      },
      "execution_count": 1,
      "outputs": [
        {
          "output_type": "stream",
          "name": "stdout",
          "text": [
            "25 7 5\n",
            "2\n"
          ]
        }
      ]
    }
  ]
}