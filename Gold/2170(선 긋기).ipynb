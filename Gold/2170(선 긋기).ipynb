{
  "nbformat": 4,
  "nbformat_minor": 0,
  "metadata": {
    "colab": {
      "name": "2170(선 긋기).ipynb",
      "provenance": [],
      "authorship_tag": "ABX9TyON85pZcwN8/DmbpQVqaF4h",
      "include_colab_link": true
    },
    "kernelspec": {
      "name": "python3",
      "display_name": "Python 3"
    },
    "language_info": {
      "name": "python"
    }
  },
  "cells": [
    {
      "cell_type": "markdown",
      "metadata": {
        "id": "view-in-github",
        "colab_type": "text"
      },
      "source": [
        "<a href=\"https://colab.research.google.com/github/Dabin-Park/BaekJoon/blob/main/Gold/2170(%EC%84%A0%20%EA%B8%8B%EA%B8%B0).ipynb\" target=\"_parent\"><img src=\"https://colab.research.google.com/assets/colab-badge.svg\" alt=\"Open In Colab\"/></a>"
      ]
    },
    {
      "cell_type": "code",
      "execution_count": 1,
      "metadata": {
        "colab": {
          "base_uri": "https://localhost:8080/"
        },
        "id": "dT6CvtQPNnKQ",
        "outputId": "0f043420-3432-4567-d3b4-861ac5ad0bc6"
      },
      "outputs": [
        {
          "output_type": "stream",
          "name": "stdout",
          "text": [
            "4\n",
            "1 3\n",
            "2 5\n",
            "3 5\n",
            "6 7\n",
            "5\n"
          ]
        }
      ],
      "source": [
        "N = int(input())\n",
        "Lines = [list(map(int,input().split())) for _ in range(N)]\n",
        "Lines.sort(key = lambda x: x[0])\n",
        "length= 0\n",
        "S ,E = Lines[0][0], Lines[0][1]\n",
        "for line in Lines[1:]:\n",
        "    if E >= line[0] and E < line[1]:\n",
        "        E = line[1]\n",
        "    elif line[0] > E:\n",
        "        length += (E-S)\n",
        "        S = line[0]\n",
        "        E = line[1]\n",
        "\n",
        "length += (E-S)\n",
        "print(length)"
      ]
    }
  ]
}