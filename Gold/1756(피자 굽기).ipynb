{
  "nbformat": 4,
  "nbformat_minor": 0,
  "metadata": {
    "colab": {
      "provenance": [],
      "collapsed_sections": [],
      "authorship_tag": "ABX9TyO3iIdD1yTWpQ4xT6Myb6k5",
      "include_colab_link": true
    },
    "kernelspec": {
      "name": "python3",
      "display_name": "Python 3"
    },
    "language_info": {
      "name": "python"
    }
  },
  "cells": [
    {
      "cell_type": "markdown",
      "metadata": {
        "id": "view-in-github",
        "colab_type": "text"
      },
      "source": [
        "<a href=\"https://colab.research.google.com/github/Dabin-Park/BaekJoon/blob/main/Gold/1756(%ED%94%BC%EC%9E%90%20%EA%B5%BD%EA%B8%B0).ipynb\" target=\"_parent\"><img src=\"https://colab.research.google.com/assets/colab-badge.svg\" alt=\"Open In Colab\"/></a>"
      ]
    },
    {
      "cell_type": "code",
      "source": [
        "from collections import deque\n",
        "    \n",
        "def sol():\n",
        "    D,N = map(int,input().split())\n",
        "    Oven = list(map(int,input().split()))\n",
        "    for i in range(1,D):\n",
        "        if Oven[i] > Oven[i-1]:\n",
        "            Oven[i] = Oven[i-1]\n",
        "    que = deque(Oven)\n",
        "    Pizzas = list(map(int,input().split()))\n",
        "    for i in range(N):\n",
        "        pizza = Pizzas[i]\n",
        "        while que and pizza > que[-1]:\n",
        "            del que[-1]\n",
        "        if not que:\n",
        "            return 0\n",
        "        del que[-1]\n",
        "    return len(que)+1\n",
        "\n",
        "print(sol())"
      ],
      "metadata": {
        "id": "k7eFI1eAZZ1Z",
        "outputId": "886e38af-b719-4d18-c99e-392b189c6d45",
        "colab": {
          "base_uri": "https://localhost:8080/"
        }
      },
      "execution_count": 1,
      "outputs": [
        {
          "output_type": "stream",
          "name": "stdout",
          "text": [
            "7 3\n",
            "5 6 4 3 6 2 3\n",
            "3 2 5\n",
            "2\n"
          ]
        }
      ]
    }
  ]
}