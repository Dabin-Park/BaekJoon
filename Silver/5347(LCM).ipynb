{
  "cells": [
    {
      "cell_type": "markdown",
      "metadata": {
        "id": "view-in-github",
        "colab_type": "text"
      },
      "source": [
        "<a href=\"https://colab.research.google.com/github/Dabin-Park/BaekJoon/blob/main/Silver/5347(LCM).ipynb\" target=\"_parent\"><img src=\"https://colab.research.google.com/assets/colab-badge.svg\" alt=\"Open In Colab\"/></a>"
      ]
    },
    {
      "cell_type": "code",
      "source": [
        "def prime(a,A):\n",
        "    for i in range(A[-1]+1,a+1):\n",
        "        n = 1\n",
        "        for j in range(2,int(i**0.5)+1):\n",
        "            if i%j == 0:\n",
        "                n = 0\n",
        "                break\n",
        "        if n :\n",
        "            A.append(i)\n",
        "    return A\n",
        "           \n",
        "N = int(input())\n",
        "Prime = [1]\n",
        "\n",
        "for _ in range(N):  \n",
        "    A,B = map(int,input().split())\n",
        "    A,B = min(A,B), max(A,B)\n",
        "    Prime = prime(A,Prime)\n",
        "    for i in Prime[1:]:\n",
        "        if A%i == 0:\n",
        "            while B%i == 0:\n",
        "                B //= i \n",
        "                \n",
        "        elif B < i :\n",
        "            break\n",
        "    print(A*B)"
      ],
      "metadata": {
        "id": "HBwwya3y6Eyo",
        "outputId": "47a7124c-b014-4eb7-9c16-d0fa42e8ce5c",
        "colab": {
          "base_uri": "https://localhost:8080/"
        }
      },
      "execution_count": 1,
      "outputs": [
        {
          "output_type": "stream",
          "name": "stdout",
          "text": [
            "3\n",
            "15 21\n",
            "105\n",
            "33 22\n",
            "66\n",
            "9 10\n",
            "90\n"
          ]
        }
      ]
    },
    {
      "cell_type": "code",
      "source": [
        "def gcd(a,b):\n",
        "    while True:\n",
        "        a,b = min(a,b),max(a,b)\n",
        "        if b%a == 0:\n",
        "            return a\n",
        "        b %= a\n",
        "        \n",
        "def lcm(a,b):\n",
        "    return (a*b)//(gcd(a,b))\n",
        "    \n",
        "N = int(input())\n",
        "for _ in range(N):\n",
        "    a,b = map(int,input().split())\n",
        "    print(lcm(a,b))"
      ],
      "metadata": {
        "colab": {
          "base_uri": "https://localhost:8080/"
        },
        "id": "kBJgdKthlI8y",
        "outputId": "9b27faa6-b930-4895-9fac-8493897aad88"
      },
      "execution_count": 3,
      "outputs": [
        {
          "output_type": "stream",
          "name": "stdout",
          "text": [
            "3\n",
            "15 21\n",
            "105\n",
            "33 22\n",
            "66\n",
            "9 10\n",
            "90\n"
          ]
        }
      ]
    }
  ],
  "metadata": {
    "colab": {
      "name": "5347(LCM).ipynb",
      "provenance": [],
      "collapsed_sections": [],
      "authorship_tag": "ABX9TyMQL3h+UgHP5pKs61Wx/4k2",
      "include_colab_link": true
    },
    "kernelspec": {
      "display_name": "Python 3",
      "name": "python3"
    },
    "language_info": {
      "name": "python"
    }
  },
  "nbformat": 4,
  "nbformat_minor": 0
}