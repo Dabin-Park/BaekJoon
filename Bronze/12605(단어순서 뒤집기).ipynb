{
  "nbformat": 4,
  "nbformat_minor": 0,
  "metadata": {
    "colab": {
      "provenance": [],
      "authorship_tag": "ABX9TyP7uZRt4Wb3FE+b2dt7J18d",
      "include_colab_link": true
    },
    "kernelspec": {
      "name": "python3",
      "display_name": "Python 3"
    },
    "language_info": {
      "name": "python"
    }
  },
  "cells": [
    {
      "cell_type": "markdown",
      "metadata": {
        "id": "view-in-github",
        "colab_type": "text"
      },
      "source": [
        "<a href=\"https://colab.research.google.com/github/Dabin-Park/BaekJoon/blob/main/Bronze/12605(%EB%8B%A8%EC%96%B4%EC%88%9C%EC%84%9C%20%EB%92%A4%EC%A7%91%EA%B8%B0).ipynb\" target=\"_parent\"><img src=\"https://colab.research.google.com/assets/colab-badge.svg\" alt=\"Open In Colab\"/></a>"
      ]
    },
    {
      "cell_type": "code",
      "source": [
        "for i in range(int(input())):\n",
        "    print(f\"Case #{i+1}: {' '.join(list(input().split())[::-1])}\")"
      ],
      "metadata": {
        "id": "Eum8oDR9H9Ie",
        "colab": {
          "base_uri": "https://localhost:8080/"
        },
        "outputId": "9adfc4d1-5162-43b1-dc4a-1622e1c71bc1"
      },
      "execution_count": 1,
      "outputs": [
        {
          "output_type": "stream",
          "name": "stdout",
          "text": [
            "3\n",
            "this is a test \n",
            "Case #1: test a is this\n",
            "foobar \n",
            "Case #2: foobar\n",
            "all your base\n",
            "Case #3: base your all\n"
          ]
        }
      ]
    }
  ]
}