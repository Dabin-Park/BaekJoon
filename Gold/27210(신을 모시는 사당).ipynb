{
  "nbformat": 4,
  "nbformat_minor": 0,
  "metadata": {
    "colab": {
      "provenance": [],
      "authorship_tag": "ABX9TyPDtpUeRA+K0pQujm9OWsE/",
      "include_colab_link": true
    },
    "kernelspec": {
      "name": "python3",
      "display_name": "Python 3"
    },
    "language_info": {
      "name": "python"
    }
  },
  "cells": [
    {
      "cell_type": "markdown",
      "metadata": {
        "id": "view-in-github",
        "colab_type": "text"
      },
      "source": [
        "<a href=\"https://colab.research.google.com/github/Dabin-Park/BaekJoon/blob/main/Gold/27210(%EC%8B%A0%EC%9D%84%20%EB%AA%A8%EC%8B%9C%EB%8A%94%20%EC%82%AC%EB%8B%B9).ipynb\" target=\"_parent\"><img src=\"https://colab.research.google.com/assets/colab-badge.svg\" alt=\"Open In Colab\"/></a>"
      ]
    },
    {
      "cell_type": "code",
      "execution_count": null,
      "metadata": {
        "colab": {
          "base_uri": "https://localhost:8080/"
        },
        "id": "YxyyCxlIswBo",
        "outputId": "1696a3f1-b420-45ce-bbf5-072ea91a3415"
      },
      "outputs": [
        {
          "output_type": "stream",
          "name": "stdout",
          "text": [
            "5\n",
            "1 1 2 1 2\n",
            "2\n"
          ]
        }
      ],
      "source": [
        "def sol(N):\n",
        "    Stone = list(map(int, input().split()))\n",
        "    dp = [0]*N\n",
        "    for i in range(N):\n",
        "        if Stone[i] == 1:\n",
        "            dp[i] = dp[i-1] + 1\n",
        "        else:\n",
        "            dp[i] = dp[i-1] - 1     \n",
        "    return max(0, max(dp)) - min(0, min(dp))\n",
        "\n",
        "print(sol(int(input())))"
      ]
    }
  ]
}