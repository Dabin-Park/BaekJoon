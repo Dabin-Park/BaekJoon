{
  "nbformat": 4,
  "nbformat_minor": 0,
  "metadata": {
    "colab": {
      "name": "15829(Hashing).ipynb",
      "provenance": [],
      "authorship_tag": "ABX9TyOn8AdTWWwHYpcNxf2y9S17",
      "include_colab_link": true
    },
    "kernelspec": {
      "name": "python3",
      "display_name": "Python 3"
    },
    "language_info": {
      "name": "python"
    }
  },
  "cells": [
    {
      "cell_type": "markdown",
      "metadata": {
        "id": "view-in-github",
        "colab_type": "text"
      },
      "source": [
        "<a href=\"https://colab.research.google.com/github/Dabin-Park/BaekJoon/blob/main/Bronze/4153(%EC%A7%81%EA%B0%81%EC%82%BC%EA%B0%81%ED%98%95).ipynb\" target=\"_parent\"><img src=\"https://colab.research.google.com/assets/colab-badge.svg\" alt=\"Open In Colab\"/></a>"
      ]
    },
    {
      "cell_type": "code",
      "source": [
        "while True:\n",
        "    a,b,c = map(int,input().split())\n",
        "    if a == 0  and b == 0 and c == 0 :\n",
        "        break\n",
        "    a2,b2,c2 = a**2, b**2, c**2\n",
        "    if 2*max(a2,b2,c2) == sum([a2,b2,c2]):\n",
        "        print('right')\n",
        "    else:\n",
        "        print('wrong')"
      ],
      "metadata": {
        "id": "xk6usRE-86iG",
        "colab": {
          "base_uri": "https://localhost:8080/"
        },
        "outputId": "a07ae8cc-77d7-4d70-cf5a-a091698625a1"
      },
      "execution_count": 1,
      "outputs": [
        {
          "name": "stdout",
          "output_type": "stream",
          "text": [
            "6 8 10\n",
            "right\n",
            "25 52 60\n",
            "wrong\n",
            "5 12 13\n",
            "right\n",
            "0 0 0 \n"
          ]
        }
      ]
    }
  ]
}