{
  "nbformat": 4,
  "nbformat_minor": 0,
  "metadata": {
    "colab": {
      "provenance": [],
      "authorship_tag": "ABX9TyOsZ1XiTIZWr3NEYKm5uwOI",
      "include_colab_link": true
    },
    "kernelspec": {
      "name": "python3",
      "display_name": "Python 3"
    },
    "language_info": {
      "name": "python"
    }
  },
  "cells": [
    {
      "cell_type": "markdown",
      "metadata": {
        "id": "view-in-github",
        "colab_type": "text"
      },
      "source": [
        "<a href=\"https://colab.research.google.com/github/Dabin-Park/BaekJoon/blob/main/Silver/13241(%EC%B5%9C%EC%86%8C%EA%B3%B5%EB%B0%B0%EC%88%98).ipynb\" target=\"_parent\"><img src=\"https://colab.research.google.com/assets/colab-badge.svg\" alt=\"Open In Colab\"/></a>"
      ]
    },
    {
      "cell_type": "code",
      "source": [
        "def gcd(a,b):\n",
        "    a,b = min(a,b),max(a,b)\n",
        "    if b%a:\n",
        "        return gcd(b%a,a)\n",
        "    else:\n",
        "        return a\n",
        "\n",
        "def lcm(a,b):\n",
        "    return a*b//gcd(a,b)\n",
        "\n",
        "a,b = map(int,input().split())\n",
        "print(lcm(a,b))"
      ],
      "metadata": {
        "id": "Eum8oDR9H9Ie",
        "colab": {
          "base_uri": "https://localhost:8080/"
        },
        "outputId": "2170465b-f1c0-4a46-b16c-59b4e514b16b"
      },
      "execution_count": 1,
      "outputs": [
        {
          "output_type": "stream",
          "name": "stdout",
          "text": [
            "1 1\n",
            "1\n"
          ]
        }
      ]
    }
  ]
}