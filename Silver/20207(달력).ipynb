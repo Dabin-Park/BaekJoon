{
  "nbformat": 4,
  "nbformat_minor": 0,
  "metadata": {
    "colab": {
      "provenance": [],
      "authorship_tag": "ABX9TyNb0sSpNtC/vXVO0YGMy0UF",
      "include_colab_link": true
    },
    "kernelspec": {
      "name": "python3",
      "display_name": "Python 3"
    },
    "language_info": {
      "name": "python"
    }
  },
  "cells": [
    {
      "cell_type": "markdown",
      "metadata": {
        "id": "view-in-github",
        "colab_type": "text"
      },
      "source": [
        "<a href=\"https://colab.research.google.com/github/Dabin-Park/BaekJoon/blob/main/Silver/20207(%EB%8B%AC%EB%A0%A5).ipynb\" target=\"_parent\"><img src=\"https://colab.research.google.com/assets/colab-badge.svg\" alt=\"Open In Colab\"/></a>"
      ]
    },
    {
      "cell_type": "code",
      "source": [
        "def sol(num, Coating, max_, high):\n",
        "    Schedule = sorted([list(map(int,input().split())) for _ in range(int(input()))],key = lambda x : (x[0],-x[1]))+[[367,367]]\n",
        "    for s,e in Schedule:\n",
        "        if s > max_+1:\n",
        "            if Coating:\n",
        "                num += (max_-Coating[0][0]+1)*high\n",
        "            max_,high,Coating = e,1,[[s,e]]\n",
        "        else:\n",
        "            t = 1\n",
        "            for i in range(len(Coating)):\n",
        "                if s-1 >= Coating[i][1]:\n",
        "                    Coating[i][1] = e\n",
        "                    t = 0\n",
        "                    break\n",
        "            if t:\n",
        "                Coating.append([s,e])\n",
        "                high += 1\n",
        "            max_ = max(max_,e)\n",
        "    return num\n",
        "    \n",
        "print(sol(0,[],0,0))"
      ],
      "metadata": {
        "colab": {
          "base_uri": "https://localhost:8080/"
        },
        "id": "XS0VHQmBaQda",
        "outputId": "17d2b979-b956-4b3a-d417-b03a9365487a"
      },
      "execution_count": 1,
      "outputs": [
        {
          "output_type": "stream",
          "name": "stdout",
          "text": [
            "7\n",
            "2 4\n",
            "4 5\n",
            "5 6\n",
            "5 7\n",
            "7 9\n",
            "11 12\n",
            "12 12\n",
            "28\n"
          ]
        }
      ]
    },
    {
      "cell_type": "code",
      "source": [
        "def sol(num, Coating, high):\n",
        "    Schedule = sorted([list(map(int,input().split())) for _ in range(int(input()))],key = lambda x : (x[0],-x[1]))+[[367,367]]\n",
        "    min_,max_ = Schedule[0]\n",
        "    Coating = [max_]\n",
        "    for s,e in Schedule[1:]:\n",
        "        if s > max_+1:\n",
        "            if Coating:\n",
        "                num += (max_-min_+1)*high\n",
        "            min_,max_,high,Coating = s,e,1,[e]\n",
        "        else:\n",
        "            t = 1\n",
        "            for i in range(len(Coating)):\n",
        "                if s-1 >= Coating[i]:\n",
        "                    Coating[i] = e\n",
        "                    t = 0\n",
        "                    break\n",
        "            if t:\n",
        "                Coating.append(e)\n",
        "                high += 1\n",
        "            max_ = max(max_,e)\n",
        "    return num\n",
        "    \n",
        "print(sol(0,[],1))"
      ],
      "metadata": {
        "colab": {
          "base_uri": "https://localhost:8080/"
        },
        "id": "8BV4BOoMl-cj",
        "outputId": "701a6f0b-d7e3-4eb2-a726-acd626d6bf12"
      },
      "execution_count": 2,
      "outputs": [
        {
          "output_type": "stream",
          "name": "stdout",
          "text": [
            "7\n",
            "2 4\n",
            "4 5\n",
            "5 6\n",
            "5 7\n",
            "7 9\n",
            "11 12\n",
            "12 12\n",
            "28\n"
          ]
        }
      ]
    }
  ]
}