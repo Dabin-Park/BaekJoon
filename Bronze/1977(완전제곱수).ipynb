{
  "cells": [
    {
      "cell_type": "markdown",
      "metadata": {
        "id": "view-in-github",
        "colab_type": "text"
      },
      "source": [
        "<a href=\"https://colab.research.google.com/github/Dabin-Park/BaekJoon/blob/main/Bronze/1977(%EC%99%84%EC%A0%84%EC%A0%9C%EA%B3%B1%EC%88%98).ipynb\" target=\"_parent\"><img src=\"https://colab.research.google.com/assets/colab-badge.svg\" alt=\"Open In Colab\"/></a>"
      ]
    },
    {
      "cell_type": "code",
      "source": [
        "M = int(input())\n",
        "N = int(input())\n",
        "\n",
        "sum = 0\n",
        "m = N\n",
        "\n",
        "for i in range(int(M**0.5),int(N**0.5)+2):\n",
        "    if i == int(M**0.5):\n",
        "        if i**2 >= M:\n",
        "            sum += i**2\n",
        "            m = i**2\n",
        "    elif i == int(N**0.5)+1:\n",
        "        if i**2 <= M:\n",
        "            sum += i**2\n",
        "    else:\n",
        "        sum += i**2\n",
        "        m = min(i**2,m)\n",
        "\n",
        "if sum == 0 :\n",
        "    print(-1)\n",
        "else: \n",
        "    print(sum)\n",
        "    print(m)"
      ],
      "metadata": {
        "colab": {
          "base_uri": "https://localhost:8080/"
        },
        "id": "wl4BkaYPmU4d",
        "outputId": "ba2c68f5-cad0-4161-dffc-76c2a27f02c2"
      },
      "execution_count": 1,
      "outputs": [
        {
          "output_type": "stream",
          "name": "stdout",
          "text": [
            "60\n",
            "100\n",
            "245\n",
            "64\n"
          ]
        }
      ]
    }
  ],
  "metadata": {
    "colab": {
      "name": "1977(완전제곱수).ipynb",
      "provenance": [],
      "collapsed_sections": [],
      "authorship_tag": "ABX9TyNRfTiu4RgJII0kVGOKPzdo",
      "include_colab_link": true
    },
    "kernelspec": {
      "display_name": "Python 3",
      "name": "python3"
    },
    "language_info": {
      "name": "python"
    }
  },
  "nbformat": 4,
  "nbformat_minor": 0
}