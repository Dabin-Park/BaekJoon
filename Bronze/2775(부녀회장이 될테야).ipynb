{
  "nbformat": 4,
  "nbformat_minor": 0,
  "metadata": {
    "colab": {
      "name": "2775(부녀회장이 될테야).ipynb",
      "provenance": [],
      "authorship_tag": "ABX9TyNa+8otr+KXt1ncPxkPYWZa",
      "include_colab_link": true
    },
    "kernelspec": {
      "name": "python3",
      "display_name": "Python 3"
    },
    "language_info": {
      "name": "python"
    }
  },
  "cells": [
    {
      "cell_type": "markdown",
      "metadata": {
        "id": "view-in-github",
        "colab_type": "text"
      },
      "source": [
        "<a href=\"https://colab.research.google.com/github/Dabin-Park/BaekJoon/blob/main/Bronze/2775(%EB%B6%80%EB%85%80%ED%9A%8C%EC%9E%A5%EC%9D%B4%20%EB%90%A0%ED%85%8C%EC%95%BC).ipynb\" target=\"_parent\"><img src=\"https://colab.research.google.com/assets/colab-badge.svg\" alt=\"Open In Colab\"/></a>"
      ]
    },
    {
      "cell_type": "code",
      "source": [
        "T = int(input())\n",
        "for _ in range(T):\n",
        "    k = int(input())\n",
        "    n = int(input())\n",
        "    Apart = [i for i in range(n+1)]\n",
        "    for _ in range(1,k+1):\n",
        "        for j in range(1,n+1):\n",
        "            Apart[j] += Apart[j-1]\n",
        "            \n",
        "    print(Apart[n])"
      ],
      "metadata": {
        "colab": {
          "base_uri": "https://localhost:8080/"
        },
        "id": "4NDvOBDhbpRD",
        "outputId": "6b7b3acf-6454-4749-a167-2c0962449adc"
      },
      "execution_count": 1,
      "outputs": [
        {
          "output_type": "stream",
          "name": "stdout",
          "text": [
            "2\n",
            "1\n",
            "3\n",
            "6\n",
            "2\n",
            "3\n",
            "10\n"
          ]
        }
      ]
    },
    {
      "cell_type": "code",
      "source": [
        "T = int(input())\n",
        "for _ in range(T):\n",
        "    k = int(input())\n",
        "    n = int(input())\n",
        "    Apart = [i for i in range(n+1)]\n",
        "    for _ in range(1,k+1):\n",
        "        for j in range(1,n+1):\n",
        "            Apart[j] += Apart[j-1]\n",
        "            \n",
        "    print(Apart[-1])"
      ],
      "metadata": {
        "colab": {
          "base_uri": "https://localhost:8080/"
        },
        "id": "BXaryP3-3tpG",
        "outputId": "3e780ce4-2e24-45a0-f3b2-b78142e7a403"
      },
      "execution_count": 2,
      "outputs": [
        {
          "output_type": "stream",
          "name": "stdout",
          "text": [
            "2\n",
            "1\n",
            "3\n",
            "6\n",
            "2\n",
            "3\n",
            "10\n"
          ]
        }
      ]
    }
  ]
}