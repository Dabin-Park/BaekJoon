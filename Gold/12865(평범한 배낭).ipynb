{
  "nbformat": 4,
  "nbformat_minor": 0,
  "metadata": {
    "colab": {
      "provenance": [],
      "collapsed_sections": [],
      "authorship_tag": "ABX9TyPXK0GGvyj43ZxoRkPHLdAx",
      "include_colab_link": true
    },
    "kernelspec": {
      "name": "python3",
      "display_name": "Python 3"
    },
    "language_info": {
      "name": "python"
    }
  },
  "cells": [
    {
      "cell_type": "markdown",
      "metadata": {
        "id": "view-in-github",
        "colab_type": "text"
      },
      "source": [
        "<a href=\"https://colab.research.google.com/github/Dabin-Park/BaekJoon/blob/main/Gold/12865(%ED%8F%89%EB%B2%94%ED%95%9C%20%EB%B0%B0%EB%82%AD).ipynb\" target=\"_parent\"><img src=\"https://colab.research.google.com/assets/colab-badge.svg\" alt=\"Open In Colab\"/></a>"
      ]
    },
    {
      "cell_type": "code",
      "source": [
        "def sol():\n",
        "    N, K = map(int, input().split())\n",
        "    object = [list(map(int, input().split())) for _ in range(N)]\n",
        "\n",
        "    bag = [[0]*(K+1) for _ in range(N+1)]\n",
        "    for i in range(1, N+1):\n",
        "        W,V = object[i-1][0],object[i-1][1]\n",
        "        for j in range(1, K+1):\n",
        "            if j < W:\n",
        "                bag[i][j] = bag[i-1][j]\n",
        "            else:\n",
        "                bag[i][j] = max(bag[i-1][j], bag[i-1][j-W]+V)\n",
        "    return bag[-1][-1]\n",
        "\n",
        "print(sol())"
      ],
      "metadata": {
        "colab": {
          "base_uri": "https://localhost:8080/"
        },
        "id": "TIqYxMb3ETPL",
        "outputId": "f5cbce76-0b8c-456f-909d-ff0746a6f62c"
      },
      "execution_count": null,
      "outputs": [
        {
          "output_type": "stream",
          "name": "stdout",
          "text": [
            "4 7\n",
            "6 13\n",
            "4 8\n",
            "3 6\n",
            "5 12\n",
            "14\n"
          ]
        }
      ]
    },
    {
      "cell_type": "code",
      "source": [
        "def sol():\n",
        "    N, K = map(int, input().split())\n",
        "    object = [list(map(int, input().split())) for _ in range(N)]\n",
        "\n",
        "    dp = [0]*(K+1)\n",
        "    for w,v in object:\n",
        "        for i in range(K, w-1,-1):\n",
        "            dp[i] = max(dp[i], dp[i-w]+v)\n",
        "    return dp[-1]\n",
        "\n",
        "print(sol())"
      ],
      "metadata": {
        "id": "_z2ZZit9c0sL",
        "outputId": "79d9545a-f58c-4cd0-8c54-8b575a8884c0",
        "colab": {
          "base_uri": "https://localhost:8080/"
        }
      },
      "execution_count": 1,
      "outputs": [
        {
          "output_type": "stream",
          "name": "stdout",
          "text": [
            "4 7\n",
            "6 13\n",
            "4 8\n",
            "3 6\n",
            "5 12\n",
            "14\n"
          ]
        }
      ]
    }
  ]
}