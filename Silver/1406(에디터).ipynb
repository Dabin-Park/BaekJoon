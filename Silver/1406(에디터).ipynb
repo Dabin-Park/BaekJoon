{
  "nbformat": 4,
  "nbformat_minor": 0,
  "metadata": {
    "colab": {
      "provenance": [],
      "authorship_tag": "ABX9TyNw4rXD6+vUZNLCjWOBSIPK",
      "include_colab_link": true
    },
    "kernelspec": {
      "name": "python3",
      "display_name": "Python 3"
    },
    "language_info": {
      "name": "python"
    }
  },
  "cells": [
    {
      "cell_type": "markdown",
      "metadata": {
        "id": "view-in-github",
        "colab_type": "text"
      },
      "source": [
        "<a href=\"https://colab.research.google.com/github/Dabin-Park/BaekJoon/blob/main/Silver/1406(%EC%97%90%EB%94%94%ED%84%B0).ipynb\" target=\"_parent\"><img src=\"https://colab.research.google.com/assets/colab-badge.svg\" alt=\"Open In Colab\"/></a>"
      ]
    },
    {
      "cell_type": "code",
      "execution_count": 1,
      "metadata": {
        "colab": {
          "base_uri": "https://localhost:8080/"
        },
        "id": "wTAxSOsmnSfu",
        "outputId": "747610a2-e7d6-4f28-ff04-0ff7ddf187b6"
      },
      "outputs": [
        {
          "output_type": "stream",
          "name": "stdout",
          "text": [
            "abcd\n",
            "3\n",
            "P x\n",
            "L\n",
            "P y\n",
            "abcdyx\n"
          ]
        }
      ],
      "source": [
        "from collections import deque\n",
        "\n",
        "Left,Right = deque(input().strip()),deque()\n",
        "\n",
        "for _ in range(int(input())):\n",
        "    Edit = list(input().split())\n",
        "    if Edit[0] == \"L\":\n",
        "        if Left:\n",
        "            Right.appendleft(Left.pop())\n",
        "    elif Edit[0] == \"D\":\n",
        "        if Right:\n",
        "            Left.append(Right.popleft())\n",
        "    elif Edit[0] == \"B\":\n",
        "        if Left:\n",
        "            del Left[-1]\n",
        "    else:\n",
        "        Left.append(Edit[1])\n",
        "\n",
        "print(\"\".join(Left),\"\".join(Right),sep = \"\")"
      ]
    }
  ]
}