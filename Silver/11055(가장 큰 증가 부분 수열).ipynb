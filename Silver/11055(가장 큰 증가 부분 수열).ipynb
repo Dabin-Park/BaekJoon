{
  "nbformat": 4,
  "nbformat_minor": 0,
  "metadata": {
    "colab": {
      "provenance": [],
      "authorship_tag": "ABX9TyMNs+WdLgi4/WW7ZBZ91zwX",
      "include_colab_link": true
    },
    "kernelspec": {
      "name": "python3",
      "display_name": "Python 3"
    },
    "language_info": {
      "name": "python"
    }
  },
  "cells": [
    {
      "cell_type": "markdown",
      "metadata": {
        "id": "view-in-github",
        "colab_type": "text"
      },
      "source": [
        "<a href=\"https://colab.research.google.com/github/Dabin-Park/BaekJoon/blob/main/Silver/11055(%EA%B0%80%EC%9E%A5%20%ED%81%B0%20%EC%A6%9D%EA%B0%80%20%EB%B6%80%EB%B6%84%20%EC%88%98%EC%97%B4).ipynb\" target=\"_parent\"><img src=\"https://colab.research.google.com/assets/colab-badge.svg\" alt=\"Open In Colab\"/></a>"
      ]
    },
    {
      "cell_type": "code",
      "execution_count": 1,
      "metadata": {
        "colab": {
          "base_uri": "https://localhost:8080/"
        },
        "id": "V2C1sM_6QvYk",
        "outputId": "63dcd003-bf9e-4a48-c419-91065202f000"
      },
      "outputs": [
        {
          "output_type": "stream",
          "name": "stdout",
          "text": [
            "10\n",
            "1 100 2 50 60 3 5 6 7 8\n",
            "113\n"
          ]
        }
      ],
      "source": [
        "def sol(N):\n",
        "    Sequnce = list(map(int,input().split()))\n",
        "    dp = Sequnce.copy()\n",
        "    for i in range(1,N):\n",
        "        Max = []\n",
        "        for j in range(i):\n",
        "            if Sequnce[i] > Sequnce[j]:\n",
        "                Max.append(dp[j])\n",
        "        if Max:\n",
        "            dp[i] += max(Max)\n",
        "    return max(dp)\n",
        "\n",
        "print(sol(int(input())))"
      ]
    }
  ]
}