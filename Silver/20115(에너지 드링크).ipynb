{
  "nbformat": 4,
  "nbformat_minor": 0,
  "metadata": {
    "colab": {
      "name": "20115(에너지 드링크).ipynb",
      "provenance": [],
      "authorship_tag": "ABX9TyNDVO2RUubxRjve1a26fB4v",
      "include_colab_link": true
    },
    "kernelspec": {
      "name": "python3",
      "display_name": "Python 3"
    },
    "language_info": {
      "name": "python"
    }
  },
  "cells": [
    {
      "cell_type": "markdown",
      "metadata": {
        "id": "view-in-github",
        "colab_type": "text"
      },
      "source": [
        "<a href=\"https://colab.research.google.com/github/Dabin-Park/BaekJoon/blob/main/Silver/20115(%EC%97%90%EB%84%88%EC%A7%80%20%EB%93%9C%EB%A7%81%ED%81%AC).ipynb\" target=\"_parent\"><img src=\"https://colab.research.google.com/assets/colab-badge.svg\" alt=\"Open In Colab\"/></a>"
      ]
    },
    {
      "cell_type": "code",
      "execution_count": 1,
      "metadata": {
        "colab": {
          "base_uri": "https://localhost:8080/"
        },
        "id": "dT6CvtQPNnKQ",
        "outputId": "5d4a72d3-9a1a-4108-88e6-1117edcafc72"
      },
      "outputs": [
        {
          "output_type": "stream",
          "name": "stdout",
          "text": [
            "10\n",
            "100 9 77 65 39 27 45 1 80 495\n",
            "716.5\n"
          ]
        }
      ],
      "source": [
        "N = int(input())\n",
        "Drinks = list(map(int,input().split()))\n",
        "Drinks.sort()\n",
        "n = Drinks[-1]\n",
        "\n",
        "for drink in Drinks[:N-1]:\n",
        "    n += drink/2\n",
        "    \n",
        "print(n)"
      ]
    },
    {
      "cell_type": "code",
      "source": [
        "N = int(input())\n",
        "Drinks = list(map(int,input().split()))\n",
        "Drinks.sort()\n",
        "n = Drinks[-1] + sum(Drinks[:N-1])/2\n",
        "    \n",
        "print(n)"
      ],
      "metadata": {
        "colab": {
          "base_uri": "https://localhost:8080/"
        },
        "id": "MLfsrsuzXlAr",
        "outputId": "b2ac23e0-647f-4e5d-aa9d-34568292b8fb"
      },
      "execution_count": 2,
      "outputs": [
        {
          "output_type": "stream",
          "name": "stdout",
          "text": [
            "10\n",
            "100 9 77 65 39 27 45 1 80 495\n",
            "716.5\n"
          ]
        }
      ]
    }
  ]
}