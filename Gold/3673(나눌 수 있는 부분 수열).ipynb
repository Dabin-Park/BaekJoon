{
  "nbformat": 4,
  "nbformat_minor": 0,
  "metadata": {
    "colab": {
      "name": "3673(나눌 수 있는 부분 수열).ipynb",
      "provenance": [],
      "authorship_tag": "ABX9TyPPCBO0IZAPBS5OlQ1ZOqD+",
      "include_colab_link": true
    },
    "kernelspec": {
      "name": "python3",
      "display_name": "Python 3"
    },
    "language_info": {
      "name": "python"
    }
  },
  "cells": [
    {
      "cell_type": "markdown",
      "metadata": {
        "id": "view-in-github",
        "colab_type": "text"
      },
      "source": [
        "<a href=\"https://colab.research.google.com/github/Dabin-Park/BaekJoon/blob/main/Gold/3673(%EB%82%98%EB%88%8C%20%EC%88%98%20%EC%9E%88%EB%8A%94%20%EB%B6%80%EB%B6%84%20%EC%88%98%EC%97%B4).ipynb\" target=\"_parent\"><img src=\"https://colab.research.google.com/assets/colab-badge.svg\" alt=\"Open In Colab\"/></a>"
      ]
    },
    {
      "cell_type": "code",
      "source": [
        "for _ in range(int(input())):\n",
        "    d,n = map(int,input().split())\n",
        "    Sequnce = list(map(int,input().split()))\n",
        "    Numbers = [0]*d\n",
        "    value, num = 0 , 0\n",
        "\n",
        "    for i in range(n):\n",
        "        value = (value + Sequnce[i]) % d\n",
        "        Numbers[value] += 1\n",
        "\n",
        "    x = 0\n",
        "    for i in range(n):\n",
        "        num += Numbers[x]\n",
        "        Numbers[(Sequnce[i] + x) % d] -= 1\n",
        "        x = (x + Sequnce[i])%d\n",
        "    \n",
        "    print(num)"
      ],
      "metadata": {
        "id": "CGdbDyPnpFQk",
        "outputId": "7bcef66b-f2aa-4e24-f705-9586b4fdb71e",
        "colab": {
          "base_uri": "https://localhost:8080/"
        }
      },
      "execution_count": 3,
      "outputs": [
        {
          "output_type": "stream",
          "name": "stdout",
          "text": [
            "2\n",
            "7 3\n",
            "1 2 3\n",
            "0\n",
            "4 8\n",
            "2 1 2 1 1 2 1 2 \n",
            "6\n"
          ]
        }
      ]
    }
  ]
}