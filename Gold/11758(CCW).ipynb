{
  "nbformat": 4,
  "nbformat_minor": 0,
  "metadata": {
    "colab": {
      "name": "11758(CCW).ipynb",
      "provenance": [],
      "authorship_tag": "ABX9TyPBKKylXem7YS7HCDC9kSOZ",
      "include_colab_link": true
    },
    "kernelspec": {
      "name": "python3",
      "display_name": "Python 3"
    },
    "language_info": {
      "name": "python"
    }
  },
  "cells": [
    {
      "cell_type": "markdown",
      "metadata": {
        "id": "view-in-github",
        "colab_type": "text"
      },
      "source": [
        "<a href=\"https://colab.research.google.com/github/Dabin-Park/BaekJoon/blob/main/Gold/11758(CCW).ipynb\" target=\"_parent\"><img src=\"https://colab.research.google.com/assets/colab-badge.svg\" alt=\"Open In Colab\"/></a>"
      ]
    },
    {
      "cell_type": "code",
      "source": [
        "def line(a,b,x):\n",
        "    return ((a[1]-b[1])/ (a[0]-b[0])) * (x - b[0]) + b[1]\n",
        "\n",
        "p = [list(map(int,input().split())) for _ in range(3)]\n",
        "\n",
        "if p[0][0] == p[1][0]:\n",
        "    if p[0][0] == p[2][0]:\n",
        "        print(0)\n",
        "    elif p[0][1] > p[1][1]:\n",
        "        if p[0][0] < p[2][0]:\n",
        "            print(1)\n",
        "        else:\n",
        "            print(-1)\n",
        "    else:\n",
        "        if p[0][0] > p[2][0]:\n",
        "            print(1)\n",
        "        else:\n",
        "            print(-1)\n",
        "else:\n",
        "    a = line(p[0],p[1],p[2][0])\n",
        "    if p[2][1] < a + 0.00000001 and p[2][1] > a - 0.00000001:\n",
        "        print(0)\n",
        "    elif p[2][1] > a:\n",
        "        if p[0][0] > p[1][0]:\n",
        "            print(-1)\n",
        "        else:\n",
        "            print(1)\n",
        "    else:\n",
        "        if p[0][0] > p[1][0]:\n",
        "            print(1)\n",
        "        else:\n",
        "            print(-1)"
      ],
      "metadata": {
        "id": "CGdbDyPnpFQk",
        "outputId": "8622d932-e421-418f-c0e6-7f487f9da49b",
        "colab": {
          "base_uri": "https://localhost:8080/"
        }
      },
      "execution_count": 1,
      "outputs": [
        {
          "output_type": "stream",
          "name": "stdout",
          "text": [
            "1 1\n",
            "5 5 \n",
            "7 3\n",
            "-1\n"
          ]
        }
      ]
    },
    {
      "cell_type": "code",
      "source": [
        "# https://www.acmicpc.net/blog/view/27 참고\n",
        "\n",
        "def ccw(p1,p2,p3):\n",
        "    return (p2[0] - p1[0]) * (p3[1] - p1[1]) - (p2[1] - p1[1]) * (p3[0] - p1[0])\n",
        "\n",
        "P = [list(map(int,input().split())) for _ in range(3)]\n",
        "S = ccw(P[0],P[1],P[2])\n",
        "\n",
        "if S:\n",
        "    print(S//abs(S))\n",
        "else:\n",
        "    print(0)"
      ],
      "metadata": {
        "colab": {
          "base_uri": "https://localhost:8080/"
        },
        "id": "qSbW3_hRcA3N",
        "outputId": "58ad2596-cd63-4858-c992-541afc012a9a"
      },
      "execution_count": 2,
      "outputs": [
        {
          "output_type": "stream",
          "name": "stdout",
          "text": [
            "1 1\n",
            "5 5\n",
            "7 3\n",
            "-1\n"
          ]
        }
      ]
    }
  ]
}