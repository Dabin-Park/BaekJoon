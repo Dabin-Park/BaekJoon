{
  "nbformat": 4,
  "nbformat_minor": 0,
  "metadata": {
    "colab": {
      "provenance": [],
      "authorship_tag": "ABX9TyNsa7DVtTvPFumT43I2GJuS",
      "include_colab_link": true
    },
    "kernelspec": {
      "name": "python3",
      "display_name": "Python 3"
    },
    "language_info": {
      "name": "python"
    }
  },
  "cells": [
    {
      "cell_type": "markdown",
      "metadata": {
        "id": "view-in-github",
        "colab_type": "text"
      },
      "source": [
        "<a href=\"https://colab.research.google.com/github/Dabin-Park/BaekJoon/blob/main/Platinum/1287(%ED%95%A0%20%EC%88%98%20%EC%9E%88%EB%8B%A4).ipynb\" target=\"_parent\"><img src=\"https://colab.research.google.com/assets/colab-badge.svg\" alt=\"Open In Colab\"/></a>"
      ]
    },
    {
      "cell_type": "code",
      "source": [
        "def sol(Equation):\n",
        "    if Equation[0] in \"+-/*\" or Equation[-1] in \"+-/*\":\n",
        "        return \"ROCK\" \n",
        "    for i in range(len(Equation)-1):\n",
        "        if Equation[i] in \"+-/*(\" and Equation[i+1] in \"+-/*)\":\n",
        "            return \"ROCK\" \n",
        "             \n",
        "    try:\n",
        "        return eval(Equation.replace(\"/\",\"//\").replace(\"(\"*50,\"\").replace(\")\"*50,\"\"))\n",
        "    except:\n",
        "        return \"ROCK\"\n",
        "            \n",
        "print(sol(input().rstrip()))"
      ],
      "metadata": {
        "colab": {
          "base_uri": "https://localhost:8080/"
        },
        "id": "Wf1zqg3P9ONw",
        "outputId": "b5fa2fc3-46dc-437a-f876-265488f5e16f"
      },
      "execution_count": 1,
      "outputs": [
        {
          "output_type": "stream",
          "name": "stdout",
          "text": [
            "5+(1+2)*3\n",
            "14\n"
          ]
        }
      ]
    }
  ]
}