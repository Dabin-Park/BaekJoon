{
  "nbformat": 4,
  "nbformat_minor": 0,
  "metadata": {
    "colab": {
      "provenance": [],
      "authorship_tag": "ABX9TyPykNNxnPVex95R0SqIOJLE",
      "include_colab_link": true
    },
    "kernelspec": {
      "name": "python3",
      "display_name": "Python 3"
    },
    "language_info": {
      "name": "python"
    }
  },
  "cells": [
    {
      "cell_type": "markdown",
      "metadata": {
        "id": "view-in-github",
        "colab_type": "text"
      },
      "source": [
        "<a href=\"https://colab.research.google.com/github/Dabin-Park/BaekJoon/blob/main/Bronze/16497(%EB%8C%80%EC%B6%9C%20%EC%9A%94%EC%B2%AD).ipynb\" target=\"_parent\"><img src=\"https://colab.research.google.com/assets/colab-badge.svg\" alt=\"Open In Colab\"/></a>"
      ]
    },
    {
      "cell_type": "code",
      "source": [
        "def sol():\n",
        "    Book = [0]*32\n",
        "    for _ in range(int(input())):\n",
        "        s,e = map(int,input().split())\n",
        "        Book[s] += 1\n",
        "        Book[e] -= 1\n",
        "    for i in range(1,32):\n",
        "        Book[i] += Book[i-1]\n",
        "    if max(Book) <= int(input()):\n",
        "        return 1\n",
        "    return 0\n",
        "\n",
        "print(sol())"
      ],
      "metadata": {
        "id": "Eum8oDR9H9Ie",
        "colab": {
          "base_uri": "https://localhost:8080/"
        },
        "outputId": "a560d37a-e2f5-4e81-b9aa-0951b283ae5f"
      },
      "execution_count": 1,
      "outputs": [
        {
          "output_type": "stream",
          "name": "stdout",
          "text": [
            "3\n",
            "1 2\n",
            "3 6\n",
            "5 8\n",
            "1\n",
            "0\n"
          ]
        }
      ]
    }
  ]
}