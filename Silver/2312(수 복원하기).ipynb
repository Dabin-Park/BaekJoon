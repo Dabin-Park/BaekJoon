{
  "cells": [
    {
      "cell_type": "markdown",
      "metadata": {
        "id": "view-in-github",
        "colab_type": "text"
      },
      "source": [
        "<a href=\"https://colab.research.google.com/github/Dabin-Park/BaekJoon/blob/main/Silver/2312(%EC%88%98%20%EB%B3%B5%EC%9B%90%ED%95%98%EA%B8%B0).ipynb\" target=\"_parent\"><img src=\"https://colab.research.google.com/assets/colab-badge.svg\" alt=\"Open In Colab\"/></a>"
      ]
    },
    {
      "cell_type": "code",
      "source": [
        "N = int(input())\n",
        "\n",
        "A = []\n",
        "\n",
        "for _ in range(N):\n",
        "    a = int(input())\n",
        "    A.append(a)\n",
        "\n",
        "m = max(A)\n",
        "B = [1 for _ in range(m+1)]\n",
        "B[0],B[1] = 0,0\n",
        "C = [0 for _ in range(m+1)]\n",
        "\n",
        "for i in range(2,m+1):\n",
        "    if B[i] == 1:\n",
        "        for j in range(2*i,m+1,i):\n",
        "            B[j] = 0\n",
        "for a in A:\n",
        "    while True:\n",
        "        if a == 1:\n",
        "            for i in range(m+1):\n",
        "                if C[i] != 0:\n",
        "                    print(f\"{i} {C[i]}\")\n",
        "                    C[i] = 0\n",
        "            break\n",
        "        for i in range(2,m+1):\n",
        "            if B[i] == 1 and a%i == 0:\n",
        "                a /= i\n",
        "                C[i] += 1    "
      ],
      "metadata": {
        "colab": {
          "base_uri": "https://localhost:8080/"
        },
        "id": "nSrvviDnu1sa",
        "outputId": "8f02f135-b85d-4a43-8319-ee7a13daab32"
      },
      "execution_count": 2,
      "outputs": [
        {
          "output_type": "stream",
          "name": "stdout",
          "text": [
            "2\n",
            "6\n",
            "24\n",
            "2 1\n",
            "3 1\n",
            "2 3\n",
            "3 1\n"
          ]
        }
      ]
    },
    {
      "cell_type": "code",
      "source": [
        "n = int(input())\n",
        "\n",
        "for _ in range(n):\n",
        "    N = int(input())\n",
        "    for i in range(2,N+1):\n",
        "        cnt = 0\n",
        "        if N % i == 0:\n",
        "            while N % i == 0:\n",
        "                N //= i\n",
        "                cnt += 1\n",
        "            print(f\"{i} {cnt}\")\n",
        "        elif N == 1:\n",
        "            break "
      ],
      "metadata": {
        "colab": {
          "base_uri": "https://localhost:8080/"
        },
        "id": "-W0hOcOBzNar",
        "outputId": "48c2f702-0315-4a69-b1ad-bf78497bb854"
      },
      "execution_count": 3,
      "outputs": [
        {
          "output_type": "stream",
          "name": "stdout",
          "text": [
            "2\n",
            "6\n",
            "2 1\n",
            "3 1\n",
            "24\n",
            "2 3\n",
            "3 1\n"
          ]
        }
      ]
    }
  ],
  "metadata": {
    "colab": {
      "name": "2312(수 복원하기).ipynb",
      "provenance": [],
      "collapsed_sections": [],
      "authorship_tag": "ABX9TyN20Cbj/hY7lyvpOeabU85Q",
      "include_colab_link": true
    },
    "kernelspec": {
      "display_name": "Python 3",
      "name": "python3"
    },
    "language_info": {
      "name": "python"
    }
  },
  "nbformat": 4,
  "nbformat_minor": 0
}