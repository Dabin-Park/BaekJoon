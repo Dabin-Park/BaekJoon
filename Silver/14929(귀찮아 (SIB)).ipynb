{
  "cells": [
    {
      "cell_type": "markdown",
      "metadata": {
        "id": "view-in-github",
        "colab_type": "text"
      },
      "source": [
        "<a href=\"https://colab.research.google.com/github/Dabin-Park/BaekJoon/blob/main/Silver/14929(%EA%B7%80%EC%B0%AE%EC%95%84%20(SIB)).ipynb\" target=\"_parent\"><img src=\"https://colab.research.google.com/assets/colab-badge.svg\" alt=\"Open In Colab\"/></a>"
      ]
    },
    {
      "cell_type": "code",
      "source": [
        "n = int(input())\n",
        "A = list(map(int,input().split()))\n",
        "\n",
        "sum = sum(A)\n",
        "num = 0\n",
        "for a in A:\n",
        "    sum -= a\n",
        "    num += a*sum\n",
        "    \n",
        "print(num)"
      ],
      "metadata": {
        "id": "HBwwya3y6Eyo",
        "outputId": "7907e080-e5f2-4300-cfb9-83765a3f6f89",
        "colab": {
          "base_uri": "https://localhost:8080/"
        }
      },
      "execution_count": 3,
      "outputs": [
        {
          "output_type": "stream",
          "name": "stdout",
          "text": [
            "3\n",
            "1 -2 3\n",
            "-5\n"
          ]
        }
      ]
    },
    {
      "cell_type": "code",
      "source": [
        "def rank(A):\n",
        "    i,j = 0,2\n",
        "    while True:\n",
        "        if A[i][0] == A[i+1][0] and A[i][0] == A[j][0]:\n",
        "            j += 1\n",
        "        else:\n",
        "            break\n",
        "    return i,j  \n",
        "        \n",
        "\n",
        "N = int(input())\n",
        "A = [list(map(int,input().split())) for _ in range(N)]\n",
        "\n",
        "    \n",
        "A.sort(key = lambda x : -x[2])\n",
        "i,j = rank(A)\n",
        "\n",
        "print(A[i][0], A[i][1])\n",
        "print(A[i+1][0], A[i+1][1])\n",
        "print(A[j][0], A[j][1])"
      ],
      "metadata": {
        "colab": {
          "base_uri": "https://localhost:8080/"
        },
        "id": "Cwa0tOKmGAob",
        "outputId": "b301de6d-06f7-4b96-ca8f-bef6aa16217c"
      },
      "execution_count": 2,
      "outputs": [
        {
          "output_type": "stream",
          "name": "stdout",
          "text": [
            "9\n",
            "1 1 230\n",
            "1 2 210\n",
            "1 3 205\n",
            "2 1 100\n",
            "2 2 150\n",
            "3 1 175\n",
            "3 2 190\n",
            "3 3 180\n",
            "3 4 195\n",
            "1 1\n",
            "1 2\n",
            "3 4\n"
          ]
        }
      ]
    }
  ],
  "metadata": {
    "colab": {
      "name": "14929(귀찮아 (SIB)).ipynb",
      "provenance": [],
      "collapsed_sections": [],
      "authorship_tag": "ABX9TyM2VZCLkMj0hH0r3Xe52L4w",
      "include_colab_link": true
    },
    "kernelspec": {
      "display_name": "Python 3",
      "name": "python3"
    },
    "language_info": {
      "name": "python"
    }
  },
  "nbformat": 4,
  "nbformat_minor": 0
}