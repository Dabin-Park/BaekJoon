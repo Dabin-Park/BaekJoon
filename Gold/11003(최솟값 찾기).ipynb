{
  "nbformat": 4,
  "nbformat_minor": 0,
  "metadata": {
    "colab": {
      "provenance": [],
      "collapsed_sections": [],
      "authorship_tag": "ABX9TyNlIM0kSW70zpO3gAfGhNvK",
      "include_colab_link": true
    },
    "kernelspec": {
      "name": "python3",
      "display_name": "Python 3"
    },
    "language_info": {
      "name": "python"
    }
  },
  "cells": [
    {
      "cell_type": "markdown",
      "metadata": {
        "id": "view-in-github",
        "colab_type": "text"
      },
      "source": [
        "<a href=\"https://colab.research.google.com/github/Dabin-Park/BaekJoon/blob/main/Gold/11003(%EC%B5%9C%EC%86%9F%EA%B0%92%20%EC%B0%BE%EA%B8%B0).ipynb\" target=\"_parent\"><img src=\"https://colab.research.google.com/assets/colab-badge.svg\" alt=\"Open In Colab\"/></a>"
      ]
    },
    {
      "cell_type": "code",
      "source": [
        "from collections import deque\n",
        "\n",
        "def sol():\n",
        "    N,L = map(int,input().split())\n",
        "    Sequnce = list(map(int,input().split()))\n",
        "    que,Sol = deque(),[]\n",
        "    for i in range(N):\n",
        "        num = Sequnce[i]\n",
        "        while que and que[-1][0] >= num:\n",
        "            del que[-1]\n",
        "        que.append((num,i))\n",
        "        while que[0][1] <= i-L:\n",
        "                que.popleft()\n",
        "        Sol.append(que[0][0])\n",
        "    return Sol\n",
        "\n",
        "print(*sol())"
      ],
      "metadata": {
        "id": "k7eFI1eAZZ1Z",
        "outputId": "a12512dc-ef11-4957-e8fb-b350900be184",
        "colab": {
          "base_uri": "https://localhost:8080/"
        }
      },
      "execution_count": 1,
      "outputs": [
        {
          "output_type": "stream",
          "name": "stdout",
          "text": [
            "12 3\n",
            "1 5 2 3 6 2 3 7 3 5 2 6\n",
            "1 1 1 2 2 2 2 2 3 3 2 2\n"
          ]
        }
      ]
    }
  ]
}