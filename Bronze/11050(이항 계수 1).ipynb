{
  "nbformat": 4,
  "nbformat_minor": 0,
  "metadata": {
    "colab": {
      "name": "11050(이항 계수 1).ipynb",
      "provenance": [],
      "authorship_tag": "ABX9TyNLx3HtpFOcmzcfv9pkzM5v",
      "include_colab_link": true
    },
    "kernelspec": {
      "name": "python3",
      "display_name": "Python 3"
    },
    "language_info": {
      "name": "python"
    }
  },
  "cells": [
    {
      "cell_type": "markdown",
      "metadata": {
        "id": "view-in-github",
        "colab_type": "text"
      },
      "source": [
        "<a href=\"https://colab.research.google.com/github/Dabin-Park/BaekJoon/blob/main/Bronze/11050(%EC%9D%B4%ED%95%AD%20%EA%B3%84%EC%88%98%201).ipynb\" target=\"_parent\"><img src=\"https://colab.research.google.com/assets/colab-badge.svg\" alt=\"Open In Colab\"/></a>"
      ]
    },
    {
      "cell_type": "code",
      "source": [
        "def factorial(n):\n",
        "    num = 1\n",
        "    while n > 1:\n",
        "        num *= n\n",
        "        n -=1\n",
        "    return num\n",
        "\n",
        "def combination(a,b):\n",
        "    return factorial(a)//(factorial(b)*factorial(a-b))\n",
        "\n",
        "N,K = map(int,input().split())\n",
        "print(combination(N,K))"
      ],
      "metadata": {
        "id": "xk6usRE-86iG",
        "colab": {
          "base_uri": "https://localhost:8080/"
        },
        "outputId": "58f0c5ac-87c4-43cc-adf1-93547ca9f5aa"
      },
      "execution_count": 2,
      "outputs": [
        {
          "output_type": "stream",
          "name": "stdout",
          "text": [
            "5 2\n",
            "10\n"
          ]
        }
      ]
    }
  ]
}