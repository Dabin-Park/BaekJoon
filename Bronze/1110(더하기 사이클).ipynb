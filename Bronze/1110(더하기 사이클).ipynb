{
  "cells": [
    {
      "cell_type": "markdown",
      "metadata": {
        "id": "view-in-github",
        "colab_type": "text"
      },
      "source": [
        "<a href=\"https://colab.research.google.com/github/Dabin-Park/BaekJoon/blob/main/Bronze/1110(%EB%8D%94%ED%95%98%EA%B8%B0%20%EC%82%AC%EC%9D%B4%ED%81%B4).ipynb\" target=\"_parent\"><img src=\"https://colab.research.google.com/assets/colab-badge.svg\" alt=\"Open In Colab\"/></a>"
      ]
    },
    {
      "cell_type": "code",
      "source": [
        "N = input()\n",
        "if len(N) == 1:\n",
        "    N = '0' + N\n",
        "    \n",
        "num,M = 0,N\n",
        "while True:   \n",
        "    b = str(int(M[0]) + int(M[1]))\n",
        "    if len(b) == 1:\n",
        "        a = M[1] + b\n",
        "    else:\n",
        "        a = M[1] + b[1]\n",
        "    num += 1\n",
        "    if a == N :\n",
        "        break\n",
        "    M = a\n",
        "    \n",
        "print(num)"
      ],
      "metadata": {
        "id": "HBwwya3y6Eyo",
        "outputId": "7b80229d-f0b7-4756-8bdb-a856cbedec18",
        "colab": {
          "base_uri": "https://localhost:8080/"
        }
      },
      "execution_count": 1,
      "outputs": [
        {
          "output_type": "stream",
          "name": "stdout",
          "text": [
            "26\n",
            "4\n"
          ]
        }
      ]
    }
  ],
  "metadata": {
    "colab": {
      "name": "1110(더하기 사이클).ipynb",
      "provenance": [],
      "collapsed_sections": [],
      "authorship_tag": "ABX9TyN4owed/s4vciHFZpygEAp3",
      "include_colab_link": true
    },
    "kernelspec": {
      "display_name": "Python 3",
      "name": "python3"
    },
    "language_info": {
      "name": "python"
    }
  },
  "nbformat": 4,
  "nbformat_minor": 0
}