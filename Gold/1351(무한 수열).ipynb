{
  "nbformat": 4,
  "nbformat_minor": 0,
  "metadata": {
    "colab": {
      "name": "1351(무한 수열).ipynb",
      "provenance": [],
      "authorship_tag": "ABX9TyO/hYPjCMEfwK6sqBoU6pxo",
      "include_colab_link": true
    },
    "kernelspec": {
      "name": "python3",
      "display_name": "Python 3"
    },
    "language_info": {
      "name": "python"
    }
  },
  "cells": [
    {
      "cell_type": "markdown",
      "metadata": {
        "id": "view-in-github",
        "colab_type": "text"
      },
      "source": [
        "<a href=\"https://colab.research.google.com/github/Dabin-Park/BaekJoon/blob/main/Gold/1351(%EB%AC%B4%ED%95%9C%20%EC%88%98%EC%97%B4).ipynb\" target=\"_parent\"><img src=\"https://colab.research.google.com/assets/colab-badge.svg\" alt=\"Open In Colab\"/></a>"
      ]
    },
    {
      "cell_type": "code",
      "source": [
        "def Input(x,y,Z,W,c):\n",
        "    if x in Z:\n",
        "        Z[x] += c*W[y]\n",
        "    else:\n",
        "        Z[x] = c*W[y]\n",
        "    return Z\n",
        "    \n",
        "           \n",
        "N, P, Q = map(int,input().split())\n",
        "num,t = 0,1\n",
        "A = {N:1}\n",
        "while t:\n",
        "    t = 0\n",
        "    B = {}\n",
        "    for a in A:\n",
        "        if a:\n",
        "            x,y = a//P, a//Q\n",
        "            if x != y:\n",
        "                B = Input(x,a,B,A,1)\n",
        "                B = Input(y,a,B,A,1)\n",
        "            else:\n",
        "                B = Input(x,a,B,A,2)\n",
        "            t = 1\n",
        "        else:\n",
        "            num += A[a]\n",
        "    A = B\n",
        "    \n",
        "print(num)"
      ],
      "metadata": {
        "colab": {
          "base_uri": "https://localhost:8080/"
        },
        "id": "4NDvOBDhbpRD",
        "outputId": "29fa7e70-57cb-4a1f-e5fb-7c86b7fa8adc"
      },
      "execution_count": 2,
      "outputs": [
        {
          "output_type": "stream",
          "name": "stdout",
          "text": [
            "7 2 3\n",
            "7\n"
          ]
        }
      ]
    }
  ]
}