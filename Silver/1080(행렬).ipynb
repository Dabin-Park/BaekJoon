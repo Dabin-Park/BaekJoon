{
  "cells": [
    {
      "cell_type": "markdown",
      "metadata": {
        "id": "view-in-github",
        "colab_type": "text"
      },
      "source": [
        "<a href=\"https://colab.research.google.com/github/Dabin-Park/BaekJoon/blob/main/Silver/1080(%ED%96%89%EB%A0%AC).ipynb\" target=\"_parent\"><img src=\"https://colab.research.google.com/assets/colab-badge.svg\" alt=\"Open In Colab\"/></a>"
      ]
    },
    {
      "cell_type": "code",
      "source": [
        "def change(a,l,k):\n",
        "    for i in range(l,l+3):\n",
        "        for j in range(k,k+3):\n",
        "            if a[i][j] == '0':\n",
        "               a[i][j] = '1'\n",
        "            else :\n",
        "               a[i][j] ='0'\n",
        "    return a\n",
        "    \n",
        "N,M = map(int,input().split())\n",
        "A = []\n",
        "B = [] \n",
        "\n",
        "for _ in range(N):\n",
        "    a = list(input())\n",
        "    A.append(a)\n",
        "    \n",
        "for _ in range(N):\n",
        "    b = list(input())\n",
        "    B.append(b)\n",
        "    \n",
        "n = 0\n",
        "\n",
        "if N < 3 or M < 3 :\n",
        "    if A == B :\n",
        "        n = 0\n",
        "    else :\n",
        "        n = -1\n",
        "else :\n",
        "    for i in range(N-2):\n",
        "        for j in range(M-2):\n",
        "            if A[i][j] != B[i][j]:\n",
        "                A = change(A,i,j)\n",
        "                n += 1    \n",
        "        if A[i] != B[i]:\n",
        "            n = -1\n",
        "            break;\n",
        "    if A[N-2] != B[N-2] or A[N-1] != B[N-1] :\n",
        "        n = -1\n",
        "        \n",
        "\n",
        "print(n)"
      ],
      "metadata": {
        "colab": {
          "base_uri": "https://localhost:8080/"
        },
        "id": "wl4BkaYPmU4d",
        "outputId": "07ff34f7-095c-4d42-a668-48655c79b22c"
      },
      "execution_count": 1,
      "outputs": [
        {
          "output_type": "stream",
          "name": "stdout",
          "text": [
            "3\n",
            "0 0 13 40 0 37\n",
            "2\n",
            "0 0 3 0 7 4\n",
            "1\n",
            "1 1 1 1 1 5\n",
            "0\n"
          ]
        }
      ]
    }
  ],
  "metadata": {
    "colab": {
      "name": "1080(행렬).ipynb",
      "provenance": [],
      "collapsed_sections": [],
      "authorship_tag": "ABX9TyOkISkeidlwuixjTQkHkaYh",
      "include_colab_link": true
    },
    "kernelspec": {
      "display_name": "Python 3",
      "name": "python3"
    },
    "language_info": {
      "name": "python"
    }
  },
  "nbformat": 4,
  "nbformat_minor": 0
}