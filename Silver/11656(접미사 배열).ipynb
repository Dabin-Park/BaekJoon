{
  "nbformat": 4,
  "nbformat_minor": 0,
  "metadata": {
    "colab": {
      "name": "11656(접미사 배열).ipynb",
      "provenance": [],
      "authorship_tag": "ABX9TyMBfG/f+pKU2z3umRo+EXYH",
      "include_colab_link": true
    },
    "kernelspec": {
      "name": "python3",
      "display_name": "Python 3"
    },
    "language_info": {
      "name": "python"
    }
  },
  "cells": [
    {
      "cell_type": "markdown",
      "metadata": {
        "id": "view-in-github",
        "colab_type": "text"
      },
      "source": [
        "<a href=\"https://colab.research.google.com/github/Dabin-Park/BaekJoon/blob/main/Silver/11656(%EC%A0%91%EB%AF%B8%EC%82%AC%20%EB%B0%B0%EC%97%B4).ipynb\" target=\"_parent\"><img src=\"https://colab.research.google.com/assets/colab-badge.svg\" alt=\"Open In Colab\"/></a>"
      ]
    },
    {
      "cell_type": "code",
      "execution_count": 4,
      "metadata": {
        "colab": {
          "base_uri": "https://localhost:8080/"
        },
        "id": "dT6CvtQPNnKQ",
        "outputId": "25e46e5e-e78b-4fd8-b60a-36a1475b303f"
      },
      "outputs": [
        {
          "output_type": "stream",
          "name": "stdout",
          "text": [
            "baekjoon\n",
            "aekjoon\n",
            "baekjoon\n",
            "ekjoon\n",
            "joon\n",
            "kjoon\n",
            "n\n",
            "on\n",
            "oon\n"
          ]
        }
      ],
      "source": [
        "S = input()\n",
        "A = [S]\n",
        "for _ in range(len(S)-1):\n",
        "    S = S[1:]\n",
        "    A.append(S)\n",
        "\n",
        "A.sort(key = str)\n",
        "\n",
        "for a in A:\n",
        "    print(a)"
      ]
    }
  ]
}