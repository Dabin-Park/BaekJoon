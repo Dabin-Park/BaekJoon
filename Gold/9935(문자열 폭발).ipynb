{
  "nbformat": 4,
  "nbformat_minor": 0,
  "metadata": {
    "colab": {
      "name": "2822(점수 계산).ipynb",
      "provenance": [],
      "authorship_tag": "ABX9TyNLevk7Cl/RGzzn2GN2D3I0",
      "include_colab_link": true
    },
    "kernelspec": {
      "name": "python3",
      "display_name": "Python 3"
    },
    "language_info": {
      "name": "python"
    }
  },
  "cells": [
    {
      "cell_type": "markdown",
      "metadata": {
        "id": "view-in-github",
        "colab_type": "text"
      },
      "source": [
        "<a href=\"https://colab.research.google.com/github/Dabin-Park/BaekJoon/blob/main/Gold/9935(%EB%AC%B8%EC%9E%90%EC%97%B4%20%ED%8F%AD%EB%B0%9C).ipynb\" target=\"_parent\"><img src=\"https://colab.research.google.com/assets/colab-badge.svg\" alt=\"Open In Colab\"/></a>"
      ]
    },
    {
      "cell_type": "code",
      "source": [
        "Words = input()\n",
        "Explosion = input()\n",
        "len_Words, len_Explosion, Stack = len(Words), len(Explosion), []\n",
        "\n",
        "i = 0\n",
        "while i < len_Words:\n",
        "    t = 1\n",
        "    if Words[i] in Explosion:\n",
        "        n = Explosion.index(Words[i])\n",
        "        s = \"\"\n",
        "        if n :\n",
        "            s = \"\".join(Stack[-n:]) \n",
        "        s += Words[i:i+len_Explosion-n]\n",
        "        \n",
        "        if s == Explosion:\n",
        "            i += len_Explosion - n\n",
        "            if n:\n",
        "                del Stack[-n:]\n",
        "            t = 0\n",
        "    if t:\n",
        "        Stack.append(Words[i])\n",
        "        i += 1\n",
        "\n",
        "if Stack:        \n",
        "    print(\"\".join(Stack))\n",
        "else:\n",
        "    print(\"FRULA\")    "
      ],
      "metadata": {
        "colab": {
          "base_uri": "https://localhost:8080/"
        },
        "id": "whXH70HTj9iH",
        "outputId": "11cddc53-2644-4d65-e71c-1bb518b1538c"
      },
      "execution_count": 1,
      "outputs": [
        {
          "output_type": "stream",
          "name": "stdout",
          "text": [
            "mirkovC4nizCC44\n",
            "C4\n",
            "mirkovniz\n"
          ]
        }
      ]
    },
    {
      "cell_type": "code",
      "source": [
        "Words = input().strip()\n",
        "Bomb = input().strip()\n",
        "Bomb_list = list(Bomb)\n",
        "\n",
        "len_Bomb = len(Bomb)\n",
        "last = Bomb[-1]\n",
        "Stack = []\n",
        "\n",
        "for w in Words:\n",
        "    Stack.append(w)\n",
        "    if w == last and Stack[-len_Bomb:] == Bomb_list:\n",
        "        del Stack[-len_Bomb:]\n",
        "        \n",
        "print(\"\".join(Stack) if Stack else \"FRULA\")\n"
      ],
      "metadata": {
        "colab": {
          "base_uri": "https://localhost:8080/"
        },
        "id": "69kgtk0k3RhN",
        "outputId": "92d7919d-24ab-4551-de63-448410a07ee3"
      },
      "execution_count": 2,
      "outputs": [
        {
          "output_type": "stream",
          "name": "stdout",
          "text": [
            "mirkovC4nizCC44\n",
            "C4\n",
            "mirkovniz\n"
          ]
        }
      ]
    }
  ]
}