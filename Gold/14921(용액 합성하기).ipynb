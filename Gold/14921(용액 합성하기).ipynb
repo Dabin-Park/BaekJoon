{
  "nbformat": 4,
  "nbformat_minor": 0,
  "metadata": {
    "colab": {
      "name": "14921(용액 합성하기).ipynb",
      "provenance": [],
      "authorship_tag": "ABX9TyO/1Ih/oxIA6ZYCGxlUACql",
      "include_colab_link": true
    },
    "kernelspec": {
      "name": "python3",
      "display_name": "Python 3"
    },
    "language_info": {
      "name": "python"
    }
  },
  "cells": [
    {
      "cell_type": "markdown",
      "metadata": {
        "id": "view-in-github",
        "colab_type": "text"
      },
      "source": [
        "<a href=\"https://colab.research.google.com/github/Dabin-Park/BaekJoon/blob/main/Gold/14921(%EC%9A%A9%EC%95%A1%20%ED%95%A9%EC%84%B1%ED%95%98%EA%B8%B0).ipynb\" target=\"_parent\"><img src=\"https://colab.research.google.com/assets/colab-badge.svg\" alt=\"Open In Colab\"/></a>"
      ]
    },
    {
      "cell_type": "code",
      "source": [
        "N = int(input())\n",
        "Solution = list(map(int,input().split()))\n",
        "s,e = 0,N-1\n",
        "m = 200000001\n",
        "while s < e:\n",
        "    start,end = Solution[s],Solution[e]\n",
        "    n = end + start\n",
        "    if abs(n) < abs(m):\n",
        "        m = n \n",
        "    x,y = abs(start + Solution[e-1]),abs(end + Solution[s+1])\n",
        "    if x > y :\n",
        "        s += 1\n",
        "    elif x < y:\n",
        "        e -= 1\n",
        "    else:\n",
        "        s += 1\n",
        "        e -=1\n",
        "                       \n",
        "print(m)"
      ],
      "metadata": {
        "colab": {
          "base_uri": "https://localhost:8080/"
        },
        "id": "4NDvOBDhbpRD",
        "outputId": "0929b8af-fba6-4cf5-a4bd-4a769e553670"
      },
      "execution_count": 2,
      "outputs": [
        {
          "output_type": "stream",
          "name": "stdout",
          "text": [
            "5\n",
            "-101 -3 -1 5 93\n",
            "2\n"
          ]
        }
      ]
    },
    {
      "cell_type": "code",
      "source": [
        "N = int(input())\n",
        "Solution = list(map(int,input().split()))\n",
        "s,e = 0,N-1\n",
        "m = 200000001\n",
        "while s < e:\n",
        "    start,end = Solution[s],Solution[e]\n",
        "    n = end + start\n",
        "    if abs(n) < abs(m):\n",
        "        m = n \n",
        "    if n > 0:\n",
        "        e -= 1\n",
        "    elif n < 0:\n",
        "        s += 1\n",
        "    else:\n",
        "        break\n",
        "                       \n",
        "print(m)"
      ],
      "metadata": {
        "colab": {
          "base_uri": "https://localhost:8080/"
        },
        "id": "0BJUfFcuHkIw",
        "outputId": "942bfa58-cb62-463f-bb42-79e76e0482b7"
      },
      "execution_count": 5,
      "outputs": [
        {
          "output_type": "stream",
          "name": "stdout",
          "text": [
            "5\n",
            "-101 -3 -1 5 93\n",
            "2\n"
          ]
        }
      ]
    }
  ]
}