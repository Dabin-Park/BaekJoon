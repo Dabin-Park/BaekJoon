{
  "nbformat": 4,
  "nbformat_minor": 0,
  "metadata": {
    "colab": {
      "provenance": [],
      "authorship_tag": "ABX9TyNazC3Atx7PWhvSKpkKQN9q",
      "include_colab_link": true
    },
    "kernelspec": {
      "name": "python3",
      "display_name": "Python 3"
    },
    "language_info": {
      "name": "python"
    }
  },
  "cells": [
    {
      "cell_type": "markdown",
      "metadata": {
        "id": "view-in-github",
        "colab_type": "text"
      },
      "source": [
        "<a href=\"https://colab.research.google.com/github/Dabin-Park/BaekJoon/blob/main/Silver/4335(%EC%88%AB%EC%9E%90%20%EB%A7%9E%EC%B6%94%EA%B8%B0).ipynb\" target=\"_parent\"><img src=\"https://colab.research.google.com/assets/colab-badge.svg\" alt=\"Open In Colab\"/></a>"
      ]
    },
    {
      "cell_type": "code",
      "source": [
        "def sol(Low,High):\n",
        "    while 1:\n",
        "        n = int(input())\n",
        "        if n == 0:\n",
        "            break\n",
        "        answer = input().rstrip()\n",
        "        if answer[4] == \"h\":\n",
        "            High.append(n)\n",
        "        elif answer[4] == \"l\":\n",
        "            Low.append(n)\n",
        "        else:\n",
        "            m,M = max(Low), min(High)\n",
        "            if m < n < M:\n",
        "                print(\"Stan may be honest\")\n",
        "            else:\n",
        "                print(\"Stan is dishonest\")\n",
        "            Low,High = [0],[11]\n",
        "sol([0],[11])"
      ],
      "metadata": {
        "colab": {
          "base_uri": "https://localhost:8080/"
        },
        "id": "Wf1zqg3P9ONw",
        "outputId": "12e459eb-7826-447e-b924-1b24f0217919"
      },
      "execution_count": 1,
      "outputs": [
        {
          "name": "stdout",
          "output_type": "stream",
          "text": [
            "10\n",
            "too high\n",
            "3\n",
            "too low\n",
            "4\n",
            "too high\n",
            "2\n",
            "right on\n",
            "Stan is dishonest\n",
            "5\n",
            "too low\n",
            "7\n",
            "too high\n",
            "6\n",
            "right on\n",
            "Stan may be honest\n",
            "0\n"
          ]
        }
      ]
    }
  ]
}