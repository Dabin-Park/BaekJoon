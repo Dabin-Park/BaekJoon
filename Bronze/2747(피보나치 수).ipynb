{
  "cells": [
    {
      "cell_type": "markdown",
      "metadata": {
        "id": "view-in-github",
        "colab_type": "text"
      },
      "source": [
        "<a href=\"https://colab.research.google.com/github/Dabin-Park/BaekJoon/blob/main/Bronze/2747(%ED%94%BC%EB%B3%B4%EB%82%98%EC%B9%98%20%EC%88%98).ipynb\" target=\"_parent\"><img src=\"https://colab.research.google.com/assets/colab-badge.svg\" alt=\"Open In Colab\"/></a>"
      ]
    },
    {
      "cell_type": "code",
      "source": [
        "def fibonacci(A,n):\n",
        "    for i in range(2,n+1):\n",
        "        a = A[i-2] + A[i-1]\n",
        "        A.append(a)\n",
        "    return A[n]\n",
        "\n",
        "A = [0,1]\n",
        "n = int(input())\n",
        "\n",
        "print(fibonacci(A,n))  "
      ],
      "metadata": {
        "colab": {
          "base_uri": "https://localhost:8080/"
        },
        "id": "Y06dd9MLXMjm",
        "outputId": "ca010871-b308-4362-f40a-2c5266787422"
      },
      "execution_count": 2,
      "outputs": [
        {
          "output_type": "stream",
          "name": "stdout",
          "text": [
            "10\n",
            "55\n"
          ]
        }
      ]
    }
  ],
  "metadata": {
    "colab": {
      "name": "2747(피보나치 수 ).ipynb",
      "provenance": [],
      "authorship_tag": "ABX9TyONOt8C/Og4cS39HjhiLNe0",
      "include_colab_link": true
    },
    "kernelspec": {
      "display_name": "Python 3",
      "name": "python3"
    },
    "language_info": {
      "name": "python"
    }
  },
  "nbformat": 4,
  "nbformat_minor": 0
}