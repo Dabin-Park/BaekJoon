{
  "nbformat": 4,
  "nbformat_minor": 0,
  "metadata": {
    "colab": {
      "provenance": [],
      "authorship_tag": "ABX9TyOzOT/73rXlrEiBnJgqcgof",
      "include_colab_link": true
    },
    "kernelspec": {
      "name": "python3",
      "display_name": "Python 3"
    },
    "language_info": {
      "name": "python"
    }
  },
  "cells": [
    {
      "cell_type": "markdown",
      "metadata": {
        "id": "view-in-github",
        "colab_type": "text"
      },
      "source": [
        "<a href=\"https://colab.research.google.com/github/Dabin-Park/BaekJoon/blob/main/Silver/2635(%EC%88%98%20%EC%9D%B4%EC%96%B4%EA%B0%80%EA%B8%B0).ipynb\" target=\"_parent\"><img src=\"https://colab.research.google.com/assets/colab-badge.svg\" alt=\"Open In Colab\"/></a>"
      ]
    },
    {
      "cell_type": "code",
      "source": [
        "def sol(N, max_, Max_):\n",
        "    for i in range(max(N//2,1),N+1):\n",
        "        Num = [N,i]\n",
        "        while Num[-2]-Num[-1] >= 0:\n",
        "            Num.append(Num[-2]-Num[-1])\n",
        "        if len(Num) > max_:\n",
        "            max_ = len(Num)\n",
        "            Max_ = Num\n",
        "    print(max_)\n",
        "    print(*Max_)\n",
        "    \n",
        "sol(int(input()),0,[])"
      ],
      "metadata": {
        "colab": {
          "base_uri": "https://localhost:8080/"
        },
        "id": "e30J77TxSoAj",
        "outputId": "d5374756-f4cb-490a-b6ac-57ffa1bd31da"
      },
      "execution_count": 1,
      "outputs": [
        {
          "output_type": "stream",
          "name": "stdout",
          "text": [
            "100\n",
            "8\n",
            "100 62 38 24 14 10 4 6\n"
          ]
        }
      ]
    }
  ]
}