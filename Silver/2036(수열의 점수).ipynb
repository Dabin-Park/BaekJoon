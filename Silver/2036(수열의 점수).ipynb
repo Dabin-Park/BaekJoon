{
  "nbformat": 4,
  "nbformat_minor": 0,
  "metadata": {
    "colab": {
      "name": "2036(수열의 점수).ipynb",
      "provenance": [],
      "authorship_tag": "ABX9TyOMis2blYWXmxSflgn79zY4",
      "include_colab_link": true
    },
    "kernelspec": {
      "name": "python3",
      "display_name": "Python 3"
    },
    "language_info": {
      "name": "python"
    }
  },
  "cells": [
    {
      "cell_type": "markdown",
      "metadata": {
        "id": "view-in-github",
        "colab_type": "text"
      },
      "source": [
        "<a href=\"https://colab.research.google.com/github/Dabin-Park/BaekJoon/blob/main/Silver/2036(%EC%88%98%EC%97%B4%EC%9D%98%20%EC%A0%90%EC%88%98).ipynb\" target=\"_parent\"><img src=\"https://colab.research.google.com/assets/colab-badge.svg\" alt=\"Open In Colab\"/></a>"
      ]
    },
    {
      "cell_type": "code",
      "execution_count": 1,
      "metadata": {
        "colab": {
          "base_uri": "https://localhost:8080/"
        },
        "id": "dT6CvtQPNnKQ",
        "outputId": "2a50a233-62c2-4be3-a4be-c11028ac3294"
      },
      "outputs": [
        {
          "output_type": "stream",
          "name": "stdout",
          "text": [
            "5\n",
            "-1\n",
            "5\n",
            "-3\n",
            "5\n",
            "1\n",
            "29\n"
          ]
        }
      ],
      "source": [
        "n = int(input())\n",
        "Positive,Negative = [],[]\n",
        "\n",
        "for _ in range(n):\n",
        "    k = int(input())\n",
        "    if k > 0:\n",
        "        Positive.append(k)\n",
        "    else:\n",
        "        Negative.append(k)\n",
        "        \n",
        "Positive.sort(reverse = True)\n",
        "Negative.sort()\n",
        "sum1 = 0\n",
        "pnum, nnum = 0, 0\n",
        "for p in Positive:\n",
        "    if p == 1:\n",
        "        sum1 += 1\n",
        "    elif pnum == 0:\n",
        "        pnum = p \n",
        "    else:\n",
        "        sum1 += pnum*p\n",
        "        pnum = 0\n",
        "        \n",
        "for n in Negative:\n",
        "    if nnum:\n",
        "        sum1 += nnum*n\n",
        "        nnum = 0\n",
        "    else:\n",
        "        nnum = n \n",
        "\n",
        "print(sum1+pnum+nnum)"
      ]
    }
  ]
}