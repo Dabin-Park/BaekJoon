{
  "nbformat": 4,
  "nbformat_minor": 0,
  "metadata": {
    "colab": {
      "provenance": [],
      "authorship_tag": "ABX9TyN+o/44QjvG5kO/owffSmz2",
      "include_colab_link": true
    },
    "kernelspec": {
      "name": "python3",
      "display_name": "Python 3"
    },
    "language_info": {
      "name": "python"
    }
  },
  "cells": [
    {
      "cell_type": "markdown",
      "metadata": {
        "id": "view-in-github",
        "colab_type": "text"
      },
      "source": [
        "<a href=\"https://colab.research.google.com/github/Dabin-Park/BaekJoon/blob/main/Silver/8979(%EC%98%AC%EB%A6%BC%ED%94%BD).ipynb\" target=\"_parent\"><img src=\"https://colab.research.google.com/assets/colab-badge.svg\" alt=\"Open In Colab\"/></a>"
      ]
    },
    {
      "cell_type": "code",
      "source": [
        "import heapq\n",
        "\n",
        "def sol():\n",
        "    N,K = map(int,input().split())\n",
        "    heap = []\n",
        "    g,s,b = 10**13, 10**7, 1\n",
        "    for _ in range(N):\n",
        "        A,G,S,B = map(int,input().split())\n",
        "        heapq.heappush(heap, [-(G*g+S*s+B*b),A])\n",
        "        \n",
        "    i = before = num = 0\n",
        "    for _ in range(N):\n",
        "        s,a = heapq.heappop(heap)\n",
        "        if s != before:\n",
        "            i += num + 1\n",
        "            num = 0\n",
        "            before = s\n",
        "        else:\n",
        "            num += 1 \n",
        "        if a == K:\n",
        "            return i\n",
        "                   \n",
        "print(sol())"
      ],
      "metadata": {
        "colab": {
          "base_uri": "https://localhost:8080/"
        },
        "id": "tMhh6AscRdfh",
        "outputId": "ded3c661-acce-4f64-ee51-ea989605c503"
      },
      "execution_count": 1,
      "outputs": [
        {
          "output_type": "stream",
          "name": "stdout",
          "text": [
            "4 3\n",
            "1 1 2 0\n",
            "2 0 1 0\n",
            "3 0 1 0\n",
            "4 0 0 1\n",
            "2\n"
          ]
        }
      ]
    },
    {
      "cell_type": "code",
      "source": [
        "def sol():\n",
        "    N,K = map(int,input().split())\n",
        "    List = []\n",
        "    g,s,b = 10**13, 10**7, 1\n",
        "    for _ in range(N):\n",
        "        A,G,S,B = map(int,input().split())\n",
        "        List.append([G*g+S*s+B*b,A])\n",
        "        \n",
        "    List.sort(key = lambda x : -x[0])\n",
        "        \n",
        "    i = before = num = 0\n",
        "    for s,a in List:\n",
        "        if s != before:\n",
        "            i += num + 1\n",
        "            num = 0\n",
        "            before = s\n",
        "        else:\n",
        "            num += 1 \n",
        "        if a == K:\n",
        "            return i\n",
        "                   \n",
        "print(sol())"
      ],
      "metadata": {
        "id": "yddJQ_ep_kej",
        "colab": {
          "base_uri": "https://localhost:8080/"
        },
        "outputId": "5be39e7a-b219-4916-f8eb-502093a93816"
      },
      "execution_count": 4,
      "outputs": [
        {
          "output_type": "stream",
          "name": "stdout",
          "text": [
            "4 2\n",
            "1 3 0 0 \n",
            "3 0 0 2\n",
            "4 0 2 0\n",
            "2 0 2 0 \n",
            "2\n"
          ]
        }
      ]
    }
  ]
}