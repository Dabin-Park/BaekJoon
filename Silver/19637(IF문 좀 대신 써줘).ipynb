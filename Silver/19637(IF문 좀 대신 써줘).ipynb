{
  "nbformat": 4,
  "nbformat_minor": 0,
  "metadata": {
    "colab": {
      "provenance": [],
      "authorship_tag": "ABX9TyOg5/jztvafl2Q0JzwL9H6a",
      "include_colab_link": true
    },
    "kernelspec": {
      "name": "python3",
      "display_name": "Python 3"
    },
    "language_info": {
      "name": "python"
    }
  },
  "cells": [
    {
      "cell_type": "markdown",
      "metadata": {
        "id": "view-in-github",
        "colab_type": "text"
      },
      "source": [
        "<a href=\"https://colab.research.google.com/github/Dabin-Park/BaekJoon/blob/main/Silver/19637(IF%EB%AC%B8%20%EC%A2%80%20%EB%8C%80%EC%8B%A0%20%EC%8D%A8%EC%A4%98).ipynb\" target=\"_parent\"><img src=\"https://colab.research.google.com/assets/colab-badge.svg\" alt=\"Open In Colab\"/></a>"
      ]
    },
    {
      "cell_type": "code",
      "source": [
        "def bi(n):\n",
        "    s,e = 0,len_Title-1\n",
        "    while s < e:\n",
        "        m = (s+e)//2\n",
        "        if Title[m][0] > n:\n",
        "            e = m\n",
        "        elif Title[m][0] < n:\n",
        "            s = m+1\n",
        "        else:\n",
        "            return Title[m][1]\n",
        "    return Title[s][1]\n",
        "    \n",
        "N,M = map(int,input().split())\n",
        "Title,Num = [],set()\n",
        "for _ in range(N):\n",
        "    name,num = input().split()\n",
        "    if not num in Num:\n",
        "        Title.append([int(num),name]) \n",
        "        Num.add(num)\n",
        "len_Title = len(Title)\n",
        "for _ in range(M):                 \n",
        "    print(bi(int(input())))"
      ],
      "metadata": {
        "id": "Eum8oDR9H9Ie",
        "colab": {
          "base_uri": "https://localhost:8080/"
        },
        "outputId": "7602e73f-3f9e-4c4b-f349-13695e996d73"
      },
      "execution_count": 1,
      "outputs": [
        {
          "output_type": "stream",
          "name": "stdout",
          "text": [
            "3 8 \n",
            "WEAK 10000 \n",
            "NORMAL 100000 \n",
            "STRONG 1000000 \n",
            "0 \n",
            "WEAK\n",
            "9999 \n",
            "WEAK\n",
            "10000 \n",
            "WEAK\n",
            "10001 \n",
            "NORMAL\n",
            "50000 \n",
            "NORMAL\n",
            "100000 \n",
            "NORMAL\n",
            "500000 \n",
            "STRONG\n",
            "1000000\n",
            "STRONG\n"
          ]
        }
      ]
    }
  ]
}