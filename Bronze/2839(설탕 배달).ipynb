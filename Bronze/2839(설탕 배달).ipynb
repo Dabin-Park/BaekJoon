{
  "nbformat": 4,
  "nbformat_minor": 0,
  "metadata": {
    "colab": {
      "name": "2839(설탕 공장).ipynb",
      "provenance": [],
      "authorship_tag": "ABX9TyOHmhzAIysEIDj7agn3S4NI",
      "include_colab_link": true
    },
    "kernelspec": {
      "name": "python3",
      "display_name": "Python 3"
    },
    "language_info": {
      "name": "python"
    }
  },
  "cells": [
    {
      "cell_type": "markdown",
      "metadata": {
        "id": "view-in-github",
        "colab_type": "text"
      },
      "source": [
        "<a href=\"https://colab.research.google.com/github/Dabin-Park/BaekJoon/blob/main/Bronze/2839(%EC%84%A4%ED%83%95%EA%B3%B5%EC%9E%A5).ipynb\" target=\"_parent\"><img src=\"https://colab.research.google.com/assets/colab-badge.svg\" alt=\"Open In Colab\"/></a>"
      ]
    },
    {
      "cell_type": "code",
      "execution_count": 1,
      "metadata": {
        "colab": {
          "base_uri": "https://localhost:8080/"
        },
        "id": "dT6CvtQPNnKQ",
        "outputId": "8fe9d28f-4667-4e47-a3a1-ba9f4b1e28c5"
      },
      "outputs": [
        {
          "output_type": "stream",
          "name": "stdout",
          "text": [
            "11\n",
            "3\n"
          ]
        }
      ],
      "source": [
        "N = int(input())\n",
        "n = 0 \n",
        "\n",
        "while True:\n",
        "    if N%5 == 0:\n",
        "        n += N//5\n",
        "        print(n)\n",
        "        break;\n",
        "    elif N <= 3 :\n",
        "        if N == 3:\n",
        "            print(n+1)\n",
        "            break;\n",
        "        else :\n",
        "            print(-1)\n",
        "            break;    \n",
        "    else :\n",
        "        N -= 3\n",
        "        n += 1"
      ]
    }
  ]
}
