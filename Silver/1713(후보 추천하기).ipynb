{
  "nbformat": 4,
  "nbformat_minor": 0,
  "metadata": {
    "colab": {
      "provenance": [],
      "authorship_tag": "ABX9TyPEPKIvD6gb//ChoLrKWCfD",
      "include_colab_link": true
    },
    "kernelspec": {
      "name": "python3",
      "display_name": "Python 3"
    },
    "language_info": {
      "name": "python"
    }
  },
  "cells": [
    {
      "cell_type": "markdown",
      "metadata": {
        "id": "view-in-github",
        "colab_type": "text"
      },
      "source": [
        "<a href=\"https://colab.research.google.com/github/Dabin-Park/BaekJoon/blob/main/Silver/1713(%ED%9B%84%EB%B3%B4%20%EC%B6%94%EC%B2%9C%ED%95%98%EA%B8%B0).ipynb\" target=\"_parent\"><img src=\"https://colab.research.google.com/assets/colab-badge.svg\" alt=\"Open In Colab\"/></a>"
      ]
    },
    {
      "cell_type": "code",
      "source": [
        "def sol(N,num):\n",
        "    int(input())\n",
        "    You = list(map(int,input().split()))\n",
        "    max_You = max(You)+1\n",
        "    Photo_Frame = [[0,0] for _ in range(max_You)]\n",
        "    for idx,y in enumerate(You):\n",
        "        if Photo_Frame[y][0]:\n",
        "            Photo_Frame[y][0] += 1\n",
        "        else:\n",
        "            if num <= N:\n",
        "                Photo_Frame[y][0] = 1\n",
        "                Photo_Frame[y][1] = num\n",
        "                num += 1\n",
        "            else:\n",
        "                min_,min_num = 1001,1001\n",
        "                for i in range(1,max_You):\n",
        "                    if Photo_Frame[i][0]:\n",
        "                        if (min_ > Photo_Frame[i][0]) or (min_ == Photo_Frame[i][0] and min_num > Photo_Frame[i][1]):\n",
        "                            min_,min_num = Photo_Frame[i]\n",
        "                            bye = i\n",
        "                Photo_Frame[bye] = [0,0]\n",
        "                Photo_Frame[y] = [1,idx+1]\n",
        "    for i in range(1,max_You):\n",
        "        if Photo_Frame[i][0]:\n",
        "            print(i,end = \" \")\n",
        "\n",
        "sol(int(input()),1)"
      ],
      "metadata": {
        "colab": {
          "base_uri": "https://localhost:8080/"
        },
        "id": "XS0VHQmBaQda",
        "outputId": "c2675516-0ae8-489f-ac19-b0c6f74868ac"
      },
      "execution_count": 1,
      "outputs": [
        {
          "output_type": "stream",
          "name": "stdout",
          "text": [
            "3\n",
            "9\n",
            "2 1 4 3 5 6 2 7 2\n",
            "2 6 7 "
          ]
        }
      ]
    },
    {
      "cell_type": "code",
      "source": [
        "def sol(N):\n",
        "    input()\n",
        "    You = list(map(int, input().split()))\n",
        "    Photo_Frame = {}\n",
        "    for y in You:\n",
        "        if y in Photo_Frame:\n",
        "            Photo_Frame[y] += 1\n",
        "        else:\n",
        "            if len(Photo_Frame) >= N:\n",
        "                del (Photo_Frame[sorted(Photo_Frame.items(), key=lambda x: x[1])[0][0]])\n",
        "            Photo_Frame[y] = 1\n",
        "    print(*sorted(Photo_Frame.keys()))\n",
        "\n",
        "sol(int(input()))"
      ],
      "metadata": {
        "colab": {
          "base_uri": "https://localhost:8080/"
        },
        "id": "Ozcx8wT0RYFd",
        "outputId": "56e10c71-3de8-4dd1-9e59-d2474b880ec0"
      },
      "execution_count": 2,
      "outputs": [
        {
          "output_type": "stream",
          "name": "stdout",
          "text": [
            "3\n",
            "9\n",
            "2 1 4 3 5 6 2 7 2\n",
            "2 6 7\n"
          ]
        }
      ]
    }
  ]
}