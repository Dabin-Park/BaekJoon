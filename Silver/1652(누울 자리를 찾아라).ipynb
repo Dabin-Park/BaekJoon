{
  "nbformat": 4,
  "nbformat_minor": 0,
  "metadata": {
    "colab": {
      "provenance": [],
      "authorship_tag": "ABX9TyPQz1xrdHBfHU9g/SmEMnFR",
      "include_colab_link": true
    },
    "kernelspec": {
      "name": "python3",
      "display_name": "Python 3"
    },
    "language_info": {
      "name": "python"
    }
  },
  "cells": [
    {
      "cell_type": "markdown",
      "metadata": {
        "id": "view-in-github",
        "colab_type": "text"
      },
      "source": [
        "<a href=\"https://colab.research.google.com/github/Dabin-Park/BaekJoon/blob/main/Silver/1652(%EB%88%84%EC%9A%B8%20%EC%9E%90%EB%A6%AC%EB%A5%BC%20%EC%B0%BE%EC%95%84%EB%9D%BC).ipynb\" target=\"_parent\"><img src=\"https://colab.research.google.com/assets/colab-badge.svg\" alt=\"Open In Colab\"/></a>"
      ]
    },
    {
      "cell_type": "code",
      "source": [
        "def sol(N):\n",
        "    Room = [list(input()) for _ in range(N)]\n",
        "    for _ in range(2):\n",
        "        Num = 0\n",
        "        for R in Room:\n",
        "            w = -1\n",
        "            for i,r in enumerate(R):\n",
        "                if r == \"X\":\n",
        "                    if i-w > 2:\n",
        "                        Num += 1\n",
        "                    w = i\n",
        "            if N-w > 2:\n",
        "                Num += 1\n",
        "        print(Num, end = \" \")\n",
        "        Room = list(map(list,zip(*Room)))\n",
        "\n",
        "sol(int(input()))"
      ],
      "metadata": {
        "colab": {
          "base_uri": "https://localhost:8080/"
        },
        "id": "IxNnk3xIlagV",
        "outputId": "3a287dc3-9ff3-4842-fb7f-0a3796654bee"
      },
      "execution_count": 1,
      "outputs": [
        {
          "output_type": "stream",
          "name": "stdout",
          "text": [
            "5\n",
            "....X\n",
            "..XX.\n",
            ".....\n",
            ".XX..\n",
            "X....\n",
            "5 4 "
          ]
        }
      ]
    },
    {
      "cell_type": "code",
      "source": [
        "def sol(N):\n",
        "    Room = [list(input()+\"X\") for _ in range(N)]+[[\"X\"]*(N+1)]\n",
        "    for _ in range(2):\n",
        "        Num = 0\n",
        "        for R in Room:\n",
        "            w = -1\n",
        "            for i,r in enumerate(R):\n",
        "                if r == \"X\":\n",
        "                    if i-w > 2:\n",
        "                        Num += 1\n",
        "                    w = i\n",
        "        print(Num, end = \" \")\n",
        "        Room = list(map(list,zip(*Room)))\n",
        "\n",
        "sol(int(input()))"
      ],
      "metadata": {
        "id": "Eum8oDR9H9Ie",
        "colab": {
          "base_uri": "https://localhost:8080/"
        },
        "outputId": "2c759345-59d3-40b5-d4c3-d6d94ff8bdd3"
      },
      "execution_count": 2,
      "outputs": [
        {
          "output_type": "stream",
          "name": "stdout",
          "text": [
            "5\n",
            "....X\n",
            "..XX.\n",
            ".....\n",
            ".XX..\n",
            "X....\n",
            "5 4 "
          ]
        }
      ]
    }
  ]
}