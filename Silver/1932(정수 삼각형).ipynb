{
  "cells": [
    {
      "cell_type": "markdown",
      "metadata": {
        "id": "view-in-github",
        "colab_type": "text"
      },
      "source": [
        "<a href=\"https://colab.research.google.com/github/Dabin-Park/BaekJoon/blob/main/Silver/1932(%EC%A0%95%EC%88%98%20%EC%82%BC%EA%B0%81%ED%98%95).ipynb\" target=\"_parent\"><img src=\"https://colab.research.google.com/assets/colab-badge.svg\" alt=\"Open In Colab\"/></a>"
      ]
    },
    {
      "cell_type": "code",
      "source": [
        "n = int(input())\n",
        "A = []\n",
        "for _ in range(n):\n",
        "    A += list(map(int,input().split()))\n",
        "    \n",
        "t = (n*(n+1))//2\n",
        "dp = [0]*t\n",
        "dp[0] = A[0]\n",
        "\n",
        "s,e,k = 1,2,2\n",
        "\n",
        "for i in range(1,t):\n",
        "    if i > s and i < e:\n",
        "        dp[i] = A[i] + max(dp[i-k],dp[i-k+1])\n",
        "    elif i == s:\n",
        "        dp[i] = A[i] + dp[i-k+1]\n",
        "    else:\n",
        "        dp[i] = A[i] + dp[i-k]\n",
        "        s += k\n",
        "        k += 1\n",
        "        e += k\n",
        "\n",
        "m = 0\n",
        "for i in range(-1,-n-1,-1):\n",
        "    m = max(m,dp[i])\n",
        "\n",
        "print(m)"
      ],
      "metadata": {
        "id": "HBwwya3y6Eyo",
        "outputId": "71abd63b-78c9-44cf-875a-bd2b638c9767",
        "colab": {
          "base_uri": "https://localhost:8080/"
        }
      },
      "execution_count": 1,
      "outputs": [
        {
          "output_type": "stream",
          "name": "stdout",
          "text": [
            "5\n",
            "7\n",
            "3 8\n",
            "8 1 0\n",
            "2 7 4 4\n",
            "4 5 2 6 5\n",
            "30\n"
          ]
        }
      ]
    }
  ],
  "metadata": {
    "colab": {
      "name": "1932(정수 삼각형).ipynb",
      "provenance": [],
      "collapsed_sections": [],
      "authorship_tag": "ABX9TyM1Z/90AoClz1DGdeV1C7uW",
      "include_colab_link": true
    },
    "kernelspec": {
      "display_name": "Python 3",
      "name": "python3"
    },
    "language_info": {
      "name": "python"
    }
  },
  "nbformat": 4,
  "nbformat_minor": 0
}