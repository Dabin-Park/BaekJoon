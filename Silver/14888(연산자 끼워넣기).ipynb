{
  "nbformat": 4,
  "nbformat_minor": 0,
  "metadata": {
    "colab": {
      "provenance": [],
      "collapsed_sections": [],
      "authorship_tag": "ABX9TyNT3IFx3oT9Lrggbaw3ffN+",
      "include_colab_link": true
    },
    "kernelspec": {
      "name": "python3",
      "display_name": "Python 3"
    },
    "language_info": {
      "name": "python"
    }
  },
  "cells": [
    {
      "cell_type": "markdown",
      "metadata": {
        "id": "view-in-github",
        "colab_type": "text"
      },
      "source": [
        "<a href=\"https://colab.research.google.com/github/Dabin-Park/BaekJoon/blob/main/Silver/14888(%EC%97%B0%EC%82%B0%EC%9E%90%20%EB%81%BC%EC%9B%8C%EB%84%A3%EA%B8%B0).ipynb\" target=\"_parent\"><img src=\"https://colab.research.google.com/assets/colab-badge.svg\" alt=\"Open In Colab\"/></a>"
      ]
    },
    {
      "cell_type": "code",
      "source": [
        "from itertools import permutations\n",
        "\n",
        "N = int(input())\n",
        "Equation = list(map(int,input().split()))\n",
        "Operators = list(map(int,input().split()))\n",
        "Real_operators = [\"+\",\"-\",\"x\",\"%\"]\n",
        "\n",
        "Op = []\n",
        "for i in range(4):\n",
        "    Op += [Real_operators[i] for _ in range(Operators[i])]\n",
        "\n",
        "total_num = []\n",
        "Per = set(permutations(Op))\n",
        "for per in Per:\n",
        "    num = Equation[0]\n",
        "    for i in range(N-1):\n",
        "        if per[i] == \"+\":\n",
        "            num += Equation[i+1]\n",
        "        elif per[i] == \"-\":\n",
        "            num -= Equation[i+1]\n",
        "        elif per[i] == \"x\":\n",
        "            num *= Equation[i+1]\n",
        "        else:\n",
        "            if num >= 0:\n",
        "                num //= Equation[i+1]\n",
        "            else:\n",
        "                num = -((-num)//Equation[i+1])\n",
        "    total_num.append(num)\n",
        "\n",
        "total_num.sort()\n",
        "\n",
        "print(total_num[-1])\n",
        "print(total_num[0])"
      ],
      "metadata": {
        "id": "ZFrLikbd4n2z",
        "outputId": "2b6fa7bd-c75b-4f28-fad6-ce4024965436",
        "colab": {
          "base_uri": "https://localhost:8080/"
        }
      },
      "execution_count": 2,
      "outputs": [
        {
          "output_type": "stream",
          "name": "stdout",
          "text": [
            "6\n",
            "1 2 3 4 5 6\n",
            "2 1 1 1\n",
            "54\n",
            "-24\n"
          ]
        }
      ]
    }
  ]
}