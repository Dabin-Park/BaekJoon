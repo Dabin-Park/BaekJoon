{
  "cells": [
    {
      "cell_type": "markdown",
      "metadata": {
        "id": "view-in-github",
        "colab_type": "text"
      },
      "source": [
        "<a href=\"https://colab.research.google.com/github/Dabin-Park/BaekJoon/blob/main/Silver/11048(%EC%9D%B4%EB%8F%99%ED%95%98%EA%B8%B0).ipynb\" target=\"_parent\"><img src=\"https://colab.research.google.com/assets/colab-badge.svg\" alt=\"Open In Colab\"/></a>"
      ]
    },
    {
      "cell_type": "code",
      "source": [
        "N,M = map(int,input().split())\n",
        "A = [list(map(int,input().split())) for _ in range(N)]\n",
        "\n",
        "dp = [[0 for _ in range(M)] for _ in range(N)]\n",
        "dp[0][0] = A[0][0]\n",
        "\n",
        "for i in range(1,M):\n",
        "    dp[0][i] = dp[0][i-1] + A[0][i]\n",
        "    \n",
        "for j in range(1,N):\n",
        "    dp[j][0] = dp[j-1][0] + A[j][0]\n",
        "    \n",
        "i,j = 1,1\n",
        "\n",
        "while i<= M and j <= N-1:\n",
        "    if i != M:\n",
        "        dp[j][i] = max(dp[j][i-1], dp[j-1][i],dp[j-1][i-1])+A[j][i]\n",
        "        i += 1\n",
        "    else:\n",
        "        i = 1\n",
        "        j += 1\n",
        "\n",
        "print(dp[N-1][M-1])"
      ],
      "metadata": {
        "id": "HBwwya3y6Eyo",
        "outputId": "01319a67-51dc-4173-fa3c-3cad0731c566",
        "colab": {
          "base_uri": "https://localhost:8080/"
        }
      },
      "execution_count": 1,
      "outputs": [
        {
          "output_type": "stream",
          "name": "stdout",
          "text": [
            "4 3\n",
            "1 2 3\n",
            "6 5 4\n",
            "7 8 9\n",
            "12 11 10\n",
            "47\n"
          ]
        }
      ]
    }
  ],
  "metadata": {
    "colab": {
      "name": "11048(이동하기).ipynb",
      "provenance": [],
      "collapsed_sections": [],
      "authorship_tag": "ABX9TyPlaOwrn7AAuMWl9VxYZoyE",
      "include_colab_link": true
    },
    "kernelspec": {
      "display_name": "Python 3",
      "name": "python3"
    },
    "language_info": {
      "name": "python"
    }
  },
  "nbformat": 4,
  "nbformat_minor": 0
}