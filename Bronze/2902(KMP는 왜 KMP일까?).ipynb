{
  "nbformat": 4,
  "nbformat_minor": 0,
  "metadata": {
    "colab": {
      "provenance": [],
      "authorship_tag": "ABX9TyP+xau746Qtqv5JmLVYTje5",
      "include_colab_link": true
    },
    "kernelspec": {
      "name": "python3",
      "display_name": "Python 3"
    },
    "language_info": {
      "name": "python"
    }
  },
  "cells": [
    {
      "cell_type": "markdown",
      "metadata": {
        "id": "view-in-github",
        "colab_type": "text"
      },
      "source": [
        "<a href=\"https://colab.research.google.com/github/Dabin-Park/BaekJoon/blob/main/Bronze/2902(KMP%EB%8A%94%20%EC%99%9C%20KMP%EC%9D%BC%EA%B9%8C%3F).ipynb\" target=\"_parent\"><img src=\"https://colab.research.google.com/assets/colab-badge.svg\" alt=\"Open In Colab\"/></a>"
      ]
    },
    {
      "cell_type": "code",
      "source": [
        "def sol():\n",
        "    for name in input():\n",
        "        if name.isupper():\n",
        "            print(name,end = \"\")\n",
        "                   \n",
        "sol()"
      ],
      "metadata": {
        "colab": {
          "base_uri": "https://localhost:8080/"
        },
        "id": "tMhh6AscRdfh",
        "outputId": "c3cb74b8-0e88-482b-b927-0f54bf3f03d5"
      },
      "execution_count": 2,
      "outputs": [
        {
          "output_type": "stream",
          "name": "stdout",
          "text": [
            "Knuth-Morris-Pratt\n",
            "KMP"
          ]
        }
      ]
    }
  ]
}