{
  "nbformat": 4,
  "nbformat_minor": 0,
  "metadata": {
    "colab": {
      "name": "5397(키로커).ipynb",
      "provenance": [],
      "collapsed_sections": [],
      "authorship_tag": "ABX9TyOEQZKadv57vcUi3okC8ZhI",
      "include_colab_link": true
    },
    "kernelspec": {
      "name": "python3",
      "display_name": "Python 3"
    },
    "language_info": {
      "name": "python"
    }
  },
  "cells": [
    {
      "cell_type": "markdown",
      "metadata": {
        "id": "view-in-github",
        "colab_type": "text"
      },
      "source": [
        "<a href=\"https://colab.research.google.com/github/Dabin-Park/BaekJoon/blob/main/Silver/5397(%ED%82%A4%EB%A1%9C%EC%BB%A4).ipynb\" target=\"_parent\"><img src=\"https://colab.research.google.com/assets/colab-badge.svg\" alt=\"Open In Colab\"/></a>"
      ]
    },
    {
      "cell_type": "code",
      "source": [
        "for _ in range(int(input())):\n",
        "    Key = input().strip()\n",
        "    real_key, move = [], []\n",
        "    for k in Key:\n",
        "        if k in \"><-\":\n",
        "            if real_key:\n",
        "                if k == \"<\":\n",
        "                    move.append(real_key.pop())\n",
        "                elif k == \"-\":\n",
        "                    real_key.pop()\n",
        "            if move:\n",
        "                if k == \">\":\n",
        "                    real_key.append(move.pop())  \n",
        "        else:\n",
        "            real_key.append(k)\n",
        "\n",
        "    print(\"\".join(real_key+move[::-1]))"
      ],
      "metadata": {
        "id": "ZFrLikbd4n2z",
        "outputId": "c59c4bb9-64ef-4a57-e68a-0c737aae2df1",
        "colab": {
          "base_uri": "https://localhost:8080/"
        }
      },
      "execution_count": 2,
      "outputs": [
        {
          "output_type": "stream",
          "name": "stdout",
          "text": [
            "2\n",
            "<<BP<A>>Cd-\n",
            "BAPC\n",
            "ThIsIsS3Cr3t\n",
            "ThIsIsS3Cr3t\n"
          ]
        }
      ]
    }
  ]
}