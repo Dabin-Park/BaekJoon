{
  "cells": [
    {
      "cell_type": "markdown",
      "metadata": {
        "id": "view-in-github",
        "colab_type": "text"
      },
      "source": [
        "<a href=\"https://colab.research.google.com/github/Dabin-Park/BaekJoon/blob/main/Silver/1629(%EA%B3%B1%EC%85%88).ipynb\" target=\"_parent\"><img src=\"https://colab.research.google.com/assets/colab-badge.svg\" alt=\"Open In Colab\"/></a>"
      ]
    },
    {
      "cell_type": "code",
      "source": [
        "def find(A,B,C):\n",
        "    a = A\n",
        "    b = bin(B)\n",
        "    i = 1\n",
        "    n = len(b)-3\n",
        "    X = [a]\n",
        "    for _ in range(n):\n",
        "        a = (a**2)%C\n",
        "        X.append(a)\n",
        "        i *= 2\n",
        "    sol = 1\n",
        "    for i in range(n+2,1,-1):\n",
        "        if b[i] == '1':\n",
        "            sol *= X[n+2-i]\n",
        "            sol %= C\n",
        "    return sol    \n",
        "        \n",
        "A,B,C = map(int,input().split())\n",
        "\n",
        "print(find(A,B,C))"
      ],
      "metadata": {
        "id": "HBwwya3y6Eyo",
        "outputId": "aa411bf5-1f14-4141-8dc0-909bdf3d567e",
        "colab": {
          "base_uri": "https://localhost:8080/"
        }
      },
      "execution_count": 1,
      "outputs": [
        {
          "output_type": "stream",
          "name": "stdout",
          "text": [
            "10 11 12\n",
            "4\n"
          ]
        }
      ]
    },
    {
      "cell_type": "code",
      "source": [
        "def power(A,B,C):\n",
        "    if B == 1:\n",
        "        return A%C\n",
        "    elif B % 2 == 0:\n",
        "        y = power(A,B//2,C)\n",
        "        return (y*y)%C\n",
        "    else:\n",
        "        y = power(A,B//2,C)\n",
        "        return (y*y*A)%C\n",
        "                   \n",
        "A,B,C = map(int,input().split())\n",
        "\n",
        "print(power(A,B,C))"
      ],
      "metadata": {
        "colab": {
          "base_uri": "https://localhost:8080/"
        },
        "id": "9icRm4_yJtwn",
        "outputId": "64853203-e6ab-457f-a702-7c8a54f040e6"
      },
      "execution_count": 2,
      "outputs": [
        {
          "output_type": "stream",
          "name": "stdout",
          "text": [
            "10 11 12\n",
            "4\n"
          ]
        }
      ]
    }
  ],
  "metadata": {
    "colab": {
      "name": "1629(곱셈).ipynb",
      "provenance": [],
      "collapsed_sections": [],
      "authorship_tag": "ABX9TyOL++yTsBOupjA9WGZHgFWF",
      "include_colab_link": true
    },
    "kernelspec": {
      "display_name": "Python 3",
      "name": "python3"
    },
    "language_info": {
      "name": "python"
    }
  },
  "nbformat": 4,
  "nbformat_minor": 0
}