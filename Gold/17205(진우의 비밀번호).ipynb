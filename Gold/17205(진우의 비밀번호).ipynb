{
  "nbformat": 4,
  "nbformat_minor": 0,
  "metadata": {
    "colab": {
      "provenance": [],
      "authorship_tag": "ABX9TyMWFI93TZtaRJk64+kadMHk",
      "include_colab_link": true
    },
    "kernelspec": {
      "name": "python3",
      "display_name": "Python 3"
    },
    "language_info": {
      "name": "python"
    }
  },
  "cells": [
    {
      "cell_type": "markdown",
      "metadata": {
        "id": "view-in-github",
        "colab_type": "text"
      },
      "source": [
        "<a href=\"https://colab.research.google.com/github/Dabin-Park/BaekJoon/blob/main/Gold/17205(%EC%A7%84%EC%9A%B0%EC%9D%98%20%EB%B9%84%EB%B0%80%EB%B2%88%ED%98%B8).ipynb\" target=\"_parent\"><img src=\"https://colab.research.google.com/assets/colab-badge.svg\" alt=\"Open In Colab\"/></a>"
      ]
    },
    {
      "cell_type": "code",
      "source": [
        "def cal(n, N):\n",
        "    return (((26**n)-1)//25)*(N-1)+1\n",
        "\n",
        "def sol():\n",
        "    N = int(input())\n",
        "    S = list(input().strip())\n",
        "\n",
        "    ans = cal(N, ord(S[0])%96)\n",
        "    for i in S[1:]:\n",
        "        N -=1\n",
        "        ans += cal(N, ord(i)%96)\n",
        "    return ans\n",
        "print(sol())"
      ],
      "metadata": {
        "colab": {
          "base_uri": "https://localhost:8080/"
        },
        "id": "yddJQ_ep_kej",
        "outputId": "d7e3b107-b7ba-4cf4-cc7e-d809ff1f9e24"
      },
      "execution_count": 2,
      "outputs": [
        {
          "output_type": "stream",
          "name": "stdout",
          "text": [
            "3\n",
            "ba\n",
            "705\n"
          ]
        }
      ]
    }
  ]
}