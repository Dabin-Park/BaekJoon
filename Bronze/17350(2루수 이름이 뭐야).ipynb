{
  "nbformat": 4,
  "nbformat_minor": 0,
  "metadata": {
    "colab": {
      "provenance": [],
      "authorship_tag": "ABX9TyO8CLslODl1DI3BQ2CMpkuN",
      "include_colab_link": true
    },
    "kernelspec": {
      "name": "python3",
      "display_name": "Python 3"
    },
    "language_info": {
      "name": "python"
    }
  },
  "cells": [
    {
      "cell_type": "markdown",
      "metadata": {
        "id": "view-in-github",
        "colab_type": "text"
      },
      "source": [
        "<a href=\"https://colab.research.google.com/github/Dabin-Park/BaekJoon/blob/main/Bronze/17350(2%EB%A3%A8%EC%88%98%20%EC%9D%B4%EB%A6%84%EC%9D%B4%20%EB%AD%90%EC%95%BC).ipynb\" target=\"_parent\"><img src=\"https://colab.research.google.com/assets/colab-badge.svg\" alt=\"Open In Colab\"/></a>"
      ]
    },
    {
      "cell_type": "code",
      "source": [
        "def sol(N):\n",
        "    anj = {\"anj\":0}\n",
        "    Sol = \"뭐야?\"\n",
        "    for _ in range(N):\n",
        "        if input().rstrip() in anj:\n",
        "            Sol = \"뭐야;\"\n",
        "    return  Sol\n",
        "\n",
        "print(sol(int(input())))"
      ],
      "metadata": {
        "colab": {
          "base_uri": "https://localhost:8080/"
        },
        "id": "hP4gfGRVQYlr",
        "outputId": "c4db8d08-e76b-4a92-c184-0ff02da024fc"
      },
      "execution_count": 1,
      "outputs": [
        {
          "output_type": "stream",
          "name": "stdout",
          "text": [
            "3\n",
            "snrn\n",
            "anj\n",
            "ahffk\n",
            "뭐야;\n"
          ]
        }
      ]
    }
  ]
}