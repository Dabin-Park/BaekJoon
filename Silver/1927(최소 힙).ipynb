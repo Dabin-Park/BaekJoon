{
  "nbformat": 4,
  "nbformat_minor": 0,
  "metadata": {
    "colab": {
      "name": "1927(최소 힙).ipynb",
      "provenance": [],
      "authorship_tag": "ABX9TyM8CAJEKGItryP+20tYwLyf",
      "include_colab_link": true
    },
    "kernelspec": {
      "name": "python3",
      "display_name": "Python 3"
    },
    "language_info": {
      "name": "python"
    }
  },
  "cells": [
    {
      "cell_type": "markdown",
      "metadata": {
        "id": "view-in-github",
        "colab_type": "text"
      },
      "source": [
        "<a href=\"https://colab.research.google.com/github/Dabin-Park/BaekJoon/blob/main/Silver/1927(%EC%B5%9C%EC%86%8C%20%ED%9E%99).ipynb\" target=\"_parent\"><img src=\"https://colab.research.google.com/assets/colab-badge.svg\" alt=\"Open In Colab\"/></a>"
      ]
    },
    {
      "cell_type": "code",
      "source": [
        "import heapq\n",
        "\n",
        "heap = []\n",
        "for _ in range(int(input())):\n",
        "    x = int(input())\n",
        "    if x:\n",
        "        heapq.heappush(heap,x)\n",
        "    else:\n",
        "        if heap:\n",
        "            print(heapq.heappop(heap))\n",
        "        else:\n",
        "            print(0)"
      ],
      "metadata": {
        "colab": {
          "base_uri": "https://localhost:8080/"
        },
        "id": "4NDvOBDhbpRD",
        "outputId": "0aa03c01-9855-420c-fb02-a2d632039b4d"
      },
      "execution_count": 6,
      "outputs": [
        {
          "name": "stdout",
          "output_type": "stream",
          "text": [
            "9\n",
            "0\n",
            "0\n",
            "12345678\n",
            "1\n",
            "2\n",
            "0\n",
            "1\n",
            "0\n",
            "2\n",
            "0\n",
            "12345678\n",
            "0\n",
            "0\n",
            "32\n"
          ]
        }
      ]
    }
  ]
}