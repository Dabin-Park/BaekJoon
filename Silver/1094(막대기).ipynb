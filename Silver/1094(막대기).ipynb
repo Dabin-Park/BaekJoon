{
  "cells": [
    {
      "cell_type": "markdown",
      "metadata": {
        "id": "view-in-github",
        "colab_type": "text"
      },
      "source": [
        "<a href=\"https://colab.research.google.com/github/Dabin-Park/BaekJoon/blob/main/Silver/1094(%EB%A7%89%EB%8C%80%EA%B8%B0).ipynb\" target=\"_parent\"><img src=\"https://colab.research.google.com/assets/colab-badge.svg\" alt=\"Open In Colab\"/></a>"
      ]
    },
    {
      "cell_type": "code",
      "source": [
        "X = int(input())\n",
        "\n",
        "A = [2**(6-i) for i in range(7)]\n",
        "n = 0\n",
        "\n",
        "for a in A:\n",
        "    if X >= a:\n",
        "        X -= a\n",
        "        n += 1\n",
        "    if X == 0:\n",
        "        break\n",
        "        \n",
        "print(n)"
      ],
      "metadata": {
        "id": "HBwwya3y6Eyo",
        "outputId": "dd79d384-438f-4e09-bc36-c7791a8d80b8",
        "colab": {
          "base_uri": "https://localhost:8080/"
        }
      },
      "execution_count": 1,
      "outputs": [
        {
          "output_type": "stream",
          "name": "stdout",
          "text": [
            "48 \n",
            "2\n"
          ]
        }
      ]
    }
  ],
  "metadata": {
    "colab": {
      "name": "1094(막대기).ipynb",
      "provenance": [],
      "collapsed_sections": [],
      "authorship_tag": "ABX9TyMYbCaZ4Snar+14jbsOvhws",
      "include_colab_link": true
    },
    "kernelspec": {
      "display_name": "Python 3",
      "name": "python3"
    },
    "language_info": {
      "name": "python"
    }
  },
  "nbformat": 4,
  "nbformat_minor": 0
}