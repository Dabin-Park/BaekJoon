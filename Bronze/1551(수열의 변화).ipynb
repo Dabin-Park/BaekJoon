{
  "nbformat": 4,
  "nbformat_minor": 0,
  "metadata": {
    "colab": {
      "provenance": [],
      "authorship_tag": "ABX9TyMg2zvmy+2TdCr/1L1ocXHu",
      "include_colab_link": true
    },
    "kernelspec": {
      "name": "python3",
      "display_name": "Python 3"
    },
    "language_info": {
      "name": "python"
    }
  },
  "cells": [
    {
      "cell_type": "markdown",
      "metadata": {
        "id": "view-in-github",
        "colab_type": "text"
      },
      "source": [
        "<a href=\"https://colab.research.google.com/github/Dabin-Park/BaekJoon/blob/main/Bronze/1551(%EC%88%98%EC%97%B4%EC%9D%98%20%EB%B3%80%ED%99%94).ipynb\" target=\"_parent\"><img src=\"https://colab.research.google.com/assets/colab-badge.svg\" alt=\"Open In Colab\"/></a>"
      ]
    },
    {
      "cell_type": "code",
      "source": [
        "def sol():\n",
        "    N,K = map(int,input().split())\n",
        "    A = list(map(int,input().split(\",\")))\n",
        "    i = 0\n",
        "    for i in range(1,K+1):\n",
        "        B = [0]*(N-i)\n",
        "        for j in range(N-i):\n",
        "            B[j] = A[j+1] - A[j]\n",
        "        A = B\n",
        "\n",
        "    for k in range(N-i-1):\n",
        "        print(A[k], end = \",\")\n",
        "    print(A[N-i-1])\n",
        "\n",
        "sol()"
      ],
      "metadata": {
        "colab": {
          "base_uri": "https://localhost:8080/"
        },
        "id": "-n7Jl3MFSbU9",
        "outputId": "d7e3f014-692c-4867-bdbb-2b69c674685e"
      },
      "execution_count": 2,
      "outputs": [
        {
          "output_type": "stream",
          "name": "stdout",
          "text": [
            "5 1\n",
            "5,6,3,9,-1\n",
            "1,-3,6,-10\n"
          ]
        }
      ]
    },
    {
      "cell_type": "code",
      "source": [
        "def sol():\n",
        "    N,K = map(int,input().split())\n",
        "    A = list(map(int,input().split(\",\")))\n",
        "    for i in range(K):\n",
        "        A = [A[j+1] - A[j] for j in range(N-i-1)]\n",
        "        \n",
        "    print(*A,sep=\",\")\n",
        "\n",
        "sol()"
      ],
      "metadata": {
        "colab": {
          "base_uri": "https://localhost:8080/"
        },
        "id": "X_j4xW9i1Vi_",
        "outputId": "fe12b862-ab7d-410e-eacf-d4b06ea0b736"
      },
      "execution_count": 3,
      "outputs": [
        {
          "output_type": "stream",
          "name": "stdout",
          "text": [
            "5 1\n",
            "5,6,3,9,-1\n",
            "1,-3,6,-10\n"
          ]
        }
      ]
    }
  ]
}