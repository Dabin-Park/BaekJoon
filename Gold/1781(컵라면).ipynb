{
  "nbformat": 4,
  "nbformat_minor": 0,
  "metadata": {
    "colab": {
      "name": "2470(두 용액).ipynb",
      "provenance": [],
      "authorship_tag": "ABX9TyN+cgXFEdRpSnCUodPC1Mas",
      "include_colab_link": true
    },
    "kernelspec": {
      "name": "python3",
      "display_name": "Python 3"
    },
    "language_info": {
      "name": "python"
    }
  },
  "cells": [
    {
      "cell_type": "markdown",
      "metadata": {
        "id": "view-in-github",
        "colab_type": "text"
      },
      "source": [
        "<a href=\"https://colab.research.google.com/github/Dabin-Park/BaekJoon/blob/main/Gold/1781(%EC%BB%B5%EB%9D%BC%EB%A9%B4).ipynb\" target=\"_parent\"><img src=\"https://colab.research.google.com/assets/colab-badge.svg\" alt=\"Open In Colab\"/></a>"
      ]
    },
    {
      "cell_type": "code",
      "source": [
        "N = int(input())\n",
        "day = [[] for _ in range(N+1)]\n",
        "for _ in range(N):\n",
        "    d, noddle = map(int,input().split())\n",
        "    day[d].append(noddle)\n",
        "    \n",
        "total = 0\n",
        "bag = []\n",
        "for i in range(N,0,-1):\n",
        "    if day[i]:\n",
        "        bag += day[i]\n",
        "        bag.sort()\n",
        "    if bag:\n",
        "        total += bag.pop()\n",
        "\n",
        "print(total)"
      ],
      "metadata": {
        "colab": {
          "base_uri": "https://localhost:8080/"
        },
        "id": "4NDvOBDhbpRD",
        "outputId": "5fb14597-0b58-45c4-ca0f-0df114c152c8"
      },
      "execution_count": null,
      "outputs": [
        {
          "output_type": "stream",
          "name": "stdout",
          "text": [
            "7\n",
            "1 6\n",
            "1 7\n",
            "3 2\n",
            "3 1\n",
            "2 4\n",
            "2 5\n",
            "6 1\n",
            "15\n"
          ]
        }
      ]
    },
    {
      "cell_type": "code",
      "source": [
        "def find(n):\n",
        "    if Day[n] != n:\n",
        "        Day[n] = find(Day[n])\n",
        "    return Day[n]\n",
        "\n",
        "N = int(input())\n",
        "Day = [i for i in range(N+1)]\n",
        "Noddles = [list(map(int,input().split())) for _ in range(N)]\n",
        "Noddles.sort(key = lambda x : (-x[1],x[0]))\n",
        "\n",
        "total = 0  \n",
        "for d,n in Noddles:\n",
        "    a = find(d)\n",
        "    if a:\n",
        "        total += n \n",
        "        Day[a] = a - 1\n",
        "        \n",
        "print(total)"
      ],
      "metadata": {
        "id": "JobFRDic8x91",
        "outputId": "4a9731fa-5c2a-4ecf-e596-2e74878024da",
        "colab": {
          "base_uri": "https://localhost:8080/"
        }
      },
      "execution_count": 1,
      "outputs": [
        {
          "output_type": "stream",
          "name": "stdout",
          "text": [
            "7\n",
            "1 6\n",
            "1 7\n",
            "3 2\n",
            "3 1\n",
            "2 4\n",
            "2 5\n",
            "6 1\n",
            "15\n"
          ]
        }
      ]
    }
  ]
}