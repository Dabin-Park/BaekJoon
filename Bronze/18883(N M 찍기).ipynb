{
  "cells": [
    {
      "cell_type": "markdown",
      "metadata": {
        "id": "view-in-github",
        "colab_type": "text"
      },
      "source": [
        "<a href=\"https://colab.research.google.com/github/Dabin-Park/BaekJoon/blob/main/Bronze/18883(N%20M%20%EC%B0%8D%EA%B8%B0).ipynb\" target=\"_parent\"><img src=\"https://colab.research.google.com/assets/colab-badge.svg\" alt=\"Open In Colab\"/></a>"
      ]
    },
    {
      "cell_type": "code",
      "source": [
        "N,M  = map(int,input().split())\n",
        "\n",
        "for j in range(N):\n",
        "    for i in range(M):\n",
        "        if i < M-1:\n",
        "            print(i+1+j*M,end=\" \")\n",
        "        else:\n",
        "            print(i+1+j*M)"
      ],
      "metadata": {
        "id": "WPo0VnuEHjys",
        "colab": {
          "base_uri": "https://localhost:8080/"
        },
        "outputId": "7f36b9d9-a86a-43ea-aa23-304e78ef8e7e"
      },
      "execution_count": 1,
      "outputs": [
        {
          "output_type": "stream",
          "name": "stdout",
          "text": [
            "3 4\n",
            "1 2 3 4\n",
            "5 6 7 8\n",
            "9 10 11 12\n"
          ]
        }
      ]
    },
    {
      "cell_type": "code",
      "source": [
        "N,M  = map(int,input().split())\n",
        "\n",
        "for j in range(N):\n",
        "    for i in range(M):\n",
        "        if i < M-1:\n",
        "            print(i+1+j*M,end=\" \")\n",
        "        else:\n",
        "            print(i+1+j*M)"
      ],
      "metadata": {
        "colab": {
          "base_uri": "https://localhost:8080/"
        },
        "id": "0q1jjbQ8kMTL",
        "outputId": "5f5482c0-ce37-47cf-967f-dfd10a162394"
      },
      "execution_count": 2,
      "outputs": [
        {
          "output_type": "stream",
          "name": "stdout",
          "text": [
            "3 4\n",
            "1 2 3 4\n",
            "5 6 7 8\n",
            "9 10 11 12\n"
          ]
        }
      ]
    },
    {
      "cell_type": "markdown",
      "source": [
        "##**윤아 코드** (훨씬 빠름)"
      ],
      "metadata": {
        "id": "o6gDe7jgmPy1"
      }
    },
    {
      "cell_type": "code",
      "source": [
        "N,M  = map(int,input().split())\n",
        "\n",
        "for i in range(N):\n",
        "    b = M*i + 1\n",
        "    k = []\n",
        "    for _ in range(M):\n",
        "        k.append(str(b))    # join() 메서드를 사용하기 위해 문자열로 append \n",
        "        b += 1\n",
        "    n = \" \".join(k)  # .join(list) : 매개변수로 들어온 ['a', 'b', 'c']를 'abc'의 문자열로 합쳐서 반환\n",
        "                     # '_'.join(list) : 'a_b_c'의 문자열로 반환 \n",
        "    print(n)            \n"
      ],
      "metadata": {
        "colab": {
          "base_uri": "https://localhost:8080/"
        },
        "id": "wl4BkaYPmU4d",
        "outputId": "d0d480f8-2b36-4099-ed93-10f7e3bdf9a1"
      },
      "execution_count": 3,
      "outputs": [
        {
          "output_type": "stream",
          "name": "stdout",
          "text": [
            "3 4\n",
            "1 2 3 4\n",
            "5 6 7 8\n",
            "9 10 11 12\n"
          ]
        }
      ]
    }
  ],
  "metadata": {
    "colab": {
      "name": "18883(N M 찍기).ipynb",
      "provenance": [],
      "collapsed_sections": [],
      "authorship_tag": "ABX9TyPOIxYuMI/xnQ2ZTtBXy7On",
      "include_colab_link": true
    },
    "kernelspec": {
      "display_name": "Python 3",
      "name": "python3"
    },
    "language_info": {
      "name": "python"
    }
  },
  "nbformat": 4,
  "nbformat_minor": 0
}