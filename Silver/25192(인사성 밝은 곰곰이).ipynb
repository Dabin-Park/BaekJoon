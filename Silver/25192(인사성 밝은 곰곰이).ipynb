{
  "nbformat": 4,
  "nbformat_minor": 0,
  "metadata": {
    "colab": {
      "provenance": [],
      "authorship_tag": "ABX9TyPqUNarc+OTRKYmTo4vKKef",
      "include_colab_link": true
    },
    "kernelspec": {
      "name": "python3",
      "display_name": "Python 3"
    },
    "language_info": {
      "name": "python"
    }
  },
  "cells": [
    {
      "cell_type": "markdown",
      "metadata": {
        "id": "view-in-github",
        "colab_type": "text"
      },
      "source": [
        "<a href=\"https://colab.research.google.com/github/Dabin-Park/BaekJoon/blob/main/Silver/25192(%EC%9D%B8%EC%82%AC%EC%84%B1%20%EB%B0%9D%EC%9D%80%20%EA%B3%B0%EA%B3%B0%EC%9D%B4).ipynb\" target=\"_parent\"><img src=\"https://colab.research.google.com/assets/colab-badge.svg\" alt=\"Open In Colab\"/></a>"
      ]
    },
    {
      "cell_type": "code",
      "source": [
        "def sol(En,Num,result):\n",
        "    for _ in range(int(input())):\n",
        "        n = input().rstrip()\n",
        "        if n in En:\n",
        "            result += len(Num)\n",
        "            Num = set()\n",
        "        else:\n",
        "            Num.add(n)\n",
        "    return result + len(Num)\n",
        "\n",
        "print(sol(set([\"ENTER\"]),set(),0))"
      ],
      "metadata": {
        "colab": {
          "base_uri": "https://localhost:8080/"
        },
        "id": "GksKdUFn3Mzd",
        "outputId": "3595bc2e-597c-41fa-dcc6-45fb5b366497"
      },
      "execution_count": 1,
      "outputs": [
        {
          "output_type": "stream",
          "name": "stdout",
          "text": [
            "9\n",
            "ENTER\n",
            "pjshwa\n",
            "chansol\n",
            "chogahui05\n",
            "lms0806 \n",
            "pichulia \n",
            "r4pidstart \n",
            "swoon \n",
            "tony9402\n",
            "8\n"
          ]
        }
      ]
    }
  ]
}