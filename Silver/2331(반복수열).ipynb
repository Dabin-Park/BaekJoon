{
  "cells": [
    {
      "cell_type": "markdown",
      "metadata": {
        "id": "view-in-github",
        "colab_type": "text"
      },
      "source": [
        "<a href=\"https://colab.research.google.com/github/Dabin-Park/BaekJoon/blob/main/Silver/2331(%EB%B0%98%EB%B3%B5%EC%88%98%EC%97%B4).ipynb\" target=\"_parent\"><img src=\"https://colab.research.google.com/assets/colab-badge.svg\" alt=\"Open In Colab\"/></a>"
      ]
    },
    {
      "cell_type": "code",
      "source": [
        "def cal(A,P):\n",
        "    s = str(A)\n",
        "    sum = 0 \n",
        "    for i in s:\n",
        "        sum += int(i)**P\n",
        "    return sum\n",
        "\n",
        "A,P = map(int,input().split())\n",
        "\n",
        "a = [A]\n",
        "i = 0\n",
        "\n",
        "while True:\n",
        "    n = cal(a[i],P)\n",
        "    if  n in a:\n",
        "        ind = a.index(n)\n",
        "        print(ind)\n",
        "        break\n",
        "    else:\n",
        "        a.append(cal(a[i],P))        \n",
        "        i += 1"
      ],
      "metadata": {
        "id": "WPo0VnuEHjys",
        "colab": {
          "base_uri": "https://localhost:8080/"
        },
        "outputId": "47e16448-4301-481d-9640-8c4e796b380a"
      },
      "execution_count": 5,
      "outputs": [
        {
          "output_type": "stream",
          "name": "stdout",
          "text": [
            "57 2\n",
            "4\n"
          ]
        }
      ]
    },
    {
      "cell_type": "markdown",
      "source": [
        "아래와 같이 하면 시간 초과"
      ],
      "metadata": {
        "id": "pTJwjY-IMdoy"
      }
    },
    {
      "cell_type": "code",
      "source": [
        "def cal(A,P):\n",
        "    a = A//1000\n",
        "    a1 = A-a*1000\n",
        "    b = a1//100\n",
        "    b1 = a1-b*100\n",
        "    c = b1//10\n",
        "    d = b1-c*10\n",
        "    return int(a**P + b**P + c**P + d**P)\n",
        "\n",
        "A,P = list(map(int,input().split()))\n",
        "\n",
        "a = [A]\n",
        "i = 0\n",
        "\n",
        "while True:\n",
        "    n = cal(a[i],P)\n",
        "    if  n in a:\n",
        "        ind = a.index(n)\n",
        "        print(ind)\n",
        "        break\n",
        "    else:\n",
        "        a.append(cal(a[i],P))        \n",
        "        i += 1"
      ],
      "metadata": {
        "colab": {
          "base_uri": "https://localhost:8080/"
        },
        "id": "FEelq5wqMbFj",
        "outputId": "416905d6-3720-49cb-9df1-f12405d5b11b"
      },
      "execution_count": 6,
      "outputs": [
        {
          "output_type": "stream",
          "name": "stdout",
          "text": [
            "57 2\n",
            "4\n"
          ]
        }
      ]
    }
  ],
  "metadata": {
    "colab": {
      "name": "2331(반복수열).ipynb",
      "provenance": [],
      "authorship_tag": "ABX9TyNRBoNaHIdFs6nbE2Vj2nWi",
      "include_colab_link": true
    },
    "kernelspec": {
      "display_name": "Python 3",
      "name": "python3"
    },
    "language_info": {
      "name": "python"
    }
  },
  "nbformat": 4,
  "nbformat_minor": 0
}