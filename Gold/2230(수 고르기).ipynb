{
  "nbformat": 4,
  "nbformat_minor": 0,
  "metadata": {
    "colab": {
      "name": "2230(수 고르기).ipynb",
      "provenance": [],
      "authorship_tag": "ABX9TyOUOkakzb5yBBJqNHQJE03A",
      "include_colab_link": true
    },
    "kernelspec": {
      "name": "python3",
      "display_name": "Python 3"
    },
    "language_info": {
      "name": "python"
    }
  },
  "cells": [
    {
      "cell_type": "markdown",
      "metadata": {
        "id": "view-in-github",
        "colab_type": "text"
      },
      "source": [
        "<a href=\"https://colab.research.google.com/github/Dabin-Park/BaekJoon/blob/main/Gold/2230(%EC%88%98%20%EA%B3%A0%EB%A5%B4%EA%B8%B0).ipynb\" target=\"_parent\"><img src=\"https://colab.research.google.com/assets/colab-badge.svg\" alt=\"Open In Colab\"/></a>"
      ]
    },
    {
      "cell_type": "code",
      "execution_count": 1,
      "metadata": {
        "colab": {
          "base_uri": "https://localhost:8080/"
        },
        "id": "dT6CvtQPNnKQ",
        "outputId": "c514e7bb-2154-4339-bc5e-a440d0fce1b2"
      },
      "outputs": [
        {
          "output_type": "stream",
          "name": "stdout",
          "text": [
            "3 3\n",
            "1\n",
            "5\n",
            "3\n",
            "4\n"
          ]
        }
      ],
      "source": [
        "N,M = map(int,input().split())\n",
        "Numbers = [int(input()) for _ in range(N)]\n",
        "Numbers.sort()\n",
        "start,end = 0,0\n",
        "m = 2000000000\n",
        "diff = 0\n",
        "while start <= end:\n",
        "    if diff == M:\n",
        "        m = M \n",
        "        break\n",
        "    elif diff < M:\n",
        "        if end == N-1:\n",
        "            break\n",
        "        end += 1\n",
        "    else:\n",
        "        m = min(m,diff)\n",
        "        start +=1\n",
        "        \n",
        "    diff = Numbers[end] - Numbers[start]\n",
        "        \n",
        "print(m)"
      ]
    }
  ]
}